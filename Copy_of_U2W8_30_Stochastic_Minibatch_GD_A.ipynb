{
  "nbformat": 4,
  "nbformat_minor": 0,
  "metadata": {
    "colab": {
      "provenance": [],
      "include_colab_link": true
    },
    "language_info": {
      "codemirror_mode": {
        "name": "ipython",
        "version": 3
      },
      "file_extension": ".py",
      "mimetype": "text/x-python",
      "name": "python",
      "nbconvert_exporter": "python",
      "pygments_lexer": "ipython3",
      "version": "3.5.0"
    },
    "kernelspec": {
      "display_name": "Python 3",
      "language": "python",
      "name": "python3"
    }
  },
  "cells": [
    {
      "cell_type": "markdown",
      "metadata": {
        "id": "view-in-github",
        "colab_type": "text"
      },
      "source": [
        "<a href=\"https://colab.research.google.com/github/darkwingpatil/Ml_hackethons/blob/main/Copy_of_U2W8_30_Stochastic_Minibatch_GD_A.ipynb\" target=\"_parent\"><img src=\"https://colab.research.google.com/assets/colab-badge.svg\" alt=\"Open In Colab\"/></a>"
      ]
    },
    {
      "cell_type": "markdown",
      "metadata": {
        "id": "UERx5ALuTJW_"
      },
      "source": [
        "# Advanced Certification in AIML\n",
        "## A Program by IIIT-H and TalentSprint"
      ]
    },
    {
      "cell_type": "markdown",
      "metadata": {
        "id": "aE5xNmtpBcT4"
      },
      "source": [
        "## Learning Objective:"
      ]
    },
    {
      "cell_type": "markdown",
      "metadata": {
        "id": "K_UItlExBcPR"
      },
      "source": [
        "   \n",
        "  At the end of the experiment, you will be able to :\n",
        "    \n",
        "  * Understand various types of gradient descent approaches (Stochastic, Mini-Batch Gradient Descent) and their differences.\n"
      ]
    },
    {
      "cell_type": "code",
      "metadata": {
        "id": "lo6h67YIkEKp",
        "cellView": "form",
        "colab": {
          "base_uri": "https://localhost:8080/",
          "height": 501
        },
        "outputId": "303bb864-76f7-4ffc-b751-9d183d8dbe69"
      },
      "source": [
        "#@title Experiment Walkthrough Video\n",
        "from IPython.display import HTML\n",
        "HTML(\"\"\"<video width='854' height='480' controls>\n",
        "<source src=\"https://cdn.talentsprint.com/aiml/AIML_BATCH_HYD_7/Week_1/stochastic_minibatch_gradient_descent_2.mp4\" type='video/mp4'>\n",
        "</video>\"\"\")"
      ],
      "execution_count": 1,
      "outputs": [
        {
          "output_type": "execute_result",
          "data": {
            "text/plain": [
              "<IPython.core.display.HTML object>"
            ],
            "text/html": [
              "<video width='854' height='480' controls>\n",
              "<source src=\"https://cdn.talentsprint.com/aiml/AIML_BATCH_HYD_7/Week_1/stochastic_minibatch_gradient_descent_2.mp4\" type='video/mp4'>\n",
              "</video>"
            ]
          },
          "metadata": {},
          "execution_count": 1
        }
      ]
    },
    {
      "cell_type": "markdown",
      "metadata": {
        "id": "2U7msw6GTJXB"
      },
      "source": [
        "## Dataset"
      ]
    },
    {
      "cell_type": "markdown",
      "metadata": {
        "id": "PBplK_Hbw_EN"
      },
      "source": [
        "### Description"
      ]
    },
    {
      "cell_type": "markdown",
      "metadata": {
        "id": "WwVmnTLdci4T"
      },
      "source": [
        "\n",
        "The dataset consists of two columns and 90 rows. Each column represents a characteristic of a simple pendulum i.e l (length) and t (time period). The dataset describes the relationship between the l and t which is  $l∝t^2$ .\n"
      ]
    },
    {
      "cell_type": "markdown",
      "metadata": {
        "id": "Z8WpDaz2CukI"
      },
      "source": [
        "##AI/ML Technique"
      ]
    },
    {
      "cell_type": "markdown",
      "metadata": {
        "id": "T_BF6jtlco47"
      },
      "source": [
        "#### Gradient Descent\n",
        "\n",
        "Gradient Descent is used while training a machine learning model. It is an optimization algorithm, based on  first order gradients, that tweaks it’s parameters iteratively to minimize a given function to its local minimum and global minima if the function is convex\n"
      ]
    },
    {
      "cell_type": "markdown",
      "metadata": {
        "id": "qUmaxUW-rpxU"
      },
      "source": [
        "### Setup Steps:"
      ]
    },
    {
      "cell_type": "code",
      "metadata": {
        "id": "XcrXxhfmrpxg"
      },
      "source": [
        "#@title Please enter your registration id to start: { run: \"auto\", display-mode: \"form\" }\n",
        "Id = \"2304145\" #@param {type:\"string\"}"
      ],
      "execution_count": 2,
      "outputs": []
    },
    {
      "cell_type": "code",
      "metadata": {
        "id": "iDAfm706rpxg"
      },
      "source": [
        "#@title Please enter your password (normally your phone number) to continue: { run: \"auto\", display-mode: \"form\" }\n",
        "password = \"7892449987\" #@param {type:\"string\"}"
      ],
      "execution_count": 3,
      "outputs": []
    },
    {
      "cell_type": "code",
      "metadata": {
        "cellView": "form",
        "id": "KvdKENTWrpxh",
        "colab": {
          "base_uri": "https://localhost:8080/",
          "height": 35
        },
        "outputId": "50dd220c-2322-4059-e41e-1cdfb66c7418"
      },
      "source": [
        "#@title Run this cell to complete the setup for this Notebook\n",
        "from IPython import get_ipython\n",
        "import re\n",
        "ipython = get_ipython()\n",
        "\n",
        "notebook= \"U2W8_30_Stochastic_Minibatch_GD_A\" #name of the notebook\n",
        "\n",
        "def setup():\n",
        "#  ipython.magic(\"sx pip3 install torch\")\n",
        "    from IPython.display import HTML, display\n",
        "    ipython.magic(\"sx wget -qq https://cdn.talentsprint.com/aiml/Experiment_related_data/week1/Exp1/AIML_DS_REGR01_SIMPLEPENDULUMOSCILLATIONDATA.txt\")\n",
        "    display(HTML('<script src=\"https://dashboard.talentsprint.com/aiml/record_ip.html?traineeId={0}&recordId={1}\"></script>'.format(getId(),submission_id)))\n",
        "    print(\"Setup completed successfully\")\n",
        "    return\n",
        "\n",
        "def submit_notebook():\n",
        "    ipython.magic(\"notebook -e \"+ notebook + \".ipynb\")\n",
        "\n",
        "    import requests, json, base64, datetime\n",
        "\n",
        "    url = \"https://dashboard.talentsprint.com/xp/app/save_notebook_attempts\"\n",
        "    if not submission_id:\n",
        "      data = {\"id\" : getId(), \"notebook\" : notebook, \"mobile\" : getPassword()}\n",
        "      r = requests.post(url, data = data)\n",
        "      r = json.loads(r.text)\n",
        "\n",
        "      if r[\"status\"] == \"Success\":\n",
        "          return r[\"record_id\"]\n",
        "      elif \"err\" in r:\n",
        "        print(r[\"err\"])\n",
        "        return None\n",
        "      else:\n",
        "        print (\"Something is wrong, the notebook will not be submitted for grading\")\n",
        "        return None\n",
        "\n",
        "    elif getAnswer() and getComplexity() and getAdditional() and getConcepts() and getWalkthrough() and getComments() and getMentorSupport():\n",
        "      f = open(notebook + \".ipynb\", \"rb\")\n",
        "      file_hash = base64.b64encode(f.read())\n",
        "\n",
        "      data = {\"complexity\" : Complexity, \"additional\" :Additional,\n",
        "              \"concepts\" : Concepts, \"record_id\" : submission_id,\n",
        "              \"answer\" : Answer, \"id\" : Id, \"file_hash\" : file_hash,\n",
        "              \"notebook\" : notebook, \"feedback_walkthrough\":Walkthrough ,\n",
        "              \"feedback_experiments_input\" : Comments,\n",
        "              \"feedback_inclass_mentor\": Mentor_support}\n",
        "\n",
        "      r = requests.post(url, data = data)\n",
        "      r = json.loads(r.text)\n",
        "      if \"err\" in r:\n",
        "        print(r[\"err\"])\n",
        "        return None\n",
        "      else:\n",
        "        print(\"Your submission is successful.\")\n",
        "        print(\"Ref Id:\", submission_id)\n",
        "        print(\"Date of submission: \", r[\"date\"])\n",
        "        print(\"Time of submission: \", r[\"time\"])\n",
        "        print(\"View your submissions: https://aiml-iiith.talentsprint.com/notebook_submissions\")\n",
        "        #print(\"For any queries/discrepancies, please connect with mentors through the chat icon in LMS dashboard.\")\n",
        "        return submission_id\n",
        "    else: submission_id\n",
        "\n",
        "\n",
        "def getAdditional():\n",
        "  try:\n",
        "    if not Additional:\n",
        "      raise NameError\n",
        "    else:\n",
        "      return Additional\n",
        "  except NameError:\n",
        "    print (\"Please answer Additional Question\")\n",
        "    return None\n",
        "\n",
        "def getComplexity():\n",
        "  try:\n",
        "    if not Complexity:\n",
        "      raise NameError\n",
        "    else:\n",
        "      return Complexity\n",
        "  except NameError:\n",
        "    print (\"Please answer Complexity Question\")\n",
        "    return None\n",
        "\n",
        "def getConcepts():\n",
        "  try:\n",
        "    if not Concepts:\n",
        "      raise NameError\n",
        "    else:\n",
        "      return Concepts\n",
        "  except NameError:\n",
        "    print (\"Please answer Concepts Question\")\n",
        "    return None\n",
        "\n",
        "\n",
        "def getWalkthrough():\n",
        "  try:\n",
        "    if not Walkthrough:\n",
        "      raise NameError\n",
        "    else:\n",
        "      return Walkthrough\n",
        "  except NameError:\n",
        "    print (\"Please answer Walkthrough Question\")\n",
        "    return None\n",
        "\n",
        "def getComments():\n",
        "  try:\n",
        "    if not Comments:\n",
        "      raise NameError\n",
        "    else:\n",
        "      return Comments\n",
        "  except NameError:\n",
        "    print (\"Please answer Comments Question\")\n",
        "    return None\n",
        "\n",
        "\n",
        "def getMentorSupport():\n",
        "  try:\n",
        "    if not Mentor_support:\n",
        "      raise NameError\n",
        "    else:\n",
        "      return Mentor_support\n",
        "  except NameError:\n",
        "    print (\"Please answer Mentor support Question\")\n",
        "    return None\n",
        "\n",
        "def getAnswer():\n",
        "  try:\n",
        "    if not Answer:\n",
        "      raise NameError\n",
        "    else:\n",
        "      return Answer\n",
        "  except NameError:\n",
        "    print (\"Please answer Question\")\n",
        "    return None\n",
        "\n",
        "\n",
        "def getId():\n",
        "  try:\n",
        "    return Id if Id else None\n",
        "  except NameError:\n",
        "    return None\n",
        "\n",
        "def getPassword():\n",
        "  try:\n",
        "    return password if password else None\n",
        "  except NameError:\n",
        "    return None\n",
        "\n",
        "submission_id = None\n",
        "### Setup\n",
        "if getPassword() and getId():\n",
        "  submission_id = submit_notebook()\n",
        "  if submission_id:\n",
        "    setup()\n",
        "else:\n",
        "  print (\"Please complete Id and Password cells before running setup\")\n",
        "\n"
      ],
      "execution_count": 4,
      "outputs": [
        {
          "output_type": "display_data",
          "data": {
            "text/plain": [
              "<IPython.core.display.HTML object>"
            ],
            "text/html": [
              "<script src=\"https://dashboard.talentsprint.com/aiml/record_ip.html?traineeId=2304145&recordId=4672\"></script>"
            ]
          },
          "metadata": {}
        },
        {
          "output_type": "stream",
          "name": "stdout",
          "text": [
            "Setup completed successfully\n"
          ]
        }
      ]
    },
    {
      "cell_type": "markdown",
      "metadata": {
        "id": "RBZGffRjEgLC"
      },
      "source": [
        "## Import the required Packages"
      ]
    },
    {
      "cell_type": "code",
      "metadata": {
        "id": "sRjAjk1hTJXM"
      },
      "source": [
        "import pandas as pd\n",
        "import numpy as np\n",
        "from  matplotlib import pyplot as plt\n",
        "import random\n",
        "import time"
      ],
      "execution_count": 5,
      "outputs": []
    },
    {
      "cell_type": "markdown",
      "metadata": {
        "id": "GLdAeF_tTJXR"
      },
      "source": [
        "## Load the data"
      ]
    },
    {
      "cell_type": "code",
      "metadata": {
        "id": "YDNrlfakTJXS",
        "colab": {
          "base_uri": "https://localhost:8080/",
          "height": 206
        },
        "outputId": "a5f757b1-e3fb-44ec-88fe-99e96dd156d8"
      },
      "source": [
        "# Load the data by using pandas read_csv()\n",
        "data = pd.read_csv(\"AIML_DS_REGR01_SIMPLEPENDULUMOSCILLATIONDATA.txt\", sep=\" \", header=None, names=['l', 't'])\n",
        "\n",
        "# YOUR CODE HERE : Display the first 5 rows of dataframe 'data'\n",
        "\n",
        "data.head()\n",
        "# YOUR CODE HERE : Display the last 5 rows of dataframe 'data'"
      ],
      "execution_count": 6,
      "outputs": [
        {
          "output_type": "execute_result",
          "data": {
            "text/plain": [
              "      l        t\n",
              "0  0.10  0.69004\n",
              "1  0.11  0.69497\n",
              "2  0.12  0.74252\n",
              "3  0.13  0.75360\n",
              "4  0.14  0.83568"
            ],
            "text/html": [
              "\n",
              "  <div id=\"df-4a461e73-2dc9-4266-a795-fc0d4099f001\" class=\"colab-df-container\">\n",
              "    <div>\n",
              "<style scoped>\n",
              "    .dataframe tbody tr th:only-of-type {\n",
              "        vertical-align: middle;\n",
              "    }\n",
              "\n",
              "    .dataframe tbody tr th {\n",
              "        vertical-align: top;\n",
              "    }\n",
              "\n",
              "    .dataframe thead th {\n",
              "        text-align: right;\n",
              "    }\n",
              "</style>\n",
              "<table border=\"1\" class=\"dataframe\">\n",
              "  <thead>\n",
              "    <tr style=\"text-align: right;\">\n",
              "      <th></th>\n",
              "      <th>l</th>\n",
              "      <th>t</th>\n",
              "    </tr>\n",
              "  </thead>\n",
              "  <tbody>\n",
              "    <tr>\n",
              "      <th>0</th>\n",
              "      <td>0.10</td>\n",
              "      <td>0.69004</td>\n",
              "    </tr>\n",
              "    <tr>\n",
              "      <th>1</th>\n",
              "      <td>0.11</td>\n",
              "      <td>0.69497</td>\n",
              "    </tr>\n",
              "    <tr>\n",
              "      <th>2</th>\n",
              "      <td>0.12</td>\n",
              "      <td>0.74252</td>\n",
              "    </tr>\n",
              "    <tr>\n",
              "      <th>3</th>\n",
              "      <td>0.13</td>\n",
              "      <td>0.75360</td>\n",
              "    </tr>\n",
              "    <tr>\n",
              "      <th>4</th>\n",
              "      <td>0.14</td>\n",
              "      <td>0.83568</td>\n",
              "    </tr>\n",
              "  </tbody>\n",
              "</table>\n",
              "</div>\n",
              "    <div class=\"colab-df-buttons\">\n",
              "\n",
              "  <div class=\"colab-df-container\">\n",
              "    <button class=\"colab-df-convert\" onclick=\"convertToInteractive('df-4a461e73-2dc9-4266-a795-fc0d4099f001')\"\n",
              "            title=\"Convert this dataframe to an interactive table.\"\n",
              "            style=\"display:none;\">\n",
              "\n",
              "  <svg xmlns=\"http://www.w3.org/2000/svg\" height=\"24px\" viewBox=\"0 -960 960 960\">\n",
              "    <path d=\"M120-120v-720h720v720H120Zm60-500h600v-160H180v160Zm220 220h160v-160H400v160Zm0 220h160v-160H400v160ZM180-400h160v-160H180v160Zm440 0h160v-160H620v160ZM180-180h160v-160H180v160Zm440 0h160v-160H620v160Z\"/>\n",
              "  </svg>\n",
              "    </button>\n",
              "\n",
              "  <style>\n",
              "    .colab-df-container {\n",
              "      display:flex;\n",
              "      gap: 12px;\n",
              "    }\n",
              "\n",
              "    .colab-df-convert {\n",
              "      background-color: #E8F0FE;\n",
              "      border: none;\n",
              "      border-radius: 50%;\n",
              "      cursor: pointer;\n",
              "      display: none;\n",
              "      fill: #1967D2;\n",
              "      height: 32px;\n",
              "      padding: 0 0 0 0;\n",
              "      width: 32px;\n",
              "    }\n",
              "\n",
              "    .colab-df-convert:hover {\n",
              "      background-color: #E2EBFA;\n",
              "      box-shadow: 0px 1px 2px rgba(60, 64, 67, 0.3), 0px 1px 3px 1px rgba(60, 64, 67, 0.15);\n",
              "      fill: #174EA6;\n",
              "    }\n",
              "\n",
              "    .colab-df-buttons div {\n",
              "      margin-bottom: 4px;\n",
              "    }\n",
              "\n",
              "    [theme=dark] .colab-df-convert {\n",
              "      background-color: #3B4455;\n",
              "      fill: #D2E3FC;\n",
              "    }\n",
              "\n",
              "    [theme=dark] .colab-df-convert:hover {\n",
              "      background-color: #434B5C;\n",
              "      box-shadow: 0px 1px 3px 1px rgba(0, 0, 0, 0.15);\n",
              "      filter: drop-shadow(0px 1px 2px rgba(0, 0, 0, 0.3));\n",
              "      fill: #FFFFFF;\n",
              "    }\n",
              "  </style>\n",
              "\n",
              "    <script>\n",
              "      const buttonEl =\n",
              "        document.querySelector('#df-4a461e73-2dc9-4266-a795-fc0d4099f001 button.colab-df-convert');\n",
              "      buttonEl.style.display =\n",
              "        google.colab.kernel.accessAllowed ? 'block' : 'none';\n",
              "\n",
              "      async function convertToInteractive(key) {\n",
              "        const element = document.querySelector('#df-4a461e73-2dc9-4266-a795-fc0d4099f001');\n",
              "        const dataTable =\n",
              "          await google.colab.kernel.invokeFunction('convertToInteractive',\n",
              "                                                    [key], {});\n",
              "        if (!dataTable) return;\n",
              "\n",
              "        const docLinkHtml = 'Like what you see? Visit the ' +\n",
              "          '<a target=\"_blank\" href=https://colab.research.google.com/notebooks/data_table.ipynb>data table notebook</a>'\n",
              "          + ' to learn more about interactive tables.';\n",
              "        element.innerHTML = '';\n",
              "        dataTable['output_type'] = 'display_data';\n",
              "        await google.colab.output.renderOutput(dataTable, element);\n",
              "        const docLink = document.createElement('div');\n",
              "        docLink.innerHTML = docLinkHtml;\n",
              "        element.appendChild(docLink);\n",
              "      }\n",
              "    </script>\n",
              "  </div>\n",
              "\n",
              "\n",
              "<div id=\"df-efb84c40-f48b-4db9-9672-cc9c68bf5334\">\n",
              "  <button class=\"colab-df-quickchart\" onclick=\"quickchart('df-efb84c40-f48b-4db9-9672-cc9c68bf5334')\"\n",
              "            title=\"Suggest charts\"\n",
              "            style=\"display:none;\">\n",
              "\n",
              "<svg xmlns=\"http://www.w3.org/2000/svg\" height=\"24px\"viewBox=\"0 0 24 24\"\n",
              "     width=\"24px\">\n",
              "    <g>\n",
              "        <path d=\"M19 3H5c-1.1 0-2 .9-2 2v14c0 1.1.9 2 2 2h14c1.1 0 2-.9 2-2V5c0-1.1-.9-2-2-2zM9 17H7v-7h2v7zm4 0h-2V7h2v10zm4 0h-2v-4h2v4z\"/>\n",
              "    </g>\n",
              "</svg>\n",
              "  </button>\n",
              "\n",
              "<style>\n",
              "  .colab-df-quickchart {\n",
              "      --bg-color: #E8F0FE;\n",
              "      --fill-color: #1967D2;\n",
              "      --hover-bg-color: #E2EBFA;\n",
              "      --hover-fill-color: #174EA6;\n",
              "      --disabled-fill-color: #AAA;\n",
              "      --disabled-bg-color: #DDD;\n",
              "  }\n",
              "\n",
              "  [theme=dark] .colab-df-quickchart {\n",
              "      --bg-color: #3B4455;\n",
              "      --fill-color: #D2E3FC;\n",
              "      --hover-bg-color: #434B5C;\n",
              "      --hover-fill-color: #FFFFFF;\n",
              "      --disabled-bg-color: #3B4455;\n",
              "      --disabled-fill-color: #666;\n",
              "  }\n",
              "\n",
              "  .colab-df-quickchart {\n",
              "    background-color: var(--bg-color);\n",
              "    border: none;\n",
              "    border-radius: 50%;\n",
              "    cursor: pointer;\n",
              "    display: none;\n",
              "    fill: var(--fill-color);\n",
              "    height: 32px;\n",
              "    padding: 0;\n",
              "    width: 32px;\n",
              "  }\n",
              "\n",
              "  .colab-df-quickchart:hover {\n",
              "    background-color: var(--hover-bg-color);\n",
              "    box-shadow: 0 1px 2px rgba(60, 64, 67, 0.3), 0 1px 3px 1px rgba(60, 64, 67, 0.15);\n",
              "    fill: var(--button-hover-fill-color);\n",
              "  }\n",
              "\n",
              "  .colab-df-quickchart-complete:disabled,\n",
              "  .colab-df-quickchart-complete:disabled:hover {\n",
              "    background-color: var(--disabled-bg-color);\n",
              "    fill: var(--disabled-fill-color);\n",
              "    box-shadow: none;\n",
              "  }\n",
              "\n",
              "  .colab-df-spinner {\n",
              "    border: 2px solid var(--fill-color);\n",
              "    border-color: transparent;\n",
              "    border-bottom-color: var(--fill-color);\n",
              "    animation:\n",
              "      spin 1s steps(1) infinite;\n",
              "  }\n",
              "\n",
              "  @keyframes spin {\n",
              "    0% {\n",
              "      border-color: transparent;\n",
              "      border-bottom-color: var(--fill-color);\n",
              "      border-left-color: var(--fill-color);\n",
              "    }\n",
              "    20% {\n",
              "      border-color: transparent;\n",
              "      border-left-color: var(--fill-color);\n",
              "      border-top-color: var(--fill-color);\n",
              "    }\n",
              "    30% {\n",
              "      border-color: transparent;\n",
              "      border-left-color: var(--fill-color);\n",
              "      border-top-color: var(--fill-color);\n",
              "      border-right-color: var(--fill-color);\n",
              "    }\n",
              "    40% {\n",
              "      border-color: transparent;\n",
              "      border-right-color: var(--fill-color);\n",
              "      border-top-color: var(--fill-color);\n",
              "    }\n",
              "    60% {\n",
              "      border-color: transparent;\n",
              "      border-right-color: var(--fill-color);\n",
              "    }\n",
              "    80% {\n",
              "      border-color: transparent;\n",
              "      border-right-color: var(--fill-color);\n",
              "      border-bottom-color: var(--fill-color);\n",
              "    }\n",
              "    90% {\n",
              "      border-color: transparent;\n",
              "      border-bottom-color: var(--fill-color);\n",
              "    }\n",
              "  }\n",
              "</style>\n",
              "\n",
              "  <script>\n",
              "    async function quickchart(key) {\n",
              "      const quickchartButtonEl =\n",
              "        document.querySelector('#' + key + ' button');\n",
              "      quickchartButtonEl.disabled = true;  // To prevent multiple clicks.\n",
              "      quickchartButtonEl.classList.add('colab-df-spinner');\n",
              "      try {\n",
              "        const charts = await google.colab.kernel.invokeFunction(\n",
              "            'suggestCharts', [key], {});\n",
              "      } catch (error) {\n",
              "        console.error('Error during call to suggestCharts:', error);\n",
              "      }\n",
              "      quickchartButtonEl.classList.remove('colab-df-spinner');\n",
              "      quickchartButtonEl.classList.add('colab-df-quickchart-complete');\n",
              "    }\n",
              "    (() => {\n",
              "      let quickchartButtonEl =\n",
              "        document.querySelector('#df-efb84c40-f48b-4db9-9672-cc9c68bf5334 button');\n",
              "      quickchartButtonEl.style.display =\n",
              "        google.colab.kernel.accessAllowed ? 'block' : 'none';\n",
              "    })();\n",
              "  </script>\n",
              "</div>\n",
              "\n",
              "    </div>\n",
              "  </div>\n"
            ],
            "application/vnd.google.colaboratory.intrinsic+json": {
              "type": "dataframe",
              "summary": "{\n  \"name\": \"# YOUR CODE HERE : Display the last 5 rows of dataframe 'data'\",\n  \"rows\": 5,\n  \"fields\": [\n    {\n      \"column\": \"l\",\n      \"properties\": {\n        \"dtype\": \"number\",\n        \"std\": 0.0158113883008419,\n        \"min\": 0.1,\n        \"max\": 0.14,\n        \"num_unique_values\": 5,\n        \"samples\": [\n          0.11,\n          0.14,\n          0.12\n        ],\n        \"semantic_type\": \"\",\n        \"description\": \"\"\n      }\n    },\n    {\n      \"column\": \"t\",\n      \"properties\": {\n        \"dtype\": \"number\",\n        \"std\": 0.05876470045869374,\n        \"min\": 0.69004,\n        \"max\": 0.83568,\n        \"num_unique_values\": 5,\n        \"samples\": [\n          0.69497,\n          0.83568,\n          0.74252\n        ],\n        \"semantic_type\": \"\",\n        \"description\": \"\"\n      }\n    }\n  ]\n}"
            }
          },
          "metadata": {},
          "execution_count": 6
        }
      ]
    },
    {
      "cell_type": "code",
      "metadata": {
        "id": "QTtgOro7TJXT",
        "colab": {
          "base_uri": "https://localhost:8080/"
        },
        "outputId": "a4535ddc-6ee9-4d64-8414-d3946ccf0565"
      },
      "source": [
        "# Get the length and time period values from the dataset\n",
        "l = data['l'].values\n",
        "t = data['t'].values\n",
        "# Get the square of time period\n",
        "tsq = t * t\n",
        "\n",
        "print(tsq)"
      ],
      "execution_count": 8,
      "outputs": [
        {
          "output_type": "stream",
          "name": "stdout",
          "text": [
            "[0.4761552  0.4829833  0.55133595 0.56791296 0.69836106 0.75323305\n",
            " 0.70866091 0.72895736 0.73551206 0.78127921 0.80973002 0.96896461\n",
            " 1.04939536 1.11767184 0.98162519 1.01163364 1.15068529 1.19749249\n",
            " 1.30690624 1.21992025 1.40825689 1.29618225 1.49940025 1.53908836\n",
            " 1.45709041 1.60224964 1.68870025 1.72712164 1.60351569 1.58206084\n",
            " 1.68766081 1.70511364 1.81656484 1.82412036 1.97233936 1.94546704\n",
            " 1.9044     2.096704   2.00732224 2.16648961 2.14798336 2.07331201\n",
            " 2.30250276 2.24640144 2.17592001 2.34886276 2.33998209 2.36298384\n",
            " 2.59016836 2.67387904 2.51000649 2.76989449 2.55584169 2.75062225\n",
            " 2.66244489 2.91521476 2.77355716 2.73935601 2.87777296 2.93882449\n",
            " 3.13502436 3.10534884 2.979076   3.27211921 3.20589025 3.03735184\n",
            " 3.37861161 3.30585124 3.19158225 3.23820025 3.34743616 3.46890625\n",
            " 3.46816129 3.37934689 3.45699649 3.58875136 3.84081604 3.61\n",
            " 3.70331536 3.76243609 3.779136   3.88799524 3.75700689 3.82398025\n",
            " 4.00240036 3.93665281 4.02644356 4.19963049 4.20373009 4.08605796]\n"
          ]
        }
      ]
    },
    {
      "cell_type": "markdown",
      "metadata": {
        "id": "srgyaBxoTJXW"
      },
      "source": [
        "## Stochastic gradient descent (Single sample)\n",
        "\n",
        "Instead of computing the sum of all gradients, stochastic gradient descent selects an observation uniformly at random."
      ]
    },
    {
      "cell_type": "markdown",
      "metadata": {
        "id": "zV7hm0GDdg0x"
      },
      "source": [
        " $y_i = mx_i + c$\n",
        "\n",
        "$E$ = $(y - y_i)^2$\n",
        "\n",
        "\n",
        "$\\frac{\\partial E_i }{\\partial m}$ = $ -2(y_i - (mx_i + c)) * x_i$\n",
        "\n",
        "$\\frac{\\partial E_i }{\\partial c}$ = $ -2(y_i - (mx_i + c))$\n",
        "\n",
        "And then we update the slope and bias with change in slope $\\Delta m$ and change in bias $\\Delta c$ with learning rate $eta$\n",
        "\n",
        "$m$  = $m - \\Delta m * eta$\n",
        "\n",
        "$c$  = $c - \\Delta c * eta$\n",
        "\n"
      ]
    },
    {
      "cell_type": "code",
      "metadata": {
        "id": "hUq_mCNLTJXY"
      },
      "source": [
        "\"\"\"\n",
        "The function 'next_step' updates the values of m and c and calculates error.\n",
        "The loss is minimized due to the changed values of m and c.\n",
        "The new values m, c and the minimized loss is returned.\n",
        "\"\"\"\n",
        "def next_step(x, y, m, c, eta):\n",
        "\n",
        "    # YOUR CODE HERE: To define the line equation and calculate and gradients and update the m and c and error values\n",
        "    y_pred = m * x + c\n",
        "    error = (y - y_pred) ** 2\n",
        "    delta_err = -2 * (y - y_pred) * x\n",
        "    intercept_err = -2 * (y - y_pred)\n",
        "    m = m - (delta_err * eta)\n",
        "    c = c - (intercept_err * eta)\n",
        "\n",
        "    return m, c, error\n",
        "\n",
        "\n",
        "\"\"\"\n",
        "The function below takes a random index and at that index idx, we calculate the values of m,c and error.\n",
        "We use one data point at a time x[idx],y[idx]\n",
        "Here we call the funtion 'next_step' to which we pass a data point x[idx],y[idx]\n",
        "\"\"\"\n",
        "def one_loop_random(x, y, m, c, eta):\n",
        "    # Making random idx\n",
        "    random_idx = np.arange(len(y))\n",
        "    # Training with random idx\n",
        "    for idx in random_idx:\n",
        "        m, c, e = next_step(x[idx], y[idx], m, c, eta)\n",
        "    return m,c,e\n",
        "\n",
        "\"\"\"\n",
        "The function below trains the data for 1000 iterations.\n",
        "In each iteration it calls the 'one_loop_random' function.\n",
        "\"\"\"\n",
        "def train_stochastic(x, y, m, c, eta, iterations=1000):\n",
        "    for iteration in range(iterations):\n",
        "        m, c, err = one_loop_random(x,y,m,c,eta)\n",
        "\n",
        "        # YOUR CODE HERE : Call 'one_loop_random' function defined above by passing 'x', 'y', 'm', 'c', 'eta' as it's arguments.\n",
        "    return m, c, err"
      ],
      "execution_count": 13,
      "outputs": []
    },
    {
      "cell_type": "markdown",
      "metadata": {
        "id": "HM2O8HtFTJXa"
      },
      "source": [
        "### TRAIN"
      ]
    },
    {
      "cell_type": "code",
      "metadata": {
        "id": "JlR-YQJoTJXd"
      },
      "source": [
        "# Initializing m, c\n",
        "m, c = 0, 0"
      ],
      "execution_count": 10,
      "outputs": []
    },
    {
      "cell_type": "code",
      "metadata": {
        "id": "kijRetDpTJXg"
      },
      "source": [
        "# Learning rate\n",
        "lr = 0.001"
      ],
      "execution_count": 11,
      "outputs": []
    },
    {
      "cell_type": "code",
      "metadata": {
        "id": "8FDMh5YtTJXk",
        "colab": {
          "base_uri": "https://localhost:8080/",
          "height": 627
        },
        "outputId": "1a420b04-635d-412b-eea8-6f11d6031da7"
      },
      "source": [
        "# Training for 1000 iterations, plotting after every 100 iterations:\n",
        "fig = plt.figure(figsize=(5, 5))\n",
        "ax = fig.add_subplot(111)\n",
        "\n",
        "\n",
        "for num in range(10):\n",
        "    m, c, error = train_stochastic(l,t,m,c,lr)\n",
        "     # YOUR CODE  HERE: Call the train_stochastic() method to update m and c and get error value with lr = 0.001.\n",
        "    print(\"m = {0:.6} c = {1:.6} Error = {2:.6}\".format(m, c, error))\n",
        "    y = m * l + c\n",
        "    ax.clear()\n",
        "    ax.plot(l, tsq, '.k')\n",
        "    ax.plot(l, y)\n",
        "    time.sleep(1)"
      ],
      "execution_count": 14,
      "outputs": [
        {
          "output_type": "stream",
          "name": "stdout",
          "text": [
            "m = 1.43955 c = 0.693549 Error = 0.00954391\n",
            "m = 1.43963 c = 0.693505 Error = 0.00954981\n",
            "m = 1.43963 c = 0.693505 Error = 0.00954981\n",
            "m = 1.43963 c = 0.693505 Error = 0.00954981\n",
            "m = 1.43963 c = 0.693505 Error = 0.00954981\n",
            "m = 1.43963 c = 0.693505 Error = 0.00954981\n",
            "m = 1.43963 c = 0.693505 Error = 0.00954981\n",
            "m = 1.43963 c = 0.693505 Error = 0.00954981\n",
            "m = 1.43963 c = 0.693505 Error = 0.00954981\n",
            "m = 1.43963 c = 0.693505 Error = 0.00954981\n"
          ]
        },
        {
          "output_type": "display_data",
          "data": {
            "text/plain": [
              "<Figure size 500x500 with 1 Axes>"
            ],
            "image/png": "[encoded data removed]"
          },
          "metadata": {}
        }
      ]
    },
    {
      "cell_type": "markdown",
      "metadata": {
        "id": "UwIZ7tuZTJXx"
      },
      "source": [
        "### PROBLEM\n",
        "\n",
        "Problem with Sequential/Stochastic Gradient Descent is it does not scale well - it makes the same calculation of gradient descent on each sample. So the time taken will increase linearly with the number of samples. Many datasets have samples in the range of millions. Hence, even though it gives good results, it is not ideal.\n",
        "\n",
        "We need a gradient descent formulation that gives the speed of vanilla gradient descent and the accuracy of sequential/stochastic gradient descent.\n",
        "\n",
        "Next we will see **Minibatch Gradient Descent!**"
      ]
    },
    {
      "cell_type": "markdown",
      "metadata": {
        "id": "m3S-IvdHTJXx"
      },
      "source": [
        "## Minibatch Gradient Descent"
      ]
    },
    {
      "cell_type": "markdown",
      "metadata": {
        "id": "aXU6600zJonp"
      },
      "source": [
        "In Mini-Batch Gradient Descent algorithm, rather than using  the complete data set, in every iteration we use a subset of training examples (called \"batch\") to compute the gradient of the cost function.\n",
        "\n",
        "Common mini-batch sizes range between 50 and 256, but can vary for different applications."
      ]
    },
    {
      "cell_type": "markdown",
      "metadata": {
        "id": "8IWur68qTJXz"
      },
      "source": [
        "train_one_batch() : we will be calculating the essenial parts of the Gradient Descent method:\n",
        "\n",
        "We assume there are $n$ samples in a batch $B$, for all  $i \\in B$,\n",
        "\n",
        "$y_i = mx_i + c$\n",
        "        \n",
        "$E$ =$\\frac{1}{n}$   $\\sum_{i=1}^n (y - y_i)^2$\n",
        "\n",
        "$\\frac{\\partial E }{\\partial m}$ = $\\frac{2}{n}$   $\\sum_{i=1}^n  -x_i(y - (mx_i + c))$\n",
        "\n",
        "$\\frac{\\partial E}{\\partial c}$ = $\\frac{2}{n}$   $\\sum_{i=1}^n  -(y - (mx_i + c))$\n",
        "\n",
        "And then we update the slope and bias with with change in slope $\\Delta m$ and change in bias $\\Delta c$ with learning rate $eta$\n",
        "\n",
        "$m$  = $m - \\Delta m * eta$\n",
        "\n",
        "$c$  = $c - \\Delta c * eta$"
      ]
    },
    {
      "cell_type": "markdown",
      "metadata": {
        "id": "crJQnS1eJont"
      },
      "source": [
        "train_batches() : We will be splitting our data into batches."
      ]
    },
    {
      "cell_type": "code",
      "metadata": {
        "id": "JkRMHxA2TJX0"
      },
      "source": [
        "\"\"\"\n",
        "The function 'train_one_batch' updates the values of m and c and calculates error.\n",
        "The loss is minimized due to the changed values of m and c.\n",
        "The new values m, c and the minimized loss is returned.\n",
        "\"\"\"\n",
        "def train_one_batch(x, y, m, c, eta):\n",
        "    const = - 2.0/len(y)\n",
        "    ycalc = m * x + c\n",
        "    delta_m = const * sum(x * (y - ycalc))\n",
        "    delta_c = const * sum(y - ycalc)\n",
        "    m = m - delta_m * eta\n",
        "    c = c - delta_c * eta\n",
        "    error = sum((y - ycalc)**2)/len(y)\n",
        "    return m, c, error\n",
        "\n",
        "\"\"\"\n",
        "The function below takes a batch_size and loss is calculated w.r.t batches.\n",
        "The batches are created using random index.\n",
        "The m, c and error values are calculated for each batch of data.\n",
        "So, it calls the function 'train_one_batch' by passing batch_x, batch_y for each batch.\n",
        "\"\"\"\n",
        "def train_batches(x, y, m, c, eta, batch_size):\n",
        "    # Making the batches\n",
        "    random_idx = np.arange(len(y))\n",
        "\n",
        "    # Train each batch\n",
        "    for batch in range(len(y)//batch_size):\n",
        "        batch_idx = random_idx[batch*batch_size:(batch+1)*batch_size]\n",
        "        batch_x = x[batch_idx]\n",
        "        batch_y = y[batch_idx]\n",
        "        m, c, err = train_one_batch(batch_x, batch_y, m, c, eta)\n",
        "\n",
        "    return m, c, err\n",
        "\n",
        "\"\"\"\n",
        "The function below trains the data for 1000 iterations.\n",
        "The data is traversed in batches, the batch size here is considered to be 10.\n",
        "In each iteration it calls the 'train_batches' function.\n",
        "The 'batch_size' is passed as a parameter to 'train_batches'.\n",
        "\"\"\"\n",
        "def train_minibatch(x, y, m, c, eta, batch_size, iterations=1000):\n",
        "    for iteration in range(iterations):\n",
        "        m, c, err = train_batches(x,y,m,c,eta,batch_size)\n",
        "\n",
        "         # YOUR CODE HERE : Call 'train_batches' function defined above by passing 'x', 'y', 'm', 'c', 'eta', 'batch_size' as  it's arguments.\n",
        "    return m, c, err\n"
      ],
      "execution_count": 15,
      "outputs": []
    },
    {
      "cell_type": "markdown",
      "metadata": {
        "id": "-BLipYesTJX4"
      },
      "source": [
        "#### TRAIN"
      ]
    },
    {
      "cell_type": "code",
      "metadata": {
        "id": "oAsrGHdLTJX4"
      },
      "source": [
        "# Initializing m, c\n",
        "m, c = 0, 0"
      ],
      "execution_count": 16,
      "outputs": []
    },
    {
      "cell_type": "code",
      "metadata": {
        "id": "BXm2ZSEwTJX8"
      },
      "source": [
        "# Learning rate\n",
        "lr = 0.01"
      ],
      "execution_count": 17,
      "outputs": []
    },
    {
      "cell_type": "code",
      "metadata": {
        "id": "3Y-XhUFqTJYB",
        "colab": {
          "base_uri": "https://localhost:8080/",
          "height": 627
        },
        "outputId": "deba8ee0-a057-4466-beac-9f915536a03a"
      },
      "source": [
        "# Training for 1000 iterations, plotting after every 100 iterations:\n",
        "fig = plt.figure(figsize=(5, 5))\n",
        "ax = fig.add_subplot(111)\n",
        "\n",
        "for num in range(10):\n",
        "    m, c, error = train_minibatch(l,t,m,c,lr,batch_size=10, iterations=100)\n",
        "    print(\"m = {0:.6} c = {1:.6} Error = {2:.6}\".format(m, c, error))\n",
        "    y = m * l + c\n",
        "    ax.clear()\n",
        "    ax.plot(l, tsq, '.k')\n",
        "    ax.plot(l, y)\n",
        "    time.sleep(1)"
      ],
      "execution_count": 19,
      "outputs": [
        {
          "output_type": "stream",
          "name": "stdout",
          "text": [
            "m = 1.12946 c = 0.87747 Error = 0.00277152\n",
            "m = 1.318 c = 0.765626 Error = 0.000749203\n",
            "m = 1.39187 c = 0.721803 Error = 0.00256494\n",
            "m = 1.42082 c = 0.704632 Error = 0.00367679\n",
            "m = 1.43216 c = 0.697905 Error = 0.00417391\n",
            "m = 1.4366 c = 0.695269 Error = 0.00437812\n",
            "m = 1.43834 c = 0.694236 Error = 0.00445959\n",
            "m = 1.43903 c = 0.693831 Error = 0.00449173\n",
            "m = 1.43929 c = 0.693672 Error = 0.00450436\n",
            "m = 1.4394 c = 0.69361 Error = 0.00450931\n"
          ]
        },
        {
          "output_type": "display_data",
          "data": {
            "text/plain": [
              "<Figure size 500x500 with 1 Axes>"
            ],
            "image/png": "[encoded data removed]"
          },
          "metadata": {}
        }
      ]
    },
    {
      "cell_type": "markdown",
      "metadata": {
        "id": "VHfHdGCP_n6Y"
      },
      "source": [
        "### Please answer the questions below to complete the experiment:\n",
        "\n",
        "\n"
      ]
    },
    {
      "cell_type": "code",
      "metadata": {
        "id": "kmvdJ4aNmGjR"
      },
      "source": [
        "#@title For very large datasets, which of the following gradient descent methods is recommended? { run: \"auto\", form-width: \"500px\", display-mode: \"form\" }\n",
        "Answer = \"Mini-Batch\" #@param [\"\",\"Mini-Batch\",\"Batch\"]\n"
      ],
      "execution_count": 20,
      "outputs": []
    },
    {
      "cell_type": "code",
      "metadata": {
        "id": "nmufjlR-rjv6"
      },
      "source": [
        "#@title How was the experiment? { run: \"auto\", form-width: \"500px\", display-mode: \"form\" }\n",
        "Complexity = \"Good and Challenging for me\" #@param [\"\",\"Too Simple, I am wasting time\", \"Good, But Not Challenging for me\", \"Good and Challenging for me\", \"Was Tough, but I did it\", \"Too Difficult for me\"]\n"
      ],
      "execution_count": 21,
      "outputs": []
    },
    {
      "cell_type": "code",
      "metadata": {
        "id": "MZ7vVuShrjv6"
      },
      "source": [
        "#@title If it was too easy, what more would you have liked to be added? If it was very difficult, what would you have liked to have been removed? { run: \"auto\", display-mode: \"form\" }\n",
        "Additional = \"NA\" #@param {type:\"string\"}\n"
      ],
      "execution_count": 22,
      "outputs": []
    },
    {
      "cell_type": "code",
      "metadata": {
        "id": "4VBk_4VTAxCM"
      },
      "source": [
        "#@title Can you identify the concepts from the lecture which this experiment covered? { run: \"auto\", vertical-output: true, display-mode: \"form\" }\n",
        "Concepts = \"Yes\" #@param [\"\",\"Yes\", \"No\"]\n"
      ],
      "execution_count": 23,
      "outputs": []
    },
    {
      "cell_type": "code",
      "metadata": {
        "id": "r35isHfTVGKc"
      },
      "source": [
        "#@title  Experiment walkthrough video? { run: \"auto\", vertical-output: true, display-mode: \"form\" }\n",
        "Walkthrough = \"Didn't use\" #@param [\"\",\"Very Useful\", \"Somewhat Useful\", \"Not Useful\", \"Didn't use\"]\n"
      ],
      "execution_count": 24,
      "outputs": []
    },
    {
      "cell_type": "code",
      "metadata": {
        "id": "XH91cL1JWH7m"
      },
      "source": [
        "#@title  Text and image description/explanation and code comments within the experiment: { run: \"auto\", vertical-output: true, display-mode: \"form\" }\n",
        "Comments = \"Somewhat Useful\" #@param [\"\",\"Very Useful\", \"Somewhat Useful\", \"Not Useful\", \"Didn't use\"]\n"
      ],
      "execution_count": 25,
      "outputs": []
    },
    {
      "cell_type": "code",
      "metadata": {
        "id": "z8xLqj7VWIKW"
      },
      "source": [
        "#@title Mentor Support: { run: \"auto\", vertical-output: true, display-mode: \"form\" }\n",
        "Mentor_support = \"Didn't use\" #@param [\"\",\"Very Useful\", \"Somewhat Useful\", \"Not Useful\", \"Didn't use\"]\n"
      ],
      "execution_count": 26,
      "outputs": []
    },
    {
      "cell_type": "code",
      "metadata": {
        "id": "FzAZHt1zw-Y-",
        "cellView": "form",
        "colab": {
          "base_uri": "https://localhost:8080/"
        },
        "outputId": "9edcf12b-8712-41e1-a439-a403c282e3b2"
      },
      "source": [
        "#@title Run this cell to submit your notebook for grading { vertical-output: true }\n",
        "try:\n",
        "  if submission_id:\n",
        "      return_id = submit_notebook()\n",
        "      if return_id : submission_id = return_id\n",
        "  else:\n",
        "      print(\"Please complete the setup first.\")\n",
        "except NameError:\n",
        "  print (\"Please complete the setup first.\")"
      ],
      "execution_count": 27,
      "outputs": [
        {
          "output_type": "stream",
          "name": "stdout",
          "text": [
            "Your submission is successful.\n",
            "Ref Id: 4672\n",
            "Date of submission:  14 Jul 2024\n",
            "Time of submission:  20:21:18\n",
            "View your submissions: https://aiml-iiith.talentsprint.com/notebook_submissions\n"
          ]
        }
      ]
    }
  ]
}