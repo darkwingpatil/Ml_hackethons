{
  "nbformat": 4,
  "nbformat_minor": 0,
  "metadata": {
    "colab": {
      "provenance": [],
      "include_colab_link": true
    },
    "kernelspec": {
      "display_name": "Python 3",
      "language": "python",
      "name": "python3"
    },
    "language_info": {
      "codemirror_mode": {
        "name": "ipython",
        "version": 3
      },
      "file_extension": ".py",
      "mimetype": "text/x-python",
      "name": "python",
      "nbconvert_exporter": "python",
      "pygments_lexer": "ipython3",
      "version": "3.5.0"
    }
  },
  "cells": [
    {
      "cell_type": "markdown",
      "metadata": {
        "id": "view-in-github",
        "colab_type": "text"
      },
      "source": [
        "<a href=\"https://colab.research.google.com/github/darkwingpatil/Ml_hackethons/blob/main/Darkwing_Chatbot_Hackathon.ipynb\" target=\"_parent\"><img src=\"https://colab.research.google.com/assets/colab-badge.svg\" alt=\"Open In Colab\"/></a>"
      ]
    },
    {
      "cell_type": "markdown",
      "metadata": {
        "id": "sCfzqHTCh9la"
      },
      "source": [
        "# Advanced Certification in AIML\n",
        "## A Program by IIIT-H and TalentSprint"
      ]
    },
    {
      "cell_type": "markdown",
      "metadata": {
        "id": "ZWC6jnVaPn-a"
      },
      "source": [
        "## Problem Statement"
      ]
    },
    {
      "cell_type": "markdown",
      "metadata": {
        "id": "TUMw8NlY9UAc"
      },
      "source": [
        "Build a conversational bot to interact with the user using 2 approaches (Alexa Chatbot and Python Chatbot) for the given skill and achieve desired outcomes through the conversation."
      ]
    },
    {
      "cell_type": "markdown",
      "metadata": {
        "id": "YiQpi0NQjb6T"
      },
      "source": [
        "### It is recommended to watch the chatbot code explanation video before start working on the Hackathon"
      ]
    },
    {
      "cell_type": "code",
      "metadata": {
        "id": "0IfX7sjUjheb",
        "cellView": "form",
        "colab": {
          "base_uri": "https://localhost:8080/",
          "height": 501
        },
        "outputId": "8b21b262-5af1-4f45-8e32-711d9dc9d9e0"
      },
      "source": [
        "#@title Chatbot Code Explanation Video\n",
        "from IPython.display import HTML\n",
        "\n",
        "HTML(\"\"\"<video width=\"854\" height=\"480\" controls>\n",
        "  <source src=\"https://cdn.iiith.talentsprint.com/aiml/Experiment_related_data/Walkthrough/b17_hackathon_1_chatbot_walkthrough.mp4\" type=\"video/mp4\">\n",
        "</video>\n",
        "\"\"\")"
      ],
      "execution_count": 1,
      "outputs": [
        {
          "output_type": "execute_result",
          "data": {
            "text/plain": [
              "<IPython.core.display.HTML object>"
            ],
            "text/html": [
              "<video width=\"854\" height=\"480\" controls>\n",
              "  <source src=\"https://cdn.iiith.talentsprint.com/aiml/Experiment_related_data/Walkthrough/b17_hackathon_1_chatbot_walkthrough.mp4\" type=\"video/mp4\">\n",
              "</video>\n"
            ]
          },
          "metadata": {},
          "execution_count": 1
        }
      ]
    },
    {
      "cell_type": "markdown",
      "metadata": {
        "id": "kyAh93c0gHVy"
      },
      "source": [
        "## Skill to be developed as per the intents allocation\n",
        "\n",
        "**Zodiac Sign:** The bot should give the Zodiac Sign of the user, based on the date of birth (day, month and year) provided by the user **(This intent is common for everyone)**\n",
        "\n",
        "**Suggest a Movie:** The bot should suggest a movie based on user preferences: Language, Actor, Genre and other details\n",
        "\n",
        "**Find the Restaurant:**  Find the restaurants based on Cuisine, Cost type (cheap, medium, expensive), location and other parameters\n",
        "\n",
        "**Suggest a Book:** The bot should suggest the book based on user preferences: Author, language, genre and other parameters\n",
        "\n",
        "**Recommend a Store:** The bot should search a store based on preferences: Store type (medical clinics, food store, dry cleaning and more), location, availability (Open, Close) and other parameters\n",
        "\n",
        "Teams will be creating a conversational chatbot for the intents allocated to them\n",
        "\n",
        "> Team A =\tGroup\t\t1, 5, 9, 13, 17, 21  => Suggest a Movie & Zodiac Sign\n",
        "\n",
        "> Team B =  Group   2, 6, 10, 14, 18, 22 => Find a Restaurant & Zodiac Sign\n",
        "\n",
        "> Team C =  Group   3, 7, 11, 15, 19, 23  => Suggest a Book & Zodiac Sign\n",
        "\n",
        "> Team D =  Group   4, 8, 12, 16, 20, 24 =>  Recommend a Store & Zodiac Sign"
      ]
    },
    {
      "cell_type": "markdown",
      "metadata": {
        "id": "0cbdKF1E-0lt"
      },
      "source": [
        "* For Zodiac sign Intent, all the required utterances, slots and params (JSON) files are provided for your reference. A csv file is also provided to perform the action\n",
        "\n",
        "\n",
        "* For the another allocated intent, create all the required files (utterances, slots and params) and perform the action by creating a csv file."
      ]
    },
    {
      "cell_type": "markdown",
      "metadata": {
        "id": "BNQWDhx7GGNh"
      },
      "source": [
        "# Alexa Chatbot (Total Marks = 20)"
      ]
    },
    {
      "cell_type": "markdown",
      "metadata": {
        "id": "QZ43g3WCTAQv"
      },
      "source": [
        "**Note:**\n",
        "- Complete all of the tasks mentioned below from the [link](https://developer.amazon.com/alexa/console/ask) to work on the Alexa chatbot.\n",
        "- Go through the Pre-Hackathon for Alexa ChatBot material to understand Alexa Chatbot’s code and it's architecture.\n",
        "\n",
        "### **Criteria for evaluation**\n",
        "\n",
        "**Task1 (2Marks)** - Create a skill and provide intents based on team allocation\n",
        "- **Note:** You should create multiple intents under one skill, so that you can use that skill for testing\n",
        "\n",
        "**Task2 (4Marks)** - Create at least 50 utterances for each intent\n",
        "\n",
        "**Task3 (2Marks)** - Create at least 3 slots with the slot types for each intent\n",
        "- Hint: [Slot type references](https://developer.amazon.com/en-US/docs/alexa/custom-skills/slot-type-reference.html#list-slot-types)\n",
        "\n",
        "**Task4 (4Marks)** - Create a database with all possible combinations of all attributes (can be a CSV ﬁle) along with possible outcome for each combination. This database will be used for performing an action. Minimum 10 combinations\n",
        "  - Create a CSV file for the allocated intent other than Zodiac sign\n",
        "\n",
        "**Task5 (4Marks)** - Update the lambda_function.py and requirements.txt in the Code section - Refer PRE-HACKATHON Alexa ChatBot material\n",
        "\n",
        "\n",
        "**Task6 (4Marks)** - Run and test the Alexa chatbot for both the intents with the following:\n",
        "  - Alexa Chatbot should identify the user requirement.\n",
        "  - Gather the data from user input and get the relevant output.\n",
        "  - It should prompt the user with different prompts if the required input is not fulfilled.\n",
        "  - It should shift between the intents and maintain the dialogue flow.\n"
      ]
    },
    {
      "cell_type": "markdown",
      "metadata": {
        "id": "OQ5D6hR6hiTZ"
      },
      "source": [
        "# Python Chatbot (Total Marks = 20)"
      ]
    },
    {
      "cell_type": "markdown",
      "metadata": {
        "id": "KPBwZyi1hwuF"
      },
      "source": [
        "**Note:** Complete all of the tasks mentioned below in this colab notebook to work on the Python chatbot.\n",
        "\n",
        "### **Criteria for evaluation**\n",
        "\n",
        "**Task1 (6Marks)** - Create .dat files for your intent (as the .dat files of Zodiac intent is already provided) based on the team allocation. Also, configure file in the params folder (Refer the given zodiac sign file for more information).\n",
        "\n",
        "   * Give minimum 50 utterances for each intent. Give the details in the **intent folder** -> *intent_name.dat* file. (Hint: You can use the same utterances which was created for Alexa chatbot)\n",
        "\n",
        "   * Give minimum 3 slots for each intent. Create a different *.dat* file for each slot under the **Slots folder** (Hint: You can use the same slots which was created for Alexa chatbot)\n",
        "\n",
        "   * Conﬁgure *params.cfg* ﬁle for the skill given to you under the **params folder**. Setup the intents in the same file with its required elements like Parameters, actions, etc. Refer to Zodiac Sign files for more information.\n",
        "\n",
        "**Task2 (2Marks)** - Create a database for the intent with all possible combinations of all attributes (can be a CSV ﬁle) along with possible outcome for each combination. Minimum 10 combinations. (Hint: You can use the same database which was created for Alexa chatbot)\n",
        "\n",
        "  * Create a CSV file for the allocated intent other than Zodiac sign\n",
        "\n",
        "**Task3 (5Marks)** - Text Representation and Classifications for both the intents\n",
        "\n",
        "* Create a numerical representation of the text data (utterances) by using **any one** of the following process:\n",
        "\n",
        "  - [Countvectorizer](https://scikit-learn.org/stable/modules/generated/sklearn.feature_extraction.text.CountVectorizer.html)\n",
        "\n",
        "    OR\n",
        "\n",
        "  - [TFIDFVectorizer](https://scikit-learn.org/stable/modules/generated/sklearn.feature_extraction.text.TfidfVectorizer.html)\n",
        "\n",
        "* Perform a classification using the extracted features and classify the intent.\n",
        "\n",
        "**Task4 (4Marks)** - Compare the attributes with the CSV file and get the final selection of that particular intent.\n",
        "\n",
        "* Action function for the zodiac sign is already given. Similarly create action function for your intent and give the function name as mentioned in the params.cfg file.\n",
        "\n",
        "**Task5 (3Marks)** - Run and test the Python chatbot for both the intents with the following:\n",
        "  - Python Chatbot should identify the user requirement.\n",
        "  - Gather the data from user input and get the relevant output.\n",
        "  - It should prompt the user with different prompts if the required input is not fulfilled.\n",
        "  - It should shift between the intents and maintain the dialogue flow."
      ]
    },
    {
      "cell_type": "markdown",
      "metadata": {
        "id": "48cT_Ybr818p"
      },
      "source": [
        "### Below is the code for updating the Python Chatbot"
      ]
    },
    {
      "cell_type": "code",
      "metadata": {
        "id": "G3yu1dJGBnbe",
        "cellView": "form",
        "outputId": "196a4222-2353-4d43-9f08-9f17c5f197b9",
        "colab": {
          "base_uri": "https://localhost:8080/"
        }
      },
      "source": [
        "#@title Run this cell to download the data\n",
        "!wget -qq https://cdn.iiith.talentsprint.com/aiml/Hackathon_data/Chatbot_Hackathon.zip\n",
        "!unzip -qq Chatbot_Hackathon.zip\n",
        "print(\"Data downloaded successfully\")"
      ],
      "execution_count": 1,
      "outputs": [
        {
          "output_type": "stream",
          "name": "stdout",
          "text": [
            "Data downloaded successfully\n"
          ]
        }
      ]
    },
    {
      "cell_type": "code",
      "metadata": {
        "id": "tpZ-i7ndxPzU"
      },
      "source": [
        "# Import Libraries\n",
        "import json\n",
        "import random\n",
        "import os\n",
        "import re\n",
        "import datetime\n",
        "import pandas as pd\n",
        "import numpy as np\n",
        "from sklearn.feature_extraction.text import TfidfVectorizer\n",
        "from sklearn.feature_extraction.text import CountVectorizer\n",
        "\n",
        "# Importing context and .py script files\n",
        "from Context import *\n",
        "from Intent import *"
      ],
      "execution_count": 31,
      "outputs": []
    },
    {
      "cell_type": "markdown",
      "metadata": {
        "id": "lR6rVhnwDQVd"
      },
      "source": [
        "### Chatbot Architecture"
      ]
    },
    {
      "cell_type": "markdown",
      "metadata": {
        "id": "WSwQI3v0H6kR"
      },
      "source": [
        "Defining functions for Loading Intent, Collecting params, Checking actions, Getting Attributes and Identifying Intents"
      ]
    },
    {
      "cell_type": "code",
      "metadata": {
        "id": "v9CMK_7tdbac"
      },
      "source": [
        "# def loadIntent(path, intent):\n",
        "#     with open(path) as fil:\n",
        "#         dat = json.load(fil)\n",
        "#         intent = dat[intent]\n",
        "#         return Intent(intent['intentname'],intent['Parameters'], intent['actions'])\n",
        "\n",
        "# def check_required_params(current_intent, attributes, context):\n",
        "#     '''Collects attributes pertaining to the current intent'''\n",
        "#     for para in current_intent.params:\n",
        "#         if para.required:\n",
        "#             if para.name not in attributes:\n",
        "#                 return random.choice(para.prompts), context\n",
        "#     return None, context\n",
        "\n",
        "# def check_actions(current_intent, attributes, context):\n",
        "#     '''This function performs the action for the intent as mentioned\n",
        "#     in the intent config file. Performs actions pertaining to current intent '''\n",
        "#     context = IntentComplete()\n",
        "#     if current_intent.action.endswith('()'):\n",
        "#         return eval(current_intent.action), context\n",
        "#     return current_intent.action, context\n",
        "\n",
        "def loadIntent(path, intent):\n",
        "    print(f'loadIntent Invoked with path: {path}; intent:{intent}')\n",
        "    with open(path) as fil:\n",
        "        dat = json.load(fil)\n",
        "        intent = dat[intent]\n",
        "        print(f\"Calls Intent method with intentname: {intent['intentname']}; Parameter: {intent['Parameters']}; actions: {intent['actions']} \")\n",
        "        return Intent(intent['intentname'],intent['Parameters'], intent['actions'])\n",
        "\n",
        "def check_required_params(current_intent, attributes, context):\n",
        "    '''Collects attributes pertaining to the current intent'''\n",
        "    print(f\"check_required_params invoked with intent: {current_intent}; attributes:{attributes}; context:{context}\")\n",
        "    for para in current_intent.params:\n",
        "        if para.required:\n",
        "            if para.name not in attributes:\n",
        "                print(f\"check_required_params returns prompt: {random.choice(para.prompts)}; context:{context}\")\n",
        "                return random.choice(para.prompts), context\n",
        "    print(f\"check_required_params returns prompt: None; context:{context}\")\n",
        "    return None, context\n",
        "\n",
        "def check_actions(current_intent, attributes, context):\n",
        "    '''This function performs the action for the intent as mentioned\n",
        "    in the intent config file. Performs actions pertaining to current intent '''\n",
        "\n",
        "    print(f\"Check_actions invoked with intent :{current_intent}; attributes: {attributes}; context: {context}\")\n",
        "    context = IntentComplete()\n",
        "    if current_intent.action.endswith('()'):\n",
        "        print('if current_intent.action.endswith()')\n",
        "        print(f'eval invoked with intent: {current_intent.action}; context: {context}')\n",
        "        return eval(current_intent.action), context\n",
        "    print(f'returns check_actions with intent: {current_intent.action}; context: {context}')\n",
        "    return current_intent.action, context\n",
        "\n",
        "# def getattributes(uinput,context,attributes, intent):\n",
        "#     '''This function marks the slots in user input, and updates\n",
        "#     the attributes dictionary'''\n",
        "#     uinput = \" \"+uinput.lower()+\" \"\n",
        "#     if context.name.startswith('IntentComplete'):\n",
        "#         return attributes, uinput\n",
        "#     else:\n",
        "#         files = os.listdir(path_slots)\n",
        "#         slots = {}\n",
        "#         for fil in files:\n",
        "#             if fil == \".ipynb_checkpoints\":\n",
        "#                 continue\n",
        "#             lines = open(path_slots+fil).readlines()\n",
        "#             for i, line in enumerate(lines):\n",
        "#                 line = line.strip()\n",
        "#                 if len(uinput.split(\" \"+line.lower()+\" \")) > 1:\n",
        "#                     slots[line] = fil[:-4]\n",
        "#         for value, slot in slots.items():\n",
        "#             if intent != None and slot in \" \".join([param.name for param in intent.params]):\n",
        "#                 uinput = re.sub(value,r'$'+slot,uinput,flags=re.IGNORECASE)\n",
        "#                 attributes[slot] = value\n",
        "#             else:\n",
        "#                 uinput = re.sub(value,r'$'+slot,uinput,flags=re.IGNORECASE)\n",
        "#                 attributes[slot] = value\n",
        "#         return attributes, uinput\n",
        "def getattributes(uinput,context,attributes, intent):\n",
        "    '''This function marks the slots in user input, and updates\n",
        "    the attributes dictionary'''\n",
        "\n",
        "    print(f'getattributes INVOKED input: {uinput}; context: {context}; attributes: {attributes}; intent: {intent}')\n",
        "    uinput = \" \"+uinput.lower()+\" \"\n",
        "    if context.name.startswith('IntentComplete'):\n",
        "        print(f'getattributes RETURNS context-> IntentComplete attributes: {attributes}; input: {uinput};')\n",
        "        return attributes, uinput\n",
        "    else:\n",
        "        files = os.listdir(path_slots)\n",
        "        slots = {}\n",
        "        for fil in files:\n",
        "            if fil == \".ipynb_checkpoints\":\n",
        "                continue\n",
        "            lines = open(path_slots+fil).readlines()\n",
        "            for i, line in enumerate(lines):\n",
        "                line = line.strip()\n",
        "                if len(uinput.split(\" \"+line.lower()+\" \")) > 1:\n",
        "                    slots[line] = fil[:-4]\n",
        "        for value, slot in slots.items():\n",
        "            if intent != None and slot in \" \".join([param.name for param in intent.params]):\n",
        "                uinput = re.sub(value,r'$'+slot,uinput,flags=re.IGNORECASE)\n",
        "                attributes[slot] = value\n",
        "            else:\n",
        "                uinput = re.sub(value,r'$'+slot,uinput,flags=re.IGNORECASE)\n",
        "                attributes[slot] = value\n",
        "        print(f'getattributes Returns attributes: {attributes}; input: {uinput};')\n",
        "        return attributes, uinput\n",
        "\n",
        "# def input_processor(user_input, context, attributes, intent):\n",
        "#     '''Update the attributes, abstract over the slots in user input'''\n",
        "#     attributes, cleaned_input = getattributes(user_input, context, attributes, intent)\n",
        "#     return attributes, cleaned_input\n",
        "def input_processor(user_input, context, attributes, intent):\n",
        "    '''Update the attributes, abstract over the slots in user input'''\n",
        "    print(f'input_processor invoked with input: {user_input}; context: {context}; attributes: {attributes}; intent: {intent}')\n",
        "    attributes, cleaned_input = getattributes(user_input, context, attributes, intent)\n",
        "    print(f'input_processor returns attributes: {attributes}; input: {user_input};')\n",
        "    return attributes, cleaned_input\n",
        "\n",
        "# def intentIdentifier(clean_input, context,current_intent):\n",
        "#     clean_input = clean_input.lower()\n",
        "#     if (current_intent==None):\n",
        "#         return loadIntent(path_param,intentPredict(clean_input))\n",
        "#     else:\n",
        "#         #If current intent is not none, stick with the ongoing intent\n",
        "#         #return current_intent\n",
        "#         intent = loadIntent(path_param,intentPredict(clean_input))\n",
        "#         if current_intent != intent:\n",
        "#             for para in current_intent.params:\n",
        "#                 if para.name in clean_input:\n",
        "#                     return current_intent\n",
        "#         return loadIntent(path_param,intentPredict(clean_input))\n",
        "\n",
        "def intentIdentifier(clean_input, context,current_intent):\n",
        "    print(f'intentIdentifier invoked with input: {clean_input}; context: {context}; intent: {current_intent}')\n",
        "    clean_input = clean_input.lower()\n",
        "    if (current_intent==None):\n",
        "        print(f'intentIdentifier fun when intent is None calls loadIntent with path_param: {path_param}; intentPredict: {intentPredict(clean_input)}')\n",
        "        return loadIntent(path_param,intentPredict(clean_input))\n",
        "    else:\n",
        "        #If current intent is not none, stick with the ongoing intent\n",
        "        #return current_intent\n",
        "        intent = loadIntent(path_param,intentPredict(clean_input))\n",
        "        if current_intent != intent:\n",
        "            for para in current_intent.params:\n",
        "                if para.name in clean_input:\n",
        "                    print(f'if para.name in clean_input: return current_intent:{current_intent}')\n",
        "                    return current_intent\n",
        "        print(f'intentIdentifier fun when intent not null calls loadIntent with path_param: {path_param}; intentPredict: {intentPredict(clean_input)}')\n",
        "        return loadIntent(path_param,intentPredict(clean_input))"
      ],
      "execution_count": 32,
      "outputs": []
    },
    {
      "cell_type": "markdown",
      "metadata": {
        "id": "V9fHBxSLtsXJ"
      },
      "source": [
        "Session class is one active session of the chatbot which the user interacts with. Let's go into the details:\n",
        "\n",
        "**reply( )** is the important one in our session object it takes user_input as a parameter and calls different modules of the chatbot architecture:\n",
        "\n",
        "\n",
        "*   **input_processor( )** - It helps in preprocessing and fetching the slots that can identify in the ready state\n",
        "    \n",
        "    - **getattributes( )** - It helps in identifying all the slots in the user utterance. Identify and map them to the parameters\n",
        "    \n",
        "    \n",
        "*   **intentIdentifier( )**\n",
        "\n",
        "  -  **intentPredict()** - Task to complete\n",
        "\n",
        "*   **check_required_params( )** - Based on the current intents, it goes over it's parameters\n",
        "\n",
        "*   **check_actions( )** - This function performs the action for the intent\n",
        "\n",
        "**Note:** Refer the *Chatbot_Reading_Material.pdf* for more information on the conversation flow\n",
        "\n",
        "\n",
        "       \n"
      ]
    },
    {
      "cell_type": "code",
      "metadata": {
        "id": "x5ZB31PKE1zd"
      },
      "source": [
        "class Session:\n",
        "    def __init__(self, attributes=None, active_contexts=[FirstGreeting(), IntentComplete() ]):\n",
        "        '''Initialise a default session'''\n",
        "        # Active contexts not used yet, can use it to have multiple contexts\n",
        "        self.active_contexts = active_contexts\n",
        "\n",
        "        # Contexts are flags which control dialogue flow\n",
        "        self.context = FirstGreeting()\n",
        "\n",
        "        # Intent tracks the current state of dialogue\n",
        "        self.current_intent = None\n",
        "\n",
        "        # attributes hold the information collected over the conversation\n",
        "        self.attributes = {}\n",
        "\n",
        "    # def reply(self, user_input):\n",
        "    #     '''Generate response to user input'''\n",
        "    #     self.attributes, clean_input = input_processor(user_input, self.context, self.attributes, self.current_intent)\n",
        "\n",
        "    #     self.current_intent = intentIdentifier(clean_input, self.context, self.current_intent)\n",
        "\n",
        "    #     prompt, self.context = check_required_params(self.current_intent, self.attributes, self.context)\n",
        "\n",
        "    #     # prompt being None means all parameters satisfied, perform the intent action\n",
        "    #     if prompt is None and self.context.name!='IntentComplete':\n",
        "    #         prompt, self.context = check_actions(self.current_intent, self.attributes, self.context)\n",
        "\n",
        "        return prompt, self.attributes\n",
        "    def reply(self, user_input):\n",
        "        '''Generate response to user input'''\n",
        "        self.attributes, clean_input = input_processor(user_input, self.context, self.attributes, self.current_intent)\n",
        "        print('done with input_processor')\n",
        "        self.current_intent = intentIdentifier(clean_input, self.context, self.current_intent)\n",
        "        print('done with intentIdentifier')\n",
        "        prompt, self.context = check_required_params(self.current_intent, self.attributes, self.context)\n",
        "        print('done with check_required_params')\n",
        "        # prompt being None means all parameters satisfied, perform the intent action\n",
        "        if prompt is None and self.context.name!='IntentComplete':\n",
        "            prompt, self.context = check_actions(self.current_intent, self.attributes, self.context)\n",
        "            print('done with check_actions')\n",
        "        print(f'Final returned variable -> {prompt}, {self.attributes}')\n",
        "        return prompt, self.attributes"
      ],
      "execution_count": 33,
      "outputs": []
    },
    {
      "cell_type": "markdown",
      "metadata": {
        "id": "ztNFwTl_clJD"
      },
      "source": [
        "### Task1 (6Marks)\n",
        "\n",
        "Create .dat files for your intent based on the team allocation. Also, configure file in the params folder (Refer the given zodiac sign file for more information).\n",
        "\n",
        "   * Give minimum 50 utterances for each intent. You can use the same utterances which were created for Alexa chatbot. Give the details in the **intent folder** -> *intent_name.dat* file\n",
        "\n",
        "   * Give minimum 3 slots for each intent. You can use the same slots which were created for Alexa chatbot. Create a different *.dat* file for each slot under the **Slots folder**\n",
        "\n",
        "   * Conﬁgure *params.cfg* ﬁle for the skill given to you under the **params folder**. Setup the intents in the same file with its required elements like Parameters, actions, etc. Refer to Zodiac Sign file for more information.\n",
        "\n",
        "Once dat files are created, you can upload them in colab as path details given in the below code"
      ]
    },
    {
      "cell_type": "code",
      "metadata": {
        "id": "aM7DzOSxQTOh"
      },
      "source": [
        "path_param = 'Chatbot/params/params.cfg'\n",
        "path_utterances = 'Chatbot/utterances/'\n",
        "path_slots = 'Chatbot/slots/'"
      ],
      "execution_count": 34,
      "outputs": []
    },
    {
      "cell_type": "markdown",
      "metadata": {
        "id": "qTLngIU1AWkO"
      },
      "source": [
        "### Task2 (2Marks)\n",
        "\n",
        "Create a database with all possible combinations of all attributes (can be a CSV ﬁle) along with possible outcome for each combination for your intent. Provide at least 10 combinations. (Hint: You can use the same database which was created for Alexa chatbot)\n",
        "\n",
        "  * Create a CSV file for the allocated intent other than Zodiac sign.\n",
        "\n",
        "Upload the file and give the path in the below code"
      ]
    },
    {
      "cell_type": "code",
      "metadata": {
        "id": "EyzMvRbPAil_"
      },
      "source": [
        "path_csv_zodiac = 'Chatbot/Zodiac_sign.csv'\n",
        "\n",
        "# YOUR CODE HERE for updating the path of csv file\n",
        "path_csv = 'Chatbot/get_movie_name.csv'"
      ],
      "execution_count": 35,
      "outputs": []
    },
    {
      "cell_type": "markdown",
      "metadata": {
        "id": "pjQr5bPZ3j40"
      },
      "source": [
        "### Task3 (5Marks)\n",
        "Text Representation and Classifications for both the intents\n",
        "\n",
        "To classify the intents based on user input, model must be trained on all the utterances given.\n",
        "- Iterate through the files from folder of utterances which ends with `.dat` extension\n",
        "- Create an array of train data and labels with respective class names (intent names)\n",
        "- Create a vector representation of train data (utterances) by using **any one** of the following process for the task:\n",
        "\n",
        "  - [Countvectorizer](https://scikit-learn.org/stable/modules/generated/sklearn.feature_extraction.text.CountVectorizer.html)\n",
        "\n",
        "    OR\n",
        "\n",
        "  - [TFIDFVectorizer](https://scikit-learn.org/stable/modules/generated/sklearn.feature_extraction.text.TfidfVectorizer.html)\n",
        "\n",
        "- Perform a classification using the extracted features and classify the intent.\n",
        "    - ### **Expected Accuracy above 90%**\n",
        "\n",
        "- Predict the user_input using the trained model using intent_predict() method"
      ]
    },
    {
      "cell_type": "markdown",
      "metadata": {
        "id": "oiW8ZtRZExNV"
      },
      "source": [
        "**Data Loading:** Read all the utterances and extract the data (text) and labels for each intent."
      ]
    },
    {
      "cell_type": "code",
      "metadata": {
        "id": "Mq6rSmdnFzss"
      },
      "source": [
        "# YOUR CODE HERE for loading and preparing the data\n",
        "import pandas as pd\n",
        "zodiac_utterances = 'Chatbot/utterances/get_Zodiac_Sign.dat'\n",
        "movie_utterances = 'Chatbot/utterances/get_movie_suggestion.dat'\n",
        "def createDataFrame(files):\n",
        "  utternences=[]\n",
        "  for file in files:\n",
        "    with open(file) as fil:\n",
        "      lines= fil.readlines()\n",
        "\n",
        "      intent = 'get_Zodiac_Sign' if fil.name == zodiac_utterances else 'get_Movie_Suggestion'\n",
        "      for data in lines:\n",
        "        utternences.append((data.strip(),intent))\n",
        "\n",
        "\n",
        "  df= pd.DataFrame(utternences, columns=['utterences','intent'])\n",
        "  return df\n",
        "\n",
        "\n",
        "utterence_df =createDataFrame([zodiac_utterances,movie_utterances])\n"
      ],
      "execution_count": 24,
      "outputs": []
    },
    {
      "cell_type": "code",
      "source": [
        "utterence_df.tail()"
      ],
      "metadata": {
        "colab": {
          "base_uri": "https://localhost:8080/",
          "height": 206
        },
        "id": "ODR6hQqqd6Re",
        "outputId": "e16a46cf-92bc-43d7-a6d6-740f4bbb0d45"
      },
      "execution_count": 25,
      "outputs": [
        {
          "output_type": "execute_result",
          "data": {
            "text/plain": [
              "                                            utterences                intent\n",
              "134  Please recommend an English action comedy movi...  get_Movie_Suggestion\n",
              "135  Do you know any Tamil historical romance movie...  get_Movie_Suggestion\n",
              "136  Tell me about an English war movie with Brad Pitt  get_Movie_Suggestion\n",
              "137  Im looking for a Telugu crime drama movie with...  get_Movie_Suggestion\n",
              "138  What Hindi musical movie with Priyanka Chopra ...  get_Movie_Suggestion"
            ],
            "text/html": [
              "\n",
              "  <div id=\"df-e76dd11c-b970-4ce7-9d18-01462801e79f\" class=\"colab-df-container\">\n",
              "    <div>\n",
              "<style scoped>\n",
              "    .dataframe tbody tr th:only-of-type {\n",
              "        vertical-align: middle;\n",
              "    }\n",
              "\n",
              "    .dataframe tbody tr th {\n",
              "        vertical-align: top;\n",
              "    }\n",
              "\n",
              "    .dataframe thead th {\n",
              "        text-align: right;\n",
              "    }\n",
              "</style>\n",
              "<table border=\"1\" class=\"dataframe\">\n",
              "  <thead>\n",
              "    <tr style=\"text-align: right;\">\n",
              "      <th></th>\n",
              "      <th>utterences</th>\n",
              "      <th>intent</th>\n",
              "    </tr>\n",
              "  </thead>\n",
              "  <tbody>\n",
              "    <tr>\n",
              "      <th>134</th>\n",
              "      <td>Please recommend an English action comedy movi...</td>\n",
              "      <td>get_Movie_Suggestion</td>\n",
              "    </tr>\n",
              "    <tr>\n",
              "      <th>135</th>\n",
              "      <td>Do you know any Tamil historical romance movie...</td>\n",
              "      <td>get_Movie_Suggestion</td>\n",
              "    </tr>\n",
              "    <tr>\n",
              "      <th>136</th>\n",
              "      <td>Tell me about an English war movie with Brad Pitt</td>\n",
              "      <td>get_Movie_Suggestion</td>\n",
              "    </tr>\n",
              "    <tr>\n",
              "      <th>137</th>\n",
              "      <td>Im looking for a Telugu crime drama movie with...</td>\n",
              "      <td>get_Movie_Suggestion</td>\n",
              "    </tr>\n",
              "    <tr>\n",
              "      <th>138</th>\n",
              "      <td>What Hindi musical movie with Priyanka Chopra ...</td>\n",
              "      <td>get_Movie_Suggestion</td>\n",
              "    </tr>\n",
              "  </tbody>\n",
              "</table>\n",
              "</div>\n",
              "    <div class=\"colab-df-buttons\">\n",
              "\n",
              "  <div class=\"colab-df-container\">\n",
              "    <button class=\"colab-df-convert\" onclick=\"convertToInteractive('df-e76dd11c-b970-4ce7-9d18-01462801e79f')\"\n",
              "            title=\"Convert this dataframe to an interactive table.\"\n",
              "            style=\"display:none;\">\n",
              "\n",
              "  <svg xmlns=\"http://www.w3.org/2000/svg\" height=\"24px\" viewBox=\"0 -960 960 960\">\n",
              "    <path d=\"M120-120v-720h720v720H120Zm60-500h600v-160H180v160Zm220 220h160v-160H400v160Zm0 220h160v-160H400v160ZM180-400h160v-160H180v160Zm440 0h160v-160H620v160ZM180-180h160v-160H180v160Zm440 0h160v-160H620v160Z\"/>\n",
              "  </svg>\n",
              "    </button>\n",
              "\n",
              "  <style>\n",
              "    .colab-df-container {\n",
              "      display:flex;\n",
              "      gap: 12px;\n",
              "    }\n",
              "\n",
              "    .colab-df-convert {\n",
              "      background-color: #E8F0FE;\n",
              "      border: none;\n",
              "      border-radius: 50%;\n",
              "      cursor: pointer;\n",
              "      display: none;\n",
              "      fill: #1967D2;\n",
              "      height: 32px;\n",
              "      padding: 0 0 0 0;\n",
              "      width: 32px;\n",
              "    }\n",
              "\n",
              "    .colab-df-convert:hover {\n",
              "      background-color: #E2EBFA;\n",
              "      box-shadow: 0px 1px 2px rgba(60, 64, 67, 0.3), 0px 1px 3px 1px rgba(60, 64, 67, 0.15);\n",
              "      fill: #174EA6;\n",
              "    }\n",
              "\n",
              "    .colab-df-buttons div {\n",
              "      margin-bottom: 4px;\n",
              "    }\n",
              "\n",
              "    [theme=dark] .colab-df-convert {\n",
              "      background-color: #3B4455;\n",
              "      fill: #D2E3FC;\n",
              "    }\n",
              "\n",
              "    [theme=dark] .colab-df-convert:hover {\n",
              "      background-color: #434B5C;\n",
              "      box-shadow: 0px 1px 3px 1px rgba(0, 0, 0, 0.15);\n",
              "      filter: drop-shadow(0px 1px 2px rgba(0, 0, 0, 0.3));\n",
              "      fill: #FFFFFF;\n",
              "    }\n",
              "  </style>\n",
              "\n",
              "    <script>\n",
              "      const buttonEl =\n",
              "        document.querySelector('#df-e76dd11c-b970-4ce7-9d18-01462801e79f button.colab-df-convert');\n",
              "      buttonEl.style.display =\n",
              "        google.colab.kernel.accessAllowed ? 'block' : 'none';\n",
              "\n",
              "      async function convertToInteractive(key) {\n",
              "        const element = document.querySelector('#df-e76dd11c-b970-4ce7-9d18-01462801e79f');\n",
              "        const dataTable =\n",
              "          await google.colab.kernel.invokeFunction('convertToInteractive',\n",
              "                                                    [key], {});\n",
              "        if (!dataTable) return;\n",
              "\n",
              "        const docLinkHtml = 'Like what you see? Visit the ' +\n",
              "          '<a target=\"_blank\" href=https://colab.research.google.com/notebooks/data_table.ipynb>data table notebook</a>'\n",
              "          + ' to learn more about interactive tables.';\n",
              "        element.innerHTML = '';\n",
              "        dataTable['output_type'] = 'display_data';\n",
              "        await google.colab.output.renderOutput(dataTable, element);\n",
              "        const docLink = document.createElement('div');\n",
              "        docLink.innerHTML = docLinkHtml;\n",
              "        element.appendChild(docLink);\n",
              "      }\n",
              "    </script>\n",
              "  </div>\n",
              "\n",
              "\n",
              "<div id=\"df-203274da-d6a6-48bd-b883-f0d9e62db8ce\">\n",
              "  <button class=\"colab-df-quickchart\" onclick=\"quickchart('df-203274da-d6a6-48bd-b883-f0d9e62db8ce')\"\n",
              "            title=\"Suggest charts\"\n",
              "            style=\"display:none;\">\n",
              "\n",
              "<svg xmlns=\"http://www.w3.org/2000/svg\" height=\"24px\"viewBox=\"0 0 24 24\"\n",
              "     width=\"24px\">\n",
              "    <g>\n",
              "        <path d=\"M19 3H5c-1.1 0-2 .9-2 2v14c0 1.1.9 2 2 2h14c1.1 0 2-.9 2-2V5c0-1.1-.9-2-2-2zM9 17H7v-7h2v7zm4 0h-2V7h2v10zm4 0h-2v-4h2v4z\"/>\n",
              "    </g>\n",
              "</svg>\n",
              "  </button>\n",
              "\n",
              "<style>\n",
              "  .colab-df-quickchart {\n",
              "      --bg-color: #E8F0FE;\n",
              "      --fill-color: #1967D2;\n",
              "      --hover-bg-color: #E2EBFA;\n",
              "      --hover-fill-color: #174EA6;\n",
              "      --disabled-fill-color: #AAA;\n",
              "      --disabled-bg-color: #DDD;\n",
              "  }\n",
              "\n",
              "  [theme=dark] .colab-df-quickchart {\n",
              "      --bg-color: #3B4455;\n",
              "      --fill-color: #D2E3FC;\n",
              "      --hover-bg-color: #434B5C;\n",
              "      --hover-fill-color: #FFFFFF;\n",
              "      --disabled-bg-color: #3B4455;\n",
              "      --disabled-fill-color: #666;\n",
              "  }\n",
              "\n",
              "  .colab-df-quickchart {\n",
              "    background-color: var(--bg-color);\n",
              "    border: none;\n",
              "    border-radius: 50%;\n",
              "    cursor: pointer;\n",
              "    display: none;\n",
              "    fill: var(--fill-color);\n",
              "    height: 32px;\n",
              "    padding: 0;\n",
              "    width: 32px;\n",
              "  }\n",
              "\n",
              "  .colab-df-quickchart:hover {\n",
              "    background-color: var(--hover-bg-color);\n",
              "    box-shadow: 0 1px 2px rgba(60, 64, 67, 0.3), 0 1px 3px 1px rgba(60, 64, 67, 0.15);\n",
              "    fill: var(--button-hover-fill-color);\n",
              "  }\n",
              "\n",
              "  .colab-df-quickchart-complete:disabled,\n",
              "  .colab-df-quickchart-complete:disabled:hover {\n",
              "    background-color: var(--disabled-bg-color);\n",
              "    fill: var(--disabled-fill-color);\n",
              "    box-shadow: none;\n",
              "  }\n",
              "\n",
              "  .colab-df-spinner {\n",
              "    border: 2px solid var(--fill-color);\n",
              "    border-color: transparent;\n",
              "    border-bottom-color: var(--fill-color);\n",
              "    animation:\n",
              "      spin 1s steps(1) infinite;\n",
              "  }\n",
              "\n",
              "  @keyframes spin {\n",
              "    0% {\n",
              "      border-color: transparent;\n",
              "      border-bottom-color: var(--fill-color);\n",
              "      border-left-color: var(--fill-color);\n",
              "    }\n",
              "    20% {\n",
              "      border-color: transparent;\n",
              "      border-left-color: var(--fill-color);\n",
              "      border-top-color: var(--fill-color);\n",
              "    }\n",
              "    30% {\n",
              "      border-color: transparent;\n",
              "      border-left-color: var(--fill-color);\n",
              "      border-top-color: var(--fill-color);\n",
              "      border-right-color: var(--fill-color);\n",
              "    }\n",
              "    40% {\n",
              "      border-color: transparent;\n",
              "      border-right-color: var(--fill-color);\n",
              "      border-top-color: var(--fill-color);\n",
              "    }\n",
              "    60% {\n",
              "      border-color: transparent;\n",
              "      border-right-color: var(--fill-color);\n",
              "    }\n",
              "    80% {\n",
              "      border-color: transparent;\n",
              "      border-right-color: var(--fill-color);\n",
              "      border-bottom-color: var(--fill-color);\n",
              "    }\n",
              "    90% {\n",
              "      border-color: transparent;\n",
              "      border-bottom-color: var(--fill-color);\n",
              "    }\n",
              "  }\n",
              "</style>\n",
              "\n",
              "  <script>\n",
              "    async function quickchart(key) {\n",
              "      const quickchartButtonEl =\n",
              "        document.querySelector('#' + key + ' button');\n",
              "      quickchartButtonEl.disabled = true;  // To prevent multiple clicks.\n",
              "      quickchartButtonEl.classList.add('colab-df-spinner');\n",
              "      try {\n",
              "        const charts = await google.colab.kernel.invokeFunction(\n",
              "            'suggestCharts', [key], {});\n",
              "      } catch (error) {\n",
              "        console.error('Error during call to suggestCharts:', error);\n",
              "      }\n",
              "      quickchartButtonEl.classList.remove('colab-df-spinner');\n",
              "      quickchartButtonEl.classList.add('colab-df-quickchart-complete');\n",
              "    }\n",
              "    (() => {\n",
              "      let quickchartButtonEl =\n",
              "        document.querySelector('#df-203274da-d6a6-48bd-b883-f0d9e62db8ce button');\n",
              "      quickchartButtonEl.style.display =\n",
              "        google.colab.kernel.accessAllowed ? 'block' : 'none';\n",
              "    })();\n",
              "  </script>\n",
              "</div>\n",
              "\n",
              "    </div>\n",
              "  </div>\n"
            ],
            "application/vnd.google.colaboratory.intrinsic+json": {
              "type": "dataframe",
              "summary": "{\n  \"name\": \"utterence_df\",\n  \"rows\": 5,\n  \"fields\": [\n    {\n      \"column\": \"utterences\",\n      \"properties\": {\n        \"dtype\": \"string\",\n        \"num_unique_values\": 5,\n        \"samples\": [\n          \"Do you know any Tamil historical romance movies with Vijay Sethupathi\",\n          \"What Hindi musical movie with Priyanka Chopra do you suggest\",\n          \"Tell me about an English war movie with Brad Pitt\"\n        ],\n        \"semantic_type\": \"\",\n        \"description\": \"\"\n      }\n    },\n    {\n      \"column\": \"intent\",\n      \"properties\": {\n        \"dtype\": \"category\",\n        \"num_unique_values\": 1,\n        \"samples\": [\n          \"get_Movie_Suggestion\"\n        ],\n        \"semantic_type\": \"\",\n        \"description\": \"\"\n      }\n    }\n  ]\n}"
            }
          },
          "metadata": {},
          "execution_count": 25
        }
      ]
    },
    {
      "cell_type": "markdown",
      "metadata": {
        "id": "7bT8oZHnF-TT"
      },
      "source": [
        "**Features extraction:** Fit the extracted text data with vectorizer to get the features."
      ]
    },
    {
      "cell_type": "code",
      "metadata": {
        "id": "SjopuMddGHc9"
      },
      "source": [
        "# YOUR CODE HERE to extract the features\n",
        "from sklearn.feature_extraction.text import TfidfVectorizer\n",
        "\n",
        "tfidf = TfidfVectorizer()\n",
        "\n",
        "tf_idf_data= tfidf.fit_transform(utterence_df['utterences'])\n",
        "\n",
        "\n",
        "utterence_df['tfidf_uttr'] = list(tf_idf_data)\n",
        "\n"
      ],
      "execution_count": 26,
      "outputs": []
    },
    {
      "cell_type": "markdown",
      "metadata": {
        "id": "I-Og4IX5ZYRm"
      },
      "source": [
        "**Classification:**\n",
        "\n",
        "* Identify the features and labels\n",
        "* Use train_test_split for splitting the train and test data\n",
        "* Fit your model on the train set using fit() and perform prediction on the test set using predict()\n",
        "* Get the accuracy of the model\n",
        "\n",
        "        Expected Accuracy above 90%\n"
      ]
    },
    {
      "cell_type": "code",
      "metadata": {
        "id": "MrGHpAqgMp07",
        "colab": {
          "base_uri": "https://localhost:8080/"
        },
        "outputId": "48261e9e-d3b1-419f-fa6b-e106af37df3b"
      },
      "source": [
        "# YOUR CODE HERE for classifying the intent\n",
        "\n",
        "from sklearn.ensemble import RandomForestClassifier\n",
        "from sklearn.linear_model import LogisticRegression\n",
        "from sklearn.model_selection import train_test_split\n",
        "from sklearn.metrics import accuracy_score\n",
        "from sklearn.svm import SVC\n",
        "\n",
        "X_train,X_test,y_train,y_test= train_test_split(tf_idf_data,utterence_df['intent'],test_size=0.2,random_state=42)\n",
        "rf_global=RandomForestClassifier(random_state=42)\n",
        "classifers={\n",
        "    'rf': rf_global,\n",
        "    'lr':LogisticRegression(random_state=42),\n",
        "    'svc':SVC(kernel='linear',random_state=42)\n",
        "}\n",
        "for classifer_name,classifer in classifers.items():\n",
        "  classifer.fit(X_train,y_train)\n",
        "  y_pred = classifer.predict(X_test)\n",
        "\n",
        "  print(f\"Accuracy Score for model {classifer_name} : {accuracy_score(y_test,y_pred)}\")\n",
        "\n",
        ""
      ],
      "execution_count": 27,
      "outputs": [
        {
          "output_type": "stream",
          "name": "stdout",
          "text": [
            "Accuracy Score for model rf : 1.0\n",
            "Accuracy Score for model lr : 1.0\n",
            "Accuracy Score for model svc : 1.0\n"
          ]
        }
      ]
    },
    {
      "cell_type": "markdown",
      "metadata": {
        "id": "UMddI6OZTSdL"
      },
      "source": [
        "Predict the user_input using the trained model\n",
        "\n",
        "**Note:** intentPredict() function call is specified in the Conversation Flow\n",
        "- vectorize the given user_input\n",
        "- reshape the vectorized array using `reshape(1,-1)` as the user_input is only a single utterance\n",
        "- predict the label on the vectorized array\n",
        "- return the respective class (intent_name)"
      ]
    },
    {
      "cell_type": "code",
      "metadata": {
        "id": "oaGk1MLg5E-k"
      },
      "source": [
        "# Take the user input as test data and predict using the model.\n",
        "\n",
        "def intentPredict(user_input):  # Do not change the function name\n",
        "\n",
        "    # YOUR CODE HERE for the prediction\n",
        "    input = tfidf.transform([user_input])\n",
        "\n",
        "    resp=rf_global.predict(input)\n",
        "\n",
        "    return resp\n",
        "\n",
        "    return predicted_intent\n",
        "def exit_process(input):\n",
        "    stopping_list = ['exit', 'break']\n",
        "    return input in stopping_list\n",
        "\n",
        "\n",
        "# while True:\n",
        "#   inp = input('User: ')\n",
        "#   if(exit_process(inp)):\n",
        "#     break\n",
        "#   pred =  intentPredict(inp)\n",
        "#   print(f\"Intent is {pred}\")\n",
        "\n"
      ],
      "execution_count": 16,
      "outputs": []
    },
    {
      "cell_type": "markdown",
      "metadata": {
        "id": "1EuAOMEtbB35"
      },
      "source": [
        "### Task4 (4Marks):\n",
        "\n",
        "Compare the attributes with the CSV file and get the final selection of that particular intent.\n",
        "\n",
        "  * Action function for the zodiac sign is already given. Similarly create action function for your intents and give the function name as mentioned in the params.cfg file.\n",
        "  * Use session object to take user inputs. (ex: `session.attributes`)\n",
        "\n",
        "Below are the 2 action functions to be performed:\n",
        "  1. Zodiac Sign Action\n",
        "  2. Your allocated Intent Action"
      ]
    },
    {
      "cell_type": "markdown",
      "metadata": {
        "id": "ySQgq901aaCH"
      },
      "source": [
        "1. Below Action function is given for\n",
        "Zodiac_Sign intent"
      ]
    },
    {
      "cell_type": "code",
      "metadata": {
        "id": "RAucdXx3w0rt"
      },
      "source": [
        "# Note: Zodiac_sign.csv records are taken from the internet; however it is open to adding multiple records.\n",
        "\n",
        "# Performs action for zodiac sign with csv file as source\n",
        "def zodiacSign_Action():\n",
        "    # global session\n",
        "    attr = session.attributes\n",
        "    year = int(attr['year'])\n",
        "    month = attr['month'] # month is a string, convert it to a month index\n",
        "    day = int(attr['day'])\n",
        "    df = pd.read_csv(path_csv_zodiac)\n",
        "    zodiac = \"\"\n",
        "\n",
        "    try:\n",
        "        month = int(datetime.datetime.strptime(month,'%b').strftime('%m'))\n",
        "    except:\n",
        "        month = int(datetime.datetime.strptime(month,'%B').strftime('%m'))\n",
        "\n",
        "    try:\n",
        "        usr_dob = (month,day)\n",
        "        datetime.datetime(year, month, day)\n",
        "        for index, row in df.iterrows():\n",
        "          if filter(row['Start']) <= usr_dob <= filter(row['End']):\n",
        "            zodiac = row['Zodiac']\n",
        "        return \"Your Zodiac sign is \" + zodiac\n",
        "    except ValueError:\n",
        "        return \"This is not a valid date\"\n",
        "\n",
        "def filter(X):\n",
        "    date = X.split()\n",
        "    month = int(datetime.datetime.strptime(date[0],'%B').strftime('%m'))\n",
        "    day = int(datetime.datetime.strptime(date[1],'%d').strftime('%d'))\n",
        "    return (month,day)"
      ],
      "execution_count": 17,
      "outputs": []
    },
    {
      "cell_type": "markdown",
      "metadata": {
        "id": "ZmGzfjZxYeVl"
      },
      "source": [
        "2. Define Action function for your allocated Intent"
      ]
    },
    {
      "cell_type": "markdown",
      "source": [],
      "metadata": {
        "id": "bwJUHs9usNPd"
      }
    },
    {
      "cell_type": "code",
      "metadata": {
        "id": "-i9fowgOY-Bb"
      },
      "source": [
        "# YOUR CODE HERE: Define a function to perform action using CSV file\n",
        "def match_movie_filter(movie_dto,criteria,attr):\n",
        "  for index,data in movie_dto:\n",
        "    row_match=0\n",
        "    if str(data[0]).lower() == attr['language'].lower():\n",
        "       row_match+=1\n",
        "    if str(data[1]).lower() == attr['actor'].lower():\n",
        "       row_match+=1\n",
        "    if str(data[2]).lower() == attr['genre'].lower():\n",
        "       row_match+=1\n",
        "    if row_match >= criteria:\n",
        "      return data\n",
        "  return None\n",
        "\n",
        "def getMovie_Action():\n",
        "    # global session\n",
        "    attr = session.attributes\n",
        "    df = pd.read_csv(path_csv)\n",
        "    movie_suggestion = \"\"\n",
        "\n",
        "    for num in [3,2,1]:\n",
        "      #  we have 3 combinations:\n",
        "      row=match_movie_filter(df.iterrows(),num,attr)\n",
        "      if row is not None:\n",
        "       movie_suggestion= row\n",
        "      return \"My best suggestion would be \" + movie_suggestion\n",
        ""
      ],
      "execution_count": 18,
      "outputs": []
    },
    {
      "cell_type": "markdown",
      "metadata": {
        "id": "iJHrDux6Ho-K"
      },
      "source": [
        "### Task5 (3Marks)\n",
        "\n",
        "Run and test the Python chatbot for both the intents with the following:\n",
        "  - Python Chatbot should identify the user requirement.\n",
        "  - Gather the data from user input and get the relevant output.\n",
        "  - It should prompt the user with different prompts if the required input is not fulfilled.\n",
        "  - It should shift between the intents and maintain the dialogue flow."
      ]
    },
    {
      "cell_type": "markdown",
      "metadata": {
        "id": "-nzznhcEm-vO"
      },
      "source": [
        "Chatbot configuration class"
      ]
    },
    {
      "cell_type": "code",
      "metadata": {
        "id": "4S4rXiz9CQzo"
      },
      "source": [
        "class BOT_config():\n",
        "    def __init__(self, session):\n",
        "        self.welcome='BOT: Hi! Welcome to Talentsprint Hackathon, How may i assist you?'\n",
        "        self.exits=[\"finish\",\"exit\",\"end\",\"quit\",\"stop\",\"close\", \"Bye\"]\n",
        "        if session.context.name == 'IntentComplete':\n",
        "            session.attributes = {}\n",
        "            session.context = FirstGreeting()\n",
        "            session.current_intent = None"
      ],
      "execution_count": 29,
      "outputs": []
    },
    {
      "cell_type": "markdown",
      "metadata": {
        "id": "eMHpVbnWnDo_"
      },
      "source": [
        "#### Conversational Chatbot\n",
        "\n",
        "Interact with bot by giving any utterance\n",
        "\n",
        "Ex:  `find zodiac sign`"
      ]
    },
    {
      "cell_type": "code",
      "metadata": {
        "id": "ycL4LskDEULN",
        "colab": {
          "base_uri": "https://localhost:8080/",
          "height": 346
        },
        "outputId": "d4978c3c-a063-41f0-e8d0-aabe501aa299"
      },
      "source": [
        "session = Session()\n",
        "print(BOT_config(session).welcome)\n",
        "while (True):\n",
        "    inp = input('User: ')\n",
        "    if inp in BOT_config(session).exits:\n",
        "        break\n",
        "    prompt = session.reply(inp)\n",
        "    print ('BOT:', prompt)"
      ],
      "execution_count": 30,
      "outputs": [
        {
          "output_type": "error",
          "ename": "NameError",
          "evalue": "name 'prompt' is not defined",
          "traceback": [
            "\u001b[0;31m---------------------------------------------------------------------------\u001b[0m",
            "\u001b[0;31mNameError\u001b[0m                                 Traceback (most recent call last)",
            "\u001b[0;32m<ipython-input-30-973b4aa8feec>\u001b[0m in \u001b[0;36m<cell line: 1>\u001b[0;34m()\u001b[0m\n\u001b[0;32m----> 1\u001b[0;31m \u001b[0msession\u001b[0m \u001b[0;34m=\u001b[0m \u001b[0mSession\u001b[0m\u001b[0;34m(\u001b[0m\u001b[0;34m)\u001b[0m\u001b[0;34m\u001b[0m\u001b[0;34m\u001b[0m\u001b[0m\n\u001b[0m\u001b[1;32m      2\u001b[0m \u001b[0mprint\u001b[0m\u001b[0;34m(\u001b[0m\u001b[0mBOT_config\u001b[0m\u001b[0;34m(\u001b[0m\u001b[0msession\u001b[0m\u001b[0;34m)\u001b[0m\u001b[0;34m.\u001b[0m\u001b[0mwelcome\u001b[0m\u001b[0;34m)\u001b[0m\u001b[0;34m\u001b[0m\u001b[0;34m\u001b[0m\u001b[0m\n\u001b[1;32m      3\u001b[0m \u001b[0;32mwhile\u001b[0m \u001b[0;34m(\u001b[0m\u001b[0;32mTrue\u001b[0m\u001b[0;34m)\u001b[0m\u001b[0;34m:\u001b[0m\u001b[0;34m\u001b[0m\u001b[0;34m\u001b[0m\u001b[0m\n\u001b[1;32m      4\u001b[0m     \u001b[0minp\u001b[0m \u001b[0;34m=\u001b[0m \u001b[0minput\u001b[0m\u001b[0;34m(\u001b[0m\u001b[0;34m'User: '\u001b[0m\u001b[0;34m)\u001b[0m\u001b[0;34m\u001b[0m\u001b[0;34m\u001b[0m\u001b[0m\n\u001b[1;32m      5\u001b[0m     \u001b[0;32mif\u001b[0m \u001b[0minp\u001b[0m \u001b[0;32min\u001b[0m \u001b[0mBOT_config\u001b[0m\u001b[0;34m(\u001b[0m\u001b[0msession\u001b[0m\u001b[0;34m)\u001b[0m\u001b[0;34m.\u001b[0m\u001b[0mexits\u001b[0m\u001b[0;34m:\u001b[0m\u001b[0;34m\u001b[0m\u001b[0;34m\u001b[0m\u001b[0m\n",
            "\u001b[0;32m<ipython-input-22-081f369f5eca>\u001b[0m in \u001b[0;36m__init__\u001b[0;34m(self, attributes, active_contexts)\u001b[0m\n\u001b[1;32m     26\u001b[0m     \u001b[0;31m#         prompt, self.context = check_actions(self.current_intent, self.attributes, self.context)\u001b[0m\u001b[0;34m\u001b[0m\u001b[0;34m\u001b[0m\u001b[0m\n\u001b[1;32m     27\u001b[0m \u001b[0;34m\u001b[0m\u001b[0m\n\u001b[0;32m---> 28\u001b[0;31m         \u001b[0;32mreturn\u001b[0m \u001b[0mprompt\u001b[0m\u001b[0;34m,\u001b[0m \u001b[0mself\u001b[0m\u001b[0;34m.\u001b[0m\u001b[0mattributes\u001b[0m\u001b[0;34m\u001b[0m\u001b[0;34m\u001b[0m\u001b[0m\n\u001b[0m\u001b[1;32m     29\u001b[0m     \u001b[0;32mdef\u001b[0m \u001b[0mreply\u001b[0m\u001b[0;34m(\u001b[0m\u001b[0mself\u001b[0m\u001b[0;34m,\u001b[0m \u001b[0muser_input\u001b[0m\u001b[0;34m)\u001b[0m\u001b[0;34m:\u001b[0m\u001b[0;34m\u001b[0m\u001b[0;34m\u001b[0m\u001b[0m\n\u001b[1;32m     30\u001b[0m         \u001b[0;34m'''Generate response to user input'''\u001b[0m\u001b[0;34m\u001b[0m\u001b[0;34m\u001b[0m\u001b[0m\n",
            "\u001b[0;31mNameError\u001b[0m: name 'prompt' is not defined"
          ]
        }
      ]
    }
  ]
}