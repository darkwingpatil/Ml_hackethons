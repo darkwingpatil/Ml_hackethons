{
  "nbformat": 4,
  "nbformat_minor": 0,
  "metadata": {
    "colab": {
      "provenance": [],
      "include_colab_link": true
    },
    "kernelspec": {
      "display_name": "Python 3",
      "language": "python",
      "name": "python3"
    },
    "language_info": {
      "codemirror_mode": {
        "name": "ipython",
        "version": 3
      },
      "file_extension": ".py",
      "mimetype": "text/x-python",
      "name": "python",
      "nbconvert_exporter": "python",
      "pygments_lexer": "ipython3",
      "version": "3.5.0"
    }
  },
  "cells": [
    {
      "cell_type": "markdown",
      "metadata": {
        "id": "view-in-github",
        "colab_type": "text"
      },
      "source": [
        "<a href=\"https://colab.research.google.com/github/darkwingpatil/Ml_hackethons/blob/main/Pre_Hackathon_Chatbot.ipynb\" target=\"_parent\"><img src=\"https://colab.research.google.com/assets/colab-badge.svg\" alt=\"Open In Colab\"/></a>"
      ]
    },
    {
      "cell_type": "markdown",
      "metadata": {
        "id": "sCfzqHTCh9la"
      },
      "source": [
        "# Advanced Certification in AIML\n",
        "## A Program by IIIT-H and TalentSprint"
      ]
    },
    {
      "cell_type": "markdown",
      "metadata": {
        "id": "kRUhG-LzJux_"
      },
      "source": [
        "### Not for Grading"
      ]
    },
    {
      "cell_type": "markdown",
      "metadata": {
        "id": "ZWC6jnVaPn-a"
      },
      "source": [
        "## Problem Statement"
      ]
    },
    {
      "cell_type": "markdown",
      "metadata": {
        "id": "GcdLxaMl0JMp"
      },
      "source": [
        "The problem is to identify the Zodiac Sign from the conversation with the user, using the Python Chatbot approach."
      ]
    },
    {
      "cell_type": "markdown",
      "metadata": {
        "id": "jmscqe75jONY"
      },
      "source": [
        "### It is recommended to watch the Demystifying Chatbots Video"
      ]
    },
    {
      "cell_type": "code",
      "metadata": {
        "id": "DuWFkMn7jVlj",
        "cellView": "form",
        "colab": {
          "base_uri": "https://localhost:8080/",
          "height": 521
        },
        "outputId": "744ef930-5e14-4e35-d5f9-5ea8772526bd"
      },
      "source": [
        "#@title Demystifying Chatbot Video\n",
        "from IPython.display import HTML\n",
        "\n",
        "HTML(\"\"\"<video width=\"854\" height=\"480\" controls>\n",
        "  <source src=\"https://cdn.talentsprint.com/talentsprint/archives/sc/aiml/aiml_action_workshop_part_3.mp4\" type=\"video/mp4\">\n",
        "</video>\n",
        "\"\"\")\n"
      ],
      "execution_count": 1,
      "outputs": [
        {
          "output_type": "execute_result",
          "data": {
            "text/plain": [
              "<IPython.core.display.HTML object>"
            ],
            "text/html": [
              "<video width=\"854\" height=\"480\" controls>\n",
              "  <source src=\"https://cdn.talentsprint.com/talentsprint/archives/sc/aiml/aiml_action_workshop_part_3.mp4\" type=\"video/mp4\">\n",
              "</video>\n"
            ]
          },
          "metadata": {},
          "execution_count": 1
        }
      ]
    },
    {
      "cell_type": "markdown",
      "metadata": {
        "id": "YiQpi0NQjb6T"
      },
      "source": [
        "### It is recommended to watch the chatbot walkthrough video before you start working on the Pre-Hackathon"
      ]
    },
    {
      "cell_type": "code",
      "metadata": {
        "id": "0IfX7sjUjheb",
        "cellView": "form",
        "colab": {
          "base_uri": "https://localhost:8080/",
          "height": 521
        },
        "outputId": "0fe5ef28-d563-4641-f681-558395640ae1"
      },
      "source": [
        "#@title Chatbot Walkthrough Video\n",
        "from IPython.display import HTML\n",
        "\n",
        "HTML(\"\"\"<video width=\"854\" height=\"480\" controls>\n",
        "  <source src=\"https://cdn.iiith.talentsprint.com/aiml/Experiment_related_data/Walkthrough/b17_pre_hackathon_1_chatbot_walkthrough.mp4\" type=\"video/mp4\">\n",
        "</video>\n",
        "\"\"\")"
      ],
      "execution_count": 2,
      "outputs": [
        {
          "output_type": "execute_result",
          "data": {
            "text/plain": [
              "<IPython.core.display.HTML object>"
            ],
            "text/html": [
              "<video width=\"854\" height=\"480\" controls>\n",
              "  <source src=\"https://cdn.iiith.talentsprint.com/aiml/Experiment_related_data/Walkthrough/b17_pre_hackathon_1_chatbot_walkthrough.mp4\" type=\"video/mp4\">\n",
              "</video>\n"
            ]
          },
          "metadata": {},
          "execution_count": 2
        }
      ]
    },
    {
      "cell_type": "markdown",
      "metadata": {
        "id": "BNQWDhx7GGNh"
      },
      "source": [
        "# Alexa Chatbot"
      ]
    },
    {
      "cell_type": "markdown",
      "metadata": {
        "id": "i00SHgohlMNh"
      },
      "source": [
        "- Create intent, slots, utterances and update the lambda function for zodiac sign intent\n",
        "- While testing the correct zodiac sign should be uttered by the alexa\n",
        "- Refer the  Pre-Hackathon for Alexa ChatBot material to understand Alexa Chatbot architecture and the implementation"
      ]
    },
    {
      "cell_type": "markdown",
      "metadata": {
        "id": "OQ5D6hR6hiTZ"
      },
      "source": [
        "# Python Chatbot"
      ]
    },
    {
      "cell_type": "markdown",
      "metadata": {
        "id": "0cbdKF1E-0lt"
      },
      "source": [
        "* For Zodiac sign Intent, all the required utterances, slots, and params (JSON) files are provided for your reference. A CSV file is also provided to perform the action."
      ]
    },
    {
      "cell_type": "markdown",
      "metadata": {
        "id": "48cT_Ybr818p"
      },
      "source": [
        "### Below is the code for updating the Python Chatbot"
      ]
    },
    {
      "cell_type": "code",
      "metadata": {
        "cellView": "form",
        "id": "BSKiVEvxB844",
        "colab": {
          "base_uri": "https://localhost:8080/"
        },
        "outputId": "98916257-6a9c-4cc4-f5a0-22948e84db3e"
      },
      "source": [
        "#@title Run this cell to download the data\n",
        "!wget -qq https://cdn.iiith.talentsprint.com/aiml/Hackathon_data/Chatbot_Hackathon.zip\n",
        "!unzip -qq Chatbot_Hackathon.zip\n",
        "print(\"Data downloaded successfully\")"
      ],
      "execution_count": 3,
      "outputs": [
        {
          "output_type": "stream",
          "name": "stdout",
          "text": [
            "Data downloaded successfully\n"
          ]
        }
      ]
    },
    {
      "cell_type": "code",
      "metadata": {
        "id": "tpZ-i7ndxPzU"
      },
      "source": [
        "# Import Libraries\n",
        "import json\n",
        "import random\n",
        "import os\n",
        "import re\n",
        "import datetime\n",
        "import pandas as pd\n",
        "import numpy as np\n",
        "\n",
        "# Importing context and .py script files\n",
        "from Context import *\n",
        "from Intent import *"
      ],
      "execution_count": 4,
      "outputs": []
    },
    {
      "cell_type": "markdown",
      "metadata": {
        "id": "lR6rVhnwDQVd"
      },
      "source": [
        "### Chatbot Architecture"
      ]
    },
    {
      "cell_type": "markdown",
      "metadata": {
        "id": "WSwQI3v0H6kR"
      },
      "source": [
        "Defining functions for Loading Intent, Collecting params, Checking actions, Getting Attributes, and Identifying Intents"
      ]
    },
    {
      "cell_type": "code",
      "metadata": {
        "id": "v9CMK_7tdbac"
      },
      "source": [
        "def loadIntent(path, intent):\n",
        "    print(f'loadIntent Invoked with path: {path}; intent:{intent}')\n",
        "    with open(path) as fil:\n",
        "        dat = json.load(fil)\n",
        "        intent = dat[intent]\n",
        "        print(f\"Calls Intent method with intentname: {intent['intentname']}; Parameter: {intent['Parameters']}; actions: {intent['actions']} \")\n",
        "        return Intent(intent['intentname'],intent['Parameters'], intent['actions'])\n",
        "\n",
        "def check_required_params(current_intent, attributes, context):\n",
        "    '''Collects attributes pertaining to the current intent'''\n",
        "    print(f\"check_required_params invoked with intent: {current_intent}; attributes:{attributes}; context:{context}\")\n",
        "    for para in current_intent.params:\n",
        "        if para.required:\n",
        "            if para.name not in attributes:\n",
        "                print(f\"check_required_params returns prompt: {random.choice(para.prompts)}; context:{context}\")\n",
        "                return random.choice(para.prompts), context\n",
        "    print(f\"check_required_params returns prompt: None; context:{context}\")\n",
        "    return None, context\n",
        "\n",
        "def check_actions(current_intent, attributes, context):\n",
        "    '''This function performs the action for the intent as mentioned\n",
        "    in the intent config file. Performs actions pertaining to current intent '''\n",
        "\n",
        "    print(f\"Check_actions invoked with intent :{current_intent}; attributes: {attributes}; context: {context}\")\n",
        "    context = IntentComplete()\n",
        "    if current_intent.action.endswith('()'):\n",
        "        print('if current_intent.action.endswith()')\n",
        "        print(f'eval invoked with intent: {current_intent.action}; context: {context}')\n",
        "        return eval(current_intent.action), context\n",
        "    print(f'returns check_actions with intent: {current_intent.action}; context: {context}')\n",
        "    return current_intent.action, context\n",
        "\n",
        "def getattributes(uinput,context,attributes, intent):\n",
        "    '''This function marks the slots in user input, and updates\n",
        "    the attributes dictionary'''\n",
        "\n",
        "    print(f'getattributes INVOKED input: {uinput}; context: {context}; attributes: {attributes}; intent: {intent}')\n",
        "    uinput = \" \"+uinput.lower()+\" \"\n",
        "    if context.name.startswith('IntentComplete'):\n",
        "        print(f'getattributes RETURNS context-> IntentComplete attributes: {attributes}; input: {uinput};')\n",
        "        return attributes, uinput\n",
        "    else:\n",
        "        files = os.listdir(path_slots)\n",
        "        slots = {}\n",
        "        for fil in files:\n",
        "            if fil == \".ipynb_checkpoints\":\n",
        "                continue\n",
        "            lines = open(path_slots+fil).readlines()\n",
        "            for i, line in enumerate(lines):\n",
        "                line = line.strip()\n",
        "                if len(uinput.split(\" \"+line.lower()+\" \")) > 1:\n",
        "                    slots[line] = fil[:-4]\n",
        "        for value, slot in slots.items():\n",
        "            if intent != None and slot in \" \".join([param.name for param in intent.params]):\n",
        "                uinput = re.sub(value,r'$'+slot,uinput,flags=re.IGNORECASE)\n",
        "                attributes[slot] = value\n",
        "            else:\n",
        "                uinput = re.sub(value,r'$'+slot,uinput,flags=re.IGNORECASE)\n",
        "                attributes[slot] = value\n",
        "        print(f'getattributes Returns attributes: {attributes}; input: {uinput};')\n",
        "        return attributes, uinput\n",
        "\n",
        "def input_processor(user_input, context, attributes, intent):\n",
        "    '''Update the attributes, abstract over the slots in user input'''\n",
        "    print(f'input_processor invoked with input: {user_input}; context: {context}; attributes: {attributes}; intent: {intent}')\n",
        "    attributes, cleaned_input = getattributes(user_input, context, attributes, intent)\n",
        "    print(f'input_processor returns attributes: {attributes}; input: {user_input};')\n",
        "    return attributes, cleaned_input\n",
        "\n",
        "def intentIdentifier(clean_input, context,current_intent):\n",
        "    print(f'intentIdentifier invoked with input: {clean_input}; context: {context}; intent: {current_intent}')\n",
        "    clean_input = clean_input.lower()\n",
        "    if (current_intent==None):\n",
        "        print(f'intentIdentifier fun when intent is None calls loadIntent with path_param: {path_param}; intentPredict: {intentPredict(clean_input)}')\n",
        "        return loadIntent(path_param,intentPredict(clean_input))\n",
        "    else:\n",
        "        #If current intent is not none, stick with the ongoing intent\n",
        "        #return current_intent\n",
        "        intent = loadIntent(path_param,intentPredict(clean_input))\n",
        "        if current_intent != intent:\n",
        "            for para in current_intent.params:\n",
        "                if para.name in clean_input:\n",
        "                    print(f'if para.name in clean_input: return current_intent:{current_intent}')\n",
        "                    return current_intent\n",
        "        print(f'intentIdentifier fun when intent not null calls loadIntent with path_param: {path_param}; intentPredict: {intentPredict(clean_input)}')\n",
        "        return loadIntent(path_param,intentPredict(clean_input))"
      ],
      "execution_count": 30,
      "outputs": []
    },
    {
      "cell_type": "markdown",
      "metadata": {
        "id": "V9fHBxSLtsXJ"
      },
      "source": [
        "Session class is one active session of the chatbot with which the user interacts. Let's go into the details:\n",
        "\n",
        "**reply( )** is the important one in our session object it takes user_input as a parameter and calls different modules of the chatbot architecture:\n",
        "\n",
        "\n",
        "*   **input_processor( )** - It helps in preprocessing and fetching the slots that can identify in the ready state\n",
        "    \n",
        "    - **getattributes( )** - It helps in identifying all the slots in the user utterance. Identify and map them to the parameters\n",
        "    \n",
        "    \n",
        "*   **intentIdentifier( )**\n",
        "\n",
        "  -  **intentPredict()** - Task to complete\n",
        "\n",
        "*   **check_required_params( )** - Based on the current intents, it goes over it's parameters\n",
        "\n",
        "*   **check_actions( )** - This function performs the action for the intent\n",
        "\n",
        "**Note:** Refer the *Chatbot_Reading_Material.pdf* for more information on the conversation flow\n",
        "\n",
        "\n",
        "       \n"
      ]
    },
    {
      "cell_type": "code",
      "metadata": {
        "id": "x5ZB31PKE1zd"
      },
      "source": [
        "class Session:\n",
        "    def __init__(self, attributes=None, active_contexts=[FirstGreeting(), IntentComplete() ]):\n",
        "        '''Initialise a default session'''\n",
        "        # Active contexts not used yet, can use it to have multiple contexts\n",
        "        self.active_contexts = active_contexts\n",
        "\n",
        "        # Contexts are flags which control dialogue flow\n",
        "        self.context = FirstGreeting()\n",
        "\n",
        "        # Intent tracks the current state of dialogue\n",
        "        self.current_intent = None\n",
        "\n",
        "        # attributes hold the information collected over the conversation\n",
        "        self.attributes = {}\n",
        "\n",
        "    def reply(self, user_input):\n",
        "        '''Generate response to user input'''\n",
        "        self.attributes, clean_input = input_processor(user_input, self.context, self.attributes, self.current_intent)\n",
        "        print('done with input_processor')\n",
        "        self.current_intent = intentIdentifier(clean_input, self.context, self.current_intent)\n",
        "        print('done with intentIdentifier')\n",
        "        prompt, self.context = check_required_params(self.current_intent, self.attributes, self.context)\n",
        "        print('done with check_required_params')\n",
        "        # prompt being None means all parameters satisfied, perform the intent action\n",
        "        if prompt is None and self.context.name!='IntentComplete':\n",
        "            prompt, self.context = check_actions(self.current_intent, self.attributes, self.context)\n",
        "            print('done with check_actions')\n",
        "        print(f'Final returned variable -> {prompt}, {self.attributes}')\n",
        "        return prompt, self.attributes"
      ],
      "execution_count": 31,
      "outputs": []
    },
    {
      "cell_type": "markdown",
      "metadata": {
        "id": "WufHTIxoi0vD"
      },
      "source": [
        "Created .dat files of slots and Intent in the respective folders. Also updated configuration file in the params folder and CSV file.\n",
        "\n",
        "The path details of the respective configuration, utterances of the zodiac sign intent and the slots (year, month, day) dat files are provided below,"
      ]
    },
    {
      "cell_type": "code",
      "metadata": {
        "id": "aM7DzOSxQTOh"
      },
      "source": [
        "path_param = 'Chatbot/params/params.cfg'\n",
        "path_utterances = 'Chatbot/utterances/'\n",
        "path_slots = 'Chatbot/slots/'"
      ],
      "execution_count": 8,
      "outputs": []
    },
    {
      "cell_type": "markdown",
      "metadata": {
        "id": "2LW4eLJPmUQ_"
      },
      "source": [
        "The CSV file path which contains the possible combinations to identify the Zodiac_Sign based on the given date of birth was given"
      ]
    },
    {
      "cell_type": "code",
      "metadata": {
        "id": "EyzMvRbPAil_"
      },
      "source": [
        "path_csv_zodiac = 'Chatbot/Zodiac_sign.csv'"
      ],
      "execution_count": 9,
      "outputs": []
    },
    {
      "cell_type": "markdown",
      "metadata": {
        "id": "UMddI6OZTSdL"
      },
      "source": [
        "`intentPredict()` function call is specified in the Conversation Flow, which returns the intent to be called in our case it is Zodiac Sign\n",
        "\n",
        "**Note:** As this pre-hackathon dialogue flow is limited to a single intent, the intentPredict() function is hardcoded to return only the \"get Zodiac Sign\" intent."
      ]
    },
    {
      "cell_type": "code",
      "metadata": {
        "id": "oaGk1MLg5E-k"
      },
      "source": [
        "# Take the user input as test data and predict using the model.\n",
        "\n",
        "def intentPredict(user_input):  # Do not change the function name\n",
        "    return \"get_Zodiac_Sign\" # Single Intent for a Pre-Hackathon"
      ],
      "execution_count": 11,
      "outputs": []
    },
    {
      "cell_type": "markdown",
      "metadata": {
        "id": "pF-JVzk0nBrQ"
      },
      "source": [
        "Run This API Blocks to perform action after satisfying all the attributes specified for a particular Intent"
      ]
    },
    {
      "cell_type": "code",
      "metadata": {
        "id": "RAucdXx3w0rt"
      },
      "source": [
        "# Note: Zodiac_sign.csv records are taken from the internet; however it is open to adding multiple records.\n",
        "\n",
        "# Performs action for zodiac sign with csv file as source\n",
        "def zodiacSign_Action():\n",
        "    # global session\n",
        "    attr = session.attributes\n",
        "    year = int(attr['year'])\n",
        "    month = attr['month'] # month is a string, convert it to a month index\n",
        "    day = int(attr['day'])\n",
        "    df = pd.read_csv(path_csv_zodiac)\n",
        "    zodiac = \"\"\n",
        "\n",
        "    try:\n",
        "        month = int(datetime.datetime.strptime(month,'%b').strftime('%m'))\n",
        "    except:\n",
        "        month = int(datetime.datetime.strptime(month,'%B').strftime('%m'))\n",
        "\n",
        "    try:\n",
        "        usr_dob = (month,day)\n",
        "        datetime.datetime(year, month, day)\n",
        "        for index, row in df.iterrows():\n",
        "          if filter(row['Start']) <= usr_dob <= filter(row['End']):\n",
        "            zodiac = row['Zodiac']\n",
        "        return \"Your Zodiac sign is \" + zodiac\n",
        "    except ValueError:\n",
        "        return \"This is not a valid date\"\n",
        "\n",
        "def filter(X):\n",
        "    date = X.split()\n",
        "    month = int(datetime.datetime.strptime(date[0],'%B').strftime('%m'))\n",
        "    day = int(datetime.datetime.strptime(date[1],'%d').strftime('%d'))\n",
        "    return (month,day)"
      ],
      "execution_count": 12,
      "outputs": []
    },
    {
      "cell_type": "markdown",
      "metadata": {
        "id": "Bp0lrdR8nS8j"
      },
      "source": [
        "###Main Block to access ChatBot\n",
        "enter 'end' to stop the bot"
      ]
    },
    {
      "cell_type": "markdown",
      "metadata": {
        "id": "-nzznhcEm-vO"
      },
      "source": [
        "Chatbot configuration class"
      ]
    },
    {
      "cell_type": "code",
      "metadata": {
        "id": "4S4rXiz9CQzo"
      },
      "source": [
        "class BOT_config():\n",
        "    def __init__(self, session):\n",
        "        self.welcome='BOT: Hi! Welcome to Talentsprint Hackathon, How may i assist you?'\n",
        "        self.exits=[\"finish\",\"exit\",\"end\",\"quit\",\"stop\",\"close\", \"Bye\"]\n",
        "        if session.context.name == 'IntentComplete':\n",
        "            session.attributes = {}\n",
        "            session.context = FirstGreeting()\n",
        "            session.current_intent = None"
      ],
      "execution_count": 28,
      "outputs": []
    },
    {
      "cell_type": "markdown",
      "metadata": {
        "id": "eMHpVbnWnDo_"
      },
      "source": [
        "#### Conversational Chatbot\n",
        "\n",
        "Interact with the bot by giving any utterance\n",
        "\n",
        "Ex:  `find zodiac sign`"
      ]
    },
    {
      "cell_type": "code",
      "metadata": {
        "id": "ycL4LskDEULN",
        "colab": {
          "base_uri": "https://localhost:8080/"
        },
        "outputId": "7e9dab97-fd54-435e-bc23-1fd89bedd2dc"
      },
      "source": [
        "session = Session()\n",
        "print(BOT_config(session).welcome)\n",
        "while (True):\n",
        "    inp = input('User: ')\n",
        "    print('input',inp)\n",
        "    if inp in BOT_config(session).exits:\n",
        "        break\n",
        "    prompt = session.reply(inp)\n",
        "    print ('BOT:', prompt)"
      ],
      "execution_count": 32,
      "outputs": [
        {
          "output_type": "stream",
          "name": "stdout",
          "text": [
            "BOT: Hi! Welcome to Talentsprint Hackathon, How may i assist you?\n",
            "User: find zodiac sign\n",
            "input find zodiac sign\n",
            "input_processor invoked with input: find zodiac sign; context: <Context.FirstGreeting object at 0x7b4726576950>; attributes: {}; intent: None\n",
            "getattributes INVOKED input: find zodiac sign; context: <Context.FirstGreeting object at 0x7b4726576950>; attributes: {}; intent: None\n",
            "getattributes Returns attributes: {}; input:  find zodiac sign ;\n",
            "input_processor returns attributes: {}; input: find zodiac sign;\n",
            "done with input_processor\n",
            "intentIdentifier invoked with input:  find zodiac sign ; context: <Context.FirstGreeting object at 0x7b4726576950>; intent: None\n",
            "intentIdentifier fun when intent is None calls loadIntent with path_param: Chatbot/params/params.cfg; intentPredict: get_Zodiac_Sign\n",
            "loadIntent Invoked with path: Chatbot/params/params.cfg; intent:get_Zodiac_Sign\n",
            "Calls Intent method with intentname: get_Zodiac_Sign; Parameter: [{'name': 'day', 'placeholder': '$day', 'required': 'True', 'prompts': ['Which day(date) were you born?', 'I was born on 6th July when were you born'], 'context': ''}, {'name': 'month', 'placeholder': '$month', 'required': 'True', 'prompts': ['In Which month you were born?', 'My birth month is July, what is yours?'], 'context': ''}, {'name': 'year', 'placeholder': '$year', 'required': 'True', 'prompts': ['What is your year of birth?', 'My birth year is 2020, what is yours?'], 'context': ''}]; actions: zodiacSign_Action() \n",
            "done with intentIdentifier\n",
            "check_required_params invoked with intent: <Intent.Intent object at 0x7b47265750f0>; attributes:{}; context:<Context.FirstGreeting object at 0x7b4726576950>\n",
            "check_required_params returns prompt: I was born on 6th July when were you born; context:<Context.FirstGreeting object at 0x7b4726576950>\n",
            "done with check_required_params\n",
            "Final returned variable -> I was born on 6th July when were you born, {}\n",
            "BOT: ('I was born on 6th July when were you born', {})\n",
            "User: 10th nov\n",
            "input 10th nov\n",
            "input_processor invoked with input: 10th nov; context: <Context.FirstGreeting object at 0x7b4726576950>; attributes: {}; intent: <Intent.Intent object at 0x7b47265750f0>\n",
            "getattributes INVOKED input: 10th nov; context: <Context.FirstGreeting object at 0x7b4726576950>; attributes: {}; intent: <Intent.Intent object at 0x7b47265750f0>\n",
            "getattributes Returns attributes: {'month': 'Nov'}; input:  10th $month ;\n",
            "input_processor returns attributes: {'month': 'Nov'}; input: 10th nov;\n",
            "done with input_processor\n",
            "intentIdentifier invoked with input:  10th $month ; context: <Context.FirstGreeting object at 0x7b4726576950>; intent: <Intent.Intent object at 0x7b47265750f0>\n",
            "loadIntent Invoked with path: Chatbot/params/params.cfg; intent:get_Zodiac_Sign\n",
            "Calls Intent method with intentname: get_Zodiac_Sign; Parameter: [{'name': 'day', 'placeholder': '$day', 'required': 'True', 'prompts': ['Which day(date) were you born?', 'I was born on 6th July when were you born'], 'context': ''}, {'name': 'month', 'placeholder': '$month', 'required': 'True', 'prompts': ['In Which month you were born?', 'My birth month is July, what is yours?'], 'context': ''}, {'name': 'year', 'placeholder': '$year', 'required': 'True', 'prompts': ['What is your year of birth?', 'My birth year is 2020, what is yours?'], 'context': ''}]; actions: zodiacSign_Action() \n",
            "if para.name in clean_input: return current_intent:<Intent.Intent object at 0x7b47265750f0>\n",
            "done with intentIdentifier\n",
            "check_required_params invoked with intent: <Intent.Intent object at 0x7b47265750f0>; attributes:{'month': 'Nov'}; context:<Context.FirstGreeting object at 0x7b4726576950>\n",
            "check_required_params returns prompt: Which day(date) were you born?; context:<Context.FirstGreeting object at 0x7b4726576950>\n",
            "done with check_required_params\n",
            "Final returned variable -> Which day(date) were you born?, {'month': 'Nov'}\n",
            "BOT: ('Which day(date) were you born?', {'month': 'Nov'})\n",
            "User: 10\n",
            "input 10\n",
            "input_processor invoked with input: 10; context: <Context.FirstGreeting object at 0x7b4726576950>; attributes: {'month': 'Nov'}; intent: <Intent.Intent object at 0x7b47265750f0>\n",
            "getattributes INVOKED input: 10; context: <Context.FirstGreeting object at 0x7b4726576950>; attributes: {'month': 'Nov'}; intent: <Intent.Intent object at 0x7b47265750f0>\n",
            "getattributes Returns attributes: {'month': 'Nov', 'day': '10'}; input:  $day ;\n",
            "input_processor returns attributes: {'month': 'Nov', 'day': '10'}; input: 10;\n",
            "done with input_processor\n",
            "intentIdentifier invoked with input:  $day ; context: <Context.FirstGreeting object at 0x7b4726576950>; intent: <Intent.Intent object at 0x7b47265750f0>\n",
            "loadIntent Invoked with path: Chatbot/params/params.cfg; intent:get_Zodiac_Sign\n",
            "Calls Intent method with intentname: get_Zodiac_Sign; Parameter: [{'name': 'day', 'placeholder': '$day', 'required': 'True', 'prompts': ['Which day(date) were you born?', 'I was born on 6th July when were you born'], 'context': ''}, {'name': 'month', 'placeholder': '$month', 'required': 'True', 'prompts': ['In Which month you were born?', 'My birth month is July, what is yours?'], 'context': ''}, {'name': 'year', 'placeholder': '$year', 'required': 'True', 'prompts': ['What is your year of birth?', 'My birth year is 2020, what is yours?'], 'context': ''}]; actions: zodiacSign_Action() \n",
            "if para.name in clean_input: return current_intent:<Intent.Intent object at 0x7b47265750f0>\n",
            "done with intentIdentifier\n",
            "check_required_params invoked with intent: <Intent.Intent object at 0x7b47265750f0>; attributes:{'month': 'Nov', 'day': '10'}; context:<Context.FirstGreeting object at 0x7b4726576950>\n",
            "check_required_params returns prompt: My birth year is 2020, what is yours?; context:<Context.FirstGreeting object at 0x7b4726576950>\n",
            "done with check_required_params\n",
            "Final returned variable -> My birth year is 2020, what is yours?, {'month': 'Nov', 'day': '10'}\n",
            "BOT: ('My birth year is 2020, what is yours?', {'month': 'Nov', 'day': '10'})\n",
            "User: 1998\n",
            "input 1998\n",
            "input_processor invoked with input: 1998; context: <Context.FirstGreeting object at 0x7b4726576950>; attributes: {'month': 'Nov', 'day': '10'}; intent: <Intent.Intent object at 0x7b47265750f0>\n",
            "getattributes INVOKED input: 1998; context: <Context.FirstGreeting object at 0x7b4726576950>; attributes: {'month': 'Nov', 'day': '10'}; intent: <Intent.Intent object at 0x7b47265750f0>\n",
            "getattributes Returns attributes: {'month': 'Nov', 'day': '10', 'year': '1998'}; input:  $year ;\n",
            "input_processor returns attributes: {'month': 'Nov', 'day': '10', 'year': '1998'}; input: 1998;\n",
            "done with input_processor\n",
            "intentIdentifier invoked with input:  $year ; context: <Context.FirstGreeting object at 0x7b4726576950>; intent: <Intent.Intent object at 0x7b47265750f0>\n",
            "loadIntent Invoked with path: Chatbot/params/params.cfg; intent:get_Zodiac_Sign\n",
            "Calls Intent method with intentname: get_Zodiac_Sign; Parameter: [{'name': 'day', 'placeholder': '$day', 'required': 'True', 'prompts': ['Which day(date) were you born?', 'I was born on 6th July when were you born'], 'context': ''}, {'name': 'month', 'placeholder': '$month', 'required': 'True', 'prompts': ['In Which month you were born?', 'My birth month is July, what is yours?'], 'context': ''}, {'name': 'year', 'placeholder': '$year', 'required': 'True', 'prompts': ['What is your year of birth?', 'My birth year is 2020, what is yours?'], 'context': ''}]; actions: zodiacSign_Action() \n",
            "if para.name in clean_input: return current_intent:<Intent.Intent object at 0x7b47265750f0>\n",
            "done with intentIdentifier\n",
            "check_required_params invoked with intent: <Intent.Intent object at 0x7b47265750f0>; attributes:{'month': 'Nov', 'day': '10', 'year': '1998'}; context:<Context.FirstGreeting object at 0x7b4726576950>\n",
            "check_required_params returns prompt: None; context:<Context.FirstGreeting object at 0x7b4726576950>\n",
            "done with check_required_params\n",
            "Check_actions invoked with intent :<Intent.Intent object at 0x7b47265750f0>; attributes: {'month': 'Nov', 'day': '10', 'year': '1998'}; context: <Context.FirstGreeting object at 0x7b4726576950>\n",
            "if current_intent.action.endswith()\n",
            "eval invoked with intent: zodiacSign_Action(); context: <Context.IntentComplete object at 0x7b4726574d60>\n",
            "done with check_actions\n",
            "Final returned variable -> Your Zodiac sign is Scorpio, {'month': 'Nov', 'day': '10', 'year': '1998'}\n",
            "BOT: ('Your Zodiac sign is Scorpio', {'month': 'Nov', 'day': '10', 'year': '1998'})\n",
            "User: exit\n",
            "input exit\n"
          ]
        }
      ]
    }
  ]
}