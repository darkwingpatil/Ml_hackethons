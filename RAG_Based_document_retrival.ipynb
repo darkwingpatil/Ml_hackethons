{
  "nbformat": 4,
  "nbformat_minor": 0,
  "metadata": {
    "colab": {
      "provenance": [],
      "include_colab_link": true
    },
    "kernelspec": {
      "name": "python3",
      "display_name": "Python 3"
    },
    "language_info": {
      "name": "python"
    }
  },
  "cells": [
    {
      "cell_type": "markdown",
      "metadata": {
        "id": "view-in-github",
        "colab_type": "text"
      },
      "source": [
        "<a href=\"https://colab.research.google.com/github/darkwingpatil/Ml_hackethons/blob/main/RAG_Based_document_retrival.ipynb\" target=\"_parent\"><img src=\"https://colab.research.google.com/assets/colab-badge.svg\" alt=\"Open In Colab\"/></a>"
      ]
    },
    {
      "cell_type": "markdown",
      "source": [
        "### **RAG : Retrieval Augmented Generation**"
      ],
      "metadata": {
        "id": "XkP83CNoizbN"
      }
    },
    {
      "cell_type": "markdown",
      "source": [
        "OBJECTIVES:\n",
        "\n",
        "1. Load the Documents\n",
        "2. Splitting the documents into chunks\n",
        "3. Embedding the chunks and storing them in vector db\n",
        "4. Retrieving the relevant chunks to the query\n",
        " * Addressing Diversity\n",
        " * Addressing Specificity\n",
        "5. Connecting with LLM to get a final grounded answer\n",
        "6. Re-ranking example with open source model"
      ],
      "metadata": {
        "id": "qWr7GKpxpEwc"
      }
    },
    {
      "cell_type": "code",
      "execution_count": null,
      "metadata": {
        "colab": {
          "base_uri": "https://localhost:8080/"
        },
        "collapsed": true,
        "id": "v5_-MW5g3xVj",
        "outputId": "27ee8c50-57a9-497d-b9c0-e0ade2e463fe"
      },
      "outputs": [
        {
          "output_type": "stream",
          "name": "stdout",
          "text": [
            "Requirement already satisfied: openai in /usr/local/lib/python3.10/dist-packages (1.52.2)\n",
            "Requirement already satisfied: anyio<5,>=3.5.0 in /usr/local/lib/python3.10/dist-packages (from openai) (3.7.1)\n",
            "Requirement already satisfied: distro<2,>=1.7.0 in /usr/local/lib/python3.10/dist-packages (from openai) (1.9.0)\n",
            "Requirement already satisfied: httpx<1,>=0.23.0 in /usr/local/lib/python3.10/dist-packages (from openai) (0.27.2)\n",
            "Requirement already satisfied: jiter<1,>=0.4.0 in /usr/local/lib/python3.10/dist-packages (from openai) (0.6.1)\n",
            "Requirement already satisfied: pydantic<3,>=1.9.0 in /usr/local/lib/python3.10/dist-packages (from openai) (2.9.2)\n",
            "Requirement already satisfied: sniffio in /usr/local/lib/python3.10/dist-packages (from openai) (1.3.1)\n",
            "Requirement already satisfied: tqdm>4 in /usr/local/lib/python3.10/dist-packages (from openai) (4.66.6)\n",
            "Requirement already satisfied: typing-extensions<5,>=4.11 in /usr/local/lib/python3.10/dist-packages (from openai) (4.12.2)\n",
            "Requirement already satisfied: idna>=2.8 in /usr/local/lib/python3.10/dist-packages (from anyio<5,>=3.5.0->openai) (3.10)\n",
            "Requirement already satisfied: exceptiongroup in /usr/local/lib/python3.10/dist-packages (from anyio<5,>=3.5.0->openai) (1.2.2)\n",
            "Requirement already satisfied: certifi in /usr/local/lib/python3.10/dist-packages (from httpx<1,>=0.23.0->openai) (2024.8.30)\n",
            "Requirement already satisfied: httpcore==1.* in /usr/local/lib/python3.10/dist-packages (from httpx<1,>=0.23.0->openai) (1.0.6)\n",
            "Requirement already satisfied: h11<0.15,>=0.13 in /usr/local/lib/python3.10/dist-packages (from httpcore==1.*->httpx<1,>=0.23.0->openai) (0.14.0)\n",
            "Requirement already satisfied: annotated-types>=0.6.0 in /usr/local/lib/python3.10/dist-packages (from pydantic<3,>=1.9.0->openai) (0.7.0)\n",
            "Requirement already satisfied: pydantic-core==2.23.4 in /usr/local/lib/python3.10/dist-packages (from pydantic<3,>=1.9.0->openai) (2.23.4)\n",
            "Requirement already satisfied: langchain-core in /usr/local/lib/python3.10/dist-packages (0.3.13)\n",
            "Requirement already satisfied: PyYAML>=5.3 in /usr/local/lib/python3.10/dist-packages (from langchain-core) (6.0.2)\n",
            "Requirement already satisfied: jsonpatch<2.0,>=1.33 in /usr/local/lib/python3.10/dist-packages (from langchain-core) (1.33)\n",
            "Requirement already satisfied: langsmith<0.2.0,>=0.1.125 in /usr/local/lib/python3.10/dist-packages (from langchain-core) (0.1.137)\n",
            "Requirement already satisfied: packaging<25,>=23.2 in /usr/local/lib/python3.10/dist-packages (from langchain-core) (24.1)\n",
            "Requirement already satisfied: pydantic<3.0.0,>=2.5.2 in /usr/local/lib/python3.10/dist-packages (from langchain-core) (2.9.2)\n",
            "Requirement already satisfied: tenacity!=8.4.0,<10.0.0,>=8.1.0 in /usr/local/lib/python3.10/dist-packages (from langchain-core) (9.0.0)\n",
            "Requirement already satisfied: typing-extensions>=4.7 in /usr/local/lib/python3.10/dist-packages (from langchain-core) (4.12.2)\n",
            "Requirement already satisfied: jsonpointer>=1.9 in /usr/local/lib/python3.10/dist-packages (from jsonpatch<2.0,>=1.33->langchain-core) (3.0.0)\n",
            "Requirement already satisfied: httpx<1,>=0.23.0 in /usr/local/lib/python3.10/dist-packages (from langsmith<0.2.0,>=0.1.125->langchain-core) (0.27.2)\n",
            "Requirement already satisfied: orjson<4.0.0,>=3.9.14 in /usr/local/lib/python3.10/dist-packages (from langsmith<0.2.0,>=0.1.125->langchain-core) (3.10.10)\n",
            "Requirement already satisfied: requests<3,>=2 in /usr/local/lib/python3.10/dist-packages (from langsmith<0.2.0,>=0.1.125->langchain-core) (2.32.3)\n",
            "Requirement already satisfied: requests-toolbelt<2.0.0,>=1.0.0 in /usr/local/lib/python3.10/dist-packages (from langsmith<0.2.0,>=0.1.125->langchain-core) (1.0.0)\n",
            "Requirement already satisfied: annotated-types>=0.6.0 in /usr/local/lib/python3.10/dist-packages (from pydantic<3.0.0,>=2.5.2->langchain-core) (0.7.0)\n",
            "Requirement already satisfied: pydantic-core==2.23.4 in /usr/local/lib/python3.10/dist-packages (from pydantic<3.0.0,>=2.5.2->langchain-core) (2.23.4)\n",
            "Requirement already satisfied: anyio in /usr/local/lib/python3.10/dist-packages (from httpx<1,>=0.23.0->langsmith<0.2.0,>=0.1.125->langchain-core) (3.7.1)\n",
            "Requirement already satisfied: certifi in /usr/local/lib/python3.10/dist-packages (from httpx<1,>=0.23.0->langsmith<0.2.0,>=0.1.125->langchain-core) (2024.8.30)\n",
            "Requirement already satisfied: httpcore==1.* in /usr/local/lib/python3.10/dist-packages (from httpx<1,>=0.23.0->langsmith<0.2.0,>=0.1.125->langchain-core) (1.0.6)\n",
            "Requirement already satisfied: idna in /usr/local/lib/python3.10/dist-packages (from httpx<1,>=0.23.0->langsmith<0.2.0,>=0.1.125->langchain-core) (3.10)\n",
            "Requirement already satisfied: sniffio in /usr/local/lib/python3.10/dist-packages (from httpx<1,>=0.23.0->langsmith<0.2.0,>=0.1.125->langchain-core) (1.3.1)\n",
            "Requirement already satisfied: h11<0.15,>=0.13 in /usr/local/lib/python3.10/dist-packages (from httpcore==1.*->httpx<1,>=0.23.0->langsmith<0.2.0,>=0.1.125->langchain-core) (0.14.0)\n",
            "Requirement already satisfied: charset-normalizer<4,>=2 in /usr/local/lib/python3.10/dist-packages (from requests<3,>=2->langsmith<0.2.0,>=0.1.125->langchain-core) (3.4.0)\n",
            "Requirement already satisfied: urllib3<3,>=1.21.1 in /usr/local/lib/python3.10/dist-packages (from requests<3,>=2->langsmith<0.2.0,>=0.1.125->langchain-core) (2.2.3)\n",
            "Requirement already satisfied: exceptiongroup in /usr/local/lib/python3.10/dist-packages (from anyio->httpx<1,>=0.23.0->langsmith<0.2.0,>=0.1.125->langchain-core) (1.2.2)\n",
            "Collecting langchain-openai\n",
            "  Downloading langchain_openai-0.2.5-py3-none-any.whl.metadata (2.6 kB)\n",
            "Collecting langchain-core<0.4.0,>=0.3.15 (from langchain-openai)\n",
            "  Downloading langchain_core-0.3.15-py3-none-any.whl.metadata (6.3 kB)\n",
            "Requirement already satisfied: openai<2.0.0,>=1.52.0 in /usr/local/lib/python3.10/dist-packages (from langchain-openai) (1.52.2)\n",
            "Collecting tiktoken<1,>=0.7 (from langchain-openai)\n",
            "  Downloading tiktoken-0.8.0-cp310-cp310-manylinux_2_17_x86_64.manylinux2014_x86_64.whl.metadata (6.6 kB)\n",
            "Requirement already satisfied: PyYAML>=5.3 in /usr/local/lib/python3.10/dist-packages (from langchain-core<0.4.0,>=0.3.15->langchain-openai) (6.0.2)\n",
            "Requirement already satisfied: jsonpatch<2.0,>=1.33 in /usr/local/lib/python3.10/dist-packages (from langchain-core<0.4.0,>=0.3.15->langchain-openai) (1.33)\n",
            "Requirement already satisfied: langsmith<0.2.0,>=0.1.125 in /usr/local/lib/python3.10/dist-packages (from langchain-core<0.4.0,>=0.3.15->langchain-openai) (0.1.137)\n",
            "Requirement already satisfied: packaging<25,>=23.2 in /usr/local/lib/python3.10/dist-packages (from langchain-core<0.4.0,>=0.3.15->langchain-openai) (24.1)\n",
            "Requirement already satisfied: pydantic<3.0.0,>=2.5.2 in /usr/local/lib/python3.10/dist-packages (from langchain-core<0.4.0,>=0.3.15->langchain-openai) (2.9.2)\n",
            "Requirement already satisfied: tenacity!=8.4.0,<10.0.0,>=8.1.0 in /usr/local/lib/python3.10/dist-packages (from langchain-core<0.4.0,>=0.3.15->langchain-openai) (9.0.0)\n",
            "Requirement already satisfied: typing-extensions>=4.7 in /usr/local/lib/python3.10/dist-packages (from langchain-core<0.4.0,>=0.3.15->langchain-openai) (4.12.2)\n",
            "Requirement already satisfied: anyio<5,>=3.5.0 in /usr/local/lib/python3.10/dist-packages (from openai<2.0.0,>=1.52.0->langchain-openai) (3.7.1)\n",
            "Requirement already satisfied: distro<2,>=1.7.0 in /usr/local/lib/python3.10/dist-packages (from openai<2.0.0,>=1.52.0->langchain-openai) (1.9.0)\n",
            "Requirement already satisfied: httpx<1,>=0.23.0 in /usr/local/lib/python3.10/dist-packages (from openai<2.0.0,>=1.52.0->langchain-openai) (0.27.2)\n",
            "Requirement already satisfied: jiter<1,>=0.4.0 in /usr/local/lib/python3.10/dist-packages (from openai<2.0.0,>=1.52.0->langchain-openai) (0.6.1)\n",
            "Requirement already satisfied: sniffio in /usr/local/lib/python3.10/dist-packages (from openai<2.0.0,>=1.52.0->langchain-openai) (1.3.1)\n",
            "Requirement already satisfied: tqdm>4 in /usr/local/lib/python3.10/dist-packages (from openai<2.0.0,>=1.52.0->langchain-openai) (4.66.6)\n",
            "Requirement already satisfied: regex>=2022.1.18 in /usr/local/lib/python3.10/dist-packages (from tiktoken<1,>=0.7->langchain-openai) (2024.9.11)\n",
            "Requirement already satisfied: requests>=2.26.0 in /usr/local/lib/python3.10/dist-packages (from tiktoken<1,>=0.7->langchain-openai) (2.32.3)\n",
            "Requirement already satisfied: idna>=2.8 in /usr/local/lib/python3.10/dist-packages (from anyio<5,>=3.5.0->openai<2.0.0,>=1.52.0->langchain-openai) (3.10)\n",
            "Requirement already satisfied: exceptiongroup in /usr/local/lib/python3.10/dist-packages (from anyio<5,>=3.5.0->openai<2.0.0,>=1.52.0->langchain-openai) (1.2.2)\n",
            "Requirement already satisfied: certifi in /usr/local/lib/python3.10/dist-packages (from httpx<1,>=0.23.0->openai<2.0.0,>=1.52.0->langchain-openai) (2024.8.30)\n",
            "Requirement already satisfied: httpcore==1.* in /usr/local/lib/python3.10/dist-packages (from httpx<1,>=0.23.0->openai<2.0.0,>=1.52.0->langchain-openai) (1.0.6)\n",
            "Requirement already satisfied: h11<0.15,>=0.13 in /usr/local/lib/python3.10/dist-packages (from httpcore==1.*->httpx<1,>=0.23.0->openai<2.0.0,>=1.52.0->langchain-openai) (0.14.0)\n",
            "Requirement already satisfied: jsonpointer>=1.9 in /usr/local/lib/python3.10/dist-packages (from jsonpatch<2.0,>=1.33->langchain-core<0.4.0,>=0.3.15->langchain-openai) (3.0.0)\n",
            "Requirement already satisfied: orjson<4.0.0,>=3.9.14 in /usr/local/lib/python3.10/dist-packages (from langsmith<0.2.0,>=0.1.125->langchain-core<0.4.0,>=0.3.15->langchain-openai) (3.10.10)\n",
            "Requirement already satisfied: requests-toolbelt<2.0.0,>=1.0.0 in /usr/local/lib/python3.10/dist-packages (from langsmith<0.2.0,>=0.1.125->langchain-core<0.4.0,>=0.3.15->langchain-openai) (1.0.0)\n",
            "Requirement already satisfied: annotated-types>=0.6.0 in /usr/local/lib/python3.10/dist-packages (from pydantic<3.0.0,>=2.5.2->langchain-core<0.4.0,>=0.3.15->langchain-openai) (0.7.0)\n",
            "Requirement already satisfied: pydantic-core==2.23.4 in /usr/local/lib/python3.10/dist-packages (from pydantic<3.0.0,>=2.5.2->langchain-core<0.4.0,>=0.3.15->langchain-openai) (2.23.4)\n",
            "Requirement already satisfied: charset-normalizer<4,>=2 in /usr/local/lib/python3.10/dist-packages (from requests>=2.26.0->tiktoken<1,>=0.7->langchain-openai) (3.4.0)\n",
            "Requirement already satisfied: urllib3<3,>=1.21.1 in /usr/local/lib/python3.10/dist-packages (from requests>=2.26.0->tiktoken<1,>=0.7->langchain-openai) (2.2.3)\n",
            "Downloading langchain_openai-0.2.5-py3-none-any.whl (50 kB)\n",
            "\u001b[2K   \u001b[90m━━━━━━━━━━━━━━━━━━━━━━━━━━━━━━━━━━━━━━━━\u001b[0m \u001b[32m50.4/50.4 kB\u001b[0m \u001b[31m2.0 MB/s\u001b[0m eta \u001b[36m0:00:00\u001b[0m\n",
            "\u001b[?25hDownloading langchain_core-0.3.15-py3-none-any.whl (408 kB)\n",
            "\u001b[2K   \u001b[90m━━━━━━━━━━━━━━━━━━━━━━━━━━━━━━━━━━━━━━━━\u001b[0m \u001b[32m408.7/408.7 kB\u001b[0m \u001b[31m9.1 MB/s\u001b[0m eta \u001b[36m0:00:00\u001b[0m\n",
            "\u001b[?25hDownloading tiktoken-0.8.0-cp310-cp310-manylinux_2_17_x86_64.manylinux2014_x86_64.whl (1.2 MB)\n",
            "\u001b[2K   \u001b[90m━━━━━━━━━━━━━━━━━━━━━━━━━━━━━━━━━━━━━━━━\u001b[0m \u001b[32m1.2/1.2 MB\u001b[0m \u001b[31m29.5 MB/s\u001b[0m eta \u001b[36m0:00:00\u001b[0m\n",
            "\u001b[?25hInstalling collected packages: tiktoken, langchain-core, langchain-openai\n",
            "  Attempting uninstall: langchain-core\n",
            "    Found existing installation: langchain-core 0.3.13\n",
            "    Uninstalling langchain-core-0.3.13:\n",
            "      Successfully uninstalled langchain-core-0.3.13\n",
            "Successfully installed langchain-core-0.3.15 langchain-openai-0.2.5 tiktoken-0.8.0\n",
            "Collecting langchain-community\n",
            "  Downloading langchain_community-0.3.5-py3-none-any.whl.metadata (2.9 kB)\n",
            "Requirement already satisfied: PyYAML>=5.3 in /usr/local/lib/python3.10/dist-packages (from langchain-community) (6.0.2)\n",
            "Collecting SQLAlchemy<2.0.36,>=1.4 (from langchain-community)\n",
            "  Downloading SQLAlchemy-2.0.35-cp310-cp310-manylinux_2_17_x86_64.manylinux2014_x86_64.whl.metadata (9.6 kB)\n",
            "Requirement already satisfied: aiohttp<4.0.0,>=3.8.3 in /usr/local/lib/python3.10/dist-packages (from langchain-community) (3.10.10)\n",
            "Collecting dataclasses-json<0.7,>=0.5.7 (from langchain-community)\n",
            "  Downloading dataclasses_json-0.6.7-py3-none-any.whl.metadata (25 kB)\n",
            "Collecting httpx-sse<0.5.0,>=0.4.0 (from langchain-community)\n",
            "  Downloading httpx_sse-0.4.0-py3-none-any.whl.metadata (9.0 kB)\n",
            "Collecting langchain<0.4.0,>=0.3.6 (from langchain-community)\n",
            "  Downloading langchain-0.3.7-py3-none-any.whl.metadata (7.1 kB)\n",
            "Requirement already satisfied: langchain-core<0.4.0,>=0.3.15 in /usr/local/lib/python3.10/dist-packages (from langchain-community) (0.3.15)\n",
            "Requirement already satisfied: langsmith<0.2.0,>=0.1.125 in /usr/local/lib/python3.10/dist-packages (from langchain-community) (0.1.137)\n",
            "Requirement already satisfied: numpy<2,>=1 in /usr/local/lib/python3.10/dist-packages (from langchain-community) (1.26.4)\n",
            "Collecting pydantic-settings<3.0.0,>=2.4.0 (from langchain-community)\n",
            "  Downloading pydantic_settings-2.6.1-py3-none-any.whl.metadata (3.5 kB)\n",
            "Requirement already satisfied: requests<3,>=2 in /usr/local/lib/python3.10/dist-packages (from langchain-community) (2.32.3)\n",
            "Requirement already satisfied: tenacity!=8.4.0,<10,>=8.1.0 in /usr/local/lib/python3.10/dist-packages (from langchain-community) (9.0.0)\n",
            "Requirement already satisfied: aiohappyeyeballs>=2.3.0 in /usr/local/lib/python3.10/dist-packages (from aiohttp<4.0.0,>=3.8.3->langchain-community) (2.4.3)\n",
            "Requirement already satisfied: aiosignal>=1.1.2 in /usr/local/lib/python3.10/dist-packages (from aiohttp<4.0.0,>=3.8.3->langchain-community) (1.3.1)\n",
            "Requirement already satisfied: attrs>=17.3.0 in /usr/local/lib/python3.10/dist-packages (from aiohttp<4.0.0,>=3.8.3->langchain-community) (24.2.0)\n",
            "Requirement already satisfied: frozenlist>=1.1.1 in /usr/local/lib/python3.10/dist-packages (from aiohttp<4.0.0,>=3.8.3->langchain-community) (1.5.0)\n",
            "Requirement already satisfied: multidict<7.0,>=4.5 in /usr/local/lib/python3.10/dist-packages (from aiohttp<4.0.0,>=3.8.3->langchain-community) (6.1.0)\n",
            "Requirement already satisfied: yarl<2.0,>=1.12.0 in /usr/local/lib/python3.10/dist-packages (from aiohttp<4.0.0,>=3.8.3->langchain-community) (1.17.0)\n",
            "Requirement already satisfied: async-timeout<5.0,>=4.0 in /usr/local/lib/python3.10/dist-packages (from aiohttp<4.0.0,>=3.8.3->langchain-community) (4.0.3)\n",
            "Collecting marshmallow<4.0.0,>=3.18.0 (from dataclasses-json<0.7,>=0.5.7->langchain-community)\n",
            "  Downloading marshmallow-3.23.1-py3-none-any.whl.metadata (7.5 kB)\n",
            "Collecting typing-inspect<1,>=0.4.0 (from dataclasses-json<0.7,>=0.5.7->langchain-community)\n",
            "  Downloading typing_inspect-0.9.0-py3-none-any.whl.metadata (1.5 kB)\n",
            "Requirement already satisfied: langchain-text-splitters<0.4.0,>=0.3.0 in /usr/local/lib/python3.10/dist-packages (from langchain<0.4.0,>=0.3.6->langchain-community) (0.3.0)\n",
            "Requirement already satisfied: pydantic<3.0.0,>=2.7.4 in /usr/local/lib/python3.10/dist-packages (from langchain<0.4.0,>=0.3.6->langchain-community) (2.9.2)\n",
            "Requirement already satisfied: jsonpatch<2.0,>=1.33 in /usr/local/lib/python3.10/dist-packages (from langchain-core<0.4.0,>=0.3.15->langchain-community) (1.33)\n",
            "Requirement already satisfied: packaging<25,>=23.2 in /usr/local/lib/python3.10/dist-packages (from langchain-core<0.4.0,>=0.3.15->langchain-community) (24.1)\n",
            "Requirement already satisfied: typing-extensions>=4.7 in /usr/local/lib/python3.10/dist-packages (from langchain-core<0.4.0,>=0.3.15->langchain-community) (4.12.2)\n",
            "Requirement already satisfied: httpx<1,>=0.23.0 in /usr/local/lib/python3.10/dist-packages (from langsmith<0.2.0,>=0.1.125->langchain-community) (0.27.2)\n",
            "Requirement already satisfied: orjson<4.0.0,>=3.9.14 in /usr/local/lib/python3.10/dist-packages (from langsmith<0.2.0,>=0.1.125->langchain-community) (3.10.10)\n",
            "Requirement already satisfied: requests-toolbelt<2.0.0,>=1.0.0 in /usr/local/lib/python3.10/dist-packages (from langsmith<0.2.0,>=0.1.125->langchain-community) (1.0.0)\n",
            "Collecting python-dotenv>=0.21.0 (from pydantic-settings<3.0.0,>=2.4.0->langchain-community)\n",
            "  Downloading python_dotenv-1.0.1-py3-none-any.whl.metadata (23 kB)\n",
            "Requirement already satisfied: charset-normalizer<4,>=2 in /usr/local/lib/python3.10/dist-packages (from requests<3,>=2->langchain-community) (3.4.0)\n",
            "Requirement already satisfied: idna<4,>=2.5 in /usr/local/lib/python3.10/dist-packages (from requests<3,>=2->langchain-community) (3.10)\n",
            "Requirement already satisfied: urllib3<3,>=1.21.1 in /usr/local/lib/python3.10/dist-packages (from requests<3,>=2->langchain-community) (2.2.3)\n",
            "Requirement already satisfied: certifi>=2017.4.17 in /usr/local/lib/python3.10/dist-packages (from requests<3,>=2->langchain-community) (2024.8.30)\n",
            "Requirement already satisfied: greenlet!=0.4.17 in /usr/local/lib/python3.10/dist-packages (from SQLAlchemy<2.0.36,>=1.4->langchain-community) (3.1.1)\n",
            "Requirement already satisfied: anyio in /usr/local/lib/python3.10/dist-packages (from httpx<1,>=0.23.0->langsmith<0.2.0,>=0.1.125->langchain-community) (3.7.1)\n",
            "Requirement already satisfied: httpcore==1.* in /usr/local/lib/python3.10/dist-packages (from httpx<1,>=0.23.0->langsmith<0.2.0,>=0.1.125->langchain-community) (1.0.6)\n",
            "Requirement already satisfied: sniffio in /usr/local/lib/python3.10/dist-packages (from httpx<1,>=0.23.0->langsmith<0.2.0,>=0.1.125->langchain-community) (1.3.1)\n",
            "Requirement already satisfied: h11<0.15,>=0.13 in /usr/local/lib/python3.10/dist-packages (from httpcore==1.*->httpx<1,>=0.23.0->langsmith<0.2.0,>=0.1.125->langchain-community) (0.14.0)\n",
            "Requirement already satisfied: jsonpointer>=1.9 in /usr/local/lib/python3.10/dist-packages (from jsonpatch<2.0,>=1.33->langchain-core<0.4.0,>=0.3.15->langchain-community) (3.0.0)\n",
            "Requirement already satisfied: annotated-types>=0.6.0 in /usr/local/lib/python3.10/dist-packages (from pydantic<3.0.0,>=2.7.4->langchain<0.4.0,>=0.3.6->langchain-community) (0.7.0)\n",
            "Requirement already satisfied: pydantic-core==2.23.4 in /usr/local/lib/python3.10/dist-packages (from pydantic<3.0.0,>=2.7.4->langchain<0.4.0,>=0.3.6->langchain-community) (2.23.4)\n",
            "Collecting mypy-extensions>=0.3.0 (from typing-inspect<1,>=0.4.0->dataclasses-json<0.7,>=0.5.7->langchain-community)\n",
            "  Downloading mypy_extensions-1.0.0-py3-none-any.whl.metadata (1.1 kB)\n",
            "Requirement already satisfied: propcache>=0.2.0 in /usr/local/lib/python3.10/dist-packages (from yarl<2.0,>=1.12.0->aiohttp<4.0.0,>=3.8.3->langchain-community) (0.2.0)\n",
            "Requirement already satisfied: exceptiongroup in /usr/local/lib/python3.10/dist-packages (from anyio->httpx<1,>=0.23.0->langsmith<0.2.0,>=0.1.125->langchain-community) (1.2.2)\n",
            "Downloading langchain_community-0.3.5-py3-none-any.whl (2.4 MB)\n",
            "\u001b[2K   \u001b[90m━━━━━━━━━━━━━━━━━━━━━━━━━━━━━━━━━━━━━━━━\u001b[0m \u001b[32m2.4/2.4 MB\u001b[0m \u001b[31m26.1 MB/s\u001b[0m eta \u001b[36m0:00:00\u001b[0m\n",
            "\u001b[?25hDownloading dataclasses_json-0.6.7-py3-none-any.whl (28 kB)\n",
            "Downloading httpx_sse-0.4.0-py3-none-any.whl (7.8 kB)\n",
            "Downloading langchain-0.3.7-py3-none-any.whl (1.0 MB)\n",
            "\u001b[2K   \u001b[90m━━━━━━━━━━━━━━━━━━━━━━━━━━━━━━━━━━━━━━━━\u001b[0m \u001b[32m1.0/1.0 MB\u001b[0m \u001b[31m41.7 MB/s\u001b[0m eta \u001b[36m0:00:00\u001b[0m\n",
            "\u001b[?25hDownloading pydantic_settings-2.6.1-py3-none-any.whl (28 kB)\n",
            "Downloading SQLAlchemy-2.0.35-cp310-cp310-manylinux_2_17_x86_64.manylinux2014_x86_64.whl (3.1 MB)\n",
            "\u001b[2K   \u001b[90m━━━━━━━━━━━━━━━━━━━━━━━━━━━━━━━━━━━━━━━━\u001b[0m \u001b[32m3.1/3.1 MB\u001b[0m \u001b[31m39.9 MB/s\u001b[0m eta \u001b[36m0:00:00\u001b[0m\n",
            "\u001b[?25hDownloading marshmallow-3.23.1-py3-none-any.whl (49 kB)\n",
            "\u001b[2K   \u001b[90m━━━━━━━━━━━━━━━━━━━━━━━━━━━━━━━━━━━━━━━━\u001b[0m \u001b[32m49.5/49.5 kB\u001b[0m \u001b[31m3.1 MB/s\u001b[0m eta \u001b[36m0:00:00\u001b[0m\n",
            "\u001b[?25hDownloading python_dotenv-1.0.1-py3-none-any.whl (19 kB)\n",
            "Downloading typing_inspect-0.9.0-py3-none-any.whl (8.8 kB)\n",
            "Downloading mypy_extensions-1.0.0-py3-none-any.whl (4.7 kB)\n",
            "Installing collected packages: SQLAlchemy, python-dotenv, mypy-extensions, marshmallow, httpx-sse, typing-inspect, pydantic-settings, dataclasses-json, langchain, langchain-community\n",
            "  Attempting uninstall: SQLAlchemy\n",
            "    Found existing installation: SQLAlchemy 2.0.36\n",
            "    Uninstalling SQLAlchemy-2.0.36:\n",
            "      Successfully uninstalled SQLAlchemy-2.0.36\n",
            "  Attempting uninstall: langchain\n",
            "    Found existing installation: langchain 0.3.4\n",
            "    Uninstalling langchain-0.3.4:\n",
            "      Successfully uninstalled langchain-0.3.4\n",
            "Successfully installed SQLAlchemy-2.0.35 dataclasses-json-0.6.7 httpx-sse-0.4.0 langchain-0.3.7 langchain-community-0.3.5 marshmallow-3.23.1 mypy-extensions-1.0.0 pydantic-settings-2.6.1 python-dotenv-1.0.1 typing-inspect-0.9.0\n",
            "Collecting chromadb\n",
            "  Downloading chromadb-0.5.17-py3-none-any.whl.metadata (6.8 kB)\n",
            "Collecting build>=1.0.3 (from chromadb)\n",
            "  Downloading build-1.2.2.post1-py3-none-any.whl.metadata (6.5 kB)\n",
            "Requirement already satisfied: pydantic>=1.9 in /usr/local/lib/python3.10/dist-packages (from chromadb) (2.9.2)\n",
            "Collecting chroma-hnswlib==0.7.6 (from chromadb)\n",
            "  Downloading chroma_hnswlib-0.7.6-cp310-cp310-manylinux_2_17_x86_64.manylinux2014_x86_64.whl.metadata (252 bytes)\n",
            "Collecting fastapi>=0.95.2 (from chromadb)\n",
            "  Downloading fastapi-0.115.4-py3-none-any.whl.metadata (27 kB)\n",
            "Collecting uvicorn>=0.18.3 (from uvicorn[standard]>=0.18.3->chromadb)\n",
            "  Downloading uvicorn-0.32.0-py3-none-any.whl.metadata (6.6 kB)\n",
            "Requirement already satisfied: numpy>=1.22.5 in /usr/local/lib/python3.10/dist-packages (from chromadb) (1.26.4)\n",
            "Collecting posthog>=2.4.0 (from chromadb)\n",
            "  Downloading posthog-3.7.0-py2.py3-none-any.whl.metadata (2.0 kB)\n",
            "Requirement already satisfied: typing-extensions>=4.5.0 in /usr/local/lib/python3.10/dist-packages (from chromadb) (4.12.2)\n",
            "Collecting onnxruntime>=1.14.1 (from chromadb)\n",
            "  Downloading onnxruntime-1.20.0-cp310-cp310-manylinux_2_27_x86_64.manylinux_2_28_x86_64.whl.metadata (4.4 kB)\n",
            "Requirement already satisfied: opentelemetry-api>=1.2.0 in /usr/local/lib/python3.10/dist-packages (from chromadb) (1.16.0)\n",
            "Collecting opentelemetry-exporter-otlp-proto-grpc>=1.2.0 (from chromadb)\n",
            "  Downloading opentelemetry_exporter_otlp_proto_grpc-1.27.0-py3-none-any.whl.metadata (2.3 kB)\n",
            "Collecting opentelemetry-instrumentation-fastapi>=0.41b0 (from chromadb)\n",
            "  Downloading opentelemetry_instrumentation_fastapi-0.48b0-py3-none-any.whl.metadata (2.1 kB)\n",
            "Requirement already satisfied: opentelemetry-sdk>=1.2.0 in /usr/local/lib/python3.10/dist-packages (from chromadb) (1.16.0)\n",
            "Requirement already satisfied: tokenizers>=0.13.2 in /usr/local/lib/python3.10/dist-packages (from chromadb) (0.19.1)\n",
            "Collecting pypika>=0.48.9 (from chromadb)\n",
            "  Downloading PyPika-0.48.9.tar.gz (67 kB)\n",
            "\u001b[2K     \u001b[90m━━━━━━━━━━━━━━━━━━━━━━━━━━━━━━━━━━━━━━━━\u001b[0m \u001b[32m67.3/67.3 kB\u001b[0m \u001b[31m3.9 MB/s\u001b[0m eta \u001b[36m0:00:00\u001b[0m\n",
            "\u001b[?25h  Installing build dependencies ... \u001b[?25l\u001b[?25hdone\n",
            "  Getting requirements to build wheel ... \u001b[?25l\u001b[?25hdone\n",
            "  Preparing metadata (pyproject.toml) ... \u001b[?25l\u001b[?25hdone\n",
            "Requirement already satisfied: tqdm>=4.65.0 in /usr/local/lib/python3.10/dist-packages (from chromadb) (4.66.6)\n",
            "Collecting overrides>=7.3.1 (from chromadb)\n",
            "  Downloading overrides-7.7.0-py3-none-any.whl.metadata (5.8 kB)\n",
            "Requirement already satisfied: importlib-resources in /usr/local/lib/python3.10/dist-packages (from chromadb) (6.4.5)\n",
            "Requirement already satisfied: grpcio>=1.58.0 in /usr/local/lib/python3.10/dist-packages (from chromadb) (1.64.1)\n",
            "Collecting bcrypt>=4.0.1 (from chromadb)\n",
            "  Downloading bcrypt-4.2.0-cp39-abi3-manylinux_2_28_x86_64.whl.metadata (9.6 kB)\n",
            "Requirement already satisfied: typer>=0.9.0 in /usr/local/lib/python3.10/dist-packages (from chromadb) (0.12.5)\n",
            "Collecting kubernetes>=28.1.0 (from chromadb)\n",
            "  Downloading kubernetes-31.0.0-py2.py3-none-any.whl.metadata (1.5 kB)\n",
            "Requirement already satisfied: tenacity>=8.2.3 in /usr/local/lib/python3.10/dist-packages (from chromadb) (9.0.0)\n",
            "Requirement already satisfied: PyYAML>=6.0.0 in /usr/local/lib/python3.10/dist-packages (from chromadb) (6.0.2)\n",
            "Collecting mmh3>=4.0.1 (from chromadb)\n",
            "  Downloading mmh3-5.0.1-cp310-cp310-manylinux_2_5_x86_64.manylinux1_x86_64.manylinux_2_17_x86_64.manylinux2014_x86_64.whl.metadata (14 kB)\n",
            "Requirement already satisfied: orjson>=3.9.12 in /usr/local/lib/python3.10/dist-packages (from chromadb) (3.10.10)\n",
            "Requirement already satisfied: httpx>=0.27.0 in /usr/local/lib/python3.10/dist-packages (from chromadb) (0.27.2)\n",
            "Requirement already satisfied: rich>=10.11.0 in /usr/local/lib/python3.10/dist-packages (from chromadb) (13.9.3)\n",
            "Requirement already satisfied: packaging>=19.1 in /usr/local/lib/python3.10/dist-packages (from build>=1.0.3->chromadb) (24.1)\n",
            "Collecting pyproject_hooks (from build>=1.0.3->chromadb)\n",
            "  Downloading pyproject_hooks-1.2.0-py3-none-any.whl.metadata (1.3 kB)\n",
            "Requirement already satisfied: tomli>=1.1.0 in /usr/local/lib/python3.10/dist-packages (from build>=1.0.3->chromadb) (2.0.2)\n",
            "Collecting starlette<0.42.0,>=0.40.0 (from fastapi>=0.95.2->chromadb)\n",
            "  Downloading starlette-0.41.2-py3-none-any.whl.metadata (6.0 kB)\n",
            "Requirement already satisfied: anyio in /usr/local/lib/python3.10/dist-packages (from httpx>=0.27.0->chromadb) (3.7.1)\n",
            "Requirement already satisfied: certifi in /usr/local/lib/python3.10/dist-packages (from httpx>=0.27.0->chromadb) (2024.8.30)\n",
            "Requirement already satisfied: httpcore==1.* in /usr/local/lib/python3.10/dist-packages (from httpx>=0.27.0->chromadb) (1.0.6)\n",
            "Requirement already satisfied: idna in /usr/local/lib/python3.10/dist-packages (from httpx>=0.27.0->chromadb) (3.10)\n",
            "Requirement already satisfied: sniffio in /usr/local/lib/python3.10/dist-packages (from httpx>=0.27.0->chromadb) (1.3.1)\n",
            "Requirement already satisfied: h11<0.15,>=0.13 in /usr/local/lib/python3.10/dist-packages (from httpcore==1.*->httpx>=0.27.0->chromadb) (0.14.0)\n",
            "Requirement already satisfied: six>=1.9.0 in /usr/local/lib/python3.10/dist-packages (from kubernetes>=28.1.0->chromadb) (1.16.0)\n",
            "Requirement already satisfied: python-dateutil>=2.5.3 in /usr/local/lib/python3.10/dist-packages (from kubernetes>=28.1.0->chromadb) (2.8.2)\n",
            "Requirement already satisfied: google-auth>=1.0.1 in /usr/local/lib/python3.10/dist-packages (from kubernetes>=28.1.0->chromadb) (2.27.0)\n",
            "Requirement already satisfied: websocket-client!=0.40.0,!=0.41.*,!=0.42.*,>=0.32.0 in /usr/local/lib/python3.10/dist-packages (from kubernetes>=28.1.0->chromadb) (1.8.0)\n",
            "Requirement already satisfied: requests in /usr/local/lib/python3.10/dist-packages (from kubernetes>=28.1.0->chromadb) (2.32.3)\n",
            "Requirement already satisfied: requests-oauthlib in /usr/local/lib/python3.10/dist-packages (from kubernetes>=28.1.0->chromadb) (1.3.1)\n",
            "Requirement already satisfied: oauthlib>=3.2.2 in /usr/local/lib/python3.10/dist-packages (from kubernetes>=28.1.0->chromadb) (3.2.2)\n",
            "Requirement already satisfied: urllib3>=1.24.2 in /usr/local/lib/python3.10/dist-packages (from kubernetes>=28.1.0->chromadb) (2.2.3)\n",
            "Collecting durationpy>=0.7 (from kubernetes>=28.1.0->chromadb)\n",
            "  Downloading durationpy-0.9-py3-none-any.whl.metadata (338 bytes)\n",
            "Collecting coloredlogs (from onnxruntime>=1.14.1->chromadb)\n",
            "  Downloading coloredlogs-15.0.1-py2.py3-none-any.whl.metadata (12 kB)\n",
            "Requirement already satisfied: flatbuffers in /usr/local/lib/python3.10/dist-packages (from onnxruntime>=1.14.1->chromadb) (24.3.25)\n",
            "Requirement already satisfied: protobuf in /usr/local/lib/python3.10/dist-packages (from onnxruntime>=1.14.1->chromadb) (3.20.3)\n",
            "Requirement already satisfied: sympy in /usr/local/lib/python3.10/dist-packages (from onnxruntime>=1.14.1->chromadb) (1.13.1)\n",
            "Requirement already satisfied: deprecated>=1.2.6 in /usr/local/lib/python3.10/dist-packages (from opentelemetry-api>=1.2.0->chromadb) (1.2.14)\n",
            "Requirement already satisfied: setuptools>=16.0 in /usr/local/lib/python3.10/dist-packages (from opentelemetry-api>=1.2.0->chromadb) (75.1.0)\n",
            "Requirement already satisfied: googleapis-common-protos~=1.52 in /usr/local/lib/python3.10/dist-packages (from opentelemetry-exporter-otlp-proto-grpc>=1.2.0->chromadb) (1.65.0)\n",
            "Collecting opentelemetry-exporter-otlp-proto-common==1.27.0 (from opentelemetry-exporter-otlp-proto-grpc>=1.2.0->chromadb)\n",
            "  Downloading opentelemetry_exporter_otlp_proto_common-1.27.0-py3-none-any.whl.metadata (1.8 kB)\n",
            "Collecting opentelemetry-proto==1.27.0 (from opentelemetry-exporter-otlp-proto-grpc>=1.2.0->chromadb)\n",
            "  Downloading opentelemetry_proto-1.27.0-py3-none-any.whl.metadata (2.3 kB)\n",
            "Collecting opentelemetry-sdk>=1.2.0 (from chromadb)\n",
            "  Downloading opentelemetry_sdk-1.27.0-py3-none-any.whl.metadata (1.5 kB)\n",
            "Collecting opentelemetry-instrumentation-asgi==0.48b0 (from opentelemetry-instrumentation-fastapi>=0.41b0->chromadb)\n",
            "  Downloading opentelemetry_instrumentation_asgi-0.48b0-py3-none-any.whl.metadata (2.0 kB)\n",
            "Collecting opentelemetry-instrumentation==0.48b0 (from opentelemetry-instrumentation-fastapi>=0.41b0->chromadb)\n",
            "  Downloading opentelemetry_instrumentation-0.48b0-py3-none-any.whl.metadata (6.1 kB)\n",
            "Collecting opentelemetry-semantic-conventions==0.48b0 (from opentelemetry-instrumentation-fastapi>=0.41b0->chromadb)\n",
            "  Downloading opentelemetry_semantic_conventions-0.48b0-py3-none-any.whl.metadata (2.4 kB)\n",
            "Collecting opentelemetry-util-http==0.48b0 (from opentelemetry-instrumentation-fastapi>=0.41b0->chromadb)\n",
            "  Downloading opentelemetry_util_http-0.48b0-py3-none-any.whl.metadata (2.5 kB)\n",
            "Requirement already satisfied: wrapt<2.0.0,>=1.0.0 in /usr/local/lib/python3.10/dist-packages (from opentelemetry-instrumentation==0.48b0->opentelemetry-instrumentation-fastapi>=0.41b0->chromadb) (1.16.0)\n",
            "Collecting asgiref~=3.0 (from opentelemetry-instrumentation-asgi==0.48b0->opentelemetry-instrumentation-fastapi>=0.41b0->chromadb)\n",
            "  Downloading asgiref-3.8.1-py3-none-any.whl.metadata (9.3 kB)\n",
            "Collecting opentelemetry-api>=1.2.0 (from chromadb)\n",
            "  Downloading opentelemetry_api-1.27.0-py3-none-any.whl.metadata (1.4 kB)\n",
            "Collecting importlib-metadata<=8.4.0,>=6.0 (from opentelemetry-api>=1.2.0->chromadb)\n",
            "  Downloading importlib_metadata-8.4.0-py3-none-any.whl.metadata (4.7 kB)\n",
            "Collecting monotonic>=1.5 (from posthog>=2.4.0->chromadb)\n",
            "  Downloading monotonic-1.6-py2.py3-none-any.whl.metadata (1.5 kB)\n",
            "Collecting backoff>=1.10.0 (from posthog>=2.4.0->chromadb)\n",
            "  Downloading backoff-2.2.1-py3-none-any.whl.metadata (14 kB)\n",
            "Requirement already satisfied: annotated-types>=0.6.0 in /usr/local/lib/python3.10/dist-packages (from pydantic>=1.9->chromadb) (0.7.0)\n",
            "Requirement already satisfied: pydantic-core==2.23.4 in /usr/local/lib/python3.10/dist-packages (from pydantic>=1.9->chromadb) (2.23.4)\n",
            "Requirement already satisfied: markdown-it-py>=2.2.0 in /usr/local/lib/python3.10/dist-packages (from rich>=10.11.0->chromadb) (3.0.0)\n",
            "Requirement already satisfied: pygments<3.0.0,>=2.13.0 in /usr/local/lib/python3.10/dist-packages (from rich>=10.11.0->chromadb) (2.18.0)\n",
            "Requirement already satisfied: huggingface-hub<1.0,>=0.16.4 in /usr/local/lib/python3.10/dist-packages (from tokenizers>=0.13.2->chromadb) (0.24.7)\n",
            "Requirement already satisfied: click>=8.0.0 in /usr/local/lib/python3.10/dist-packages (from typer>=0.9.0->chromadb) (8.1.7)\n",
            "Requirement already satisfied: shellingham>=1.3.0 in /usr/local/lib/python3.10/dist-packages (from typer>=0.9.0->chromadb) (1.5.4)\n",
            "Collecting httptools>=0.5.0 (from uvicorn[standard]>=0.18.3->chromadb)\n",
            "  Downloading httptools-0.6.4-cp310-cp310-manylinux_2_5_x86_64.manylinux1_x86_64.manylinux_2_17_x86_64.manylinux2014_x86_64.whl.metadata (3.6 kB)\n",
            "Requirement already satisfied: python-dotenv>=0.13 in /usr/local/lib/python3.10/dist-packages (from uvicorn[standard]>=0.18.3->chromadb) (1.0.1)\n",
            "Collecting uvloop!=0.15.0,!=0.15.1,>=0.14.0 (from uvicorn[standard]>=0.18.3->chromadb)\n",
            "  Downloading uvloop-0.21.0-cp310-cp310-manylinux_2_17_x86_64.manylinux2014_x86_64.whl.metadata (4.9 kB)\n",
            "Collecting watchfiles>=0.13 (from uvicorn[standard]>=0.18.3->chromadb)\n",
            "  Downloading watchfiles-0.24.0-cp310-cp310-manylinux_2_17_x86_64.manylinux2014_x86_64.whl.metadata (4.9 kB)\n",
            "Collecting websockets>=10.4 (from uvicorn[standard]>=0.18.3->chromadb)\n",
            "  Downloading websockets-13.1-cp310-cp310-manylinux_2_5_x86_64.manylinux1_x86_64.manylinux_2_17_x86_64.manylinux2014_x86_64.whl.metadata (6.8 kB)\n",
            "Requirement already satisfied: cachetools<6.0,>=2.0.0 in /usr/local/lib/python3.10/dist-packages (from google-auth>=1.0.1->kubernetes>=28.1.0->chromadb) (5.5.0)\n",
            "Requirement already satisfied: pyasn1-modules>=0.2.1 in /usr/local/lib/python3.10/dist-packages (from google-auth>=1.0.1->kubernetes>=28.1.0->chromadb) (0.4.1)\n",
            "Requirement already satisfied: rsa<5,>=3.1.4 in /usr/local/lib/python3.10/dist-packages (from google-auth>=1.0.1->kubernetes>=28.1.0->chromadb) (4.9)\n",
            "Requirement already satisfied: filelock in /usr/local/lib/python3.10/dist-packages (from huggingface-hub<1.0,>=0.16.4->tokenizers>=0.13.2->chromadb) (3.16.1)\n",
            "Requirement already satisfied: fsspec>=2023.5.0 in /usr/local/lib/python3.10/dist-packages (from huggingface-hub<1.0,>=0.16.4->tokenizers>=0.13.2->chromadb) (2024.10.0)\n",
            "Requirement already satisfied: zipp>=0.5 in /usr/local/lib/python3.10/dist-packages (from importlib-metadata<=8.4.0,>=6.0->opentelemetry-api>=1.2.0->chromadb) (3.20.2)\n",
            "Requirement already satisfied: mdurl~=0.1 in /usr/local/lib/python3.10/dist-packages (from markdown-it-py>=2.2.0->rich>=10.11.0->chromadb) (0.1.2)\n",
            "Requirement already satisfied: charset-normalizer<4,>=2 in /usr/local/lib/python3.10/dist-packages (from requests->kubernetes>=28.1.0->chromadb) (3.4.0)\n",
            "Requirement already satisfied: exceptiongroup in /usr/local/lib/python3.10/dist-packages (from anyio->httpx>=0.27.0->chromadb) (1.2.2)\n",
            "Collecting humanfriendly>=9.1 (from coloredlogs->onnxruntime>=1.14.1->chromadb)\n",
            "  Downloading humanfriendly-10.0-py2.py3-none-any.whl.metadata (9.2 kB)\n",
            "Requirement already satisfied: mpmath<1.4,>=1.1.0 in /usr/local/lib/python3.10/dist-packages (from sympy->onnxruntime>=1.14.1->chromadb) (1.3.0)\n",
            "Requirement already satisfied: pyasn1<0.7.0,>=0.4.6 in /usr/local/lib/python3.10/dist-packages (from pyasn1-modules>=0.2.1->google-auth>=1.0.1->kubernetes>=28.1.0->chromadb) (0.6.1)\n",
            "Downloading chromadb-0.5.17-py3-none-any.whl (615 kB)\n",
            "\u001b[2K   \u001b[90m━━━━━━━━━━━━━━━━━━━━━━━━━━━━━━━━━━━━━━━━\u001b[0m \u001b[32m615.7/615.7 kB\u001b[0m \u001b[31m16.8 MB/s\u001b[0m eta \u001b[36m0:00:00\u001b[0m\n",
            "\u001b[?25hDownloading chroma_hnswlib-0.7.6-cp310-cp310-manylinux_2_17_x86_64.manylinux2014_x86_64.whl (2.4 MB)\n",
            "\u001b[2K   \u001b[90m━━━━━━━━━━━━━━━━━━━━━━━━━━━━━━━━━━━━━━━━\u001b[0m \u001b[32m2.4/2.4 MB\u001b[0m \u001b[31m60.1 MB/s\u001b[0m eta \u001b[36m0:00:00\u001b[0m\n",
            "\u001b[?25hDownloading bcrypt-4.2.0-cp39-abi3-manylinux_2_28_x86_64.whl (273 kB)\n",
            "\u001b[2K   \u001b[90m━━━━━━━━━━━━━━━━━━━━━━━━━━━━━━━━━━━━━━━━\u001b[0m \u001b[32m273.8/273.8 kB\u001b[0m \u001b[31m18.5 MB/s\u001b[0m eta \u001b[36m0:00:00\u001b[0m\n",
            "\u001b[?25hDownloading build-1.2.2.post1-py3-none-any.whl (22 kB)\n",
            "Downloading fastapi-0.115.4-py3-none-any.whl (94 kB)\n",
            "\u001b[2K   \u001b[90m━━━━━━━━━━━━━━━━━━━━━━━━━━━━━━━━━━━━━━━━\u001b[0m \u001b[32m94.7/94.7 kB\u001b[0m \u001b[31m7.2 MB/s\u001b[0m eta \u001b[36m0:00:00\u001b[0m\n",
            "\u001b[?25hDownloading kubernetes-31.0.0-py2.py3-none-any.whl (1.9 MB)\n",
            "\u001b[2K   \u001b[90m━━━━━━━━━━━━━━━━━━━━━━━━━━━━━━━━━━━━━━━━\u001b[0m \u001b[32m1.9/1.9 MB\u001b[0m \u001b[31m68.9 MB/s\u001b[0m eta \u001b[36m0:00:00\u001b[0m\n",
            "\u001b[?25hDownloading mmh3-5.0.1-cp310-cp310-manylinux_2_5_x86_64.manylinux1_x86_64.manylinux_2_17_x86_64.manylinux2014_x86_64.whl (93 kB)\n",
            "\u001b[2K   \u001b[90m━━━━━━━━━━━━━━━━━━━━━━━━━━━━━━━━━━━━━━━━\u001b[0m \u001b[32m93.2/93.2 kB\u001b[0m \u001b[31m6.6 MB/s\u001b[0m eta \u001b[36m0:00:00\u001b[0m\n",
            "\u001b[?25hDownloading onnxruntime-1.20.0-cp310-cp310-manylinux_2_27_x86_64.manylinux_2_28_x86_64.whl (13.3 MB)\n",
            "\u001b[2K   \u001b[90m━━━━━━━━━━━━━━━━━━━━━━━━━━━━━━━━━━━━━━━━\u001b[0m \u001b[32m13.3/13.3 MB\u001b[0m \u001b[31m78.0 MB/s\u001b[0m eta \u001b[36m0:00:00\u001b[0m\n",
            "\u001b[?25hDownloading opentelemetry_exporter_otlp_proto_grpc-1.27.0-py3-none-any.whl (18 kB)\n",
            "Downloading opentelemetry_exporter_otlp_proto_common-1.27.0-py3-none-any.whl (17 kB)\n",
            "Downloading opentelemetry_proto-1.27.0-py3-none-any.whl (52 kB)\n",
            "\u001b[2K   \u001b[90m━━━━━━━━━━━━━━━━━━━━━━━━━━━━━━━━━━━━━━━━\u001b[0m \u001b[32m52.5/52.5 kB\u001b[0m \u001b[31m3.5 MB/s\u001b[0m eta \u001b[36m0:00:00\u001b[0m\n",
            "\u001b[?25hDownloading opentelemetry_instrumentation_fastapi-0.48b0-py3-none-any.whl (11 kB)\n",
            "Downloading opentelemetry_instrumentation-0.48b0-py3-none-any.whl (29 kB)\n",
            "Downloading opentelemetry_instrumentation_asgi-0.48b0-py3-none-any.whl (15 kB)\n",
            "Downloading opentelemetry_semantic_conventions-0.48b0-py3-none-any.whl (149 kB)\n",
            "\u001b[2K   \u001b[90m━━━━━━━━━━━━━━━━━━━━━━━━━━━━━━━━━━━━━━━━\u001b[0m \u001b[32m149.7/149.7 kB\u001b[0m \u001b[31m9.6 MB/s\u001b[0m eta \u001b[36m0:00:00\u001b[0m\n",
            "\u001b[?25hDownloading opentelemetry_api-1.27.0-py3-none-any.whl (63 kB)\n",
            "\u001b[2K   \u001b[90m━━━━━━━━━━━━━━━━━━━━━━━━━━━━━━━━━━━━━━━━\u001b[0m \u001b[32m64.0/64.0 kB\u001b[0m \u001b[31m4.7 MB/s\u001b[0m eta \u001b[36m0:00:00\u001b[0m\n",
            "\u001b[?25hDownloading opentelemetry_util_http-0.48b0-py3-none-any.whl (6.9 kB)\n",
            "Downloading opentelemetry_sdk-1.27.0-py3-none-any.whl (110 kB)\n",
            "\u001b[2K   \u001b[90m━━━━━━━━━━━━━━━━━━━━━━━━━━━━━━━━━━━━━━━━\u001b[0m \u001b[32m110.5/110.5 kB\u001b[0m \u001b[31m7.7 MB/s\u001b[0m eta \u001b[36m0:00:00\u001b[0m\n",
            "\u001b[?25hDownloading overrides-7.7.0-py3-none-any.whl (17 kB)\n",
            "Downloading posthog-3.7.0-py2.py3-none-any.whl (54 kB)\n",
            "\u001b[2K   \u001b[90m━━━━━━━━━━━━━━━━━━━━━━━━━━━━━━━━━━━━━━━━\u001b[0m \u001b[32m54.4/54.4 kB\u001b[0m \u001b[31m3.6 MB/s\u001b[0m eta \u001b[36m0:00:00\u001b[0m\n",
            "\u001b[?25hDownloading uvicorn-0.32.0-py3-none-any.whl (63 kB)\n",
            "\u001b[2K   \u001b[90m━━━━━━━━━━━━━━━━━━━━━━━━━━━━━━━━━━━━━━━━\u001b[0m \u001b[32m63.7/63.7 kB\u001b[0m \u001b[31m4.4 MB/s\u001b[0m eta \u001b[36m0:00:00\u001b[0m\n",
            "\u001b[?25hDownloading backoff-2.2.1-py3-none-any.whl (15 kB)\n",
            "Downloading durationpy-0.9-py3-none-any.whl (3.5 kB)\n",
            "Downloading httptools-0.6.4-cp310-cp310-manylinux_2_5_x86_64.manylinux1_x86_64.manylinux_2_17_x86_64.manylinux2014_x86_64.whl (442 kB)\n",
            "\u001b[2K   \u001b[90m━━━━━━━━━━━━━━━━━━━━━━━━━━━━━━━━━━━━━━━━\u001b[0m \u001b[32m442.1/442.1 kB\u001b[0m \u001b[31m24.3 MB/s\u001b[0m eta \u001b[36m0:00:00\u001b[0m\n",
            "\u001b[?25hDownloading importlib_metadata-8.4.0-py3-none-any.whl (26 kB)\n",
            "Downloading monotonic-1.6-py2.py3-none-any.whl (8.2 kB)\n",
            "Downloading starlette-0.41.2-py3-none-any.whl (73 kB)\n",
            "\u001b[2K   \u001b[90m━━━━━━━━━━━━━━━━━━━━━━━━━━━━━━━━━━━━━━━━\u001b[0m \u001b[32m73.3/73.3 kB\u001b[0m \u001b[31m4.9 MB/s\u001b[0m eta \u001b[36m0:00:00\u001b[0m\n",
            "\u001b[?25hDownloading uvloop-0.21.0-cp310-cp310-manylinux_2_17_x86_64.manylinux2014_x86_64.whl (3.8 MB)\n",
            "\u001b[2K   \u001b[90m━━━━━━━━━━━━━━━━━━━━━━━━━━━━━━━━━━━━━━━━\u001b[0m \u001b[32m3.8/3.8 MB\u001b[0m \u001b[31m73.6 MB/s\u001b[0m eta \u001b[36m0:00:00\u001b[0m\n",
            "\u001b[?25hDownloading watchfiles-0.24.0-cp310-cp310-manylinux_2_17_x86_64.manylinux2014_x86_64.whl (425 kB)\n",
            "\u001b[2K   \u001b[90m━━━━━━━━━━━━━━━━━━━━━━━━━━━━━━━━━━━━━━━━\u001b[0m \u001b[32m425.7/425.7 kB\u001b[0m \u001b[31m27.4 MB/s\u001b[0m eta \u001b[36m0:00:00\u001b[0m\n",
            "\u001b[?25hDownloading websockets-13.1-cp310-cp310-manylinux_2_5_x86_64.manylinux1_x86_64.manylinux_2_17_x86_64.manylinux2014_x86_64.whl (164 kB)\n",
            "\u001b[2K   \u001b[90m━━━━━━━━━━━━━━━━━━━━━━━━━━━━━━━━━━━━━━━━\u001b[0m \u001b[32m164.1/164.1 kB\u001b[0m \u001b[31m12.0 MB/s\u001b[0m eta \u001b[36m0:00:00\u001b[0m\n",
            "\u001b[?25hDownloading coloredlogs-15.0.1-py2.py3-none-any.whl (46 kB)\n",
            "\u001b[2K   \u001b[90m━━━━━━━━━━━━━━━━━━━━━━━━━━━━━━━━━━━━━━━━\u001b[0m \u001b[32m46.0/46.0 kB\u001b[0m \u001b[31m3.1 MB/s\u001b[0m eta \u001b[36m0:00:00\u001b[0m\n",
            "\u001b[?25hDownloading pyproject_hooks-1.2.0-py3-none-any.whl (10 kB)\n",
            "Downloading asgiref-3.8.1-py3-none-any.whl (23 kB)\n",
            "Downloading humanfriendly-10.0-py2.py3-none-any.whl (86 kB)\n",
            "\u001b[2K   \u001b[90m━━━━━━━━━━━━━━━━━━━━━━━━━━━━━━━━━━━━━━━━\u001b[0m \u001b[32m86.8/86.8 kB\u001b[0m \u001b[31m6.8 MB/s\u001b[0m eta \u001b[36m0:00:00\u001b[0m\n",
            "\u001b[?25hBuilding wheels for collected packages: pypika\n",
            "  Building wheel for pypika (pyproject.toml) ... \u001b[?25l\u001b[?25hdone\n",
            "  Created wheel for pypika: filename=PyPika-0.48.9-py2.py3-none-any.whl size=53725 sha256=1ce4a8290d02638ae95ef53522654b9128376024dd38ceabdcc7456ade830cb4\n",
            "  Stored in directory: /root/.cache/pip/wheels/e1/26/51/d0bffb3d2fd82256676d7ad3003faea3bd6dddc9577af665f4\n",
            "Successfully built pypika\n",
            "Installing collected packages: pypika, monotonic, durationpy, websockets, uvloop, uvicorn, pyproject_hooks, overrides, opentelemetry-util-http, opentelemetry-proto, mmh3, importlib-metadata, humanfriendly, httptools, chroma-hnswlib, bcrypt, backoff, asgiref, watchfiles, starlette, posthog, opentelemetry-exporter-otlp-proto-common, opentelemetry-api, coloredlogs, build, opentelemetry-semantic-conventions, opentelemetry-instrumentation, onnxruntime, kubernetes, fastapi, opentelemetry-sdk, opentelemetry-instrumentation-asgi, opentelemetry-instrumentation-fastapi, opentelemetry-exporter-otlp-proto-grpc, chromadb\n",
            "  Attempting uninstall: importlib-metadata\n",
            "    Found existing installation: importlib_metadata 8.5.0\n",
            "    Uninstalling importlib_metadata-8.5.0:\n",
            "      Successfully uninstalled importlib_metadata-8.5.0\n",
            "  Attempting uninstall: opentelemetry-api\n",
            "    Found existing installation: opentelemetry-api 1.16.0\n",
            "    Uninstalling opentelemetry-api-1.16.0:\n",
            "      Successfully uninstalled opentelemetry-api-1.16.0\n",
            "  Attempting uninstall: opentelemetry-semantic-conventions\n",
            "    Found existing installation: opentelemetry-semantic-conventions 0.37b0\n",
            "    Uninstalling opentelemetry-semantic-conventions-0.37b0:\n",
            "      Successfully uninstalled opentelemetry-semantic-conventions-0.37b0\n",
            "  Attempting uninstall: opentelemetry-sdk\n",
            "    Found existing installation: opentelemetry-sdk 1.16.0\n",
            "    Uninstalling opentelemetry-sdk-1.16.0:\n",
            "      Successfully uninstalled opentelemetry-sdk-1.16.0\n",
            "Successfully installed asgiref-3.8.1 backoff-2.2.1 bcrypt-4.2.0 build-1.2.2.post1 chroma-hnswlib-0.7.6 chromadb-0.5.17 coloredlogs-15.0.1 durationpy-0.9 fastapi-0.115.4 httptools-0.6.4 humanfriendly-10.0 importlib-metadata-8.4.0 kubernetes-31.0.0 mmh3-5.0.1 monotonic-1.6 onnxruntime-1.20.0 opentelemetry-api-1.27.0 opentelemetry-exporter-otlp-proto-common-1.27.0 opentelemetry-exporter-otlp-proto-grpc-1.27.0 opentelemetry-instrumentation-0.48b0 opentelemetry-instrumentation-asgi-0.48b0 opentelemetry-instrumentation-fastapi-0.48b0 opentelemetry-proto-1.27.0 opentelemetry-sdk-1.27.0 opentelemetry-semantic-conventions-0.48b0 opentelemetry-util-http-0.48b0 overrides-7.7.0 posthog-3.7.0 pypika-0.48.9 pyproject_hooks-1.2.0 starlette-0.41.2 uvicorn-0.32.0 uvloop-0.21.0 watchfiles-0.24.0 websockets-13.1\n",
            "Collecting pypdf\n",
            "  Downloading pypdf-5.1.0-py3-none-any.whl.metadata (7.2 kB)\n",
            "Requirement already satisfied: typing_extensions>=4.0 in /usr/local/lib/python3.10/dist-packages (from pypdf) (4.12.2)\n",
            "Downloading pypdf-5.1.0-py3-none-any.whl (297 kB)\n",
            "\u001b[2K   \u001b[90m━━━━━━━━━━━━━━━━━━━━━━━━━━━━━━━━━━━━━━━━\u001b[0m \u001b[32m298.0/298.0 kB\u001b[0m \u001b[31m5.1 MB/s\u001b[0m eta \u001b[36m0:00:00\u001b[0m\n",
            "\u001b[?25hInstalling collected packages: pypdf\n",
            "Successfully installed pypdf-5.1.0\n"
          ]
        }
      ],
      "source": [
        "!pip install openai\n",
        "!pip install langchain-core\n",
        "!pip install langchain-openai\n",
        "!pip install langchain-community\n",
        "!pip install chromadb\n",
        "!pip install pypdf"
      ]
    },
    {
      "cell_type": "code",
      "source": [
        "import openai\n",
        "import os"
      ],
      "metadata": {
        "id": "H7VCQ-0I4kCA"
      },
      "execution_count": null,
      "outputs": []
    },
    {
      "cell_type": "code",
      "source": [
        "f = open('/content/ts_openapi_key.txt')\n",
        "api_key = f.read()\n",
        "os.environ['OPENAI_API_KEY'] = api_key\n",
        "openai.api_key= os.getenv('OPENAI_API_KEY')"
      ],
      "metadata": {
        "id": "QHW0u0H44lw2"
      },
      "execution_count": null,
      "outputs": []
    },
    {
      "cell_type": "code",
      "source": [
        "from langchain_openai import ChatOpenAI"
      ],
      "metadata": {
        "id": "7CwTS5y14oWe"
      },
      "execution_count": null,
      "outputs": []
    },
    {
      "cell_type": "markdown",
      "source": [
        "### **Loading the documents**\n",
        "\n",
        "[PDF Loader](https://python.langchain.com/docs/how_to/document_loader_pdf/)"
      ],
      "metadata": {
        "id": "QJBCqkTXCmg2"
      }
    },
    {
      "cell_type": "code",
      "source": [
        "from langchain_community.document_loaders import PyPDFLoader\n",
        "# Load PDF\n",
        "loaders = [\n",
        "    # Duplicate documents on purpose\n",
        "    PyPDFLoader(\"/content/pca_d1.pdf\"),\n",
        "    PyPDFLoader(\"/content/ens_d2.pdf\"),\n",
        "    PyPDFLoader(\"/content/ens_d2.pdf\"),\n",
        "]\n",
        "docs = []\n",
        "for loader in loaders:\n",
        "    docs.extend(loader.load())"
      ],
      "metadata": {
        "id": "cKj0vDDjC4QX"
      },
      "execution_count": null,
      "outputs": []
    },
    {
      "cell_type": "code",
      "source": [
        "print(docs[0].page_content)"
      ],
      "metadata": {
        "collapsed": true,
        "id": "0A3xSoDADmAf"
      },
      "execution_count": null,
      "outputs": []
    },
    {
      "cell_type": "markdown",
      "source": [
        "### **Splitting of document**\n",
        "\n",
        "[Recursively split by character](https://python.langchain.com/docs/how_to/recursive_text_splitter/)\n",
        "\n",
        "[Split by character](https://python.langchain.com/docs/how_to/character_text_splitter/)"
      ],
      "metadata": {
        "id": "wdrvHT_28jvw"
      }
    },
    {
      "cell_type": "code",
      "source": [
        "from langchain_text_splitters import RecursiveCharacterTextSplitter"
      ],
      "metadata": {
        "id": "duFVDKbk8qpo"
      },
      "execution_count": null,
      "outputs": []
    },
    {
      "cell_type": "code",
      "source": [
        "# Split\n",
        "#from langchain.text_splitter import RecursiveCharacterTextSplitter\n",
        "text_splitter = RecursiveCharacterTextSplitter(\n",
        "    chunk_size = 500,\n",
        "    chunk_overlap = 50\n",
        ")"
      ],
      "metadata": {
        "id": "uKSoLugt9hgs"
      },
      "execution_count": null,
      "outputs": []
    },
    {
      "cell_type": "code",
      "source": [
        "splits = text_splitter.split_documents(docs)\n",
        "print(len(splits))\n",
        "print(len(splits[0].page_content) )\n",
        "splits[0].page_content"
      ],
      "metadata": {
        "id": "4mjs7XDl9m6b"
      },
      "execution_count": null,
      "outputs": []
    },
    {
      "cell_type": "code",
      "source": [
        "splits"
      ],
      "metadata": {
        "id": "y-QuwWdH2-vt"
      },
      "execution_count": null,
      "outputs": []
    },
    {
      "cell_type": "markdown",
      "source": [
        "### **Embeddings**\n",
        "\n",
        "Let's take our splits and embed them."
      ],
      "metadata": {
        "id": "JuSgQ0p_-d97"
      }
    },
    {
      "cell_type": "code",
      "source": [
        "from langchain_openai import OpenAIEmbeddings\n",
        "embedding = OpenAIEmbeddings(model='text-embedding-3-small')"
      ],
      "metadata": {
        "id": "ujcLi0yx-bJU"
      },
      "execution_count": null,
      "outputs": []
    },
    {
      "cell_type": "markdown",
      "source": [
        "### **Understanding similarity search with a toy example**"
      ],
      "metadata": {
        "id": "qkTrtTYh_N1L"
      }
    },
    {
      "cell_type": "code",
      "source": [
        "sentence1 = \"i like dogs\"\n",
        "sentence2 = \"i like cats\"\n",
        "sentence3 = \"the weather is ugly, too hot outside\""
      ],
      "metadata": {
        "id": "4L8_BLc6_O6Q"
      },
      "execution_count": null,
      "outputs": []
    },
    {
      "cell_type": "code",
      "source": [
        "embedding1 = embedding.embed_query(sentence1)\n",
        "embedding2 = embedding.embed_query(sentence2)\n",
        "embedding3 = embedding.embed_query(sentence3)"
      ],
      "metadata": {
        "id": "V8IZ6a4G_SzI"
      },
      "execution_count": null,
      "outputs": []
    },
    {
      "cell_type": "code",
      "source": [
        "len(embedding1), len(embedding2), len(embedding3)"
      ],
      "metadata": {
        "id": "_PkO3fMe_WOx"
      },
      "execution_count": null,
      "outputs": []
    },
    {
      "cell_type": "code",
      "source": [
        "embedding1"
      ],
      "metadata": {
        "id": "yROw-cqp32tk",
        "colab": {
          "base_uri": "https://localhost:8080/"
        },
        "collapsed": true,
        "outputId": "a483effc-ae24-4117-ba5b-391cc529e46a"
      },
      "execution_count": null,
      "outputs": [
        {
          "output_type": "execute_result",
          "data": {
            "text/plain": [
              "[0.016543298959732056,\n",
              " -0.03333469107747078,\n",
              " 3.722277324413881e-05,\n",
              " 0.0063320123590528965,\n",
              " 0.02789919637143612,\n",
              " -0.011942299082875252,\n",
              " -0.007651416584849358,\n",
              " 0.037259072065353394,\n",
              " -0.07275893539190292,\n",
              " -0.022069009020924568,\n",
              " -0.004648926202207804,\n",
              " -0.009630522690713406,\n",
              " -0.016453083604574203,\n",
              " 0.024673985317349434,\n",
              " -0.0026162543799728155,\n",
              " 0.023636505007743835,\n",
              " -0.04172474890947342,\n",
              " -0.02277945727109909,\n",
              " 0.024899525567889214,\n",
              " 0.0009233009768649936,\n",
              " -0.009748931042850018,\n",
              " 0.05070120841264725,\n",
              " -0.0051620276644825935,\n",
              " -0.010792049579322338,\n",
              " -0.0029912132304161787,\n",
              " 0.02812473475933075,\n",
              " 0.02778642624616623,\n",
              " 0.019633185118436813,\n",
              " 0.006647767033427954,\n",
              " -0.021437497809529305,\n",
              " -0.010589064098894596,\n",
              " -0.010645449161529541,\n",
              " -0.010701834224164486,\n",
              " -0.019948940724134445,\n",
              " 0.051197391003370285,\n",
              " -0.013363196514546871,\n",
              " -0.017614610493183136,\n",
              " -0.017276300117373466,\n",
              " -0.0001247513573616743,\n",
              " 0.04490485042333603,\n",
              " -0.012664024718105793,\n",
              " -0.03308659791946411,\n",
              " 0.04039406776428223,\n",
              " -0.008220902644097805,\n",
              " -0.02184346877038479,\n",
              " 0.021065358072519302,\n",
              " -0.03933403268456459,\n",
              " -0.03288361057639122,\n",
              " 0.02379438281059265,\n",
              " 0.03586072847247124,\n",
              " 0.004682756960391998,\n",
              " -0.0007597851217724383,\n",
              " 0.02528294175863266,\n",
              " 0.06937585026025772,\n",
              " 0.030447788536548615,\n",
              " 0.03150782361626625,\n",
              " -0.004214763175696135,\n",
              " 0.01361128967255354,\n",
              " 0.01670117676258087,\n",
              " -0.031349945813417435,\n",
              " -0.0218209158629179,\n",
              " 0.0023258726578205824,\n",
              " 0.0458972230553627,\n",
              " 0.022756902500987053,\n",
              " -0.007724716793745756,\n",
              " -0.019103167578577995,\n",
              " -0.022486256435513496,\n",
              " -0.02187729999423027,\n",
              " 0.014727707952260971,\n",
              " -0.045513805001974106,\n",
              " 0.016340313479304314,\n",
              " -0.004586902912706137,\n",
              " -0.039740003645420074,\n",
              " 0.04849092289805412,\n",
              " 0.0157088041305542,\n",
              " -0.02415524609386921,\n",
              " -0.022362209856510162,\n",
              " 0.022474978119134903,\n",
              " 0.029410308226943016,\n",
              " 0.020174479112029076,\n",
              " -0.024741647765040398,\n",
              " 0.023185426369309425,\n",
              " -0.004820900037884712,\n",
              " -0.0684736967086792,\n",
              " -0.05169357731938362,\n",
              " -0.03489090874791145,\n",
              " -0.03468792513012886,\n",
              " 0.02347862906754017,\n",
              " 0.00027558067813515663,\n",
              " -0.014355568215250969,\n",
              " 0.04012341797351837,\n",
              " 0.015111125074326992,\n",
              " -0.03637946769595146,\n",
              " -0.026117436587810516,\n",
              " -9.426832548342645e-05,\n",
              " -0.006754898466169834,\n",
              " -0.0037946966476738453,\n",
              " -0.012438485398888588,\n",
              " 0.0006216423353180289,\n",
              " -0.040754929184913635,\n",
              " -0.05773802846670151,\n",
              " 0.02035490982234478,\n",
              " -0.04183751717209816,\n",
              " 0.04046172648668289,\n",
              " -0.008328033611178398,\n",
              " 0.00497595826163888,\n",
              " 0.10636427253484726,\n",
              " -0.03495857119560242,\n",
              " 0.009591053240001202,\n",
              " 0.018787413835525513,\n",
              " -0.07641267031431198,\n",
              " -0.010617257095873356,\n",
              " -0.03356022760272026,\n",
              " -0.02483186312019825,\n",
              " -0.03477814048528671,\n",
              " -0.00938806775957346,\n",
              " -0.0005945071461610496,\n",
              " -0.0001351473038084805,\n",
              " -0.04445376992225647,\n",
              " -0.0040286933071911335,\n",
              " 0.038950614631175995,\n",
              " 0.028598368167877197,\n",
              " 0.0075668394565582275,\n",
              " -0.006653405725955963,\n",
              " -0.02187729999423027,\n",
              " 0.017806317657232285,\n",
              " -0.005091547034680843,\n",
              " -0.045852113515138626,\n",
              " 0.0079953633248806,\n",
              " 0.017614610493183136,\n",
              " -0.050159912556409836,\n",
              " -0.05200933292508125,\n",
              " 0.04066471382975578,\n",
              " -0.029793724417686462,\n",
              " -0.06725578010082245,\n",
              " 0.00028773865778930485,\n",
              " -0.005587732885032892,\n",
              " -0.02517017163336277,\n",
              " -0.0351841114461422,\n",
              " 0.002110200934112072,\n",
              " 0.024673985317349434,\n",
              " -0.04605510085821152,\n",
              " 0.016904160380363464,\n",
              " -0.0040061394684016705,\n",
              " 0.014614938758313656,\n",
              " -0.028282612562179565,\n",
              " -0.0026684103067964315,\n",
              " -0.016757560893893242,\n",
              " 0.009230190888047218,\n",
              " -0.04537848383188248,\n",
              " -0.0066308518871665,\n",
              " 0.031665701419115067,\n",
              " -0.01343085803091526,\n",
              " -0.013227872550487518,\n",
              " -0.0050971852615475655,\n",
              " 0.004829357378184795,\n",
              " 0.027064701542258263,\n",
              " -0.02460632473230362,\n",
              " -0.04246902838349342,\n",
              " 0.03286105766892433,\n",
              " -0.006027534604072571,\n",
              " -0.029793724417686462,\n",
              " 0.021302174776792526,\n",
              " 0.004736322909593582,\n",
              " 0.014817924238741398,\n",
              " 0.05430983379483223,\n",
              " -0.03482325002551079,\n",
              " 0.027042146772146225,\n",
              " -0.0018931194208562374,\n",
              " -0.02334330417215824,\n",
              " 0.026365529745817184,\n",
              " 0.010414271615445614,\n",
              " 0.004451579414308071,\n",
              " 0.01161526795476675,\n",
              " -0.03570285066962242,\n",
              " -0.0381837822496891,\n",
              " 0.033267028629779816,\n",
              " 0.006320735439658165,\n",
              " -0.01558475662022829,\n",
              " -0.02424546144902706,\n",
              " -0.026613622903823853,\n",
              " 0.040980469435453415,\n",
              " -0.00958541501313448,\n",
              " 0.004493867978453636,\n",
              " -0.07627734541893005,\n",
              " 0.02744811773300171,\n",
              " 0.016577130183577538,\n",
              " 0.011023227125406265,\n",
              " -0.044273339211940765,\n",
              " 0.03870252147316933,\n",
              " 0.023659059777855873,\n",
              " 0.047002363950014114,\n",
              " 0.045062728226184845,\n",
              " -0.03714630380272865,\n",
              " 0.027380455285310745,\n",
              " 0.01082588080316782,\n",
              " -0.0061290268786251545,\n",
              " 0.02844049036502838,\n",
              " -0.03660500794649124,\n",
              " -0.0012362366542220116,\n",
              " 0.018539320677518845,\n",
              " 0.027583440765738487,\n",
              " -0.007448431104421616,\n",
              " -0.025914451107382774,\n",
              " 0.018291227519512177,\n",
              " -0.008288565091788769,\n",
              " -0.004719407297670841,\n",
              " -0.008570488542318344,\n",
              " 0.001879023271612823,\n",
              " -0.06279010325670242,\n",
              " 0.031801022589206696,\n",
              " -0.036131374537944794,\n",
              " -0.011818252503871918,\n",
              " 0.01973467692732811,\n",
              " -0.00584146473556757,\n",
              " 0.014705154113471508,\n",
              " 0.04001064971089363,\n",
              " 0.010476294904947281,\n",
              " 0.021685590967535973,\n",
              " 0.008491549640893936,\n",
              " 0.011299512349069118,\n",
              " -0.003129356075078249,\n",
              " 0.08263755589723587,\n",
              " -0.006670321337878704,\n",
              " -0.045423589646816254,\n",
              " 0.01685905270278454,\n",
              " 0.015280279330909252,\n",
              " -0.054806020110845566,\n",
              " 0.009743292815983295,\n",
              " 0.0340564139187336,\n",
              " 0.015347940847277641,\n",
              " 0.011378451250493526,\n",
              " 0.024222906678915024,\n",
              " 0.038025904446840286,\n",
              " -0.03504878655076027,\n",
              " 0.025328049436211586,\n",
              " 0.01894529163837433,\n",
              " 0.010143624618649483,\n",
              " 0.021414944902062416,\n",
              " -0.039176154881715775,\n",
              " 0.012731686234474182,\n",
              " -0.015393048524856567,\n",
              " 0.005006969906389713,\n",
              " 0.021629206836223602,\n",
              " -0.012032515369355679,\n",
              " 0.016644790768623352,\n",
              " 0.007685247343033552,\n",
              " -0.005125377792865038,\n",
              " -0.0564299002289772,\n",
              " 0.014141306281089783,\n",
              " 0.0287787988781929,\n",
              " 0.017749933525919914,\n",
              " 0.02289222553372383,\n",
              " -0.046461071819067,\n",
              " -0.004868826828896999,\n",
              " 0.03389853984117508,\n",
              " -0.020828543230891228,\n",
              " 0.01252870075404644,\n",
              " -0.04727301001548767,\n",
              " 0.04709257930517197,\n",
              " -0.004042789805680513,\n",
              " -0.006540636066347361,\n",
              " -2.136455123036285e-06,\n",
              " 0.019610632210969925,\n",
              " -0.05476091057062149,\n",
              " -0.020005324855446815,\n",
              " -0.027966856956481934,\n",
              " 0.021211959421634674,\n",
              " 0.007848762907087803,\n",
              " 0.003969489596784115,\n",
              " 0.01965573988854885,\n",
              " 0.007747270632535219,\n",
              " 0.0037749619223177433,\n",
              " -0.03218444064259529,\n",
              " -0.054490264505147934,\n",
              " 0.04979905113577843,\n",
              " 0.02204645425081253,\n",
              " 0.03119206801056862,\n",
              " -0.015731357038021088,\n",
              " -0.009275298565626144,\n",
              " -0.02810218185186386,\n",
              " -0.017580779269337654,\n",
              " 0.008542296476662159,\n",
              " -0.039627231657505035,\n",
              " 0.048130061477422714,\n",
              " 0.009991385042667389,\n",
              " 0.020433848723769188,\n",
              " 0.01202123798429966,\n",
              " 0.042920105159282684,\n",
              " 0.056384794414043427,\n",
              " 0.007470985408872366,\n",
              " -0.02345607429742813,\n",
              " 0.007549923844635487,\n",
              " -0.029455415904521942,\n",
              " -0.00041055178735405207,\n",
              " 0.021719422191381454,\n",
              " -0.01029022503644228,\n",
              " 0.010752580128610134,\n",
              " 0.042108163237571716,\n",
              " 0.009624884463846684,\n",
              " 0.04118345305323601,\n",
              " -0.016024557873606682,\n",
              " -0.03401130810379982,\n",
              " -0.025102511048316956,\n",
              " -0.054129403084516525,\n",
              " -0.021448776125907898,\n",
              " 0.06238413602113724,\n",
              " 0.0039666700176894665,\n",
              " 0.016543298959732056,\n",
              " 0.008649427443742752,\n",
              " -0.03389853984117508,\n",
              " 0.03256785869598389,\n",
              " 0.014863031916320324,\n",
              " 0.02889156900346279,\n",
              " -0.011705483309924603,\n",
              " -0.03502623364329338,\n",
              " 0.0003894074761774391,\n",
              " 0.028305167332291603,\n",
              " 0.008079941384494305,\n",
              " -0.031101852655410767,\n",
              " -0.0037073001731187105,\n",
              " 0.0016238820971921086,\n",
              " -0.0029122745618224144,\n",
              " 0.04481463506817818,\n",
              " -0.001292621367610991,\n",
              " -0.05760270357131958,\n",
              " 0.04808495193719864,\n",
              " -0.01178442221134901,\n",
              " 0.0302899107336998,\n",
              " 0.008198348805308342,\n",
              " -0.00418093241751194,\n",
              " -0.003884912235662341,\n",
              " -0.003760865656659007,\n",
              " 0.07275893539190292,\n",
              " -0.010453741066157818,\n",
              " -0.08674236387014389,\n",
              " -0.05593371391296387,\n",
              " 0.013633843511343002,\n",
              " -0.03529687970876694,\n",
              " 0.01574263535439968,\n",
              " -0.02846304327249527,\n",
              " -0.02686171606183052,\n",
              " -0.04003320261836052,\n",
              " 0.003061694325879216,\n",
              " -0.036221589893102646,\n",
              " 0.05430983379483223,\n",
              " 0.020151926204562187,\n",
              " 0.016712453216314316,\n",
              " -0.047543659806251526,\n",
              " -0.006811283063143492,\n",
              " -0.005037981551140547,\n",
              " 0.03243253380060196,\n",
              " -0.010549594648182392,\n",
              " 0.009241467341780663,\n",
              " -0.01026203203946352,\n",
              " -0.01565241813659668,\n",
              " 0.03662756085395813,\n",
              " -0.019159553572535515,\n",
              " -0.011350259184837341,\n",
              " 0.04704747349023819,\n",
              " 0.038815293461084366,\n",
              " -5.5503780458820984e-05,\n",
              " 0.007831848226487637,\n",
              " 0.0010431186528876424,\n",
              " 0.005858379881829023,\n",
              " -0.03789058327674866,\n",
              " -0.010572148486971855,\n",
              " 0.020963866263628006,\n",
              " -0.0031575483735650778,\n",
              " 0.060354284942150116,\n",
              " -0.03195890039205551,\n",
              " 0.018110794946551323,\n",
              " 0.012630193494260311,\n",
              " 0.049618616700172424,\n",
              " 0.03628925234079361,\n",
              " 0.04488229751586914,\n",
              " 0.012404654175043106,\n",
              " 0.03922126442193985,\n",
              " 0.0376199334859848,\n",
              " 0.04253668710589409,\n",
              " 0.03283850476145744,\n",
              " 0.04546869918704033,\n",
              " 0.028192397207021713,\n",
              " -0.05092674493789673,\n",
              " -0.015235171653330326,\n",
              " 0.002510532969608903,\n",
              " -0.02922987751662731,\n",
              " -0.0003303796402178705,\n",
              " 0.01982489414513111,\n",
              " -0.017468009144067764,\n",
              " 0.026049774140119553,\n",
              " -0.057422272861003876,\n",
              " 0.04373204708099365,\n",
              " 0.019745955243706703,\n",
              " 0.013058718293905258,\n",
              " -0.054129403084516525,\n",
              " -0.008350588381290436,\n",
              " -0.022926056757569313,\n",
              " -0.07032311707735062,\n",
              " -0.03775525838136673,\n",
              " -0.05155825614929199,\n",
              " -0.008807305246591568,\n",
              " -0.036447130143642426,\n",
              " 0.024425892159342766,\n",
              " -0.026500852778553963,\n",
              " 0.001605557044968009,\n",
              " -0.014017259702086449,\n",
              " 0.026049774140119553,\n",
              " -0.01649819128215313,\n",
              " 0.007555562537163496,\n",
              " 0.011338981799781322,\n",
              " -0.013475965708494186,\n",
              " 0.025215279310941696,\n",
              " 0.038476984947919846,\n",
              " -0.020659388974308968,\n",
              " -0.008677619509398937,\n",
              " -0.035319436341524124,\n",
              " 0.05485112592577934,\n",
              " -0.018539320677518845,\n",
              " 0.0302899107336998,\n",
              " 0.011806976050138474,\n",
              " -0.018629536032676697,\n",
              " -0.02252008579671383,\n",
              " 0.0020848277490586042,\n",
              " -0.002067912369966507,\n",
              " 0.032364871352910995,\n",
              " 0.051197391003370285,\n",
              " -0.0010367754148319364,\n",
              " 0.0035353265702724457,\n",
              " -0.044949956238269806,\n",
              " -0.0007062195218168199,\n",
              " 0.0012489231303334236,\n",
              " -0.03516155853867531,\n",
              " 0.01787398010492325,\n",
              " -0.001380722620524466,\n",
              " -0.05967766419053078,\n",
              " -0.041115790605545044,\n",
              " 0.028372827917337418,\n",
              " -0.012382100336253643,\n",
              " -0.03608626872301102,\n",
              " -0.01178442221134901,\n",
              " -0.0031237176153808832,\n",
              " 0.005215593613684177,\n",
              " -0.033041488379240036,\n",
              " -0.044273339211940765,\n",
              " -0.015460710041224957,\n",
              " -0.019464030861854553,\n",
              " 0.025215279310941696,\n",
              " -0.001286278129555285,\n",
              " 0.022768178954720497,\n",
              " 0.05895594134926796,\n",
              " -0.0024499192368239164,\n",
              " -0.014096198603510857,\n",
              " -0.0282149501144886,\n",
              " 0.004778611473739147,\n",
              " 0.0275608878582716,\n",
              " 0.015054740011692047,\n",
              " 0.007172145880758762,\n",
              " -0.038386765867471695,\n",
              " 0.005458048079162836,\n",
              " 0.030222250148653984,\n",
              " 0.010859711095690727,\n",
              " -0.005988065153360367,\n",
              " -0.020478956401348114,\n",
              " -0.01257380936294794,\n",
              " -0.011451751925051212,\n",
              " -0.028417935594916344,\n",
              " 0.02812473475933075,\n",
              " 0.00924710649996996,\n",
              " -0.045964885503053665,\n",
              " 0.03624414652585983,\n",
              " -0.027357902377843857,\n",
              " -0.006241796538233757,\n",
              " 0.01892273686826229,\n",
              " -0.04488229751586914,\n",
              " -0.021978791803121567,\n",
              " 0.0282149501144886,\n",
              " 0.011863360181450844,\n",
              " 0.0157088041305542,\n",
              " -0.01781759411096573,\n",
              " 0.008666343055665493,\n",
              " 0.0018296865746378899,\n",
              " 0.032252103090286255,\n",
              " 0.021268343552947044,\n",
              " 0.03829655051231384,\n",
              " 0.0016126050613820553,\n",
              " 0.03775525838136673,\n",
              " -0.005207135807722807,\n",
              " -0.029455415904521942,\n",
              " -0.0009282346582040191,\n",
              " -0.01807696558535099,\n",
              " 0.035071343183517456,\n",
              " 0.03777781128883362,\n",
              " -0.00795589480549097,\n",
              " -0.007944617420434952,\n",
              " 0.05552774667739868,\n",
              " -0.03060566633939743,\n",
              " -0.007611947134137154,\n",
              " 0.016374144703149796,\n",
              " -0.03356022760272026,\n",
              " -0.03547731041908264,\n",
              " -0.0092189135029912,\n",
              " -0.002152489498257637,\n",
              " 0.02460632473230362,\n",
              " 0.03189123794436455,\n",
              " 0.023771829903125763,\n",
              " -0.011626544408500195,\n",
              " 0.019644461572170258,\n",
              " 0.02778642624616623,\n",
              " 0.029658401384949684,\n",
              " -0.014896862208843231,\n",
              " 0.023320751264691353,\n",
              " 0.009540307335555553,\n",
              " 0.03171080723404884,\n",
              " 0.00705937622115016,\n",
              " -0.006083919201046228,\n",
              " 0.006422228179872036,\n",
              " -0.03130483627319336,\n",
              " -0.04691214859485626,\n",
              " -0.0027205662336200476,\n",
              " 0.00924710649996996,\n",
              " 0.009179444052278996,\n",
              " 0.022847117856144905,\n",
              " 0.014378122054040432,\n",
              " 0.03597349673509598,\n",
              " -0.040078312158584595,\n",
              " -0.019159553572535515,\n",
              " -0.038251444697380066,\n",
              " -0.03500368073582649,\n",
              " 0.007307469379156828,\n",
              " -0.0037270348984748125,\n",
              " 0.010481933131814003,\n",
              " -0.012833178974688053,\n",
              " 0.007673970423638821,\n",
              " -0.009630522690713406,\n",
              " 0.03313170373439789,\n",
              " 0.03750716522336006,\n",
              " 0.028530705720186234,\n",
              " -0.0023357400204986334,\n",
              " -0.009376791305840015,\n",
              " 0.009715099819004536,\n",
              " 0.033289581537246704,\n",
              " 0.009207637049257755,\n",
              " 0.019948940724134445,\n",
              " -0.032387424260377884,\n",
              " -0.0055482638999819756,\n",
              " -0.023613952100276947,\n",
              " 0.004880103748291731,\n",
              " 0.031237175688147545,\n",
              " 0.05805378407239914,\n",
              " -0.023501181975007057,\n",
              " 0.021042805165052414,\n",
              " -0.0005011198809370399,\n",
              " 0.009292214177548885,\n",
              " 0.012077623046934605,\n",
              " 0.034078970551490784,\n",
              " -0.048581138253211975,\n",
              " -0.016622237861156464,\n",
              " 0.0012623146176338196,\n",
              " 0.0014152582734823227,\n",
              " -0.006760536693036556,\n",
              " -0.029996709898114204,\n",
              " 0.024628877639770508,\n",
              " 0.0002553173981141299,\n",
              " -0.00556799815967679,\n",
              " 0.07659310102462769,\n",
              " 0.03500368073582649,\n",
              " -0.03534198924899101,\n",
              " 0.024222906678915024,\n",
              " 0.004522060509771109,\n",
              " -0.0003275604103691876,\n",
              " 0.003025044221431017,\n",
              " 0.012765517458319664,\n",
              " -0.051287610083818436,\n",
              " -0.011226212605834007,\n",
              " 0.004017416387796402,\n",
              " 0.011406644247472286,\n",
              " -0.011192381381988525,\n",
              " 0.0037693234626203775,\n",
              " -0.019328707829117775,\n",
              " -0.029996709898114204,\n",
              " -0.03392109274864197,\n",
              " -0.024561217054724693,\n",
              " -0.007087568752467632,\n",
              " 0.007296192459762096,\n",
              " -0.0012989647220820189,\n",
              " -0.016182435676455498,\n",
              " -0.007752909325063229,\n",
              " 0.047543659806251526,\n",
              " 0.016971822828054428,\n",
              " -0.045852113515138626,\n",
              " 0.030086925253272057,\n",
              " -0.01627265103161335,\n",
              " -0.02415524609386921,\n",
              " -0.009827869944274426,\n",
              " -0.015370494686067104,\n",
              " -0.016532020643353462,\n",
              " 0.020197033882141113,\n",
              " -0.024809308350086212,\n",
              " -0.002686735475435853,\n",
              " 0.015156232751905918,\n",
              " -0.02381693758070469,\n",
              " 0.013791720382869244,\n",
              " -0.002686735475435853,\n",
              " 0.011073973961174488,\n",
              " 0.020659388974308968,\n",
              " -0.048806678503751755,\n",
              " -0.04282988980412483,\n",
              " 0.029568186029791832,\n",
              " -0.030470343306660652,\n",
              " -0.005379109177738428,\n",
              " -0.01979106292128563,\n",
              " 0.0026782776694744825,\n",
              " -0.04339373856782913,\n",
              " 0.008920074440538883,\n",
              " -0.062068380415439606,\n",
              " -0.08272776752710342,\n",
              " -0.030109480023384094,\n",
              " 0.04163453355431557,\n",
              " -0.04772409051656723,\n",
              " -0.04350650683045387,\n",
              " -0.00196782941929996,\n",
              " 0.036221589893102646,\n",
              " 0.02787664160132408,\n",
              " -0.032815948128700256,\n",
              " 0.020704496651887894,\n",
              " 0.008858051151037216,\n",
              " -0.003383087692782283,\n",
              " 0.00985606200993061,\n",
              " -0.03403386101126671,\n",
              " 0.03561263531446457,\n",
              " -0.0017690729582682252,\n",
              " -0.005108462180942297,\n",
              " -0.03888295218348503,\n",
              " -0.01383682806044817,\n",
              " 0.02300499565899372,\n",
              " -0.021155575290322304,\n",
              " -0.008294203318655491,\n",
              " -0.005982426460832357,\n",
              " -0.007408962119370699,\n",
              " 0.0019156733760610223,\n",
              " 0.0030927059706300497,\n",
              " 0.0022187416907399893,\n",
              " 0.015449433587491512,\n",
              " 0.022677963599562645,\n",
              " -0.008096856065094471,\n",
              " -0.03286105766892433,\n",
              " 0.002858709078282118,\n",
              " 0.026591068133711815,\n",
              " 0.0009303491096943617,\n",
              " 0.013002333231270313,\n",
              " -0.028079627081751823,\n",
              " -0.02530549466609955,\n",
              " 0.01945275440812111,\n",
              " -0.00792770180851221,\n",
              " 0.009089228697121143,\n",
              " -0.022993719205260277,\n",
              " -0.0340564139187336,\n",
              " -0.0073807695880532265,\n",
              " -0.0004126662097405642,\n",
              " -0.006382758729159832,\n",
              " -0.004541795235127211,\n",
              " 0.0541745088994503,\n",
              " -0.013419580645859241,\n",
              " 0.010775133967399597,\n",
              " 0.013216596096754074,\n",
              " -0.004144282545894384,\n",
              " -0.023320751264691353,\n",
              " 0.01883252151310444,\n",
              " 0.014152583666145802,\n",
              " -0.027966856956481934,\n",
              " 0.011474305763840675,\n",
              " 0.047543659806251526,\n",
              " -0.025914451107382774,\n",
              " 0.02311776578426361,\n",
              " -0.04249158129096031,\n",
              " 0.06671448796987534,\n",
              " -0.011750590987503529,\n",
              " -0.01507729385048151,\n",
              " 0.007611947134137154,\n",
              " 0.005937318783253431,\n",
              " -0.023659059777855873,\n",
              " -0.035657744854688644,\n",
              " -0.04226604104042053,\n",
              " 0.00872836634516716,\n",
              " 0.005965511314570904,\n",
              " 0.011919745244085789,\n",
              " 0.0006755603244528174,\n",
              " -0.02086237445473671,\n",
              " -0.00812504906207323,\n",
              " -0.03209422528743744,\n",
              " -0.012258053757250309,\n",
              " 0.016633514314889908,\n",
              " 0.017389070242643356,\n",
              " -0.01086534932255745,\n",
              " -0.041093237698078156,\n",
              " 0.02460632473230362,\n",
              " -0.08376524597406387,\n",
              " -0.0002223675255663693,\n",
              " -0.04208561033010483,\n",
              " 0.013058718293905258,\n",
              " -0.0020072986371815205,\n",
              " -0.0037411311641335487,\n",
              " -0.01892273686826229,\n",
              " 0.0064335050992667675,\n",
              " 0.024222906678915024,\n",
              " -0.026794053614139557,\n",
              " -7.070124411256984e-05,\n",
              " -0.012991056777536869,\n",
              " -0.006506805308163166,\n",
              " 0.017163531854748726,\n",
              " 0.0035409650299698114,\n",
              " -0.011637821793556213,\n",
              " 0.014366845600306988,\n",
              " 0.016362866386771202,\n",
              " -0.03211677819490433,\n",
              " -0.0007858630851842463,\n",
              " -0.018573151901364326,\n",
              " -0.025711465626955032,\n",
              " 0.009895531460642815,\n",
              " 0.006856390740722418,\n",
              " 0.025012293830513954,\n",
              " -0.014017259702086449,\n",
              " 0.013566181063652039,\n",
              " 0.01644180528819561,\n",
              " -0.006044449750334024,\n",
              " -0.009827869944274426,\n",
              " -0.03410152345895767,\n",
              " -0.009551583789288998,\n",
              " -0.0039666700176894665,\n",
              " 0.009269660338759422,\n",
              " 0.023636505007743835,\n",
              " 0.02170814573764801,\n",
              " 0.00628690468147397,\n",
              " -0.07334534078836441,\n",
              " -0.0005913355271331966,\n",
              " 8.488554158248007e-05,\n",
              " -0.003087067510932684,\n",
              " -0.008158879354596138,\n",
              " -0.01438939943909645,\n",
              " -0.025418264791369438,\n",
              " -0.04093535989522934,\n",
              " 0.0031378138810396194,\n",
              " -0.031913794577121735,\n",
              " 0.011705483309924603,\n",
              " -0.02620765194296837,\n",
              " 0.013757890090346336,\n",
              " 0.004555891267955303,\n",
              " -0.019870001822710037,\n",
              " 0.0008767835679464042,\n",
              " -0.016486912965774536,\n",
              " 0.004245774820446968,\n",
              " -0.02123451419174671,\n",
              " -0.004598179832100868,\n",
              " -0.024516107514500618,\n",
              " -0.02530549466609955,\n",
              " -0.0004729274660348892,\n",
              " -0.05782824382185936,\n",
              " -0.0021595375146716833,\n",
              " 0.032612964510917664,\n",
              " 0.03831910714507103,\n",
              " 0.009089228697121143,\n",
              " -0.04140899330377579,\n",
              " -0.032612964510917664,\n",
              " 0.013543627224862576,\n",
              " -0.0034366531763225794,\n",
              " -0.019915109500288963,\n",
              " 0.016915438696742058,\n",
              " 0.009201997891068459,\n",
              " 0.018223565071821213,\n",
              " -0.014073644764721394,\n",
              " -0.02844049036502838,\n",
              " 0.004936488810926676,\n",
              " -0.019689569249749184,\n",
              " 0.03511644899845123,\n",
              " -0.03344745934009552,\n",
              " 0.007375130895525217,\n",
              " -0.02347862906754017,\n",
              " 0.02114429697394371,\n",
              " -0.0003275604103691876,\n",
              " -0.02744811773300171,\n",
              " -0.00575124891474843,\n",
              " -0.00019047487876378,\n",
              " 0.0005240261671133339,\n",
              " -0.016340313479304314,\n",
              " 0.015979450196027756,\n",
              " 0.009264021180570126,\n",
              " -0.010668003000319004,\n",
              " -0.015460710041224957,\n",
              " 0.0027896377723664045,\n",
              " 0.00654627475887537,\n",
              " -0.010425548069179058,\n",
              " -0.015088571235537529,\n",
              " -0.016960546374320984,\n",
              " 0.03491346538066864,\n",
              " 0.022204332053661346,\n",
              " -0.007493539247661829,\n",
              " -0.007267999928444624,\n",
              " -0.016227543354034424,\n",
              " 0.048355598002672195,\n",
              " 0.026951931416988373,\n",
              " -0.009089228697121143,\n",
              " -0.03231976553797722,\n",
              " -0.0033887261524796486,\n",
              " 0.025125063955783844,\n",
              " -0.02844049036502838,\n",
              " 0.03094397485256195,\n",
              " -0.028666028752923012,\n",
              " -0.00469403387978673,\n",
              " -0.020648110657930374,\n",
              " -0.0014547277241945267,\n",
              " 0.036131374537944794,\n",
              " 0.01764843985438347,\n",
              " 0.004070982336997986,\n",
              " -0.04215327277779579,\n",
              " -0.0041471016593277454,\n",
              " -0.006021895911544561,\n",
              " 0.004347267560660839,\n",
              " -0.009957554750144482,\n",
              " 0.030086925253272057,\n",
              " -0.0024640155024826527,\n",
              " 0.006422228179872036,\n",
              " 0.002823468530550599,\n",
              " -0.023659059777855873,\n",
              " 0.01644180528819561,\n",
              " -0.01855059713125229,\n",
              " 0.0006780271651223302,\n",
              " 0.007127037737518549,\n",
              " 0.011288235895335674,\n",
              " 0.046325746923685074,\n",
              " 0.05620436370372772,\n",
              " 0.011406644247472286,\n",
              " -0.002982755657285452,\n",
              " -0.020118094980716705,\n",
              " 0.008942628279328346,\n",
              " 0.024561217054724693,\n",
              " -0.02868858352303505,\n",
              " 0.019125722348690033,\n",
              " -0.012404654175043106,\n",
              " -0.033379796892404556,\n",
              " 0.01858442835509777,\n",
              " -0.016509467735886574,\n",
              " -0.00853101909160614,\n",
              " 0.006298181600868702,\n",
              " -0.022813288494944572,\n",
              " -0.02336585894227028,\n",
              " -0.05331746116280556,\n",
              " 0.03421429172158241,\n",
              " -0.05841464549303055,\n",
              " 0.01798674836754799,\n",
              " 0.035657744854688644,\n",
              " -0.00283333589322865,\n",
              " -0.0026825065724551678,\n",
              " -0.0408225916326046,\n",
              " -0.010295863263309002,\n",
              " -0.008344949223101139,\n",
              " -0.0031462714541703463,\n",
              " -0.032026562839746475,\n",
              " 0.02325308881700039,\n",
              " -0.024516107514500618,\n",
              " -0.0054467711597681046,\n",
              " 0.03148527070879936,\n",
              " 0.009461368434131145,\n",
              " 0.0259595587849617,\n",
              " -0.015235171653330326,\n",
              " 0.02199007011950016,\n",
              " 0.006157219409942627,\n",
              " 0.01157015934586525,\n",
              " -0.000859868130646646,\n",
              " 0.009010289795696735,\n",
              " 0.0028023242484778166,\n",
              " 0.0073807695880532265,\n",
              " -0.039514463394880295,\n",
              " -0.021403668448328972,\n",
              " -0.0030757905915379524,\n",
              " -0.01661095954477787,\n",
              " 0.0010924553498625755,\n",
              " 0.0782620906829834,\n",
              " 0.008282925933599472,\n",
              " -0.013013610616326332,\n",
              " -0.010916096158325672,\n",
              " 0.015201340429484844,\n",
              " -0.022260716184973717,\n",
              " 0.003002490382641554,\n",
              " -0.01866336725652218,\n",
              " -0.04456654191017151,\n",
              " -0.04876156896352768,\n",
              " 0.003504314925521612,\n",
              " 0.01745673269033432,\n",
              " 0.0044769528321921825,\n",
              " 0.04249158129096031,\n",
              " -0.018742306157946587,\n",
              " 4.5239987230161205e-05,\n",
              " -0.01167165208607912,\n",
              " -0.024222906678915024,\n",
              " -0.005209954921156168,\n",
              " 0.01473898533731699,\n",
              " 0.0188099667429924,\n",
              " -0.014208967797458172,\n",
              " -0.06220370531082153,\n",
              " 0.038273997604846954,\n",
              " 0.024628877639770508,\n",
              " -0.02514761872589588,\n",
              " -0.02539571188390255,\n",
              " -0.016712453216314316,\n",
              " 0.013701505027711391,\n",
              " -0.024561217054724693,\n",
              " 0.022249439731240273,\n",
              " 0.0013870659749954939,\n",
              " 0.008102495223283768,\n",
              " 0.01582157239317894,\n",
              " -0.019294876605272293,\n",
              " -0.002406221115961671,\n",
              " 0.002768493490293622,\n",
              " -0.008164518512785435,\n",
              " 0.03446238487958908,\n",
              " -0.007719078101217747,\n",
              " 0.019046783447265625,\n",
              " 0.019362539052963257,\n",
              " -0.003820069832727313,\n",
              " 0.01343085803091526,\n",
              " -0.0030560558661818504,\n",
              " 0.04526571184396744,\n",
              " 0.021617930382490158,\n",
              " 0.008153241127729416,\n",
              " -0.016926715150475502,\n",
              " -0.02426801435649395,\n",
              " 0.021493883803486824,\n",
              " 0.04282988980412483,\n",
              " -0.011305151507258415,\n",
              " 0.04637085273861885,\n",
              " -0.015844127163290977,\n",
              " -0.02812473475933075,\n",
              " 0.01524644810706377,\n",
              " 0.014693877659738064,\n",
              " -0.0063320123590528965,\n",
              " 0.03619903698563576,\n",
              " 0.014750261791050434,\n",
              " 0.003428195370361209,\n",
              " 0.030538003891706467,\n",
              " -0.003822888946160674,\n",
              " 0.005353736225515604,\n",
              " -0.02359139733016491,\n",
              " -0.012156561948359013,\n",
              " 0.008480273187160492,\n",
              " 0.02232837863266468,\n",
              " 0.008063025772571564,\n",
              " 0.018956568092107773,\n",
              " -6.219947681529447e-05,\n",
              " 0.026478299871087074,\n",
              " 0.027741318568587303,\n",
              " 0.009264021180570126,\n",
              " 0.007876955904066563,\n",
              " -0.04260434955358505,\n",
              " -0.008373142220079899,\n",
              " -0.006749259773641825,\n",
              " 0.0014660046435892582,\n",
              " -0.006619574967771769,\n",
              " 0.025643805041909218,\n",
              " 0.008824219927191734,\n",
              " 0.017501840367913246,\n",
              " 0.011897191405296326,\n",
              " -0.02368161268532276,\n",
              " 0.017468009144067764,\n",
              " -0.026342974975705147,\n",
              " -0.010030854493379593,\n",
              " 0.03148527070879936,\n",
              " 0.004505144897848368,\n",
              " 0.02108791284263134,\n",
              " 0.042920105159282684,\n",
              " -0.02618509903550148,\n",
              " -0.0020115275401622057,\n",
              " -0.010397356003522873,\n",
              " -0.013261703774333,\n",
              " 0.0226666871458292,\n",
              " -0.01604711264371872,\n",
              " -0.0151449553668499,\n",
              " 0.01826867274940014,\n",
              " -0.016565851867198944,\n",
              " -0.00212852586992085,\n",
              " -0.01909189112484455,\n",
              " 0.0055059753358364105,\n",
              " 0.0023202341981232166,\n",
              " 0.020253418013453484,\n",
              " -0.016295205801725388,\n",
              " 0.033627890050411224,\n",
              " 0.033379796892404556,\n",
              " 0.0019875639118254185,\n",
              " -0.007989725098013878,\n",
              " -0.024448446929454803,\n",
              " -0.001933998428285122,\n",
              " -0.01343085803091526,\n",
              " 0.019215937703847885,\n",
              " -0.027831533923745155,\n",
              " 0.05994831398129463,\n",
              " 0.02334330417215824,\n",
              " -0.013701505027711391,\n",
              " -0.029996709898114204,\n",
              " -0.022903503850102425,\n",
              " 0.031349945813417435,\n",
              " ...]"
            ]
          },
          "metadata": {},
          "execution_count": 15
        }
      ]
    },
    {
      "cell_type": "code",
      "source": [
        "import numpy as np\n",
        "\n",
        "def cosine_similarity(vector1, vector2):\n",
        "    # Ensure that the vectors are numpy arrays\n",
        "    vector1 = np.array(vector1)\n",
        "    vector2 = np.array(vector2)\n",
        "\n",
        "    # Calculate the dot product of the vectors\n",
        "    dot_product = np.dot(vector1, vector2)\n",
        "\n",
        "    # Calculate the magnitude (norm) of the vectors\n",
        "    norm_vector1 = np.linalg.norm(vector1)\n",
        "    norm_vector2 = np.linalg.norm(vector2)\n",
        "\n",
        "    # Compute cosine similarity\n",
        "    if norm_vector1 == 0 or norm_vector2 == 0:\n",
        "        return 0  # Avoid division by zero\n",
        "    return dot_product / (norm_vector1 * norm_vector2)"
      ],
      "metadata": {
        "id": "of5PTiI6_v_7"
      },
      "execution_count": null,
      "outputs": []
    },
    {
      "cell_type": "code",
      "source": [
        "cosine_similarity(embedding1, embedding2), cosine_similarity(embedding1, embedding3), cosine_similarity(embedding2, embedding3)"
      ],
      "metadata": {
        "id": "m9aJr_JIAI4e"
      },
      "execution_count": null,
      "outputs": []
    },
    {
      "cell_type": "markdown",
      "source": [
        "### **Vectorstores**"
      ],
      "metadata": {
        "id": "_c6sV1LZAn2L"
      }
    },
    {
      "cell_type": "code",
      "source": [
        "from langchain_community.vectorstores import Chroma # Light-weight and in memory"
      ],
      "metadata": {
        "id": "P_-M_ifhAsAj"
      },
      "execution_count": null,
      "outputs": []
    },
    {
      "cell_type": "code",
      "source": [
        "persist_directory = 'docs/chroma/'\n",
        "!rm -rf ./docs/chroma  # remove old database files if any\n"
      ],
      "metadata": {
        "id": "psySqG1WAwCZ"
      },
      "execution_count": null,
      "outputs": []
    },
    {
      "cell_type": "code",
      "source": [
        "vectordb = Chroma.from_documents(\n",
        "    documents=splits, # splits we created earlier\n",
        "    embedding=embedding,\n",
        "    persist_directory=persist_directory, # save the directory\n",
        ")"
      ],
      "metadata": {
        "id": "Rfidz1UDA8B6"
      },
      "execution_count": null,
      "outputs": []
    },
    {
      "cell_type": "code",
      "source": [
        "print(vectordb._collection.count()) # same as number of splites"
      ],
      "metadata": {
        "id": "zy88zfxWBjOv"
      },
      "execution_count": null,
      "outputs": []
    },
    {
      "cell_type": "markdown",
      "source": [
        "### **Similarity Search**"
      ],
      "metadata": {
        "id": "34sLEBpRGm-u"
      }
    },
    {
      "cell_type": "code",
      "source": [
        "question = \"how does ensemble method works?\""
      ],
      "metadata": {
        "id": "X0o4yUxfGo_W"
      },
      "execution_count": null,
      "outputs": []
    },
    {
      "cell_type": "code",
      "source": [
        "docs = vectordb.similarity_search(question,k=6) # k --> No. of doc as return\n",
        "print(len(docs))\n",
        "for i in range(len(docs)):\n",
        "  print(docs[i].page_content,'\\n','####################')"
      ],
      "metadata": {
        "id": "BZsCVQUrGsEm",
        "collapsed": true
      },
      "execution_count": null,
      "outputs": []
    },
    {
      "cell_type": "markdown",
      "source": [
        "### **Edge case where failure may happen**\n",
        "\n",
        "1. Lack of Diversity : Semantic search fetches all similar documents, but does not enforce diversity.\n",
        "\n",
        "    - Notice that we're getting duplicate chunks (because of the duplicate `ens_d2.pdf` in the index). `docs[0]` and `docs[1]` are indentical.\n",
        "\n",
        "  **Addressing Diversity - MMR-Maximum Marginal Relevance**\n",
        "\n",
        "2. Lack of spefificity:  The question may be from a particular doc but answer may contain information from other doc.\n",
        "\n",
        "  **Addressing Specificity: Working with metadata - Manually**\n",
        "\n",
        "  **Working with metadata using self-query retriever -Automatically**"
      ],
      "metadata": {
        "id": "4F5AXqC6I3gN"
      }
    },
    {
      "cell_type": "code",
      "source": [
        "question= 'how ensemble method works?'\n",
        "docs = vectordb.similarity_search(question,k=3) # Without MMR\n",
        "for i in range(len(docs)):\n",
        "  print(docs[i].page_content,'\\n','####################')"
      ],
      "metadata": {
        "id": "jpwufsTuI-Uz"
      },
      "execution_count": null,
      "outputs": []
    },
    {
      "cell_type": "markdown",
      "source": [
        "**Example 1. Addressing Diversity - MMR-Maximum Marginal Relevance**"
      ],
      "metadata": {
        "id": "CVlwfHLOJNET"
      }
    },
    {
      "cell_type": "code",
      "source": [
        "docs_with_mmr=vectordb.max_marginal_relevance_search(question, k=3, fetch_k=6) # With MMR\n",
        "for i in range(len(docs_with_mmr)):\n",
        "  print(docs_with_mmr[i].page_content,'\\n','####################')"
      ],
      "metadata": {
        "id": "97gx2ZzBJO-z"
      },
      "execution_count": null,
      "outputs": []
    },
    {
      "cell_type": "markdown",
      "source": [
        "**Example 2. Addressing Specificity: Working with metadata - Manually**"
      ],
      "metadata": {
        "id": "SsZDx8-fJ8fE"
      }
    },
    {
      "cell_type": "code",
      "source": [
        "# Without metadata information\n",
        "question = \"what is the role of variance in pca?\"\n",
        "docs = vectordb.similarity_search(question,k=7)\n",
        "for doc in docs:\n",
        "    print(doc.metadata) # metadata contains information about from which doc the answer has been fetched"
      ],
      "metadata": {
        "id": "9IlD3OQhJ-Fb"
      },
      "execution_count": null,
      "outputs": []
    },
    {
      "cell_type": "markdown",
      "source": [
        "Notice above, the 2nd last information is from 'ens_d2' doc."
      ],
      "metadata": {
        "id": "yCRPVfiSO_eC"
      }
    },
    {
      "cell_type": "code",
      "source": [
        "# With metadata information\n",
        "question = \"what is the role of variance in pca?\"\n",
        "docs = vectordb.similarity_search(\n",
        "    question,\n",
        "    k=7,\n",
        "    filter={\"source\":'/content/pca_d1.pdf'} # manually passing metadata, using metadata filter.\n",
        ")\n",
        "\n",
        "for doc in docs:\n",
        "    print(doc.metadata)"
      ],
      "metadata": {
        "id": "it6xqSSrJ-NT"
      },
      "execution_count": null,
      "outputs": []
    },
    {
      "cell_type": "markdown",
      "source": [
        "[**Addressing Specificity -Automatically: Working with metadata using self-query retriever**](https://python.langchain.com/docs/how_to/self_query/)"
      ],
      "metadata": {
        "id": "0Ad08RAEPhVN"
      }
    },
    {
      "cell_type": "markdown",
      "source": [
        "### **Additional tricks: Compression**\n",
        "\n",
        "Another approach for improving the quality of retrieved docs is compression. Information most relevant to a query may be buried in a document with a lot of irrelevant text. Passing that full document through your application can lead to more expensive LLM calls and poorer responses.\n",
        "\n",
        "[Contextual compression](https://python.langchain.com/docs/how_to/contextual_compression/) is meant to fix this."
      ],
      "metadata": {
        "id": "vSpvKgQDQW6a"
      }
    },
    {
      "cell_type": "markdown",
      "source": [
        "### **Better Approach**\n",
        "\n",
        "**[Vectorstore as a retriever](https://python.langchain.com/docs/how_to/vectorstore_retriever/)**"
      ],
      "metadata": {
        "id": "SMc9GmSCT1on"
      }
    },
    {
      "cell_type": "code",
      "source": [
        "# Without MMR\n",
        "question = \"What is principal component analysis?\"\n",
        "retriever = vectordb.as_retriever(search_kwargs={\"k\": 3})\n",
        "docs = retriever.invoke(question)\n",
        "docs"
      ],
      "metadata": {
        "id": "s84yVVx2Tgl-"
      },
      "execution_count": null,
      "outputs": []
    },
    {
      "cell_type": "code",
      "source": [
        "# With MMR\n",
        "retriever = vectordb.as_retriever(search_type=\"mmr\",search_kwargs={\"k\": 5, \"fetch_k\":10})\n",
        "docs = retriever.invoke(question)\n",
        "docs"
      ],
      "metadata": {
        "id": "bfF5Yu7zT0QY"
      },
      "execution_count": null,
      "outputs": []
    },
    {
      "cell_type": "markdown",
      "source": [
        "### **Retrieval + Question Answering :  Connecting with LLMs**"
      ],
      "metadata": {
        "id": "wAVPB8_WLUu1"
      }
    },
    {
      "cell_type": "code",
      "source": [
        "retriever = vectordb.as_retriever(search_type=\"mmr\",search_kwargs={\"k\": 7, \"fetch_k\":15})"
      ],
      "metadata": {
        "id": "bnVoB_dnfwJD"
      },
      "execution_count": null,
      "outputs": []
    },
    {
      "cell_type": "code",
      "source": [
        "llm_name = \"gpt-4o-mini\"\n",
        "print(llm_name)"
      ],
      "metadata": {
        "colab": {
          "base_uri": "https://localhost:8080/"
        },
        "id": "Tld0bks6J-QV",
        "outputId": "43bfe3f6-a1bb-47dc-c212-278ea70d054b"
      },
      "execution_count": null,
      "outputs": [
        {
          "output_type": "stream",
          "name": "stdout",
          "text": [
            "gpt-4o-mini\n"
          ]
        }
      ]
    },
    {
      "cell_type": "code",
      "source": [
        "from langchain_openai import ChatOpenAI\n",
        "llm = ChatOpenAI(model_name=llm_name, temperature=0)"
      ],
      "metadata": {
        "id": "ZHd51H2ISEyU"
      },
      "execution_count": null,
      "outputs": []
    },
    {
      "cell_type": "code",
      "source": [
        "from langchain_core.prompts import PromptTemplate     #\n",
        "from langchain_core.output_parsers import StrOutputParser\n",
        "from langchain.schema.runnable import RunnablePassthrough"
      ],
      "metadata": {
        "id": "86wr6Mv6WLX3"
      },
      "execution_count": null,
      "outputs": []
    },
    {
      "cell_type": "code",
      "source": [
        "# Build prompt\n",
        "template = \"\"\"Use the following pieces of context to answer the question at the end.\n",
        "If you don't know the answer, just say that you don't know, don't try to make up an answer.\n",
        "Always say \"thanks for asking!\" at the end of the answer.\n",
        "{context}\n",
        "Question: {question}\n",
        "Helpful Answer:\"\"\"\n",
        "QA_PROMPT = PromptTemplate(input_variables=[\"context\", \"question\"],template=template,)"
      ],
      "metadata": {
        "id": "Ng1noLv0WVmY"
      },
      "execution_count": null,
      "outputs": []
    },
    {
      "cell_type": "markdown",
      "source": [
        "### **Creating final RAG Chain**"
      ],
      "metadata": {
        "id": "vSIy0CnwMv2h"
      }
    },
    {
      "cell_type": "code",
      "source": [
        "from langchain_core.runnables import RunnableLambda"
      ],
      "metadata": {
        "id": "0bv2ZukPQ1RB"
      },
      "execution_count": null,
      "outputs": []
    },
    {
      "cell_type": "code",
      "source": [
        "rag_chain= {\"context\":RunnableLambda(lambda x:x[\"question\"])| retriever,\n",
        "         \"question\": lambda x:x[\"question\"]}|QA_PROMPT | llm |StrOutputParser()"
      ],
      "metadata": {
        "id": "q_QXnGtqPb-4"
      },
      "execution_count": null,
      "outputs": []
    },
    {
      "cell_type": "code",
      "source": [
        "# Question 1\n",
        "response=rag_chain.invoke({\"question\" :\"What is principal component analysis?\"})\n",
        "print(response)"
      ],
      "metadata": {
        "id": "yZTws8pshNGc"
      },
      "execution_count": null,
      "outputs": []
    },
    {
      "cell_type": "markdown",
      "source": [
        "* Checking what is retreived from the retriever:"
      ],
      "metadata": {
        "id": "lAj9vHG3MHXd"
      }
    },
    {
      "cell_type": "code",
      "source": [
        "(RunnableLambda(lambda x:x[\"question\"])| retriever).invoke({\"question\" :\"What is principal component analysis?\"})"
      ],
      "metadata": {
        "colab": {
          "base_uri": "https://localhost:8080/"
        },
        "collapsed": true,
        "id": "L-L7nwl_NK6C",
        "outputId": "c5ef5c43-e011-42d9-f359-cdbbe0fcf15a"
      },
      "execution_count": null,
      "outputs": [
        {
          "output_type": "execute_result",
          "data": {
            "text/plain": [
              "[Document(metadata={'page': 1, 'source': '/content/pca_d1.pdf'}, page_content='2 \\n \\n \\n \\nSo, what does Principal Component Analysis (PCA) do? \\nPCA finds a new set of dimensions (or a set of basis of views) such that all the dimensions are  \\northogonal (and hence linearly independent) and ranked according to the variance of data along  \\nthem. It means more important principle axis occurs first. (more important = more variance/more  \\nspread out data) \\n \\nHow does PCA work? \\n• Calculate the covariance matrix X of data points.'),\n",
              " Document(metadata={'page': 0, 'source': '/content/pca_d1.pdf'}, page_content='1 \\n \\n \\nN \\n \\n1 Principal Component Analysis \\nIn real world data analysis tasks we analyze complex data i.e. multi dimensional data. We plot the  \\ndata and find various patterns in it or use it to train some machine learning models.  One way to  \\nthink about dimensions is that suppose you have an data point x , if we consider this data point as \\na physical object then dimensions are merely a basis of view, like where is the data located when'),\n",
              " Document(metadata={'page': 2, 'source': '/content/pca_d1.pdf'}, page_content='This defines the goal of PCA:- \\n1. Find linearly independent dimensions which can losslessly represent the data points. \\n2. Those newly found dimensions should allow us to predict/reconstruct the original dimensions.'),\n",
              " Document(metadata={'page': 2, 'source': '/content/pca_d1.pdf'}, page_content='• zero values as the off diagonal elements. \\nWe call it a diagonal matrix. So, we have to transform the original data points such that their  \\ncovariance is a diagonal matrix. \\nAlways normalize your data before doing PCA if we use data (features here) of different scales, we \\nget misleading components. We can also simply use correlation matrix instead of using covariance  \\nmatrix if features are of different scales. \\nThis defines the goal of PCA:-'),\n",
              " Document(metadata={'page': 0, 'source': '/content/pca_d1.pdf'}, page_content='Mathematically, it is the average squared deviation from the mean score. We use the following \\nformula to compute variance var(x). \\n \\nvar(x) = \\nΣ(xi−x¯)2 \\nN \\nCovariance :  It is a measure of the extent to which corresponding elements from two sets of  \\nordered data move in the same direction. Formula is shown below denoted by cov(x,y) as the  \\ncovariance of x and y. \\nvar(x)  =  \\nΣ(xi−x¯)(yi−y¯) \\n• Here, xi is the value of x in ith dimension.'),\n",
              " Document(metadata={'page': 0, 'source': '/content/ens_d2.pdf'}, page_content='considered. The product is bought by the user when the combined ratings of the group is positive. \\nThe user gets a fairer idea about the product when all the ratings are combined. \\nHere, the combination of ratings is done so that the decision making process of the user is made  \\neasy. \\nEnsemble Methods refer to combining many different machine learning models in order to get a  \\nmore powerful prediction. \\nThus, ensemble methods increase the accuracy of the predictions.'),\n",
              " Document(metadata={'page': 1, 'source': '/content/ens_d2.pdf'}, page_content='subset of features is selected, further randomizing the tree. \\nAs a result, the bias of the forest increases slightly, but due to the averaging of less correlated  \\ntrees, its variance decreases, resulting in an overall better model.')]"
            ]
          },
          "metadata": {},
          "execution_count": 44
        }
      ]
    },
    {
      "cell_type": "code",
      "source": [
        "# Question 2\n",
        "response=rag_chain.invoke({\"question\" :\"how ensemble method works?\"})\n",
        "print(response)"
      ],
      "metadata": {
        "id": "2vlsmXr5idfb",
        "collapsed": true
      },
      "execution_count": null,
      "outputs": []
    },
    {
      "cell_type": "markdown",
      "source": [
        "* Checking what is retreived from the retriever:"
      ],
      "metadata": {
        "id": "sofdI_qqROuq"
      }
    },
    {
      "cell_type": "code",
      "source": [
        "(RunnableLambda(lambda x:x[\"question\"])| retriever).invoke({\"question\" :\"how ensemble method works?\"})"
      ],
      "metadata": {
        "id": "PC2vBYJeRN8y"
      },
      "execution_count": null,
      "outputs": []
    },
    {
      "cell_type": "code",
      "source": [
        "# Question 3\n",
        "response=rag_chain.invoke({\"question\" :\"What is Linear Regression? \"})\n",
        "print(response)"
      ],
      "metadata": {
        "id": "uvVyAPllPhrW",
        "collapsed": true
      },
      "execution_count": null,
      "outputs": []
    },
    {
      "cell_type": "markdown",
      "source": [
        "* Checking what is retreived from the retriever:"
      ],
      "metadata": {
        "id": "LDgq7LeKRrlX"
      }
    },
    {
      "cell_type": "code",
      "source": [
        "(RunnableLambda(lambda x:x[\"question\"])| retriever).invoke({\"question\" :\"What is Linear Regression? \"})"
      ],
      "metadata": {
        "id": "UeOCTCTzRsfW"
      },
      "execution_count": null,
      "outputs": []
    },
    {
      "cell_type": "markdown",
      "source": [
        "[**Details of Chroma through LangChain**](https://python.langchain.com/docs/integrations/vectorstores/chroma/)"
      ],
      "metadata": {
        "id": "BK8ISVozuENp"
      }
    },
    {
      "cell_type": "markdown",
      "source": [
        "### **Download the vector DB**"
      ],
      "metadata": {
        "id": "v7OnDFDbk_BI"
      }
    },
    {
      "cell_type": "code",
      "source": [
        "# Zip the entire folder\n",
        "!zip -r /content/docs.zip /content/docs"
      ],
      "metadata": {
        "id": "A0_0aghhlBzP"
      },
      "execution_count": null,
      "outputs": []
    },
    {
      "cell_type": "code",
      "source": [
        "from google.colab import files\n",
        "files.download(\"/content/docs.zip\")"
      ],
      "metadata": {
        "id": "koEmhPTMlE5o"
      },
      "execution_count": null,
      "outputs": []
    },
    {
      "cell_type": "markdown",
      "source": [
        "### **Upload the vector db from previous step and unzip**"
      ],
      "metadata": {
        "id": "X7bjem50lIzp"
      }
    },
    {
      "cell_type": "code",
      "source": [
        "!unzip /content/docs.zip  -d /"
      ],
      "metadata": {
        "id": "oBND2d4glLY-"
      },
      "execution_count": null,
      "outputs": []
    },
    {
      "cell_type": "code",
      "source": [
        "embedding = OpenAIEmbeddings()\n",
        "\n",
        "vectordb = Chroma(persist_directory = 'docs/chroma/',\n",
        "                  embedding_function = embedding\n",
        "                  )"
      ],
      "metadata": {
        "id": "n3Msb--vlQCy"
      },
      "execution_count": null,
      "outputs": []
    },
    {
      "cell_type": "markdown",
      "source": [
        "### **Re-ranking example wiht Open Source model**\n",
        "\n",
        "* [Retrieve & Re-Rank](https://www.sbert.net/examples/applications/retrieve_rerank/README.html)\n",
        "* [MS MARCO Cross-Encoders](https://www.sbert.net/docs/pretrained-models/ce-msmarco.html) for Re-ranking\n",
        "  * Usage with **SentenceTransformers\n",
        "Pre-trained models** can be used like this:"
      ],
      "metadata": {
        "id": "PA3x6T9IWXi1"
      }
    },
    {
      "cell_type": "code",
      "source": [
        "!pip install sentence-transformers"
      ],
      "metadata": {
        "id": "TIubSoecWf-w",
        "colab": {
          "base_uri": "https://localhost:8080/"
        },
        "collapsed": true,
        "outputId": "a26fa9e8-0e6d-4ec0-c954-4ec21a957cb9"
      },
      "execution_count": null,
      "outputs": [
        {
          "output_type": "stream",
          "name": "stdout",
          "text": [
            "Requirement already satisfied: sentence-transformers in /usr/local/lib/python3.10/dist-packages (3.2.1)\n",
            "Requirement already satisfied: transformers<5.0.0,>=4.41.0 in /usr/local/lib/python3.10/dist-packages (from sentence-transformers) (4.44.2)\n",
            "Requirement already satisfied: tqdm in /usr/local/lib/python3.10/dist-packages (from sentence-transformers) (4.66.6)\n",
            "Requirement already satisfied: torch>=1.11.0 in /usr/local/lib/python3.10/dist-packages (from sentence-transformers) (2.5.0+cu121)\n",
            "Requirement already satisfied: scikit-learn in /usr/local/lib/python3.10/dist-packages (from sentence-transformers) (1.5.2)\n",
            "Requirement already satisfied: scipy in /usr/local/lib/python3.10/dist-packages (from sentence-transformers) (1.13.1)\n",
            "Requirement already satisfied: huggingface-hub>=0.20.0 in /usr/local/lib/python3.10/dist-packages (from sentence-transformers) (0.24.7)\n",
            "Requirement already satisfied: Pillow in /usr/local/lib/python3.10/dist-packages (from sentence-transformers) (10.4.0)\n",
            "Requirement already satisfied: filelock in /usr/local/lib/python3.10/dist-packages (from huggingface-hub>=0.20.0->sentence-transformers) (3.16.1)\n",
            "Requirement already satisfied: fsspec>=2023.5.0 in /usr/local/lib/python3.10/dist-packages (from huggingface-hub>=0.20.0->sentence-transformers) (2024.10.0)\n",
            "Requirement already satisfied: packaging>=20.9 in /usr/local/lib/python3.10/dist-packages (from huggingface-hub>=0.20.0->sentence-transformers) (24.1)\n",
            "Requirement already satisfied: pyyaml>=5.1 in /usr/local/lib/python3.10/dist-packages (from huggingface-hub>=0.20.0->sentence-transformers) (6.0.2)\n",
            "Requirement already satisfied: requests in /usr/local/lib/python3.10/dist-packages (from huggingface-hub>=0.20.0->sentence-transformers) (2.32.3)\n",
            "Requirement already satisfied: typing-extensions>=3.7.4.3 in /usr/local/lib/python3.10/dist-packages (from huggingface-hub>=0.20.0->sentence-transformers) (4.12.2)\n",
            "Requirement already satisfied: networkx in /usr/local/lib/python3.10/dist-packages (from torch>=1.11.0->sentence-transformers) (3.4.2)\n",
            "Requirement already satisfied: jinja2 in /usr/local/lib/python3.10/dist-packages (from torch>=1.11.0->sentence-transformers) (3.1.4)\n",
            "Requirement already satisfied: sympy==1.13.1 in /usr/local/lib/python3.10/dist-packages (from torch>=1.11.0->sentence-transformers) (1.13.1)\n",
            "Requirement already satisfied: mpmath<1.4,>=1.1.0 in /usr/local/lib/python3.10/dist-packages (from sympy==1.13.1->torch>=1.11.0->sentence-transformers) (1.3.0)\n",
            "Requirement already satisfied: numpy>=1.17 in /usr/local/lib/python3.10/dist-packages (from transformers<5.0.0,>=4.41.0->sentence-transformers) (1.26.4)\n",
            "Requirement already satisfied: regex!=2019.12.17 in /usr/local/lib/python3.10/dist-packages (from transformers<5.0.0,>=4.41.0->sentence-transformers) (2024.9.11)\n",
            "Requirement already satisfied: safetensors>=0.4.1 in /usr/local/lib/python3.10/dist-packages (from transformers<5.0.0,>=4.41.0->sentence-transformers) (0.4.5)\n",
            "Requirement already satisfied: tokenizers<0.20,>=0.19 in /usr/local/lib/python3.10/dist-packages (from transformers<5.0.0,>=4.41.0->sentence-transformers) (0.19.1)\n",
            "Requirement already satisfied: joblib>=1.2.0 in /usr/local/lib/python3.10/dist-packages (from scikit-learn->sentence-transformers) (1.4.2)\n",
            "Requirement already satisfied: threadpoolctl>=3.1.0 in /usr/local/lib/python3.10/dist-packages (from scikit-learn->sentence-transformers) (3.5.0)\n",
            "Requirement already satisfied: MarkupSafe>=2.0 in /usr/local/lib/python3.10/dist-packages (from jinja2->torch>=1.11.0->sentence-transformers) (3.0.2)\n",
            "Requirement already satisfied: charset-normalizer<4,>=2 in /usr/local/lib/python3.10/dist-packages (from requests->huggingface-hub>=0.20.0->sentence-transformers) (3.4.0)\n",
            "Requirement already satisfied: idna<4,>=2.5 in /usr/local/lib/python3.10/dist-packages (from requests->huggingface-hub>=0.20.0->sentence-transformers) (3.10)\n",
            "Requirement already satisfied: urllib3<3,>=1.21.1 in /usr/local/lib/python3.10/dist-packages (from requests->huggingface-hub>=0.20.0->sentence-transformers) (2.2.3)\n",
            "Requirement already satisfied: certifi>=2017.4.17 in /usr/local/lib/python3.10/dist-packages (from requests->huggingface-hub>=0.20.0->sentence-transformers) (2024.8.30)\n"
          ]
        }
      ]
    },
    {
      "cell_type": "code",
      "source": [
        "import torch"
      ],
      "metadata": {
        "id": "-5rvWyYAWivF"
      },
      "execution_count": null,
      "outputs": []
    },
    {
      "cell_type": "markdown",
      "source": [],
      "metadata": {
        "id": "rOKKlmIsYCPx"
      }
    },
    {
      "cell_type": "code",
      "source": [
        "# Define a query and some candidate sentences\n",
        "query = \"I love programming in Python.\"\n",
        "\n",
        "# Some toy data representing candidate sentences/documents\n",
        "candidates = [\n",
        "    \"Python is a great programming language.\",\n",
        "    \"I enjoy long walks on the beach.\",\n",
        "    \"Machine learning can be used to build models.\",\n",
        "    \"I like writing code in Python.\",\n",
        "    \"Artificial intelligence is fascinating.\"\n",
        "]"
      ],
      "metadata": {
        "id": "9u03fhy1YYg7"
      },
      "execution_count": null,
      "outputs": []
    },
    {
      "cell_type": "code",
      "source": [
        "Paragraph1=candidates[0]\n",
        "Paragraph2=candidates[1]\n",
        "Paragraph3=candidates[2]"
      ],
      "metadata": {
        "id": "n7q1VsA2YdBs"
      },
      "execution_count": null,
      "outputs": []
    },
    {
      "cell_type": "code",
      "source": [
        "from sentence_transformers import CrossEncoder\n",
        "model_name='cross-encoder/ms-marco-TinyBERT-L-2-v2'\n",
        "model = CrossEncoder(model_name, max_length=512)\n",
        "scores = model.predict([(query, Paragraph1), (query, Paragraph2), (query, Paragraph3)])\n",
        "print(scores)"
      ],
      "metadata": {
        "id": "4U0xQYxsX6sB"
      },
      "execution_count": null,
      "outputs": []
    },
    {
      "cell_type": "markdown",
      "source": [
        "* **Usage with Transformers**"
      ],
      "metadata": {
        "id": "gEbtrWaLZSSb"
      }
    },
    {
      "cell_type": "code",
      "source": [
        "from transformers import AutoTokenizer, AutoModelForSequenceClassification\n",
        "import torch\n",
        "\n",
        "model = AutoModelForSequenceClassification.from_pretrained(model_name)\n",
        "tokenizer = AutoTokenizer.from_pretrained(model_name)\n",
        "\n",
        "features = tokenizer([query, query, query], [Paragraph1, Paragraph2, Paragraph3], padding=True, truncation=True, return_tensors=\"pt\")\n",
        "\n",
        "model.eval()\n",
        "with torch.no_grad():\n",
        "    scores = model(**features).logits\n",
        "    print(scores)"
      ],
      "metadata": {
        "id": "ptGs7b9rZUs6"
      },
      "execution_count": null,
      "outputs": []
    }
  ]
}