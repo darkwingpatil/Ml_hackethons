{
  "nbformat": 4,
  "nbformat_minor": 0,
  "metadata": {
    "accelerator": "GPU",
    "colab": {
      "provenance": [],
      "gpuType": "T4",
      "include_colab_link": true
    },
    "kernelspec": {
      "display_name": "Python 3",
      "name": "python3"
    }
  },
  "cells": [
    {
      "cell_type": "markdown",
      "metadata": {
        "id": "view-in-github",
        "colab_type": "text"
      },
      "source": [
        "<a href=\"https://colab.research.google.com/github/darkwingpatil/Ml_hackethons/blob/main/Convolution_FashionMNIST_CNN_C.ipynb\" target=\"_parent\"><img src=\"https://colab.research.google.com/assets/colab-badge.svg\" alt=\"Open In Colab\"/></a>"
      ]
    },
    {
      "cell_type": "markdown",
      "metadata": {
        "id": "fKYsgPAIs26K"
      },
      "source": [
        "# Advanced Certification in AIML\n",
        "## A Program by IIIT-H and TalentSprint"
      ]
    },
    {
      "cell_type": "markdown",
      "metadata": {
        "id": "9-ScFyDQs9Py"
      },
      "source": [
        "## Learning Objectives"
      ]
    },
    {
      "cell_type": "markdown",
      "metadata": {
        "id": "xjaxZyKLs_yr"
      },
      "source": [
        "At the end of the experiment you will be able to :\n",
        "\n",
        "* understand Fashion-MNIST dataset\n",
        "* classify Fashion-MNIST data using neural networks\n"
      ]
    },
    {
      "cell_type": "code",
      "metadata": {
        "id": "ez6veGEcbT8g",
        "cellView": "form"
      },
      "source": [
        "#@title Experiment Explanation Video\n",
        "from IPython.display import HTML\n",
        "\n",
        "HTML(\"\"\"<video width=\"854\" height=\"480\" controls>\n",
        "  <source src=\"https://cdn.talentsprint.com/talentsprint/archives/sc/aiml/aiml_batch_15/preview_videos/Fashion_MNIST.mp4\" type=\"video/mp4\">\n",
        "</video>\n",
        "\"\"\")"
      ],
      "execution_count": null,
      "outputs": []
    },
    {
      "cell_type": "markdown",
      "metadata": {
        "id": "3mE8sH-otYGH"
      },
      "source": [
        "## Dataset"
      ]
    },
    {
      "cell_type": "markdown",
      "metadata": {
        "id": "-s7GpYrkCaSB"
      },
      "source": [
        "### History"
      ]
    },
    {
      "cell_type": "markdown",
      "metadata": {
        "id": "9-sRjaldCcCI"
      },
      "source": [
        "The original MNIST dataset contains handwritten digits. People from AI/ML or Data Science community love this dataset. They use it as a benchmark to validate their algorithms. In fact, MNIST is often the first dataset they would try on. As per popular belief, If the algorithm doesn’t work on MNIST, it won’t work at all. Well, if algorithm works on MNIST, it may still fail on other datasets.\n",
        "\n",
        "\n",
        "As per the original [paper](https://arxiv.org/abs/1708.07747) describing about Fashion-MNIST, It is a dataset recomposed from the product pictures of Zalando’s websites. Fashion-MNIST is intended to serve as a direct drop-in replacement for the original MNIST dataset for benchmarking machine learning algorithms, as it shares the same image size, data format and the structure of training and testing splits.\n",
        "\n",
        "There are some good reasons for the challenges faced by MNIST dataset:\n",
        "\n",
        "* MNIST is too easy - Neural networks can achieve 99.7% on MNIST easily, and similarly, even classic ML algorithms can achieve 97%.\n",
        "\n",
        "* MNIST is overused - Almost everyone who has experience with deep learning has come across MNIST at least once.\n",
        "\n",
        "* MNIST cannot represent modern CV task\n",
        "\n",
        "\n",
        "\n"
      ]
    },
    {
      "cell_type": "markdown",
      "metadata": {
        "id": "ijqHaydutZ5K"
      },
      "source": [
        "### Description"
      ]
    },
    {
      "cell_type": "markdown",
      "metadata": {
        "id": "6ANHcoEyg_gp"
      },
      "source": [
        "The dataset choosen for this experiment is Fashion-MNIST. The dataset is made up of 28x28 grayscale images of 70,000 fashion products from 10 categories, with 7,000 images per category. The training set has 60,000 images and the test set has 10,000 images.\n",
        "\n",
        "Each image is 28 pixels in height and 28 pixels in width, for a total of 784 pixels in total. Each pixel has a single pixel-value associated with it, indicating the lightness or darkness of that pixel, with higher numbers meaning darker. This pixel-value is an integer between 0 and 255.\n",
        "\n",
        "**Labels / Classes**\n",
        "\n",
        "0 - T-shirt/top\n",
        "\n",
        "1 - Trouser\n",
        "\n",
        "2 - Pullover\n",
        "\n",
        "3 - Dress\n",
        "\n",
        "4 - Coat\n",
        "\n",
        "5 - Sandal\n",
        "\n",
        "6 - Shirt\n",
        "\n",
        "7 - Sneaker\n",
        "\n",
        "8 - Bag\n",
        "\n",
        "9 - Ankle boot"
      ]
    },
    {
      "cell_type": "markdown",
      "metadata": {
        "id": "qUmaxUW-rpxU"
      },
      "source": [
        "### Setup Steps:"
      ]
    },
    {
      "cell_type": "code",
      "metadata": {
        "id": "XcrXxhfmrpxg"
      },
      "source": [
        "#@title Please enter your registration id to start: { run: \"auto\", display-mode: \"form\" }\n",
        "Id = \"2304145\" #@param {type:\"string\"}"
      ],
      "execution_count": 1,
      "outputs": []
    },
    {
      "cell_type": "code",
      "metadata": {
        "id": "iDAfm706rpxg"
      },
      "source": [
        "#@title Please enter your password (normally your phone number) to continue: { run: \"auto\", display-mode: \"form\" }\n",
        "password = \"7892449987\" #@param {type:\"string\"}"
      ],
      "execution_count": 2,
      "outputs": []
    },
    {
      "cell_type": "code",
      "metadata": {
        "cellView": "form",
        "id": "KvdKENTWrpxh",
        "colab": {
          "base_uri": "https://localhost:8080/",
          "height": 35
        },
        "outputId": "1624c90d-b2f5-4574-b490-06f07b4cc73d"
      },
      "source": [
        "#@title Run this cell to complete the setup for this Notebook\n",
        "from IPython import get_ipython\n",
        "import re\n",
        "ipython = get_ipython()\n",
        "\n",
        "notebook= \"U3W12_41_FashionMNIST_CNN_C\" #name of the notebook\n",
        "\n",
        "def setup():\n",
        "#  ipython.magic(\"sx pip3 install torch\")\n",
        "    from IPython.display import HTML, display\n",
        "    ipython.magic(\"sx pip3 install torch\")\n",
        "    ipython.magic(\"sx pip3 install torchvision\")\n",
        "    display(HTML('<script src=\"https://dashboard.talentsprint.com/aiml/record_ip.html?traineeId={0}&recordId={1}\"></script>'.format(getId(),submission_id)))\n",
        "    print(\"Setup completed successfully\")\n",
        "    return\n",
        "\n",
        "def submit_notebook():\n",
        "    ipython.magic(\"notebook -e \"+ notebook + \".ipynb\")\n",
        "\n",
        "    import requests, json, base64, datetime\n",
        "\n",
        "    url = \"https://dashboard.talentsprint.com/xp/app/save_notebook_attempts\"\n",
        "    if not submission_id:\n",
        "      data = {\"id\" : getId(), \"notebook\" : notebook, \"mobile\" : getPassword()}\n",
        "      r = requests.post(url, data = data)\n",
        "      r = json.loads(r.text)\n",
        "\n",
        "      if r[\"status\"] == \"Success\":\n",
        "          return r[\"record_id\"]\n",
        "      elif \"err\" in r:\n",
        "        print(r[\"err\"])\n",
        "        return None\n",
        "      else:\n",
        "        print (\"Something is wrong, the notebook will not be submitted for grading\")\n",
        "        return None\n",
        "\n",
        "    elif getAnswer() and getComplexity() and getAdditional() and getConcepts() and getWalkthrough() and getComments() and getMentorSupport():\n",
        "      f = open(notebook + \".ipynb\", \"rb\")\n",
        "      file_hash = base64.b64encode(f.read())\n",
        "\n",
        "      data = {\"complexity\" : Complexity, \"additional\" :Additional,\n",
        "              \"concepts\" : Concepts, \"record_id\" : submission_id,\n",
        "              \"answer\" : Answer, \"id\" : Id, \"file_hash\" : file_hash,\n",
        "              \"notebook\" : notebook, \"feedback_walkthrough\":Walkthrough ,\n",
        "              \"feedback_experiments_input\" : Comments,\n",
        "              \"feedback_inclass_mentor\": Mentor_support}\n",
        "\n",
        "      r = requests.post(url, data = data)\n",
        "      r = json.loads(r.text)\n",
        "      if \"err\" in r:\n",
        "        print(r[\"err\"])\n",
        "        return None\n",
        "      else:\n",
        "        print(\"Your submission is successful.\")\n",
        "        print(\"Ref Id:\", submission_id)\n",
        "        print(\"Date of submission: \", r[\"date\"])\n",
        "        print(\"Time of submission: \", r[\"time\"])\n",
        "        print(\"View your submissions: https://aiml-iiith.talentsprint.com/notebook_submissions\")\n",
        "        #print(\"For any queries/discrepancies, please connect with mentors through the chat icon in LMS dashboard.\")\n",
        "        return submission_id\n",
        "    else: submission_id\n",
        "\n",
        "\n",
        "def getAdditional():\n",
        "  try:\n",
        "    if not Additional:\n",
        "      raise NameError\n",
        "    else:\n",
        "      return Additional\n",
        "  except NameError:\n",
        "    print (\"Please answer Additional Question\")\n",
        "    return None\n",
        "\n",
        "def getComplexity():\n",
        "  try:\n",
        "    if not Complexity:\n",
        "      raise NameError\n",
        "    else:\n",
        "      return Complexity\n",
        "  except NameError:\n",
        "    print (\"Please answer Complexity Question\")\n",
        "    return None\n",
        "\n",
        "def getConcepts():\n",
        "  try:\n",
        "    if not Concepts:\n",
        "      raise NameError\n",
        "    else:\n",
        "      return Concepts\n",
        "  except NameError:\n",
        "    print (\"Please answer Concepts Question\")\n",
        "    return None\n",
        "\n",
        "\n",
        "def getWalkthrough():\n",
        "  try:\n",
        "    if not Walkthrough:\n",
        "      raise NameError\n",
        "    else:\n",
        "      return Walkthrough\n",
        "  except NameError:\n",
        "    print (\"Please answer Walkthrough Question\")\n",
        "    return None\n",
        "\n",
        "def getComments():\n",
        "  try:\n",
        "    if not Comments:\n",
        "      raise NameError\n",
        "    else:\n",
        "      return Comments\n",
        "  except NameError:\n",
        "    print (\"Please answer Comments Question\")\n",
        "    return None\n",
        "\n",
        "\n",
        "def getMentorSupport():\n",
        "  try:\n",
        "    if not Mentor_support:\n",
        "      raise NameError\n",
        "    else:\n",
        "      return Mentor_support\n",
        "  except NameError:\n",
        "    print (\"Please answer Mentor support Question\")\n",
        "    return None\n",
        "\n",
        "def getAnswer():\n",
        "  try:\n",
        "    if not Answer:\n",
        "      raise NameError\n",
        "    else:\n",
        "      return Answer\n",
        "  except NameError:\n",
        "    print (\"Please answer Question\")\n",
        "    return None\n",
        "\n",
        "\n",
        "def getId():\n",
        "  try:\n",
        "    return Id if Id else None\n",
        "  except NameError:\n",
        "    return None\n",
        "\n",
        "def getPassword():\n",
        "  try:\n",
        "    return password if password else None\n",
        "  except NameError:\n",
        "    return None\n",
        "\n",
        "submission_id = None\n",
        "### Setup\n",
        "if getPassword() and getId():\n",
        "  submission_id = submit_notebook()\n",
        "  if submission_id:\n",
        "    setup()\n",
        "else:\n",
        "  print (\"Please complete Id and Password cells before running setup\")\n",
        "\n"
      ],
      "execution_count": 3,
      "outputs": [
        {
          "output_type": "display_data",
          "data": {
            "text/plain": [
              "<IPython.core.display.HTML object>"
            ],
            "text/html": [
              "<script src=\"https://dashboard.talentsprint.com/aiml/record_ip.html?traineeId=2304145&recordId=5281\"></script>"
            ]
          },
          "metadata": {}
        },
        {
          "output_type": "stream",
          "name": "stdout",
          "text": [
            "Setup completed successfully\n"
          ]
        }
      ]
    },
    {
      "cell_type": "markdown",
      "metadata": {
        "id": "QB0bQEYVZoFV"
      },
      "source": [
        "## Importing the Required Packages"
      ]
    },
    {
      "cell_type": "markdown",
      "metadata": {
        "id": "no90mbVqbGJb"
      },
      "source": [
        "* First, we import pytorch, the deep learning library which we’ll be using, and torchvision, which provides our dataset and data transformations.\n",
        "\n",
        "* We also import torch.nn (pytorch’s neural network library), torch.nn.functional (includes non-linear functions like ReLu and sigmoid) and torch.optim for implementing various optimization algorithms."
      ]
    },
    {
      "cell_type": "code",
      "metadata": {
        "id": "xus61CSGmqxs"
      },
      "source": [
        "# Importing torch packages\n",
        "import torch.nn as nn\n",
        "import torch.nn.functional as F\n",
        "import torch.optim as optim\n",
        "import torch\n",
        "import torchvision\n",
        "from torchvision import datasets, transforms\n",
        "import matplotlib.pyplot as plt"
      ],
      "execution_count": 8,
      "outputs": []
    },
    {
      "cell_type": "markdown",
      "metadata": {
        "id": "vbm-8HxIqvxR"
      },
      "source": [
        "## Initializing CUDA\n",
        "\n",
        "CUDA is used as an interface between our code and the GPU.\n",
        "\n",
        "Normally, we run the code in the CPU. To run it in the GPU, we need CUDA. Check if CUDA is available:"
      ]
    },
    {
      "cell_type": "code",
      "metadata": {
        "id": "YHj_ZREiqvxU",
        "colab": {
          "base_uri": "https://localhost:8080/"
        },
        "outputId": "90796447-8b12-4502-f9b3-5287536217f3"
      },
      "source": [
        "# To test whether GPU instance is present in the system of not.\n",
        "use_cuda = torch.cuda.is_available()\n",
        "print('Using PyTorch version:', torch.__version__, 'CUDA:', use_cuda)"
      ],
      "execution_count": 9,
      "outputs": [
        {
          "output_type": "stream",
          "name": "stdout",
          "text": [
            "Using PyTorch version: 2.3.1+cu121 CUDA: True\n"
          ]
        }
      ]
    },
    {
      "cell_type": "markdown",
      "metadata": {
        "id": "DuGyWSz8q4NQ"
      },
      "source": [
        "If it's False, then we run the program on CPU. If it's True, then we run the program on GPU.\n",
        "\n",
        "Let us initialize some GPU-related variables:"
      ]
    },
    {
      "cell_type": "code",
      "metadata": {
        "id": "m_WeWksDqvxb",
        "colab": {
          "base_uri": "https://localhost:8080/"
        },
        "outputId": "0b1d4504-ef86-4a41-8549-6e6cbe04893d"
      },
      "source": [
        "device = torch.device(\"cuda\" if use_cuda else \"cpu\")\n",
        "device"
      ],
      "execution_count": 7,
      "outputs": [
        {
          "output_type": "execute_result",
          "data": {
            "text/plain": [
              "device(type='cuda')"
            ]
          },
          "metadata": {},
          "execution_count": 7
        }
      ]
    },
    {
      "cell_type": "code",
      "source": [
        "outi=transforms.Compose(transforms.ToTensor())\n",
        "print(outi)"
      ],
      "metadata": {
        "colab": {
          "base_uri": "https://localhost:8080/",
          "height": 291
        },
        "id": "24NzM1bFWDmz",
        "outputId": "61d3dc7c-4710-44a3-ce09-6eb061ca41f6"
      },
      "execution_count": 13,
      "outputs": [
        {
          "output_type": "error",
          "ename": "TypeError",
          "evalue": "'ToTensor' object is not iterable",
          "traceback": [
            "\u001b[0;31m---------------------------------------------------------------------------\u001b[0m",
            "\u001b[0;31mTypeError\u001b[0m                                 Traceback (most recent call last)",
            "\u001b[0;32m<ipython-input-13-1b57f848ccfb>\u001b[0m in \u001b[0;36m<cell line: 2>\u001b[0;34m()\u001b[0m\n\u001b[1;32m      1\u001b[0m \u001b[0mouti\u001b[0m\u001b[0;34m=\u001b[0m\u001b[0mtransforms\u001b[0m\u001b[0;34m.\u001b[0m\u001b[0mCompose\u001b[0m\u001b[0;34m(\u001b[0m\u001b[0mtransforms\u001b[0m\u001b[0;34m.\u001b[0m\u001b[0mToTensor\u001b[0m\u001b[0;34m(\u001b[0m\u001b[0;34m)\u001b[0m\u001b[0;34m)\u001b[0m\u001b[0;34m\u001b[0m\u001b[0;34m\u001b[0m\u001b[0m\n\u001b[0;32m----> 2\u001b[0;31m \u001b[0mprint\u001b[0m\u001b[0;34m(\u001b[0m\u001b[0mouti\u001b[0m\u001b[0;34m)\u001b[0m\u001b[0;34m\u001b[0m\u001b[0;34m\u001b[0m\u001b[0m\n\u001b[0m",
            "\u001b[0;32m/usr/local/lib/python3.10/dist-packages/torchvision/transforms/transforms.py\u001b[0m in \u001b[0;36m__repr__\u001b[0;34m(self)\u001b[0m\n\u001b[1;32m     98\u001b[0m     \u001b[0;32mdef\u001b[0m \u001b[0m__repr__\u001b[0m\u001b[0;34m(\u001b[0m\u001b[0mself\u001b[0m\u001b[0;34m)\u001b[0m \u001b[0;34m->\u001b[0m \u001b[0mstr\u001b[0m\u001b[0;34m:\u001b[0m\u001b[0;34m\u001b[0m\u001b[0;34m\u001b[0m\u001b[0m\n\u001b[1;32m     99\u001b[0m         \u001b[0mformat_string\u001b[0m \u001b[0;34m=\u001b[0m \u001b[0mself\u001b[0m\u001b[0;34m.\u001b[0m\u001b[0m__class__\u001b[0m\u001b[0;34m.\u001b[0m\u001b[0m__name__\u001b[0m \u001b[0;34m+\u001b[0m \u001b[0;34m\"(\"\u001b[0m\u001b[0;34m\u001b[0m\u001b[0;34m\u001b[0m\u001b[0m\n\u001b[0;32m--> 100\u001b[0;31m         \u001b[0;32mfor\u001b[0m \u001b[0mt\u001b[0m \u001b[0;32min\u001b[0m \u001b[0mself\u001b[0m\u001b[0;34m.\u001b[0m\u001b[0mtransforms\u001b[0m\u001b[0;34m:\u001b[0m\u001b[0;34m\u001b[0m\u001b[0;34m\u001b[0m\u001b[0m\n\u001b[0m\u001b[1;32m    101\u001b[0m             \u001b[0mformat_string\u001b[0m \u001b[0;34m+=\u001b[0m \u001b[0;34m\"\\n\"\u001b[0m\u001b[0;34m\u001b[0m\u001b[0;34m\u001b[0m\u001b[0m\n\u001b[1;32m    102\u001b[0m             \u001b[0mformat_string\u001b[0m \u001b[0;34m+=\u001b[0m \u001b[0;34mf\"    {t}\"\u001b[0m\u001b[0;34m\u001b[0m\u001b[0;34m\u001b[0m\u001b[0m\n",
            "\u001b[0;31mTypeError\u001b[0m: 'ToTensor' object is not iterable"
          ]
        }
      ]
    },
    {
      "cell_type": "markdown",
      "metadata": {
        "id": "YkBWGgw7cUFP"
      },
      "source": [
        "## Load Fashion MNIST data\n",
        "\n",
        "Now, we'll load the Fashion MNIST data. For the first time, we may have to download the data, which can take a while.\n",
        "\n",
        "Now,\n",
        "\n",
        "* We will load both the training set and the testing sets\n",
        "\n",
        "* We will use  transform.compose() to convert the datasets into tensors using transforms.ToTensor(). We also normalize them by setting the mean and standard deviation using transforms.Normalize().\n",
        "\n"
      ]
    },
    {
      "cell_type": "code",
      "metadata": {
        "id": "2JxUAwmdlswv"
      },
      "source": [
        "# Normalize the data with mean and std (0.2860 and 0.3530 are the mean and std for Fashion MNIST data)\n",
        "transform = transforms.Compose([transforms.ToTensor(),transforms.Normalize((0.2860,), (0.3530,))])\n",
        "\n",
        "transform2 = transforms.ToTensor()"
      ],
      "execution_count": 14,
      "outputs": []
    },
    {
      "cell_type": "code",
      "metadata": {
        "id": "-Jl5wAeelu6M",
        "colab": {
          "base_uri": "https://localhost:8080/"
        },
        "outputId": "ae864bcb-afa1-4fcb-a788-0e28fe0cbb88"
      },
      "source": [
        "# Downloading the Training set\n",
        "trainset = datasets.FashionMNIST('~/.pytorch/F_MNIST_data/', train=True, transform=transform, download=True)"
      ],
      "execution_count": 15,
      "outputs": [
        {
          "output_type": "stream",
          "name": "stdout",
          "text": [
            "Downloading http://fashion-mnist.s3-website.eu-central-1.amazonaws.com/train-images-idx3-ubyte.gz\n",
            "Downloading http://fashion-mnist.s3-website.eu-central-1.amazonaws.com/train-images-idx3-ubyte.gz to /root/.pytorch/F_MNIST_data/FashionMNIST/raw/train-images-idx3-ubyte.gz\n"
          ]
        },
        {
          "output_type": "stream",
          "name": "stderr",
          "text": [
            "100%|██████████| 26421880/26421880 [00:02<00:00, 11168950.36it/s]\n"
          ]
        },
        {
          "output_type": "stream",
          "name": "stdout",
          "text": [
            "Extracting /root/.pytorch/F_MNIST_data/FashionMNIST/raw/train-images-idx3-ubyte.gz to /root/.pytorch/F_MNIST_data/FashionMNIST/raw\n",
            "\n",
            "Downloading http://fashion-mnist.s3-website.eu-central-1.amazonaws.com/train-labels-idx1-ubyte.gz\n",
            "Downloading http://fashion-mnist.s3-website.eu-central-1.amazonaws.com/train-labels-idx1-ubyte.gz to /root/.pytorch/F_MNIST_data/FashionMNIST/raw/train-labels-idx1-ubyte.gz\n"
          ]
        },
        {
          "output_type": "stream",
          "name": "stderr",
          "text": [
            "100%|██████████| 29515/29515 [00:00<00:00, 202941.10it/s]\n"
          ]
        },
        {
          "output_type": "stream",
          "name": "stdout",
          "text": [
            "Extracting /root/.pytorch/F_MNIST_data/FashionMNIST/raw/train-labels-idx1-ubyte.gz to /root/.pytorch/F_MNIST_data/FashionMNIST/raw\n",
            "\n",
            "Downloading http://fashion-mnist.s3-website.eu-central-1.amazonaws.com/t10k-images-idx3-ubyte.gz\n",
            "Downloading http://fashion-mnist.s3-website.eu-central-1.amazonaws.com/t10k-images-idx3-ubyte.gz to /root/.pytorch/F_MNIST_data/FashionMNIST/raw/t10k-images-idx3-ubyte.gz\n"
          ]
        },
        {
          "output_type": "stream",
          "name": "stderr",
          "text": [
            "100%|██████████| 4422102/4422102 [00:01<00:00, 3719875.23it/s]\n"
          ]
        },
        {
          "output_type": "stream",
          "name": "stdout",
          "text": [
            "Extracting /root/.pytorch/F_MNIST_data/FashionMNIST/raw/t10k-images-idx3-ubyte.gz to /root/.pytorch/F_MNIST_data/FashionMNIST/raw\n",
            "\n",
            "Downloading http://fashion-mnist.s3-website.eu-central-1.amazonaws.com/t10k-labels-idx1-ubyte.gz\n",
            "Downloading http://fashion-mnist.s3-website.eu-central-1.amazonaws.com/t10k-labels-idx1-ubyte.gz to /root/.pytorch/F_MNIST_data/FashionMNIST/raw/t10k-labels-idx1-ubyte.gz\n"
          ]
        },
        {
          "output_type": "stream",
          "name": "stderr",
          "text": [
            "100%|██████████| 5148/5148 [00:00<00:00, 5631788.47it/s]"
          ]
        },
        {
          "output_type": "stream",
          "name": "stdout",
          "text": [
            "Extracting /root/.pytorch/F_MNIST_data/FashionMNIST/raw/t10k-labels-idx1-ubyte.gz to /root/.pytorch/F_MNIST_data/FashionMNIST/raw\n",
            "\n"
          ]
        },
        {
          "output_type": "stream",
          "name": "stderr",
          "text": [
            "\n"
          ]
        }
      ]
    },
    {
      "cell_type": "code",
      "metadata": {
        "id": "BWsShsOO1sDU",
        "colab": {
          "base_uri": "https://localhost:8080/"
        },
        "outputId": "03889b49-9f21-443f-bd71-571fd8dd784a"
      },
      "source": [
        "# Verifying mean and std of Fashion MNIST data\n",
        "trainset.data.float().mean() / 255, trainset.data.float().std() / 255"
      ],
      "execution_count": 16,
      "outputs": [
        {
          "output_type": "execute_result",
          "data": {
            "text/plain": [
              "(tensor(0.2860), tensor(0.3530))"
            ]
          },
          "metadata": {},
          "execution_count": 16
        }
      ]
    },
    {
      "cell_type": "code",
      "source": [
        "print(trainset.data.shape)\n",
        "import numpy as np\n",
        "batch_size=30\n",
        "trainloader = torch.utils.data.DataLoader(trainset, shuffle=True, batch_size=batch_size)\n",
        "\n",
        "labels_map = {0 : 'T-Shirt', 1 : 'Trouser', 2 : 'Pullover', 3 : 'Dress', 4 : 'Coat', 5 : 'Sandal', 6 : 'Shirt',\n",
        "              7 : 'Sneaker', 8 : 'Bag', 9 : 'Ankle Boot'};\n",
        "\n",
        "for batch in trainloader:\n",
        "    inputs, labels = batch\n",
        "    print(inputs)\n",
        "    images= inputs.numpy()\n",
        "\n",
        "    fig= plt.figure(figsize=(25,4))\n",
        "\n",
        "    for idx in np.arange(batch_size):\n",
        "      ax = fig.add_subplot(2, int(30/2), idx+1, xticks=[], yticks=[])\n",
        "      ax.imshow(np.squeeze(images[idx]), cmap='gray')\n",
        "      ax.set_title(labels_map[(labels[idx].item())])\n",
        "\n",
        "    break\n"
      ],
      "metadata": {
        "colab": {
          "base_uri": "https://localhost:8080/",
          "height": 1000
        },
        "id": "41fCjx6LXSJF",
        "outputId": "e3aea4fb-1362-4f71-9914-5ec968578f1f"
      },
      "execution_count": 43,
      "outputs": [
        {
          "output_type": "stream",
          "name": "stdout",
          "text": [
            "torch.Size([60000, 28, 28])\n",
            "tensor([[[[-0.8102, -0.8102, -0.8102,  ..., -0.8102, -0.8102, -0.8102],\n",
            "          [-0.8102, -0.8102, -0.8102,  ..., -0.8102, -0.8102, -0.8102],\n",
            "          [-0.8102, -0.8102, -0.8102,  ..., -0.7880, -0.8102, -0.8102],\n",
            "          ...,\n",
            "          [-0.8102, -0.1992,  0.5785,  ...,  1.2783, -0.3325, -0.8102],\n",
            "          [-0.8102, -0.8102, -0.8102,  ..., -0.5436, -0.8102, -0.8102],\n",
            "          [-0.8102, -0.8102, -0.8102,  ..., -0.8102, -0.8102, -0.8102]]],\n",
            "\n",
            "\n",
            "        [[[-0.8102, -0.8102, -0.8102,  ..., -0.8102, -0.8102, -0.8102],\n",
            "          [-0.8102, -0.8102, -0.7991,  ..., -0.8102, -0.8102, -0.8102],\n",
            "          [-0.8102, -0.8102, -0.7991,  ..., -0.8102, -0.8102, -0.8102],\n",
            "          ...,\n",
            "          [-0.8102, -0.8102, -0.8102,  ..., -0.8102, -0.8102, -0.8102],\n",
            "          [-0.8102, -0.8102, -0.8102,  ..., -0.8102, -0.8102, -0.8102],\n",
            "          [-0.8102, -0.8102, -0.8102,  ..., -0.8102, -0.8102, -0.8102]]],\n",
            "\n",
            "\n",
            "        [[[-0.8102, -0.8102, -0.8102,  ..., -0.8102, -0.8102, -0.8102],\n",
            "          [-0.8102, -0.8102, -0.8102,  ..., -0.8102, -0.8102, -0.8102],\n",
            "          [-0.8102, -0.8102, -0.8102,  ..., -0.8102, -0.8102, -0.8102],\n",
            "          ...,\n",
            "          [-0.8102, -0.8102, -0.8102,  ..., -0.8102, -0.8102, -0.8102],\n",
            "          [-0.8102, -0.8102, -0.8102,  ..., -0.8102, -0.8102, -0.8102],\n",
            "          [-0.8102, -0.8102, -0.8102,  ..., -0.8102, -0.8102, -0.8102]]],\n",
            "\n",
            "\n",
            "        ...,\n",
            "\n",
            "\n",
            "        [[[-0.8102, -0.8102, -0.8102,  ..., -0.8102, -0.8102, -0.8102],\n",
            "          [-0.8102, -0.8102, -0.8102,  ..., -0.8102, -0.8102, -0.8102],\n",
            "          [-0.8102, -0.8102, -0.8102,  ..., -0.8102, -0.8102, -0.8102],\n",
            "          ...,\n",
            "          [-0.8102, -0.8102, -0.8102,  ..., -0.8102, -0.8102, -0.8102],\n",
            "          [-0.8102, -0.8102, -0.8102,  ..., -0.8102, -0.8102, -0.8102],\n",
            "          [-0.8102, -0.8102, -0.8102,  ..., -0.8102, -0.8102, -0.8102]]],\n",
            "\n",
            "\n",
            "        [[[-0.8102, -0.8102, -0.8102,  ..., -0.8102, -0.8102, -0.8102],\n",
            "          [-0.8102, -0.8102, -0.8102,  ..., -0.8102, -0.8102, -0.8102],\n",
            "          [-0.8102, -0.8102, -0.8102,  ..., -0.8102, -0.8102, -0.8102],\n",
            "          ...,\n",
            "          [-0.8102, -0.8102, -0.8102,  ..., -0.8102, -0.8102, -0.8102],\n",
            "          [-0.8102, -0.8102, -0.8102,  ..., -0.8102, -0.8102, -0.8102],\n",
            "          [-0.8102, -0.8102, -0.8102,  ..., -0.8102, -0.8102, -0.8102]]],\n",
            "\n",
            "\n",
            "        [[[-0.8102, -0.8102, -0.8102,  ..., -0.8102, -0.8102, -0.8102],\n",
            "          [-0.8102, -0.8102, -0.8102,  ..., -0.8102, -0.8102, -0.8102],\n",
            "          [-0.8102, -0.8102, -0.8102,  ..., -0.8102, -0.8102, -0.8102],\n",
            "          ...,\n",
            "          [-0.8102, -0.8102, -0.8102,  ..., -0.8102, -0.8102, -0.8102],\n",
            "          [-0.8102, -0.8102, -0.8102,  ..., -0.8102, -0.8102, -0.8102],\n",
            "          [-0.8102, -0.8102, -0.8102,  ..., -0.8102, -0.8102, -0.8102]]]])\n"
          ]
        },
        {
          "output_type": "display_data",
          "data": {
            "text/plain": [
              "<Figure size 2500x400 with 30 Axes>"
            ],
            "image/png": "[encoded data removed]"
          },
          "metadata": {}
        }
      ]
    },
    {
      "cell_type": "code",
      "metadata": {
        "id": "wO6aHjhGlyYG"
      },
      "source": [
        "# Loading the downloaded training set\n",
        "trainloader = torch.utils.data.DataLoader(trainset, shuffle=True, batch_size=64)"
      ],
      "execution_count": 37,
      "outputs": []
    },
    {
      "cell_type": "code",
      "metadata": {
        "id": "3d4K58jMl0uN"
      },
      "source": [
        "# Downloading the testing set\n",
        "testset = datasets.FashionMNIST('~/.pytorch/F_MNIST_data/', train= False, transform=transform, download=True)"
      ],
      "execution_count": 38,
      "outputs": []
    },
    {
      "cell_type": "code",
      "metadata": {
        "id": "xxI_WbvUl2ge"
      },
      "source": [
        "# Loading the downloaded testing set\n",
        "testloader = torch.utils.data.DataLoader(testset, shuffle=False, batch_size=64)"
      ],
      "execution_count": 39,
      "outputs": []
    },
    {
      "cell_type": "markdown",
      "metadata": {
        "id": "DUTWWsGtnC2h"
      },
      "source": [
        "The train and test data are provided via data loaders that provide iterators over the datasets.\n",
        "\n",
        "The first element of training data (X_train) is a 4th-order tensor of size (batch_size, 1, 28, 28), i.e. it consists of a batch of images of size 1x28x28 pixels. y_train is a vector containing the correct classes (\"0\", \"1\", ..., \"9\") for each training image. Here batch size is 64.\n"
      ]
    },
    {
      "cell_type": "code",
      "metadata": {
        "id": "XajA9PKwmM3W",
        "colab": {
          "base_uri": "https://localhost:8080/"
        },
        "outputId": "7fc3d165-6f4f-4f90-cc56-6263fc0f5719"
      },
      "source": [
        "for (X_train, y_train) in trainloader:\n",
        "    print('X_train:', X_train.size(), 'type:', X_train.type())\n",
        "    print('y_train:', y_train.size(), 'type:', y_train.type())\n",
        "    break"
      ],
      "execution_count": 40,
      "outputs": [
        {
          "output_type": "stream",
          "name": "stdout",
          "text": [
            "X_train: torch.Size([64, 1, 28, 28]) type: torch.FloatTensor\n",
            "y_train: torch.Size([64]) type: torch.LongTensor\n"
          ]
        }
      ]
    },
    {
      "cell_type": "markdown",
      "metadata": {
        "id": "BXXtfQXgmEO7"
      },
      "source": [
        "## Plotting the images of 9 classes"
      ]
    },
    {
      "cell_type": "code",
      "metadata": {
        "id": "lrEYzDz3l4QG",
        "colab": {
          "base_uri": "https://localhost:8080/",
          "height": 598
        },
        "outputId": "65f1e147-19eb-4e6e-aad1-c47585f5f1c7"
      },
      "source": [
        "labels =[]\n",
        "features = []\n",
        "for X,y in zip(X_train, y_train):\n",
        "  # Getting unique labels\n",
        "  if y not in labels:\n",
        "    labels.append(y)\n",
        "    features.append(X)\n",
        "\n",
        "labels_map = {0 : 'T-Shirt', 1 : 'Trouser', 2 : 'Pullover', 3 : 'Dress', 4 : 'Coat', 5 : 'Sandal', 6 : 'Shirt',\n",
        "              7 : 'Sneaker', 8 : 'Bag', 9 : 'Ankle Boot'};\n",
        "pltsize=1\n",
        "plt.figure(figsize=(7,7))\n",
        "for i in range(9):\n",
        "    plt.subplot(3,3, i+1)\n",
        "    plt.axis('off')\n",
        "    # Convert the tensor to numpy for displaying the image\n",
        "    plt.imshow(features[i].numpy().reshape(28,28), cmap=\"gray\")\n",
        "    plt.title('Class: '+labels_map[int(str(labels[i].numpy()))])\n"
      ],
      "execution_count": 41,
      "outputs": [
        {
          "output_type": "display_data",
          "data": {
            "text/plain": [
              "<Figure size 700x700 with 9 Axes>"
            ],
            "image/png": "[encoded data removed]"
          },
          "metadata": {}
        }
      ]
    },
    {
      "cell_type": "markdown",
      "metadata": {
        "id": "pEYZoawOppFN"
      },
      "source": [
        "## Defining the CNN’s Architecture"
      ]
    },
    {
      "cell_type": "markdown",
      "metadata": {
        "id": "TEhqiDSmfE3C"
      },
      "source": [
        "Neural Networks are inherited from the nn.Module class.\n",
        "\n",
        "Now let us define a neural network. Here we are using two functions \\__init__ and forward function.\n",
        "\n",
        "In the \\__init__  function, we define the layers using the provided modules from the nn package. The forward function is called on the Neural Network for a set of inputs, and it passes that input through the different layers that have been defined.\n",
        "\n",
        "\n"
      ]
    },
    {
      "cell_type": "markdown",
      "metadata": {
        "id": "w6MgNN46B3sE"
      },
      "source": [
        "**Convolutional Layer:**  Convolutional layers are the layers where filters are applied to the original image. The most common type of convolution used is the 2D convolution layer and is abbreviated as **conv2d**.\n",
        "\n",
        "The **kernel** is a filter used to extract the features from the images. The kernel is a matrix that moves over the input data, performs the dot product with the sub-region of input data, and gets the output as the matrix of dot products.\n",
        "\n",
        "Calculate the output size of Convolution Layer, using below formula:\n",
        "\n",
        "  $O = \\frac{W- K + 2P}{S} +1$\n",
        "\n",
        "*   O : output height/length\n",
        "*   W : input height/length\n",
        "*   K : filter size (kernel size)\n",
        "*   P : padding\n",
        "*   S : stride\n",
        "\n",
        "The **Pooling layer** is used to reduce the spatial volume of input image after convolution. It is used between the convolution layers.\n",
        "\n",
        "Output formula for Pooling, $O = \\frac{W- K}{S} +1$   \n",
        "\n",
        "If using PyTorch default stride (default stride is same as kernel size), then output formula for pooling will result,  $O = \\frac{W}{K}$\n",
        "\n",
        "\n",
        "The **Fully connected layers** involves weights, biases, and neurons. It connects neurons in one layer to neurons in another layer. It is used to classify images between different category by training."
      ]
    },
    {
      "cell_type": "markdown",
      "metadata": {
        "id": "rqycwcVSvhD0"
      },
      "source": [
        "Output after Convolutional layer 1 = $\\frac{28-3+ 2(0)}{1}+1 = 26$ ----> Multiply it with the output channels, the output shape becomes (8, 26, 26)\n",
        "\n",
        "Output after appyling Maxpool layer on Convolutional layer 1 = $\\frac{26}{2} = 13$ -----> The output shape changes from (8, 26, 26) to (8, 13, 13)\n",
        "\n",
        "Output after Convolutional layer 2 = $\\frac{13-3+ 2(0)}{1}+1 = 11$ Multiply it with the output channels, the output shape becomes (16, 11, 11)\n",
        "\n",
        "Output after appyling Maxpool layer on Convolutional layer 2 = $\\frac{11}{2} = 5$ -----> The output shape changes from (16, 11, 11) to (16, 5, 5)\n",
        "\n",
        "The above output (16, 5, 5) is then passed as input to the first fully connected layer"
      ]
    },
    {
      "cell_type": "code",
      "metadata": {
        "id": "4wxqnZknpclo"
      },
      "source": [
        "class Model(nn.Module):\n",
        "    def __init__(self):\n",
        "        #super(Model, self).__init__()  # Python 2 preferred\n",
        "        super().__init__()  # Python 3 preferred method\n",
        "        # Defining first convolution layer with input_channels = 1, output_channels = 8, kernel_size = 3\n",
        "        self.conv1 = nn.Conv2d(in_channels=1, out_channels=8, kernel_size=3)\n",
        "\n",
        "        # Defining second convolution layer with input_channels = 8, output_channels = 16, kernel_size = 3\n",
        "        self.conv2 = nn.Conv2d(in_channels=8, out_channels=16, kernel_size=3)\n",
        "\n",
        "        # Define the Fully connected layers\n",
        "        # The output of the second convolution layer will be input to the first fully connected layer\n",
        "        self.fc1 = nn.Linear(16*5*5, 256)\n",
        "        # 256 input features, 128 output features\n",
        "        self.fc2 = nn.Linear(256, 128)\n",
        "        # 128 input features, 64 output features\n",
        "        self.fc3 = nn.Linear(128, 64)\n",
        "        # 64 input features, 10 output features for our 10 defined classes\n",
        "        self.fc4 = nn.Linear(64, 10)\n",
        "\n",
        "        # Max pooling\n",
        "        self.pool = nn.MaxPool2d(kernel_size=2)  # Max pooling layer with filter size 2x2\n",
        "\n",
        "    def forward(self, x):\n",
        "        x = self.pool(F.relu(self.conv1(x)))\n",
        "        x = self.pool(F.relu(self.conv2(x)))\n",
        "        # Flatten the image\n",
        "        x = x.view(-1, 16*5*5)  # Output shape of convolutional layer is 16*5*5\n",
        "\n",
        "        # Linear layers with RELU activation\n",
        "        x = F.relu(self.fc1(x))\n",
        "        x = F.relu(self.fc2(x))\n",
        "        x = F.relu(self.fc3(x))\n",
        "        x = self.fc4(x)\n",
        "        x = F.log_softmax(x, dim=1)\n",
        "        return x"
      ],
      "execution_count": 46,
      "outputs": []
    },
    {
      "cell_type": "code",
      "metadata": {
        "id": "-5DecLBbmnYC",
        "colab": {
          "base_uri": "https://localhost:8080/"
        },
        "outputId": "b8fca633-591e-49d5-bb68-f6a2db247abc"
      },
      "source": [
        "model = Model()\n",
        "model = model.to(device)\n",
        "model"
      ],
      "execution_count": 47,
      "outputs": [
        {
          "output_type": "execute_result",
          "data": {
            "text/plain": [
              "Model(\n",
              "  (conv1): Conv2d(1, 8, kernel_size=(3, 3), stride=(1, 1))\n",
              "  (conv2): Conv2d(8, 16, kernel_size=(3, 3), stride=(1, 1))\n",
              "  (fc1): Linear(in_features=400, out_features=256, bias=True)\n",
              "  (fc2): Linear(in_features=256, out_features=128, bias=True)\n",
              "  (fc3): Linear(in_features=128, out_features=64, bias=True)\n",
              "  (fc4): Linear(in_features=64, out_features=10, bias=True)\n",
              "  (pool): MaxPool2d(kernel_size=2, stride=2, padding=0, dilation=1, ceil_mode=False)\n",
              ")"
            ]
          },
          "metadata": {},
          "execution_count": 47
        }
      ]
    },
    {
      "cell_type": "code",
      "source": [
        "# !pip install torchviz\n",
        "dataiter = iter(trainloader)\n",
        "images,labels = next(dataiter)\n",
        "\n",
        "from torchviz import make_dot\n",
        "# Ensure images are moved to the correct device\n",
        "images = images.to(device)\n",
        "\n",
        "# Generate the computation graph\n",
        "make_dot(model(images), params=dict(model.named_parameters()))"
      ],
      "metadata": {
        "colab": {
          "base_uri": "https://localhost:8080/",
          "height": 1000
        },
        "id": "qTSfI8NIkoej",
        "outputId": "d6827826-859e-4a83-d29c-ed4e909b479e"
      },
      "execution_count": 55,
      "outputs": [
        {
          "output_type": "execute_result",
          "data": {
            "image/svg+xml": "<?xml version=\"1.0\" encoding=\"UTF-8\" standalone=\"no\"?>\n<!DOCTYPE svg PUBLIC \"-//W3C//DTD SVG 1.1//EN\"\n \"http://www.w3.org/Graphics/SVG/1.1/DTD/svg11.dtd\">\n<!-- Generated by graphviz version 2.43.0 (0)\n -->\n<!-- Title: %3 Pages: 1 -->\n<svg width=\"499pt\" height=\"940pt\"\n viewBox=\"0.00 0.00 499.48 940.00\" xmlns=\"http://www.w3.org/2000/svg\" xmlns:xlink=\"http://www.w3.org/1999/xlink\">\n<g id=\"graph0\" class=\"graph\" transform=\"scale(0.87 0.87) rotate(0) translate(4 1080)\">\n<title>%3</title>\n<polygon fill=\"white\" stroke=\"transparent\" points=\"-4,4 -4,-1080 572,-1080 572,4 -4,4\"/>\n<!-- 140106483947600 -->\n<g id=\"node1\" class=\"node\">\n<title>140106483947600</title>\n<polygon fill=\"#caff70\" stroke=\"black\" points=\"394,-31 323,-31 323,0 394,0 394,-31\"/>\n<text text-anchor=\"middle\" x=\"358.5\" y=\"-7\" font-family=\"monospace\" font-size=\"10.00\"> (30, 10)</text>\n</g>\n<!-- 140106483468608 -->\n<g id=\"node2\" class=\"node\">\n<title>140106483468608</title>\n<polygon fill=\"lightgrey\" stroke=\"black\" points=\"424,-86 293,-86 293,-67 424,-67 424,-86\"/>\n<text text-anchor=\"middle\" x=\"358.5\" y=\"-74\" font-family=\"monospace\" font-size=\"10.00\">LogSoftmaxBackward0</text>\n</g>\n<!-- 140106483468608&#45;&gt;140106483947600 -->\n<g id=\"edge43\" class=\"edge\">\n<title>140106483468608&#45;&gt;140106483947600</title>\n<path fill=\"none\" stroke=\"black\" d=\"M358.5,-66.79C358.5,-60.07 358.5,-50.4 358.5,-41.34\"/>\n<polygon fill=\"black\" stroke=\"black\" points=\"362,-41.19 358.5,-31.19 355,-41.19 362,-41.19\"/>\n</g>\n<!-- 140106483476240 -->\n<g id=\"node3\" class=\"node\">\n<title>140106483476240</title>\n<polygon fill=\"lightgrey\" stroke=\"black\" points=\"409,-141 308,-141 308,-122 409,-122 409,-141\"/>\n<text text-anchor=\"middle\" x=\"358.5\" y=\"-129\" font-family=\"monospace\" font-size=\"10.00\">AddmmBackward0</text>\n</g>\n<!-- 140106483476240&#45;&gt;140106483468608 -->\n<g id=\"edge1\" class=\"edge\">\n<title>140106483476240&#45;&gt;140106483468608</title>\n<path fill=\"none\" stroke=\"black\" d=\"M358.5,-121.75C358.5,-114.8 358.5,-104.85 358.5,-96.13\"/>\n<polygon fill=\"black\" stroke=\"black\" points=\"362,-96.09 358.5,-86.09 355,-96.09 362,-96.09\"/>\n</g>\n<!-- 140106483478208 -->\n<g id=\"node4\" class=\"node\">\n<title>140106483478208</title>\n<polygon fill=\"lightgrey\" stroke=\"black\" points=\"293,-196 192,-196 192,-177 293,-177 293,-196\"/>\n<text text-anchor=\"middle\" x=\"242.5\" y=\"-184\" font-family=\"monospace\" font-size=\"10.00\">AccumulateGrad</text>\n</g>\n<!-- 140106483478208&#45;&gt;140106483476240 -->\n<g id=\"edge2\" class=\"edge\">\n<title>140106483478208&#45;&gt;140106483476240</title>\n<path fill=\"none\" stroke=\"black\" d=\"M261.14,-176.98C279.8,-168.46 308.75,-155.23 330.24,-145.41\"/>\n<polygon fill=\"black\" stroke=\"black\" points=\"331.88,-148.51 339.52,-141.17 328.97,-142.14 331.88,-148.51\"/>\n</g>\n<!-- 140106476370928 -->\n<g id=\"node5\" class=\"node\">\n<title>140106476370928</title>\n<polygon fill=\"lightblue\" stroke=\"black\" points=\"275,-262 210,-262 210,-232 275,-232 275,-262\"/>\n<text text-anchor=\"middle\" x=\"242.5\" y=\"-250\" font-family=\"monospace\" font-size=\"10.00\">fc4.bias</text>\n<text text-anchor=\"middle\" x=\"242.5\" y=\"-239\" font-family=\"monospace\" font-size=\"10.00\"> (10)</text>\n</g>\n<!-- 140106476370928&#45;&gt;140106483478208 -->\n<g id=\"edge3\" class=\"edge\">\n<title>140106476370928&#45;&gt;140106483478208</title>\n<path fill=\"none\" stroke=\"black\" d=\"M242.5,-231.84C242.5,-224.21 242.5,-214.7 242.5,-206.45\"/>\n<polygon fill=\"black\" stroke=\"black\" points=\"246,-206.27 242.5,-196.27 239,-206.27 246,-206.27\"/>\n</g>\n<!-- 140106483474224 -->\n<g id=\"node6\" class=\"node\">\n<title>140106483474224</title>\n<polygon fill=\"lightgrey\" stroke=\"black\" points=\"406,-196 311,-196 311,-177 406,-177 406,-196\"/>\n<text text-anchor=\"middle\" x=\"358.5\" y=\"-184\" font-family=\"monospace\" font-size=\"10.00\">ReluBackward0</text>\n</g>\n<!-- 140106483474224&#45;&gt;140106483476240 -->\n<g id=\"edge4\" class=\"edge\">\n<title>140106483474224&#45;&gt;140106483476240</title>\n<path fill=\"none\" stroke=\"black\" d=\"M358.5,-176.75C358.5,-169.8 358.5,-159.85 358.5,-151.13\"/>\n<polygon fill=\"black\" stroke=\"black\" points=\"362,-151.09 358.5,-141.09 355,-151.09 362,-151.09\"/>\n</g>\n<!-- 140106483468704 -->\n<g id=\"node7\" class=\"node\">\n<title>140106483468704</title>\n<polygon fill=\"lightgrey\" stroke=\"black\" points=\"401,-256.5 300,-256.5 300,-237.5 401,-237.5 401,-256.5\"/>\n<text text-anchor=\"middle\" x=\"350.5\" y=\"-244.5\" font-family=\"monospace\" font-size=\"10.00\">AddmmBackward0</text>\n</g>\n<!-- 140106483468704&#45;&gt;140106483474224 -->\n<g id=\"edge5\" class=\"edge\">\n<title>140106483468704&#45;&gt;140106483474224</title>\n<path fill=\"none\" stroke=\"black\" d=\"M351.68,-237.37C352.79,-229.25 354.49,-216.81 355.92,-206.39\"/>\n<polygon fill=\"black\" stroke=\"black\" points=\"359.43,-206.55 357.31,-196.17 352.49,-205.6 359.43,-206.55\"/>\n</g>\n<!-- 140106483477200 -->\n<g id=\"node8\" class=\"node\">\n<title>140106483477200</title>\n<polygon fill=\"lightgrey\" stroke=\"black\" points=\"265,-322.5 164,-322.5 164,-303.5 265,-303.5 265,-322.5\"/>\n<text text-anchor=\"middle\" x=\"214.5\" y=\"-310.5\" font-family=\"monospace\" font-size=\"10.00\">AccumulateGrad</text>\n</g>\n<!-- 140106483477200&#45;&gt;140106483468704 -->\n<g id=\"edge6\" class=\"edge\">\n<title>140106483477200&#45;&gt;140106483468704</title>\n<path fill=\"none\" stroke=\"black\" d=\"M232.84,-303.37C255.96,-292.49 295.91,-273.69 322.77,-261.05\"/>\n<polygon fill=\"black\" stroke=\"black\" points=\"324.46,-264.12 332.01,-256.7 321.48,-257.79 324.46,-264.12\"/>\n</g>\n<!-- 140106475102960 -->\n<g id=\"node9\" class=\"node\">\n<title>140106475102960</title>\n<polygon fill=\"lightblue\" stroke=\"black\" points=\"247,-394 182,-394 182,-364 247,-364 247,-394\"/>\n<text text-anchor=\"middle\" x=\"214.5\" y=\"-382\" font-family=\"monospace\" font-size=\"10.00\">fc3.bias</text>\n<text text-anchor=\"middle\" x=\"214.5\" y=\"-371\" font-family=\"monospace\" font-size=\"10.00\"> (64)</text>\n</g>\n<!-- 140106475102960&#45;&gt;140106483477200 -->\n<g id=\"edge7\" class=\"edge\">\n<title>140106475102960&#45;&gt;140106483477200</title>\n<path fill=\"none\" stroke=\"black\" d=\"M214.5,-363.8C214.5,-354.7 214.5,-342.79 214.5,-332.9\"/>\n<polygon fill=\"black\" stroke=\"black\" points=\"218,-332.84 214.5,-322.84 211,-332.84 218,-332.84\"/>\n</g>\n<!-- 140106483466400 -->\n<g id=\"node10\" class=\"node\">\n<title>140106483466400</title>\n<polygon fill=\"lightgrey\" stroke=\"black\" points=\"378,-322.5 283,-322.5 283,-303.5 378,-303.5 378,-322.5\"/>\n<text text-anchor=\"middle\" x=\"330.5\" y=\"-310.5\" font-family=\"monospace\" font-size=\"10.00\">ReluBackward0</text>\n</g>\n<!-- 140106483466400&#45;&gt;140106483468704 -->\n<g id=\"edge8\" class=\"edge\">\n<title>140106483466400&#45;&gt;140106483468704</title>\n<path fill=\"none\" stroke=\"black\" d=\"M333.2,-303.37C336.13,-293.97 340.92,-278.67 344.71,-266.53\"/>\n<polygon fill=\"black\" stroke=\"black\" points=\"348.07,-267.49 347.72,-256.91 341.39,-265.41 348.07,-267.49\"/>\n</g>\n<!-- 140106483473072 -->\n<g id=\"node11\" class=\"node\">\n<title>140106483473072</title>\n<polygon fill=\"lightgrey\" stroke=\"black\" points=\"373,-388.5 272,-388.5 272,-369.5 373,-369.5 373,-388.5\"/>\n<text text-anchor=\"middle\" x=\"322.5\" y=\"-376.5\" font-family=\"monospace\" font-size=\"10.00\">AddmmBackward0</text>\n</g>\n<!-- 140106483473072&#45;&gt;140106483466400 -->\n<g id=\"edge9\" class=\"edge\">\n<title>140106483473072&#45;&gt;140106483466400</title>\n<path fill=\"none\" stroke=\"black\" d=\"M323.58,-369.37C324.74,-360.07 326.63,-344.98 328.14,-332.9\"/>\n<polygon fill=\"black\" stroke=\"black\" points=\"331.62,-333.26 329.39,-322.91 324.67,-332.39 331.62,-333.26\"/>\n</g>\n<!-- 140106483469952 -->\n<g id=\"node12\" class=\"node\">\n<title>140106483469952</title>\n<polygon fill=\"lightgrey\" stroke=\"black\" points=\"237,-454.5 136,-454.5 136,-435.5 237,-435.5 237,-454.5\"/>\n<text text-anchor=\"middle\" x=\"186.5\" y=\"-442.5\" font-family=\"monospace\" font-size=\"10.00\">AccumulateGrad</text>\n</g>\n<!-- 140106483469952&#45;&gt;140106483473072 -->\n<g id=\"edge10\" class=\"edge\">\n<title>140106483469952&#45;&gt;140106483473072</title>\n<path fill=\"none\" stroke=\"black\" d=\"M204.84,-435.37C227.96,-424.49 267.91,-405.69 294.77,-393.05\"/>\n<polygon fill=\"black\" stroke=\"black\" points=\"296.46,-396.12 304.01,-388.7 293.48,-389.79 296.46,-396.12\"/>\n</g>\n<!-- 140106475102560 -->\n<g id=\"node13\" class=\"node\">\n<title>140106475102560</title>\n<polygon fill=\"lightblue\" stroke=\"black\" points=\"219,-526 154,-526 154,-496 219,-496 219,-526\"/>\n<text text-anchor=\"middle\" x=\"186.5\" y=\"-514\" font-family=\"monospace\" font-size=\"10.00\">fc2.bias</text>\n<text text-anchor=\"middle\" x=\"186.5\" y=\"-503\" font-family=\"monospace\" font-size=\"10.00\"> (128)</text>\n</g>\n<!-- 140106475102560&#45;&gt;140106483469952 -->\n<g id=\"edge11\" class=\"edge\">\n<title>140106475102560&#45;&gt;140106483469952</title>\n<path fill=\"none\" stroke=\"black\" d=\"M186.5,-495.8C186.5,-486.7 186.5,-474.79 186.5,-464.9\"/>\n<polygon fill=\"black\" stroke=\"black\" points=\"190,-464.84 186.5,-454.84 183,-464.84 190,-464.84\"/>\n</g>\n<!-- 140106483468848 -->\n<g id=\"node14\" class=\"node\">\n<title>140106483468848</title>\n<polygon fill=\"lightgrey\" stroke=\"black\" points=\"350,-454.5 255,-454.5 255,-435.5 350,-435.5 350,-454.5\"/>\n<text text-anchor=\"middle\" x=\"302.5\" y=\"-442.5\" font-family=\"monospace\" font-size=\"10.00\">ReluBackward0</text>\n</g>\n<!-- 140106483468848&#45;&gt;140106483473072 -->\n<g id=\"edge12\" class=\"edge\">\n<title>140106483468848&#45;&gt;140106483473072</title>\n<path fill=\"none\" stroke=\"black\" d=\"M305.2,-435.37C308.13,-425.97 312.92,-410.67 316.71,-398.53\"/>\n<polygon fill=\"black\" stroke=\"black\" points=\"320.07,-399.49 319.72,-388.91 313.39,-397.41 320.07,-399.49\"/>\n</g>\n<!-- 140106483481616 -->\n<g id=\"node15\" class=\"node\">\n<title>140106483481616</title>\n<polygon fill=\"lightgrey\" stroke=\"black\" points=\"345,-520.5 244,-520.5 244,-501.5 345,-501.5 345,-520.5\"/>\n<text text-anchor=\"middle\" x=\"294.5\" y=\"-508.5\" font-family=\"monospace\" font-size=\"10.00\">AddmmBackward0</text>\n</g>\n<!-- 140106483481616&#45;&gt;140106483468848 -->\n<g id=\"edge13\" class=\"edge\">\n<title>140106483481616&#45;&gt;140106483468848</title>\n<path fill=\"none\" stroke=\"black\" d=\"M295.58,-501.37C296.74,-492.07 298.63,-476.98 300.14,-464.9\"/>\n<polygon fill=\"black\" stroke=\"black\" points=\"303.62,-465.26 301.39,-454.91 296.67,-464.39 303.62,-465.26\"/>\n</g>\n<!-- 140106483480752 -->\n<g id=\"node16\" class=\"node\">\n<title>140106483480752</title>\n<polygon fill=\"lightgrey\" stroke=\"black\" points=\"193,-586.5 92,-586.5 92,-567.5 193,-567.5 193,-586.5\"/>\n<text text-anchor=\"middle\" x=\"142.5\" y=\"-574.5\" font-family=\"monospace\" font-size=\"10.00\">AccumulateGrad</text>\n</g>\n<!-- 140106483480752&#45;&gt;140106483481616 -->\n<g id=\"edge14\" class=\"edge\">\n<title>140106483480752&#45;&gt;140106483481616</title>\n<path fill=\"none\" stroke=\"black\" d=\"M163,-567.37C189.06,-556.39 234.28,-537.36 264.29,-524.72\"/>\n<polygon fill=\"black\" stroke=\"black\" points=\"265.98,-527.81 273.84,-520.7 263.27,-521.35 265.98,-527.81\"/>\n</g>\n<!-- 140106475101120 -->\n<g id=\"node17\" class=\"node\">\n<title>140106475101120</title>\n<polygon fill=\"lightblue\" stroke=\"black\" points=\"160,-658 95,-658 95,-628 160,-628 160,-658\"/>\n<text text-anchor=\"middle\" x=\"127.5\" y=\"-646\" font-family=\"monospace\" font-size=\"10.00\">fc1.bias</text>\n<text text-anchor=\"middle\" x=\"127.5\" y=\"-635\" font-family=\"monospace\" font-size=\"10.00\"> (256)</text>\n</g>\n<!-- 140106475101120&#45;&gt;140106483480752 -->\n<g id=\"edge15\" class=\"edge\">\n<title>140106475101120&#45;&gt;140106483480752</title>\n<path fill=\"none\" stroke=\"black\" d=\"M130.83,-627.8C132.96,-618.7 135.75,-606.79 138.07,-596.9\"/>\n<polygon fill=\"black\" stroke=\"black\" points=\"141.55,-597.38 140.43,-586.84 134.74,-595.78 141.55,-597.38\"/>\n</g>\n<!-- 140106483474704 -->\n<g id=\"node18\" class=\"node\">\n<title>140106483474704</title>\n<polygon fill=\"lightgrey\" stroke=\"black\" points=\"321,-586.5 226,-586.5 226,-567.5 321,-567.5 321,-586.5\"/>\n<text text-anchor=\"middle\" x=\"273.5\" y=\"-574.5\" font-family=\"monospace\" font-size=\"10.00\">ViewBackward0</text>\n</g>\n<!-- 140106483474704&#45;&gt;140106483481616 -->\n<g id=\"edge16\" class=\"edge\">\n<title>140106483474704&#45;&gt;140106483481616</title>\n<path fill=\"none\" stroke=\"black\" d=\"M276.33,-567.37C279.41,-557.97 284.44,-542.67 288.42,-530.53\"/>\n<polygon fill=\"black\" stroke=\"black\" points=\"291.79,-531.5 291.58,-520.91 285.13,-529.32 291.79,-531.5\"/>\n</g>\n<!-- 140106483473408 -->\n<g id=\"node19\" class=\"node\">\n<title>140106483473408</title>\n<polygon fill=\"lightgrey\" stroke=\"black\" points=\"369,-652.5 178,-652.5 178,-633.5 369,-633.5 369,-652.5\"/>\n<text text-anchor=\"middle\" x=\"273.5\" y=\"-640.5\" font-family=\"monospace\" font-size=\"10.00\">MaxPool2DWithIndicesBackward0</text>\n</g>\n<!-- 140106483473408&#45;&gt;140106483474704 -->\n<g id=\"edge17\" class=\"edge\">\n<title>140106483473408&#45;&gt;140106483474704</title>\n<path fill=\"none\" stroke=\"black\" d=\"M273.5,-633.37C273.5,-624.16 273.5,-609.29 273.5,-597.27\"/>\n<polygon fill=\"black\" stroke=\"black\" points=\"277,-596.91 273.5,-586.91 270,-596.91 277,-596.91\"/>\n</g>\n<!-- 140106483480800 -->\n<g id=\"node20\" class=\"node\">\n<title>140106483480800</title>\n<polygon fill=\"lightgrey\" stroke=\"black\" points=\"321,-718.5 226,-718.5 226,-699.5 321,-699.5 321,-718.5\"/>\n<text text-anchor=\"middle\" x=\"273.5\" y=\"-706.5\" font-family=\"monospace\" font-size=\"10.00\">ReluBackward0</text>\n</g>\n<!-- 140106483480800&#45;&gt;140106483473408 -->\n<g id=\"edge18\" class=\"edge\">\n<title>140106483480800&#45;&gt;140106483473408</title>\n<path fill=\"none\" stroke=\"black\" d=\"M273.5,-699.37C273.5,-690.16 273.5,-675.29 273.5,-663.27\"/>\n<polygon fill=\"black\" stroke=\"black\" points=\"277,-662.91 273.5,-652.91 270,-662.91 277,-662.91\"/>\n</g>\n<!-- 140106483480656 -->\n<g id=\"node21\" class=\"node\">\n<title>140106483480656</title>\n<polygon fill=\"lightgrey\" stroke=\"black\" points=\"342,-779 205,-779 205,-760 342,-760 342,-779\"/>\n<text text-anchor=\"middle\" x=\"273.5\" y=\"-767\" font-family=\"monospace\" font-size=\"10.00\">ConvolutionBackward0</text>\n</g>\n<!-- 140106483480656&#45;&gt;140106483480800 -->\n<g id=\"edge19\" class=\"edge\">\n<title>140106483480656&#45;&gt;140106483480800</title>\n<path fill=\"none\" stroke=\"black\" d=\"M273.5,-759.87C273.5,-751.75 273.5,-739.31 273.5,-728.89\"/>\n<polygon fill=\"black\" stroke=\"black\" points=\"277,-728.67 273.5,-718.67 270,-728.67 277,-728.67\"/>\n</g>\n<!-- 140106483467168 -->\n<g id=\"node22\" class=\"node\">\n<title>140106483467168</title>\n<polygon fill=\"lightgrey\" stroke=\"black\" points=\"205,-834 14,-834 14,-815 205,-815 205,-834\"/>\n<text text-anchor=\"middle\" x=\"109.5\" y=\"-822\" font-family=\"monospace\" font-size=\"10.00\">MaxPool2DWithIndicesBackward0</text>\n</g>\n<!-- 140106483467168&#45;&gt;140106483480656 -->\n<g id=\"edge20\" class=\"edge\">\n<title>140106483467168&#45;&gt;140106483480656</title>\n<path fill=\"none\" stroke=\"black\" d=\"M135.85,-814.98C163.26,-806.13 206.39,-792.19 237.06,-782.28\"/>\n<polygon fill=\"black\" stroke=\"black\" points=\"238.5,-785.49 246.94,-779.08 236.35,-778.83 238.5,-785.49\"/>\n</g>\n<!-- 140106483477728 -->\n<g id=\"node23\" class=\"node\">\n<title>140106483477728</title>\n<polygon fill=\"lightgrey\" stroke=\"black\" points=\"157,-894.5 62,-894.5 62,-875.5 157,-875.5 157,-894.5\"/>\n<text text-anchor=\"middle\" x=\"109.5\" y=\"-882.5\" font-family=\"monospace\" font-size=\"10.00\">ReluBackward0</text>\n</g>\n<!-- 140106483477728&#45;&gt;140106483467168 -->\n<g id=\"edge21\" class=\"edge\">\n<title>140106483477728&#45;&gt;140106483467168</title>\n<path fill=\"none\" stroke=\"black\" d=\"M109.5,-875.37C109.5,-867.25 109.5,-854.81 109.5,-844.39\"/>\n<polygon fill=\"black\" stroke=\"black\" points=\"113,-844.17 109.5,-834.17 106,-844.17 113,-844.17\"/>\n</g>\n<!-- 140106483466592 -->\n<g id=\"node24\" class=\"node\">\n<title>140106483466592</title>\n<polygon fill=\"lightgrey\" stroke=\"black\" points=\"178,-955 41,-955 41,-936 178,-936 178,-955\"/>\n<text text-anchor=\"middle\" x=\"109.5\" y=\"-943\" font-family=\"monospace\" font-size=\"10.00\">ConvolutionBackward0</text>\n</g>\n<!-- 140106483466592&#45;&gt;140106483477728 -->\n<g id=\"edge22\" class=\"edge\">\n<title>140106483466592&#45;&gt;140106483477728</title>\n<path fill=\"none\" stroke=\"black\" d=\"M109.5,-935.87C109.5,-927.75 109.5,-915.31 109.5,-904.89\"/>\n<polygon fill=\"black\" stroke=\"black\" points=\"113,-904.67 109.5,-894.67 106,-904.67 113,-904.67\"/>\n</g>\n<!-- 140106483477968 -->\n<g id=\"node25\" class=\"node\">\n<title>140106483477968</title>\n<polygon fill=\"lightgrey\" stroke=\"black\" points=\"101,-1010 0,-1010 0,-991 101,-991 101,-1010\"/>\n<text text-anchor=\"middle\" x=\"50.5\" y=\"-998\" font-family=\"monospace\" font-size=\"10.00\">AccumulateGrad</text>\n</g>\n<!-- 140106483477968&#45;&gt;140106483466592 -->\n<g id=\"edge23\" class=\"edge\">\n<title>140106483477968&#45;&gt;140106483466592</title>\n<path fill=\"none\" stroke=\"black\" d=\"M59.98,-990.98C68.7,-983.15 81.84,-971.34 92.4,-961.86\"/>\n<polygon fill=\"black\" stroke=\"black\" points=\"94.75,-964.46 99.85,-955.17 90.07,-959.25 94.75,-964.46\"/>\n</g>\n<!-- 140106495202448 -->\n<g id=\"node26\" class=\"node\">\n<title>140106495202448</title>\n<polygon fill=\"lightblue\" stroke=\"black\" points=\"98,-1076 3,-1076 3,-1046 98,-1046 98,-1076\"/>\n<text text-anchor=\"middle\" x=\"50.5\" y=\"-1064\" font-family=\"monospace\" font-size=\"10.00\">conv1.weight</text>\n<text text-anchor=\"middle\" x=\"50.5\" y=\"-1053\" font-family=\"monospace\" font-size=\"10.00\"> (8, 1, 3, 3)</text>\n</g>\n<!-- 140106495202448&#45;&gt;140106483477968 -->\n<g id=\"edge24\" class=\"edge\">\n<title>140106495202448&#45;&gt;140106483477968</title>\n<path fill=\"none\" stroke=\"black\" d=\"M50.5,-1045.84C50.5,-1038.21 50.5,-1028.7 50.5,-1020.45\"/>\n<polygon fill=\"black\" stroke=\"black\" points=\"54,-1020.27 50.5,-1010.27 47,-1020.27 54,-1020.27\"/>\n</g>\n<!-- 140106483471296 -->\n<g id=\"node27\" class=\"node\">\n<title>140106483471296</title>\n<polygon fill=\"lightgrey\" stroke=\"black\" points=\"220,-1010 119,-1010 119,-991 220,-991 220,-1010\"/>\n<text text-anchor=\"middle\" x=\"169.5\" y=\"-998\" font-family=\"monospace\" font-size=\"10.00\">AccumulateGrad</text>\n</g>\n<!-- 140106483471296&#45;&gt;140106483466592 -->\n<g id=\"edge25\" class=\"edge\">\n<title>140106483471296&#45;&gt;140106483466592</title>\n<path fill=\"none\" stroke=\"black\" d=\"M159.86,-990.98C150.99,-983.15 137.63,-971.34 126.89,-961.86\"/>\n<polygon fill=\"black\" stroke=\"black\" points=\"129.13,-959.17 119.32,-955.17 124.49,-964.41 129.13,-959.17\"/>\n</g>\n<!-- 140106475099120 -->\n<g id=\"node28\" class=\"node\">\n<title>140106475099120</title>\n<polygon fill=\"lightblue\" stroke=\"black\" points=\"208,-1076 131,-1076 131,-1046 208,-1046 208,-1076\"/>\n<text text-anchor=\"middle\" x=\"169.5\" y=\"-1064\" font-family=\"monospace\" font-size=\"10.00\">conv1.bias</text>\n<text text-anchor=\"middle\" x=\"169.5\" y=\"-1053\" font-family=\"monospace\" font-size=\"10.00\"> (8)</text>\n</g>\n<!-- 140106475099120&#45;&gt;140106483471296 -->\n<g id=\"edge26\" class=\"edge\">\n<title>140106475099120&#45;&gt;140106483471296</title>\n<path fill=\"none\" stroke=\"black\" d=\"M169.5,-1045.84C169.5,-1038.21 169.5,-1028.7 169.5,-1020.45\"/>\n<polygon fill=\"black\" stroke=\"black\" points=\"173,-1020.27 169.5,-1010.27 166,-1020.27 173,-1020.27\"/>\n</g>\n<!-- 140106483482096 -->\n<g id=\"node29\" class=\"node\">\n<title>140106483482096</title>\n<polygon fill=\"lightgrey\" stroke=\"black\" points=\"324,-834 223,-834 223,-815 324,-815 324,-834\"/>\n<text text-anchor=\"middle\" x=\"273.5\" y=\"-822\" font-family=\"monospace\" font-size=\"10.00\">AccumulateGrad</text>\n</g>\n<!-- 140106483482096&#45;&gt;140106483480656 -->\n<g id=\"edge27\" class=\"edge\">\n<title>140106483482096&#45;&gt;140106483480656</title>\n<path fill=\"none\" stroke=\"black\" d=\"M273.5,-814.75C273.5,-807.8 273.5,-797.85 273.5,-789.13\"/>\n<polygon fill=\"black\" stroke=\"black\" points=\"277,-789.09 273.5,-779.09 270,-789.09 277,-789.09\"/>\n</g>\n<!-- 140106475103440 -->\n<g id=\"node30\" class=\"node\">\n<title>140106475103440</title>\n<polygon fill=\"lightblue\" stroke=\"black\" points=\"324,-900 223,-900 223,-870 324,-870 324,-900\"/>\n<text text-anchor=\"middle\" x=\"273.5\" y=\"-888\" font-family=\"monospace\" font-size=\"10.00\">conv2.weight</text>\n<text text-anchor=\"middle\" x=\"273.5\" y=\"-877\" font-family=\"monospace\" font-size=\"10.00\"> (16, 8, 3, 3)</text>\n</g>\n<!-- 140106475103440&#45;&gt;140106483482096 -->\n<g id=\"edge28\" class=\"edge\">\n<title>140106475103440&#45;&gt;140106483482096</title>\n<path fill=\"none\" stroke=\"black\" d=\"M273.5,-869.84C273.5,-862.21 273.5,-852.7 273.5,-844.45\"/>\n<polygon fill=\"black\" stroke=\"black\" points=\"277,-844.27 273.5,-834.27 270,-844.27 277,-844.27\"/>\n</g>\n<!-- 140106483469856 -->\n<g id=\"node31\" class=\"node\">\n<title>140106483469856</title>\n<polygon fill=\"lightgrey\" stroke=\"black\" points=\"443,-834 342,-834 342,-815 443,-815 443,-834\"/>\n<text text-anchor=\"middle\" x=\"392.5\" y=\"-822\" font-family=\"monospace\" font-size=\"10.00\">AccumulateGrad</text>\n</g>\n<!-- 140106483469856&#45;&gt;140106483480656 -->\n<g id=\"edge29\" class=\"edge\">\n<title>140106483469856&#45;&gt;140106483480656</title>\n<path fill=\"none\" stroke=\"black\" d=\"M373.38,-814.98C354.15,-806.42 324.27,-793.11 302.19,-783.28\"/>\n<polygon fill=\"black\" stroke=\"black\" points=\"303.53,-780.04 292.97,-779.17 300.68,-786.44 303.53,-780.04\"/>\n</g>\n<!-- 140106475100960 -->\n<g id=\"node32\" class=\"node\">\n<title>140106475100960</title>\n<polygon fill=\"lightblue\" stroke=\"black\" points=\"431,-900 354,-900 354,-870 431,-870 431,-900\"/>\n<text text-anchor=\"middle\" x=\"392.5\" y=\"-888\" font-family=\"monospace\" font-size=\"10.00\">conv2.bias</text>\n<text text-anchor=\"middle\" x=\"392.5\" y=\"-877\" font-family=\"monospace\" font-size=\"10.00\"> (16)</text>\n</g>\n<!-- 140106475100960&#45;&gt;140106483469856 -->\n<g id=\"edge30\" class=\"edge\">\n<title>140106475100960&#45;&gt;140106483469856</title>\n<path fill=\"none\" stroke=\"black\" d=\"M392.5,-869.84C392.5,-862.21 392.5,-852.7 392.5,-844.45\"/>\n<polygon fill=\"black\" stroke=\"black\" points=\"396,-844.27 392.5,-834.27 389,-844.27 396,-844.27\"/>\n</g>\n<!-- 140106483479888 -->\n<g id=\"node33\" class=\"node\">\n<title>140106483479888</title>\n<polygon fill=\"lightgrey\" stroke=\"black\" points=\"416,-586.5 339,-586.5 339,-567.5 416,-567.5 416,-586.5\"/>\n<text text-anchor=\"middle\" x=\"377.5\" y=\"-574.5\" font-family=\"monospace\" font-size=\"10.00\">TBackward0</text>\n</g>\n<!-- 140106483479888&#45;&gt;140106483481616 -->\n<g id=\"edge31\" class=\"edge\">\n<title>140106483479888&#45;&gt;140106483481616</title>\n<path fill=\"none\" stroke=\"black\" d=\"M366.31,-567.37C352.94,-557.06 330.35,-539.65 314.08,-527.09\"/>\n<polygon fill=\"black\" stroke=\"black\" points=\"315.84,-524.03 305.78,-520.7 311.56,-529.58 315.84,-524.03\"/>\n</g>\n<!-- 140106483479072 -->\n<g id=\"node34\" class=\"node\">\n<title>140106483479072</title>\n<polygon fill=\"lightgrey\" stroke=\"black\" points=\"488,-652.5 387,-652.5 387,-633.5 488,-633.5 488,-652.5\"/>\n<text text-anchor=\"middle\" x=\"437.5\" y=\"-640.5\" font-family=\"monospace\" font-size=\"10.00\">AccumulateGrad</text>\n</g>\n<!-- 140106483479072&#45;&gt;140106483479888 -->\n<g id=\"edge32\" class=\"edge\">\n<title>140106483479072&#45;&gt;140106483479888</title>\n<path fill=\"none\" stroke=\"black\" d=\"M429.41,-633.37C420.07,-623.4 404.49,-606.79 392.84,-594.36\"/>\n<polygon fill=\"black\" stroke=\"black\" points=\"395.24,-591.81 385.85,-586.91 390.13,-596.59 395.24,-591.81\"/>\n</g>\n<!-- 140106475102480 -->\n<g id=\"node35\" class=\"node\">\n<title>140106475102480</title>\n<polygon fill=\"lightblue\" stroke=\"black\" points=\"479,-724 396,-724 396,-694 479,-694 479,-724\"/>\n<text text-anchor=\"middle\" x=\"437.5\" y=\"-712\" font-family=\"monospace\" font-size=\"10.00\">fc1.weight</text>\n<text text-anchor=\"middle\" x=\"437.5\" y=\"-701\" font-family=\"monospace\" font-size=\"10.00\"> (256, 400)</text>\n</g>\n<!-- 140106475102480&#45;&gt;140106483479072 -->\n<g id=\"edge33\" class=\"edge\">\n<title>140106475102480&#45;&gt;140106483479072</title>\n<path fill=\"none\" stroke=\"black\" d=\"M437.5,-693.8C437.5,-684.7 437.5,-672.79 437.5,-662.9\"/>\n<polygon fill=\"black\" stroke=\"black\" points=\"441,-662.84 437.5,-652.84 434,-662.84 441,-662.84\"/>\n</g>\n<!-- 140106483475616 -->\n<g id=\"node36\" class=\"node\">\n<title>140106483475616</title>\n<polygon fill=\"lightgrey\" stroke=\"black\" points=\"445,-454.5 368,-454.5 368,-435.5 445,-435.5 445,-454.5\"/>\n<text text-anchor=\"middle\" x=\"406.5\" y=\"-442.5\" font-family=\"monospace\" font-size=\"10.00\">TBackward0</text>\n</g>\n<!-- 140106483475616&#45;&gt;140106483473072 -->\n<g id=\"edge34\" class=\"edge\">\n<title>140106483475616&#45;&gt;140106483473072</title>\n<path fill=\"none\" stroke=\"black\" d=\"M395.17,-435.37C381.64,-425.06 358.78,-407.65 342.31,-395.09\"/>\n<polygon fill=\"black\" stroke=\"black\" points=\"343.99,-391.98 333.92,-388.7 339.75,-397.54 343.99,-391.98\"/>\n</g>\n<!-- 140106483466736 -->\n<g id=\"node37\" class=\"node\">\n<title>140106483466736</title>\n<polygon fill=\"lightgrey\" stroke=\"black\" points=\"505,-520.5 404,-520.5 404,-501.5 505,-501.5 505,-520.5\"/>\n<text text-anchor=\"middle\" x=\"454.5\" y=\"-508.5\" font-family=\"monospace\" font-size=\"10.00\">AccumulateGrad</text>\n</g>\n<!-- 140106483466736&#45;&gt;140106483475616 -->\n<g id=\"edge35\" class=\"edge\">\n<title>140106483466736&#45;&gt;140106483475616</title>\n<path fill=\"none\" stroke=\"black\" d=\"M448.03,-501.37C440.7,-491.59 428.57,-475.42 419.31,-463.08\"/>\n<polygon fill=\"black\" stroke=\"black\" points=\"421.98,-460.81 413.18,-454.91 416.38,-465.01 421.98,-460.81\"/>\n</g>\n<!-- 140106486804336 -->\n<g id=\"node38\" class=\"node\">\n<title>140106486804336</title>\n<polygon fill=\"lightblue\" stroke=\"black\" points=\"517,-592 434,-592 434,-562 517,-562 517,-592\"/>\n<text text-anchor=\"middle\" x=\"475.5\" y=\"-580\" font-family=\"monospace\" font-size=\"10.00\">fc2.weight</text>\n<text text-anchor=\"middle\" x=\"475.5\" y=\"-569\" font-family=\"monospace\" font-size=\"10.00\"> (128, 256)</text>\n</g>\n<!-- 140106486804336&#45;&gt;140106483466736 -->\n<g id=\"edge36\" class=\"edge\">\n<title>140106486804336&#45;&gt;140106483466736</title>\n<path fill=\"none\" stroke=\"black\" d=\"M470.84,-561.8C467.82,-552.6 463.86,-540.53 460.6,-530.58\"/>\n<polygon fill=\"black\" stroke=\"black\" points=\"463.85,-529.25 457.4,-520.84 457.19,-531.44 463.85,-529.25\"/>\n</g>\n<!-- 140106483478688 -->\n<g id=\"node39\" class=\"node\">\n<title>140106483478688</title>\n<polygon fill=\"lightgrey\" stroke=\"black\" points=\"473,-322.5 396,-322.5 396,-303.5 473,-303.5 473,-322.5\"/>\n<text text-anchor=\"middle\" x=\"434.5\" y=\"-310.5\" font-family=\"monospace\" font-size=\"10.00\">TBackward0</text>\n</g>\n<!-- 140106483478688&#45;&gt;140106483468704 -->\n<g id=\"edge37\" class=\"edge\">\n<title>140106483478688&#45;&gt;140106483468704</title>\n<path fill=\"none\" stroke=\"black\" d=\"M423.17,-303.37C409.64,-293.06 386.78,-275.65 370.31,-263.09\"/>\n<polygon fill=\"black\" stroke=\"black\" points=\"371.99,-259.98 361.92,-256.7 367.75,-265.54 371.99,-259.98\"/>\n</g>\n<!-- 140106483482000 -->\n<g id=\"node40\" class=\"node\">\n<title>140106483482000</title>\n<polygon fill=\"lightgrey\" stroke=\"black\" points=\"532,-388.5 431,-388.5 431,-369.5 532,-369.5 532,-388.5\"/>\n<text text-anchor=\"middle\" x=\"481.5\" y=\"-376.5\" font-family=\"monospace\" font-size=\"10.00\">AccumulateGrad</text>\n</g>\n<!-- 140106483482000&#45;&gt;140106483478688 -->\n<g id=\"edge38\" class=\"edge\">\n<title>140106483482000&#45;&gt;140106483478688</title>\n<path fill=\"none\" stroke=\"black\" d=\"M475.16,-369.37C467.98,-359.59 456.11,-343.42 447.04,-331.08\"/>\n<polygon fill=\"black\" stroke=\"black\" points=\"449.78,-328.89 441.04,-322.91 444.14,-333.04 449.78,-328.89\"/>\n</g>\n<!-- 140106475101760 -->\n<g id=\"node41\" class=\"node\">\n<title>140106475101760</title>\n<polygon fill=\"lightblue\" stroke=\"black\" points=\"540,-460 463,-460 463,-430 540,-430 540,-460\"/>\n<text text-anchor=\"middle\" x=\"501.5\" y=\"-448\" font-family=\"monospace\" font-size=\"10.00\">fc3.weight</text>\n<text text-anchor=\"middle\" x=\"501.5\" y=\"-437\" font-family=\"monospace\" font-size=\"10.00\"> (64, 128)</text>\n</g>\n<!-- 140106475101760&#45;&gt;140106483482000 -->\n<g id=\"edge39\" class=\"edge\">\n<title>140106475101760&#45;&gt;140106483482000</title>\n<path fill=\"none\" stroke=\"black\" d=\"M497.06,-429.8C494.19,-420.6 490.42,-408.53 487.31,-398.58\"/>\n<polygon fill=\"black\" stroke=\"black\" points=\"490.59,-397.35 484.26,-388.84 483.91,-399.43 490.59,-397.35\"/>\n</g>\n<!-- 140106483471968 -->\n<g id=\"node42\" class=\"node\">\n<title>140106483471968</title>\n<polygon fill=\"lightgrey\" stroke=\"black\" points=\"524,-196 447,-196 447,-177 524,-177 524,-196\"/>\n<text text-anchor=\"middle\" x=\"485.5\" y=\"-184\" font-family=\"monospace\" font-size=\"10.00\">TBackward0</text>\n</g>\n<!-- 140106483471968&#45;&gt;140106483476240 -->\n<g id=\"edge40\" class=\"edge\">\n<title>140106483471968&#45;&gt;140106483476240</title>\n<path fill=\"none\" stroke=\"black\" d=\"M465.1,-176.98C444.48,-168.38 412.39,-154.99 388.81,-145.15\"/>\n<polygon fill=\"black\" stroke=\"black\" points=\"389.85,-141.79 379.28,-141.17 387.16,-148.25 389.85,-141.79\"/>\n</g>\n<!-- 140106483474176 -->\n<g id=\"node43\" class=\"node\">\n<title>140106483474176</title>\n<polygon fill=\"lightgrey\" stroke=\"black\" points=\"560,-256.5 459,-256.5 459,-237.5 560,-237.5 560,-256.5\"/>\n<text text-anchor=\"middle\" x=\"509.5\" y=\"-244.5\" font-family=\"monospace\" font-size=\"10.00\">AccumulateGrad</text>\n</g>\n<!-- 140106483474176&#45;&gt;140106483471968 -->\n<g id=\"edge41\" class=\"edge\">\n<title>140106483474176&#45;&gt;140106483471968</title>\n<path fill=\"none\" stroke=\"black\" d=\"M505.96,-237.37C502.56,-229.07 497.31,-216.28 492.98,-205.72\"/>\n<polygon fill=\"black\" stroke=\"black\" points=\"496.09,-204.09 489.06,-196.17 489.61,-206.75 496.09,-204.09\"/>\n</g>\n<!-- 140106476370768 -->\n<g id=\"node44\" class=\"node\">\n<title>140106476370768</title>\n<polygon fill=\"lightblue\" stroke=\"black\" points=\"568,-328 491,-328 491,-298 568,-298 568,-328\"/>\n<text text-anchor=\"middle\" x=\"529.5\" y=\"-316\" font-family=\"monospace\" font-size=\"10.00\">fc4.weight</text>\n<text text-anchor=\"middle\" x=\"529.5\" y=\"-305\" font-family=\"monospace\" font-size=\"10.00\"> (10, 64)</text>\n</g>\n<!-- 140106476370768&#45;&gt;140106483474176 -->\n<g id=\"edge42\" class=\"edge\">\n<title>140106476370768&#45;&gt;140106483474176</title>\n<path fill=\"none\" stroke=\"black\" d=\"M525.06,-297.8C522.19,-288.6 518.42,-276.53 515.31,-266.58\"/>\n<polygon fill=\"black\" stroke=\"black\" points=\"518.59,-265.35 512.26,-256.84 511.91,-267.43 518.59,-265.35\"/>\n</g>\n</g>\n</svg>\n",
            "text/plain": [
              "<graphviz.graphs.Digraph at 0x7f6d152f7850>"
            ]
          },
          "metadata": {},
          "execution_count": 55
        }
      ]
    },
    {
      "cell_type": "markdown",
      "metadata": {
        "id": "LlTLMs5Q-6Uh"
      },
      "source": [
        "#### Calling the instances of the network"
      ]
    },
    {
      "cell_type": "code",
      "source": [
        "!pip install torchsummary"
      ],
      "metadata": {
        "id": "E3YTjTHHJZEd",
        "colab": {
          "base_uri": "https://localhost:8080/"
        },
        "outputId": "85829aef-18d9-4188-bf7a-934766a4dcd3"
      },
      "execution_count": 48,
      "outputs": [
        {
          "output_type": "stream",
          "name": "stdout",
          "text": [
            "Requirement already satisfied: torchsummary in /usr/local/lib/python3.10/dist-packages (1.5.1)\n"
          ]
        }
      ]
    },
    {
      "cell_type": "code",
      "source": [
        "from torchsummary import summary"
      ],
      "metadata": {
        "id": "pQ5yv036Jgd8"
      },
      "execution_count": 49,
      "outputs": []
    },
    {
      "cell_type": "code",
      "source": [
        "summary(model, input_size=(1,28,28), batch_size=1)"
      ],
      "metadata": {
        "id": "i3RpbpWiJkJr",
        "colab": {
          "base_uri": "https://localhost:8080/"
        },
        "outputId": "3aa80161-5587-4f6b-dba4-56fc6b89dbdb"
      },
      "execution_count": 50,
      "outputs": [
        {
          "output_type": "stream",
          "name": "stdout",
          "text": [
            "----------------------------------------------------------------\n",
            "        Layer (type)               Output Shape         Param #\n",
            "================================================================\n",
            "            Conv2d-1             [1, 8, 26, 26]              80\n",
            "         MaxPool2d-2             [1, 8, 13, 13]               0\n",
            "            Conv2d-3            [1, 16, 11, 11]           1,168\n",
            "         MaxPool2d-4              [1, 16, 5, 5]               0\n",
            "            Linear-5                   [1, 256]         102,656\n",
            "            Linear-6                   [1, 128]          32,896\n",
            "            Linear-7                    [1, 64]           8,256\n",
            "            Linear-8                    [1, 10]             650\n",
            "================================================================\n",
            "Total params: 145,706\n",
            "Trainable params: 145,706\n",
            "Non-trainable params: 0\n",
            "----------------------------------------------------------------\n",
            "Input size (MB): 0.00\n",
            "Forward/backward pass size (MB): 0.07\n",
            "Params size (MB): 0.56\n",
            "Estimated Total Size (MB): 0.63\n",
            "----------------------------------------------------------------\n"
          ]
        }
      ]
    },
    {
      "cell_type": "markdown",
      "metadata": {
        "id": "GgJQ6bNG-Mx0"
      },
      "source": [
        "#### Defining the loss function and optimizer"
      ]
    },
    {
      "cell_type": "code",
      "metadata": {
        "id": "QjUUgDMQmw7Y"
      },
      "source": [
        "criterion = nn.CrossEntropyLoss()\n",
        "optimizer = optim.Adam(model.parameters(), lr = 0.001)"
      ],
      "execution_count": 56,
      "outputs": []
    },
    {
      "cell_type": "markdown",
      "metadata": {
        "id": "jmNz24u_n5fw"
      },
      "source": [
        "#### Training and Evaluating the model"
      ]
    },
    {
      "cell_type": "markdown",
      "metadata": {
        "id": "rWcqXz9PAM9B"
      },
      "source": [
        "In Training Phase, we iterate over a batch of images in the train_loader. For each batch, we perform  the following steps:\n",
        "\n",
        "* First we zero out the gradients using zero_grad()\n",
        "\n",
        "* We pass the data to the model i.e. we perform forward pass by calling the forward()\n",
        "\n",
        "* We calculate the loss using the actual and predicted labels\n",
        "\n",
        "* Perform Backward pass using backward() to update the weights"
      ]
    },
    {
      "cell_type": "code",
      "metadata": {
        "id": "kG_e4hjdrgs7",
        "colab": {
          "base_uri": "https://localhost:8080/"
        },
        "outputId": "9cdad915-6f63-4b1a-b720-1ef7a9caea1c"
      },
      "source": [
        "# No of Epochs\n",
        "epoch = 2\n",
        "\n",
        "# keeping the network in train mode\n",
        "model.train()\n",
        "train_losses,  train_accuracy = [], []\n",
        "\n",
        "# Loop for no of epochs\n",
        "for e in range(epoch):\n",
        "    train_loss = 0\n",
        "    correct = 0\n",
        "    # Iterate through all the batches in each epoch\n",
        "    for images, labels in trainloader:\n",
        "\n",
        "      # Convert the image and label to gpu for faster execution\n",
        "      images = images.to(device)\n",
        "      labels = labels.to(device)\n",
        "\n",
        "      # Zero the parameter gradients\n",
        "      optimizer.zero_grad()\n",
        "\n",
        "      # Passing the data to the model (Forward Pass)\n",
        "      outputs = model(images)\n",
        "\n",
        "      # Calculating the loss\n",
        "      loss = criterion(outputs, labels)\n",
        "      train_loss += loss.item()\n",
        "\n",
        "      # Performing backward pass (Backpropagation)\n",
        "      loss.backward()\n",
        "\n",
        "      # optimizer.step() updates the weights accordingly\n",
        "      optimizer.step()\n",
        "\n",
        "      _, predicted = torch.max(outputs, 1)\n",
        "      correct += (predicted == labels).sum().item()\n",
        "\n",
        "    # Accuracy calculation\n",
        "    train_losses.append(train_loss/len(trainset))\n",
        "    train_accuracy.append(100 * correct/len(trainset))\n",
        "    print('epoch: {}, Train Loss:{:.6f} Train Accuracy: {:.2f} '.format(e+1,train_losses[-1], train_accuracy[-1]))"
      ],
      "execution_count": 57,
      "outputs": [
        {
          "output_type": "stream",
          "name": "stdout",
          "text": [
            "epoch: 1, Train Loss:0.017967 Train Accuracy: 79.80 \n",
            "epoch: 2, Train Loss:0.011501 Train Accuracy: 87.16 \n"
          ]
        }
      ]
    },
    {
      "cell_type": "markdown",
      "metadata": {
        "id": "tdg2JUD1BxOC"
      },
      "source": [
        "In Testing Phase, we iterate over a batch of images in the test_loader. For each batch we perform the following steps:\n",
        "\n",
        "* We pass the images through the model (network) to get the outputs\n",
        "* Pick the class / label with the highest probability\n",
        "* Calculate the accuracy"
      ]
    },
    {
      "cell_type": "code",
      "metadata": {
        "id": "YEZPsRndr1i9",
        "colab": {
          "base_uri": "https://localhost:8080/"
        },
        "outputId": "d78a11a7-d42b-4936-993b-1dc6613750b8"
      },
      "source": [
        "# Keeping the network in evaluation mode\n",
        "model.eval()\n",
        "\n",
        "Test_accuracy = 0\n",
        "\n",
        "# Iterate through all the batches in each epoch\n",
        "for images,labels in testloader:\n",
        "\n",
        "    # Convert the images and labels to gpu for faster execution\n",
        "    images = images.to(device)\n",
        "    labels = labels.to(device)\n",
        "\n",
        "    # Do the forward pass\n",
        "    outputs = model(images)\n",
        "\n",
        "    # Accuracy calculation\n",
        "    _, predicted = torch.max(outputs, 1)\n",
        "    Test_accuracy += (predicted == labels).sum().item()\n",
        "\n",
        "Accuracy = 100 * Test_accuracy / len(testset)\n",
        "print(\"Accuracy of Test Data is\", Accuracy)"
      ],
      "execution_count": 58,
      "outputs": [
        {
          "output_type": "stream",
          "name": "stdout",
          "text": [
            "Accuracy of Test Data is 87.93\n"
          ]
        }
      ]
    },
    {
      "cell_type": "markdown",
      "metadata": {
        "id": "VHfHdGCP_n6Y"
      },
      "source": [
        "### Please answer the questions below to complete the experiment:\n",
        "\n",
        "\n"
      ]
    },
    {
      "cell_type": "code",
      "metadata": {
        "id": "kmvdJ4aNmGjR"
      },
      "source": [
        "#@title State TRUE or FALSE: nn.Conv2d will take in a 4D Tensor of nSamples x nChannels x Height x Width { run: \"auto\", form-width: \"500px\", display-mode: \"form\" }\n",
        "Answer = \"TRUE\" #@param [\"\",\"TRUE\", \"FALSE\"]\n"
      ],
      "execution_count": 59,
      "outputs": []
    },
    {
      "cell_type": "code",
      "metadata": {
        "id": "nmufjlR-rjv6"
      },
      "source": [
        "#@title How was the experiment? { run: \"auto\", form-width: \"500px\", display-mode: \"form\" }\n",
        "Complexity = \"Was Tough, but I did it\" #@param [\"\",\"Too Simple, I am wasting time\", \"Good, But Not Challenging for me\", \"Good and Challenging for me\", \"Was Tough, but I did it\", \"Too Difficult for me\"]\n"
      ],
      "execution_count": 60,
      "outputs": []
    },
    {
      "cell_type": "code",
      "metadata": {
        "id": "MZ7vVuShrjv6"
      },
      "source": [
        "#@title If it was too easy, what more would you have liked to be added? If it was very difficult, what would you have liked to have been removed? { run: \"auto\", display-mode: \"form\" }\n",
        "Additional = \"na\" #@param {type:\"string\"}\n"
      ],
      "execution_count": 61,
      "outputs": []
    },
    {
      "cell_type": "code",
      "metadata": {
        "id": "4VBk_4VTAxCM"
      },
      "source": [
        "#@title Can you identify the concepts from the lecture which this experiment covered? { run: \"auto\", vertical-output: true, display-mode: \"form\" }\n",
        "Concepts = \"No\" #@param [\"\",\"Yes\", \"No\"]\n"
      ],
      "execution_count": 62,
      "outputs": []
    },
    {
      "cell_type": "code",
      "metadata": {
        "id": "r35isHfTVGKc"
      },
      "source": [
        "#@title  Experiment walkthrough video? { run: \"auto\", vertical-output: true, display-mode: \"form\" }\n",
        "Walkthrough = \"Didn't use\" #@param [\"\",\"Very Useful\", \"Somewhat Useful\", \"Not Useful\", \"Didn't use\"]\n"
      ],
      "execution_count": 63,
      "outputs": []
    },
    {
      "cell_type": "code",
      "metadata": {
        "id": "XH91cL1JWH7m"
      },
      "source": [
        "#@title  Text and image description/explanation and code comments within the experiment: { run: \"auto\", vertical-output: true, display-mode: \"form\" }\n",
        "Comments = \"Somewhat Useful\" #@param [\"\",\"Very Useful\", \"Somewhat Useful\", \"Not Useful\", \"Didn't use\"]\n"
      ],
      "execution_count": 64,
      "outputs": []
    },
    {
      "cell_type": "code",
      "metadata": {
        "id": "z8xLqj7VWIKW"
      },
      "source": [
        "#@title Mentor Support: { run: \"auto\", vertical-output: true, display-mode: \"form\" }\n",
        "Mentor_support = \"Didn't use\" #@param [\"\",\"Very Useful\", \"Somewhat Useful\", \"Not Useful\", \"Didn't use\"]\n"
      ],
      "execution_count": 65,
      "outputs": []
    },
    {
      "cell_type": "code",
      "metadata": {
        "id": "FzAZHt1zw-Y-",
        "cellView": "form",
        "colab": {
          "base_uri": "https://localhost:8080/"
        },
        "outputId": "e7065931-75eb-4715-ea27-50d8f6c6e684"
      },
      "source": [
        "#@title Run this cell to submit your notebook for grading { vertical-output: true }\n",
        "try:\n",
        "  if submission_id:\n",
        "      return_id = submit_notebook()\n",
        "      if return_id : submission_id = return_id\n",
        "  else:\n",
        "      print(\"Please complete the setup first.\")\n",
        "except NameError:\n",
        "  print (\"Please complete the setup first.\")"
      ],
      "execution_count": 66,
      "outputs": [
        {
          "output_type": "stream",
          "name": "stdout",
          "text": [
            "Your submission is successful.\n",
            "Ref Id: 5281\n",
            "Date of submission:  10 Aug 2024\n",
            "Time of submission:  19:35:43\n",
            "View your submissions: https://aiml-iiith.talentsprint.com/notebook_submissions\n"
          ]
        }
      ]
    }
  ]
}