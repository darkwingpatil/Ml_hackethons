{
  "cells": [
    {
      "cell_type": "markdown",
      "metadata": {
        "id": "view-in-github",
        "colab_type": "text"
      },
      "source": [
        "<a href=\"https://colab.research.google.com/github/darkwingpatil/Ml_hackethons/blob/main/Gradient_Descent_from_Scratch.ipynb\" target=\"_parent\"><img src=\"https://colab.research.google.com/assets/colab-badge.svg\" alt=\"Open In Colab\"/></a>"
      ]
    },
    {
      "cell_type": "markdown",
      "metadata": {
        "id": "EDVzgtAVoBA0"
      },
      "source": [
        "##Gradient Descent from Scratch"
      ]
    },
    {
      "cell_type": "markdown",
      "metadata": {
        "id": "cOc4QFM8jOeR"
      },
      "source": [
        "## Learning Objectives\n",
        "\n",
        "At the end of the experiment, participants will be able to :\n",
        "\n",
        "* understand the intuition behind Gradient Descent\n",
        "* implement Batch Gradient Descent from scratch\n",
        "* implement Stochastic Gradient Descent from scratch"
      ]
    },
    {
      "cell_type": "markdown",
      "metadata": {
        "id": "NWEHrLZsjxvx"
      },
      "source": [
        "## Overview\n",
        "\n",
        "In general terms Gradient means slope or slant of a surface. Gradient Descent aims to minimize the cost function. A function reaches its minimum value when the slope is equal to 0. Gradient descent is an iterative algorithm, that starts from a random point on a function and travels down its slope in steps until it reaches the minimum point of that function."
      ]
    },
    {
      "cell_type": "markdown",
      "metadata": {
        "id": "P3--euVMj6yC"
      },
      "source": [
        "#### Importing required packages"
      ]
    },
    {
      "cell_type": "code",
      "execution_count": null,
      "metadata": {
        "id": "BIOwSer_sJly"
      },
      "outputs": [],
      "source": [
        "import matplotlib.pyplot as plt\n",
        "import pandas as pd\n",
        "import numpy as np"
      ]
    },
    {
      "cell_type": "markdown",
      "source": [
        "### Implementing  Equation --> $y=3x+1$"
      ],
      "metadata": {
        "id": "3xe1p9eNKd_v"
      }
    },
    {
      "cell_type": "code",
      "execution_count": null,
      "metadata": {
        "id": "23Zhl34exiLp",
        "colab": {
          "base_uri": "https://localhost:8080/"
        },
        "outputId": "cf72af8f-a101-421c-e069-87a1a1d67c37",
        "collapsed": true
      },
      "outputs": [
        {
          "output_type": "execute_result",
          "data": {
            "text/plain": [
              "array([-3., -2., -1.,  0.,  1.,  2.,  3.])"
            ]
          },
          "metadata": {},
          "execution_count": 2
        }
      ],
      "source": [
        "x1=np.linspace(-3,3,7)\n",
        "x1"
      ]
    },
    {
      "cell_type": "code",
      "execution_count": null,
      "metadata": {
        "id": "1c9ldvl6ybnN",
        "colab": {
          "base_uri": "https://localhost:8080/"
        },
        "outputId": "7d9a4b2c-c3bc-4448-f809-af6807684b42",
        "collapsed": true
      },
      "outputs": [
        {
          "output_type": "execute_result",
          "data": {
            "text/plain": [
              "array([-8., -5., -2.,  1.,  4.,  7., 10.])"
            ]
          },
          "metadata": {},
          "execution_count": 3
        }
      ],
      "source": [
        "y1=3*x1+1\n",
        "y1"
      ]
    },
    {
      "cell_type": "markdown",
      "metadata": {
        "id": "N4jn8BlrsJmC"
      },
      "source": [
        "### Implementing  Equation --> $y=3x+1$ --> Using  Matrix Concepts\n",
        "\n",
        "![](https://cdn.extras.talentsprint.com/aiml/Experiment_related_data/Images/st_line_into_matrix.jpg)\n",
        "\n"
      ]
    },
    {
      "cell_type": "markdown",
      "metadata": {
        "id": "bxbOy9SbsJmO"
      },
      "source": [
        "#### Calculating y for all values of x  in one shot in eqn  y = 3x + 1\n",
        "#### Taking X= [-3, -2 ,  -1,   0,   1,  2,   3 ]"
      ]
    },
    {
      "cell_type": "code",
      "source": [
        "## Making array of coefficient of y=mx+c | y=3x+1\n",
        "theta=np.array([[1,3]]) ## theta_0(c)=1,theta_1(m)=3\n",
        "print('theta :\\n', theta,'\\n')\n",
        "print('shape of theta : ',theta.shape)\n",
        "print('Transpose of theta : \\n',theta.T)\n",
        "print('shape of theta transpose : ',theta.T.shape)"
      ],
      "metadata": {
        "colab": {
          "base_uri": "https://localhost:8080/"
        },
        "collapsed": true,
        "id": "ehY1oj_eLi23",
        "outputId": "1c6192e1-4343-4256-c66f-c5d3dace541e"
      },
      "execution_count": null,
      "outputs": [
        {
          "output_type": "stream",
          "name": "stdout",
          "text": [
            "theta :\n",
            " [[1 3]] \n",
            "\n",
            "shape of theta :  (1, 2)\n",
            "Transpose of theta : \n",
            " [[1]\n",
            " [3]]\n",
            "shape of theta transpose :  (2, 1)\n"
          ]
        }
      ]
    },
    {
      "cell_type": "code",
      "source": [
        "## Creating X array\n",
        "x1=np.linspace(-3,3,7)\n",
        "X1=x1.reshape(-1,1)# Converting one dimensional x1 into 2D (multiple row and one column) and storing as X1\n",
        "print('X1 :\\n',X1,'\\n')\n",
        "X_values=np.hstack((np.ones((7,1)),X1))\n",
        "print('X_values :\\n',X_values, '\\n')\n",
        "print('shape of X_values : ',X_values.shape)"
      ],
      "metadata": {
        "colab": {
          "base_uri": "https://localhost:8080/"
        },
        "collapsed": true,
        "id": "rZlpWn0OLtbO",
        "outputId": "39cce366-6f0c-4862-8928-d62b79d00f1d"
      },
      "execution_count": null,
      "outputs": [
        {
          "output_type": "stream",
          "name": "stdout",
          "text": [
            "X1 :\n",
            " [[-3.]\n",
            " [-2.]\n",
            " [-1.]\n",
            " [ 0.]\n",
            " [ 1.]\n",
            " [ 2.]\n",
            " [ 3.]] \n",
            "\n",
            "X_values :\n",
            " [[ 1. -3.]\n",
            " [ 1. -2.]\n",
            " [ 1. -1.]\n",
            " [ 1.  0.]\n",
            " [ 1.  1.]\n",
            " [ 1.  2.]\n",
            " [ 1.  3.]] \n",
            "\n",
            "shape of X_values :  (7, 2)\n"
          ]
        }
      ]
    },
    {
      "cell_type": "code",
      "execution_count": null,
      "metadata": {
        "id": "GH9gZGaP9yCR",
        "colab": {
          "base_uri": "https://localhost:8080/"
        },
        "outputId": "1d32ab46-0487-4a34-8812-2fbd355fe0ec",
        "collapsed": true
      },
      "outputs": [
        {
          "output_type": "stream",
          "name": "stdout",
          "text": [
            "Y_Values : \n",
            "  [[-8.]\n",
            " [-5.]\n",
            " [-2.]\n",
            " [ 1.]\n",
            " [ 4.]\n",
            " [ 7.]\n",
            " [10.]] \n",
            "\n",
            "shape of y_values :  (7, 1)\n"
          ]
        }
      ],
      "source": [
        "### Finally implementing y=mx+c in array format\n",
        "y_values=np.dot(X_values,theta.T) # shape tracking : (7,2) @ (2,1) -->(7,1) # X_values.dot(theta.T)\n",
        "print('Y_Values : \\n ',y_values,'\\n')\n",
        "print('shape of y_values : ',y_values.shape)"
      ]
    },
    {
      "cell_type": "markdown",
      "metadata": {
        "id": "PxooqFR1sJmb"
      },
      "source": [
        "### Importing Data"
      ]
    },
    {
      "cell_type": "code",
      "execution_count": null,
      "metadata": {
        "colab": {
          "base_uri": "https://localhost:8080/"
        },
        "id": "MRrN_z1fwnQL",
        "outputId": "cc99ed50-37de-45a0-d041-cc9678e8fee4",
        "cellView": "form",
        "collapsed": true
      },
      "outputs": [
        {
          "output_type": "stream",
          "name": "stdout",
          "text": [
            "Data downloaded successfully!\n"
          ]
        }
      ],
      "source": [
        "#@title Download dataset\n",
        "!wget -qq https://cdn.iisc.talentsprint.com/AIandMLOps/Datasets/data1.txt\n",
        "print(\"Data downloaded successfully!\")"
      ]
    },
    {
      "cell_type": "code",
      "execution_count": null,
      "metadata": {
        "id": "_yj3RVXssJmc",
        "colab": {
          "base_uri": "https://localhost:8080/",
          "height": 175
        },
        "outputId": "4659f8f0-b63e-4d6a-e06d-446a8671788f",
        "collapsed": true
      },
      "outputs": [
        {
          "output_type": "execute_result",
          "data": {
            "text/plain": [
              "   Population   Profit\n",
              "0      6.1101  17.5920\n",
              "1      5.5277   9.1302\n",
              "2      8.5186  13.6620\n",
              "3      7.0032  11.8540"
            ],
            "text/html": [
              "\n",
              "  <div id=\"df-11af2041-1746-4897-b27f-21ce935f33b9\" class=\"colab-df-container\">\n",
              "    <div>\n",
              "<style scoped>\n",
              "    .dataframe tbody tr th:only-of-type {\n",
              "        vertical-align: middle;\n",
              "    }\n",
              "\n",
              "    .dataframe tbody tr th {\n",
              "        vertical-align: top;\n",
              "    }\n",
              "\n",
              "    .dataframe thead th {\n",
              "        text-align: right;\n",
              "    }\n",
              "</style>\n",
              "<table border=\"1\" class=\"dataframe\">\n",
              "  <thead>\n",
              "    <tr style=\"text-align: right;\">\n",
              "      <th></th>\n",
              "      <th>Population</th>\n",
              "      <th>Profit</th>\n",
              "    </tr>\n",
              "  </thead>\n",
              "  <tbody>\n",
              "    <tr>\n",
              "      <th>0</th>\n",
              "      <td>6.1101</td>\n",
              "      <td>17.5920</td>\n",
              "    </tr>\n",
              "    <tr>\n",
              "      <th>1</th>\n",
              "      <td>5.5277</td>\n",
              "      <td>9.1302</td>\n",
              "    </tr>\n",
              "    <tr>\n",
              "      <th>2</th>\n",
              "      <td>8.5186</td>\n",
              "      <td>13.6620</td>\n",
              "    </tr>\n",
              "    <tr>\n",
              "      <th>3</th>\n",
              "      <td>7.0032</td>\n",
              "      <td>11.8540</td>\n",
              "    </tr>\n",
              "  </tbody>\n",
              "</table>\n",
              "</div>\n",
              "    <div class=\"colab-df-buttons\">\n",
              "\n",
              "  <div class=\"colab-df-container\">\n",
              "    <button class=\"colab-df-convert\" onclick=\"convertToInteractive('df-11af2041-1746-4897-b27f-21ce935f33b9')\"\n",
              "            title=\"Convert this dataframe to an interactive table.\"\n",
              "            style=\"display:none;\">\n",
              "\n",
              "  <svg xmlns=\"http://www.w3.org/2000/svg\" height=\"24px\" viewBox=\"0 -960 960 960\">\n",
              "    <path d=\"M120-120v-720h720v720H120Zm60-500h600v-160H180v160Zm220 220h160v-160H400v160Zm0 220h160v-160H400v160ZM180-400h160v-160H180v160Zm440 0h160v-160H620v160ZM180-180h160v-160H180v160Zm440 0h160v-160H620v160Z\"/>\n",
              "  </svg>\n",
              "    </button>\n",
              "\n",
              "  <style>\n",
              "    .colab-df-container {\n",
              "      display:flex;\n",
              "      gap: 12px;\n",
              "    }\n",
              "\n",
              "    .colab-df-convert {\n",
              "      background-color: #E8F0FE;\n",
              "      border: none;\n",
              "      border-radius: 50%;\n",
              "      cursor: pointer;\n",
              "      display: none;\n",
              "      fill: #1967D2;\n",
              "      height: 32px;\n",
              "      padding: 0 0 0 0;\n",
              "      width: 32px;\n",
              "    }\n",
              "\n",
              "    .colab-df-convert:hover {\n",
              "      background-color: #E2EBFA;\n",
              "      box-shadow: 0px 1px 2px rgba(60, 64, 67, 0.3), 0px 1px 3px 1px rgba(60, 64, 67, 0.15);\n",
              "      fill: #174EA6;\n",
              "    }\n",
              "\n",
              "    .colab-df-buttons div {\n",
              "      margin-bottom: 4px;\n",
              "    }\n",
              "\n",
              "    [theme=dark] .colab-df-convert {\n",
              "      background-color: #3B4455;\n",
              "      fill: #D2E3FC;\n",
              "    }\n",
              "\n",
              "    [theme=dark] .colab-df-convert:hover {\n",
              "      background-color: #434B5C;\n",
              "      box-shadow: 0px 1px 3px 1px rgba(0, 0, 0, 0.15);\n",
              "      filter: drop-shadow(0px 1px 2px rgba(0, 0, 0, 0.3));\n",
              "      fill: #FFFFFF;\n",
              "    }\n",
              "  </style>\n",
              "\n",
              "    <script>\n",
              "      const buttonEl =\n",
              "        document.querySelector('#df-11af2041-1746-4897-b27f-21ce935f33b9 button.colab-df-convert');\n",
              "      buttonEl.style.display =\n",
              "        google.colab.kernel.accessAllowed ? 'block' : 'none';\n",
              "\n",
              "      async function convertToInteractive(key) {\n",
              "        const element = document.querySelector('#df-11af2041-1746-4897-b27f-21ce935f33b9');\n",
              "        const dataTable =\n",
              "          await google.colab.kernel.invokeFunction('convertToInteractive',\n",
              "                                                    [key], {});\n",
              "        if (!dataTable) return;\n",
              "\n",
              "        const docLinkHtml = 'Like what you see? Visit the ' +\n",
              "          '<a target=\"_blank\" href=https://colab.research.google.com/notebooks/data_table.ipynb>data table notebook</a>'\n",
              "          + ' to learn more about interactive tables.';\n",
              "        element.innerHTML = '';\n",
              "        dataTable['output_type'] = 'display_data';\n",
              "        await google.colab.output.renderOutput(dataTable, element);\n",
              "        const docLink = document.createElement('div');\n",
              "        docLink.innerHTML = docLinkHtml;\n",
              "        element.appendChild(docLink);\n",
              "      }\n",
              "    </script>\n",
              "  </div>\n",
              "\n",
              "\n",
              "<div id=\"df-1a652eaa-3b0e-49c5-bd96-79dfdcef51b8\">\n",
              "  <button class=\"colab-df-quickchart\" onclick=\"quickchart('df-1a652eaa-3b0e-49c5-bd96-79dfdcef51b8')\"\n",
              "            title=\"Suggest charts\"\n",
              "            style=\"display:none;\">\n",
              "\n",
              "<svg xmlns=\"http://www.w3.org/2000/svg\" height=\"24px\"viewBox=\"0 0 24 24\"\n",
              "     width=\"24px\">\n",
              "    <g>\n",
              "        <path d=\"M19 3H5c-1.1 0-2 .9-2 2v14c0 1.1.9 2 2 2h14c1.1 0 2-.9 2-2V5c0-1.1-.9-2-2-2zM9 17H7v-7h2v7zm4 0h-2V7h2v10zm4 0h-2v-4h2v4z\"/>\n",
              "    </g>\n",
              "</svg>\n",
              "  </button>\n",
              "\n",
              "<style>\n",
              "  .colab-df-quickchart {\n",
              "      --bg-color: #E8F0FE;\n",
              "      --fill-color: #1967D2;\n",
              "      --hover-bg-color: #E2EBFA;\n",
              "      --hover-fill-color: #174EA6;\n",
              "      --disabled-fill-color: #AAA;\n",
              "      --disabled-bg-color: #DDD;\n",
              "  }\n",
              "\n",
              "  [theme=dark] .colab-df-quickchart {\n",
              "      --bg-color: #3B4455;\n",
              "      --fill-color: #D2E3FC;\n",
              "      --hover-bg-color: #434B5C;\n",
              "      --hover-fill-color: #FFFFFF;\n",
              "      --disabled-bg-color: #3B4455;\n",
              "      --disabled-fill-color: #666;\n",
              "  }\n",
              "\n",
              "  .colab-df-quickchart {\n",
              "    background-color: var(--bg-color);\n",
              "    border: none;\n",
              "    border-radius: 50%;\n",
              "    cursor: pointer;\n",
              "    display: none;\n",
              "    fill: var(--fill-color);\n",
              "    height: 32px;\n",
              "    padding: 0;\n",
              "    width: 32px;\n",
              "  }\n",
              "\n",
              "  .colab-df-quickchart:hover {\n",
              "    background-color: var(--hover-bg-color);\n",
              "    box-shadow: 0 1px 2px rgba(60, 64, 67, 0.3), 0 1px 3px 1px rgba(60, 64, 67, 0.15);\n",
              "    fill: var(--button-hover-fill-color);\n",
              "  }\n",
              "\n",
              "  .colab-df-quickchart-complete:disabled,\n",
              "  .colab-df-quickchart-complete:disabled:hover {\n",
              "    background-color: var(--disabled-bg-color);\n",
              "    fill: var(--disabled-fill-color);\n",
              "    box-shadow: none;\n",
              "  }\n",
              "\n",
              "  .colab-df-spinner {\n",
              "    border: 2px solid var(--fill-color);\n",
              "    border-color: transparent;\n",
              "    border-bottom-color: var(--fill-color);\n",
              "    animation:\n",
              "      spin 1s steps(1) infinite;\n",
              "  }\n",
              "\n",
              "  @keyframes spin {\n",
              "    0% {\n",
              "      border-color: transparent;\n",
              "      border-bottom-color: var(--fill-color);\n",
              "      border-left-color: var(--fill-color);\n",
              "    }\n",
              "    20% {\n",
              "      border-color: transparent;\n",
              "      border-left-color: var(--fill-color);\n",
              "      border-top-color: var(--fill-color);\n",
              "    }\n",
              "    30% {\n",
              "      border-color: transparent;\n",
              "      border-left-color: var(--fill-color);\n",
              "      border-top-color: var(--fill-color);\n",
              "      border-right-color: var(--fill-color);\n",
              "    }\n",
              "    40% {\n",
              "      border-color: transparent;\n",
              "      border-right-color: var(--fill-color);\n",
              "      border-top-color: var(--fill-color);\n",
              "    }\n",
              "    60% {\n",
              "      border-color: transparent;\n",
              "      border-right-color: var(--fill-color);\n",
              "    }\n",
              "    80% {\n",
              "      border-color: transparent;\n",
              "      border-right-color: var(--fill-color);\n",
              "      border-bottom-color: var(--fill-color);\n",
              "    }\n",
              "    90% {\n",
              "      border-color: transparent;\n",
              "      border-bottom-color: var(--fill-color);\n",
              "    }\n",
              "  }\n",
              "</style>\n",
              "\n",
              "  <script>\n",
              "    async function quickchart(key) {\n",
              "      const quickchartButtonEl =\n",
              "        document.querySelector('#' + key + ' button');\n",
              "      quickchartButtonEl.disabled = true;  // To prevent multiple clicks.\n",
              "      quickchartButtonEl.classList.add('colab-df-spinner');\n",
              "      try {\n",
              "        const charts = await google.colab.kernel.invokeFunction(\n",
              "            'suggestCharts', [key], {});\n",
              "      } catch (error) {\n",
              "        console.error('Error during call to suggestCharts:', error);\n",
              "      }\n",
              "      quickchartButtonEl.classList.remove('colab-df-spinner');\n",
              "      quickchartButtonEl.classList.add('colab-df-quickchart-complete');\n",
              "    }\n",
              "    (() => {\n",
              "      let quickchartButtonEl =\n",
              "        document.querySelector('#df-1a652eaa-3b0e-49c5-bd96-79dfdcef51b8 button');\n",
              "      quickchartButtonEl.style.display =\n",
              "        google.colab.kernel.accessAllowed ? 'block' : 'none';\n",
              "    })();\n",
              "  </script>\n",
              "</div>\n",
              "\n",
              "    </div>\n",
              "  </div>\n"
            ],
            "application/vnd.google.colaboratory.intrinsic+json": {
              "type": "dataframe",
              "variable_name": "data",
              "summary": "{\n  \"name\": \"data\",\n  \"rows\": 97,\n  \"fields\": [\n    {\n      \"column\": \"Population\",\n      \"properties\": {\n        \"dtype\": \"number\",\n        \"std\": 3.8698835278823314,\n        \"min\": 5.0269,\n        \"max\": 22.203,\n        \"num_unique_values\": 97,\n        \"samples\": [\n          21.279,\n          5.4069,\n          5.3054\n        ],\n        \"semantic_type\": \"\",\n        \"description\": \"\"\n      }\n    },\n    {\n      \"column\": \"Profit\",\n      \"properties\": {\n        \"dtype\": \"number\",\n        \"std\": 5.510262255231544,\n        \"min\": -2.6807,\n        \"max\": 24.147,\n        \"num_unique_values\": 97,\n        \"samples\": [\n          17.929,\n          0.55657,\n          1.9869\n        ],\n        \"semantic_type\": \"\",\n        \"description\": \"\"\n      }\n    }\n  ]\n}"
            }
          },
          "metadata": {},
          "execution_count": 8
        }
      ],
      "source": [
        "data = pd.read_csv('data1.txt',header=None)\n",
        "data.rename(columns = {0:'Population', 1:'Profit'}, inplace=True)\n",
        "data.head(4)"
      ]
    },
    {
      "cell_type": "code",
      "execution_count": null,
      "metadata": {
        "id": "RCrYADYWsJmd",
        "colab": {
          "base_uri": "https://localhost:8080/"
        },
        "outputId": "4cd2569e-7700-4dad-a5cf-e1a8f07fe2de",
        "collapsed": true
      },
      "outputs": [
        {
          "output_type": "stream",
          "name": "stdout",
          "text": [
            "<class 'pandas.core.frame.DataFrame'>\n",
            "RangeIndex: 97 entries, 0 to 96\n",
            "Data columns (total 2 columns):\n",
            " #   Column      Non-Null Count  Dtype  \n",
            "---  ------      --------------  -----  \n",
            " 0   Population  97 non-null     float64\n",
            " 1   Profit      97 non-null     float64\n",
            "dtypes: float64(2)\n",
            "memory usage: 1.6 KB\n"
          ]
        }
      ],
      "source": [
        "data.info()"
      ]
    },
    {
      "cell_type": "code",
      "execution_count": null,
      "metadata": {
        "id": "BR4I9XoLsJmd",
        "colab": {
          "base_uri": "https://localhost:8080/",
          "height": 449
        },
        "outputId": "7932267a-e262-459b-d3eb-2b325d222760",
        "collapsed": true
      },
      "outputs": [
        {
          "output_type": "display_data",
          "data": {
            "text/plain": [
              "<Figure size 640x480 with 1 Axes>"
            ],
            "image/png": "[encoded data removed]"
          },
          "metadata": {}
        }
      ],
      "source": [
        "plt.scatter(data.Population, data.Profit)\n",
        "plt.xlabel('Population in 10,000')\n",
        "plt.ylabel('Profit in 10,000')\n",
        "plt.show()"
      ]
    },
    {
      "cell_type": "markdown",
      "metadata": {
        "id": "hIdrHYULsJme"
      },
      "source": [
        "### Separating feature X and output Y"
      ]
    },
    {
      "cell_type": "code",
      "execution_count": null,
      "metadata": {
        "id": "nuipCOlzsJmf",
        "colab": {
          "base_uri": "https://localhost:8080/"
        },
        "outputId": "717e1249-a232-4d35-f274-acc55a838d83",
        "collapsed": true
      },
      "outputs": [
        {
          "output_type": "stream",
          "name": "stdout",
          "text": [
            "Number of sample in data:  97\n",
            "shape small x :  (97, 1)\n",
            "shape capital X :  (97, 2)\n",
            "displaying first 4 row of capital X : \n",
            " [[1.     6.1101]\n",
            " [1.     5.5277]\n",
            " [1.     8.5186]\n",
            " [1.     7.0032]]\n",
            "shape y :  (97, 1)\n"
          ]
        }
      ],
      "source": [
        "## Separating feature i.e. x\n",
        "x = data['Population'].values\n",
        "m = len(x)\n",
        "print('Number of sample in data: ', m)\n",
        "\n",
        "x = x.reshape(-1,1)\n",
        "print('shape small x : ',x.shape)\n",
        "\n",
        "ones = np.ones((97,1))\n",
        "X = np.hstack([ones,x])\n",
        "print('shape capital X : ',X.shape)\n",
        "print('displaying first 4 row of capital X : \\n',X[:4])\n",
        "\n",
        "## Separating target i.e. y\n",
        "y = data['Profit'].values\n",
        "y = y.reshape(-1,1)\n",
        "print('shape y : ',y.shape)\n"
      ]
    },
    {
      "cell_type": "code",
      "source": [
        "X"
      ],
      "metadata": {
        "id": "dTIbfOBmy1lX",
        "colab": {
          "base_uri": "https://localhost:8080/"
        },
        "collapsed": true,
        "outputId": "b3b8487e-d233-4d17-93cc-70e3f47d2ebd"
      },
      "execution_count": null,
      "outputs": [
        {
          "output_type": "execute_result",
          "data": {
            "text/plain": [
              "array([[ 1.    ,  6.1101],\n",
              "       [ 1.    ,  5.5277],\n",
              "       [ 1.    ,  8.5186],\n",
              "       [ 1.    ,  7.0032],\n",
              "       [ 1.    ,  5.8598],\n",
              "       [ 1.    ,  8.3829],\n",
              "       [ 1.    ,  7.4764],\n",
              "       [ 1.    ,  8.5781],\n",
              "       [ 1.    ,  6.4862],\n",
              "       [ 1.    ,  5.0546],\n",
              "       [ 1.    ,  5.7107],\n",
              "       [ 1.    , 14.164 ],\n",
              "       [ 1.    ,  5.734 ],\n",
              "       [ 1.    ,  8.4084],\n",
              "       [ 1.    ,  5.6407],\n",
              "       [ 1.    ,  5.3794],\n",
              "       [ 1.    ,  6.3654],\n",
              "       [ 1.    ,  5.1301],\n",
              "       [ 1.    ,  6.4296],\n",
              "       [ 1.    ,  7.0708],\n",
              "       [ 1.    ,  6.1891],\n",
              "       [ 1.    , 20.27  ],\n",
              "       [ 1.    ,  5.4901],\n",
              "       [ 1.    ,  6.3261],\n",
              "       [ 1.    ,  5.5649],\n",
              "       [ 1.    , 18.945 ],\n",
              "       [ 1.    , 12.828 ],\n",
              "       [ 1.    , 10.957 ],\n",
              "       [ 1.    , 13.176 ],\n",
              "       [ 1.    , 22.203 ],\n",
              "       [ 1.    ,  5.2524],\n",
              "       [ 1.    ,  6.5894],\n",
              "       [ 1.    ,  9.2482],\n",
              "       [ 1.    ,  5.8918],\n",
              "       [ 1.    ,  8.2111],\n",
              "       [ 1.    ,  7.9334],\n",
              "       [ 1.    ,  8.0959],\n",
              "       [ 1.    ,  5.6063],\n",
              "       [ 1.    , 12.836 ],\n",
              "       [ 1.    ,  6.3534],\n",
              "       [ 1.    ,  5.4069],\n",
              "       [ 1.    ,  6.8825],\n",
              "       [ 1.    , 11.708 ],\n",
              "       [ 1.    ,  5.7737],\n",
              "       [ 1.    ,  7.8247],\n",
              "       [ 1.    ,  7.0931],\n",
              "       [ 1.    ,  5.0702],\n",
              "       [ 1.    ,  5.8014],\n",
              "       [ 1.    , 11.7   ],\n",
              "       [ 1.    ,  5.5416],\n",
              "       [ 1.    ,  7.5402],\n",
              "       [ 1.    ,  5.3077],\n",
              "       [ 1.    ,  7.4239],\n",
              "       [ 1.    ,  7.6031],\n",
              "       [ 1.    ,  6.3328],\n",
              "       [ 1.    ,  6.3589],\n",
              "       [ 1.    ,  6.2742],\n",
              "       [ 1.    ,  5.6397],\n",
              "       [ 1.    ,  9.3102],\n",
              "       [ 1.    ,  9.4536],\n",
              "       [ 1.    ,  8.8254],\n",
              "       [ 1.    ,  5.1793],\n",
              "       [ 1.    , 21.279 ],\n",
              "       [ 1.    , 14.908 ],\n",
              "       [ 1.    , 18.959 ],\n",
              "       [ 1.    ,  7.2182],\n",
              "       [ 1.    ,  8.2951],\n",
              "       [ 1.    , 10.236 ],\n",
              "       [ 1.    ,  5.4994],\n",
              "       [ 1.    , 20.341 ],\n",
              "       [ 1.    , 10.136 ],\n",
              "       [ 1.    ,  7.3345],\n",
              "       [ 1.    ,  6.0062],\n",
              "       [ 1.    ,  7.2259],\n",
              "       [ 1.    ,  5.0269],\n",
              "       [ 1.    ,  6.5479],\n",
              "       [ 1.    ,  7.5386],\n",
              "       [ 1.    ,  5.0365],\n",
              "       [ 1.    , 10.274 ],\n",
              "       [ 1.    ,  5.1077],\n",
              "       [ 1.    ,  5.7292],\n",
              "       [ 1.    ,  5.1884],\n",
              "       [ 1.    ,  6.3557],\n",
              "       [ 1.    ,  9.7687],\n",
              "       [ 1.    ,  6.5159],\n",
              "       [ 1.    ,  8.5172],\n",
              "       [ 1.    ,  9.1802],\n",
              "       [ 1.    ,  6.002 ],\n",
              "       [ 1.    ,  5.5204],\n",
              "       [ 1.    ,  5.0594],\n",
              "       [ 1.    ,  5.7077],\n",
              "       [ 1.    ,  7.6366],\n",
              "       [ 1.    ,  5.8707],\n",
              "       [ 1.    ,  5.3054],\n",
              "       [ 1.    ,  8.2934],\n",
              "       [ 1.    , 13.394 ],\n",
              "       [ 1.    ,  5.4369]])"
            ]
          },
          "metadata": {},
          "execution_count": 52
        }
      ]
    },
    {
      "cell_type": "code",
      "source": [
        "print(y[:4])"
      ],
      "metadata": {
        "id": "rrGpiB3qh08P",
        "colab": {
          "base_uri": "https://localhost:8080/"
        },
        "collapsed": true,
        "outputId": "29e0d620-f94a-445b-b12b-dd95faf22f3c"
      },
      "execution_count": null,
      "outputs": [
        {
          "output_type": "stream",
          "name": "stdout",
          "text": [
            "[[17.592 ]\n",
            " [ 9.1302]\n",
            " [13.662 ]\n",
            " [11.854 ]]\n"
          ]
        }
      ]
    },
    {
      "cell_type": "markdown",
      "metadata": {
        "id": "iPMNftaesJmf"
      },
      "source": [
        "### Gradient Calculation\n",
        "* First Eqn is gradient of cost with respect to theta_0\n",
        "* Second Eqn is gradient of cost with respect to theata_1\n",
        "\n",
        "![](https://cdn.extras.talentsprint.com/aiml/Experiment_related_data/Images/Gradient_calculation.jpg)\n",
        "\n",
        "### Now implementing exactly these two Eqn in syntax:"
      ]
    },
    {
      "cell_type": "markdown",
      "metadata": {
        "id": "fsYeC9wVsJmh"
      },
      "source": [
        "### Assuming theta"
      ]
    },
    {
      "cell_type": "code",
      "execution_count": null,
      "metadata": {
        "id": "Xk-4-cb2sJmi",
        "colab": {
          "base_uri": "https://localhost:8080/"
        },
        "outputId": "9d3c88f3-3751-4a59-cbf6-e065a926975c",
        "collapsed": true
      },
      "outputs": [
        {
          "output_type": "stream",
          "name": "stdout",
          "text": [
            "theta :\n",
            " [[1.76405235]\n",
            " [0.40015721]] \n",
            "\n",
            "shape of theta :  (2, 1) \n",
            "\n",
            "shape of X (97, 2)\n"
          ]
        }
      ],
      "source": [
        "np.random.seed(0)\n",
        "theta = np.random.randn(2,1)  # first value=c, second value=m\n",
        "print('theta :\\n', theta,'\\n')\n",
        "print('shape of theta : ',theta.shape, '\\n')\n",
        "print('shape of X',X.shape)"
      ]
    },
    {
      "cell_type": "markdown",
      "metadata": {
        "id": "Fe_3_ndJsJmj"
      },
      "source": [
        "#### Calculating gradient with respect to theta_0"
      ]
    },
    {
      "cell_type": "code",
      "execution_count": null,
      "metadata": {
        "id": "lfRypJeNsJmk",
        "colab": {
          "base_uri": "https://localhost:8080/"
        },
        "outputId": "afb7909a-cefa-4ae0-ed36-442cca111655",
        "collapsed": true
      },
      "outputs": [
        {
          "output_type": "execute_result",
          "data": {
            "text/plain": [
              "-0.809879916743859"
            ]
          },
          "metadata": {},
          "execution_count": 14
        }
      ],
      "source": [
        "(1/m) * np.sum((X.dot(theta) - y))    ## Ypredicted : X.dot(theta) , here y= original y"
      ]
    },
    {
      "cell_type": "markdown",
      "metadata": {
        "id": "SKFj8eHssJml"
      },
      "source": [
        "#### Calculating gradient with respect to theta_1"
      ]
    },
    {
      "cell_type": "code",
      "execution_count": null,
      "metadata": {
        "id": "JkLK3-nQsJmm",
        "colab": {
          "base_uri": "https://localhost:8080/"
        },
        "outputId": "d31463d3-722a-4efb-c2d8-c23789505d09",
        "collapsed": true
      },
      "outputs": [
        {
          "output_type": "execute_result",
          "data": {
            "text/plain": [
              "-18.360160903168417"
            ]
          },
          "metadata": {},
          "execution_count": 15
        }
      ],
      "source": [
        "(1/m) * np.sum((X.dot(theta) - y) * x)"
      ]
    },
    {
      "cell_type": "code",
      "execution_count": null,
      "metadata": {
        "id": "80kwuX2UwGvn",
        "colab": {
          "base_uri": "https://localhost:8080/"
        },
        "collapsed": true,
        "outputId": "0be5a627-60ab-43af-b594-6da985021e20"
      },
      "outputs": [
        {
          "output_type": "execute_result",
          "data": {
            "text/plain": [
              "array([[-13.3829471 ],\n",
              "       [ -5.15419865],\n",
              "       [ -8.48916846],\n",
              "       [ -7.28756669],\n",
              "       [ -2.71440644],\n",
              "       [ -6.76746979],\n",
              "       [  0.4074877 ],\n",
              "       [ -6.8033591 ],\n",
              "       [ -2.23914797],\n",
              "       [ -0.02991303],\n",
              "       [  0.79703012],\n",
              "       [ -8.07312095],\n",
              "       [  0.90345378],\n",
              "       [ -2.09706578],\n",
              "       [  3.30503911],\n",
              "       [  0.40375803],\n",
              "       [ -0.99358696],\n",
              "       [  3.25612884],\n",
              "       [  0.68510313],\n",
              "       [ -0.79581607],\n",
              "       [  1.10206532],\n",
              "       [-11.89176104],\n",
              "       [ -0.30204456],\n",
              "       [ -0.89201314],\n",
              "       [  0.90838719],\n",
              "       [-13.29296934],\n",
              "       [ -6.60373099],\n",
              "       [ -0.89812512],\n",
              "       [ -7.65547628],\n",
              "       [-13.49825716],\n",
              "       [  5.08583807],\n",
              "       [ -1.59575175],\n",
              "       [ -6.66921376],\n",
              "       [  2.27219859],\n",
              "       [ -1.4928168 ],\n",
              "       [  0.37635954],\n",
              "       [  0.88728509],\n",
              "       [  0.6146537 ],\n",
              "       [ -3.21652973],\n",
              "       [ -1.19098885],\n",
              "       [  3.37109236],\n",
              "       [  0.60663433],\n",
              "       [  1.06369294],\n",
              "       [  1.63384002],\n",
              "       [ -1.83663755],\n",
              "       [  3.55610744],\n",
              "       [ -1.34077058],\n",
              "       [  2.24152437],\n",
              "       [ -1.55840832],\n",
              "       [  2.96366353],\n",
              "       [ -1.96908227],\n",
              "       [  2.04836676],\n",
              "       [  0.44627945],\n",
              "       [ -0.19161238],\n",
              "       [  2.87486792],\n",
              "       [  5.72971202],\n",
              "       [  1.7991187 ],\n",
              "       [ -0.58338105],\n",
              "       [  1.52719599],\n",
              "       [  0.13287853],\n",
              "       [  0.12619977],\n",
              "       [  4.57937658],\n",
              "       [ -7.65000242],\n",
              "       [ -4.32440399],\n",
              "       [ -7.70336714],\n",
              "       [ -0.23273289],\n",
              "       [ -0.66080359],\n",
              "       [ -1.91533847],\n",
              "       [  2.9473769 ],\n",
              "       [-11.08834988],\n",
              "       [ -0.85985419],\n",
              "       [  0.67310539],\n",
              "       [  2.88907657],\n",
              "       [  1.31444832],\n",
              "       [  6.45630262],\n",
              "       [  4.08746173],\n",
              "       [  0.89617748],\n",
              "       [ -1.92195587],\n",
              "       [ -0.8773325 ],\n",
              "       [  1.75033532],\n",
              "       [  3.57710302],\n",
              "       [  3.63601801],\n",
              "       [  3.62872152],\n",
              "       [ -1.87043193],\n",
              "       [ -0.9721633 ],\n",
              "       [  0.93077132],\n",
              "       [ -1.36052445],\n",
              "       [  3.23884591],\n",
              "       [  3.8210802 ],\n",
              "       [  0.96720773],\n",
              "       [  2.20292964],\n",
              "       [  0.52399288],\n",
              "       [ -3.08964473],\n",
              "       [  1.9001464 ],\n",
              "       [  4.93817614],\n",
              "       [ -1.93134201],\n",
              "       [  3.32261707]])"
            ]
          },
          "metadata": {},
          "execution_count": 16
        }
      ],
      "source": [
        "A = (X.dot(theta) - y)     ## Error e=(yp-yo)\n",
        "A ## (97,1)"
      ]
    },
    {
      "cell_type": "markdown",
      "metadata": {
        "id": "2TGxfTdGsJmm"
      },
      "source": [
        "### Combining both into one equation:\n",
        "* Here for simplicity only 3 rows of data (in both X and A matrix) have been shown, actually it has 'm' rows  containing all the data\n",
        "* X is feature matrix\n",
        "* **A** is the resulting matrix of error calculation i.e. result of eqn --> X.dot(theta)-Y    \n",
        "\n",
        "![](https://cdn.extras.talentsprint.com/aiml/Experiment_related_data/Images/both_grad_in_one.jpg)"
      ]
    },
    {
      "cell_type": "markdown",
      "metadata": {
        "id": "ucO-csecsJmo"
      },
      "source": [
        "### Note the two elements of the resulting matrix:\n",
        "* The first element is sum of each error, i.e. gradient with respect to theta_0, see the eqn above.\n",
        "* The second element is the sum of the element-wise product of each error and  x, i.e. gradient with respect to thrta_1.\n",
        "* Thus if we, multiply X transpose with A we can get both gradients in one shot, as given below:"
      ]
    },
    {
      "cell_type": "code",
      "execution_count": null,
      "metadata": {
        "id": "PQHNZ0M5sJmp",
        "colab": {
          "base_uri": "https://localhost:8080/"
        },
        "outputId": "8fb87e12-02f0-40bd-9263-955261beaebf",
        "collapsed": true
      },
      "outputs": [
        {
          "output_type": "execute_result",
          "data": {
            "text/plain": [
              "array([[ -0.80987992],\n",
              "       [-18.3601609 ]])"
            ]
          },
          "metadata": {},
          "execution_count": 17
        }
      ],
      "source": [
        "(1/m) * (X.T).dot(X.dot(theta) - y)"
      ]
    },
    {
      "cell_type": "markdown",
      "metadata": {
        "id": "JClaCReasJmt"
      },
      "source": [
        "### Applying Gradient Descent"
      ]
    },
    {
      "cell_type": "markdown",
      "metadata": {
        "id": "PAHDZ8QeJZ-z"
      },
      "source": [
        "\n",
        "### Initialization of theta"
      ]
    },
    {
      "cell_type": "code",
      "execution_count": null,
      "metadata": {
        "id": "HWF8zMwhy5Z4",
        "colab": {
          "base_uri": "https://localhost:8080/"
        },
        "outputId": "9c10b067-9a17-46be-8abf-666138353c58",
        "collapsed": true
      },
      "outputs": [
        {
          "output_type": "execute_result",
          "data": {
            "text/plain": [
              "array([[1.76405235],\n",
              "       [0.40015721]])"
            ]
          },
          "metadata": {},
          "execution_count": 18
        }
      ],
      "source": [
        "np.random.seed(0)\n",
        "theta = np.random.randn(2,1)  # first value=c, second value=m\n",
        "theta"
      ]
    },
    {
      "cell_type": "code",
      "execution_count": null,
      "metadata": {
        "id": "dxUnj9SvsJms"
      },
      "outputs": [],
      "source": [
        "a = 0.01      # Learning Rate"
      ]
    },
    {
      "cell_type": "markdown",
      "source": [
        "### Gradient calculation"
      ],
      "metadata": {
        "id": "WoU-mzID4CNY"
      }
    },
    {
      "cell_type": "code",
      "execution_count": null,
      "metadata": {
        "id": "kWIG1_CPymJO"
      },
      "outputs": [],
      "source": [
        "grad = (1/m) * (X.T).dot(X.dot(theta) - y)"
      ]
    },
    {
      "cell_type": "markdown",
      "metadata": {
        "id": "eJ6PI7PHsJmr"
      },
      "source": [
        "### Gradient Descent\n",
        "\n",
        "\n"
      ]
    },
    {
      "cell_type": "code",
      "execution_count": null,
      "metadata": {
        "id": "B118d9HBsJmt",
        "colab": {
          "base_uri": "https://localhost:8080/"
        },
        "outputId": "c3931f55-0359-4e67-ba6a-a1888abd2141",
        "collapsed": true
      },
      "outputs": [
        {
          "output_type": "execute_result",
          "data": {
            "text/plain": [
              "array([[1.77215115],\n",
              "       [0.58375882]])"
            ]
          },
          "metadata": {},
          "execution_count": 21
        }
      ],
      "source": [
        "theta = theta - a*grad\n",
        "theta"
      ]
    },
    {
      "cell_type": "markdown",
      "metadata": {
        "id": "UoTEd-dUzO9u"
      },
      "source": [
        "#### Complete implementation"
      ]
    },
    {
      "cell_type": "code",
      "execution_count": null,
      "metadata": {
        "id": "JqhpBwm1sJmu",
        "colab": {
          "base_uri": "https://localhost:8080/"
        },
        "outputId": "ca839c92-f803-4fb3-d71a-26222d75b29a",
        "collapsed": true
      },
      "outputs": [
        {
          "output_type": "stream",
          "name": "stdout",
          "text": [
            "[[1.76405235]\n",
            " [0.40015721]]\n",
            "[[-3.8957808 ]\n",
            " [ 1.19303364]]\n"
          ]
        }
      ],
      "source": [
        "## Theta initialization\n",
        "np.random.seed(0)\n",
        "theta = np.random.randn(2,1)  # first value=c, second value=m\n",
        "print(theta)\n",
        "n_iteration = 10000 ## number of iteration\n",
        "a = 0.01 # Learning rate\n",
        "for i_iter in range(n_iteration):\n",
        "  grad = (1/m) * (X.T).dot(X.dot(theta) - y) ##Gradient calculation\n",
        "  theta = theta - a*grad\n",
        "print(theta)         ## final updated theta after certain loop\n"
      ]
    },
    {
      "cell_type": "markdown",
      "metadata": {
        "id": "tTM2jKH-sJmw"
      },
      "source": [
        "### Cost Calculation\n",
        "\n",
        "![](https://cdn.extras.talentsprint.com/aiml/Experiment_related_data/Images/cost_cal.jpg)\n",
        "\n"
      ]
    },
    {
      "cell_type": "code",
      "execution_count": null,
      "metadata": {
        "id": "Z9MzmUELsJmy",
        "colab": {
          "base_uri": "https://localhost:8080/"
        },
        "outputId": "a9b84ccb-5443-410d-a62a-ebe43eadd5cf",
        "collapsed": true
      },
      "outputs": [
        {
          "output_type": "execute_result",
          "data": {
            "text/plain": [
              "4.476971375975179"
            ]
          },
          "metadata": {},
          "execution_count": 23
        }
      ],
      "source": [
        "c = (1/(2*m)) * np.sum((np.square(X.dot(theta) - y)))\n",
        "c"
      ]
    },
    {
      "cell_type": "markdown",
      "metadata": {
        "id": "chFnsrkqsJm0"
      },
      "source": [
        "### Including cost calculation for each iteration inside loop i.e. calculating cost for each updated theta:"
      ]
    },
    {
      "cell_type": "code",
      "execution_count": null,
      "metadata": {
        "id": "fYeR3-E503aG",
        "colab": {
          "base_uri": "https://localhost:8080/"
        },
        "outputId": "f0ebe3c1-bc83-4c86-fa65-5b8e16d014db",
        "collapsed": true
      },
      "outputs": [
        {
          "output_type": "stream",
          "name": "stdout",
          "text": [
            "[[1.76405235]\n",
            " [0.40015721]]\n",
            "[[-3.89508925]\n",
            " [ 1.19296416]]\n",
            "49999\n"
          ]
        }
      ],
      "source": [
        "## Theta initialization\n",
        "np.random.seed(0)\n",
        "theta = np.random.randn(2,1)  # first value=c, second value=m\n",
        "print(theta)\n",
        "#c = np.zeros((m,1)) # zero matrix initialization for storing cost values\n",
        "n_iteration = 50000 ## number of iterations\n",
        "c = np.zeros((n_iteration,1))\n",
        "a = 0.001   ## Learning rate\n",
        "for i_iter in range(n_iteration):\n",
        "  grad = (1/m) * (X.T).dot(X.dot(theta) - y) ##Gradient calculation\n",
        "  theta = theta - a*grad\n",
        "  c[i_iter,0] = (1/(2*m)) * np.sum((np.square(X.dot(theta) - y)))\n",
        "\n",
        "print(theta) ## final updated theta after certain loop\n",
        "print(i_iter)\n"
      ]
    },
    {
      "cell_type": "code",
      "execution_count": null,
      "metadata": {
        "id": "uIkPEIEl2DPY",
        "colab": {
          "base_uri": "https://localhost:8080/"
        },
        "outputId": "f201e251-e399-42f2-e239-91d7edf3c79d",
        "collapsed": true
      },
      "outputs": [
        {
          "output_type": "execute_result",
          "data": {
            "text/plain": [
              "8.866839075125593"
            ]
          },
          "metadata": {},
          "execution_count": 25
        }
      ],
      "source": [
        "c[1,0]"
      ]
    },
    {
      "cell_type": "code",
      "execution_count": null,
      "metadata": {
        "id": "5zmfjZnb3LN5",
        "colab": {
          "base_uri": "https://localhost:8080/"
        },
        "outputId": "3cffe9f6-724b-4c2b-8d2b-f82d5b368ffb",
        "collapsed": true
      },
      "outputs": [
        {
          "output_type": "stream",
          "name": "stdout",
          "text": [
            "[[9.13983891]\n",
            " [8.86683908]\n",
            " [8.63672102]\n",
            " ...\n",
            " [4.47697142]\n",
            " [4.47697142]\n",
            " [4.47697142]]\n"
          ]
        }
      ],
      "source": [
        "print(c)"
      ]
    },
    {
      "cell_type": "code",
      "execution_count": null,
      "metadata": {
        "id": "lbS5WDV9sJm3",
        "colab": {
          "base_uri": "https://localhost:8080/",
          "height": 448
        },
        "outputId": "b89dfa65-9309-4964-9cd0-e63953830d41",
        "collapsed": true
      },
      "outputs": [
        {
          "output_type": "execute_result",
          "data": {
            "text/plain": [
              "[<matplotlib.lines.Line2D at 0x7fb3c0aad3c0>]"
            ]
          },
          "metadata": {},
          "execution_count": 27
        },
        {
          "output_type": "display_data",
          "data": {
            "text/plain": [
              "<Figure size 640x480 with 1 Axes>"
            ],
            "image/png": "[encoded data removed]"
          },
          "metadata": {}
        }
      ],
      "source": [
        "## Plotting  cost funtion. Cost must decrease in each step if our code is implemented correctly.\n",
        "plt.plot(c)"
      ]
    },
    {
      "cell_type": "code",
      "execution_count": null,
      "metadata": {
        "id": "DMUyv1bssJm4",
        "colab": {
          "base_uri": "https://localhost:8080/"
        },
        "outputId": "9b0b072f-8b71-4a4c-8f0e-f28133a4ebca",
        "collapsed": true
      },
      "outputs": [
        {
          "output_type": "execute_result",
          "data": {
            "text/plain": [
              "array([[-3.89508925],\n",
              "       [ 1.19296416]])"
            ]
          },
          "metadata": {},
          "execution_count": 28
        }
      ],
      "source": [
        "theta # y= 1.09893556 x -2.95911664"
      ]
    },
    {
      "cell_type": "code",
      "execution_count": null,
      "metadata": {
        "id": "o9XbMiYlsJm4",
        "colab": {
          "base_uri": "https://localhost:8080/"
        },
        "collapsed": true,
        "outputId": "54a27b0d-c1fe-40ed-d6d7-bf9272c19a30"
      },
      "outputs": [
        {
          "output_type": "execute_result",
          "data": {
            "text/plain": [
              "array([[ 3.39404108],\n",
              "       [ 2.69925875],\n",
              "       [ 6.26729527],\n",
              "       [ 4.45947737],\n",
              "       [ 3.09544215],\n",
              "       [ 6.10541003],\n",
              "       [ 5.02398802],\n",
              "       [ 6.33827663],\n",
              "       [ 3.8427149 ],\n",
              "       [ 2.13486741],\n",
              "       [ 2.91757119],\n",
              "       [13.00205515],\n",
              "       [ 2.94536726],\n",
              "       [ 6.13583061],\n",
              "       [ 2.8340637 ],\n",
              "       [ 2.52234217],\n",
              "       [ 3.69860483],\n",
              "       [ 2.2249362 ],\n",
              "       [ 3.77519313],\n",
              "       [ 4.54012175],\n",
              "       [ 3.48828525],\n",
              "       [20.28629433],\n",
              "       [ 2.6544033 ],\n",
              "       [ 3.65172134],\n",
              "       [ 2.74363702],\n",
              "       [18.70561681],\n",
              "       [11.40825503],\n",
              "       [ 9.17621908],\n",
              "       [11.82340656],\n",
              "       [22.59229405],\n",
              "       [ 2.37083572],\n",
              "       [ 3.9658288 ],\n",
              "       [ 7.13768192],\n",
              "       [ 3.133617  ],\n",
              "       [ 5.90045879],\n",
              "       [ 5.56917264],\n",
              "       [ 5.76302931],\n",
              "       [ 2.79302573],\n",
              "       [11.41779874],\n",
              "       [ 3.68428926],\n",
              "       [ 2.55514868],\n",
              "       [ 4.3154866 ],\n",
              "       [10.07213517],\n",
              "       [ 2.99272794],\n",
              "       [ 5.43949743],\n",
              "       [ 4.56672485],\n",
              "       [ 2.15347765],\n",
              "       [ 3.02577304],\n",
              "       [10.06259145],\n",
              "       [ 2.71584095],\n",
              "       [ 5.10009913],\n",
              "       [ 2.43680664],\n",
              "       [ 4.9613574 ],\n",
              "       [ 5.17513657],\n",
              "       [ 3.6597142 ],\n",
              "       [ 3.69085056],\n",
              "       [ 3.5898065 ],\n",
              "       [ 2.83287074],\n",
              "       [ 7.2116457 ],\n",
              "       [ 7.38271676],\n",
              "       [ 6.63329667],\n",
              "       [ 2.28363004],\n",
              "       [21.48999517],\n",
              "       [13.88962049],\n",
              "       [18.72231831],\n",
              "       [ 4.71596467],\n",
              "       [ 6.00066778],\n",
              "       [ 8.31609192],\n",
              "       [ 2.66549787],\n",
              "       [20.37099478],\n",
              "       [ 8.1967955 ],\n",
              "       [ 4.8547064 ],\n",
              "       [ 3.2700921 ],\n",
              "       [ 4.72515049],\n",
              "       [ 2.1018223 ],\n",
              "       [ 3.91632079],\n",
              "       [ 5.09819039],\n",
              "       [ 2.11327475],\n",
              "       [ 8.36142456],\n",
              "       [ 2.1982138 ],\n",
              "       [ 2.93964103],\n",
              "       [ 2.29448601],\n",
              "       [ 3.68703308],\n",
              "       [ 7.75861977],\n",
              "       [ 3.87814594],\n",
              "       [ 6.26562512],\n",
              "       [ 7.05656036],\n",
              "       [ 3.26508165],\n",
              "       [ 2.69055011],\n",
              "       [ 2.14059363],\n",
              "       [ 2.9139923 ],\n",
              "       [ 5.21510087],\n",
              "       [ 3.10844546],\n",
              "       [ 2.43406282],\n",
              "       [ 5.99863974],\n",
              "       [12.08347274],\n",
              "       [ 2.59093761]])"
            ]
          },
          "metadata": {},
          "execution_count": 29
        }
      ],
      "source": [
        "yp = X.dot(theta)  # This is predicted y for each x\n",
        "yp"
      ]
    },
    {
      "cell_type": "code",
      "execution_count": null,
      "metadata": {
        "id": "U2H_h2AosJm5",
        "scrolled": true,
        "colab": {
          "base_uri": "https://localhost:8080/",
          "height": 448
        },
        "outputId": "9edab16c-4a3f-4818-fa12-d70856f10bda",
        "collapsed": true
      },
      "outputs": [
        {
          "output_type": "execute_result",
          "data": {
            "text/plain": [
              "[<matplotlib.lines.Line2D at 0x7fb390ca7040>]"
            ]
          },
          "metadata": {},
          "execution_count": 30
        },
        {
          "output_type": "display_data",
          "data": {
            "text/plain": [
              "<Figure size 640x480 with 1 Axes>"
            ],
            "image/png": "[encoded data removed]"
          },
          "metadata": {}
        }
      ],
      "source": [
        "plt.scatter(data.Population, data.Profit) ## Original data\n",
        "plt.plot(x,yp,'ro') ##  x versus predicted y in red color"
      ]
    },
    {
      "cell_type": "code",
      "source": [
        "plt.scatter(data.Population, data.Profit) ## Original data\n",
        "plt.plot(x,yp,'r-')"
      ],
      "metadata": {
        "id": "mr6lYt1wk_JH",
        "outputId": "4b2b7265-3537-4fde-da5e-37b9d4d8f793",
        "colab": {
          "base_uri": "https://localhost:8080/",
          "height": 448
        },
        "collapsed": true
      },
      "execution_count": null,
      "outputs": [
        {
          "output_type": "execute_result",
          "data": {
            "text/plain": [
              "[<matplotlib.lines.Line2D at 0x7fb390b41570>]"
            ]
          },
          "metadata": {},
          "execution_count": 31
        },
        {
          "output_type": "display_data",
          "data": {
            "text/plain": [
              "<Figure size 640x480 with 1 Axes>"
            ],
            "image/png": "[encoded data removed]"
          },
          "metadata": {}
        }
      ]
    },
    {
      "cell_type": "markdown",
      "metadata": {
        "id": "i4owrvXGiH5j"
      },
      "source": [
        "### Prediction for any new instance"
      ]
    },
    {
      "cell_type": "code",
      "execution_count": null,
      "metadata": {
        "id": "2tZY950UsJm6"
      },
      "outputs": [],
      "source": [
        "## Making function for prediction\n",
        "def predict(x):\n",
        "    theta = np.array([[-3.89578081], [ 1.19303364]])\n",
        "    X1 = np.array([[1,x]])\n",
        "    yp = X1.dot(theta)\n",
        "    return yp[0,0]"
      ]
    },
    {
      "cell_type": "code",
      "execution_count": null,
      "metadata": {
        "id": "IF47qzxLsJm7",
        "colab": {
          "base_uri": "https://localhost:8080/"
        },
        "collapsed": true,
        "outputId": "f7730b26-74ab-476f-9773-e1f49abd0dee"
      },
      "outputs": [
        {
          "output_type": "execute_result",
          "data": {
            "text/plain": [
              "19.964891989999995"
            ]
          },
          "metadata": {},
          "execution_count": 33
        }
      ],
      "source": [
        "predict(20)"
      ]
    },
    {
      "cell_type": "markdown",
      "metadata": {
        "id": "D_TFU9y96nDz"
      },
      "source": [
        "### **Self Learning:**  Implementation of Stochastic Gradient Descent Algorithm"
      ]
    },
    {
      "cell_type": "code",
      "execution_count": null,
      "metadata": {
        "id": "2K-EgXCd6nD0",
        "colab": {
          "base_uri": "https://localhost:8080/"
        },
        "collapsed": true,
        "outputId": "9cc4bd82-e2d1-48cd-fd79-001c2d53a94f"
      },
      "outputs": [
        {
          "output_type": "stream",
          "name": "stdout",
          "text": [
            "(97, 1) [6.1101]\n",
            "(97, 2) [1.     6.1101]\n",
            "(97, 1) [17.592]\n"
          ]
        }
      ],
      "source": [
        "# Displaying shape of feature, target, and  first value of each array to feed into SGD\n",
        "print(x.shape, x[0])\n",
        "print(X.shape, X[0])\n",
        "print(y.shape,y[0])"
      ]
    },
    {
      "cell_type": "code",
      "execution_count": null,
      "metadata": {
        "id": "xKj1VcnS6nD2",
        "colab": {
          "base_uri": "https://localhost:8080/"
        },
        "collapsed": true,
        "outputId": "5bde25f9-ca70-4b02-85b2-841433021cc1"
      },
      "outputs": [
        {
          "output_type": "stream",
          "name": "stdout",
          "text": [
            "[[-3.41367752]\n",
            " [ 1.17266871]]\n"
          ]
        }
      ],
      "source": [
        "n_epoch = 50\n",
        "t0, t1 = 5, 500 ## learning schedule hyperparameter\n",
        "\n",
        "def learning_schedule(t):\n",
        "    return t0/(t+t1)\n",
        "\n",
        "theta = np.random.randn(2,1)\n",
        "m = len(x)\n",
        "cost = []\n",
        "\n",
        "for epoch in range(n_epoch):\n",
        "    for i in range(m): # In every epoch, the weights are updated exactly m (the number of samples in the data set) numbers of times.\n",
        "        random_index = np.random.randint(m)\n",
        "        Xi = X[random_index:random_index+1]  # A single sample is picked randomly, and weights are updated for each sample at a time.\n",
        "        Yi = y[random_index:random_index+1]\n",
        "        grad = Xi.T.dot((Xi.dot(theta)-Yi))  # Gradient calculation\n",
        "        alpha = learning_schedule(epoch*m+i) # Learning rate is updated according to the learning_schedule function.\n",
        "        theta = theta-alpha*grad             # Update of weights\n",
        "    cost.append((1/(2*m))*np.sum(np.square((X.dot(theta)-y)))) # Tracking of cost for each epoch\n",
        "\n",
        "print(theta)"
      ]
    },
    {
      "cell_type": "code",
      "execution_count": null,
      "metadata": {
        "id": "aXRe4yw-6nD4",
        "colab": {
          "base_uri": "https://localhost:8080/"
        },
        "collapsed": true,
        "outputId": "f6d1b3d8-774d-484d-feee-b5e716605f2c"
      },
      "outputs": [
        {
          "output_type": "execute_result",
          "data": {
            "text/plain": [
              "[<matplotlib.lines.Line2D at 0x7da48da93dc0>]"
            ]
          },
          "metadata": {},
          "execution_count": 77
        },
        {
          "output_type": "display_data",
          "data": {
            "text/plain": [
              "<Figure size 640x480 with 1 Axes>"
            ],
            "image/png": "[encoded data removed]"
          },
          "metadata": {}
        }
      ],
      "source": [
        "# Displaying Cost vs Epoch\n",
        "plt.plot(cost)"
      ]
    },
    {
      "cell_type": "markdown",
      "source": [
        "**Comparison of Gradient Descent Variants**\n",
        "\n",
        "![img](https://cdn.iisc.talentsprint.com/CDS/Images/Gradient_descent_variants_comparison.JPG)\n",
        "\n",
        "To know more about gradient descent variants, click [here](https://hackernoon.com/demystifying-different-variants-of-gradient-descent-optimization-algorithm-19ae9ba2e9bc)."
      ],
      "metadata": {
        "id": "8Dv7ISE4vEpL"
      }
    }
  ],
  "metadata": {
    "colab": {
      "provenance": [],
      "include_colab_link": true
    },
    "kernelspec": {
      "display_name": "Python 3 (ipykernel)",
      "language": "python",
      "name": "python3"
    },
    "language_info": {
      "codemirror_mode": {
        "name": "ipython",
        "version": 3
      },
      "file_extension": ".py",
      "mimetype": "text/x-python",
      "name": "python",
      "nbconvert_exporter": "python",
      "pygments_lexer": "ipython3",
      "version": "3.10.4"
    }
  },
  "nbformat": 4,
  "nbformat_minor": 0
}