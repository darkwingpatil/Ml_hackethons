{
  "nbformat": 4,
  "nbformat_minor": 0,
  "metadata": {
    "colab": {
      "provenance": [],
      "include_colab_link": true
    },
    "kernelspec": {
      "name": "python3",
      "display_name": "Python 3"
    }
  },
  "cells": [
    {
      "cell_type": "markdown",
      "metadata": {
        "id": "view-in-github",
        "colab_type": "text"
      },
      "source": [
        "<a href=\"https://colab.research.google.com/github/darkwingpatil/Ml_hackethons/blob/main/U2W7_26_Kmeans_Clustering_C.ipynb\" target=\"_parent\"><img src=\"https://colab.research.google.com/assets/colab-badge.svg\" alt=\"Open In Colab\"/></a>"
      ]
    },
    {
      "cell_type": "markdown",
      "metadata": {
        "id": "SZIubkln0AI2"
      },
      "source": [
        "# Advanced Certification in AIML\n",
        "## A Program by IIIT-H and TalentSprint"
      ]
    },
    {
      "cell_type": "markdown",
      "metadata": {
        "id": "gIOQSqbiXt-6"
      },
      "source": [
        "## Learning Objective"
      ]
    },
    {
      "cell_type": "markdown",
      "metadata": {
        "id": "8GYCaU8-XwOv"
      },
      "source": [
        "At the end of the experiment, you will be able to:\n",
        "\n",
        "*  understand clustering\n",
        "*  find groups or clusters using K-means algorithm"
      ]
    },
    {
      "cell_type": "code",
      "metadata": {
        "id": "M6TJ4IDPacSU",
        "cellView": "form"
      },
      "source": [
        "#@title Experiment Walkthrough Video\n",
        "from IPython.display import HTML\n",
        "\n",
        "HTML(\"\"\"<video width=\"854\" height=\"480\" controls>\n",
        "  <source src=\"https://cdn.talentsprint.com/aiml/AIML_BATCH_HYD_7/3March/kmeans.mp4\" type=\"video/mp4\">\n",
        "</video>\n",
        "\"\"\")"
      ],
      "execution_count": null,
      "outputs": []
    },
    {
      "cell_type": "markdown",
      "metadata": {
        "id": "012vyiaJX1Bm"
      },
      "source": [
        "## Dataset"
      ]
    },
    {
      "cell_type": "markdown",
      "metadata": {
        "id": "ekAVx85DX6RE"
      },
      "source": [
        "### Description\n",
        "\n",
        "The dataset choosen for this experiment is a hand-made dataset. We have generated the data programmatically by following Random / Gaussian distribution. The dataset includes 3000 instances where each instance is made up of 2 features."
      ]
    },
    {
      "cell_type": "markdown",
      "metadata": {
        "id": "4dYsr3gRYH1p"
      },
      "source": [
        "## AIML Technique"
      ]
    },
    {
      "cell_type": "markdown",
      "metadata": {
        "id": "RLj9n6-bYK2s"
      },
      "source": [
        "### Clustering\n",
        "\n",
        "Given an unfamiliar dataset, a clustering algorithm helps to discover groups of objects where the average distances between the members of each cluster are closer than to members in other clusters.\n",
        "\n",
        "Clustering is used to find structure in unlabeled data. It’s the most common form of unsupervised learning.\n",
        "\n",
        "Several Algorithms have been proposed for clustering. However, when compared to other clustering algorithms the K-means algorithm is more effective. This is because K-means allows us to pre-cluster the database which in turn produces good results.\n",
        "\n",
        "Additionally, K-means clustering is the simplest to implement and to run. All we need to do is choose the number of clusters(K) and run it number of times.\n",
        "\n",
        "We use K-means algorithm for clustering in this experiment."
      ]
    },
    {
      "cell_type": "markdown",
      "metadata": {
        "id": "AJdtyDHWYNeV"
      },
      "source": [
        "### K-means Algorithm\n",
        "\n",
        "K-means clustering is the process of partitioning a set of data objects into subsets. Each subset is a cluster such that the similarity within the cluster is greater and the similarity between the other clusters is less.\n",
        "\n",
        "K-means algorithm iteratively performs the following steps:\n",
        "\n",
        "1. Determine the value “K”, the value “K” represents the number of clusters.\n",
        "2. Select \"K\" points at random as cluster centers.\n",
        "3. Assign data points to their closest cluster center according to the Euclidean distance function.\n",
        "4. Calculate the centroid or mean of all the data points in each cluster.\n",
        "5. Repeat steps 3 and 4 until the same points are assigned to each cluster and compute till convergence.\n"
      ]
    },
    {
      "cell_type": "markdown",
      "metadata": {
        "id": "qUmaxUW-rpxU"
      },
      "source": [
        "### Setup Steps:"
      ]
    },
    {
      "cell_type": "code",
      "metadata": {
        "id": "XcrXxhfmrpxg"
      },
      "source": [
        "#@title Please enter your registration id to start: { run: \"auto\", display-mode: \"form\" }\n",
        "Id = \"\" #@param {type:\"string\"}"
      ],
      "execution_count": null,
      "outputs": []
    },
    {
      "cell_type": "code",
      "metadata": {
        "id": "iDAfm706rpxg"
      },
      "source": [
        "#@title Please enter your password (normally your phone number) to continue: { run: \"auto\", display-mode: \"form\" }\n",
        "password = \"\" #@param {type:\"string\"}"
      ],
      "execution_count": null,
      "outputs": []
    },
    {
      "cell_type": "code",
      "metadata": {
        "cellView": "form",
        "id": "KvdKENTWrpxh"
      },
      "source": [
        "#@title Run this cell to complete the setup for this Notebook\n",
        "from IPython import get_ipython\n",
        "import re\n",
        "ipython = get_ipython()\n",
        "\n",
        "notebook= \"U2W7_26_Kmeans_Clustering_C\" #name of the notebook\n",
        "\n",
        "def setup():\n",
        "#  ipython.magic(\"sx pip3 install torch\")\n",
        "    from IPython.display import HTML, display\n",
        "    ipython.magic(\"sx wget https://cdn.iiith.talentsprint.com/aiml/Experiment_related_data/DS_CLARA_STD.csv\")\n",
        "    display(HTML('<script src=\"https://dashboard.talentsprint.com/aiml/record_ip.html?traineeId={0}&recordId={1}\"></script>'.format(getId(),submission_id)))\n",
        "    print(\"Setup completed successfully\")\n",
        "    return\n",
        "\n",
        "def submit_notebook():\n",
        "    ipython.magic(\"notebook -e \"+ notebook + \".ipynb\")\n",
        "\n",
        "    import requests, json, base64, datetime\n",
        "\n",
        "    url = \"https://dashboard.talentsprint.com/xp/app/save_notebook_attempts\"\n",
        "    if not submission_id:\n",
        "      data = {\"id\" : getId(), \"notebook\" : notebook, \"mobile\" : getPassword()}\n",
        "      r = requests.post(url, data = data)\n",
        "      r = json.loads(r.text)\n",
        "\n",
        "      if r[\"status\"] == \"Success\":\n",
        "          return r[\"record_id\"]\n",
        "      elif \"err\" in r:\n",
        "        print(r[\"err\"])\n",
        "        return None\n",
        "      else:\n",
        "        print (\"Something is wrong, the notebook will not be submitted for grading\")\n",
        "        return None\n",
        "\n",
        "    elif getAnswer() and getComplexity() and getAdditional() and getConcepts() and getWalkthrough() and getComments() and getMentorSupport():\n",
        "      f = open(notebook + \".ipynb\", \"rb\")\n",
        "      file_hash = base64.b64encode(f.read())\n",
        "\n",
        "      data = {\"complexity\" : Complexity, \"additional\" :Additional,\n",
        "              \"concepts\" : Concepts, \"record_id\" : submission_id,\n",
        "              \"answer\" : Answer, \"id\" : Id, \"file_hash\" : file_hash,\n",
        "              \"notebook\" : notebook, \"feedback_walkthrough\":Walkthrough ,\n",
        "              \"feedback_experiments_input\" : Comments,\n",
        "              \"feedback_inclass_mentor\": Mentor_support}\n",
        "\n",
        "      r = requests.post(url, data = data)\n",
        "      r = json.loads(r.text)\n",
        "      if \"err\" in r:\n",
        "        print(r[\"err\"])\n",
        "        return None\n",
        "      else:\n",
        "        print(\"Your submission is successful.\")\n",
        "        print(\"Ref Id:\", submission_id)\n",
        "        print(\"Date of submission: \", r[\"date\"])\n",
        "        print(\"Time of submission: \", r[\"time\"])\n",
        "        print(\"View your submissions: https://aiml-iiith.talentsprint.com/notebook_submissions\")\n",
        "        #print(\"For any queries/discrepancies, please connect with mentors through the chat icon in LMS dashboard.\")\n",
        "        return submission_id\n",
        "    else: submission_id\n",
        "\n",
        "\n",
        "def getAdditional():\n",
        "  try:\n",
        "    if not Additional:\n",
        "      raise NameError\n",
        "    else:\n",
        "      return Additional\n",
        "  except NameError:\n",
        "    print (\"Please answer Additional Question\")\n",
        "    return None\n",
        "\n",
        "def getComplexity():\n",
        "  try:\n",
        "    if not Complexity:\n",
        "      raise NameError\n",
        "    else:\n",
        "      return Complexity\n",
        "  except NameError:\n",
        "    print (\"Please answer Complexity Question\")\n",
        "    return None\n",
        "\n",
        "def getConcepts():\n",
        "  try:\n",
        "    if not Concepts:\n",
        "      raise NameError\n",
        "    else:\n",
        "      return Concepts\n",
        "  except NameError:\n",
        "    print (\"Please answer Concepts Question\")\n",
        "    return None\n",
        "\n",
        "\n",
        "def getWalkthrough():\n",
        "  try:\n",
        "    if not Walkthrough:\n",
        "      raise NameError\n",
        "    else:\n",
        "      return Walkthrough\n",
        "  except NameError:\n",
        "    print (\"Please answer Walkthrough Question\")\n",
        "    return None\n",
        "\n",
        "def getComments():\n",
        "  try:\n",
        "    if not Comments:\n",
        "      raise NameError\n",
        "    else:\n",
        "      return Comments\n",
        "  except NameError:\n",
        "    print (\"Please answer Comments Question\")\n",
        "    return None\n",
        "\n",
        "\n",
        "def getMentorSupport():\n",
        "  try:\n",
        "    if not Mentor_support:\n",
        "      raise NameError\n",
        "    else:\n",
        "      return Mentor_support\n",
        "  except NameError:\n",
        "    print (\"Please answer Mentor support Question\")\n",
        "    return None\n",
        "\n",
        "def getAnswer():\n",
        "  try:\n",
        "    if not Answer:\n",
        "      raise NameError\n",
        "    else:\n",
        "      return Answer\n",
        "  except NameError:\n",
        "    print (\"Please answer Question\")\n",
        "    return None\n",
        "\n",
        "\n",
        "def getId():\n",
        "  try:\n",
        "    return Id if Id else None\n",
        "  except NameError:\n",
        "    return None\n",
        "\n",
        "def getPassword():\n",
        "  try:\n",
        "    return password if password else None\n",
        "  except NameError:\n",
        "    return None\n",
        "\n",
        "submission_id = None\n",
        "### Setup\n",
        "if getPassword() and getId():\n",
        "  submission_id = submit_notebook()\n",
        "  if submission_id:\n",
        "    setup()\n",
        "else:\n",
        "  print (\"Please complete Id and Password cells before running setup\")\n",
        "\n"
      ],
      "execution_count": null,
      "outputs": []
    },
    {
      "cell_type": "markdown",
      "metadata": {
        "id": "01t2rPzm0AI9"
      },
      "source": [
        "Let us learn the kmeans algorithm step by step."
      ]
    },
    {
      "cell_type": "markdown",
      "metadata": {
        "id": "DCSwyyns0AI_"
      },
      "source": [
        "## Importing required packages"
      ]
    },
    {
      "cell_type": "code",
      "metadata": {
        "id": "qLyEX9tU0AJA"
      },
      "source": [
        "import numpy as np\n",
        "import matplotlib.pyplot as plt\n",
        "import pandas as pd\n",
        "import time\n",
        "from copy import deepcopy\n",
        "import warnings\n",
        "warnings.filterwarnings(\"ignore\")"
      ],
      "execution_count": null,
      "outputs": []
    },
    {
      "cell_type": "markdown",
      "metadata": {
        "id": "6yKlpe7yfOpZ"
      },
      "source": [
        "## Load the dataset"
      ]
    },
    {
      "cell_type": "code",
      "metadata": {
        "id": "JJPn-GjS0AJF"
      },
      "source": [
        "# Setting up the file. The data below is a simple Gaussian distribution of data.\n",
        "dataset = \"DS_CLARA_STD.csv\""
      ],
      "execution_count": null,
      "outputs": []
    },
    {
      "cell_type": "code",
      "metadata": {
        "id": "l9ITZMy0IFa7"
      },
      "source": [
        "# Load the data\n",
        "data = pd.read_csv(dataset)\n",
        "print(data.head())"
      ],
      "execution_count": null,
      "outputs": []
    },
    {
      "cell_type": "markdown",
      "metadata": {
        "id": "le1F_xQm0AJM"
      },
      "source": [
        "## Get the data values"
      ]
    },
    {
      "cell_type": "code",
      "metadata": {
        "id": "LXw5qStf0AJO"
      },
      "source": [
        "# Storing the values in seperate variables\n",
        "f1 = data['V1'].values\n",
        "f2 = data['V2'].values\n",
        "\n",
        "# Combining f1 and f2 into a single array\n",
        "X = np.array(list(zip(f1, f2)))\n",
        "X.shape"
      ],
      "execution_count": null,
      "outputs": []
    },
    {
      "cell_type": "markdown",
      "metadata": {
        "id": "bsDXCVjwgowt"
      },
      "source": [
        "## Visualize the data values"
      ]
    },
    {
      "cell_type": "code",
      "metadata": {
        "id": "S08BPZBjgn78"
      },
      "source": [
        "plt.scatter(f1, f2, c='red', s=7)\n",
        "plt.show()"
      ],
      "execution_count": null,
      "outputs": []
    },
    {
      "cell_type": "markdown",
      "metadata": {
        "id": "tIOK94Mk0AJa"
      },
      "source": [
        "## Lets intialize three cluster centers randomly to start with the k-means algorithm\n",
        "\n",
        "Note: Refer to [np.random.randint](https://numpy.org/doc/stable/reference/random/generated/numpy.random.randint.html)"
      ]
    },
    {
      "cell_type": "code",
      "metadata": {
        "id": "-t8tH1US0AJb"
      },
      "source": [
        "# Number of clusters\n",
        "k = 3\n",
        "\n",
        "# X coordinates of random centroids\n",
        "x = np.random.randint(0, np.max(X)-20, size=k)\n",
        "\n",
        "# Y coordinates of random centroids\n",
        "y = np.random.randint(0, np.max(X)-20, size=k)\n",
        "C = np.array(list(zip(x, y)), dtype=np.float32)\n",
        "print(C)"
      ],
      "execution_count": null,
      "outputs": []
    },
    {
      "cell_type": "markdown",
      "metadata": {
        "id": "tW80HmVJ0AJg"
      },
      "source": [
        "## Lets visualize the data when the algorithm gets intialized along with the Centroids"
      ]
    },
    {
      "cell_type": "code",
      "metadata": {
        "id": "Ov-_Ia0K0AJi"
      },
      "source": [
        "# Plotting along with the Centroids\n",
        "plt.scatter(f1, f2, c='#050505', s=7)\n",
        "plt.scatter(x, y, marker='*', s=200, c='Blue')\n",
        "plt.show()"
      ],
      "execution_count": null,
      "outputs": []
    },
    {
      "cell_type": "markdown",
      "metadata": {
        "id": "du9I3yb_0AJo"
      },
      "source": [
        "## Apply  K-means algorithm\n",
        "\n",
        "Now lets learn from above together and see how exactly k-means algorithm works.\n",
        "\n"
      ]
    },
    {
      "cell_type": "markdown",
      "metadata": {
        "id": "J8tjKi670AJV"
      },
      "source": [
        "Now lets write a function to calculate Euclidean Distance between two array of points 'a' and 'b' or centroids\n",
        "\n",
        "**Note:** Refer to the following link to understand how [linalg.norm](https://numpy.org/doc/stable/reference/generated/numpy.linalg.norm.html) works"
      ]
    },
    {
      "cell_type": "code",
      "metadata": {
        "id": "WFk7hINN0AJW"
      },
      "source": [
        "def dist(a, b, ax=1):\n",
        "    return np.linalg.norm(a - b, axis=ax)"
      ],
      "execution_count": null,
      "outputs": []
    },
    {
      "cell_type": "code",
      "source": [
        "C_old = np.zeros(C.shape)\n",
        "\n",
        "# Initialize clusters of x[i] with zeros\n",
        "clusters = np.zeros(len(X))\n",
        "\n",
        "# Error func - Distance between new centroids and old centroids\n",
        "error = dist(C, C_old, None)"
      ],
      "metadata": {
        "id": "_XW_6De05y4R"
      },
      "execution_count": null,
      "outputs": []
    },
    {
      "cell_type": "code",
      "metadata": {
        "id": "aXY-Mbv90AJp"
      },
      "source": [
        "# To store the value of centroids. Initialize with zero\n",
        "C_old = np.zeros(C.shape)\n",
        "\n",
        "# Initialize clusters of x[i] with zeros\n",
        "clusters = np.zeros(len(X))\n",
        "\n",
        "# Error func - Distance between new centroids and old centroids\n",
        "error = dist(C, C_old, None)\n",
        "\n",
        "# Loop will run till the error becomes zero\n",
        "fig = plt.figure(figsize=(5, 5))\n",
        "ax = fig.add_subplot(111)\n",
        "plt.ion()       # Plot keeps getting updated in loop, So turning on plot in interactive mode\n",
        "while error >= 0.1:\n",
        "\n",
        "    colors = ['r', 'g', 'b', 'y', 'c', 'm']\n",
        "\n",
        "    # Assigning each sample/data point to its closest cluster\n",
        "    for i in range(len(X)):\n",
        "        distances = dist(X[i], C) # Compute the distance between data points and 3 centroids\n",
        "        cluster = np.argmin(distances)  # The centroid with the least distance is found here out of all the distances found above\n",
        "        clusters[i] = cluster    # The cluster center found above is now the new cluster assignment for the point X[i]\n",
        "\n",
        "    # Storing the old centroid values\n",
        "    C_old = deepcopy(C)   # We use deep copy here because we don't want the changes in array C to be reflecting in C_old (because assignment is by reference)\n",
        "\n",
        "    # Finding the new centroids by taking the mean value\n",
        "    for i in range(k):     # We iterate through each of the 3 clusters.\n",
        "        points = [X[j] for j in range(len(X)) if clusters[j] == i]  # We pull out all the points that were assigned to the new cluster above (in 'clusters' variable)\n",
        "        C[i] = np.mean(points, axis=0)   # Using the points above, we recompute the new centroid, by taking the mean.\n",
        "        print(C[i])\n",
        "    error = dist(C, C_old, None) # Now we compare the error between the new cluster centers and the old cluster centers.\n",
        "    ax.clear()\n",
        "    for i in range(k):\n",
        "        points = np.array([X[j] for j in range(len(X)) if clusters[j] == i])\n",
        "        plt.scatter(points[:, 0], points[:, 1], s=7, c=colors[i])\n",
        "        plt.scatter(C[:, 0], C[:, 1], marker='*', s=200, c='w')\n",
        "    print(f\"Error: {error}\\n\")"
      ],
      "execution_count": null,
      "outputs": []
    },
    {
      "cell_type": "markdown",
      "metadata": {
        "id": "ayjpMNI1QASV"
      },
      "source": [
        "## Apply K-means from sklearn\n",
        "**Note:** Refer to the following [link](https://scikit-learn.org/stable/modules/generated/sklearn.cluster.KMeans.html)"
      ]
    },
    {
      "cell_type": "code",
      "metadata": {
        "id": "Ipxq2jzWNf7C"
      },
      "source": [
        "from sklearn.cluster import KMeans\n",
        "kmeans = KMeans(n_clusters=3, random_state=0) # The number of clusters to generate\n",
        "y_pred = kmeans.fit_predict(X) # Fit and predict the data using k-means"
      ],
      "execution_count": null,
      "outputs": []
    },
    {
      "cell_type": "code",
      "metadata": {
        "id": "Ci7R4dw2OQdz"
      },
      "source": [
        "# Print the cluster centroids\n",
        "kmeans.cluster_centers_"
      ],
      "execution_count": null,
      "outputs": []
    },
    {
      "cell_type": "markdown",
      "metadata": {
        "id": "XicQl_YivrNd"
      },
      "source": [
        "## Find the number of clusters using Elbow Method\n",
        "\n",
        "To determine the optimal number of clusters, we have to select the value of k at the “elbow” ie.., the point after which the distortion/inertia start decreasing in a linear fashion."
      ]
    },
    {
      "cell_type": "code",
      "metadata": {
        "id": "I3RXFvLxulCb"
      },
      "source": [
        "scores = []\n",
        "\n",
        "for i in range(1, 10):\n",
        "  kmeans = KMeans(n_clusters = i)\n",
        "  kmeans.fit(X)\n",
        "  scores.append(kmeans.inertia_)\n",
        "\n",
        "plt.plot(range(1, 10), scores, 'bx-')\n",
        "plt.title('Finding the number of clusters')\n",
        "plt.xlabel('Clusters')\n",
        "plt.ylabel('Scores')\n",
        "plt.show()"
      ],
      "execution_count": null,
      "outputs": []
    },
    {
      "cell_type": "markdown",
      "metadata": {
        "id": "qSLgfwMOcv-G"
      },
      "source": [
        "From the above Elbow Method we can choose the number of clusters as 3"
      ]
    },
    {
      "cell_type": "markdown",
      "metadata": {
        "id": "VHfHdGCP_n6Y"
      },
      "source": [
        "### Please answer the questions below to complete the experiment:\n",
        "\n",
        "\n"
      ]
    },
    {
      "cell_type": "code",
      "metadata": {
        "id": "kmvdJ4aNmGjR"
      },
      "source": [
        "#@title State True or False: In this experiment, after initializing the random centroids, the first step inolves, computing the mean? { run: \"auto\", form-width: \"500px\", display-mode: \"form\" }\n",
        "Answer = \"\" #@param [\"\",\"TRUE\",\"FALSE\"]\n"
      ],
      "execution_count": null,
      "outputs": []
    },
    {
      "cell_type": "code",
      "metadata": {
        "id": "nmufjlR-rjv6"
      },
      "source": [
        "#@title How was the experiment? { run: \"auto\", form-width: \"500px\", display-mode: \"form\" }\n",
        "Complexity = \"\" #@param [\"\",\"Too Simple, I am wasting time\", \"Good, But Not Challenging for me\", \"Good and Challenging for me\", \"Was Tough, but I did it\", \"Too Difficult for me\"]\n"
      ],
      "execution_count": null,
      "outputs": []
    },
    {
      "cell_type": "code",
      "metadata": {
        "id": "MZ7vVuShrjv6"
      },
      "source": [
        "#@title If it was too easy, what more would you have liked to be added? If it was very difficult, what would you have liked to have been removed? { run: \"auto\", display-mode: \"form\" }\n",
        "Additional = \"\" #@param {type:\"string\"}\n"
      ],
      "execution_count": null,
      "outputs": []
    },
    {
      "cell_type": "code",
      "metadata": {
        "id": "4VBk_4VTAxCM"
      },
      "source": [
        "#@title Can you identify the concepts from the lecture which this experiment covered? { run: \"auto\", vertical-output: true, display-mode: \"form\" }\n",
        "Concepts = \"\" #@param [\"\",\"Yes\", \"No\"]\n"
      ],
      "execution_count": null,
      "outputs": []
    },
    {
      "cell_type": "code",
      "metadata": {
        "id": "r35isHfTVGKc"
      },
      "source": [
        "#@title  Experiment walkthrough video? { run: \"auto\", vertical-output: true, display-mode: \"form\" }\n",
        "Walkthrough = \"\" #@param [\"\",\"Very Useful\", \"Somewhat Useful\", \"Not Useful\", \"Didn't use\"]\n"
      ],
      "execution_count": null,
      "outputs": []
    },
    {
      "cell_type": "code",
      "metadata": {
        "id": "XH91cL1JWH7m"
      },
      "source": [
        "#@title  Text and image description/explanation and code comments within the experiment: { run: \"auto\", vertical-output: true, display-mode: \"form\" }\n",
        "Comments = \"\" #@param [\"\",\"Very Useful\", \"Somewhat Useful\", \"Not Useful\", \"Didn't use\"]\n"
      ],
      "execution_count": null,
      "outputs": []
    },
    {
      "cell_type": "code",
      "metadata": {
        "id": "z8xLqj7VWIKW"
      },
      "source": [
        "#@title Mentor Support: { run: \"auto\", vertical-output: true, display-mode: \"form\" }\n",
        "Mentor_support = \"\" #@param [\"\",\"Very Useful\", \"Somewhat Useful\", \"Not Useful\", \"Didn't use\"]\n"
      ],
      "execution_count": null,
      "outputs": []
    },
    {
      "cell_type": "code",
      "metadata": {
        "id": "FzAZHt1zw-Y-",
        "cellView": "form"
      },
      "source": [
        "#@title Run this cell to submit your notebook for grading { vertical-output: true }\n",
        "try:\n",
        "  if submission_id:\n",
        "      return_id = submit_notebook()\n",
        "      if return_id : submission_id = return_id\n",
        "  else:\n",
        "      print(\"Please complete the setup first.\")\n",
        "except NameError:\n",
        "  print (\"Please complete the setup first.\")"
      ],
      "execution_count": null,
      "outputs": []
    }
  ]
}