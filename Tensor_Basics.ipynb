{
  "nbformat": 4,
  "nbformat_minor": 0,
  "metadata": {
    "accelerator": "GPU",
    "colab": {
      "provenance": [],
      "gpuType": "T4",
      "include_colab_link": true
    },
    "kernelspec": {
      "display_name": "Python 3",
      "name": "python3"
    },
    "language_info": {
      "codemirror_mode": {
        "name": "ipython",
        "version": 3
      },
      "file_extension": ".py",
      "mimetype": "text/x-python",
      "name": "python",
      "nbconvert_exporter": "python",
      "pygments_lexer": "ipython3",
      "version": "3.6.10"
    }
  },
  "cells": [
    {
      "cell_type": "markdown",
      "metadata": {
        "id": "view-in-github",
        "colab_type": "text"
      },
      "source": [
        "<a href=\"https://colab.research.google.com/github/darkwingpatil/Ml_hackethons/blob/main/Tensor_Basics.ipynb\" target=\"_parent\"><img src=\"https://colab.research.google.com/assets/colab-badge.svg\" alt=\"Open In Colab\"/></a>"
      ]
    },
    {
      "cell_type": "markdown",
      "metadata": {
        "id": "Dq3WVvu7skLd"
      },
      "source": [
        "# Advanced Certification in AIML\n",
        "## A Program by IIIT-H and TalentSprint\n",
        "\n",
        "## Tensor basics"
      ]
    },
    {
      "cell_type": "markdown",
      "metadata": {
        "id": "mjWHjEgRAuVL"
      },
      "source": [
        "### Setup Steps"
      ]
    },
    {
      "cell_type": "code",
      "metadata": {
        "cellView": "form",
        "id": "R10gTaB_a4RI",
        "colab": {
          "base_uri": "https://localhost:8080/"
        },
        "outputId": "944fc323-fa34-43ed-9f9b-48450e9ccf5f"
      },
      "source": [
        "!pip3 install torch"
      ],
      "execution_count": null,
      "outputs": [
        {
          "output_type": "stream",
          "name": "stdout",
          "text": [
            "Requirement already satisfied: torch in /usr/local/lib/python3.10/dist-packages (2.3.1+cu121)\n",
            "Requirement already satisfied: filelock in /usr/local/lib/python3.10/dist-packages (from torch) (3.15.4)\n",
            "Requirement already satisfied: typing-extensions>=4.8.0 in /usr/local/lib/python3.10/dist-packages (from torch) (4.12.2)\n",
            "Requirement already satisfied: sympy in /usr/local/lib/python3.10/dist-packages (from torch) (1.13.1)\n",
            "Requirement already satisfied: networkx in /usr/local/lib/python3.10/dist-packages (from torch) (3.3)\n",
            "Requirement already satisfied: jinja2 in /usr/local/lib/python3.10/dist-packages (from torch) (3.1.4)\n",
            "Requirement already satisfied: fsspec in /usr/local/lib/python3.10/dist-packages (from torch) (2024.6.1)\n",
            "Collecting nvidia-cuda-nvrtc-cu12==12.1.105 (from torch)\n",
            "  Using cached nvidia_cuda_nvrtc_cu12-12.1.105-py3-none-manylinux1_x86_64.whl.metadata (1.5 kB)\n",
            "Collecting nvidia-cuda-runtime-cu12==12.1.105 (from torch)\n",
            "  Using cached nvidia_cuda_runtime_cu12-12.1.105-py3-none-manylinux1_x86_64.whl.metadata (1.5 kB)\n",
            "Collecting nvidia-cuda-cupti-cu12==12.1.105 (from torch)\n",
            "  Using cached nvidia_cuda_cupti_cu12-12.1.105-py3-none-manylinux1_x86_64.whl.metadata (1.6 kB)\n",
            "Collecting nvidia-cudnn-cu12==8.9.2.26 (from torch)\n",
            "  Using cached nvidia_cudnn_cu12-8.9.2.26-py3-none-manylinux1_x86_64.whl.metadata (1.6 kB)\n",
            "Collecting nvidia-cublas-cu12==12.1.3.1 (from torch)\n",
            "  Using cached nvidia_cublas_cu12-12.1.3.1-py3-none-manylinux1_x86_64.whl.metadata (1.5 kB)\n",
            "Collecting nvidia-cufft-cu12==11.0.2.54 (from torch)\n",
            "  Using cached nvidia_cufft_cu12-11.0.2.54-py3-none-manylinux1_x86_64.whl.metadata (1.5 kB)\n",
            "Collecting nvidia-curand-cu12==10.3.2.106 (from torch)\n",
            "  Using cached nvidia_curand_cu12-10.3.2.106-py3-none-manylinux1_x86_64.whl.metadata (1.5 kB)\n",
            "Collecting nvidia-cusolver-cu12==11.4.5.107 (from torch)\n",
            "  Using cached nvidia_cusolver_cu12-11.4.5.107-py3-none-manylinux1_x86_64.whl.metadata (1.6 kB)\n",
            "Collecting nvidia-cusparse-cu12==12.1.0.106 (from torch)\n",
            "  Using cached nvidia_cusparse_cu12-12.1.0.106-py3-none-manylinux1_x86_64.whl.metadata (1.6 kB)\n",
            "Collecting nvidia-nccl-cu12==2.20.5 (from torch)\n",
            "  Using cached nvidia_nccl_cu12-2.20.5-py3-none-manylinux2014_x86_64.whl.metadata (1.8 kB)\n",
            "Collecting nvidia-nvtx-cu12==12.1.105 (from torch)\n",
            "  Using cached nvidia_nvtx_cu12-12.1.105-py3-none-manylinux1_x86_64.whl.metadata (1.7 kB)\n",
            "Requirement already satisfied: triton==2.3.1 in /usr/local/lib/python3.10/dist-packages (from torch) (2.3.1)\n",
            "Collecting nvidia-nvjitlink-cu12 (from nvidia-cusolver-cu12==11.4.5.107->torch)\n",
            "  Using cached nvidia_nvjitlink_cu12-12.6.20-py3-none-manylinux2014_x86_64.whl.metadata (1.5 kB)\n",
            "Requirement already satisfied: MarkupSafe>=2.0 in /usr/local/lib/python3.10/dist-packages (from jinja2->torch) (2.1.5)\n",
            "Requirement already satisfied: mpmath<1.4,>=1.1.0 in /usr/local/lib/python3.10/dist-packages (from sympy->torch) (1.3.0)\n",
            "Using cached nvidia_cublas_cu12-12.1.3.1-py3-none-manylinux1_x86_64.whl (410.6 MB)\n",
            "Using cached nvidia_cuda_cupti_cu12-12.1.105-py3-none-manylinux1_x86_64.whl (14.1 MB)\n",
            "Using cached nvidia_cuda_nvrtc_cu12-12.1.105-py3-none-manylinux1_x86_64.whl (23.7 MB)\n",
            "Using cached nvidia_cuda_runtime_cu12-12.1.105-py3-none-manylinux1_x86_64.whl (823 kB)\n",
            "Using cached nvidia_cudnn_cu12-8.9.2.26-py3-none-manylinux1_x86_64.whl (731.7 MB)\n",
            "Using cached nvidia_cufft_cu12-11.0.2.54-py3-none-manylinux1_x86_64.whl (121.6 MB)\n",
            "Using cached nvidia_curand_cu12-10.3.2.106-py3-none-manylinux1_x86_64.whl (56.5 MB)\n",
            "Using cached nvidia_cusolver_cu12-11.4.5.107-py3-none-manylinux1_x86_64.whl (124.2 MB)\n",
            "Using cached nvidia_cusparse_cu12-12.1.0.106-py3-none-manylinux1_x86_64.whl (196.0 MB)\n",
            "Using cached nvidia_nccl_cu12-2.20.5-py3-none-manylinux2014_x86_64.whl (176.2 MB)\n",
            "Using cached nvidia_nvtx_cu12-12.1.105-py3-none-manylinux1_x86_64.whl (99 kB)\n",
            "Using cached nvidia_nvjitlink_cu12-12.6.20-py3-none-manylinux2014_x86_64.whl (19.7 MB)\n",
            "Installing collected packages: nvidia-nvtx-cu12, nvidia-nvjitlink-cu12, nvidia-nccl-cu12, nvidia-curand-cu12, nvidia-cufft-cu12, nvidia-cuda-runtime-cu12, nvidia-cuda-nvrtc-cu12, nvidia-cuda-cupti-cu12, nvidia-cublas-cu12, nvidia-cusparse-cu12, nvidia-cudnn-cu12, nvidia-cusolver-cu12\n",
            "Successfully installed nvidia-cublas-cu12-12.1.3.1 nvidia-cuda-cupti-cu12-12.1.105 nvidia-cuda-nvrtc-cu12-12.1.105 nvidia-cuda-runtime-cu12-12.1.105 nvidia-cudnn-cu12-8.9.2.26 nvidia-cufft-cu12-11.0.2.54 nvidia-curand-cu12-10.3.2.106 nvidia-cusolver-cu12-11.4.5.107 nvidia-cusparse-cu12-12.1.0.106 nvidia-nccl-cu12-2.20.5 nvidia-nvjitlink-cu12-12.6.20 nvidia-nvtx-cu12-12.1.105\n"
          ]
        }
      ]
    },
    {
      "cell_type": "code",
      "metadata": {
        "id": "1yQyeW447oPX"
      },
      "source": [
        "import torch\n",
        "import numpy as np"
      ],
      "execution_count": null,
      "outputs": []
    },
    {
      "cell_type": "code",
      "metadata": {
        "id": "V0m8NquV9AkO",
        "colab": {
          "base_uri": "https://localhost:8080/"
        },
        "outputId": "c9983b88-e596-4cb4-dfcd-9ae5b3e957e4"
      },
      "source": [
        "print(torch.__version__)"
      ],
      "execution_count": null,
      "outputs": [
        {
          "output_type": "stream",
          "name": "stdout",
          "text": [
            "2.3.1+cu121\n"
          ]
        }
      ]
    },
    {
      "cell_type": "markdown",
      "metadata": {
        "id": "q3Gvc41f_sZX"
      },
      "source": [
        "#**Tensor**"
      ]
    },
    {
      "cell_type": "markdown",
      "metadata": {
        "id": "ibPI9LWv3n1I"
      },
      "source": [
        "###Initializing a tensor"
      ]
    },
    {
      "cell_type": "code",
      "metadata": {
        "id": "boujstAO_tez",
        "colab": {
          "base_uri": "https://localhost:8080/"
        },
        "outputId": "e0f189d4-8d3b-4839-ddd9-77dac4c64236"
      },
      "source": [
        "# Initializing a tensor\n",
        "a = torch.Tensor([2,3])\n",
        "print(a.size())\n",
        "print(a)"
      ],
      "execution_count": null,
      "outputs": [
        {
          "output_type": "stream",
          "name": "stdout",
          "text": [
            "torch.Size([2])\n",
            "tensor([2., 3.])\n"
          ]
        }
      ]
    },
    {
      "cell_type": "code",
      "metadata": {
        "id": "nvRbCmeeA8-4",
        "colab": {
          "base_uri": "https://localhost:8080/",
          "height": 35
        },
        "outputId": "74721fea-1b3c-45af-f024-b9907b549f4c"
      },
      "source": [
        "a.type()"
      ],
      "execution_count": null,
      "outputs": [
        {
          "output_type": "execute_result",
          "data": {
            "text/plain": [
              "'torch.FloatTensor'"
            ],
            "application/vnd.google.colaboratory.intrinsic+json": {
              "type": "string"
            }
          },
          "metadata": {},
          "execution_count": 5
        }
      ]
    },
    {
      "cell_type": "code",
      "metadata": {
        "id": "HaOUoWCIgzkP",
        "colab": {
          "base_uri": "https://localhost:8080/"
        },
        "outputId": "fbc0f7b6-9e0f-461e-942d-814c4bab9672"
      },
      "source": [
        "t = torch.Tensor([[1, 2, 3], [4, 5, 6]])\n",
        "print(t)\n",
        "print(t.size())\n",
        "print(t.t())"
      ],
      "execution_count": null,
      "outputs": [
        {
          "output_type": "stream",
          "name": "stdout",
          "text": [
            "tensor([[1., 2., 3.],\n",
            "        [4., 5., 6.]])\n",
            "torch.Size([2, 3])\n",
            "tensor([[1., 4.],\n",
            "        [2., 5.],\n",
            "        [3., 6.]])\n"
          ]
        }
      ]
    },
    {
      "cell_type": "markdown",
      "metadata": {
        "id": "erGJUPD_3wnf"
      },
      "source": [
        "### Creating a scalar tensor"
      ]
    },
    {
      "cell_type": "code",
      "metadata": {
        "id": "ntQetme0JVrG",
        "colab": {
          "base_uri": "https://localhost:8080/"
        },
        "outputId": "6fa73215-2531-4fb6-9a11-ced9779bfefe"
      },
      "source": [
        "a = torch.tensor(200)\n",
        "print(a)\n",
        "print(a.size())\n",
        "print(a.type())"
      ],
      "execution_count": null,
      "outputs": [
        {
          "output_type": "stream",
          "name": "stdout",
          "text": [
            "tensor(200)\n",
            "torch.Size([])\n",
            "torch.LongTensor\n"
          ]
        }
      ]
    },
    {
      "cell_type": "markdown",
      "metadata": {
        "id": "ZVe0vlBf33Rk"
      },
      "source": [
        "###Converting scalar to python number"
      ]
    },
    {
      "cell_type": "code",
      "metadata": {
        "id": "YG-0BGYS31NC",
        "colab": {
          "base_uri": "https://localhost:8080/"
        },
        "outputId": "c9f71504-4eec-4cc4-f911-927742c79531"
      },
      "source": [
        "print(a.item())\n",
        "print(type(a.item()))"
      ],
      "execution_count": null,
      "outputs": [
        {
          "output_type": "stream",
          "name": "stdout",
          "text": [
            "200\n",
            "<class 'int'>\n"
          ]
        }
      ]
    },
    {
      "cell_type": "markdown",
      "metadata": {
        "id": "LkaFxLkq4BU1"
      },
      "source": [
        "###Creating a float tensor"
      ]
    },
    {
      "cell_type": "code",
      "metadata": {
        "id": "weOySs2yCdZr",
        "colab": {
          "base_uri": "https://localhost:8080/",
          "height": 35
        },
        "outputId": "f857a8ef-7dbd-4d67-d58a-4a2b00107d69"
      },
      "source": [
        "a = torch.tensor([2.0,3])\n",
        "a.type()"
      ],
      "execution_count": null,
      "outputs": [
        {
          "output_type": "execute_result",
          "data": {
            "text/plain": [
              "'torch.FloatTensor'"
            ],
            "application/vnd.google.colaboratory.intrinsic+json": {
              "type": "string"
            }
          },
          "metadata": {},
          "execution_count": 9
        }
      ]
    },
    {
      "cell_type": "markdown",
      "metadata": {
        "id": "_4xjFsBB4E7V"
      },
      "source": [
        "###Providing the data type while creating the tensor"
      ]
    },
    {
      "cell_type": "code",
      "metadata": {
        "id": "wLNhdgLACwfN",
        "colab": {
          "base_uri": "https://localhost:8080/",
          "height": 35
        },
        "outputId": "66e91d37-3c48-4340-e586-2f176cdca4ba"
      },
      "source": [
        "a = torch.tensor([2,3],dtype=torch.int32)\n",
        "a.type()"
      ],
      "execution_count": null,
      "outputs": [
        {
          "output_type": "execute_result",
          "data": {
            "text/plain": [
              "'torch.IntTensor'"
            ],
            "application/vnd.google.colaboratory.intrinsic+json": {
              "type": "string"
            }
          },
          "metadata": {},
          "execution_count": 10
        }
      ]
    },
    {
      "cell_type": "markdown",
      "metadata": {
        "id": "shuIdBhA4LAX"
      },
      "source": [
        "###Just like numpy, creating a tensor by copying another tensor results, pointing to same memory location\n",
        "\n",
        "\n",
        "\n",
        "\n",
        "\n",
        "\n",
        "\n"
      ]
    },
    {
      "cell_type": "code",
      "metadata": {
        "id": "NtMzpVhkDhQ3",
        "colab": {
          "base_uri": "https://localhost:8080/"
        },
        "outputId": "7fbfb783-5d8f-4168-a972-a35d626ec37a"
      },
      "source": [
        "a = torch.tensor([2.0, 3])\n",
        "b = a\n",
        "c=a.clone()\n",
        "b[0] = 11\n",
        "print(a)\n",
        "print(b)\n",
        "print(c)"
      ],
      "execution_count": null,
      "outputs": [
        {
          "output_type": "stream",
          "name": "stdout",
          "text": [
            "tensor([11.,  3.])\n",
            "tensor([11.,  3.])\n",
            "tensor([2., 3.])\n"
          ]
        }
      ]
    },
    {
      "cell_type": "markdown",
      "metadata": {
        "id": "ymR9skNc4OfB"
      },
      "source": [
        "###2D tensor"
      ]
    },
    {
      "cell_type": "code",
      "metadata": {
        "id": "TZ2VIKmgEW-u",
        "colab": {
          "base_uri": "https://localhost:8080/"
        },
        "outputId": "fd85b35b-767e-40db-daa0-44ae44c2ee38"
      },
      "source": [
        "a = torch.tensor([[1,2],[3,4]])\n",
        "print(a)\n",
        "print(a.type())"
      ],
      "execution_count": null,
      "outputs": [
        {
          "output_type": "stream",
          "name": "stdout",
          "text": [
            "tensor([[1, 2],\n",
            "        [3, 4]])\n",
            "torch.LongTensor\n"
          ]
        }
      ]
    },
    {
      "cell_type": "code",
      "source": [
        "a = torch.Tensor([[1,2],[3,4]])\n",
        "print(a)\n",
        "print(a.type())"
      ],
      "metadata": {
        "colab": {
          "base_uri": "https://localhost:8080/"
        },
        "id": "6KcxfviulwVO",
        "outputId": "6df5a152-2fcb-40bf-a27c-d1574a5d55c0"
      },
      "execution_count": null,
      "outputs": [
        {
          "output_type": "stream",
          "name": "stdout",
          "text": [
            "tensor([[1., 2.],\n",
            "        [3., 4.]])\n",
            "torch.FloatTensor\n"
          ]
        }
      ]
    },
    {
      "cell_type": "markdown",
      "metadata": {
        "id": "eeWWw8pd418E"
      },
      "source": [
        "###Creating and initializing a tensor with random values"
      ]
    },
    {
      "cell_type": "code",
      "metadata": {
        "id": "m-MUv5zpFRoq",
        "colab": {
          "base_uri": "https://localhost:8080/"
        },
        "outputId": "a6e0371d-caca-4a98-a710-e29d73a938c2"
      },
      "source": [
        "a = torch.rand(3,4)\n",
        "print(a)"
      ],
      "execution_count": null,
      "outputs": [
        {
          "output_type": "stream",
          "name": "stdout",
          "text": [
            "tensor([[0.3676, 0.4424, 0.6463, 0.8486],\n",
            "        [0.2425, 0.9140, 0.6191, 0.5375],\n",
            "        [0.6782, 0.3743, 0.9336, 0.3493]])\n"
          ]
        }
      ]
    },
    {
      "cell_type": "markdown",
      "metadata": {
        "id": "f2fOgMay455N"
      },
      "source": [
        "###Creating and initializing a float tensor with zeros"
      ]
    },
    {
      "cell_type": "code",
      "metadata": {
        "id": "y9_68kZ8F7Ba",
        "colab": {
          "base_uri": "https://localhost:8080/"
        },
        "outputId": "ef552ec1-4a6b-4874-b048-8f2e0a5d5ca9"
      },
      "source": [
        "a = torch.zeros((4,5), dtype=torch.float32)\n",
        "print(a)"
      ],
      "execution_count": null,
      "outputs": [
        {
          "output_type": "stream",
          "name": "stdout",
          "text": [
            "tensor([[0., 0., 0., 0., 0.],\n",
            "        [0., 0., 0., 0., 0.],\n",
            "        [0., 0., 0., 0., 0.],\n",
            "        [0., 0., 0., 0., 0.]])\n"
          ]
        }
      ]
    },
    {
      "cell_type": "markdown",
      "metadata": {
        "id": "vffsQ4344974"
      },
      "source": [
        "###Creating an Identity tensor"
      ]
    },
    {
      "cell_type": "code",
      "metadata": {
        "id": "3xBd2Fu1GqVv",
        "colab": {
          "base_uri": "https://localhost:8080/"
        },
        "outputId": "4ac87b8a-73dc-4610-fa7e-631cf562da10"
      },
      "source": [
        "a = torch.eye(4,4)\n",
        "print(a)"
      ],
      "execution_count": null,
      "outputs": [
        {
          "output_type": "stream",
          "name": "stdout",
          "text": [
            "tensor([[1., 0., 0., 0.],\n",
            "        [0., 1., 0., 0.],\n",
            "        [0., 0., 1., 0.],\n",
            "        [0., 0., 0., 1.]])\n"
          ]
        }
      ]
    },
    {
      "cell_type": "markdown",
      "metadata": {
        "id": "aZ33siBjFGrN"
      },
      "source": [
        "#**Tensor Operations**"
      ]
    },
    {
      "cell_type": "markdown",
      "metadata": {
        "id": "K4YECoP35BQm"
      },
      "source": [
        "###Addition of two tensor"
      ]
    },
    {
      "cell_type": "code",
      "metadata": {
        "id": "ahpXC1TQFJ5a",
        "colab": {
          "base_uri": "https://localhost:8080/"
        },
        "outputId": "162e4307-3b4b-4c8f-a0d7-3a7f01844208"
      },
      "source": [
        "x = torch.rand(3,3)\n",
        "y = torch.rand(3,3)\n",
        "z = x+y\n",
        "print(z)"
      ],
      "execution_count": null,
      "outputs": [
        {
          "output_type": "stream",
          "name": "stdout",
          "text": [
            "tensor([[1.2519, 0.9201, 0.6100],\n",
            "        [1.4365, 0.8854, 0.6081],\n",
            "        [1.6056, 0.6473, 1.7680]])\n"
          ]
        }
      ]
    },
    {
      "cell_type": "markdown",
      "metadata": {
        "id": "ncyqH1wm5G50"
      },
      "source": [
        "###Addition of two tensor (alternative)"
      ]
    },
    {
      "cell_type": "code",
      "metadata": {
        "id": "xgIqg4g4IfVe",
        "colab": {
          "base_uri": "https://localhost:8080/"
        },
        "outputId": "43e90f9c-9ad0-4419-e290-dac7a9227b2a"
      },
      "source": [
        "z = x.add(y)\n",
        "print(z)\n",
        "#z=x+y"
      ],
      "execution_count": null,
      "outputs": [
        {
          "output_type": "stream",
          "name": "stdout",
          "text": [
            "tensor([[1.2519, 0.9201, 0.6100],\n",
            "        [1.4365, 0.8854, 0.6081],\n",
            "        [1.6056, 0.6473, 1.7680]])\n"
          ]
        }
      ]
    },
    {
      "cell_type": "code",
      "source": [
        "c=torch.tensor(20)\n",
        "print(c.size())\n",
        "c=torch.tensor([20])\n",
        "print(c.size())\n",
        "c=torch.tensor([[20]])\n",
        "print(c.size())\n",
        "c=torch.tensor([[[20]]])\n",
        "print(c.size())"
      ],
      "metadata": {
        "colab": {
          "base_uri": "https://localhost:8080/"
        },
        "id": "TqwYXyMsG7al",
        "outputId": "72ab011a-2a82-4605-8429-6b13fc780cd8"
      },
      "execution_count": null,
      "outputs": [
        {
          "output_type": "stream",
          "name": "stdout",
          "text": [
            "torch.Size([])\n",
            "torch.Size([1])\n",
            "torch.Size([1, 1])\n",
            "torch.Size([1, 1, 1])\n"
          ]
        }
      ]
    },
    {
      "cell_type": "markdown",
      "metadata": {
        "id": "lIN8u1A_5OlI"
      },
      "source": [
        "###Inplace addition of two tensor"
      ]
    },
    {
      "cell_type": "code",
      "metadata": {
        "id": "AOqXYTkgIjfp",
        "colab": {
          "base_uri": "https://localhost:8080/"
        },
        "outputId": "0ce3eeb6-1893-4b9c-f5b0-4b2ba1320cf7"
      },
      "source": [
        "print(x)\n",
        "\n",
        "x.add_(y)\n",
        "#x=x+y\n",
        "\n",
        "print(x)"
      ],
      "execution_count": null,
      "outputs": [
        {
          "output_type": "stream",
          "name": "stdout",
          "text": [
            "tensor([[0.8906, 0.3131, 0.3655],\n",
            "        [0.8425, 0.5667, 0.0413],\n",
            "        [0.6256, 0.4259, 0.9385]])\n",
            "tensor([[1.2519, 0.9201, 0.6100],\n",
            "        [1.4365, 0.8854, 0.6081],\n",
            "        [1.6056, 0.6473, 1.7680]])\n"
          ]
        }
      ]
    },
    {
      "cell_type": "markdown",
      "metadata": {
        "id": "kI1TfG2B5lBP"
      },
      "source": [
        "###Element wise multiplication"
      ]
    },
    {
      "cell_type": "code",
      "metadata": {
        "id": "-IxgHBbzIuDF",
        "colab": {
          "base_uri": "https://localhost:8080/"
        },
        "outputId": "3e8c7968-e438-459b-e589-536675a88858"
      },
      "source": [
        "print(x*y)"
      ],
      "execution_count": null,
      "outputs": [
        {
          "output_type": "stream",
          "name": "stdout",
          "text": [
            "tensor([[0.4523, 0.5585, 0.1492],\n",
            "        [0.8532, 0.2822, 0.3447],\n",
            "        [1.5735, 0.1433, 1.4665]])\n"
          ]
        }
      ]
    },
    {
      "cell_type": "markdown",
      "metadata": {
        "id": "naidinMb5oxT"
      },
      "source": [
        "###Matrix multiplication"
      ]
    },
    {
      "cell_type": "code",
      "metadata": {
        "id": "LtN0vws3KlbS",
        "colab": {
          "base_uri": "https://localhost:8080/"
        },
        "outputId": "4c9f3cd7-1747-42cf-a962-72b93a2e2c5d"
      },
      "source": [
        "z = torch.matmul(x,y[:,0])\n",
        "print(z)\n",
        "z.size()"
      ],
      "execution_count": null,
      "outputs": [
        {
          "output_type": "stream",
          "name": "stdout",
          "text": [
            "tensor([1.5966, 1.6409, 2.6972])\n"
          ]
        },
        {
          "output_type": "execute_result",
          "data": {
            "text/plain": [
              "torch.Size([3])"
            ]
          },
          "metadata": {},
          "execution_count": 22
        }
      ]
    },
    {
      "cell_type": "markdown",
      "metadata": {
        "id": "s7qePwsG5zrc"
      },
      "source": [
        "###Reshaping tensors"
      ]
    },
    {
      "cell_type": "code",
      "metadata": {
        "id": "vKJcA3gxR1ab",
        "colab": {
          "base_uri": "https://localhost:8080/"
        },
        "outputId": "01635d84-e8f5-4877-a9d3-050a39dc1849"
      },
      "source": [
        "x = torch.rand(5,6)\n",
        "print(\"Size of x :\\n\",x.size())\n",
        "print(\"x:\\n\",x)\n",
        "y = x.view(30)\n",
        "print(\"Size of y :\\n\",y.size())\n",
        "print(\"y:\\n\",y)\n",
        "z = x.view(3,10)\n",
        "print(\"Size of z :\\n\",z.size())\n",
        "print(\"z:\\n\",z)\n",
        "z = x.view(-1,10)\n",
        "print(\"Size of z :\\n\",z.size())\n",
        "print(\"z:\\n\",z)"
      ],
      "execution_count": null,
      "outputs": [
        {
          "output_type": "stream",
          "name": "stdout",
          "text": [
            "Size of x :\n",
            " torch.Size([5, 6])\n",
            "x:\n",
            " tensor([[0.4491, 0.0438, 0.7166, 0.3015, 0.6686, 0.6745],\n",
            "        [0.8546, 0.3482, 0.3754, 0.6935, 0.5071, 0.7120],\n",
            "        [0.0045, 0.0881, 0.5412, 0.1370, 0.1729, 0.5055],\n",
            "        [0.1323, 0.1019, 0.1943, 0.2376, 0.5205, 0.3194],\n",
            "        [0.2996, 0.2427, 0.7999, 0.4581, 0.3465, 0.2511]])\n",
            "Size of y :\n",
            " torch.Size([30])\n",
            "y:\n",
            " tensor([0.4491, 0.0438, 0.7166, 0.3015, 0.6686, 0.6745, 0.8546, 0.3482, 0.3754,\n",
            "        0.6935, 0.5071, 0.7120, 0.0045, 0.0881, 0.5412, 0.1370, 0.1729, 0.5055,\n",
            "        0.1323, 0.1019, 0.1943, 0.2376, 0.5205, 0.3194, 0.2996, 0.2427, 0.7999,\n",
            "        0.4581, 0.3465, 0.2511])\n",
            "Size of z :\n",
            " torch.Size([3, 10])\n",
            "z:\n",
            " tensor([[0.4491, 0.0438, 0.7166, 0.3015, 0.6686, 0.6745, 0.8546, 0.3482, 0.3754,\n",
            "         0.6935],\n",
            "        [0.5071, 0.7120, 0.0045, 0.0881, 0.5412, 0.1370, 0.1729, 0.5055, 0.1323,\n",
            "         0.1019],\n",
            "        [0.1943, 0.2376, 0.5205, 0.3194, 0.2996, 0.2427, 0.7999, 0.4581, 0.3465,\n",
            "         0.2511]])\n",
            "Size of z :\n",
            " torch.Size([3, 10])\n",
            "z:\n",
            " tensor([[0.4491, 0.0438, 0.7166, 0.3015, 0.6686, 0.6745, 0.8546, 0.3482, 0.3754,\n",
            "         0.6935],\n",
            "        [0.5071, 0.7120, 0.0045, 0.0881, 0.5412, 0.1370, 0.1729, 0.5055, 0.1323,\n",
            "         0.1019],\n",
            "        [0.1943, 0.2376, 0.5205, 0.3194, 0.2996, 0.2427, 0.7999, 0.4581, 0.3465,\n",
            "         0.2511]])\n"
          ]
        }
      ]
    },
    {
      "cell_type": "markdown",
      "metadata": {
        "id": "7Q8u8Ybl6aTE"
      },
      "source": [
        "###Generating Numbers in Sequence"
      ]
    },
    {
      "cell_type": "code",
      "metadata": {
        "id": "lKZfbRSmTrKZ",
        "colab": {
          "base_uri": "https://localhost:8080/"
        },
        "outputId": "bff5ede0-1c14-43dd-a1de-fac5b0ffaac5"
      },
      "source": [
        "x = torch.arange(9)\n",
        "print(x)\n",
        "x = x.view(3,3)\n",
        "print(x)"
      ],
      "execution_count": null,
      "outputs": [
        {
          "output_type": "stream",
          "name": "stdout",
          "text": [
            "tensor([0, 1, 2, 3, 4, 5, 6, 7, 8])\n",
            "tensor([[0, 1, 2],\n",
            "        [3, 4, 5],\n",
            "        [6, 7, 8]])\n"
          ]
        }
      ]
    },
    {
      "cell_type": "markdown",
      "metadata": {
        "id": "kn3gIaFa6mgN"
      },
      "source": [
        "###Concatenating two tensors at a given dimension"
      ]
    },
    {
      "cell_type": "code",
      "metadata": {
        "id": "Jq3lfDaV6ly8",
        "colab": {
          "base_uri": "https://localhost:8080/"
        },
        "outputId": "a42d80e4-a41e-4e47-c14d-6ed5f595a575"
      },
      "source": [
        "print(torch.cat((x,x),dim=0))\n",
        "print(torch.cat((x,x),dim=1))"
      ],
      "execution_count": null,
      "outputs": [
        {
          "output_type": "stream",
          "name": "stdout",
          "text": [
            "tensor([[0, 1, 2],\n",
            "        [3, 4, 5],\n",
            "        [6, 7, 8],\n",
            "        [0, 1, 2],\n",
            "        [3, 4, 5],\n",
            "        [6, 7, 8]])\n",
            "tensor([[0, 1, 2, 0, 1, 2],\n",
            "        [3, 4, 5, 3, 4, 5],\n",
            "        [6, 7, 8, 6, 7, 8]])\n"
          ]
        }
      ]
    },
    {
      "cell_type": "markdown",
      "metadata": {
        "id": "Wztx_uOL6s4_"
      },
      "source": [
        "###Reducing the redundant dimension by squeeze operation"
      ]
    },
    {
      "cell_type": "code",
      "metadata": {
        "id": "2bpPpJsVVPZj",
        "colab": {
          "base_uri": "https://localhost:8080/"
        },
        "outputId": "fd829b64-c3d8-431e-eedd-1e2f0dad65af"
      },
      "source": [
        "x1= torch.rand(1,5)\n",
        "print(\"size of x1 squeezing:\\n\",x1.size())\n",
        "print(x1)\n",
        "x1 = x1.squeeze()\n",
        "print(\"size of x1 after squeezing:\\n\", x1.size())\n",
        "print(x1)"
      ],
      "execution_count": null,
      "outputs": [
        {
          "output_type": "stream",
          "name": "stdout",
          "text": [
            "size of x1 squeezing:\n",
            " torch.Size([1, 5])\n",
            "tensor([[0.8146, 0.1355, 0.2786, 0.8531, 0.1111]])\n",
            "size of x1 after squeezing:\n",
            " torch.Size([5])\n",
            "tensor([0.8146, 0.1355, 0.2786, 0.8531, 0.1111])\n"
          ]
        }
      ]
    },
    {
      "cell_type": "code",
      "metadata": {
        "id": "KUSXmKCTgzpa",
        "colab": {
          "base_uri": "https://localhost:8080/"
        },
        "outputId": "dc0d0535-e7b3-4b02-c37a-8f2980ae3210"
      },
      "source": [
        "x1 = torch.rand(1,1,5)\n",
        "print(\"size of x1 before squeezing:\\n\", x1.size())\n",
        "print(x1)\n",
        "x1 = x1.squeeze()\n",
        "print(\"size of x1 after squeezing:\\n\", x1.size())\n",
        "print(x1)\n",
        "print(x1.numpy())"
      ],
      "execution_count": null,
      "outputs": [
        {
          "output_type": "stream",
          "name": "stdout",
          "text": [
            "size of x1 before squeezing:\n",
            " torch.Size([1, 1, 5])\n",
            "tensor([[[0.1132, 0.8039, 0.9188, 0.3742, 0.9733]]])\n",
            "size of x1 after squeezing:\n",
            " torch.Size([5])\n",
            "tensor([0.1132, 0.8039, 0.9188, 0.3742, 0.9733])\n",
            "[0.11319357 0.8039046  0.9188303  0.37416154 0.97331715]\n"
          ]
        }
      ]
    },
    {
      "cell_type": "code",
      "metadata": {
        "id": "uKD-tFDYe-lz",
        "colab": {
          "base_uri": "https://localhost:8080/"
        },
        "outputId": "955a7f96-0371-4992-bc5d-843131aefbe5"
      },
      "source": [
        "x2 = torch.rand(3,1,4,1,5)\n",
        "print(\"size of x2 before squeezing:\\n\", x2.size())\n",
        "print(x2)\n",
        "x2 = x2.squeeze()\n",
        "print(\"size of x2 after squeezing:\\n\", x2.size())\n",
        "print(x2)"
      ],
      "execution_count": null,
      "outputs": [
        {
          "output_type": "stream",
          "name": "stdout",
          "text": [
            "size of x2 before squeezing:\n",
            " torch.Size([3, 1, 4, 1, 5])\n",
            "tensor([[[[[0.6104, 0.5581, 0.3383, 0.7517, 0.9724]],\n",
            "\n",
            "          [[0.2645, 0.4207, 0.9352, 0.1507, 0.5052]],\n",
            "\n",
            "          [[0.0263, 0.5204, 0.5380, 0.1720, 0.5332]],\n",
            "\n",
            "          [[0.8278, 0.1382, 0.1746, 0.3785, 0.7850]]]],\n",
            "\n",
            "\n",
            "\n",
            "        [[[[0.7397, 0.7679, 0.2048, 0.9247, 0.7966]],\n",
            "\n",
            "          [[0.7449, 0.0478, 0.9821, 0.9419, 0.1817]],\n",
            "\n",
            "          [[0.1391, 0.2910, 0.1632, 0.7411, 0.5174]],\n",
            "\n",
            "          [[0.5448, 0.3096, 0.3562, 0.0108, 0.1996]]]],\n",
            "\n",
            "\n",
            "\n",
            "        [[[[0.1768, 0.0252, 0.2160, 0.5674, 0.9280]],\n",
            "\n",
            "          [[0.4543, 0.4495, 0.9436, 0.7329, 0.3258]],\n",
            "\n",
            "          [[0.7061, 0.1305, 0.4379, 0.2049, 0.7900]],\n",
            "\n",
            "          [[0.8766, 0.1102, 0.6536, 0.7579, 0.7362]]]]])\n",
            "size of x2 after squeezing:\n",
            " torch.Size([3, 4, 5])\n",
            "tensor([[[0.6104, 0.5581, 0.3383, 0.7517, 0.9724],\n",
            "         [0.2645, 0.4207, 0.9352, 0.1507, 0.5052],\n",
            "         [0.0263, 0.5204, 0.5380, 0.1720, 0.5332],\n",
            "         [0.8278, 0.1382, 0.1746, 0.3785, 0.7850]],\n",
            "\n",
            "        [[0.7397, 0.7679, 0.2048, 0.9247, 0.7966],\n",
            "         [0.7449, 0.0478, 0.9821, 0.9419, 0.1817],\n",
            "         [0.1391, 0.2910, 0.1632, 0.7411, 0.5174],\n",
            "         [0.5448, 0.3096, 0.3562, 0.0108, 0.1996]],\n",
            "\n",
            "        [[0.1768, 0.0252, 0.2160, 0.5674, 0.9280],\n",
            "         [0.4543, 0.4495, 0.9436, 0.7329, 0.3258],\n",
            "         [0.7061, 0.1305, 0.4379, 0.2049, 0.7900],\n",
            "         [0.8766, 0.1102, 0.6536, 0.7579, 0.7362]]])\n"
          ]
        }
      ]
    },
    {
      "cell_type": "markdown",
      "metadata": {
        "id": "w-dy0VY077gG"
      },
      "source": [
        "###Extending the dimension by unsqueeze operation"
      ]
    },
    {
      "cell_type": "code",
      "metadata": {
        "id": "qt6GvYtJWtSp",
        "colab": {
          "base_uri": "https://localhost:8080/"
        },
        "outputId": "a0343c4d-5309-4ecf-c272-c6fb3be61b6e"
      },
      "source": [
        "x = torch.rand(3,4,5,6)\n",
        "print(x.size())\n",
        "#print(x)\n",
        "print(x.unsqueeze(dim=2).size())\n",
        "#print(x.unsqueeze(dim=2))\n",
        "print(x.unsqueeze(dim=3).size())\n",
        "print(x.unsqueeze(dim=4).size())"
      ],
      "execution_count": null,
      "outputs": [
        {
          "output_type": "stream",
          "name": "stdout",
          "text": [
            "torch.Size([3, 4, 5, 6])\n",
            "torch.Size([3, 4, 1, 5, 6])\n",
            "torch.Size([3, 4, 5, 1, 6])\n",
            "torch.Size([3, 4, 5, 6, 1])\n"
          ]
        }
      ]
    },
    {
      "cell_type": "markdown",
      "metadata": {
        "id": "uE2GJRkBasOw"
      },
      "source": [
        "###Numpy Bridge\n",
        "####Converting a numpy array to torch tensor"
      ]
    },
    {
      "cell_type": "code",
      "metadata": {
        "id": "26-U02yFZGT0",
        "colab": {
          "base_uri": "https://localhost:8080/",
          "height": 87
        },
        "outputId": "41a15a4c-54c2-47ca-ed5c-18addfa29521"
      },
      "source": [
        "x = np.array([[1.0,2],[3,4]])\n",
        "print(type(x))\n",
        "y = torch.from_numpy(x)\n",
        "print(y)\n",
        "y.type()"
      ],
      "execution_count": null,
      "outputs": [
        {
          "output_type": "stream",
          "name": "stdout",
          "text": [
            "<class 'numpy.ndarray'>\n",
            "tensor([[1., 2.],\n",
            "        [3., 4.]], dtype=torch.float64)\n"
          ]
        },
        {
          "output_type": "execute_result",
          "data": {
            "text/plain": [
              "'torch.DoubleTensor'"
            ],
            "application/vnd.google.colaboratory.intrinsic+json": {
              "type": "string"
            }
          },
          "metadata": {},
          "execution_count": 30
        }
      ]
    },
    {
      "cell_type": "markdown",
      "metadata": {
        "id": "vsAxO1Sj_yL0"
      },
      "source": [
        "####Converting a torch tensor to numpy array"
      ]
    },
    {
      "cell_type": "code",
      "metadata": {
        "id": "ei-KpF1MZLm9",
        "colab": {
          "base_uri": "https://localhost:8080/"
        },
        "outputId": "2db13d8d-ce3d-42ee-e935-1dce5c9dd5c3"
      },
      "source": [
        "z = y.numpy()\n",
        "z.dtype"
      ],
      "execution_count": null,
      "outputs": [
        {
          "output_type": "execute_result",
          "data": {
            "text/plain": [
              "dtype('float64')"
            ]
          },
          "metadata": {},
          "execution_count": 31
        }
      ]
    },
    {
      "cell_type": "markdown",
      "metadata": {
        "id": "lNJZQcnddMoC"
      },
      "source": [
        "**CUDA Tensors**"
      ]
    },
    {
      "cell_type": "markdown",
      "metadata": {
        "id": "U7gXIIyjAXqO"
      },
      "source": [
        "####Checking the availability of CUDA/GPU"
      ]
    },
    {
      "cell_type": "code",
      "metadata": {
        "id": "_wqlDh-VbFWP",
        "colab": {
          "base_uri": "https://localhost:8080/"
        },
        "outputId": "0ecc20c6-4a8e-46f0-c17b-76036a1b63ec"
      },
      "source": [
        "torch.cuda.is_available()"
      ],
      "execution_count": null,
      "outputs": [
        {
          "output_type": "execute_result",
          "data": {
            "text/plain": [
              "True"
            ]
          },
          "metadata": {},
          "execution_count": 32
        }
      ]
    },
    {
      "cell_type": "code",
      "metadata": {
        "id": "qkIDqwYPdZpe",
        "colab": {
          "base_uri": "https://localhost:8080/"
        },
        "outputId": "b679f248-41b3-41f9-bca4-a55a32bbc212"
      },
      "source": [
        "# Linux bash command to print the status of nvidia gpu (memory and processes)\n",
        "!nvidia-smi"
      ],
      "execution_count": null,
      "outputs": [
        {
          "output_type": "stream",
          "name": "stdout",
          "text": [
            "Sat Aug 10 05:04:05 2024       \n",
            "+---------------------------------------------------------------------------------------+\n",
            "| NVIDIA-SMI 535.104.05             Driver Version: 535.104.05   CUDA Version: 12.2     |\n",
            "|-----------------------------------------+----------------------+----------------------+\n",
            "| GPU  Name                 Persistence-M | Bus-Id        Disp.A | Volatile Uncorr. ECC |\n",
            "| Fan  Temp   Perf          Pwr:Usage/Cap |         Memory-Usage | GPU-Util  Compute M. |\n",
            "|                                         |                      |               MIG M. |\n",
            "|=========================================+======================+======================|\n",
            "|   0  Tesla T4                       Off | 00000000:00:04.0 Off |                    0 |\n",
            "| N/A   56C    P8              10W /  70W |      3MiB / 15360MiB |      0%      Default |\n",
            "|                                         |                      |                  N/A |\n",
            "+-----------------------------------------+----------------------+----------------------+\n",
            "                                                                                         \n",
            "+---------------------------------------------------------------------------------------+\n",
            "| Processes:                                                                            |\n",
            "|  GPU   GI   CI        PID   Type   Process name                            GPU Memory |\n",
            "|        ID   ID                                                             Usage      |\n",
            "|=======================================================================================|\n",
            "|  No running processes found                                                           |\n",
            "+---------------------------------------------------------------------------------------+\n"
          ]
        }
      ]
    },
    {
      "cell_type": "markdown",
      "metadata": {
        "id": "gXpbPJ0dAnze"
      },
      "source": [
        "####Defining the device object (cpu/gpu)"
      ]
    },
    {
      "cell_type": "code",
      "metadata": {
        "id": "0heiVkdBdiAe",
        "colab": {
          "base_uri": "https://localhost:8080/",
          "height": 87
        },
        "outputId": "8266ea6d-bb6b-4d41-cd13-fdb3daa27c32"
      },
      "source": [
        "device = torch.device(\"cuda\")\n",
        "x = torch.rand(3,3)\n",
        "print(x)\n",
        "x.type()"
      ],
      "execution_count": null,
      "outputs": [
        {
          "output_type": "stream",
          "name": "stdout",
          "text": [
            "tensor([[0.8870, 0.9056, 0.2414],\n",
            "        [0.9167, 0.6942, 0.3483],\n",
            "        [0.0131, 0.0642, 0.7547]])\n"
          ]
        },
        {
          "output_type": "execute_result",
          "data": {
            "text/plain": [
              "'torch.FloatTensor'"
            ],
            "application/vnd.google.colaboratory.intrinsic+json": {
              "type": "string"
            }
          },
          "metadata": {},
          "execution_count": 34
        }
      ]
    },
    {
      "cell_type": "code",
      "metadata": {
        "id": "xR2cjesYAsYW",
        "colab": {
          "base_uri": "https://localhost:8080/",
          "height": 35
        },
        "outputId": "0265a8c7-2864-4a90-efe3-f44524eca391"
      },
      "source": [
        "x = x.to(device)\n",
        "x.type()"
      ],
      "execution_count": null,
      "outputs": [
        {
          "output_type": "execute_result",
          "data": {
            "text/plain": [
              "'torch.cuda.FloatTensor'"
            ],
            "application/vnd.google.colaboratory.intrinsic+json": {
              "type": "string"
            }
          },
          "metadata": {},
          "execution_count": 35
        }
      ]
    },
    {
      "cell_type": "markdown",
      "metadata": {
        "id": "DzgU1Lw2A2qc"
      },
      "source": [
        "\n",
        "###Transferring the tensor to the respective device (here cpu->gpu)\n",
        "####Transferring the tensor from gpu->cpu\n"
      ]
    },
    {
      "cell_type": "code",
      "metadata": {
        "id": "V9VMq1zJd-N9",
        "colab": {
          "base_uri": "https://localhost:8080/",
          "height": 35
        },
        "outputId": "3996d6a6-7754-4ae3-ac02-c3583ebb61f9"
      },
      "source": [
        "# Transferring the tensor from gpu->cpu\n",
        "device_cpu = torch.device(\"cpu\")\n",
        "x = x.to(device_cpu)\n",
        "x.type()"
      ],
      "execution_count": null,
      "outputs": [
        {
          "output_type": "execute_result",
          "data": {
            "text/plain": [
              "'torch.FloatTensor'"
            ],
            "application/vnd.google.colaboratory.intrinsic+json": {
              "type": "string"
            }
          },
          "metadata": {},
          "execution_count": 36
        }
      ]
    },
    {
      "cell_type": "code",
      "metadata": {
        "id": "c-nqAVFQjjq7",
        "colab": {
          "base_uri": "https://localhost:8080/"
        },
        "outputId": "887abb33-9f53-423c-f703-57fd41ddd0f6"
      },
      "source": [
        "import torch\n",
        "from torch.autograd import Variable\n",
        "# rows\n",
        "N=100\n",
        "# col\n",
        "D_in=10\n",
        "# hidden\n",
        "H=100\n",
        "# output\n",
        "D_out=1\n",
        "#  WE ARE DOING REGRESSION\n",
        "x = Variable(torch.randn(N, D_in), requires_grad=False)\n",
        "y = Variable(torch.randn(N, D_out), requires_grad=False)\n",
        "w1 = Variable(torch.randn(D_in,H), requires_grad=True)\n",
        "w2 = Variable(torch.randn(H, D_out), requires_grad=True)\n",
        "b1 = Variable(torch.randn(H), requires_grad=True)\n",
        "b2 = Variable(torch.randn(D_out), requires_grad=True)\n",
        "learning_rate = 1e-5\n",
        "\n",
        "for t in range(5000):\n",
        "    # FP\n",
        "      #  ST= X*W1 +BIAS\n",
        "      #  ACTIVATION(ST)\n",
        "    y_pred = ((x.mm(w1)+b1).clamp(min=0).mm(w2)+b2) #FP  NOT APPLYING ACTIVATION\n",
        "    loss = (y_pred-y).pow(2).sum() #Loss computation MEAN SQUARED EROR\n",
        "    loss.backward() #BP\n",
        "    w2.data -= learning_rate*w2.grad #WU\n",
        "    w1.data -= learning_rate*w1.grad #WU\n",
        "    b2.data -= learning_rate*b2.grad #WU\n",
        "    b1.data -= learning_rate*b1.grad #WU\n",
        "    w1.grad.data.zero_() #Reset gradients\n",
        "    w2.grad.data.zero_() #Reset gradients\n",
        "    b1.grad.data.zero_() #Reset gradients\n",
        "    b2.grad.data.zero_() #Reset gradients\n",
        "    if t%100==0:\n",
        "      print(loss)\n",
        "      print(loss.type())"
      ],
      "execution_count": 1,
      "outputs": [
        {
          "output_type": "stream",
          "name": "stdout",
          "text": [
            "tensor(56018.0625, grad_fn=<SumBackward0>)\n",
            "torch.FloatTensor\n",
            "tensor(1046.3306, grad_fn=<SumBackward0>)\n",
            "torch.FloatTensor\n",
            "tensor(415.3498, grad_fn=<SumBackward0>)\n",
            "torch.FloatTensor\n",
            "tensor(230.8835, grad_fn=<SumBackward0>)\n",
            "torch.FloatTensor\n",
            "tensor(147.5284, grad_fn=<SumBackward0>)\n",
            "torch.FloatTensor\n",
            "tensor(102.6503, grad_fn=<SumBackward0>)\n",
            "torch.FloatTensor\n",
            "tensor(75.9411, grad_fn=<SumBackward0>)\n",
            "torch.FloatTensor\n",
            "tensor(58.9970, grad_fn=<SumBackward0>)\n",
            "torch.FloatTensor\n",
            "tensor(47.2783, grad_fn=<SumBackward0>)\n",
            "torch.FloatTensor\n",
            "tensor(38.7816, grad_fn=<SumBackward0>)\n",
            "torch.FloatTensor\n",
            "tensor(32.4325, grad_fn=<SumBackward0>)\n",
            "torch.FloatTensor\n",
            "tensor(27.5347, grad_fn=<SumBackward0>)\n",
            "torch.FloatTensor\n",
            "tensor(23.6353, grad_fn=<SumBackward0>)\n",
            "torch.FloatTensor\n",
            "tensor(20.4655, grad_fn=<SumBackward0>)\n",
            "torch.FloatTensor\n",
            "tensor(17.8550, grad_fn=<SumBackward0>)\n",
            "torch.FloatTensor\n",
            "tensor(15.6842, grad_fn=<SumBackward0>)\n",
            "torch.FloatTensor\n",
            "tensor(13.8737, grad_fn=<SumBackward0>)\n",
            "torch.FloatTensor\n",
            "tensor(12.3435, grad_fn=<SumBackward0>)\n",
            "torch.FloatTensor\n",
            "tensor(11.0244, grad_fn=<SumBackward0>)\n",
            "torch.FloatTensor\n",
            "tensor(9.8844, grad_fn=<SumBackward0>)\n",
            "torch.FloatTensor\n",
            "tensor(8.8951, grad_fn=<SumBackward0>)\n",
            "torch.FloatTensor\n",
            "tensor(8.0333, grad_fn=<SumBackward0>)\n",
            "torch.FloatTensor\n",
            "tensor(7.2729, grad_fn=<SumBackward0>)\n",
            "torch.FloatTensor\n",
            "tensor(6.6016, grad_fn=<SumBackward0>)\n",
            "torch.FloatTensor\n",
            "tensor(6.0069, grad_fn=<SumBackward0>)\n",
            "torch.FloatTensor\n",
            "tensor(5.4786, grad_fn=<SumBackward0>)\n",
            "torch.FloatTensor\n",
            "tensor(5.0111, grad_fn=<SumBackward0>)\n",
            "torch.FloatTensor\n",
            "tensor(4.5946, grad_fn=<SumBackward0>)\n",
            "torch.FloatTensor\n",
            "tensor(4.2204, grad_fn=<SumBackward0>)\n",
            "torch.FloatTensor\n",
            "tensor(3.8825, grad_fn=<SumBackward0>)\n",
            "torch.FloatTensor\n",
            "tensor(3.5713, grad_fn=<SumBackward0>)\n",
            "torch.FloatTensor\n",
            "tensor(3.2873, grad_fn=<SumBackward0>)\n",
            "torch.FloatTensor\n",
            "tensor(3.0339, grad_fn=<SumBackward0>)\n",
            "torch.FloatTensor\n",
            "tensor(2.8067, grad_fn=<SumBackward0>)\n",
            "torch.FloatTensor\n",
            "tensor(2.5990, grad_fn=<SumBackward0>)\n",
            "torch.FloatTensor\n",
            "tensor(2.4087, grad_fn=<SumBackward0>)\n",
            "torch.FloatTensor\n",
            "tensor(2.2344, grad_fn=<SumBackward0>)\n",
            "torch.FloatTensor\n",
            "tensor(2.0746, grad_fn=<SumBackward0>)\n",
            "torch.FloatTensor\n",
            "tensor(1.9278, grad_fn=<SumBackward0>)\n",
            "torch.FloatTensor\n",
            "tensor(1.7925, grad_fn=<SumBackward0>)\n",
            "torch.FloatTensor\n",
            "tensor(1.6674, grad_fn=<SumBackward0>)\n",
            "torch.FloatTensor\n",
            "tensor(1.5518, grad_fn=<SumBackward0>)\n",
            "torch.FloatTensor\n",
            "tensor(1.4453, grad_fn=<SumBackward0>)\n",
            "torch.FloatTensor\n",
            "tensor(1.3468, grad_fn=<SumBackward0>)\n",
            "torch.FloatTensor\n",
            "tensor(1.2559, grad_fn=<SumBackward0>)\n",
            "torch.FloatTensor\n",
            "tensor(1.1723, grad_fn=<SumBackward0>)\n",
            "torch.FloatTensor\n",
            "tensor(1.0946, grad_fn=<SumBackward0>)\n",
            "torch.FloatTensor\n",
            "tensor(1.0222, grad_fn=<SumBackward0>)\n",
            "torch.FloatTensor\n",
            "tensor(0.9548, grad_fn=<SumBackward0>)\n",
            "torch.FloatTensor\n",
            "tensor(0.8919, grad_fn=<SumBackward0>)\n",
            "torch.FloatTensor\n"
          ]
        }
      ]
    },
    {
      "cell_type": "code",
      "source": [
        "print(x.mm)"
      ],
      "metadata": {
        "colab": {
          "base_uri": "https://localhost:8080/"
        },
        "id": "wp1p_uGt16zw",
        "outputId": "ea156572-2830-4285-a7d9-36ed6703eb86"
      },
      "execution_count": 2,
      "outputs": [
        {
          "output_type": "stream",
          "name": "stdout",
          "text": [
            "<built-in method mm of Tensor object at 0x7df4e5d3fbf0>\n"
          ]
        }
      ]
    }
  ]
}