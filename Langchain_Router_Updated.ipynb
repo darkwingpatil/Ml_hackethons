{
  "nbformat": 4,
  "nbformat_minor": 0,
  "metadata": {
    "colab": {
      "provenance": [],
      "include_colab_link": true
    },
    "kernelspec": {
      "name": "python3",
      "display_name": "Python 3"
    },
    "language_info": {
      "name": "python"
    }
  },
  "cells": [
    {
      "cell_type": "markdown",
      "metadata": {
        "id": "view-in-github",
        "colab_type": "text"
      },
      "source": [
        "<a href=\"https://colab.research.google.com/github/darkwingpatil/Ml_hackethons/blob/main/Langchain_Router_Updated.ipynb\" target=\"_parent\"><img src=\"https://colab.research.google.com/assets/colab-badge.svg\" alt=\"Open In Colab\"/></a>"
      ]
    },
    {
      "cell_type": "markdown",
      "source": [
        "## **LangChain 🦜🔗:  Routing**"
      ],
      "metadata": {
        "id": "MjhfGDRHt_in"
      }
    },
    {
      "cell_type": "markdown",
      "source": [
        "\n",
        "### **[Reference](https://python.langchain.com/docs/how_to/routing/)**"
      ],
      "metadata": {
        "id": "3VTu12UyxkhN"
      }
    },
    {
      "cell_type": "code",
      "execution_count": null,
      "metadata": {
        "collapsed": true,
        "id": "ow0D5JMrd_Ur"
      },
      "outputs": [],
      "source": [
        "!pip install openai\n",
        "!pip install langchain\n",
        "!pip install langchain-openai"
      ]
    },
    {
      "cell_type": "code",
      "source": [
        "import openai\n",
        "import os"
      ],
      "metadata": {
        "id": "ONj0t8WTfsBN"
      },
      "execution_count": null,
      "outputs": []
    },
    {
      "cell_type": "code",
      "source": [
        "f = open('/content/ts_openapi_key.txt')\n",
        "api_key = f.read()\n",
        "os.environ['OPENAI_API_KEY'] = api_key\n",
        "openai.api_key= os.getenv('OPENAI_API_KEY')"
      ],
      "metadata": {
        "id": "eK9KcnIbfuCF"
      },
      "execution_count": null,
      "outputs": []
    },
    {
      "cell_type": "code",
      "source": [
        "from langchain_openai import ChatOpenAI\n",
        "from langchain_core.prompts import PromptTemplate\n",
        "from langchain_core.prompts import ChatPromptTemplate\n",
        "from langchain_core.output_parsers import StrOutputParser"
      ],
      "metadata": {
        "id": "-AYTyQDpQxXE"
      },
      "execution_count": null,
      "outputs": []
    },
    {
      "cell_type": "code",
      "source": [
        "llm_model = \"gpt-4o-mini\" # This is a chat model\n",
        "llm = ChatOpenAI(temperature=0, model=llm_model)"
      ],
      "metadata": {
        "id": "HQ4GJ5CPQt3Q"
      },
      "execution_count": null,
      "outputs": []
    },
    {
      "cell_type": "code",
      "source": [
        "prompt_classify = PromptTemplate.from_template(\"\"\"Given the user question below, classify it as either being about\n",
        " `Physics`, `Math`, `Computer Science`.Do not respond with more than one word.\n",
        " <question> {question} </question> Classification:\"\"\")\n"
      ],
      "metadata": {
        "id": "w4HVAufXR_TV"
      },
      "execution_count": null,
      "outputs": []
    },
    {
      "cell_type": "code",
      "source": [
        "prompt_classify"
      ],
      "metadata": {
        "id": "HntYnRVefdA2",
        "colab": {
          "base_uri": "https://localhost:8080/"
        },
        "outputId": "c4420760-44ea-41a4-a336-3ce8a8c4e2b5"
      },
      "execution_count": null,
      "outputs": [
        {
          "output_type": "execute_result",
          "data": {
            "text/plain": [
              "PromptTemplate(input_variables=['question'], input_types={}, partial_variables={}, template='Given the user question below, classify it as either being about\\n `Physics`, `Math`, `Computer Science`.Do not respond with more than one word.\\n <question> {question} </question> Classification:')"
            ]
          },
          "metadata": {},
          "execution_count": 7
        }
      ]
    },
    {
      "cell_type": "code",
      "source": [
        "chain = prompt_classify  | llm | StrOutputParser()"
      ],
      "metadata": {
        "collapsed": true,
        "id": "p_gSga7TS0ob"
      },
      "execution_count": null,
      "outputs": []
    },
    {
      "cell_type": "code",
      "source": [
        "chain.invoke({\"question\":\"What's a programming language?\"})"
      ],
      "metadata": {
        "collapsed": true,
        "id": "wJvqe-T7tkYq",
        "colab": {
          "base_uri": "https://localhost:8080/",
          "height": 36
        },
        "outputId": "9659dba7-7f2e-4bbd-8d75-9536d44282db"
      },
      "execution_count": null,
      "outputs": [
        {
          "output_type": "execute_result",
          "data": {
            "text/plain": [
              "'Computer Science'"
            ],
            "application/vnd.google.colaboratory.intrinsic+json": {
              "type": "string"
            }
          },
          "metadata": {},
          "execution_count": 9
        }
      ]
    },
    {
      "cell_type": "code",
      "source": [
        "physics_template = \"\"\"You are a very smart physics professor. \\\n",
        "You are great at answering questions about physics in a concise\\\n",
        "and easy to understand manner. \\\n",
        "When you don't know the answer to a question you admit\\\n",
        "that you don't know.\n",
        "\n",
        "Here is a question:\n",
        "{question}\n",
        "Start your answer with `Subject:Physics :`\n",
        "\"\"\"\n",
        "physics_prompt=ChatPromptTemplate.from_template(physics_template) # ChatPromptTemplate , PromptTemplate\n",
        "physics_chain = physics_prompt | llm | StrOutputParser()"
      ],
      "metadata": {
        "id": "PSHQ2YXGo9S5"
      },
      "execution_count": null,
      "outputs": []
    },
    {
      "cell_type": "code",
      "source": [
        "math_template = \"\"\"You are a very good mathematician. \\\n",
        "You are great at answering math questions. \\\n",
        "You are so good because you are able to break down \\\n",
        "hard problems into their component parts,\n",
        "answer the component parts, and then put them together\\\n",
        "to answer the broader question.\n",
        "\n",
        "Here is a question:\n",
        "{question}\n",
        "Start your answer with `Subject:Math :`\n",
        "\"\"\"\n",
        "math_prompt=ChatPromptTemplate.from_template(math_template)\n",
        "math_chain = math_prompt | llm | StrOutputParser()"
      ],
      "metadata": {
        "id": "G5NIcMcFprGv"
      },
      "execution_count": null,
      "outputs": []
    },
    {
      "cell_type": "code",
      "source": [
        "computerscience_template = \"\"\" You are a successful computer scientist.\\\n",
        "You have a passion for creativity, collaboration,\\\n",
        "forward-thinking, confidence, strong problem-solving capabilities,\\\n",
        "understanding of theories and algorithms, and excellent communication \\\n",
        "skills. You are great at answering coding questions. \\\n",
        "You are so good because you know how to solve a problem by \\\n",
        "describing the solution in imperative steps \\\n",
        "that a machine can easily interpret and you know how to \\\n",
        "choose a solution that has a good balance between \\\n",
        "time complexity and space complexity.\n",
        "\n",
        "Here is a question:\n",
        "{question}\n",
        "Start your answer with `Subject:Computer Science :`\n",
        "\"\"\"\n",
        "\n",
        "computer_science_prompt=ChatPromptTemplate.from_template(computerscience_template)\n",
        "computer_science_chain = computer_science_prompt | llm | StrOutputParser()"
      ],
      "metadata": {
        "id": "86AoFDSTup-J"
      },
      "execution_count": null,
      "outputs": []
    },
    {
      "cell_type": "code",
      "source": [
        "general_prompt=ChatPromptTemplate.from_template(\n",
        "    \"\"\"Respond to the following question:\n",
        "\n",
        "Question: {question}\n",
        "Start your answer with `Subject:General :`\"\"\"\n",
        "\n",
        ")\n",
        "general_chain = general_prompt | llm | StrOutputParser()"
      ],
      "metadata": {
        "id": "7hTH8iE1p1Jx"
      },
      "execution_count": null,
      "outputs": []
    },
    {
      "cell_type": "code",
      "source": [
        "def route(info):\n",
        "    if \"physics\" in info[\"topic\"].lower():\n",
        "        return physics_chain\n",
        "    elif \"math\" in info[\"topic\"].lower():\n",
        "        return math_chain\n",
        "    elif \"computer science\" in info[\"topic\"].lower():\n",
        "        return computer_science_chain\n",
        "    else:\n",
        "        return general_chain"
      ],
      "metadata": {
        "id": "fh1nAHozq0IX"
      },
      "execution_count": null,
      "outputs": []
    },
    {
      "cell_type": "code",
      "source": [
        "from langchain_core.runnables import RunnableLambda\n",
        "\n",
        "full_chain = {\"topic\": chain, \"question\": lambda x: x[\"question\"]} | RunnableLambda(route)\n",
        "full_chain"
      ],
      "metadata": {
        "id": "RaZF5wa0rXos",
        "colab": {
          "base_uri": "https://localhost:8080/"
        },
        "outputId": "cfdf95fd-225a-4236-9d24-68e0f0ab46ae"
      },
      "execution_count": null,
      "outputs": [
        {
          "output_type": "execute_result",
          "data": {
            "text/plain": [
              "{\n",
              "  topic: PromptTemplate(input_variables=['question'], input_types={}, partial_variables={}, template='Given the user question below, classify it as either being about\\n `Physics`, `Math`, `Computer Science`.Do not respond with more than one word.\\n <question> {question} </question> Classification:')\n",
              "         | ChatOpenAI(client=<openai.resources.chat.completions.Completions object at 0x7d89faffd390>, async_client=<openai.resources.chat.completions.AsyncCompletions object at 0x7d89faf8dd50>, root_client=<openai.OpenAI object at 0x7d89faffcbb0>, root_async_client=<openai.AsyncOpenAI object at 0x7d89faffd360>, model_name='gpt-4o-mini', temperature=0.0, model_kwargs={}, openai_api_key=SecretStr('**********'))\n",
              "         | StrOutputParser(),\n",
              "  question: RunnableLambda(lambda x: x['question'])\n",
              "}\n",
              "| RunnableLambda(route)"
            ]
          },
          "metadata": {},
          "execution_count": 15
        }
      ]
    },
    {
      "cell_type": "code",
      "source": [
        "full_chain.invoke({\"question\":\"What is black body radiation?\"})"
      ],
      "metadata": {
        "id": "gFqN8GDmrb88",
        "colab": {
          "base_uri": "https://localhost:8080/",
          "height": 88
        },
        "outputId": "378e5167-593a-4d88-be54-925783557a97"
      },
      "execution_count": null,
      "outputs": [
        {
          "output_type": "execute_result",
          "data": {
            "text/plain": [
              "'Subject: Physics: \\n\\nBlack body radiation refers to the electromagnetic radiation emitted by an idealized object known as a \"black body,\" which absorbs all incident radiation, regardless of frequency or angle. When a black body is in thermal equilibrium, it emits radiation in a characteristic spectrum that depends solely on its temperature, described by Planck\\'s law. \\n\\nAs the temperature of the black body increases, the peak wavelength of the emitted radiation shifts to shorter wavelengths, a phenomenon described by Wien\\'s displacement law. This concept is fundamental in understanding thermal radiation and has significant implications in various fields, including astrophysics and quantum mechanics.'"
            ],
            "application/vnd.google.colaboratory.intrinsic+json": {
              "type": "string"
            }
          },
          "metadata": {},
          "execution_count": 16
        }
      ]
    },
    {
      "cell_type": "code",
      "source": [
        "full_chain.invoke({\"question\":\"What's a programming language?\"})"
      ],
      "metadata": {
        "id": "E4mGH__8r5M3",
        "colab": {
          "base_uri": "https://localhost:8080/",
          "height": 123
        },
        "outputId": "9804cf7f-8b59-450b-b120-89bf6c83078a"
      },
      "execution_count": null,
      "outputs": [
        {
          "output_type": "execute_result",
          "data": {
            "text/plain": [
              "'Subject:Computer Science : \\n\\nA programming language is a formal set of instructions that can be used to produce various kinds of output, including software applications, algorithms, and data processing. It serves as a medium for humans to communicate with computers, allowing us to write code that the machine can interpret and execute.\\n\\nProgramming languages consist of syntax (rules for structure) and semantics (meaning of the statements). They can be categorized into high-level languages, which are more abstract and closer to human languages (like Python, Java, and C#), and low-level languages, which are closer to machine code (like Assembly and C).\\n\\nKey characteristics of programming languages include:\\n\\n1. **Syntax**: The set of rules that defines the combinations of symbols that are considered to be correctly structured programs.\\n2. **Semantics**: The meaning of the syntactic elements and how they are interpreted by the machine.\\n3. **Paradigms**: Different programming styles, such as procedural, object-oriented, functional, and declarative programming, which influence how problems are approached and solved.\\n4. **Abstraction**: The ability to hide complex implementation details and expose only the necessary parts to the programmer, making it easier to develop and maintain software.\\n\\nIn summary, programming languages are essential tools for software development, enabling programmers to create efficient, reliable, and maintainable code to solve complex problems.'"
            ],
            "application/vnd.google.colaboratory.intrinsic+json": {
              "type": "string"
            }
          },
          "metadata": {},
          "execution_count": 17
        }
      ]
    },
    {
      "cell_type": "code",
      "source": [
        "full_chain.invoke({\"question\":\"What's 1+1\"})"
      ],
      "metadata": {
        "id": "jsSERmUHsn5F",
        "colab": {
          "base_uri": "https://localhost:8080/",
          "height": 70
        },
        "outputId": "42a80cdc-bead-4456-99fe-78397392e82c"
      },
      "execution_count": null,
      "outputs": [
        {
          "output_type": "execute_result",
          "data": {
            "text/plain": [
              "'Subject:Math :  \\nTo solve the problem 1 + 1, we can break it down into its component parts:\\n\\n1. Identify the numbers involved: We have the number 1 and another number 1.\\n2. Understand the operation: The operation we are performing is addition, which combines the values of the numbers.\\n\\nNow, we can add the two numbers together:\\n1 + 1 = 2\\n\\nTherefore, the answer to the question is 2.'"
            ],
            "application/vnd.google.colaboratory.intrinsic+json": {
              "type": "string"
            }
          },
          "metadata": {},
          "execution_count": 18
        }
      ]
    },
    {
      "cell_type": "code",
      "source": [
        "full_chain.invoke({\"question\":\"What's a path integral?\"}) #"
      ],
      "metadata": {
        "id": "RPn5Cznus4L0",
        "colab": {
          "base_uri": "https://localhost:8080/",
          "height": 122
        },
        "outputId": "ec9c5f8d-4ae0-43e1-c88a-30c12a5ef263"
      },
      "execution_count": null,
      "outputs": [
        {
          "output_type": "execute_result",
          "data": {
            "text/plain": [
              "'Subject: Physics : \\n\\nA path integral is a formulation of quantum mechanics that sums over all possible paths a particle can take between two points. Instead of considering a single trajectory, the path integral approach, developed by Richard Feynman, involves calculating the contribution of every conceivable path, each weighted by a factor related to the action (a quantity that encapsulates the dynamics of the system). \\n\\nMathematically, the path integral is expressed as an integral over all paths, and it provides a powerful way to compute quantum amplitudes. This method is particularly useful in quantum field theory and has applications in various areas of physics, including statistical mechanics and string theory. The concept emphasizes the probabilistic nature of quantum mechanics and highlights the idea that particles do not follow a single, well-defined path but rather explore all possible routes.'"
            ],
            "application/vnd.google.colaboratory.intrinsic+json": {
              "type": "string"
            }
          },
          "metadata": {},
          "execution_count": 19
        }
      ]
    },
    {
      "cell_type": "code",
      "source": [
        "full_chain.invoke({\"question\":\"tell me 2 facts about Taj Mahal India?\"})"
      ],
      "metadata": {
        "id": "U6qTbZRCvo54",
        "colab": {
          "base_uri": "https://localhost:8080/",
          "height": 88
        },
        "outputId": "8fbdd9b3-d88a-40f5-d414-d8445dacba7e"
      },
      "execution_count": null,
      "outputs": [
        {
          "output_type": "execute_result",
          "data": {
            "text/plain": [
              "'Subject:General :  \\n1. The Taj Mahal, located in Agra, India, was commissioned by Mughal Emperor Shah Jahan in memory of his beloved wife Mumtaz Mahal, who died during childbirth. Construction began in 1632 and was completed in 1653, making it a symbol of love and devotion.  \\n\\n2. The Taj Mahal is renowned for its stunning white marble architecture, which reflects different hues throughout the day, creating a mesmerizing visual effect. It is also a UNESCO World Heritage Site and attracts millions of visitors each year, making it one of the most famous landmarks in the world.'"
            ],
            "application/vnd.google.colaboratory.intrinsic+json": {
              "type": "string"
            }
          },
          "metadata": {},
          "execution_count": 20
        }
      ]
    }
  ]
}