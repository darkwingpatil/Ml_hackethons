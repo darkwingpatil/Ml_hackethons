{
  "nbformat": 4,
  "nbformat_minor": 0,
  "metadata": {
    "colab": {
      "provenance": [],
      "collapsed_sections": [
        "ioUZ8pJa9--n",
        "gXGRHmvSJWRd"
      ],
      "include_colab_link": true
    },
    "kernelspec": {
      "name": "python3",
      "display_name": "Python 3"
    }
  },
  "cells": [
    {
      "cell_type": "markdown",
      "metadata": {
        "id": "view-in-github",
        "colab_type": "text"
      },
      "source": [
        "<a href=\"https://colab.research.google.com/github/darkwingpatil/Ml_hackethons/blob/main/Hackethon_U2_MH1_AuthorIdentification.ipynb\" target=\"_parent\"><img src=\"https://colab.research.google.com/assets/colab-badge.svg\" alt=\"Open In Colab\"/></a>"
      ]
    },
    {
      "cell_type": "markdown",
      "metadata": {
        "id": "74lzxaiQ9-9s"
      },
      "source": [
        "\n",
        "\n",
        "\n",
        "# Advanced Certification in AIML\n",
        "## A Program by IIIT-H and TalentSprint"
      ]
    },
    {
      "cell_type": "markdown",
      "metadata": {
        "id": "O4mJKZzgrMLp"
      },
      "source": [
        "## Problem Statement"
      ]
    },
    {
      "cell_type": "markdown",
      "metadata": {
        "id": "kiWKLfqkrOB6"
      },
      "source": [
        "The problem is to identify the author of a  book from a given list of possible authors."
      ]
    },
    {
      "cell_type": "markdown",
      "metadata": {
        "id": "6ElufS5-9-99"
      },
      "source": [
        "## Learning Objectives"
      ]
    },
    {
      "cell_type": "markdown",
      "metadata": {
        "id": "dCHP0foL9--C"
      },
      "source": [
        "At the end of the experiment, you will be able to:\n",
        "\n",
        "* Use NLTK package\n",
        "* Extract handcrafted features\n",
        "* Preprocess the text\n",
        "* Write an algorithm to identify the author of a given book\n"
      ]
    },
    {
      "cell_type": "code",
      "metadata": {
        "id": "nYG9AXM_oe--",
        "cellView": "form"
      },
      "source": [
        "#@title  Mini Hackathon Walkthrough\n",
        "from IPython.display import HTML\n",
        "\n",
        "HTML(\"\"\"<video width=\"854\" height=\"480\" controls>\n",
        "  <source src=\"https://cdn.iiith.talentsprint.com/aiml/Experiment_related_data/Walkthrough/authoridentification.mp4\" type=\"video/mp4\">\n",
        "</video>\n",
        "\"\"\")"
      ],
      "execution_count": null,
      "outputs": []
    },
    {
      "cell_type": "markdown",
      "metadata": {
        "id": "FCz5oobSruGF"
      },
      "source": [
        "## Background"
      ]
    },
    {
      "cell_type": "markdown",
      "metadata": {
        "id": "hZWNTcd4oo-D"
      },
      "source": [
        "Author identification is the task of identifying the author of a given text. It can be considered as a typical classification problem, where a set of books with known authors are used for training. The aim is to automatically determine the corresponding author of an anonymous text."
      ]
    },
    {
      "cell_type": "markdown",
      "metadata": {
        "id": "1BQEA97zTlTa"
      },
      "source": [
        "## Grading = 10 Marks"
      ]
    },
    {
      "cell_type": "markdown",
      "metadata": {
        "id": "9fYwJv9T9--K"
      },
      "source": [
        "## Setup Steps"
      ]
    },
    {
      "cell_type": "code",
      "execution_count": 66,
      "metadata": {
        "colab": {
          "base_uri": "https://localhost:8080/"
        },
        "outputId": "fb59e89a-3297-4f20-9d4d-e416537352e8",
        "id": "CZBuwQH_fqzW"
      },
      "outputs": [
        {
          "output_type": "stream",
          "name": "stdout",
          "text": [
            "Setup completed successfully\n"
          ]
        }
      ],
      "source": [
        "#@title Run this cell to complete the setup for this Notebook\n",
        "\n",
        "from IPython import get_ipython\n",
        "ipython = get_ipython()\n",
        "\n",
        "notebook=\"U2_MH1_AuthorIdentification\" #name of the notebook\n",
        "Answer = \"This notebook is graded by mentors on the day of hackathon\"\n",
        "def setup():\n",
        "    ipython.magic(\"sx wget https://cdn.talentsprint.com/talentsprint1/archives/sc/aiml/experiment_related_data/AIML_DS_GOOGLENEWS-VECTORS-NEGATIVE-300_STD.rar\")\n",
        "    ipython.magic(\"sx unrar e /content/AIML_DS_GOOGLENEWS-VECTORS-NEGATIVE-300_STD.rar\")\n",
        "    print (\"Setup completed successfully\")\n",
        "    return\n",
        "\n",
        "setup()"
      ]
    },
    {
      "cell_type": "markdown",
      "metadata": {
        "id": "ioUZ8pJa9--n"
      },
      "source": [
        "### NOTE: You are allowed to use ML libraries such as Sklearn, NLTK, etc wherever applicable"
      ]
    },
    {
      "cell_type": "markdown",
      "metadata": {
        "id": "jR6_IRo7vTrs"
      },
      "source": [
        "### Downloading the required nltk Packages before moving ahead"
      ]
    },
    {
      "cell_type": "code",
      "metadata": {
        "id": "7BOKJN039--v",
        "colab": {
          "base_uri": "https://localhost:8080/"
        },
        "outputId": "7c718f03-be38-4912-9ed1-2715a7077634"
      },
      "source": [
        "import nltk\n",
        "nltk.download('gutenberg')\n",
        "nltk.download('punkt')\n",
        "nltk.download('stopwords')"
      ],
      "execution_count": 1,
      "outputs": [
        {
          "output_type": "stream",
          "name": "stderr",
          "text": [
            "[nltk_data] Downloading package gutenberg to /root/nltk_data...\n",
            "[nltk_data]   Unzipping corpora/gutenberg.zip.\n",
            "[nltk_data] Downloading package punkt to /root/nltk_data...\n",
            "[nltk_data]   Unzipping tokenizers/punkt.zip.\n",
            "[nltk_data] Downloading package stopwords to /root/nltk_data...\n",
            "[nltk_data]   Unzipping corpora/stopwords.zip.\n"
          ]
        },
        {
          "output_type": "execute_result",
          "data": {
            "text/plain": [
              "True"
            ]
          },
          "metadata": {},
          "execution_count": 1
        }
      ]
    },
    {
      "cell_type": "markdown",
      "metadata": {
        "id": "kp3h5QWhNsUv"
      },
      "source": [
        "## **Stage 1:** Dataset Preparation"
      ]
    },
    {
      "cell_type": "markdown",
      "metadata": {
        "id": "4bLZIvs3Ae70"
      },
      "source": [
        "### 1 Marks -> Ensure you appropriately split the multiple short stories for the below-mentioned authors, Which will be your training data.\n",
        "\n",
        "**1.** Before moving ahead choose two authors based on your team-number allocation: <br/>\n",
        "\n",
        "\n",
        "Team=1,5,9,13,17,21  &nbsp;&nbsp;&nbsp;&nbsp;&nbsp;&nbsp;&nbsp;&nbsp;&nbsp;&nbsp;    Author-A Vs Author-B <br />\n",
        "Team=2,6,10,14,18,22 &nbsp;&nbsp;&nbsp;&nbsp;&nbsp;&nbsp;&nbsp;&nbsp;         Author-B Vs Author-C <br />\n",
        "Team=3,7,11,15,19,23 &nbsp;&nbsp;&nbsp;&nbsp;&nbsp;&nbsp;&nbsp;&nbsp;         Author-C Vs Author-D <br />\n",
        "Team=4,8,12,16,20,24 &nbsp;&nbsp;&nbsp;&nbsp;&nbsp;&nbsp;&nbsp;&nbsp;           Author-D Vs Author-E <br />\n",
        "\n",
        "\n",
        "\n",
        "**2.** Link to the short stories collection of each author for your problem: <br />\n",
        "\n",
        "*   Author-A -> Rudyard Kipling   [Short Stories Collection](http://www.gutenberg.org/files/2781/2781-0.txt) &nbsp;&nbsp;\n",
        "*   Author-B -> Anton Chekhov [Short Stories Collection](http://www.gutenberg.org/files/1732/1732-0.txt) &nbsp;&nbsp;\n",
        "*   Author-C -> Guy De Maupassant [Short Stories Collection](http://www.gutenberg.org/cache/epub/21327/pg21327.txt)&nbsp;&nbsp;\n",
        "*   Author-D -> Mark Twain [Short Stories Collection](http://www.gutenberg.org/files/245/245-0.txt)&nbsp;&nbsp;\n",
        "*   Author-E -> Saki [Short Stories Collection](http://www.gutenberg.org/files/1477/1477-0.txt)&nbsp;&nbsp;\n",
        "\n",
        "**Hint for downloading raw text from Gutenberg :**  Refer to the section \"Electronic Books\" in the following  [link](https://www.nltk.org/book/ch03.html) for the instructions.\n",
        "\n",
        "\n",
        "\n",
        "**Hint for finding the index of a text:**   You may use `raw.find()` and `raw.rfind()` in the same [link](https://www.nltk.org/book/ch03.html) to find the appropriate index of the start and end location\n",
        "\n",
        "**Hint for splitting the multiple stories:** Split the stories using long space (white space character)\n",
        "\n",
        "**Note:** Ignore the table of contents section from the given stories"
      ]
    },
    {
      "cell_type": "code",
      "metadata": {
        "id": "PQ11fjLkoj8d",
        "colab": {
          "base_uri": "https://localhost:8080/"
        },
        "outputId": "e5a7c771-880e-450e-c66f-ab0554f7683e"
      },
      "source": [
        "# YOUR CODE HERE for downloading and splitting the multiple stories of respective authors which are allocated to you\n",
        "import pandas as pd\n",
        "import requests\n",
        "from urllib import request\n",
        "\n",
        "def getData(url):\n",
        "  response = request.urlopen(url)\n",
        "  return response\n",
        "\n",
        "auth_1= getData(\"https://www.gutenberg.org/files/2781/2781-0.txt\").read().decode('utf8')\n",
        "auth_2= getData(\"https://www.gutenberg.org/files/1732/1732-0.txt\").read().decode('utf8')\n",
        "\n",
        "def no_of_stories(auth,index):\n",
        "\n",
        "  extract= auth[index:2000].split('\\r\\n\\r\\n\\r\\n\\r\\n\\r\\n')\n",
        "\n",
        "  outi=extract[0].split('\\r\\n\\r\\n')\n",
        "  innerOuti= outi[1].split('\\n')\n",
        "  # print(outi)\n",
        "  return len(innerOuti)\n",
        "\n",
        "\n",
        "auth_1_stories=no_of_stories(auth_1,auth_1.index('CONTENTS'))\n",
        "\n",
        "auth_2_stories=no_of_stories(auth_2,auth_2.index('CONTENTS'))\n",
        "\n",
        "print(auth_1_stories,auth_2_stories)\n",
        "\n"
      ],
      "execution_count": 2,
      "outputs": [
        {
          "output_type": "stream",
          "name": "stdout",
          "text": [
            "12 21\n"
          ]
        }
      ]
    },
    {
      "cell_type": "code",
      "source": [
        "def get_stor_details(words):\n",
        "\n",
        "  data=words.split(\"\\r\\n\\r\\n\\r\\n\\r\\n\\r\\n\")\n",
        "  auth_stories_mapper={}\n",
        "  for sentence in data:\n",
        "    if(len(sentence) > 1000):\n",
        "      heading = sentence.split('\\n')\n",
        "      auth_stories_mapper[heading[0]]=sentence\n",
        "\n",
        "  return auth_stories_mapper\n",
        "\n",
        "\n",
        "auth_1_map= get_stor_details(auth_1)\n",
        "auth_2_map= get_stor_details(auth_2)\n",
        "\n"
      ],
      "metadata": {
        "id": "Om_4iHR8j_nL"
      },
      "execution_count": 3,
      "outputs": []
    },
    {
      "cell_type": "code",
      "source": [
        "from nltk.tokenize import word_tokenize, sent_tokenize\n",
        "from nltk.corpus import stopwords\n",
        "from collections import Counter\n",
        "import string\n",
        "from nltk import pos_tag\n",
        "stopwords = nltk.corpus.stopwords.words('english')\n",
        "\n",
        "def unique_words(words):\n",
        "  split_words = words.split(\" \")\n",
        "  unique_words = set(word.lower() for word in split_words if word not in stopwords and word.isalnum() )\n",
        "  return len(unique_words)\n",
        "\n",
        "def avg_sent_length(words):\n",
        "    sentences = sent_tokenize(words)\n",
        "    return sum(len(word_tokenize(sentence)) for sentence in sentences) / len(sentences)\n",
        "\n",
        "\n",
        "def lexical_richness(words):\n",
        "    return len(set(words)) / len(words)\n",
        "\n",
        "def avg_word_length(words):\n",
        "    return sum(len(word) for word in words) / len(words)\n",
        "\n",
        "def punctuation_density(text):\n",
        "    punctuation_count = sum(1 for char in text if char in string.punctuation)\n",
        "    word_count = len(word_tokenize(text))\n",
        "    return punctuation_count / word_count * 100\n",
        "\n",
        "\n",
        "\n"
      ],
      "metadata": {
        "id": "BxEPFqzNEUn9"
      },
      "execution_count": 4,
      "outputs": []
    },
    {
      "cell_type": "markdown",
      "metadata": {
        "id": "mIC7IE8lmFDA"
      },
      "source": [
        "## **Stage 2**: Experiment with Handcrafted features representation\n",
        "Extract Handcrafted features for the obtained short stories from **Stage-1**\n",
        "\n",
        "**Stylometry:**\n",
        "\n",
        "Each person has a unique vocabulary, sometimes rich, sometimes limited. Although a larger vocabulary is usually associated with literary quality, this is not always the case. Ernest Hemingway is famous for using a surprisingly small number of different words in his writing, which did not prevent him from winning the Nobel Prize for Literature in 1954.\n",
        "\n",
        "Some people write in short sentences, while others prefer long blocks of text consisting of many clauses. No two people use semicolons, em-dashes, and other forms of punctuation in the same way.\n",
        "\n",
        "\n",
        "\n",
        "\n",
        "**You may explore the following ways to analyze the text and generate handcrafted features by searching text in a probing way:**\n",
        "\n",
        "a)  Could the style of punctuation usage help as a handcrafted feature? Both by those who follow punctuations and by those who don't? Interesting [link](https://qwiklit.com/2014/03/05/top-10-authors-who-ignored-the-basic-rules-of-punctuation/)\n",
        "\n",
        "b) The same word can sometimes be used in different contexts repeatedly by different authors. Could this fact be converted as a handcrafted feature? [link](https://www.nltk.org/book/ch01.html)\n",
        "\n",
        "c) The above two are merely examples; As you might have noticed already the NLTK book [link](https://www.nltk.org/book/) offers several methods of analyzing and understanding the text. Each of these analyses is in itself capable of being a handcrafted feature. **However for your evaluation a minimal set of useful handcrafted features which is helping you prove a classification of an is sufficient**\n",
        "\n",
        "d) Could most common words be used to distinguish authors?  Refer \"Counting Vocabulary\" section of the [link](https://www.nltk.org/book/ch01.html)\n",
        "\n",
        "e) How about using a count of most frequently used bi-gram, tri-grams, and using it to classify an author?\n",
        "\n",
        "f) How about using the frequency histogram of the most frequently used words across the stories by a given author a useful feature?\n",
        "\n",
        "The limit here is endlessly limited only by your imagination, and of course your accuracy! :)\n"
      ]
    },
    {
      "cell_type": "markdown",
      "metadata": {
        "id": "ZmJX5Jl1CRKg"
      },
      "source": [
        "### 1 Marks ->  a) List 6 handcrafted features to distinguish author stories."
      ]
    },
    {
      "cell_type": "code",
      "metadata": {
        "id": "TUJlJdy_EGAP",
        "collapsed": true
      },
      "source": [
        "# For eg:\n",
        "# 1. UniqueWords\n",
        "# 2. AvgSentLength\n",
        "# List the other handcrafted features here\n",
        "\n",
        "def generate_dataFrame(auth1_mapper,author):\n",
        "  list_features=[]\n",
        "  for index,data in enumerate(auth1_mapper):\n",
        "    uniq_word= unique_words(auth1_mapper[data])\n",
        "    avg_sen= avg_sent_length(auth1_mapper[data])\n",
        "    lex_rich=lexical_richness(auth1_mapper[data])\n",
        "    avg_word_len=avg_word_length(auth1_mapper[data])\n",
        "    punctuation_dens=punctuation_density(auth1_mapper[data])\n",
        "\n",
        "    # print(data)\n",
        "    # print(uniq_word,'uniq_word')\n",
        "    # print(avg_sen,'avg_sen')\n",
        "    # print(lex_rich,\"lex_rich\")\n",
        "    # print(avg_word_len,\"avg_word_len\")\n",
        "    # print(punctuation_dens,\"punctuation_dens\")\n",
        "\n",
        "    data={\n",
        "        \"Stories_list\":index,\n",
        "        \"story\":auth1_mapper[data],\n",
        "        \"uniq_word\":uniq_word,\n",
        "        \"avg_sen\":avg_sen,\n",
        "        \"lex_rich\":lex_rich,\n",
        "        \"avg_word_len\":avg_word_len,\n",
        "        \"punctuation_dens\":punctuation_dens,\n",
        "        \"author\":author\n",
        "\n",
        "    }\n",
        "\n",
        "    list_features.append(data)\n",
        "  return list_features\n",
        "\n",
        "\n",
        "  # data={\n",
        "  #     \"Stories_list\"\n",
        "  # }\n",
        "\n",
        "\n"
      ],
      "execution_count": 5,
      "outputs": []
    },
    {
      "cell_type": "code",
      "source": [],
      "metadata": {
        "id": "EsTZ9AYXj-Ao"
      },
      "execution_count": null,
      "outputs": []
    },
    {
      "cell_type": "code",
      "source": [],
      "metadata": {
        "id": "gxbw6R3WETIx"
      },
      "execution_count": null,
      "outputs": []
    },
    {
      "cell_type": "markdown",
      "metadata": {
        "id": "E4Bynbq3C4o1"
      },
      "source": [
        "###  2 Marks -> b) Write functions for any 4 of the above 6 handcrafted features and label your authors accordingly.\n",
        "\n",
        "- Get any 4 hand crafted features from the above listed 6 hand-crafted features for every story obtained from **stage-1**.\n",
        "- Identify your target variable as an author and label them accordingly."
      ]
    },
    {
      "cell_type": "code",
      "metadata": {
        "id": "xwA5nx2IEAhN",
        "colab": {
          "base_uri": "https://localhost:8080/"
        },
        "outputId": "1702bd83-956c-4ae2-f6f6-aad780494474"
      },
      "source": [
        "# Stories_list    UniqueWords    AvgSentLength     Label\n",
        "#     1               x1               x2            y\n",
        "\n",
        "# YOUR CODE HERE\n",
        "auth1_list=generate_dataFrame(auth_1_map,1)\n",
        "auth2_list=generate_dataFrame(auth_2_map,2)\n",
        "\n",
        "df_auth_1 =pd.DataFrame(auth1_list)\n",
        "df_auth_2 = pd.DataFrame(auth2_list)\n",
        "\n",
        "\n",
        "df = pd.concat([df_auth_1, df_auth_2], ignore_index=True)\n",
        "\n",
        "print(df.tail())"
      ],
      "execution_count": 6,
      "outputs": [
        {
          "output_type": "stream",
          "name": "stdout",
          "text": [
            "    Stories_list                                              story  \\\n",
            "29            16  PANIC FEARS\\r\\n\\r\\nDURING all the years I have...   \n",
            "30            17  THE BET\\r\\n\\r\\nIT WAS a dark autumn night. The...   \n",
            "31            18  THE HEAD-GARDENER’S STORY\\r\\n\\r\\nA SALE of flo...   \n",
            "32            19  THE BEAUTIES\\r\\n\\r\\nI\\r\\n\\r\\nI REMEMBER, when ...   \n",
            "33            20  THE SHOEMAKER AND THE DEVIL\\r\\n\\r\\nIT was Chri...   \n",
            "\n",
            "    uniq_word    avg_sen  lex_rich  avg_word_len  punctuation_dens  author  \n",
            "29        459  22.260504  0.004917           1.0         13.590034       2  \n",
            "30        559  23.970803  0.004255           1.0         12.302071       2  \n",
            "31        438  27.329268  0.005507           1.0         12.628291       2  \n",
            "32        625  38.099010  0.003160           1.0         13.799376       2  \n",
            "33        499  24.174242  0.004114           1.0         13.851457       2  \n"
          ]
        }
      ]
    },
    {
      "cell_type": "markdown",
      "metadata": {
        "id": "QiJOpSJ0yJod"
      },
      "source": [
        "##**Stage 3:** Experiment with Text processing and representation:\n",
        "Extract features using TFIDF or CountVectorizer or Word2vec for the obtained short stories from **Stage-1**\n",
        "\n"
      ]
    },
    {
      "cell_type": "markdown",
      "metadata": {
        "id": "ecMmcZfm_Eek"
      },
      "source": [
        "### 1 Mark -> a) Performing basic cleanup operations such as removing the newline characters and removing trailing spaces\n",
        "\n",
        "**For example,** Your sentence looks as follows \\[' This is a sentence\\n\\r. Another sentence \\n'].\n",
        "\n",
        "After newline removal from the above example, your sentence will look like \\['This is a sentence. Another sentence'].\n",
        "\n",
        " In order to do this, you can try using a combination of split() and join()"
      ]
    },
    {
      "cell_type": "code",
      "metadata": {
        "id": "vw2DhQGK_Eel",
        "collapsed": true
      },
      "source": [
        "# YOUR CODE HERE\n",
        "\n",
        "df['story'] = df['story'].apply(lambda x: x.replace('\\n','').replace('\\r',''))\n",
        "\n"
      ],
      "execution_count": 7,
      "outputs": []
    },
    {
      "cell_type": "code",
      "source": [
        "pip install gensim\n"
      ],
      "metadata": {
        "colab": {
          "base_uri": "https://localhost:8080/"
        },
        "id": "gvbmAnfwMrYV",
        "outputId": "77cff8bc-4e1f-4d75-dfa3-1200be2b35a2"
      },
      "execution_count": 67,
      "outputs": [
        {
          "output_type": "stream",
          "name": "stdout",
          "text": [
            "Requirement already satisfied: gensim in /usr/local/lib/python3.10/dist-packages (4.3.2)\n",
            "Requirement already satisfied: numpy>=1.18.5 in /usr/local/lib/python3.10/dist-packages (from gensim) (1.25.2)\n",
            "Requirement already satisfied: scipy>=1.7.0 in /usr/local/lib/python3.10/dist-packages (from gensim) (1.11.4)\n",
            "Requirement already satisfied: smart-open>=1.8.1 in /usr/local/lib/python3.10/dist-packages (from gensim) (7.0.4)\n",
            "Requirement already satisfied: wrapt in /usr/local/lib/python3.10/dist-packages (from smart-open>=1.8.1->gensim) (1.14.1)\n"
          ]
        }
      ]
    },
    {
      "cell_type": "code",
      "source": [
        "wget -c \"https://s3.amazonaws.com/dl4j-distribution/GoogleNews-vectors-negative300.bin.gz\""
      ],
      "metadata": {
        "colab": {
          "base_uri": "https://localhost:8080/",
          "height": 110
        },
        "id": "MbuxzlKuNaKk",
        "outputId": "32441dc7-a2cf-4657-f2f8-8e1997717bde"
      },
      "execution_count": 65,
      "outputs": [
        {
          "output_type": "error",
          "ename": "SyntaxError",
          "evalue": "invalid syntax (<ipython-input-65-46bc1ba01cfd>, line 1)",
          "traceback": [
            "\u001b[0;36m  File \u001b[0;32m\"<ipython-input-65-46bc1ba01cfd>\"\u001b[0;36m, line \u001b[0;32m1\u001b[0m\n\u001b[0;31m    wget -c \"https://s3.amazonaws.com/dl4j-distribution/GoogleNews-vectors-negative300.bin.gz\"\u001b[0m\n\u001b[0m            ^\u001b[0m\n\u001b[0;31mSyntaxError\u001b[0m\u001b[0;31m:\u001b[0m invalid syntax\n"
          ]
        }
      ]
    },
    {
      "cell_type": "markdown",
      "metadata": {
        "id": "Z64gLpY2_Ee1"
      },
      "source": [
        "###  2 Marks-> b) Generate vectors for the given stories"
      ]
    },
    {
      "cell_type": "markdown",
      "metadata": {
        "id": "rbkfSFT2xXJY"
      },
      "source": [
        "Create a representation of text, convert it into vectors (numbers)\n",
        "\n",
        "\n",
        "**Use any one** of the following algorithms for this task :\n",
        "\n",
        "* Countvectorizer or\n",
        "* TFIDFVectorizer or\n",
        "* Word2Vec (The word2vec bin file (AIML_DS_GOOGLENEWS-VECTORS-NEGATIVE-300_STD) can be downloaded as a part of setup  )\n",
        "  * perform sentence level tokenization and word level tokenization for the given stories\n",
        "\n",
        "    **Example of sentences as list of words:**<br/>\n",
        "    **Before:** ['This is a sentence .' , ' Another sentence']<br/>\n",
        "    **After:** ['This', 'is' ,'a', 'sentence' , ' . ' , ' Another ', ' sentence ' ]\n",
        " * Assign the respective label associated for each vector representation of the extracted word\n",
        "\n",
        "References Documents:\n",
        "\n",
        "1.   [Countvectorizer](https://scikit-learn.org/stable/modules/generated/sklearn.feature_extraction.text.CountVectorizer.html)\n",
        "2.  [TFIDFVectorizer](https://scikit-learn.org/stable/modules/generated/sklearn.feature_extraction.text.TfidfVectorizer.html)\n"
      ]
    },
    {
      "cell_type": "code",
      "metadata": {
        "id": "Kyk9-3BRhCf-",
        "colab": {
          "base_uri": "https://localhost:8080/"
        },
        "collapsed": true,
        "outputId": "f2b645e3-7aaa-4315-c1d1-29303ec76faa"
      },
      "source": [
        "# YOUR CODE HERE (HINT: Convert to numpy array if needed)\n",
        "#  countVectorizer\n",
        "import numpy as np\n",
        "import gensim\n",
        "from sklearn.feature_extraction.text import CountVectorizer, TfidfVectorizer\n",
        "from scipy.sparse import csr_matrix\n",
        "\n",
        "count_vectorizor = CountVectorizer(binary=True,ngram_range=(2,3))\n",
        "model = gensim.models.KeyedVectors.load_word2vec_format('AIML_DS_GOOGLENEWS-VECTORS-NEGATIVE-300_STD.bin', binary=True,limit=500000)\n",
        "\n",
        "word_vector = model['king']\n",
        "print(word_vector)\n",
        "tfidf_vectorizor = TfidfVectorizer()\n",
        "\n",
        "stories_count_vectorized = count_vectorizor.fit_transform(df['story'])\n",
        "\n",
        "stories_tfdif_vectorized = tfidf_vectorizor.fit_transform(df['story'])\n"
      ],
      "execution_count": 69,
      "outputs": [
        {
          "output_type": "stream",
          "name": "stdout",
          "text": [
            "[ 1.25976562e-01  2.97851562e-02  8.60595703e-03  1.39648438e-01\n",
            " -2.56347656e-02 -3.61328125e-02  1.11816406e-01 -1.98242188e-01\n",
            "  5.12695312e-02  3.63281250e-01 -2.42187500e-01 -3.02734375e-01\n",
            " -1.77734375e-01 -2.49023438e-02 -1.67968750e-01 -1.69921875e-01\n",
            "  3.46679688e-02  5.21850586e-03  4.63867188e-02  1.28906250e-01\n",
            "  1.36718750e-01  1.12792969e-01  5.95703125e-02  1.36718750e-01\n",
            "  1.01074219e-01 -1.76757812e-01 -2.51953125e-01  5.98144531e-02\n",
            "  3.41796875e-01 -3.11279297e-02  1.04492188e-01  6.17675781e-02\n",
            "  1.24511719e-01  4.00390625e-01 -3.22265625e-01  8.39843750e-02\n",
            "  3.90625000e-02  5.85937500e-03  7.03125000e-02  1.72851562e-01\n",
            "  1.38671875e-01 -2.31445312e-01  2.83203125e-01  1.42578125e-01\n",
            "  3.41796875e-01 -2.39257812e-02 -1.09863281e-01  3.32031250e-02\n",
            " -5.46875000e-02  1.53198242e-02 -1.62109375e-01  1.58203125e-01\n",
            " -2.59765625e-01  2.01416016e-02 -1.63085938e-01  1.35803223e-03\n",
            " -1.44531250e-01 -5.68847656e-02  4.29687500e-02 -2.46582031e-02\n",
            "  1.85546875e-01  4.47265625e-01  9.58251953e-03  1.31835938e-01\n",
            "  9.86328125e-02 -1.85546875e-01 -1.00097656e-01 -1.33789062e-01\n",
            " -1.25000000e-01  2.83203125e-01  1.23046875e-01  5.32226562e-02\n",
            " -1.77734375e-01  8.59375000e-02 -2.18505859e-02  2.05078125e-02\n",
            " -1.39648438e-01  2.51464844e-02  1.38671875e-01 -1.05468750e-01\n",
            "  1.38671875e-01  8.88671875e-02 -7.51953125e-02 -2.13623047e-02\n",
            "  1.72851562e-01  4.63867188e-02 -2.65625000e-01  8.91113281e-03\n",
            "  1.49414062e-01  3.78417969e-02  2.38281250e-01 -1.24511719e-01\n",
            " -2.17773438e-01 -1.81640625e-01  2.97851562e-02  5.71289062e-02\n",
            " -2.89306641e-02  1.24511719e-02  9.66796875e-02 -2.31445312e-01\n",
            "  5.81054688e-02  6.68945312e-02  7.08007812e-02 -3.08593750e-01\n",
            " -2.14843750e-01  1.45507812e-01 -4.27734375e-01 -9.39941406e-03\n",
            "  1.54296875e-01 -7.66601562e-02  2.89062500e-01  2.77343750e-01\n",
            " -4.86373901e-04 -1.36718750e-01  3.24218750e-01 -2.46093750e-01\n",
            " -3.03649902e-03 -2.11914062e-01  1.25000000e-01  2.69531250e-01\n",
            "  2.04101562e-01  8.25195312e-02 -2.01171875e-01 -1.60156250e-01\n",
            " -3.78417969e-02 -1.20117188e-01  1.15234375e-01 -4.10156250e-02\n",
            " -3.95507812e-02 -8.98437500e-02  6.34765625e-03  2.03125000e-01\n",
            "  1.86523438e-01  2.73437500e-01  6.29882812e-02  1.41601562e-01\n",
            " -9.81445312e-02  1.38671875e-01  1.82617188e-01  1.73828125e-01\n",
            "  1.73828125e-01 -2.37304688e-01  1.78710938e-01  6.34765625e-02\n",
            "  2.36328125e-01 -2.08984375e-01  8.74023438e-02 -1.66015625e-01\n",
            " -7.91015625e-02  2.43164062e-01 -8.88671875e-02  1.26953125e-01\n",
            " -2.16796875e-01 -1.73828125e-01 -3.59375000e-01 -8.25195312e-02\n",
            " -6.49414062e-02  5.07812500e-02  1.35742188e-01 -7.47070312e-02\n",
            " -1.64062500e-01  1.15356445e-02  4.45312500e-01 -2.15820312e-01\n",
            " -1.11328125e-01 -1.92382812e-01  1.70898438e-01 -1.25000000e-01\n",
            "  2.65502930e-03  1.92382812e-01 -1.74804688e-01  1.39648438e-01\n",
            "  2.92968750e-01  1.13281250e-01  5.95703125e-02 -6.39648438e-02\n",
            "  9.96093750e-02 -2.72216797e-02  1.96533203e-02  4.27246094e-02\n",
            " -2.46093750e-01  6.39648438e-02 -2.25585938e-01 -1.68945312e-01\n",
            "  2.89916992e-03  8.20312500e-02  3.41796875e-01  4.32128906e-02\n",
            "  1.32812500e-01  1.42578125e-01  7.61718750e-02  5.98144531e-02\n",
            " -1.19140625e-01  2.74658203e-03 -6.29882812e-02 -2.72216797e-02\n",
            " -4.82177734e-03 -8.20312500e-02 -2.49023438e-02 -4.00390625e-01\n",
            " -1.06933594e-01  4.24804688e-02  7.76367188e-02 -1.16699219e-01\n",
            "  7.37304688e-02 -9.22851562e-02  1.07910156e-01  1.58203125e-01\n",
            "  4.24804688e-02  1.26953125e-01  3.61328125e-02  2.67578125e-01\n",
            " -1.01074219e-01 -3.02734375e-01 -5.76171875e-02  5.05371094e-02\n",
            "  5.26428223e-04 -2.07031250e-01 -1.38671875e-01 -8.97216797e-03\n",
            " -2.78320312e-02 -1.41601562e-01  2.07031250e-01 -1.58203125e-01\n",
            "  1.27929688e-01  1.49414062e-01 -2.24609375e-02 -8.44726562e-02\n",
            "  1.22558594e-01  2.15820312e-01 -2.13867188e-01 -3.12500000e-01\n",
            " -3.73046875e-01  4.08935547e-03  1.07421875e-01  1.06933594e-01\n",
            "  7.32421875e-02  8.97216797e-03 -3.88183594e-02 -1.29882812e-01\n",
            "  1.49414062e-01 -2.14843750e-01 -1.83868408e-03  9.91210938e-02\n",
            "  1.57226562e-01 -1.14257812e-01 -2.05078125e-01  9.91210938e-02\n",
            "  3.69140625e-01 -1.97265625e-01  3.54003906e-02  1.09375000e-01\n",
            "  1.31835938e-01  1.66992188e-01  2.35351562e-01  1.04980469e-01\n",
            " -4.96093750e-01 -1.64062500e-01 -1.56250000e-01 -5.22460938e-02\n",
            "  1.03027344e-01  2.43164062e-01 -1.88476562e-01  5.07812500e-02\n",
            " -9.37500000e-02 -6.68945312e-02  2.27050781e-02  7.61718750e-02\n",
            "  2.89062500e-01  3.10546875e-01 -5.37109375e-02  2.28515625e-01\n",
            "  2.51464844e-02  6.78710938e-02 -1.21093750e-01 -2.15820312e-01\n",
            " -2.73437500e-01 -3.07617188e-02 -3.37890625e-01  1.53320312e-01\n",
            "  2.33398438e-01 -2.08007812e-01  3.73046875e-01  8.20312500e-02\n",
            "  2.51953125e-01 -7.61718750e-02 -4.66308594e-02 -2.23388672e-02\n",
            "  2.99072266e-02 -5.93261719e-02 -4.66918945e-03 -2.44140625e-01\n",
            " -2.09960938e-01 -2.87109375e-01 -4.54101562e-02 -1.77734375e-01\n",
            " -2.79296875e-01 -8.59375000e-02  9.13085938e-02  2.51953125e-01]\n"
          ]
        }
      ]
    },
    {
      "cell_type": "code",
      "source": [
        "\n",
        "def gen_word2_vec():\n",
        "    word_2_vec1 = []\n",
        "    for story in df['story']:\n",
        "        words = story.split(\" \")\n",
        "        word_2_vec_word = []\n",
        "        for word in words:\n",
        "            try:\n",
        "                if word not in stopwords:\n",
        "                    word_rep = model[word]\n",
        "                    word_2_vec_word.append(word_rep)\n",
        "            except KeyError:\n",
        "                pass\n",
        "\n",
        "        if word_2_vec_word:\n",
        "            averaged_vec = np.mean(word_2_vec_word, axis=0)\n",
        "        else:\n",
        "            # Handle case where no valid words were found (empty story)\n",
        "            averaged_vec = np.zeros_like(word_rep)  # Assuming word_rep has a defined shape\n",
        "\n",
        "        word_2_vec1.append(averaged_vec)\n",
        "\n",
        "    return np.array(word_2_vec1)\n",
        "data=gen_word2_vec()\n",
        "\n"
      ],
      "metadata": {
        "id": "7_BOPEqRPvOJ"
      },
      "execution_count": 91,
      "outputs": []
    },
    {
      "cell_type": "code",
      "source": [],
      "metadata": {
        "id": "rqCOEyKgXPq2"
      },
      "execution_count": null,
      "outputs": []
    },
    {
      "cell_type": "code",
      "source": [
        "# print(df['story'][0])\n",
        "# list_of_story = [df['story'][0]]\n",
        "# outi=count_vectorizor.fit_transform(list_of_story)\n",
        "# out = np.array(outi)\n",
        "# out\n",
        "\n",
        "df['count_vectorizer']=list(stories_count_vectorized)\n",
        "df['tfdif_vectorized']=list(stories_tfdif_vectorized)\n",
        "df['word2vec']=data\n"
      ],
      "metadata": {
        "id": "14OYT3w7o4UE"
      },
      "execution_count": 92,
      "outputs": []
    },
    {
      "cell_type": "code",
      "source": [
        "df.head()\n"
      ],
      "metadata": {
        "colab": {
          "base_uri": "https://localhost:8080/",
          "height": 293
        },
        "id": "OqIP6E0bpMEK",
        "outputId": "362cf8be-2917-4611-d541-7c593ad86344"
      },
      "execution_count": 15,
      "outputs": [
        {
          "output_type": "execute_result",
          "data": {
            "text/plain": [
              "   Stories_list                                              story  uniq_word  \\\n",
              "0             0  HOW THE WHALE GOT HIS THROATIN the sea, once u...        192   \n",
              "1             1  HOW THE CAMEL GOT HIS HUMPNOW this is the next...        179   \n",
              "2             2  HOW THE RHINOCEROS GOT HIS SKINONCE upon a tim...        170   \n",
              "3             3  HOW THE LEOPARD GOT HIS SPOTSIN the days when ...        307   \n",
              "4             4  THE ELEPHANT’S CHILDIN the High and Far-Off Ti...        346   \n",
              "\n",
              "     avg_sen  lex_rich  avg_word_len  punctuation_dens  author  \\\n",
              "0  38.117647  0.009822           1.0         19.907407       1   \n",
              "1  38.250000  0.010769           1.0         16.412491       1   \n",
              "2  29.058824  0.012061           1.0         12.854251       1   \n",
              "3  29.010638  0.005278           1.0         15.474881       1   \n",
              "4  41.435897  0.004087           1.0         17.326733       1   \n",
              "\n",
              "                                    count_vectorizer  \\\n",
              "0    (0, 4677)\\t1\\n  (0, 9584)\\t1\\n  (0, 11138)\\t...   \n",
              "1    (0, 4677)\\t1\\n  (0, 9584)\\t1\\n  (0, 3992)\\t1...   \n",
              "2    (0, 4677)\\t1\\n  (0, 9584)\\t1\\n  (0, 3992)\\t1...   \n",
              "3    (0, 4677)\\t1\\n  (0, 9584)\\t1\\n  (0, 3992)\\t1...   \n",
              "4    (0, 4677)\\t1\\n  (0, 9584)\\t1\\n  (0, 3992)\\t1...   \n",
              "\n",
              "                                    tfdif_vectorized  \n",
              "0    (0, 7706)\\t0.015098332151410945\\n  (0, 4105)...  \n",
              "1    (0, 4644)\\t0.013271837295003289\\n  (0, 5578)...  \n",
              "2    (0, 1712)\\t0.012677139127541254\\n  (0, 5601)...  \n",
              "3    (0, 7617)\\t0.008799384335401006\\n  (0, 10224...  \n",
              "4    (0, 11257)\\t0.010104619084904782\\n  (0, 8388...  "
            ],
            "text/html": [
              "\n",
              "  <div id=\"df-a684b659-b743-490e-8692-730dba9df947\" class=\"colab-df-container\">\n",
              "    <div>\n",
              "<style scoped>\n",
              "    .dataframe tbody tr th:only-of-type {\n",
              "        vertical-align: middle;\n",
              "    }\n",
              "\n",
              "    .dataframe tbody tr th {\n",
              "        vertical-align: top;\n",
              "    }\n",
              "\n",
              "    .dataframe thead th {\n",
              "        text-align: right;\n",
              "    }\n",
              "</style>\n",
              "<table border=\"1\" class=\"dataframe\">\n",
              "  <thead>\n",
              "    <tr style=\"text-align: right;\">\n",
              "      <th></th>\n",
              "      <th>Stories_list</th>\n",
              "      <th>story</th>\n",
              "      <th>uniq_word</th>\n",
              "      <th>avg_sen</th>\n",
              "      <th>lex_rich</th>\n",
              "      <th>avg_word_len</th>\n",
              "      <th>punctuation_dens</th>\n",
              "      <th>author</th>\n",
              "      <th>count_vectorizer</th>\n",
              "      <th>tfdif_vectorized</th>\n",
              "    </tr>\n",
              "  </thead>\n",
              "  <tbody>\n",
              "    <tr>\n",
              "      <th>0</th>\n",
              "      <td>0</td>\n",
              "      <td>HOW THE WHALE GOT HIS THROATIN the sea, once u...</td>\n",
              "      <td>192</td>\n",
              "      <td>38.117647</td>\n",
              "      <td>0.009822</td>\n",
              "      <td>1.0</td>\n",
              "      <td>19.907407</td>\n",
              "      <td>1</td>\n",
              "      <td>(0, 4677)\\t1\\n  (0, 9584)\\t1\\n  (0, 11138)\\t...</td>\n",
              "      <td>(0, 7706)\\t0.015098332151410945\\n  (0, 4105)...</td>\n",
              "    </tr>\n",
              "    <tr>\n",
              "      <th>1</th>\n",
              "      <td>1</td>\n",
              "      <td>HOW THE CAMEL GOT HIS HUMPNOW this is the next...</td>\n",
              "      <td>179</td>\n",
              "      <td>38.250000</td>\n",
              "      <td>0.010769</td>\n",
              "      <td>1.0</td>\n",
              "      <td>16.412491</td>\n",
              "      <td>1</td>\n",
              "      <td>(0, 4677)\\t1\\n  (0, 9584)\\t1\\n  (0, 3992)\\t1...</td>\n",
              "      <td>(0, 4644)\\t0.013271837295003289\\n  (0, 5578)...</td>\n",
              "    </tr>\n",
              "    <tr>\n",
              "      <th>2</th>\n",
              "      <td>2</td>\n",
              "      <td>HOW THE RHINOCEROS GOT HIS SKINONCE upon a tim...</td>\n",
              "      <td>170</td>\n",
              "      <td>29.058824</td>\n",
              "      <td>0.012061</td>\n",
              "      <td>1.0</td>\n",
              "      <td>12.854251</td>\n",
              "      <td>1</td>\n",
              "      <td>(0, 4677)\\t1\\n  (0, 9584)\\t1\\n  (0, 3992)\\t1...</td>\n",
              "      <td>(0, 1712)\\t0.012677139127541254\\n  (0, 5601)...</td>\n",
              "    </tr>\n",
              "    <tr>\n",
              "      <th>3</th>\n",
              "      <td>3</td>\n",
              "      <td>HOW THE LEOPARD GOT HIS SPOTSIN the days when ...</td>\n",
              "      <td>307</td>\n",
              "      <td>29.010638</td>\n",
              "      <td>0.005278</td>\n",
              "      <td>1.0</td>\n",
              "      <td>15.474881</td>\n",
              "      <td>1</td>\n",
              "      <td>(0, 4677)\\t1\\n  (0, 9584)\\t1\\n  (0, 3992)\\t1...</td>\n",
              "      <td>(0, 7617)\\t0.008799384335401006\\n  (0, 10224...</td>\n",
              "    </tr>\n",
              "    <tr>\n",
              "      <th>4</th>\n",
              "      <td>4</td>\n",
              "      <td>THE ELEPHANT’S CHILDIN the High and Far-Off Ti...</td>\n",
              "      <td>346</td>\n",
              "      <td>41.435897</td>\n",
              "      <td>0.004087</td>\n",
              "      <td>1.0</td>\n",
              "      <td>17.326733</td>\n",
              "      <td>1</td>\n",
              "      <td>(0, 4677)\\t1\\n  (0, 9584)\\t1\\n  (0, 3992)\\t1...</td>\n",
              "      <td>(0, 11257)\\t0.010104619084904782\\n  (0, 8388...</td>\n",
              "    </tr>\n",
              "  </tbody>\n",
              "</table>\n",
              "</div>\n",
              "    <div class=\"colab-df-buttons\">\n",
              "\n",
              "  <div class=\"colab-df-container\">\n",
              "    <button class=\"colab-df-convert\" onclick=\"convertToInteractive('df-a684b659-b743-490e-8692-730dba9df947')\"\n",
              "            title=\"Convert this dataframe to an interactive table.\"\n",
              "            style=\"display:none;\">\n",
              "\n",
              "  <svg xmlns=\"http://www.w3.org/2000/svg\" height=\"24px\" viewBox=\"0 -960 960 960\">\n",
              "    <path d=\"M120-120v-720h720v720H120Zm60-500h600v-160H180v160Zm220 220h160v-160H400v160Zm0 220h160v-160H400v160ZM180-400h160v-160H180v160Zm440 0h160v-160H620v160ZM180-180h160v-160H180v160Zm440 0h160v-160H620v160Z\"/>\n",
              "  </svg>\n",
              "    </button>\n",
              "\n",
              "  <style>\n",
              "    .colab-df-container {\n",
              "      display:flex;\n",
              "      gap: 12px;\n",
              "    }\n",
              "\n",
              "    .colab-df-convert {\n",
              "      background-color: #E8F0FE;\n",
              "      border: none;\n",
              "      border-radius: 50%;\n",
              "      cursor: pointer;\n",
              "      display: none;\n",
              "      fill: #1967D2;\n",
              "      height: 32px;\n",
              "      padding: 0 0 0 0;\n",
              "      width: 32px;\n",
              "    }\n",
              "\n",
              "    .colab-df-convert:hover {\n",
              "      background-color: #E2EBFA;\n",
              "      box-shadow: 0px 1px 2px rgba(60, 64, 67, 0.3), 0px 1px 3px 1px rgba(60, 64, 67, 0.15);\n",
              "      fill: #174EA6;\n",
              "    }\n",
              "\n",
              "    .colab-df-buttons div {\n",
              "      margin-bottom: 4px;\n",
              "    }\n",
              "\n",
              "    [theme=dark] .colab-df-convert {\n",
              "      background-color: #3B4455;\n",
              "      fill: #D2E3FC;\n",
              "    }\n",
              "\n",
              "    [theme=dark] .colab-df-convert:hover {\n",
              "      background-color: #434B5C;\n",
              "      box-shadow: 0px 1px 3px 1px rgba(0, 0, 0, 0.15);\n",
              "      filter: drop-shadow(0px 1px 2px rgba(0, 0, 0, 0.3));\n",
              "      fill: #FFFFFF;\n",
              "    }\n",
              "  </style>\n",
              "\n",
              "    <script>\n",
              "      const buttonEl =\n",
              "        document.querySelector('#df-a684b659-b743-490e-8692-730dba9df947 button.colab-df-convert');\n",
              "      buttonEl.style.display =\n",
              "        google.colab.kernel.accessAllowed ? 'block' : 'none';\n",
              "\n",
              "      async function convertToInteractive(key) {\n",
              "        const element = document.querySelector('#df-a684b659-b743-490e-8692-730dba9df947');\n",
              "        const dataTable =\n",
              "          await google.colab.kernel.invokeFunction('convertToInteractive',\n",
              "                                                    [key], {});\n",
              "        if (!dataTable) return;\n",
              "\n",
              "        const docLinkHtml = 'Like what you see? Visit the ' +\n",
              "          '<a target=\"_blank\" href=https://colab.research.google.com/notebooks/data_table.ipynb>data table notebook</a>'\n",
              "          + ' to learn more about interactive tables.';\n",
              "        element.innerHTML = '';\n",
              "        dataTable['output_type'] = 'display_data';\n",
              "        await google.colab.output.renderOutput(dataTable, element);\n",
              "        const docLink = document.createElement('div');\n",
              "        docLink.innerHTML = docLinkHtml;\n",
              "        element.appendChild(docLink);\n",
              "      }\n",
              "    </script>\n",
              "  </div>\n",
              "\n",
              "\n",
              "<div id=\"df-726053fe-d380-401c-b95b-f1243db1117b\">\n",
              "  <button class=\"colab-df-quickchart\" onclick=\"quickchart('df-726053fe-d380-401c-b95b-f1243db1117b')\"\n",
              "            title=\"Suggest charts\"\n",
              "            style=\"display:none;\">\n",
              "\n",
              "<svg xmlns=\"http://www.w3.org/2000/svg\" height=\"24px\"viewBox=\"0 0 24 24\"\n",
              "     width=\"24px\">\n",
              "    <g>\n",
              "        <path d=\"M19 3H5c-1.1 0-2 .9-2 2v14c0 1.1.9 2 2 2h14c1.1 0 2-.9 2-2V5c0-1.1-.9-2-2-2zM9 17H7v-7h2v7zm4 0h-2V7h2v10zm4 0h-2v-4h2v4z\"/>\n",
              "    </g>\n",
              "</svg>\n",
              "  </button>\n",
              "\n",
              "<style>\n",
              "  .colab-df-quickchart {\n",
              "      --bg-color: #E8F0FE;\n",
              "      --fill-color: #1967D2;\n",
              "      --hover-bg-color: #E2EBFA;\n",
              "      --hover-fill-color: #174EA6;\n",
              "      --disabled-fill-color: #AAA;\n",
              "      --disabled-bg-color: #DDD;\n",
              "  }\n",
              "\n",
              "  [theme=dark] .colab-df-quickchart {\n",
              "      --bg-color: #3B4455;\n",
              "      --fill-color: #D2E3FC;\n",
              "      --hover-bg-color: #434B5C;\n",
              "      --hover-fill-color: #FFFFFF;\n",
              "      --disabled-bg-color: #3B4455;\n",
              "      --disabled-fill-color: #666;\n",
              "  }\n",
              "\n",
              "  .colab-df-quickchart {\n",
              "    background-color: var(--bg-color);\n",
              "    border: none;\n",
              "    border-radius: 50%;\n",
              "    cursor: pointer;\n",
              "    display: none;\n",
              "    fill: var(--fill-color);\n",
              "    height: 32px;\n",
              "    padding: 0;\n",
              "    width: 32px;\n",
              "  }\n",
              "\n",
              "  .colab-df-quickchart:hover {\n",
              "    background-color: var(--hover-bg-color);\n",
              "    box-shadow: 0 1px 2px rgba(60, 64, 67, 0.3), 0 1px 3px 1px rgba(60, 64, 67, 0.15);\n",
              "    fill: var(--button-hover-fill-color);\n",
              "  }\n",
              "\n",
              "  .colab-df-quickchart-complete:disabled,\n",
              "  .colab-df-quickchart-complete:disabled:hover {\n",
              "    background-color: var(--disabled-bg-color);\n",
              "    fill: var(--disabled-fill-color);\n",
              "    box-shadow: none;\n",
              "  }\n",
              "\n",
              "  .colab-df-spinner {\n",
              "    border: 2px solid var(--fill-color);\n",
              "    border-color: transparent;\n",
              "    border-bottom-color: var(--fill-color);\n",
              "    animation:\n",
              "      spin 1s steps(1) infinite;\n",
              "  }\n",
              "\n",
              "  @keyframes spin {\n",
              "    0% {\n",
              "      border-color: transparent;\n",
              "      border-bottom-color: var(--fill-color);\n",
              "      border-left-color: var(--fill-color);\n",
              "    }\n",
              "    20% {\n",
              "      border-color: transparent;\n",
              "      border-left-color: var(--fill-color);\n",
              "      border-top-color: var(--fill-color);\n",
              "    }\n",
              "    30% {\n",
              "      border-color: transparent;\n",
              "      border-left-color: var(--fill-color);\n",
              "      border-top-color: var(--fill-color);\n",
              "      border-right-color: var(--fill-color);\n",
              "    }\n",
              "    40% {\n",
              "      border-color: transparent;\n",
              "      border-right-color: var(--fill-color);\n",
              "      border-top-color: var(--fill-color);\n",
              "    }\n",
              "    60% {\n",
              "      border-color: transparent;\n",
              "      border-right-color: var(--fill-color);\n",
              "    }\n",
              "    80% {\n",
              "      border-color: transparent;\n",
              "      border-right-color: var(--fill-color);\n",
              "      border-bottom-color: var(--fill-color);\n",
              "    }\n",
              "    90% {\n",
              "      border-color: transparent;\n",
              "      border-bottom-color: var(--fill-color);\n",
              "    }\n",
              "  }\n",
              "</style>\n",
              "\n",
              "  <script>\n",
              "    async function quickchart(key) {\n",
              "      const quickchartButtonEl =\n",
              "        document.querySelector('#' + key + ' button');\n",
              "      quickchartButtonEl.disabled = true;  // To prevent multiple clicks.\n",
              "      quickchartButtonEl.classList.add('colab-df-spinner');\n",
              "      try {\n",
              "        const charts = await google.colab.kernel.invokeFunction(\n",
              "            'suggestCharts', [key], {});\n",
              "      } catch (error) {\n",
              "        console.error('Error during call to suggestCharts:', error);\n",
              "      }\n",
              "      quickchartButtonEl.classList.remove('colab-df-spinner');\n",
              "      quickchartButtonEl.classList.add('colab-df-quickchart-complete');\n",
              "    }\n",
              "    (() => {\n",
              "      let quickchartButtonEl =\n",
              "        document.querySelector('#df-726053fe-d380-401c-b95b-f1243db1117b button');\n",
              "      quickchartButtonEl.style.display =\n",
              "        google.colab.kernel.accessAllowed ? 'block' : 'none';\n",
              "    })();\n",
              "  </script>\n",
              "</div>\n",
              "\n",
              "    </div>\n",
              "  </div>\n"
            ],
            "application/vnd.google.colaboratory.intrinsic+json": {
              "type": "dataframe",
              "variable_name": "df",
              "summary": "{\n  \"name\": \"df\",\n  \"rows\": 34,\n  \"fields\": [\n    {\n      \"column\": \"Stories_list\",\n      \"properties\": {\n        \"dtype\": \"number\",\n        \"std\": 5,\n        \"min\": 0,\n        \"max\": 20,\n        \"num_unique_values\": 21,\n        \"samples\": [\n          0,\n          17,\n          15\n        ],\n        \"semantic_type\": \"\",\n        \"description\": \"\"\n      }\n    },\n    {\n      \"column\": \"story\",\n      \"properties\": {\n        \"dtype\": \"string\",\n        \"num_unique_values\": 34,\n        \"samples\": [\n          \"MISERY\\u201cTo whom shall I tell my grief?\\u201dTHE twilight of evening. Big flakes of wet snow are whirling lazilyabout the street lamps, which have just been lighted, and lying in athin soft layer on roofs, horses\\u2019 backs, shoulders, caps. Iona Potapov,the sledge-driver, is all white like a ghost. He sits on the box withoutstirring, bent as double as the living body can be bent. If a regularsnowdrift fell on him it seems as though even then he would not think itnecessary to shake it off.... His little mare is white and motionlesstoo. Her stillness, the angularity of her lines, and the stick-likestraightness of her legs make her look like a halfpenny gingerbreadhorse. She is probably lost in thought. Anyone who has been torn awayfrom the plough, from the familiar gray landscapes, and cast into thisslough, full of monstrous lights, of unceasing uproar and hurryingpeople, is bound to think.It is a long time since Iona and his nag have budged. They came out ofthe yard before dinnertime and not a single fare yet. But now the shadesof evening are falling on the town. The pale light of the street lampschanges to a vivid color, and the bustle of the street grows noisier.\\u201cSledge to Vyborgskaya!\\u201d Iona hears. \\u201cSledge!\\u201dIona starts, and through his snow-plastered eyelashes sees an officer ina military overcoat with a hood over his head.\\u201cTo Vyborgskaya,\\u201d repeats the officer. \\u201cAre you asleep? To Vyborgskaya!\\u201dIn token of assent Iona gives a tug at the reins which sends cakes ofsnow flying from the horse\\u2019s back and shoulders. The officer gets intothe sledge. The sledge-driver clicks to the horse, cranes his neck likea swan, rises in his seat, and more from habit than necessity brandisheshis whip. The mare cranes her neck, too, crooks her stick-like legs, andhesitatingly sets of....\\u201cWhere are you shoving, you devil?\\u201d Iona immediately hears shouts fromthe dark mass shifting to and fro before him. \\u201cWhere the devil are yougoing? Keep to the r-right!\\u201d\\u201cYou don\\u2019t know how to drive! Keep to the right,\\u201d says the officerangrily.A coachman driving a carriage swears at him; a pedestrian crossingthe road and brushing the horse\\u2019s nose with his shoulder looks at himangrily and shakes the snow off his sleeve. Iona fidgets on the box asthough he were sitting on thorns, jerks his elbows, and turns his eyesabout like one possessed as though he did not know where he was or whyhe was there.\\u201cWhat rascals they all are!\\u201d says the officer jocosely. \\u201cThey are simplydoing their best to run up against you or fall under the horse\\u2019s feet.They must be doing it on purpose.\\u201dIona looks as his fare and moves his lips.... Apparently he means tosay something, but nothing comes but a sniff.\\u201cWhat?\\u201d inquires the officer.Iona gives a wry smile, and straining his throat, brings out huskily:\\u201cMy son... er... my son died this week, sir.\\u201d\\u201cH\\u2019m! What did he die of?\\u201dIona turns his whole body round to his fare, and says:\\u201cWho can tell! It must have been from fever.... He lay three days inthe hospital and then he died.... God\\u2019s will.\\u201d\\u201cTurn round, you devil!\\u201d comes out of the darkness. \\u201cHave you gonecracked, you old dog? Look where you are going!\\u201d\\u201cDrive on! drive on!...\\u201d says the officer. \\u201cWe shan\\u2019t get there tillto-morrow going on like this. Hurry up!\\u201dThe sledge-driver cranes his neck again, rises in his seat, and withheavy grace swings his whip. Several times he looks round at theofficer, but the latter keeps his eyes shut and is apparentlydisinclined to listen. Putting his fare down at Vyborgskaya, Iona stopsby a restaurant, and again sits huddled up on the box.... Againthe wet snow paints him and his horse white. One hour passes, and thenanother....Three young men, two tall and thin, one short and hunchbacked, come up,railing at each other and loudly stamping on the pavement with theirgoloshes.\\u201cCabby, to the Police Bridge!\\u201d the hunchback cries in a cracked voice.\\u201cThe three of us,... twenty kopecks!\\u201dIona tugs at the reins and clicks to his horse. Twenty kopecks is not afair price, but he has no thoughts for that. Whether it is a rouble orwhether it is five kopecks does not matter to him now so long as hehas a fare.... The three young men, shoving each other and using badlanguage, go up to the sledge, and all three try to sit down at once.The question remains to be settled: Which are to sit down and which oneis to stand? After a long altercation, ill-temper, and abuse, theycome to the conclusion that the hunchback must stand because he is theshortest.\\u201cWell, drive on,\\u201d says the hunchback in his cracked voice, settlinghimself and breathing down Iona\\u2019s neck. \\u201cCut along! What a cap you\\u2019vegot, my friend! You wouldn\\u2019t find a worse one in all Petersburg....\\u201d\\u201cHe-he!... he-he!...\\u201d laughs Iona. \\u201cIt\\u2019s nothing to boast of!\\u201d\\u201cWell, then, nothing to boast of, drive on! Are you going to drive likethis all the way? Eh? Shall I give you one in the neck?\\u201d\\u201cMy head aches,\\u201d says one of the tall ones. \\u201cAt the Dukmasovs\\u2019 yesterdayVaska and I drank four bottles of brandy between us.\\u201d\\u201cI can\\u2019t make out why you talk such stuff,\\u201d says the other tall oneangrily. \\u201cYou lie like a brute.\\u201d\\u201cStrike me dead, it\\u2019s the truth!...\\u201d\\u201cIt\\u2019s about as true as that a louse coughs.\\u201d\\u201cHe-he!\\u201d grins Iona. \\u201cMe-er-ry gentlemen!\\u201d\\u201cTfoo! the devil take you!\\u201d cries the hunchback indignantly. \\u201cWill youget on, you old plague, or won\\u2019t you? Is that the way to drive? Give herone with the whip. Hang it all, give it her well.\\u201dIona feels behind his back the jolting person and quivering voice ofthe hunchback. He hears abuse addressed to him, he sees people, and thefeeling of loneliness begins little by little to be less heavy on hisheart. The hunchback swears at him, till he chokes over some elaboratelywhimsical string of epithets and is overpowered by his cough. His tallcompanions begin talking of a certain Nadyezhda Petrovna. Iona looksround at them. Waiting till there is a brief pause, he looks round oncemore and says:\\u201cThis week... er... my... er... son died!\\u201d\\u201cWe shall all die,...\\u201d says the hunchback with a sigh, wiping hislips after coughing. \\u201cCome, drive on! drive on! My friends, I simplycannot stand crawling like this! When will he get us there?\\u201d\\u201cWell, you give him a little encouragement... one in the neck!\\u201d\\u201cDo you hear, you old plague? I\\u2019ll make you smart. If one stands onceremony with fellows like you one may as well walk. Do you hear, youold dragon? Or don\\u2019t you care a hang what we say?\\u201dAnd Iona hears rather than feels a slap on the back of his neck.\\u201cHe-he!...\\u201d he laughs. \\u201cMerry gentlemen.... God give youhealth!\\u201d\\u201cCabman, are you married?\\u201d asks one of the tall ones.\\u201cI? He he! Me-er-ry gentlemen. The only wife for me now is the dampearth.... He-ho-ho!.... The grave that is!... Here my son\\u2019s deadand I am alive.... It\\u2019s a strange thing, death has come in at thewrong door.... Instead of coming for me it went for my son....\\u201dAnd Iona turns round to tell them how his son died, but at that pointthe hunchback gives a faint sigh and announces that, thank God! theyhave arrived at last. After taking his twenty kopecks, Iona gazes for along while after the revelers, who disappear into a dark entry. Again heis alone and again there is silence for him.... The misery which hasbeen for a brief space eased comes back again and tears his heart morecruelly than ever. With a look of anxiety and suffering Iona\\u2019s eyesstray restlessly among the crowds moving to and fro on both sides of thestreet: can he not find among those thousands someone who will listento him? But the crowds flit by heedless of him and his misery.... Hismisery is immense, beyond all bounds. If Iona\\u2019s heart were to burst andhis misery to flow out, it would flood the whole world, it seems, butyet it is not seen. It has found a hiding-place in such an insignificantshell that one would not have found it with a candle by daylight....Iona sees a house-porter with a parcel and makes up his mind to addresshim.\\u201cWhat time will it be, friend?\\u201d he asks.\\u201cGoing on for ten.... Why have you stopped here? Drive on!\\u201dIona drives a few paces away, bends himself double, and gives himselfup to his misery. He feels it is no good to appeal to people. But beforefive minutes have passed he draws himself up, shakes his head as thoughhe feels a sharp pain, and tugs at the reins.... He can bear it nolonger.\\u201cBack to the yard!\\u201d he thinks. \\u201cTo the yard!\\u201dAnd his little mare, as though she knew his thoughts, falls to trotting.An hour and a half later Iona is sitting by a big dirty stove. On thestove, on the floor, and on the benches are people snoring. The airis full of smells and stuffiness. Iona looks at the sleeping figures,scratches himself, and regrets that he has come home so early....\\u201cI have not earned enough to pay for the oats, even,\\u201d he thinks. \\u201cThat\\u2019swhy I am so miserable. A man who knows how to do his work,... who hashad enough to eat, and whose horse has had enough to eat, is always atease....\\u201dIn one of the corners a young cabman gets up, clears his throatsleepily, and makes for the water-bucket.\\u201cWant a drink?\\u201d Iona asks him.\\u201cSeems so.\\u201d\\u201cMay it do you good.... But my son is dead, mate.... Do you hear?This week in the hospital.... It\\u2019s a queer business....\\u201dIona looks to see the effect produced by his words, but he sees nothing.The young man has covered his head over and is already asleep. The oldman sighs and scratches himself.... Just as the young man had beenthirsty for water, he thirsts for speech. His son will soon have beendead a week, and he has not really talked to anybody yet.... Hewants to talk of it properly, with deliberation.... He wants to tellhow his son was taken ill, how he suffered, what he said before he died,how he died.... He wants to describe the funeral, and how he went tothe hospital to get his son\\u2019s clothes. He still has his daughter Anisyain the country.... And he wants to talk about her too.... Yes, hehas plenty to talk about now. His listener ought to sigh and exclaim andlament.... It would be even better to talk to women. Though they aresilly creatures, they blubber at the first word.\\u201cLet\\u2019s go out and have a look at the mare,\\u201d Iona thinks. \\u201cThere isalways time for sleep.... You\\u2019ll have sleep enough, no fear....\\u201dHe puts on his coat and goes into the stables where his mare isstanding. He thinks about oats, about hay, about the weather.... Hecannot think about his son when he is alone.... To talk abouthim with someone is possible, but to think of him and picture him isinsufferable anguish....\\u201cAre you munching?\\u201d Iona asks his mare, seeing her shining eyes. \\u201cThere,munch away, munch away.... Since we have not earned enough for oats,we will eat hay.... Yes,... I have grown too old to drive....My son ought to be driving, not I.... He was a real cabman.... Heought to have lived....\\u201dIona is silent for a while, and then he goes on:\\u201cThat\\u2019s how it is, old girl.... Kuzma Ionitch is gone.... He saidgood-by to me.... He went and died for no reason.... Now, supposeyou had a little colt, and you were own mother to that little colt.... And all at once that same little colt went and died.... You\\u2019dbe sorry, wouldn\\u2019t you?...\\u201dThe little mare munches, listens, and breathes on her master\\u2019s hands.Iona is carried away and tells her all about it.\",\n          \"IN EXILEOLD SEMYON, nicknamed Canny, and a young Tatar, whom no one knew byname, were sitting on the river-bank by the camp-fire; the otherthree ferrymen were in the hut. Semyon, an old man of sixty, lean andtoothless, but broad shouldered and still healthy-looking, was drunk;he would have gone in to sleep long before, but he had a bottle in hispocket and he was afraid that the fellows in the hut would ask him forvodka. The Tatar was ill and weary, and wrapping himself up in his ragswas describing how nice it was in the Simbirsk province, and what abeautiful and clever wife he had left behind at home. He was not morethan twenty five, and now by the light of the camp-fire, with his paleand sick, mournful face, he looked like a boy.\\u201cTo be sure, it is not paradise here,\\u201d said Canny. \\u201cYou can see foryourself, the water, the bare banks, clay, and nothing else....Easter has long passed and yet there is ice on the river, and thismorning there was snow...\\u201d\\u201cIt\\u2019s bad! it\\u2019s bad!\\u201d said the Tatar, and looked round him in terror.The dark, cold river was flowing ten paces away; it grumbled, lappedagainst the hollow clay banks and raced on swiftly towards the far-awaysea. Close to the bank there was the dark blur of a big barge, which theferrymen called a \\u201ckarbos.\\u201d Far away on the further bank, lights, dyingdown and flickering up again, zigzagged like little snakes; they wereburning last year\\u2019s grass. And beyond the little snakes there wasdarkness again. There little icicles could be heard knocking against thebarge. It was damp and cold....The Tatar glanced at the sky. There were as many stars as at home, andthe same blackness all round, but something was lacking. At home in theSimbirsk province the stars were quite different, and so was the sky.\\u201cIt\\u2019s bad! it\\u2019s bad!\\u201d he repeated.\\u201cYou will get used to it,\\u201d said Semyon, and he laughed. \\u201cNow you areyoung and foolish, the milk is hardly dry on your lips, and it seems toyou in your foolishness that you are more wretched than anyone; but thetime will come when you will say to yourself: \\u2018I wish no one a betterlife than mine.\\u2019 You look at me. Within a week the floods will be overand we shall set up the ferry; you will all go wandering off aboutSiberia while I shall stay and shall begin going from bank to bank. I\\u2019vebeen going like that for twenty-two years, day and night. The pike andthe salmon are under the water while I am on the water. And thank Godfor it, I want nothing; God give everyone such a life.\\u201dThe Tatar threw some dry twigs on the camp-fire, lay down closer to theblaze, and said:\\u201cMy father is a sick man. When he dies my mother and wife will comehere. They have promised.\\u201d\\u201cAnd what do you want your wife and mother for?\\u201d asked Canny. \\u201cThat\\u2019smere foolishness, my lad. It\\u2019s the devil confounding you, damn his soul!Don\\u2019t you listen to him, the cursed one. Don\\u2019t let him have his way. Heis at you about the women, but you spite him; say, \\u2018I don\\u2019t want them!\\u2019He is on at you about freedom, but you stand up to him and say: \\u2018Idon\\u2019t want it!\\u2019 I want nothing, neither father nor mother, nor wife, norfreedom, nor post, nor paddock; I want nothing, damn their souls!\\u201dSemyon took a pull at the bottle and went on:\\u201cI am not a simple peasant, not of the working class, but the son ofa deacon, and when I was free I lived at Kursk; I used to wear afrockcoat, and now I have brought myself to such a pass that I can sleepnaked on the ground and eat grass. And I wish no one a better life. Iwant nothing and I am afraid of nobody, and the way I look at it is thatthere is nobody richer and freer than I am. When they sent me here fromRussia from the first day I stuck it out; I want nothing! The devil wasat me about my wife and about my home and about freedom, but I told him:\\u2018I want nothing.\\u2019 I stuck to it, and here you see I live well, and Idon\\u2019t complain, and if anyone gives way to the devil and listens to him,if but once, he is lost, there is no salvation for him: he is sunk inthe bog to the crown of his head and will never get out.\\u201cIt is not only a foolish peasant like you, but even gentlemen,well-educated people, are lost. Fifteen years ago they sent a gentlemanhere from Russia. He hadn\\u2019t shared something with his brothers and hadforged something in a will. They did say he was a prince or a baron, butmaybe he was simply an official--who knows? Well, the gentlemanarrived here, and first thing he bought himself a house and land inMuhortinskoe. \\u2018I want to live by my own work,\\u2019 says he, \\u2018in the sweatof my brow, for I am not a gentleman now,\\u2019 says he, \\u2018but a settler.\\u2019\\u2018Well,\\u2019 says I, \\u2018God help you, that\\u2019s the right thing.\\u2019 He was a youngman then, busy and careful; he used to mow himself and catch fish andride sixty miles on horseback. Only this is what happened: from the veryfirst year he took to riding to Gyrino for the post; he used to stand onmy ferry and sigh: \\u2018Ech, Semyon, how long it is since they sent me anymoney from home!\\u2019 \\u2018You don\\u2019t want money, Vassily Sergeyitch,\\u2019 says I.\\u2018What use is it to you? You cast away the past, and forget it as thoughit had never been at all, as though it had been a dream, and begin tolive anew. Don\\u2019t listen to the devil,\\u2019 says I; \\u2018he will bring you to nogood, he\\u2019ll draw you into a snare. Now you want money,\\u2019 says I, \\u2018but ina very little while you\\u2019ll be wanting something else, and then more andmore. If you want to be happy,\\u2019 says I, the chief thing is not towant anything. Yes.... If,\\u2019 says I, \\u2018if Fate has wronged you and mecruelly it\\u2019s no good asking for her favor and bowing down to her, butyou despise her and laugh at her, or else she will laugh at you.\\u2019 That\\u2019swhat I said to him....\\u201cTwo years later I ferried him across to this side, and he was rubbinghis hands and laughing. \\u2018I am going to Gyrino to meet my wife,\\u2019 sayshe. \\u2018She was sorry for me,\\u2019 says he; \\u2018she has come. She is good andkind.\\u2019 And he was breathless with joy. So a day later he came with hiswife. A beautiful young lady in a hat; in her arms was a baby girl.And lots of luggage of all sorts. And my Vassily Sergeyitch was fussinground her; he couldn\\u2019t take his eyes off her and couldn\\u2019t say enough inpraise of her. \\u2018Yes, brother Semyon, even in Siberia people can live!\\u2019\\u2018Oh, all right,\\u2019 thinks I, \\u2018it will be a different tale presently.\\u2019And from that time forward he went almost every week to inquire whethermoney had not come from Russia. He wanted a lot of money. \\u2018She is losingher youth and beauty here in Siberia for my sake,\\u2019 says he, \\u2018and sharingmy bitter lot with me, and so I ought,\\u2019 says he, \\u2018to provide her withevery comfort....\\u2019\\u201cTo make it livelier for the lady he made acquaintance with theofficials and all sorts of riff-raff. And of course he had to give foodand drink to all that crew, and there had to be a piano and ashaggy lapdog on the sofa--plague take it!... Luxury, in fact,self-indulgence. The lady did not stay with him long. How could she? Theclay, the water, the cold, no vegetables for you, no fruit. All aroundyou ignorant and drunken people and no sort of manners, and she wasa spoilt lady from Petersburg or Moscow.... To be sure she moped.Besides, her husband, say what you like, was not a gentleman now, but asettler--not the same rank.\\u201cThree years later, I remember, on the eve of the Assumption, there wasshouting from the further bank. I went over with the ferry, and what doI see but the lady, all wrapped up, and with her a young gentleman, anofficial. A sledge with three horses.... I ferried them across here,they got in and away like the wind. They were soon lost to sight. Andtowards morning Vassily Sergeyitch galloped down to the ferry. \\u2018Didn\\u2019tmy wife come this way with a gentleman in spectacles, Semyon?\\u2019 \\u2018Shedid,\\u2019 said I; \\u2018you may look for the wind in the fields!\\u2019 He galloped inpursuit of them. For five days and nights he was riding after them. WhenI ferried him over to the other side afterwards, he flung himself onthe ferry and beat his head on the boards of the ferry and howled. \\u2018Sothat\\u2019s how it is,\\u2019 says I. I laughed, and reminded him \\u2018people can liveeven in Siberia!\\u2019 And he beat his head harder than ever....\\u201cThen he began longing for freedom. His wife had slipped off to Russia,and of course he was drawn there to see her and to get her away from herlover. And he took, my lad, to galloping almost every day, either tothe post or the town to see the commanding officer; he kept sending inpetitions for them to have mercy on him and let him go back home; andhe used to say that he had spent some two hundred roubles on telegramsalone. He sold his land and mortgaged his house to the Jews. He grewgray and bent, and yellow in the face, as though he was in consumption.If he talked to you he would go, khee--khee--khee,... and there weretears in his eyes. He kept rushing about like this with petitions foreight years, but now he has grown brighter and more cheerful again: hehas found another whim to give way to. You see, his daughter has grownup. He looks at her, and she is the apple of his eye. And to tell thetruth she is all right, good-looking, with black eyebrows and a livelydisposition. Every Sunday he used to ride with her to church in Gyrino.They used to stand on the ferry, side by side, she would laugh and hecould not take his eyes off her. \\u2018Yes, Semyon,\\u2019 says he, \\u2018people canlive even in Siberia. Even in Siberia there is happiness. Look,\\u2019 sayshe, \\u2018what a daughter I have got! I warrant you wouldn\\u2019t find anotherlike her for a thousand versts round.\\u2019 \\u2018Your daughter is all right,\\u2019says I, \\u2018that\\u2019s true, certainly.\\u2019 But to myself I thought: \\u2018Wait a bit,the wench is young, her blood is dancing, she wants to live, and thereis no life here.\\u2019 And she did begin to pine, my lad.... She faded andfaded, and now she can hardly crawl about. Consumption.\\u201cSo you see what Siberian happiness is, damn its soul! You see howpeople can live in Siberia.... He has taken to going from one doctorto another and taking them home with him. As soon as he hears that twoor three hundred miles away there is a doctor or a sorcerer, he willdrive to fetch him. A terrible lot of money he spent on doctors, and tomy thinking he had better have spent the money on drink.... She\\u2019lldie just the same. She is certain to die, and then it will be all overwith him. He\\u2019ll hang himself from grief or run away to Russia--that\\u2019s asure thing. He\\u2019ll run away and they\\u2019ll catch him, then he will be tried,sent to prison, he will have a taste of the lash....\\u201d\\u201cGood! good!\\u201d said the Tatar, shivering with cold.\\u201cWhat is good?\\u201d asked Canny.\\u201cHis wife, his daughter.... What of prison and what ofsorrow!--anyway, he did see his wife and his daughter.... You say,want nothing. But \\u2018nothing\\u2019 is bad! His wife lived with him threeyears--that was a gift from God. \\u2018Nothing\\u2019 is bad, but three years isgood. How not understand?\\u201dShivering and hesitating, with effort picking out the Russian words ofwhich he knew but few, the Tatar said that God forbid one should fallsick and die in a strange land, and be buried in the cold and darkearth; that if his wife came to him for one day, even for one hour, thatfor such happiness he would be ready to bear any suffering and to thankGod. Better one day of happiness than nothing.Then he described again what a beautiful and clever wife he had leftat home. Then, clutching his head in both hands, he began crying andassuring Semyon that he was not guilty, and was suffering for nothing.His two brothers and an uncle had carried off a peasant\\u2019s horses, andhad beaten the old man till he was half dead, and the commune had notjudged fairly, but had contrived a sentence by which all the threebrothers were sent to Siberia, while the uncle, a rich man, was left athome.\\u201cYou will get used to it!\\u201d said Semyon.The Tatar was silent, and stared with tear-stained eyes at the fire;his face expressed bewilderment and fear, as though he still didnot understand why he was here in the darkness and the wet, besidestrangers, and not in the Simbirsk province.Canny lay near the fire, chuckled at something, and began humming a songin an undertone.\\u201cWhat joy has she with her father?\\u201d he said a little later. \\u201cHe lovesher and he rejoices in her, that\\u2019s true; but, mate, you must mind yourps and qs with him, he is a strict old man, a harsh old man. And youngwenches don\\u2019t want strictness. They want petting and ha-ha-ha! andho-ho-ho! and scent and pomade. Yes.... Ech! life, life,\\u201d sighedSemyon, and he got up heavily. \\u201cThe vodka is all gone, so it is time tosleep. Eh? I am going, my lad....\\u201dLeft alone, the Tatar put on more twigs, lay down and stared at thefire; he began thinking of his own village and of his wife. If his wifecould only come for a month, for a day; and then if she liked she mightgo back again. Better a month or even a day than nothing. But if hiswife kept her promise and came, what would he have to feed her on? Wherecould she live here?\\u201cIf there were not something to eat, how could she live?\\u201d the Tatarasked aloud.He was paid only ten kopecks for working all day and all night at theoar; it is true that travelers gave him tips for tea and for vodkas butthe men shared all they received among themselves, and gave nothingto the Tatar, but only laughed at him. And from poverty he was hungry,cold, and frightened.... Now, when his whole body was aching andshivering, he ought to go into the hut and lie down to sleep; but he hadnothing to cover him there, and it was colder than on the river-bank;here he had nothing to cover him either, but at least he could make upthe fire....In another week, when the floods were quite over and they set the ferrygoing, none of the ferrymen but Semyon would be wanted, and the Tatarwould begin going from village to village begging for alms and for work.His wife was only seventeen; she was beautiful, spoilt, and shy; couldshe possibly go from village to village begging alms with her faceunveiled? No, it was terrible even to think of that....It was already getting light; the barge, the bushes of willow on thewater, and the waves could be clearly discerned, and if one looked roundthere was the steep clay slope; at the bottom of it the hut thatchedwith dingy brown straw, and the huts of the village lay clustered higherup. The cocks were already crowing in the village.The rusty red clay slope, the barge, the river, the strange, unkindpeople, hunger, cold, illness, perhaps all that was not real. Mostlikely it was all a dream, thought the Tatar. He felt that he wasasleep and heard his own snoring.... Of course he was at home in theSimbirsk province, and he had only to call his wife by name for her toanswer; and in the next room was his mother.... What terrible dreamsthere are, though! What are they for? The Tatar smiled and opened hiseyes. What river was this, the Volga?Snow was falling.\\u201cBoat!\\u201d was shouted on the further side. \\u201cBoat!\\u201dThe Tatar woke up, and went to wake his mates and row over to the otherside. The ferrymen came on to the river-bank, putting on their tornsheepskins as they walked, swearing with voices husky from sleepinessand shivering from the cold. On waking from their sleep, the river, fromwhich came a breath of piercing cold, seemed to strike them as revoltingand horrible. They jumped into the barge without hurrying themselves....The Tatar and the three ferrymen took the long, broad-bladed oars,which in the darkness looked like the claws of crabs; Semyon leaned hisstomach against the tiller. The shout on the other side still continued,and two shots were fired from a revolver, probably with the idea thatthe ferrymen were asleep or had gone to the pot-house in the village.\\u201cAll right, you have plenty of time,\\u201d said Semyon in the tone of a manconvinced that there was no necessity in this world to hurry--that itwould lead to nothing, anyway.The heavy, clumsy barge moved away from the bank and floated between thewillow-bushes, and only the willows slowly moving back showed that thebarge was not standing still but moving. The ferrymen swung theoars evenly in time; Semyon lay with his stomach on the tiller and,describing a semicircle in the air, flew from one side to the other.In the darkness it looked as though the men were sitting on someantediluvian animal with long paws, and were moving on it througha cold, desolate land, the land of which one sometimes dreams innightmares.They passed beyond the willows and floated out into the open. The creakand regular splash of the oars was heard on the further shore, and ashout came: \\u201cMake haste! make haste!\\u201dAnother ten minutes passed, and the barge banged heavily against thelanding-stage.\\u201cAnd it keeps sprinkling and sprinkling,\\u201d muttered Semyon, wiping thesnow from his face; \\u201cand where it all comes from God only knows.\\u201dOn the bank stood a thin man of medium height in a jacket lined with foxfur and in a white lambskin cap. He was standing at a little distancefrom his horses and not moving; he had a gloomy, concentratedexpression, as though he were trying to remember something and angrywith his untrustworthy memory. When Semyon went up to him and took offhis cap, smiling, he said:\\u201cI am hastening to Anastasyevka. My daughter\\u2019s worse again, and they saythat there is a new doctor at Anastasyevka.\\u201dThey dragged the carriage on to the barge and floated back. The man whomSemyon addressed as Vassily Sergeyitch stood all the time motionless,tightly compressing his thick lips and staring off into space; when hiscoachman asked permission to smoke in his presence he made no answer, asthough he had not heard. Semyon, lying with his stomach on the tiller,looked mockingly at him and said:\\u201cEven in Siberia people can live--can li-ive!\\u201dThere was a triumphant expression on Canny\\u2019s face, as though he hadproved something and was delighted that things had happened as hehad foretold. The unhappy helplessness of the man in the foxskin coatevidently afforded him great pleasure.\\u201cIt\\u2019s muddy driving now, Vassily Sergeyitch,\\u201d he said when the horseswere harnessed again on the bank. \\u201cYou should have put off going foranother fortnight, when it will be drier. Or else not have gone at all.... If any good would come of your going--but as you know yourself,people have been driving about for years and years, day and night, andit\\u2019s always been no use. That\\u2019s the truth.\\u201dVassily Sergeyitch tipped him without a word, got into his carriage anddrove off.\\u201cThere, he has galloped off for a doctor!\\u201d said Semyon, shrinking fromthe cold. \\u201cBut looking for a good doctor is like chasing the wind in thefields or catching the devil by the tail, plague take your soul! What aqueer chap, Lord forgive me a sinner!\\u201dThe Tatar went up to Canny, and, looking at him with hatred andrepulsion, shivering, and mixing Tatar words with his broken Russian,said: \\u201cHe is good... good; but you are bad! You are bad! Thegentleman is a good soul, excellent, and you are a beast, bad! Thegentleman is alive, but you are a dead carcass.... God created man tobe alive, and to have joy and grief and sorrow; but you want nothing,so you are not alive, you are stone, clay! A stone wants nothing and youwant nothing. You are a stone, and God does not love you, but He lovesthe gentleman!\\u201dEveryone laughed; the Tatar frowned contemptuously, and with a waveof his hand wrapped himself in his rags and went to the campfire. Theferrymen and Semyon sauntered to the hut.\\u201cIt\\u2019s cold,\\u201d said one ferryman huskily as he stretched himself on thestraw with which the damp clay floor was covered.\\u201cYes, it\\u2019s not warm,\\u201d another assented. \\u201cIt\\u2019s a dog\\u2019s life....\\u201dThey all lay down. The door was thrown open by the wind and the snowdrifted into the hut; nobody felt inclined to get up and shut the door:they were cold, and it was too much trouble.\\u201cI am all right,\\u201d said Semyon as he began to doze. \\u201cI wouldn\\u2019t wishanyone a better life.\\u201d\\u201cYou are a tough one, we all know. Even the devils won\\u2019t take you!\\u201dSounds like a dog\\u2019s howling came from outside.\\u201cWhat\\u2019s that? Who\\u2019s there?\\u201d\\u201cIt\\u2019s the Tatar crying.\\u201d\\u201cI say.... He\\u2019s a queer one!\\u201d\\u201cHe\\u2019ll get u-used to it!\\u201d said Semyon, and at once fell asleep.The others were soon asleep too. The door remained unclosed.\",\n          \"THE REQUIEMIN the village church of Verhny Zaprudy mass was just over. The peoplehad begun moving and were trooping out of church. The only one whodid not move was Andrey Andreyitch, a shopkeeper and old inhabitant ofVerhny Zaprudy. He stood waiting, with his elbows on the railing of theright choir. His fat and shaven face, covered with indentations leftby pimples, expressed on this occasion two contradictory feelings:resignation in the face of inevitable destiny, and stupid, unboundeddisdain for the smocks and striped kerchiefs passing by him. As it wasSunday, he was dressed like a dandy. He wore a long cloth overcoat withyellow bone buttons, blue trousers not thrust into his boots, and sturdygoloshes--the huge clumsy goloshes only seen on the feet of practicaland prudent persons of firm religious convictions.His torpid eyes, sunk in fat, were fixed upon the ikon stand. He saw thelong familiar figures of the saints, the verger Matvey puffing out hischeeks and blowing out the candles, the darkened candle stands, thethreadbare carpet, the sacristan Lopuhov running impulsively from thealtar and carrying the holy bread to the churchwarden.... All thesethings he had seen for years, and seen over and over again like the fivefingers of his hand.... There was only one thing, however, that wassomewhat strange and unusual. Father Grigory, still in his vestments,was standing at the north door, twitching his thick eyebrows angrily.\\u201cWho is it he is winking at? God bless him!\\u201d thought the shopkeeper.\\u201cAnd he is beckoning with his finger! And he stamped his foot! Whatnext! What\\u2019s the matter, Holy Queen and Mother! Whom does he mean itfor?\\u201dAndrey Andreyitch looked round and saw the church completely deserted.There were some ten people standing at the door, but they had theirbacks to the altar.\\u201cDo come when you are called! Why do you stand like a graven image?\\u201d heheard Father Grigory\\u2019s angry voice. \\u201cI am calling you.\\u201dThe shopkeeper looked at Father Grigory\\u2019s red and wrathful face, andonly then realized that the twitching eyebrows and beckoning fingermight refer to him. He started, left the railing, and hesitatinglywalked towards the altar, tramping with his heavy goloshes.\\u201cAndrey Andreyitch, was it you asked for prayers for the rest ofMariya\\u2019s soul?\\u201d asked the priest, his eyes angrily transfixing theshopkeeper\\u2019s fat, perspiring face.\\u201cYes, Father.\\u201d\\u201cThen it was you wrote this? You?\\u201d And Father Grigory angrily thrustbefore his eyes the little note.And on this little note, handed in by Andrey Andreyitch before mass, waswritten in big, as it were staggering, letters:\\u201cFor the rest of the soul of the servant of God, the harlot Mariya.\\u201d\\u201cYes, certainly I wrote it,...\\u201d answered the shopkeeper.\\u201cHow dared you write it?\\u201d whispered the priest, and in his husky whisperthere was a note of wrath and alarm.The shopkeeper looked at him in blank amazement; he was perplexed, andhe, too, was alarmed. Father Grigory had never in his life spoken insuch a tone to a leading resident of Verhny Zaprudy. Both were silentfor a minute, staring into each other\\u2019s face. The shopkeeper\\u2019s amazementwas so great that his fat face spread in all directions like spiltdough.\\u201cHow dared you?\\u201d repeated the priest.\\u201cWha... what?\\u201d asked Andrey Andreyitch in bewilderment.\\u201cYou don\\u2019t understand?\\u201d whispered Father Grigory, stepping backin astonishment and clasping his hands. \\u201cWhat have you got on yourshoulders, a head or some other object? You send a note up to the altar,and write a word in it which it would be unseemly even to utter in thestreet! Why are you rolling your eyes? Surely you know the meaning ofthe word?\\u201d\\u201cAre you referring to the word harlot?\\u201d muttered the shopkeeper,flushing crimson and blinking. \\u201cBut you know, the Lord in His mercy...forgave this very thing,... forgave a harlot.... He has prepareda place for her, and indeed from the life of the holy saint, Mariya ofEgypt, one may see in what sense the word is used--excuse me...\\u201dThe shopkeeper wanted to bring forward some other argument in hisjustification, but took fright and wiped his lips with his sleeve.\\u201cSo that\\u2019s what you make of it!\\u201d cried Father Grigory, clasping hishands. \\u201cBut you see God has forgiven her--do you understand? He hasforgiven, but you judge her, you slander her, call her by an unseemlyname, and whom! Your own deceased daughter! Not only in Holy Scripture,but even in worldly literature you won\\u2019t read of such a sin! I tellyou again, Andrey, you mustn\\u2019t be over-subtle! No, no, you mustn\\u2019t beover-subtle, brother! If God has given you an inquiring mind, and if youcannot direct it, better not go into things.... Don\\u2019t go into things,and hold your peace!\\u201d\\u201cBut you know, she,... excuse my mentioning it, was an actress!\\u201d articulated Andrey Andreyitch, overwhelmed.\\u201cAn actress! But whatever she was, you ought to forget it all now she isdead, instead of writing it on the note.\\u201d\\u201cJust so,...\\u201d the shopkeeper assented.\\u201cYou ought to do penance,\\u201d boomed the deacon from the depths of thealtar, looking contemptuously at Andrey Andreyitch\\u2019s embarrassed face,\\u201cthat would teach you to leave off being so clever! Your daughter wasa well-known actress. There were even notices of her death in thenewspapers.... Philosopher!\\u201d\\u201cTo be sure,... certainly,\\u201d muttered the shopkeeper, \\u201cthe word is nota seemly one; but I did not say it to judge her, Father Grigory, I onlymeant to speak spiritually,... that it might be clearer to you forwhom you were praying. They write in the memorial notes the variouscallings, such as the infant John, the drowned woman Pelagea, thewarrior Yegor, the murdered Pavel, and so on.... I meant to do thesame.\\u201d\\u201cIt was foolish, Andrey! God will forgive you, but beware another time.Above all, don\\u2019t be subtle, but think like other people. Make ten bowsand go your way.\\u201d\\u201cI obey,\\u201d said the shopkeeper, relieved that the lecture was over, andallowing his face to resume its expression of importance and dignity.\\u201cTen bows? Very good, I understand. But now, Father, allow me to askyou a favor.... Seeing that I am, anyway, her father,... you knowyourself, whatever she was, she was still my daughter, so I was,...excuse me, meaning to ask you to sing the requiem today. And allow me toask you, Father Deacon!\\u201d\\u201cWell, that\\u2019s good,\\u201d said Father Grigory, taking off his vestments.\\u201cThat I commend. I can approve of that! Well, go your way. We will comeout immediately.\\u201dAndrey Andreyitch walked with dignity from the altar, and with a solemn,requiem-like expression on his red face took his stand in the middleof the church. The verger Matvey set before him a little table with thememorial food upon it, and a little later the requiem service began.There was perfect stillness in the church. Nothing could be heard butthe metallic click of the censer and slow singing.... Near AndreyAndreyitch stood the verger Matvey, the midwife Makaryevna, and herone-armed son Mitka. There was no one else. The sacristan sang badly inan unpleasant, hollow bass, but the tune and the words were so mournfulthat the shopkeeper little by little lost the expression of dignity andwas plunged in sadness. He thought of his Mashutka,... he rememberedshe had been born when he was still a lackey in the service of the ownerof Verhny Zaprudy. In his busy life as a lackey he had not noticedhow his girl had grown up. That long period during which she was beingshaped into a graceful creature, with a little flaxen head and dreamyeyes as big as kopeck-pieces passed unnoticed by him. She had beenbrought up like all the children of favorite lackeys, in ease andcomfort in the company of the young ladies. The gentry, to fill up theiridle time, had taught her to read, to write, to dance; he had had nohand in her bringing up. Only from time to time casually meeting her atthe gate or on the landing of the stairs, he would remember that she washis daughter, and would, so far as he had leisure for it, begin teachingher the prayers and the scripture. Oh, even then he had the reputationof an authority on the church rules and the holy scriptures! Forbiddingand stolid as her father\\u2019s face was, yet the girl listened readily. Sherepeated the prayers after him yawning, but on the other hand, when he,hesitating and trying to express himself elaborately, began telling herstories, she was all attention. Esau\\u2019s pottage, the punishment of Sodom,and the troubles of the boy Joseph made her turn pale and open her blueeyes wide.Afterwards when he gave up being a lackey, and with the money he hadsaved opened a shop in the village, Mashutka had gone away to Moscowwith his master\\u2019s family....Three years before her death she had come to see her father. He hadscarcely recognized her. She was a graceful young woman with the mannersof a young lady, and dressed like one. She talked cleverly, as thoughfrom a book, smoked, and slept till midday. When Andrey Andreyitch askedher what she was doing, she had announced, looking him boldly straightin the face: \\u201cI am an actress.\\u201d Such frankness struck the former flunkeyas the acme of cynicism. Mashutka had begun boasting of her successesand her stage life; but seeing that her father only turned crimson andthrew up his hands, she ceased. And they spent a fortnight togetherwithout speaking or looking at one another till the day she went away.Before she went away she asked her father to come for a walk on the bankof the river. Painful as it was for him to walk in the light of day, inthe sight of all honest people, with a daughter who was an actress, heyielded to her request.\\u201cWhat a lovely place you live in!\\u201d she said enthusiastically. \\u201cWhatravines and marshes! Good heavens, how lovely my native place is!\\u201dAnd she had burst into tears.\\u201cThe place is simply taking up room,...\\u201d Andrey Andreyvitchhad thought, looking blankly at the ravines, not understanding hisdaughter\\u2019s enthusiasm. \\u201cThere is no more profit from them than milk froma billy-goat.\\u201dAnd she had cried and cried, drawing her breath greedily with her wholechest, as though she felt she had not a long time left to breathe.Andrey Andreyitch shook his head like a horse that has been bitten, andto stifle painful memories began rapidly crossing himself....\\u201cBe mindful, O Lord,\\u201d he muttered, \\u201cof Thy departed servant, the harlotMariya, and forgive her sins, voluntary or involuntary....\\u201dThe unseemly word dropped from his lips again, but he did not noticeit: what is firmly imbedded in the consciousness cannot be driven out byFather Grigory\\u2019s exhortations or even knocked out by a nail. Makaryevnasighed and whispered something, drawing in a deep breath, whileone-armed Mitka was brooding over something....\\u201cWhere there is no sickness, nor grief, nor sighing,\\u201d droned thesacristan, covering his right cheek with his hand.Bluish smoke coiled up from the censer and bathed in the broad, slantingpatch of sunshine which cut across the gloomy, lifeless emptiness of thechurch. And it seemed as though the soul of the dead woman were soaringinto the sunlight together with the smoke. The coils of smoke like achild\\u2019s curls eddied round and round, floating upwards to the windowand, as it were, holding aloof from the woes and tribulations of whichthat poor soul was full.\"\n        ],\n        \"semantic_type\": \"\",\n        \"description\": \"\"\n      }\n    },\n    {\n      \"column\": \"uniq_word\",\n      \"properties\": {\n        \"dtype\": \"number\",\n        \"std\": 227,\n        \"min\": 167,\n        \"max\": 1188,\n        \"num_unique_values\": 32,\n        \"samples\": [\n          438,\n          462,\n          359\n        ],\n        \"semantic_type\": \"\",\n        \"description\": \"\"\n      }\n    },\n    {\n      \"column\": \"avg_sen\",\n      \"properties\": {\n        \"dtype\": \"number\",\n        \"std\": 6.507489888146081,\n        \"min\": 18.821428571428573,\n        \"max\": 44.72641509433962,\n        \"num_unique_values\": 34,\n        \"samples\": [\n          18.821428571428573,\n          25.142857142857142,\n          23.84313725490196\n        ],\n        \"semantic_type\": \"\",\n        \"description\": \"\"\n      }\n    },\n    {\n      \"column\": \"lex_rich\",\n      \"properties\": {\n        \"dtype\": \"number\",\n        \"std\": 0.0025763717971001706,\n        \"min\": 0.001360489776319475,\n        \"max\": 0.012060719484300271,\n        \"num_unique_values\": 34,\n        \"samples\": [\n          0.005151098901098901,\n          0.0030317613089509143,\n          0.005349439171699741\n        ],\n        \"semantic_type\": \"\",\n        \"description\": \"\"\n      }\n    },\n    {\n      \"column\": \"avg_word_len\",\n      \"properties\": {\n        \"dtype\": \"number\",\n        \"std\": 0.0,\n        \"min\": 1.0,\n        \"max\": 1.0,\n        \"num_unique_values\": 1,\n        \"samples\": [\n          1.0\n        ],\n        \"semantic_type\": \"\",\n        \"description\": \"\"\n      }\n    },\n    {\n      \"column\": \"punctuation_dens\",\n      \"properties\": {\n        \"dtype\": \"number\",\n        \"std\": 2.497374172843337,\n        \"min\": 12.275891162202067,\n        \"max\": 22.04933586337761,\n        \"num_unique_values\": 34,\n        \"samples\": [\n          22.04933586337761\n        ],\n        \"semantic_type\": \"\",\n        \"description\": \"\"\n      }\n    },\n    {\n      \"column\": \"author\",\n      \"properties\": {\n        \"dtype\": \"number\",\n        \"std\": 0,\n        \"min\": 1,\n        \"max\": 2,\n        \"num_unique_values\": 2,\n        \"samples\": [\n          2\n        ],\n        \"semantic_type\": \"\",\n        \"description\": \"\"\n      }\n    },\n    {\n      \"column\": \"count_vectorizer\",\n      \"properties\": {\n        \"dtype\": \"object\",\n        \"semantic_type\": \"\",\n        \"description\": \"\"\n      }\n    },\n    {\n      \"column\": \"tfdif_vectorized\",\n      \"properties\": {\n        \"dtype\": \"object\",\n        \"semantic_type\": \"\",\n        \"description\": \"\"\n      }\n    }\n  ]\n}"
            }
          },
          "metadata": {},
          "execution_count": 15
        }
      ]
    },
    {
      "cell_type": "code",
      "source": [
        "#  tdidf\n",
        "\n",
        "df['author'].unique()"
      ],
      "metadata": {
        "colab": {
          "base_uri": "https://localhost:8080/"
        },
        "id": "zK7Ax7cht_Iz",
        "outputId": "38ce47a4-b197-4518-dc4c-fa14d3363105"
      },
      "execution_count": 16,
      "outputs": [
        {
          "output_type": "execute_result",
          "data": {
            "text/plain": [
              "array([1, 2])"
            ]
          },
          "metadata": {},
          "execution_count": 16
        }
      ]
    },
    {
      "cell_type": "code",
      "source": [
        "!pip install optuna"
      ],
      "metadata": {
        "colab": {
          "base_uri": "https://localhost:8080/"
        },
        "id": "GrqVoh4azC2S",
        "outputId": "4776be1d-9aad-4623-f534-1faed974c52c"
      },
      "execution_count": 12,
      "outputs": [
        {
          "output_type": "stream",
          "name": "stdout",
          "text": [
            "Collecting optuna\n",
            "  Downloading optuna-3.6.1-py3-none-any.whl (380 kB)\n",
            "\u001b[2K     \u001b[90m━━━━━━━━━━━━━━━━━━━━━━━━━━━━━━━━━━━━━━━━\u001b[0m \u001b[32m380.1/380.1 kB\u001b[0m \u001b[31m8.1 MB/s\u001b[0m eta \u001b[36m0:00:00\u001b[0m\n",
            "\u001b[?25hCollecting alembic>=1.5.0 (from optuna)\n",
            "  Downloading alembic-1.13.2-py3-none-any.whl (232 kB)\n",
            "\u001b[2K     \u001b[90m━━━━━━━━━━━━━━━━━━━━━━━━━━━━━━━━━━━━━━━━\u001b[0m \u001b[32m233.0/233.0 kB\u001b[0m \u001b[31m25.5 MB/s\u001b[0m eta \u001b[36m0:00:00\u001b[0m\n",
            "\u001b[?25hCollecting colorlog (from optuna)\n",
            "  Downloading colorlog-6.8.2-py3-none-any.whl (11 kB)\n",
            "Requirement already satisfied: numpy in /usr/local/lib/python3.10/dist-packages (from optuna) (1.25.2)\n",
            "Requirement already satisfied: packaging>=20.0 in /usr/local/lib/python3.10/dist-packages (from optuna) (24.1)\n",
            "Requirement already satisfied: sqlalchemy>=1.3.0 in /usr/local/lib/python3.10/dist-packages (from optuna) (2.0.31)\n",
            "Requirement already satisfied: tqdm in /usr/local/lib/python3.10/dist-packages (from optuna) (4.66.4)\n",
            "Requirement already satisfied: PyYAML in /usr/local/lib/python3.10/dist-packages (from optuna) (6.0.1)\n",
            "Collecting Mako (from alembic>=1.5.0->optuna)\n",
            "  Downloading Mako-1.3.5-py3-none-any.whl (78 kB)\n",
            "\u001b[2K     \u001b[90m━━━━━━━━━━━━━━━━━━━━━━━━━━━━━━━━━━━━━━━━\u001b[0m \u001b[32m78.6/78.6 kB\u001b[0m \u001b[31m8.9 MB/s\u001b[0m eta \u001b[36m0:00:00\u001b[0m\n",
            "\u001b[?25hRequirement already satisfied: typing-extensions>=4 in /usr/local/lib/python3.10/dist-packages (from alembic>=1.5.0->optuna) (4.12.2)\n",
            "Requirement already satisfied: greenlet!=0.4.17 in /usr/local/lib/python3.10/dist-packages (from sqlalchemy>=1.3.0->optuna) (3.0.3)\n",
            "Requirement already satisfied: MarkupSafe>=0.9.2 in /usr/local/lib/python3.10/dist-packages (from Mako->alembic>=1.5.0->optuna) (2.1.5)\n",
            "Installing collected packages: Mako, colorlog, alembic, optuna\n",
            "Successfully installed Mako-1.3.5 alembic-1.13.2 colorlog-6.8.2 optuna-3.6.1\n"
          ]
        }
      ]
    },
    {
      "cell_type": "markdown",
      "metadata": {
        "id": "lgEtwoYw_Eet"
      },
      "source": [
        "###  1 Mark -> c) Is stop word removal necessary in the context of author identification? Your thoughts below?"
      ]
    },
    {
      "cell_type": "code",
      "metadata": {
        "id": "mLrl-HCA_Eeu"
      },
      "source": [
        "# YOUR ANSWER IN TEXT\n",
        "from sklearn.model_selection import train_test_split,cross_val_score\n",
        "from sklearn.svm import SVC\n",
        "from sklearn.tree import DecisionTreeClassifier\n",
        "from sklearn.linear_model import LogisticRegression\n",
        "from sklearn.ensemble import RandomForestClassifier\n",
        "from sklearn.neighbors import KNeighborsClassifier\n",
        "from scipy.sparse import vstack\n",
        "from sklearn.metrics import accuracy_score\n",
        "\n",
        "X_train_ct,X_test_ct,y_train_ct,y_test_ct =  train_test_split(stories_count_vectorized,df['author'],test_size=0.2,random_state=40)\n",
        "X_train_tf,X_test_tf,y_train_tf,y_test_tf =  train_test_split(stories_tfdif_vectorized,df['author'],test_size=0.2,random_state=40)\n",
        "X_train_w2v,X_test_w2v,y_train_w2v,y_test_w2v =  train_test_split(data,df['author'],test_size=0.2,random_state=40)\n",
        "\n",
        "# X_train_ct = vstack(X_train_ct.tolist()).toarray()\n",
        "# X_test_ct = vstack(X_test_ct.tolist()).toarray()\n",
        "# X_train_tf = vstack(X_train_tf.tolist()).toarray()\n",
        "# X_test_tf = vstack(X_test_tf.tolist()).toarray()\n",
        "dt = DecisionTreeClassifier()\n",
        "\n",
        "dt.fit(X_train_w2v,y_train_w2v)\n",
        "predict = dt.predict(X_test_w2v)"
      ],
      "execution_count": 94,
      "outputs": []
    },
    {
      "cell_type": "code",
      "source": [
        "accuracy_score(predict,y_test_ct)"
      ],
      "metadata": {
        "colab": {
          "base_uri": "https://localhost:8080/"
        },
        "id": "F-nmcP8-_hPz",
        "outputId": "ddf60d6e-5c68-4957-cc24-c76feb4fa72e"
      },
      "execution_count": 27,
      "outputs": [
        {
          "output_type": "execute_result",
          "data": {
            "text/plain": [
              "0.7142857142857143"
            ]
          },
          "metadata": {},
          "execution_count": 27
        }
      ]
    },
    {
      "cell_type": "code",
      "source": [
        "\n",
        "\n",
        "def objective(trial):\n",
        "  max_depth = trial.suggest_int('max_depth',1,10)\n",
        "  min_samples_leaf = trial.suggest_int('min_samples_leaf',1,10)\n",
        "  clf= DecisionTreeClassifier(max_depth=max_depth,min_samples_leaf=min_samples_leaf,random_state=40)\n",
        "\n",
        "  score = cross_val_score(clf,X_train_ct,y_train_ct,cv=4,scoring='accuracy').mean()\n",
        "  return score\n",
        "\n",
        "\n",
        "\n",
        "def objective_knn(trial):\n",
        "  best_neighbours = trial.suggest_int('n_neighbors',1,len(y_train_ct)-1)\n",
        "  clf = KNeighborsClassifier(n_neighbors=best_neighbours,)\n",
        "  score = cross_val_score(clf,X_train_ct,y_train_ct,cv=4,scoring='accuracy').mean()\n",
        "  return score\n",
        "\n"
      ],
      "metadata": {
        "id": "w3pnP0VqzBov"
      },
      "execution_count": 38,
      "outputs": []
    },
    {
      "cell_type": "code",
      "source": [
        "import optuna\n",
        "\n",
        "def best_dec(model):\n",
        "  study = optuna.create_study(direction='maximize')\n",
        "  clb=objective_knn\n",
        "  if model == 'DT':\n",
        "    clb = objective\n",
        "  study.optimize(clb,n_trials=50)\n",
        "  print(study.best_params)\n",
        "\n",
        "\n",
        "best_dec('DT')\n",
        "\n",
        "# best_dec('KNN')\n",
        "# {'max_depth': 4, 'min_samples_leaf': 7}\n",
        "#  n-neightbour 11"
      ],
      "metadata": {
        "colab": {
          "base_uri": "https://localhost:8080/"
        },
        "id": "a4SaWD3B6x-8",
        "outputId": "5e165a0c-13fe-4946-e125-dd795770bed2",
        "collapsed": true
      },
      "execution_count": 36,
      "outputs": [
        {
          "output_type": "stream",
          "name": "stderr",
          "text": [
            "[I 2024-07-10 19:08:34,998] A new study created in memory with name: no-name-8f8e1b1c-832c-4768-92be-4bfae4b01ef1\n",
            "[I 2024-07-10 19:08:35,029] Trial 0 finished with value: 0.5833333333333334 and parameters: {'max_depth': 3, 'min_samples_leaf': 3}. Best is trial 0 with value: 0.5833333333333334.\n",
            "[I 2024-07-10 19:08:35,055] Trial 1 finished with value: 0.6607142857142857 and parameters: {'max_depth': 4, 'min_samples_leaf': 7}. Best is trial 1 with value: 0.6607142857142857.\n",
            "[I 2024-07-10 19:08:35,081] Trial 2 finished with value: 0.6607142857142857 and parameters: {'max_depth': 2, 'min_samples_leaf': 7}. Best is trial 1 with value: 0.6607142857142857.\n",
            "[I 2024-07-10 19:08:35,110] Trial 3 finished with value: 0.6607142857142857 and parameters: {'max_depth': 3, 'min_samples_leaf': 5}. Best is trial 1 with value: 0.6607142857142857.\n",
            "[I 2024-07-10 19:08:35,139] Trial 4 finished with value: 0.5833333333333334 and parameters: {'max_depth': 10, 'min_samples_leaf': 2}. Best is trial 1 with value: 0.6607142857142857.\n",
            "[I 2024-07-10 19:08:35,167] Trial 5 finished with value: 0.6607142857142857 and parameters: {'max_depth': 5, 'min_samples_leaf': 9}. Best is trial 1 with value: 0.6607142857142857.\n",
            "[I 2024-07-10 19:08:35,204] Trial 6 finished with value: 0.5833333333333334 and parameters: {'max_depth': 3, 'min_samples_leaf': 2}. Best is trial 1 with value: 0.6607142857142857.\n",
            "[I 2024-07-10 19:08:35,228] Trial 7 finished with value: 0.6607142857142857 and parameters: {'max_depth': 7, 'min_samples_leaf': 8}. Best is trial 1 with value: 0.6607142857142857.\n",
            "[I 2024-07-10 19:08:35,255] Trial 8 finished with value: 0.5833333333333334 and parameters: {'max_depth': 8, 'min_samples_leaf': 3}. Best is trial 1 with value: 0.6607142857142857.\n",
            "[I 2024-07-10 19:08:35,279] Trial 9 finished with value: 0.6607142857142857 and parameters: {'max_depth': 8, 'min_samples_leaf': 8}. Best is trial 1 with value: 0.6607142857142857.\n",
            "[I 2024-07-10 19:08:35,315] Trial 10 finished with value: 0.6607142857142857 and parameters: {'max_depth': 5, 'min_samples_leaf': 10}. Best is trial 1 with value: 0.6607142857142857.\n",
            "[I 2024-07-10 19:08:35,351] Trial 11 finished with value: 0.6607142857142857 and parameters: {'max_depth': 1, 'min_samples_leaf': 6}. Best is trial 1 with value: 0.6607142857142857.\n",
            "[I 2024-07-10 19:08:35,387] Trial 12 finished with value: 0.6607142857142857 and parameters: {'max_depth': 1, 'min_samples_leaf': 6}. Best is trial 1 with value: 0.6607142857142857.\n",
            "[I 2024-07-10 19:08:35,424] Trial 13 finished with value: 0.6607142857142857 and parameters: {'max_depth': 3, 'min_samples_leaf': 7}. Best is trial 1 with value: 0.6607142857142857.\n",
            "[I 2024-07-10 19:08:35,464] Trial 14 finished with value: 0.6607142857142857 and parameters: {'max_depth': 4, 'min_samples_leaf': 5}. Best is trial 1 with value: 0.6607142857142857.\n",
            "[I 2024-07-10 19:08:35,507] Trial 15 finished with value: 0.6607142857142857 and parameters: {'max_depth': 1, 'min_samples_leaf': 7}. Best is trial 1 with value: 0.6607142857142857.\n",
            "[I 2024-07-10 19:08:35,559] Trial 16 finished with value: 0.6607142857142857 and parameters: {'max_depth': 6, 'min_samples_leaf': 4}. Best is trial 1 with value: 0.6607142857142857.\n",
            "[I 2024-07-10 19:08:35,599] Trial 17 finished with value: 0.6607142857142857 and parameters: {'max_depth': 2, 'min_samples_leaf': 10}. Best is trial 1 with value: 0.6607142857142857.\n",
            "[I 2024-07-10 19:08:35,636] Trial 18 finished with value: 0.6607142857142857 and parameters: {'max_depth': 4, 'min_samples_leaf': 8}. Best is trial 1 with value: 0.6607142857142857.\n",
            "[I 2024-07-10 19:08:35,672] Trial 19 finished with value: 0.6607142857142857 and parameters: {'max_depth': 2, 'min_samples_leaf': 7}. Best is trial 1 with value: 0.6607142857142857.\n",
            "[I 2024-07-10 19:08:35,709] Trial 20 finished with value: 0.6607142857142857 and parameters: {'max_depth': 6, 'min_samples_leaf': 9}. Best is trial 1 with value: 0.6607142857142857.\n",
            "[I 2024-07-10 19:08:35,749] Trial 21 finished with value: 0.6607142857142857 and parameters: {'max_depth': 4, 'min_samples_leaf': 5}. Best is trial 1 with value: 0.6607142857142857.\n",
            "[I 2024-07-10 19:08:35,792] Trial 22 finished with value: 0.6607142857142857 and parameters: {'max_depth': 2, 'min_samples_leaf': 4}. Best is trial 1 with value: 0.6607142857142857.\n",
            "[I 2024-07-10 19:08:35,830] Trial 23 finished with value: 0.6607142857142857 and parameters: {'max_depth': 3, 'min_samples_leaf': 6}. Best is trial 1 with value: 0.6607142857142857.\n",
            "[I 2024-07-10 19:08:35,872] Trial 24 finished with value: 0.6607142857142857 and parameters: {'max_depth': 4, 'min_samples_leaf': 5}. Best is trial 1 with value: 0.6607142857142857.\n",
            "[I 2024-07-10 19:08:35,908] Trial 25 finished with value: 0.6607142857142857 and parameters: {'max_depth': 2, 'min_samples_leaf': 7}. Best is trial 1 with value: 0.6607142857142857.\n",
            "[I 2024-07-10 19:08:35,946] Trial 26 finished with value: 0.6607142857142857 and parameters: {'max_depth': 5, 'min_samples_leaf': 4}. Best is trial 1 with value: 0.6607142857142857.\n",
            "[I 2024-07-10 19:08:36,000] Trial 27 finished with value: 0.6607142857142857 and parameters: {'max_depth': 3, 'min_samples_leaf': 6}. Best is trial 1 with value: 0.6607142857142857.\n",
            "[I 2024-07-10 19:08:36,065] Trial 28 finished with value: 0.5833333333333334 and parameters: {'max_depth': 2, 'min_samples_leaf': 1}. Best is trial 1 with value: 0.6607142857142857.\n",
            "[I 2024-07-10 19:08:36,122] Trial 29 finished with value: 0.6607142857142857 and parameters: {'max_depth': 4, 'min_samples_leaf': 9}. Best is trial 1 with value: 0.6607142857142857.\n",
            "[I 2024-07-10 19:08:36,176] Trial 30 finished with value: 0.6607142857142857 and parameters: {'max_depth': 1, 'min_samples_leaf': 8}. Best is trial 1 with value: 0.6607142857142857.\n",
            "[I 2024-07-10 19:08:36,234] Trial 31 finished with value: 0.6607142857142857 and parameters: {'max_depth': 5, 'min_samples_leaf': 9}. Best is trial 1 with value: 0.6607142857142857.\n",
            "[I 2024-07-10 19:08:36,293] Trial 32 finished with value: 0.6607142857142857 and parameters: {'max_depth': 3, 'min_samples_leaf': 9}. Best is trial 1 with value: 0.6607142857142857.\n",
            "[I 2024-07-10 19:08:36,347] Trial 33 finished with value: 0.6607142857142857 and parameters: {'max_depth': 10, 'min_samples_leaf': 7}. Best is trial 1 with value: 0.6607142857142857.\n",
            "[I 2024-07-10 19:08:36,405] Trial 34 finished with value: 0.6607142857142857 and parameters: {'max_depth': 6, 'min_samples_leaf': 8}. Best is trial 1 with value: 0.6607142857142857.\n",
            "[I 2024-07-10 19:08:36,462] Trial 35 finished with value: 0.5833333333333334 and parameters: {'max_depth': 7, 'min_samples_leaf': 3}. Best is trial 1 with value: 0.6607142857142857.\n",
            "[I 2024-07-10 19:08:36,519] Trial 36 finished with value: 0.6607142857142857 and parameters: {'max_depth': 5, 'min_samples_leaf': 10}. Best is trial 1 with value: 0.6607142857142857.\n",
            "[I 2024-07-10 19:08:36,579] Trial 37 finished with value: 0.6607142857142857 and parameters: {'max_depth': 3, 'min_samples_leaf': 5}. Best is trial 1 with value: 0.6607142857142857.\n",
            "[I 2024-07-10 19:08:36,635] Trial 38 finished with value: 0.6607142857142857 and parameters: {'max_depth': 9, 'min_samples_leaf': 6}. Best is trial 1 with value: 0.6607142857142857.\n",
            "[I 2024-07-10 19:08:36,690] Trial 39 finished with value: 0.6607142857142857 and parameters: {'max_depth': 7, 'min_samples_leaf': 8}. Best is trial 1 with value: 0.6607142857142857.\n",
            "[I 2024-07-10 19:08:36,750] Trial 40 finished with value: 0.5833333333333334 and parameters: {'max_depth': 5, 'min_samples_leaf': 2}. Best is trial 1 with value: 0.6607142857142857.\n",
            "[I 2024-07-10 19:08:36,814] Trial 41 finished with value: 0.6607142857142857 and parameters: {'max_depth': 7, 'min_samples_leaf': 8}. Best is trial 1 with value: 0.6607142857142857.\n",
            "[I 2024-07-10 19:08:36,873] Trial 42 finished with value: 0.6607142857142857 and parameters: {'max_depth': 4, 'min_samples_leaf': 7}. Best is trial 1 with value: 0.6607142857142857.\n",
            "[I 2024-07-10 19:08:36,930] Trial 43 finished with value: 0.6607142857142857 and parameters: {'max_depth': 8, 'min_samples_leaf': 9}. Best is trial 1 with value: 0.6607142857142857.\n",
            "[I 2024-07-10 19:08:36,985] Trial 44 finished with value: 0.6607142857142857 and parameters: {'max_depth': 6, 'min_samples_leaf': 7}. Best is trial 1 with value: 0.6607142857142857.\n",
            "[I 2024-07-10 19:08:37,040] Trial 45 finished with value: 0.6607142857142857 and parameters: {'max_depth': 7, 'min_samples_leaf': 6}. Best is trial 1 with value: 0.6607142857142857.\n",
            "[I 2024-07-10 19:08:37,095] Trial 46 finished with value: 0.6607142857142857 and parameters: {'max_depth': 3, 'min_samples_leaf': 8}. Best is trial 1 with value: 0.6607142857142857.\n",
            "[I 2024-07-10 19:08:37,149] Trial 47 finished with value: 0.6607142857142857 and parameters: {'max_depth': 4, 'min_samples_leaf': 10}. Best is trial 1 with value: 0.6607142857142857.\n",
            "[I 2024-07-10 19:08:37,203] Trial 48 finished with value: 0.6607142857142857 and parameters: {'max_depth': 9, 'min_samples_leaf': 7}. Best is trial 1 with value: 0.6607142857142857.\n",
            "[I 2024-07-10 19:08:37,257] Trial 49 finished with value: 0.6607142857142857 and parameters: {'max_depth': 2, 'min_samples_leaf': 8}. Best is trial 1 with value: 0.6607142857142857.\n"
          ]
        },
        {
          "output_type": "stream",
          "name": "stdout",
          "text": [
            "{'max_depth': 4, 'min_samples_leaf': 7}\n"
          ]
        }
      ]
    },
    {
      "cell_type": "code",
      "source": [
        "classifer= {\n",
        "    'rf' : RandomForestClassifier(random_state=40),\n",
        "    'dt' : DecisionTreeClassifier(random_state=40),\n",
        "    'lg': LogisticRegression(random_state=40),\n",
        "    'knn': KNeighborsClassifier(n_neighbors=11),\n",
        "    'svc':SVC(kernel='linear')\n",
        "\n",
        "}\n",
        "\n",
        "def classify_for_datasets(X_train,X_test,y_train,y_test):\n",
        "\n",
        "  for model in classifer:\n",
        "    md = classifer[model]\n",
        "    md.fit(X_train,y_train)\n",
        "    x_pred = md.predict(X_test)\n",
        "\n",
        "    print(f\"Accuracy by {model} is {accuracy_score(x_pred,y_test)}\")\n",
        "\n",
        "\n",
        "# classify_for_datasets(X_train_ct,X_test_ct,y_train_ct,y_test_ct)\n",
        "\n",
        "# classify_for_datasets(X_train_tf,X_test_tf,y_train_tf,y_test_tf)\n",
        "\n",
        "classify_for_datasets(X_train_w2v,X_test_w2v,y_train_w2v,y_test_w2v)"
      ],
      "metadata": {
        "colab": {
          "base_uri": "https://localhost:8080/"
        },
        "id": "3O_wruZ1DNpM",
        "outputId": "6c5de335-1f6e-43a5-9ba8-2d224c2ca614"
      },
      "execution_count": 95,
      "outputs": [
        {
          "output_type": "stream",
          "name": "stdout",
          "text": [
            "Accuracy by rf is 0.8571428571428571\n",
            "Accuracy by dt is 0.7142857142857143\n",
            "Accuracy by lg is 0.7142857142857143\n",
            "Accuracy by knn is 0.8571428571428571\n",
            "Accuracy by svc is 0.8571428571428571\n"
          ]
        }
      ]
    },
    {
      "cell_type": "markdown",
      "metadata": {
        "id": "vWZ-5hiZN-jR"
      },
      "source": [
        "##**Stage 4:** Classification :\n",
        "\n",
        "### Expected accuracy is above 85%"
      ]
    },
    {
      "cell_type": "markdown",
      "metadata": {
        "id": "p9eqZubqiRKi"
      },
      "source": [
        "### 2 Marks -> Perform a classification using either features obtained from Stage2 or Stage3"
      ]
    },
    {
      "cell_type": "code",
      "metadata": {
        "id": "lKmfqV25a05p"
      },
      "source": [
        "# YOUR CODE HERE"
      ],
      "execution_count": null,
      "outputs": []
    },
    {
      "cell_type": "markdown",
      "metadata": {
        "id": "gXGRHmvSJWRd"
      },
      "source": [
        "# Further Ideas for exploration after the hackathon:\n",
        "\n",
        "**Statistical analysis** of text using NLP, by analysis meaning of sentences, feature based grammars and analyzing structure of sentences!\n",
        "\n",
        "reference: www.nltk.org/book"
      ]
    }
  ]
}