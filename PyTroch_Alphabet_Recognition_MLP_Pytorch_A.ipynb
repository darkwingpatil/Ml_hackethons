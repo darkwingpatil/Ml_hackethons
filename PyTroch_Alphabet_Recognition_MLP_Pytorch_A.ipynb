{
  "nbformat": 4,
  "nbformat_minor": 0,
  "metadata": {
    "accelerator": "GPU",
    "colab": {
      "provenance": [],
      "include_colab_link": true
    },
    "kernelspec": {
      "display_name": "Python 3",
      "name": "python3"
    },
    "language_info": {
      "name": "python"
    }
  },
  "cells": [
    {
      "cell_type": "markdown",
      "metadata": {
        "id": "view-in-github",
        "colab_type": "text"
      },
      "source": [
        "<a href=\"https://colab.research.google.com/github/darkwingpatil/Ml_hackethons/blob/main/PyTroch_Alphabet_Recognition_MLP_Pytorch_A.ipynb\" target=\"_parent\"><img src=\"https://colab.research.google.com/assets/colab-badge.svg\" alt=\"Open In Colab\"/></a>"
      ]
    },
    {
      "cell_type": "markdown",
      "metadata": {
        "id": "5aGs233mlbZV"
      },
      "source": [
        "# Advanced Certification in AIML\n",
        "## A Program by IIIT-H and TalentSprint"
      ]
    },
    {
      "cell_type": "markdown",
      "metadata": {
        "id": "9-ScFyDQs9Py"
      },
      "source": [
        "## Learning Objectives"
      ]
    },
    {
      "cell_type": "markdown",
      "metadata": {
        "id": "dA-UwvD_lbZY"
      },
      "source": [
        "At the end of the experiment you will be able to :\n",
        "\n",
        "* classify EMNIST data using MLPClassifier\n",
        "* understand how to implement MLP using PyTorch to run on GPU\n",
        "* classify EMNIST data using MLP PyTorch\n",
        "\n"
      ]
    },
    {
      "cell_type": "code",
      "metadata": {
        "id": "a5iYhLdv7djw",
        "colab": {
          "base_uri": "https://localhost:8080/",
          "height": 501
        },
        "outputId": "36d4c7c6-e2c6-41b8-fd65-eabe666452b7"
      },
      "source": [
        "#@title Experiment Explanation Video\n",
        "from IPython.display import HTML\n",
        "\n",
        "HTML(\"\"\"<video width=\"854\" height=\"480\" controls>\n",
        "  <source src=\"https://cdn.exec.talentsprint.com/non-processed/alphabet_recognition_MLP_pytorch_walkthrough.mp4\" type=\"video/mp4\">\n",
        "</video>\n",
        "\"\"\")"
      ],
      "execution_count": 1,
      "outputs": [
        {
          "output_type": "execute_result",
          "data": {
            "text/plain": [
              "<IPython.core.display.HTML object>"
            ],
            "text/html": [
              "<video width=\"854\" height=\"480\" controls>\n",
              "  <source src=\"https://cdn.exec.talentsprint.com/non-processed/alphabet_recognition_MLP_pytorch_walkthrough.mp4\" type=\"video/mp4\">\n",
              "</video>\n"
            ]
          },
          "metadata": {},
          "execution_count": 1
        }
      ]
    },
    {
      "cell_type": "markdown",
      "metadata": {
        "id": "KFAZONgRm2fM"
      },
      "source": [
        "## Dataset"
      ]
    },
    {
      "cell_type": "markdown",
      "metadata": {
        "id": "ijqHaydutZ5K"
      },
      "source": [
        "### Description"
      ]
    },
    {
      "cell_type": "markdown",
      "metadata": {
        "id": "hixia856nUEX"
      },
      "source": [
        "The EMNIST dataset is a set of handwritten alphabet digits derived from the NIST Special Database 19 and converted to a 28x28 pixel image format and dataset structure that directly matches the MNIST dataset.\n",
        "\n",
        "The EMNIST train and test files contain gray-scale images, from one through twenty six.\n",
        "\n",
        "Each image is 28 pixels in height and 28 pixels in width, and a total of 784 pixels. Each pixel has a single pixel-value associated with it, indicating the lightness or darkness of that pixel. This pixel-value is an integer between 0 and 255, inclusive.\n",
        "\n",
        "The training set and the testing data set, has 785 columns. The first column, called \"label\", is the alphabet digit that was drawn by the user. The rest of the columns contain the pixel-values of the associated image."
      ]
    },
    {
      "cell_type": "markdown",
      "metadata": {
        "id": "qUmaxUW-rpxU"
      },
      "source": [
        "### Setup Steps:"
      ]
    },
    {
      "cell_type": "code",
      "metadata": {
        "id": "XcrXxhfmrpxg"
      },
      "source": [
        "#@title Please enter your registration id to start: { run: \"auto\", display-mode: \"form\" }\n",
        "Id = \"2304145\" #@param {type:\"string\"}"
      ],
      "execution_count": 2,
      "outputs": []
    },
    {
      "cell_type": "code",
      "metadata": {
        "id": "iDAfm706rpxg"
      },
      "source": [
        "#@title Please enter your password (normally your phone number) to continue: { run: \"auto\", display-mode: \"form\" }\n",
        "password = \"7892449987\" #@param {type:\"string\"}"
      ],
      "execution_count": 3,
      "outputs": []
    },
    {
      "cell_type": "code",
      "metadata": {
        "cellView": "form",
        "id": "KvdKENTWrpxh",
        "outputId": "12bca15f-c1fc-42f9-a553-b6365a646ce6",
        "colab": {
          "base_uri": "https://localhost:8080/",
          "height": 35
        }
      },
      "source": [
        "#@title Run this cell to complete the setup for this Notebook\n",
        "from IPython import get_ipython\n",
        "import re\n",
        "ipython = get_ipython()\n",
        "\n",
        "notebook= \"U3W12_42_Alphabet_Recognition_MLP_Pytorch_A\" #name of the notebook\n",
        "\n",
        "def setup():\n",
        "#  ipython.magic(\"sx pip3 install torch\")\n",
        "    from IPython.display import HTML, display\n",
        "    ipython.magic(\"sx pip install torch\")\n",
        "    ipython.magic(\"sx wget -qq https://cdn.iiith.talentsprint.com/aiml/Experiment_related_data/EMNIST-Train.zip\")\n",
        "    ipython.magic(\"sx unzip EMNIST-Train.zip\")\n",
        "    ipython.magic(\"sx wget -qq https://cdn.iiith.talentsprint.com/aiml/Experiment_related_data/EMNIST-Test.zip\")\n",
        "    ipython.magic(\"sx unzip EMNIST-Test.zip\")\n",
        "    display(HTML('<script src=\"https://dashboard.talentsprint.com/aiml/record_ip.html?traineeId={0}&recordId={1}\"></script>'.format(getId(),submission_id)))\n",
        "    print(\"Setup completed successfully\")\n",
        "    return\n",
        "\n",
        "def submit_notebook():\n",
        "    ipython.magic(\"notebook -e \"+ notebook + \".ipynb\")\n",
        "\n",
        "    import requests, json, base64, datetime\n",
        "\n",
        "    url = \"https://dashboard.talentsprint.com/xp/app/save_notebook_attempts\"\n",
        "    if not submission_id:\n",
        "      data = {\"id\" : getId(), \"notebook\" : notebook, \"mobile\" : getPassword()}\n",
        "      r = requests.post(url, data = data)\n",
        "      r = json.loads(r.text)\n",
        "\n",
        "      if r[\"status\"] == \"Success\":\n",
        "          return r[\"record_id\"]\n",
        "      elif \"err\" in r:\n",
        "        print(r[\"err\"])\n",
        "        return None\n",
        "      else:\n",
        "        print (\"Something is wrong, the notebook will not be submitted for grading\")\n",
        "        return None\n",
        "\n",
        "    elif getAnswer() and getComplexity() and getAdditional() and getConcepts() and getWalkthrough() and getComments() and getMentorSupport():\n",
        "      f = open(notebook + \".ipynb\", \"rb\")\n",
        "      file_hash = base64.b64encode(f.read())\n",
        "\n",
        "      data = {\"complexity\" : Complexity, \"additional\" :Additional,\n",
        "              \"concepts\" : Concepts, \"record_id\" : submission_id,\n",
        "              \"answer\" : Answer, \"id\" : Id, \"file_hash\" : file_hash,\n",
        "              \"notebook\" : notebook, \"feedback_walkthrough\":Walkthrough ,\n",
        "              \"feedback_experiments_input\" : Comments,\n",
        "              \"feedback_inclass_mentor\": Mentor_support}\n",
        "\n",
        "      r = requests.post(url, data = data)\n",
        "      r = json.loads(r.text)\n",
        "      if \"err\" in r:\n",
        "        print(r[\"err\"])\n",
        "        return None\n",
        "      else:\n",
        "        print(\"Your submission is successful.\")\n",
        "        print(\"Ref Id:\", submission_id)\n",
        "        print(\"Date of submission: \", r[\"date\"])\n",
        "        print(\"Time of submission: \", r[\"time\"])\n",
        "        print(\"View your submissions: https://aiml-iiith.talentsprint.com/notebook_submissions\")\n",
        "        #print(\"For any queries/discrepancies, please connect with mentors through the chat icon in LMS dashboard.\")\n",
        "        return submission_id\n",
        "    else: submission_id\n",
        "\n",
        "\n",
        "def getAdditional():\n",
        "  try:\n",
        "    if not Additional:\n",
        "      raise NameError\n",
        "    else:\n",
        "      return Additional\n",
        "  except NameError:\n",
        "    print (\"Please answer Additional Question\")\n",
        "    return None\n",
        "\n",
        "def getComplexity():\n",
        "  try:\n",
        "    if not Complexity:\n",
        "      raise NameError\n",
        "    else:\n",
        "      return Complexity\n",
        "  except NameError:\n",
        "    print (\"Please answer Complexity Question\")\n",
        "    return None\n",
        "\n",
        "def getConcepts():\n",
        "  try:\n",
        "    if not Concepts:\n",
        "      raise NameError\n",
        "    else:\n",
        "      return Concepts\n",
        "  except NameError:\n",
        "    print (\"Please answer Concepts Question\")\n",
        "    return None\n",
        "\n",
        "\n",
        "def getWalkthrough():\n",
        "  try:\n",
        "    if not Walkthrough:\n",
        "      raise NameError\n",
        "    else:\n",
        "      return Walkthrough\n",
        "  except NameError:\n",
        "    print (\"Please answer Walkthrough Question\")\n",
        "    return None\n",
        "\n",
        "def getComments():\n",
        "  try:\n",
        "    if not Comments:\n",
        "      raise NameError\n",
        "    else:\n",
        "      return Comments\n",
        "  except NameError:\n",
        "    print (\"Please answer Comments Question\")\n",
        "    return None\n",
        "\n",
        "\n",
        "def getMentorSupport():\n",
        "  try:\n",
        "    if not Mentor_support:\n",
        "      raise NameError\n",
        "    else:\n",
        "      return Mentor_support\n",
        "  except NameError:\n",
        "    print (\"Please answer Mentor support Question\")\n",
        "    return None\n",
        "\n",
        "def getAnswer():\n",
        "  try:\n",
        "    if not Answer:\n",
        "      raise NameError\n",
        "    else:\n",
        "      return Answer\n",
        "  except NameError:\n",
        "    print (\"Please answer Question\")\n",
        "    return None\n",
        "\n",
        "\n",
        "def getId():\n",
        "  try:\n",
        "    return Id if Id else None\n",
        "  except NameError:\n",
        "    return None\n",
        "\n",
        "def getPassword():\n",
        "  try:\n",
        "    return password if password else None\n",
        "  except NameError:\n",
        "    return None\n",
        "\n",
        "submission_id = None\n",
        "### Setup\n",
        "if getPassword() and getId():\n",
        "  submission_id = submit_notebook()\n",
        "  if submission_id:\n",
        "    setup()\n",
        "else:\n",
        "  print (\"Please complete Id and Password cells before running setup\")\n",
        "\n"
      ],
      "execution_count": 4,
      "outputs": [
        {
          "output_type": "display_data",
          "data": {
            "text/plain": [
              "<IPython.core.display.HTML object>"
            ],
            "text/html": [
              "<script src=\"https://dashboard.talentsprint.com/aiml/record_ip.html?traineeId=2304145&recordId=5569\"></script>"
            ]
          },
          "metadata": {}
        },
        {
          "output_type": "stream",
          "name": "stdout",
          "text": [
            "Setup completed successfully\n"
          ]
        }
      ]
    },
    {
      "cell_type": "markdown",
      "metadata": {
        "id": "ELePreM3QBkb"
      },
      "source": [
        "## Importing required packages\n",
        "\n",
        "* First, we import pytorch, the deep learning library.\n",
        "\n",
        "\n",
        "* We also import torch.nn (pytorch’s neural network library), torch.nn.functional (includes non-linear functions like ReLu and sigmoid) and torch.optim for implementing various optimization algorithms.\n",
        "\n"
      ]
    },
    {
      "cell_type": "code",
      "metadata": {
        "id": "yAz1CFkteUWp"
      },
      "source": [
        "import numpy as np\n",
        "import pandas as pd\n",
        "import matplotlib.pyplot as plt\n",
        "from sklearn.neural_network import MLPClassifier\n",
        "from sklearn.metrics import accuracy_score\n",
        "\n",
        "import torch\n",
        "import torch.nn as nn\n",
        "import torch.nn.functional as F\n",
        "import torch.optim as optim\n",
        "from torch.utils.data import DataLoader, TensorDataset\n",
        "\n"
      ],
      "execution_count": 5,
      "outputs": []
    },
    {
      "cell_type": "markdown",
      "metadata": {
        "id": "Du3Q8jTy8Bjr"
      },
      "source": [
        "## Load the EMNIST Train data"
      ]
    },
    {
      "cell_type": "code",
      "metadata": {
        "id": "k3kFmC2_lfxg"
      },
      "source": [
        "training_letters = pd.read_csv('/content/EMNIST-Train.csv')"
      ],
      "execution_count": 6,
      "outputs": []
    },
    {
      "cell_type": "code",
      "metadata": {
        "id": "nUhPojhNOnpY",
        "colab": {
          "base_uri": "https://localhost:8080/"
        },
        "outputId": "391b8bfc-6f1f-4792-995c-5c32a73e7874"
      },
      "source": [
        "training_letters.shape"
      ],
      "execution_count": 7,
      "outputs": [
        {
          "output_type": "execute_result",
          "data": {
            "text/plain": [
              "(62400, 785)"
            ]
          },
          "metadata": {},
          "execution_count": 7
        }
      ]
    },
    {
      "cell_type": "markdown",
      "metadata": {
        "id": "VjbosRO48K-k"
      },
      "source": [
        "## Get the features(pixels) and labels from the trainset"
      ]
    },
    {
      "cell_type": "code",
      "metadata": {
        "id": "llvHdh_yjOen",
        "colab": {
          "base_uri": "https://localhost:8080/"
        },
        "outputId": "e8ee7db9-a36d-434e-84ef-012accb29238"
      },
      "source": [
        "# Rescale the train images by dividing every pixel in every image by 255\n",
        "# Storing the features(pixel values for every image)\n",
        "\n",
        "\n",
        "train_images = training_letters.iloc[:,1:].values/255\n",
        "\n",
        "# Storing the labels(alphabet digits)\n",
        "train_labels = training_letters.iloc[:,0].values\n",
        "\n",
        "print(\"Train Labels before getting 0 based indices\\n\", np.unique(train_labels))\n",
        "print(\"\\n\")\n",
        "\n",
        "# For getting train labels 0 based indices\n",
        "train_labels = train_labels - 1\n",
        "print(\"Train Labels after getting 0 based indicies\\n\", np.unique(train_labels))"
      ],
      "execution_count": 9,
      "outputs": [
        {
          "output_type": "stream",
          "name": "stdout",
          "text": [
            "Train Labels before getting 0 based indices\n",
            " [ 1  2  3  4  5  6  7  8  9 10 11 12 13 14 15 16 17 18 19 20 21 22 23 24\n",
            " 25 26]\n",
            "\n",
            "\n",
            "Train Labels after getting 0 based indicies\n",
            " [ 0  1  2  3  4  5  6  7  8  9 10 11 12 13 14 15 16 17 18 19 20 21 22 23\n",
            " 24 25]\n"
          ]
        }
      ]
    },
    {
      "cell_type": "markdown",
      "metadata": {
        "id": "Yv9r14BoAdvE"
      },
      "source": [
        "## Plotting the training images"
      ]
    },
    {
      "cell_type": "code",
      "metadata": {
        "id": "iK0P0czTl9X1",
        "colab": {
          "base_uri": "https://localhost:8080/",
          "height": 917
        },
        "outputId": "31f3ed2d-504c-45a6-90ee-ae1791492d12"
      },
      "source": [
        "fig,axes = plt.subplots(3,3,figsize=(8,12))\n",
        "for i,ax in enumerate(axes.flat):\n",
        "    ax.imshow(train_images[i].reshape(28,28), cmap ='gray')\n",
        "    ax.set_title(train_labels[i])"
      ],
      "execution_count": 10,
      "outputs": [
        {
          "output_type": "display_data",
          "data": {
            "text/plain": [
              "<Figure size 800x1200 with 9 Axes>"
            ],
            "image/png": "[encoded data removed]"
          },
          "metadata": {}
        }
      ]
    },
    {
      "cell_type": "code",
      "source": [
        "# plot single image\n",
        "\n",
        "number_to_letter = {\n",
        "    0: 'A', 1: 'B', 2: 'C', 3: 'D', 4: 'E',\n",
        "    5: 'F', 6: 'G', 7: 'H', 8: 'I', 9: 'J',\n",
        "    10: 'K', 11: 'L', 12: 'M', 13: 'N', 14: 'O',\n",
        "    15: 'P', 16: 'Q', 17: 'R', 18: 'S', 19: 'T',\n",
        "    20: 'U', 21: 'V', 22: 'W', 23: 'X', 24: 'Y',\n",
        "    25: 'Z'\n",
        "}\n",
        "\n",
        "fig = plt.figure(figsize=(28,4))\n",
        "\n",
        "ax = fig.add_subplot(111)\n",
        "\n",
        "ax.imshow(train_images[0].reshape(28,28),cmap ='gray')\n",
        "ax.set_title(number_to_letter[train_labels[0]])"
      ],
      "metadata": {
        "colab": {
          "base_uri": "https://localhost:8080/",
          "height": 409
        },
        "id": "1dI_4_rNL-cJ",
        "outputId": "4644ded6-5686-461e-aec6-6f3d8c59a3a7"
      },
      "execution_count": 25,
      "outputs": [
        {
          "output_type": "execute_result",
          "data": {
            "text/plain": [
              "Text(0.5, 1.0, 'Q')"
            ]
          },
          "metadata": {},
          "execution_count": 25
        },
        {
          "output_type": "display_data",
          "data": {
            "text/plain": [
              "<Figure size 2800x400 with 1 Axes>"
            ],
            "image/png": "[encoded data removed]"
          },
          "metadata": {}
        }
      ]
    },
    {
      "cell_type": "markdown",
      "metadata": {
        "id": "el_M3jh2LZ8h"
      },
      "source": [
        "## Split the train data into train and test sets\n"
      ]
    },
    {
      "cell_type": "code",
      "metadata": {
        "id": "BI34yCN7m27f"
      },
      "source": [
        "from sklearn.model_selection import train_test_split\n",
        "X_train, X_test, Y_train, Y_test = train_test_split(train_images,train_labels,test_size=0.2,random_state=42)"
      ],
      "execution_count": 26,
      "outputs": []
    },
    {
      "cell_type": "markdown",
      "metadata": {
        "id": "C_ZmFTfR70DW"
      },
      "source": [
        "## Apply MLP Classifier"
      ]
    },
    {
      "cell_type": "markdown",
      "metadata": {
        "id": "dbIayhsI75Rq"
      },
      "source": [
        "#### Train the model\n",
        "\n",
        "Note: This task will take more time for execution"
      ]
    },
    {
      "cell_type": "code",
      "metadata": {
        "id": "sWtlaAC-nu3i",
        "colab": {
          "base_uri": "https://localhost:8080/"
        },
        "outputId": "ecb6d2d7-dfec-4c20-84dc-2c87ad96fdc2"
      },
      "source": [
        "# Create an object for MLP Classifier\n",
        "clf = MLPClassifier()\n",
        "\n",
        "# Fit the data to the model\n",
        "# YOUR CODE HERE\n",
        "clf.fit(X_train,Y_train)\n",
        "\n",
        "# Get the predictions on the test data\n",
        "# YOUR CODE HERE\n",
        "pred= clf.predict(X_test)"
      ],
      "execution_count": 27,
      "outputs": [
        {
          "output_type": "stream",
          "name": "stderr",
          "text": [
            "/usr/local/lib/python3.10/dist-packages/sklearn/neural_network/_multilayer_perceptron.py:691: ConvergenceWarning: Stochastic Optimizer: Maximum iterations (200) reached and the optimization hasn't converged yet.\n",
            "  warnings.warn(\n"
          ]
        }
      ]
    },
    {
      "cell_type": "code",
      "metadata": {
        "id": "BBDmnIKkn7LG",
        "colab": {
          "base_uri": "https://localhost:8080/"
        },
        "outputId": "3a761037-280d-4020-c8ac-ef1921e63372"
      },
      "source": [
        "# Calculate the accuracy\n",
        "accuracy_score(Y_test, pred)"
      ],
      "execution_count": 28,
      "outputs": [
        {
          "output_type": "execute_result",
          "data": {
            "text/plain": [
              "0.8900641025641025"
            ]
          },
          "metadata": {},
          "execution_count": 28
        }
      ]
    },
    {
      "cell_type": "markdown",
      "metadata": {
        "id": "41yRiflVoJYe"
      },
      "source": [
        "#### Test the model"
      ]
    },
    {
      "cell_type": "code",
      "metadata": {
        "id": "xSRuvYmHpnNM",
        "colab": {
          "base_uri": "https://localhost:8080/"
        },
        "outputId": "50646343-c1f3-4e04-9d6e-4ab93ad0c32f"
      },
      "source": [
        "# Load the test data\n",
        "testing_letters = pd.read_csv('/content/EMNIST-Test.csv')\n",
        "print(testing_letters.shape)"
      ],
      "execution_count": 29,
      "outputs": [
        {
          "output_type": "stream",
          "name": "stdout",
          "text": [
            "(10400, 785)\n"
          ]
        }
      ]
    },
    {
      "cell_type": "code",
      "metadata": {
        "id": "FWUeunrZpyFI"
      },
      "source": [
        "# Rescale the train images by dividing every pixel in every image by 255\n",
        "# Storing the features(pixel values for every image)\n",
        "test_images = testing_letters.iloc[:,1:].values/255\n",
        "\n",
        "# Storing the test labels(alphabet digits)\n",
        "test_labels = testing_letters.iloc[:,0].values\n",
        "\n",
        "# For getting test labels 0 based indices\n",
        "test_labels = test_labels - 1"
      ],
      "execution_count": 30,
      "outputs": []
    },
    {
      "cell_type": "code",
      "metadata": {
        "id": "TW_1VzXsqb7a"
      },
      "source": [
        "# Get the predictions on the test images\n",
        "testdata_pred = clf.predict(test_images)"
      ],
      "execution_count": 31,
      "outputs": []
    },
    {
      "cell_type": "code",
      "metadata": {
        "id": "rN6AFM42qenj",
        "colab": {
          "base_uri": "https://localhost:8080/"
        },
        "outputId": "a0041ceb-dbe5-44bc-e3e1-c38d37cf9965"
      },
      "source": [
        "# Calculate the accuracy\n",
        "accuracy_score(testdata_pred, test_labels)"
      ],
      "execution_count": 32,
      "outputs": [
        {
          "output_type": "execute_result",
          "data": {
            "text/plain": [
              "0.8935576923076923"
            ]
          },
          "metadata": {},
          "execution_count": 32
        }
      ]
    },
    {
      "cell_type": "markdown",
      "metadata": {
        "id": "Wi-pr7wUn9qV"
      },
      "source": [
        "## MLP Pytorch"
      ]
    },
    {
      "cell_type": "markdown",
      "metadata": {
        "id": "1AsNZKmR7VwV"
      },
      "source": [
        "#### Prepare the data\n",
        "\n",
        "**torch.utils.data.DataLoader** class represents a Python iterable over a dataset, with following features.\n",
        "\n",
        "1. Batching the data\n",
        "2. Shuffling the data\n",
        "\n",
        "\n",
        "The batches of train and test data are provided via data loaders that provide iterators over the datasets to train our models."
      ]
    },
    {
      "cell_type": "code",
      "metadata": {
        "id": "UevgoHWmi4yT"
      },
      "source": [
        "batch_size=100\n",
        "\n",
        "# t1 = train_images[0]\n",
        "# t2 = torch.FloatTensor(t1)\n",
        "\n",
        "# print(t1)\n",
        "# print(t2)\n",
        "train_dataset = TensorDataset(torch.FloatTensor(train_images), torch.LongTensor(train_labels))\n",
        "test_dataset = TensorDataset(torch.FloatTensor(test_images),torch.LongTensor(test_labels))\n",
        "\n",
        "train_loader = DataLoader(train_dataset,batch_size=100)\n",
        "test_loader = DataLoader(test_dataset, batch_size=100)"
      ],
      "execution_count": 38,
      "outputs": []
    },
    {
      "cell_type": "code",
      "source": [
        "print(train_loader)"
      ],
      "metadata": {
        "colab": {
          "base_uri": "https://localhost:8080/"
        },
        "id": "4toNuav6TOuL",
        "outputId": "5b5fe6b0-ab3b-4ac4-b479-ac03a243c3ea"
      },
      "execution_count": 58,
      "outputs": [
        {
          "output_type": "stream",
          "name": "stdout",
          "text": [
            "<torch.utils.data.dataloader.DataLoader object at 0x787ab9231d50>\n",
            "[16 22 10 ... 13 21  5]\n"
          ]
        }
      ]
    },
    {
      "cell_type": "markdown",
      "metadata": {
        "id": "vbm-8HxIqvxR"
      },
      "source": [
        "**Initializing CUDA**\n",
        "\n",
        "CUDA is used as an interface between our code and the GPU.\n",
        "\n",
        "Normally, we run the code in the CPU. To run it in the GPU, we need CUDA. Check if CUDA is available:"
      ]
    },
    {
      "cell_type": "code",
      "metadata": {
        "id": "PwVGNmOv0Fd9",
        "colab": {
          "base_uri": "https://localhost:8080/"
        },
        "outputId": "3d5870c4-c921-4f01-9a5a-674e9a52e99d"
      },
      "source": [
        "# To test whether GPU instance is present in the system of not.\n",
        "use_cuda = torch.cuda.is_available()\n",
        "print('Using PyTorch version:', torch.__version__, 'CUDA:', use_cuda)"
      ],
      "execution_count": 40,
      "outputs": [
        {
          "output_type": "stream",
          "name": "stdout",
          "text": [
            "Using PyTorch version: 2.3.1+cu121 CUDA: True\n"
          ]
        }
      ]
    },
    {
      "cell_type": "markdown",
      "metadata": {
        "id": "DuGyWSz8q4NQ"
      },
      "source": [
        "If it's False, then we run the program on CPU. If it's True, then we run the program on GPU.\n",
        "\n",
        "Let us initialize some GPU-related variables:"
      ]
    },
    {
      "cell_type": "code",
      "metadata": {
        "id": "m_WeWksDqvxb",
        "colab": {
          "base_uri": "https://localhost:8080/"
        },
        "outputId": "490de24a-3afa-4294-e346-3a02a8f27cc4"
      },
      "source": [
        "device = torch.device(\"cuda\" if use_cuda else \"cpu\")\n",
        "device"
      ],
      "execution_count": 41,
      "outputs": [
        {
          "output_type": "execute_result",
          "data": {
            "text/plain": [
              "device(type='cuda')"
            ]
          },
          "metadata": {},
          "execution_count": 41
        }
      ]
    },
    {
      "cell_type": "markdown",
      "metadata": {
        "id": "u664CO5Zqvx7"
      },
      "source": [
        "#### Define the Neural Network\n",
        "\n",
        "Let's define the network as a Python class.\n",
        "\n",
        "There are three functions that are defined in this class:\n",
        "\n",
        "- ### **\\__init__()**:\n",
        "In this function, we shall declare all the layers of our neural network, including the number of neurons, kernel size etc.\n",
        "\n",
        "- ### **forward()**:\n",
        "This is the function that is used to compute forward pass of the network. Here, we shall connect the different layers we had defined in \\__init__(), according to the network architecture we want to make. In this case, $x -> fc1 -> relu -> fc2 -> out$.\n",
        "\n",
        "\"forward\" can be called by calling the object of this class directly. For example:\n",
        "\n",
        "```\n",
        "model = Net()\n",
        "out = model(x)\n",
        "```\n",
        "\n",
        "\n",
        "- ### **backward()**:\n",
        "This function is used to compute gradients across the entire network, and is called from the loss function at the end of the network.\n",
        "\n",
        "```\n",
        "loss.backward()\n",
        "```\n",
        "\n",
        "We have to write the **\\__init__()** and **forward()** methods, and PyTorch will automatically generate a **backward()** method for computing the gradients for the backward pass.\n",
        "\n",
        "In this case, we pass input (X) through the first layer, pass it’s output through the Relu layer, pass it's output through second layer, pass it's output to the relu layer, pass it's output through the third layer, pass it's output through the log softmax layer."
      ]
    },
    {
      "cell_type": "code",
      "metadata": {
        "id": "-vzpWcHr44xr"
      },
      "source": [
        "\n",
        "class Net(nn.Module):\n",
        "    def __init__(self):\n",
        "        super().__init__()\n",
        "\n",
        "        # YOUR CODE HERE : Define five linear layers where input size of each layer is 784, 150, 100, 50, 50, 26 respectively.\n",
        "        # HINT : Refer to 'nn.linear' function from 'PyTorch' for easy start\n",
        "        self.fc1 = nn.Linear(784,150)\n",
        "        self.fc2 = nn.Linear(150,100)\n",
        "        self.fc3 = nn.Linear(100,50)\n",
        "        self.fc4 = nn.Linear(50,50)\n",
        "        self.fc5 = nn.Linear(50,26)\n",
        "\n",
        "    def forward(self, x):\n",
        "\n",
        "        out = x.view(-1,784)\n",
        "        out = F.relu(self.fc1(out))\n",
        "        out = F.relu(self.fc2(out))\n",
        "        out = F.relu(self.fc3(out))\n",
        "        out = F.relu(self.fc4(out))\n",
        "        out = self.fc5(out)\n",
        "        out = F.log_softmax(out, dim=1)\n",
        "        return out # The output layer is a linear layer with LogSoftmax as activation function because, this is a classification problem."
      ],
      "execution_count": 42,
      "outputs": []
    },
    {
      "cell_type": "markdown",
      "metadata": {
        "id": "sSF28DZSFITy"
      },
      "source": [
        "Let us declare an object of class Net, and make it a CUDA model if CUDA is available:"
      ]
    },
    {
      "cell_type": "markdown",
      "metadata": {
        "id": "nw3kD1Kjqvx_"
      },
      "source": [
        "#### Calling the instances of the network\n",
        "\n",
        "Let us declare an object of class Net, and make it a CUDA model if CUDA is available:"
      ]
    },
    {
      "cell_type": "code",
      "metadata": {
        "id": "VSNz4pSqqvyA"
      },
      "source": [
        "model = Net()\n",
        "model = model.to(device)"
      ],
      "execution_count": 43,
      "outputs": []
    },
    {
      "cell_type": "code",
      "metadata": {
        "id": "DREKeiv8Rnd_",
        "colab": {
          "base_uri": "https://localhost:8080/"
        },
        "outputId": "ff4d6836-43e4-4389-cbf4-0307df6d6c30"
      },
      "source": [
        "print(model)"
      ],
      "execution_count": 44,
      "outputs": [
        {
          "output_type": "stream",
          "name": "stdout",
          "text": [
            "Net(\n",
            "  (fc1): Linear(in_features=784, out_features=150, bias=True)\n",
            "  (fc2): Linear(in_features=150, out_features=100, bias=True)\n",
            "  (fc3): Linear(in_features=100, out_features=50, bias=True)\n",
            "  (fc4): Linear(in_features=50, out_features=50, bias=True)\n",
            "  (fc5): Linear(in_features=50, out_features=26, bias=True)\n",
            ")\n"
          ]
        }
      ]
    },
    {
      "cell_type": "code",
      "source": [
        "# !pip install torchviz\n",
        "#  lets draw an hieracy of our netowrk\n",
        "from torchviz import make_dot\n",
        "\n",
        "dataiter= iter(train_loader)\n",
        "images, labels = next(dataiter)\n",
        "\n",
        "images = images.to(device)\n",
        "\n",
        "make_dot(model(images),params = dict(model.named_parameters()))\n",
        "\n",
        "# model.named_parameters\n",
        "# model.parameters\n"
      ],
      "metadata": {
        "colab": {
          "base_uri": "https://localhost:8080/",
          "height": 1000
        },
        "id": "irLnCAEzYGJ1",
        "outputId": "5b6ab00c-d41f-4a56-ddac-c07503bfcb2b"
      },
      "execution_count": 50,
      "outputs": [
        {
          "output_type": "execute_result",
          "data": {
            "image/svg+xml": "<?xml version=\"1.0\" encoding=\"UTF-8\" standalone=\"no\"?>\n<!DOCTYPE svg PUBLIC \"-//W3C//DTD SVG 1.1//EN\"\n \"http://www.w3.org/Graphics/SVG/1.1/DTD/svg11.dtd\">\n<!-- Generated by graphviz version 2.43.0 (0)\n -->\n<!-- Title: %3 Pages: 1 -->\n<svg width=\"468pt\" height=\"864pt\"\n viewBox=\"0.00 0.00 468.00 864.00\" xmlns=\"http://www.w3.org/2000/svg\" xmlns:xlink=\"http://www.w3.org/1999/xlink\">\n<g id=\"graph0\" class=\"graph\" transform=\"scale(1 1) rotate(0) translate(4 860)\">\n<title>%3</title>\n<polygon fill=\"white\" stroke=\"transparent\" points=\"-4,4 -4,-860 464,-860 464,4 -4,4\"/>\n<!-- 132468481097008 -->\n<g id=\"node1\" class=\"node\">\n<title>132468481097008</title>\n<polygon fill=\"#caff70\" stroke=\"black\" points=\"289,-31 212,-31 212,0 289,0 289,-31\"/>\n<text text-anchor=\"middle\" x=\"250.5\" y=\"-7\" font-family=\"monospace\" font-size=\"10.00\"> (100, 26)</text>\n</g>\n<!-- 132468485691360 -->\n<g id=\"node2\" class=\"node\">\n<title>132468485691360</title>\n<polygon fill=\"lightgrey\" stroke=\"black\" points=\"316,-86 185,-86 185,-67 316,-67 316,-86\"/>\n<text text-anchor=\"middle\" x=\"250.5\" y=\"-74\" font-family=\"monospace\" font-size=\"10.00\">LogSoftmaxBackward0</text>\n</g>\n<!-- 132468485691360&#45;&gt;132468481097008 -->\n<g id=\"edge35\" class=\"edge\">\n<title>132468485691360&#45;&gt;132468481097008</title>\n<path fill=\"none\" stroke=\"black\" d=\"M250.5,-66.79C250.5,-60.07 250.5,-50.4 250.5,-41.34\"/>\n<polygon fill=\"black\" stroke=\"black\" points=\"254,-41.19 250.5,-31.19 247,-41.19 254,-41.19\"/>\n</g>\n<!-- 132468485699184 -->\n<g id=\"node3\" class=\"node\">\n<title>132468485699184</title>\n<polygon fill=\"lightgrey\" stroke=\"black\" points=\"301,-141 200,-141 200,-122 301,-122 301,-141\"/>\n<text text-anchor=\"middle\" x=\"250.5\" y=\"-129\" font-family=\"monospace\" font-size=\"10.00\">AddmmBackward0</text>\n</g>\n<!-- 132468485699184&#45;&gt;132468485691360 -->\n<g id=\"edge1\" class=\"edge\">\n<title>132468485699184&#45;&gt;132468485691360</title>\n<path fill=\"none\" stroke=\"black\" d=\"M250.5,-121.75C250.5,-114.8 250.5,-104.85 250.5,-96.13\"/>\n<polygon fill=\"black\" stroke=\"black\" points=\"254,-96.09 250.5,-86.09 247,-96.09 254,-96.09\"/>\n</g>\n<!-- 132468485699232 -->\n<g id=\"node4\" class=\"node\">\n<title>132468485699232</title>\n<polygon fill=\"lightgrey\" stroke=\"black\" points=\"185,-196 84,-196 84,-177 185,-177 185,-196\"/>\n<text text-anchor=\"middle\" x=\"134.5\" y=\"-184\" font-family=\"monospace\" font-size=\"10.00\">AccumulateGrad</text>\n</g>\n<!-- 132468485699232&#45;&gt;132468485699184 -->\n<g id=\"edge2\" class=\"edge\">\n<title>132468485699232&#45;&gt;132468485699184</title>\n<path fill=\"none\" stroke=\"black\" d=\"M153.14,-176.98C171.8,-168.46 200.75,-155.23 222.24,-145.41\"/>\n<polygon fill=\"black\" stroke=\"black\" points=\"223.88,-148.51 231.52,-141.17 220.97,-142.14 223.88,-148.51\"/>\n</g>\n<!-- 132467040538192 -->\n<g id=\"node5\" class=\"node\">\n<title>132467040538192</title>\n<polygon fill=\"lightblue\" stroke=\"black\" points=\"167,-262 102,-262 102,-232 167,-232 167,-262\"/>\n<text text-anchor=\"middle\" x=\"134.5\" y=\"-250\" font-family=\"monospace\" font-size=\"10.00\">fc5.bias</text>\n<text text-anchor=\"middle\" x=\"134.5\" y=\"-239\" font-family=\"monospace\" font-size=\"10.00\"> (26)</text>\n</g>\n<!-- 132467040538192&#45;&gt;132468485699232 -->\n<g id=\"edge3\" class=\"edge\">\n<title>132467040538192&#45;&gt;132468485699232</title>\n<path fill=\"none\" stroke=\"black\" d=\"M134.5,-231.84C134.5,-224.21 134.5,-214.7 134.5,-206.45\"/>\n<polygon fill=\"black\" stroke=\"black\" points=\"138,-206.27 134.5,-196.27 131,-206.27 138,-206.27\"/>\n</g>\n<!-- 132468485690592 -->\n<g id=\"node6\" class=\"node\">\n<title>132468485690592</title>\n<polygon fill=\"lightgrey\" stroke=\"black\" points=\"298,-196 203,-196 203,-177 298,-177 298,-196\"/>\n<text text-anchor=\"middle\" x=\"250.5\" y=\"-184\" font-family=\"monospace\" font-size=\"10.00\">ReluBackward0</text>\n</g>\n<!-- 132468485690592&#45;&gt;132468485699184 -->\n<g id=\"edge4\" class=\"edge\">\n<title>132468485690592&#45;&gt;132468485699184</title>\n<path fill=\"none\" stroke=\"black\" d=\"M250.5,-176.75C250.5,-169.8 250.5,-159.85 250.5,-151.13\"/>\n<polygon fill=\"black\" stroke=\"black\" points=\"254,-151.09 250.5,-141.09 247,-151.09 254,-151.09\"/>\n</g>\n<!-- 132468485699808 -->\n<g id=\"node7\" class=\"node\">\n<title>132468485699808</title>\n<polygon fill=\"lightgrey\" stroke=\"black\" points=\"293,-256.5 192,-256.5 192,-237.5 293,-237.5 293,-256.5\"/>\n<text text-anchor=\"middle\" x=\"242.5\" y=\"-244.5\" font-family=\"monospace\" font-size=\"10.00\">AddmmBackward0</text>\n</g>\n<!-- 132468485699808&#45;&gt;132468485690592 -->\n<g id=\"edge5\" class=\"edge\">\n<title>132468485699808&#45;&gt;132468485690592</title>\n<path fill=\"none\" stroke=\"black\" d=\"M243.68,-237.37C244.79,-229.25 246.49,-216.81 247.92,-206.39\"/>\n<polygon fill=\"black\" stroke=\"black\" points=\"251.43,-206.55 249.31,-196.17 244.49,-205.6 251.43,-206.55\"/>\n</g>\n<!-- 132468485688000 -->\n<g id=\"node8\" class=\"node\">\n<title>132468485688000</title>\n<polygon fill=\"lightgrey\" stroke=\"black\" points=\"157,-322.5 56,-322.5 56,-303.5 157,-303.5 157,-322.5\"/>\n<text text-anchor=\"middle\" x=\"106.5\" y=\"-310.5\" font-family=\"monospace\" font-size=\"10.00\">AccumulateGrad</text>\n</g>\n<!-- 132468485688000&#45;&gt;132468485699808 -->\n<g id=\"edge6\" class=\"edge\">\n<title>132468485688000&#45;&gt;132468485699808</title>\n<path fill=\"none\" stroke=\"black\" d=\"M124.84,-303.37C147.96,-292.49 187.91,-273.69 214.77,-261.05\"/>\n<polygon fill=\"black\" stroke=\"black\" points=\"216.46,-264.12 224.01,-256.7 213.48,-257.79 216.46,-264.12\"/>\n</g>\n<!-- 132467040549392 -->\n<g id=\"node9\" class=\"node\">\n<title>132467040549392</title>\n<polygon fill=\"lightblue\" stroke=\"black\" points=\"139,-394 74,-394 74,-364 139,-364 139,-394\"/>\n<text text-anchor=\"middle\" x=\"106.5\" y=\"-382\" font-family=\"monospace\" font-size=\"10.00\">fc4.bias</text>\n<text text-anchor=\"middle\" x=\"106.5\" y=\"-371\" font-family=\"monospace\" font-size=\"10.00\"> (50)</text>\n</g>\n<!-- 132467040549392&#45;&gt;132468485688000 -->\n<g id=\"edge7\" class=\"edge\">\n<title>132467040549392&#45;&gt;132468485688000</title>\n<path fill=\"none\" stroke=\"black\" d=\"M106.5,-363.8C106.5,-354.7 106.5,-342.79 106.5,-332.9\"/>\n<polygon fill=\"black\" stroke=\"black\" points=\"110,-332.84 106.5,-322.84 103,-332.84 110,-332.84\"/>\n</g>\n<!-- 132468485687568 -->\n<g id=\"node10\" class=\"node\">\n<title>132468485687568</title>\n<polygon fill=\"lightgrey\" stroke=\"black\" points=\"270,-322.5 175,-322.5 175,-303.5 270,-303.5 270,-322.5\"/>\n<text text-anchor=\"middle\" x=\"222.5\" y=\"-310.5\" font-family=\"monospace\" font-size=\"10.00\">ReluBackward0</text>\n</g>\n<!-- 132468485687568&#45;&gt;132468485699808 -->\n<g id=\"edge8\" class=\"edge\">\n<title>132468485687568&#45;&gt;132468485699808</title>\n<path fill=\"none\" stroke=\"black\" d=\"M225.2,-303.37C228.13,-293.97 232.92,-278.67 236.71,-266.53\"/>\n<polygon fill=\"black\" stroke=\"black\" points=\"240.07,-267.49 239.72,-256.91 233.39,-265.41 240.07,-267.49\"/>\n</g>\n<!-- 132468485696256 -->\n<g id=\"node11\" class=\"node\">\n<title>132468485696256</title>\n<polygon fill=\"lightgrey\" stroke=\"black\" points=\"265,-388.5 164,-388.5 164,-369.5 265,-369.5 265,-388.5\"/>\n<text text-anchor=\"middle\" x=\"214.5\" y=\"-376.5\" font-family=\"monospace\" font-size=\"10.00\">AddmmBackward0</text>\n</g>\n<!-- 132468485696256&#45;&gt;132468485687568 -->\n<g id=\"edge9\" class=\"edge\">\n<title>132468485696256&#45;&gt;132468485687568</title>\n<path fill=\"none\" stroke=\"black\" d=\"M215.58,-369.37C216.74,-360.07 218.63,-344.98 220.14,-332.9\"/>\n<polygon fill=\"black\" stroke=\"black\" points=\"223.62,-333.26 221.39,-322.91 216.67,-332.39 223.62,-333.26\"/>\n</g>\n<!-- 132468485700240 -->\n<g id=\"node12\" class=\"node\">\n<title>132468485700240</title>\n<polygon fill=\"lightgrey\" stroke=\"black\" points=\"129,-454.5 28,-454.5 28,-435.5 129,-435.5 129,-454.5\"/>\n<text text-anchor=\"middle\" x=\"78.5\" y=\"-442.5\" font-family=\"monospace\" font-size=\"10.00\">AccumulateGrad</text>\n</g>\n<!-- 132468485700240&#45;&gt;132468485696256 -->\n<g id=\"edge10\" class=\"edge\">\n<title>132468485700240&#45;&gt;132468485696256</title>\n<path fill=\"none\" stroke=\"black\" d=\"M96.84,-435.37C119.96,-424.49 159.91,-405.69 186.77,-393.05\"/>\n<polygon fill=\"black\" stroke=\"black\" points=\"188.46,-396.12 196.01,-388.7 185.48,-389.79 188.46,-396.12\"/>\n</g>\n<!-- 132467153615056 -->\n<g id=\"node13\" class=\"node\">\n<title>132467153615056</title>\n<polygon fill=\"lightblue\" stroke=\"black\" points=\"111,-526 46,-526 46,-496 111,-496 111,-526\"/>\n<text text-anchor=\"middle\" x=\"78.5\" y=\"-514\" font-family=\"monospace\" font-size=\"10.00\">fc3.bias</text>\n<text text-anchor=\"middle\" x=\"78.5\" y=\"-503\" font-family=\"monospace\" font-size=\"10.00\"> (50)</text>\n</g>\n<!-- 132467153615056&#45;&gt;132468485700240 -->\n<g id=\"edge11\" class=\"edge\">\n<title>132467153615056&#45;&gt;132468485700240</title>\n<path fill=\"none\" stroke=\"black\" d=\"M78.5,-495.8C78.5,-486.7 78.5,-474.79 78.5,-464.9\"/>\n<polygon fill=\"black\" stroke=\"black\" points=\"82,-464.84 78.5,-454.84 75,-464.84 82,-464.84\"/>\n</g>\n<!-- 132468485694960 -->\n<g id=\"node14\" class=\"node\">\n<title>132468485694960</title>\n<polygon fill=\"lightgrey\" stroke=\"black\" points=\"242,-454.5 147,-454.5 147,-435.5 242,-435.5 242,-454.5\"/>\n<text text-anchor=\"middle\" x=\"194.5\" y=\"-442.5\" font-family=\"monospace\" font-size=\"10.00\">ReluBackward0</text>\n</g>\n<!-- 132468485694960&#45;&gt;132468485696256 -->\n<g id=\"edge12\" class=\"edge\">\n<title>132468485694960&#45;&gt;132468485696256</title>\n<path fill=\"none\" stroke=\"black\" d=\"M197.2,-435.37C200.13,-425.97 204.92,-410.67 208.71,-398.53\"/>\n<polygon fill=\"black\" stroke=\"black\" points=\"212.07,-399.49 211.72,-388.91 205.39,-397.41 212.07,-399.49\"/>\n</g>\n<!-- 132468485699616 -->\n<g id=\"node15\" class=\"node\">\n<title>132468485699616</title>\n<polygon fill=\"lightgrey\" stroke=\"black\" points=\"237,-520.5 136,-520.5 136,-501.5 237,-501.5 237,-520.5\"/>\n<text text-anchor=\"middle\" x=\"186.5\" y=\"-508.5\" font-family=\"monospace\" font-size=\"10.00\">AddmmBackward0</text>\n</g>\n<!-- 132468485699616&#45;&gt;132468485694960 -->\n<g id=\"edge13\" class=\"edge\">\n<title>132468485699616&#45;&gt;132468485694960</title>\n<path fill=\"none\" stroke=\"black\" d=\"M187.58,-501.37C188.74,-492.07 190.63,-476.98 192.14,-464.9\"/>\n<polygon fill=\"black\" stroke=\"black\" points=\"195.62,-465.26 193.39,-454.91 188.67,-464.39 195.62,-465.26\"/>\n</g>\n<!-- 132468485690928 -->\n<g id=\"node16\" class=\"node\">\n<title>132468485690928</title>\n<polygon fill=\"lightgrey\" stroke=\"black\" points=\"101,-586.5 0,-586.5 0,-567.5 101,-567.5 101,-586.5\"/>\n<text text-anchor=\"middle\" x=\"50.5\" y=\"-574.5\" font-family=\"monospace\" font-size=\"10.00\">AccumulateGrad</text>\n</g>\n<!-- 132468485690928&#45;&gt;132468485699616 -->\n<g id=\"edge14\" class=\"edge\">\n<title>132468485690928&#45;&gt;132468485699616</title>\n<path fill=\"none\" stroke=\"black\" d=\"M68.84,-567.37C91.96,-556.49 131.91,-537.69 158.77,-525.05\"/>\n<polygon fill=\"black\" stroke=\"black\" points=\"160.46,-528.12 168.01,-520.7 157.48,-521.79 160.46,-528.12\"/>\n</g>\n<!-- 132468473920336 -->\n<g id=\"node17\" class=\"node\">\n<title>132468473920336</title>\n<polygon fill=\"lightblue\" stroke=\"black\" points=\"83,-658 18,-658 18,-628 83,-628 83,-658\"/>\n<text text-anchor=\"middle\" x=\"50.5\" y=\"-646\" font-family=\"monospace\" font-size=\"10.00\">fc2.bias</text>\n<text text-anchor=\"middle\" x=\"50.5\" y=\"-635\" font-family=\"monospace\" font-size=\"10.00\"> (100)</text>\n</g>\n<!-- 132468473920336&#45;&gt;132468485690928 -->\n<g id=\"edge15\" class=\"edge\">\n<title>132468473920336&#45;&gt;132468485690928</title>\n<path fill=\"none\" stroke=\"black\" d=\"M50.5,-627.8C50.5,-618.7 50.5,-606.79 50.5,-596.9\"/>\n<polygon fill=\"black\" stroke=\"black\" points=\"54,-596.84 50.5,-586.84 47,-596.84 54,-596.84\"/>\n</g>\n<!-- 132468485686752 -->\n<g id=\"node18\" class=\"node\">\n<title>132468485686752</title>\n<polygon fill=\"lightgrey\" stroke=\"black\" points=\"214,-586.5 119,-586.5 119,-567.5 214,-567.5 214,-586.5\"/>\n<text text-anchor=\"middle\" x=\"166.5\" y=\"-574.5\" font-family=\"monospace\" font-size=\"10.00\">ReluBackward0</text>\n</g>\n<!-- 132468485686752&#45;&gt;132468485699616 -->\n<g id=\"edge16\" class=\"edge\">\n<title>132468485686752&#45;&gt;132468485699616</title>\n<path fill=\"none\" stroke=\"black\" d=\"M169.2,-567.37C172.13,-557.97 176.92,-542.67 180.71,-530.53\"/>\n<polygon fill=\"black\" stroke=\"black\" points=\"184.07,-531.49 183.72,-520.91 177.39,-529.41 184.07,-531.49\"/>\n</g>\n<!-- 132468485696592 -->\n<g id=\"node19\" class=\"node\">\n<title>132468485696592</title>\n<polygon fill=\"lightgrey\" stroke=\"black\" points=\"209,-652.5 108,-652.5 108,-633.5 209,-633.5 209,-652.5\"/>\n<text text-anchor=\"middle\" x=\"158.5\" y=\"-640.5\" font-family=\"monospace\" font-size=\"10.00\">AddmmBackward0</text>\n</g>\n<!-- 132468485696592&#45;&gt;132468485686752 -->\n<g id=\"edge17\" class=\"edge\">\n<title>132468485696592&#45;&gt;132468485686752</title>\n<path fill=\"none\" stroke=\"black\" d=\"M159.58,-633.37C160.74,-624.07 162.63,-608.98 164.14,-596.9\"/>\n<polygon fill=\"black\" stroke=\"black\" points=\"167.62,-597.26 165.39,-586.91 160.67,-596.39 167.62,-597.26\"/>\n</g>\n<!-- 132468485688768 -->\n<g id=\"node20\" class=\"node\">\n<title>132468485688768</title>\n<polygon fill=\"lightgrey\" stroke=\"black\" points=\"112,-718.5 11,-718.5 11,-699.5 112,-699.5 112,-718.5\"/>\n<text text-anchor=\"middle\" x=\"61.5\" y=\"-706.5\" font-family=\"monospace\" font-size=\"10.00\">AccumulateGrad</text>\n</g>\n<!-- 132468485688768&#45;&gt;132468485696592 -->\n<g id=\"edge18\" class=\"edge\">\n<title>132468485688768&#45;&gt;132468485696592</title>\n<path fill=\"none\" stroke=\"black\" d=\"M74.58,-699.37C90.56,-688.82 117.83,-670.84 136.93,-658.23\"/>\n<polygon fill=\"black\" stroke=\"black\" points=\"138.9,-661.13 145.32,-652.7 135.04,-655.28 138.9,-661.13\"/>\n</g>\n<!-- 132467040363568 -->\n<g id=\"node21\" class=\"node\">\n<title>132467040363568</title>\n<polygon fill=\"lightblue\" stroke=\"black\" points=\"94,-790 29,-790 29,-760 94,-760 94,-790\"/>\n<text text-anchor=\"middle\" x=\"61.5\" y=\"-778\" font-family=\"monospace\" font-size=\"10.00\">fc1.bias</text>\n<text text-anchor=\"middle\" x=\"61.5\" y=\"-767\" font-family=\"monospace\" font-size=\"10.00\"> (150)</text>\n</g>\n<!-- 132467040363568&#45;&gt;132468485688768 -->\n<g id=\"edge19\" class=\"edge\">\n<title>132467040363568&#45;&gt;132468485688768</title>\n<path fill=\"none\" stroke=\"black\" d=\"M61.5,-759.8C61.5,-750.7 61.5,-738.79 61.5,-728.9\"/>\n<polygon fill=\"black\" stroke=\"black\" points=\"65,-728.84 61.5,-718.84 58,-728.84 65,-728.84\"/>\n</g>\n<!-- 132468485692176 -->\n<g id=\"node22\" class=\"node\">\n<title>132468485692176</title>\n<polygon fill=\"lightgrey\" stroke=\"black\" points=\"207,-718.5 130,-718.5 130,-699.5 207,-699.5 207,-718.5\"/>\n<text text-anchor=\"middle\" x=\"168.5\" y=\"-706.5\" font-family=\"monospace\" font-size=\"10.00\">TBackward0</text>\n</g>\n<!-- 132468485692176&#45;&gt;132468485696592 -->\n<g id=\"edge20\" class=\"edge\">\n<title>132468485692176&#45;&gt;132468485696592</title>\n<path fill=\"none\" stroke=\"black\" d=\"M167.15,-699.37C165.7,-690.07 163.34,-674.98 161.45,-662.9\"/>\n<polygon fill=\"black\" stroke=\"black\" points=\"164.89,-662.25 159.89,-652.91 157.98,-663.33 164.89,-662.25\"/>\n</g>\n<!-- 132468485689056 -->\n<g id=\"node23\" class=\"node\">\n<title>132468485689056</title>\n<polygon fill=\"lightgrey\" stroke=\"black\" points=\"219,-784.5 118,-784.5 118,-765.5 219,-765.5 219,-784.5\"/>\n<text text-anchor=\"middle\" x=\"168.5\" y=\"-772.5\" font-family=\"monospace\" font-size=\"10.00\">AccumulateGrad</text>\n</g>\n<!-- 132468485689056&#45;&gt;132468485692176 -->\n<g id=\"edge21\" class=\"edge\">\n<title>132468485689056&#45;&gt;132468485692176</title>\n<path fill=\"none\" stroke=\"black\" d=\"M168.5,-765.37C168.5,-756.16 168.5,-741.29 168.5,-729.27\"/>\n<polygon fill=\"black\" stroke=\"black\" points=\"172,-728.91 168.5,-718.91 165,-728.91 172,-728.91\"/>\n</g>\n<!-- 132468477997552 -->\n<g id=\"node24\" class=\"node\">\n<title>132468477997552</title>\n<polygon fill=\"lightblue\" stroke=\"black\" points=\"210,-856 127,-856 127,-826 210,-826 210,-856\"/>\n<text text-anchor=\"middle\" x=\"168.5\" y=\"-844\" font-family=\"monospace\" font-size=\"10.00\">fc1.weight</text>\n<text text-anchor=\"middle\" x=\"168.5\" y=\"-833\" font-family=\"monospace\" font-size=\"10.00\"> (150, 784)</text>\n</g>\n<!-- 132468477997552&#45;&gt;132468485689056 -->\n<g id=\"edge22\" class=\"edge\">\n<title>132468477997552&#45;&gt;132468485689056</title>\n<path fill=\"none\" stroke=\"black\" d=\"M168.5,-825.8C168.5,-816.7 168.5,-804.79 168.5,-794.9\"/>\n<polygon fill=\"black\" stroke=\"black\" points=\"172,-794.84 168.5,-784.84 165,-794.84 172,-794.84\"/>\n</g>\n<!-- 132468485696784 -->\n<g id=\"node25\" class=\"node\">\n<title>132468485696784</title>\n<polygon fill=\"lightgrey\" stroke=\"black\" points=\"309,-586.5 232,-586.5 232,-567.5 309,-567.5 309,-586.5\"/>\n<text text-anchor=\"middle\" x=\"270.5\" y=\"-574.5\" font-family=\"monospace\" font-size=\"10.00\">TBackward0</text>\n</g>\n<!-- 132468485696784&#45;&gt;132468485699616 -->\n<g id=\"edge23\" class=\"edge\">\n<title>132468485696784&#45;&gt;132468485699616</title>\n<path fill=\"none\" stroke=\"black\" d=\"M259.17,-567.37C245.64,-557.06 222.78,-539.65 206.31,-527.09\"/>\n<polygon fill=\"black\" stroke=\"black\" points=\"207.99,-523.98 197.92,-520.7 203.75,-529.54 207.99,-523.98\"/>\n</g>\n<!-- 132468485700192 -->\n<g id=\"node26\" class=\"node\">\n<title>132468485700192</title>\n<polygon fill=\"lightgrey\" stroke=\"black\" points=\"328,-652.5 227,-652.5 227,-633.5 328,-633.5 328,-652.5\"/>\n<text text-anchor=\"middle\" x=\"277.5\" y=\"-640.5\" font-family=\"monospace\" font-size=\"10.00\">AccumulateGrad</text>\n</g>\n<!-- 132468485700192&#45;&gt;132468485696784 -->\n<g id=\"edge24\" class=\"edge\">\n<title>132468485700192&#45;&gt;132468485696784</title>\n<path fill=\"none\" stroke=\"black\" d=\"M276.56,-633.37C275.54,-624.07 273.89,-608.98 272.57,-596.9\"/>\n<polygon fill=\"black\" stroke=\"black\" points=\"276.04,-596.47 271.47,-586.91 269.08,-597.23 276.04,-596.47\"/>\n</g>\n<!-- 132468475486160 -->\n<g id=\"node27\" class=\"node\">\n<title>132468475486160</title>\n<polygon fill=\"lightblue\" stroke=\"black\" points=\"319,-724 236,-724 236,-694 319,-694 319,-724\"/>\n<text text-anchor=\"middle\" x=\"277.5\" y=\"-712\" font-family=\"monospace\" font-size=\"10.00\">fc2.weight</text>\n<text text-anchor=\"middle\" x=\"277.5\" y=\"-701\" font-family=\"monospace\" font-size=\"10.00\"> (100, 150)</text>\n</g>\n<!-- 132468475486160&#45;&gt;132468485700192 -->\n<g id=\"edge25\" class=\"edge\">\n<title>132468475486160&#45;&gt;132468485700192</title>\n<path fill=\"none\" stroke=\"black\" d=\"M277.5,-693.8C277.5,-684.7 277.5,-672.79 277.5,-662.9\"/>\n<polygon fill=\"black\" stroke=\"black\" points=\"281,-662.84 277.5,-652.84 274,-662.84 281,-662.84\"/>\n</g>\n<!-- 132468485696304 -->\n<g id=\"node28\" class=\"node\">\n<title>132468485696304</title>\n<polygon fill=\"lightgrey\" stroke=\"black\" points=\"337,-454.5 260,-454.5 260,-435.5 337,-435.5 337,-454.5\"/>\n<text text-anchor=\"middle\" x=\"298.5\" y=\"-442.5\" font-family=\"monospace\" font-size=\"10.00\">TBackward0</text>\n</g>\n<!-- 132468485696304&#45;&gt;132468485696256 -->\n<g id=\"edge26\" class=\"edge\">\n<title>132468485696304&#45;&gt;132468485696256</title>\n<path fill=\"none\" stroke=\"black\" d=\"M287.17,-435.37C273.64,-425.06 250.78,-407.65 234.31,-395.09\"/>\n<polygon fill=\"black\" stroke=\"black\" points=\"235.99,-391.98 225.92,-388.7 231.75,-397.54 235.99,-391.98\"/>\n</g>\n<!-- 132468485689104 -->\n<g id=\"node29\" class=\"node\">\n<title>132468485689104</title>\n<polygon fill=\"lightgrey\" stroke=\"black\" points=\"396,-520.5 295,-520.5 295,-501.5 396,-501.5 396,-520.5\"/>\n<text text-anchor=\"middle\" x=\"345.5\" y=\"-508.5\" font-family=\"monospace\" font-size=\"10.00\">AccumulateGrad</text>\n</g>\n<!-- 132468485689104&#45;&gt;132468485696304 -->\n<g id=\"edge27\" class=\"edge\">\n<title>132468485689104&#45;&gt;132468485696304</title>\n<path fill=\"none\" stroke=\"black\" d=\"M339.16,-501.37C331.98,-491.59 320.11,-475.42 311.04,-463.08\"/>\n<polygon fill=\"black\" stroke=\"black\" points=\"313.78,-460.89 305.04,-454.91 308.14,-465.04 313.78,-460.89\"/>\n</g>\n<!-- 132468477964624 -->\n<g id=\"node30\" class=\"node\">\n<title>132468477964624</title>\n<polygon fill=\"lightblue\" stroke=\"black\" points=\"404,-592 327,-592 327,-562 404,-562 404,-592\"/>\n<text text-anchor=\"middle\" x=\"365.5\" y=\"-580\" font-family=\"monospace\" font-size=\"10.00\">fc3.weight</text>\n<text text-anchor=\"middle\" x=\"365.5\" y=\"-569\" font-family=\"monospace\" font-size=\"10.00\"> (50, 100)</text>\n</g>\n<!-- 132468477964624&#45;&gt;132468485689104 -->\n<g id=\"edge28\" class=\"edge\">\n<title>132468477964624&#45;&gt;132468485689104</title>\n<path fill=\"none\" stroke=\"black\" d=\"M361.06,-561.8C358.19,-552.6 354.42,-540.53 351.31,-530.58\"/>\n<polygon fill=\"black\" stroke=\"black\" points=\"354.59,-529.35 348.26,-520.84 347.91,-531.43 354.59,-529.35\"/>\n</g>\n<!-- 132468485697264 -->\n<g id=\"node31\" class=\"node\">\n<title>132468485697264</title>\n<polygon fill=\"lightgrey\" stroke=\"black\" points=\"365,-322.5 288,-322.5 288,-303.5 365,-303.5 365,-322.5\"/>\n<text text-anchor=\"middle\" x=\"326.5\" y=\"-310.5\" font-family=\"monospace\" font-size=\"10.00\">TBackward0</text>\n</g>\n<!-- 132468485697264&#45;&gt;132468485699808 -->\n<g id=\"edge29\" class=\"edge\">\n<title>132468485697264&#45;&gt;132468485699808</title>\n<path fill=\"none\" stroke=\"black\" d=\"M315.17,-303.37C301.64,-293.06 278.78,-275.65 262.31,-263.09\"/>\n<polygon fill=\"black\" stroke=\"black\" points=\"263.99,-259.98 253.92,-256.7 259.75,-265.54 263.99,-259.98\"/>\n</g>\n<!-- 132468485697504 -->\n<g id=\"node32\" class=\"node\">\n<title>132468485697504</title>\n<polygon fill=\"lightgrey\" stroke=\"black\" points=\"424,-388.5 323,-388.5 323,-369.5 424,-369.5 424,-388.5\"/>\n<text text-anchor=\"middle\" x=\"373.5\" y=\"-376.5\" font-family=\"monospace\" font-size=\"10.00\">AccumulateGrad</text>\n</g>\n<!-- 132468485697504&#45;&gt;132468485697264 -->\n<g id=\"edge30\" class=\"edge\">\n<title>132468485697504&#45;&gt;132468485697264</title>\n<path fill=\"none\" stroke=\"black\" d=\"M367.16,-369.37C359.98,-359.59 348.11,-343.42 339.04,-331.08\"/>\n<polygon fill=\"black\" stroke=\"black\" points=\"341.78,-328.89 333.04,-322.91 336.14,-333.04 341.78,-328.89\"/>\n</g>\n<!-- 132468469962832 -->\n<g id=\"node33\" class=\"node\">\n<title>132468469962832</title>\n<polygon fill=\"lightblue\" stroke=\"black\" points=\"432,-460 355,-460 355,-430 432,-430 432,-460\"/>\n<text text-anchor=\"middle\" x=\"393.5\" y=\"-448\" font-family=\"monospace\" font-size=\"10.00\">fc4.weight</text>\n<text text-anchor=\"middle\" x=\"393.5\" y=\"-437\" font-family=\"monospace\" font-size=\"10.00\"> (50, 50)</text>\n</g>\n<!-- 132468469962832&#45;&gt;132468485697504 -->\n<g id=\"edge31\" class=\"edge\">\n<title>132468469962832&#45;&gt;132468485697504</title>\n<path fill=\"none\" stroke=\"black\" d=\"M389.06,-429.8C386.19,-420.6 382.42,-408.53 379.31,-398.58\"/>\n<polygon fill=\"black\" stroke=\"black\" points=\"382.59,-397.35 376.26,-388.84 375.91,-399.43 382.59,-397.35\"/>\n</g>\n<!-- 132468485691792 -->\n<g id=\"node34\" class=\"node\">\n<title>132468485691792</title>\n<polygon fill=\"lightgrey\" stroke=\"black\" points=\"416,-196 339,-196 339,-177 416,-177 416,-196\"/>\n<text text-anchor=\"middle\" x=\"377.5\" y=\"-184\" font-family=\"monospace\" font-size=\"10.00\">TBackward0</text>\n</g>\n<!-- 132468485691792&#45;&gt;132468485699184 -->\n<g id=\"edge32\" class=\"edge\">\n<title>132468485691792&#45;&gt;132468485699184</title>\n<path fill=\"none\" stroke=\"black\" d=\"M357.1,-176.98C336.48,-168.38 304.39,-154.99 280.81,-145.15\"/>\n<polygon fill=\"black\" stroke=\"black\" points=\"281.85,-141.79 271.28,-141.17 279.16,-148.25 281.85,-141.79\"/>\n</g>\n<!-- 132468485691936 -->\n<g id=\"node35\" class=\"node\">\n<title>132468485691936</title>\n<polygon fill=\"lightgrey\" stroke=\"black\" points=\"452,-256.5 351,-256.5 351,-237.5 452,-237.5 452,-256.5\"/>\n<text text-anchor=\"middle\" x=\"401.5\" y=\"-244.5\" font-family=\"monospace\" font-size=\"10.00\">AccumulateGrad</text>\n</g>\n<!-- 132468485691936&#45;&gt;132468485691792 -->\n<g id=\"edge33\" class=\"edge\">\n<title>132468485691936&#45;&gt;132468485691792</title>\n<path fill=\"none\" stroke=\"black\" d=\"M397.96,-237.37C394.56,-229.07 389.31,-216.28 384.98,-205.72\"/>\n<polygon fill=\"black\" stroke=\"black\" points=\"388.09,-204.09 381.06,-196.17 381.61,-206.75 388.09,-204.09\"/>\n</g>\n<!-- 132467040544432 -->\n<g id=\"node36\" class=\"node\">\n<title>132467040544432</title>\n<polygon fill=\"lightblue\" stroke=\"black\" points=\"460,-328 383,-328 383,-298 460,-298 460,-328\"/>\n<text text-anchor=\"middle\" x=\"421.5\" y=\"-316\" font-family=\"monospace\" font-size=\"10.00\">fc5.weight</text>\n<text text-anchor=\"middle\" x=\"421.5\" y=\"-305\" font-family=\"monospace\" font-size=\"10.00\"> (26, 50)</text>\n</g>\n<!-- 132467040544432&#45;&gt;132468485691936 -->\n<g id=\"edge34\" class=\"edge\">\n<title>132467040544432&#45;&gt;132468485691936</title>\n<path fill=\"none\" stroke=\"black\" d=\"M417.06,-297.8C414.19,-288.6 410.42,-276.53 407.31,-266.58\"/>\n<polygon fill=\"black\" stroke=\"black\" points=\"410.59,-265.35 404.26,-256.84 403.91,-267.43 410.59,-265.35\"/>\n</g>\n</g>\n</svg>\n",
            "text/plain": [
              "<graphviz.graphs.Digraph at 0x787ab908b400>"
            ]
          },
          "metadata": {},
          "execution_count": 50
        }
      ]
    },
    {
      "cell_type": "code",
      "source": [
        "# model summary\n",
        "\n",
        "# !pip install torchsummary\n",
        "from torchsummary import summary\n",
        "\n",
        "summary(model, input_size=(1,28,28),batch_size=1)"
      ],
      "metadata": {
        "colab": {
          "base_uri": "https://localhost:8080/"
        },
        "id": "VSQjVp_EacOp",
        "outputId": "a9c6ddd7-b810-45ed-b771-c4fba66d5664"
      },
      "execution_count": 54,
      "outputs": [
        {
          "output_type": "stream",
          "name": "stdout",
          "text": [
            "----------------------------------------------------------------\n",
            "        Layer (type)               Output Shape         Param #\n",
            "================================================================\n",
            "            Linear-1                   [1, 150]         117,750\n",
            "            Linear-2                   [1, 100]          15,100\n",
            "            Linear-3                    [1, 50]           5,050\n",
            "            Linear-4                    [1, 50]           2,550\n",
            "            Linear-5                    [1, 26]           1,326\n",
            "================================================================\n",
            "Total params: 141,776\n",
            "Trainable params: 141,776\n",
            "Non-trainable params: 0\n",
            "----------------------------------------------------------------\n",
            "Input size (MB): 0.00\n",
            "Forward/backward pass size (MB): 0.00\n",
            "Params size (MB): 0.54\n",
            "Estimated Total Size (MB): 0.55\n",
            "----------------------------------------------------------------\n"
          ]
        }
      ]
    },
    {
      "cell_type": "markdown",
      "metadata": {
        "id": "sapgcL3hRwn9"
      },
      "source": [
        "#### Declaring loss function and optimizer"
      ]
    },
    {
      "cell_type": "code",
      "metadata": {
        "id": "0JW-xsizzjaa"
      },
      "source": [
        "criterion = nn.CrossEntropyLoss()\n",
        "#  as it is an classfication problem we should go for crossEntropy loss\n",
        "# YOUR CODE HERE : Explore and declare loss function\n",
        "optimizer = torch.optim.Adam(model.parameters(), lr=0.001)"
      ],
      "execution_count": 55,
      "outputs": []
    },
    {
      "cell_type": "markdown",
      "metadata": {
        "id": "F75Z3ABdqvyY"
      },
      "source": [
        "#### Training and Testing the model\n",
        "\n",
        "\n",
        "In Training Phase, we iterate over a batch of images in the train_loader. For each batch, we\n",
        "perform  the following steps:\n",
        "\n",
        "* First we zero out the gradients using zero_grad()\n",
        "\n",
        "* We pass the data to the model i.e. we perform forward pass by calling the forward()\n",
        "\n",
        "* We calculate the loss using the actual and predicted labels\n",
        "\n",
        "* Perform Backward pass using backward() to update the weights"
      ]
    },
    {
      "cell_type": "code",
      "metadata": {
        "id": "9vnz-SOywxSY",
        "colab": {
          "base_uri": "https://localhost:8080/"
        },
        "outputId": "32a1f838-31a1-4b60-ab03-39f6f9b40936"
      },
      "source": [
        "# No of Epochs\n",
        "num_epochs = 10\n",
        "\n",
        "# Loop for no of epochs\n",
        "for epoch in range(num_epochs):\n",
        "    correct = 0\n",
        "    iter_loss = 0.0\n",
        "\n",
        "    # keeping the network in train mode\n",
        "    model.train()\n",
        "    train_loss, train_accuracy = [], []\n",
        "\n",
        "    # Loop through each batch of images in train set\n",
        "    for (inputs, labels) in train_loader:\n",
        "\n",
        "        # Convert the inputs and label to gpu for faster execution\n",
        "        inputs = inputs.to(device)\n",
        "        labels = labels.to(device)\n",
        "\n",
        "        # YOUR CODE HERE : Zero the parameter gradients using 'zero_grad' function.\n",
        "        model.zero_grad()\n",
        "\n",
        "\n",
        "        outputs = model(inputs)\n",
        "        # YOUR CODE HERE : Perform forward pass by passing 'inputs' to the 'model' as input.\n",
        "\n",
        "        # Calculating the loss\n",
        "        loss = criterion(outputs, labels)\n",
        "        iter_loss += loss.item()\n",
        "\n",
        "        # Performing backward pass (Backpropagation)\n",
        "        loss.backward()\n",
        "\n",
        "        # optimizer.step() updates the weights accordingly\n",
        "        optimizer.step()\n",
        "\n",
        "        _, predicted =  torch.max(outputs,1)\n",
        "        # YOUR CODE HERE : Pick the class or label with maximum probability\n",
        "        correct += (predicted == labels).sum().item()\n",
        "\n",
        "    train_loss.append(iter_loss/len(train_dataset))\n",
        "    # Calculate the accuracy\n",
        "    train_accuracy.append((100 * correct / len(train_dataset)))\n",
        "    print ('Epoch {}/{}, Training Accuracy: {:.3f}'.format(epoch+1, num_epochs, train_accuracy[-1]))"
      ],
      "execution_count": 59,
      "outputs": [
        {
          "output_type": "stream",
          "name": "stdout",
          "text": [
            "Epoch 1/10, Training Accuracy: 67.393\n",
            "Epoch 2/10, Training Accuracy: 84.822\n",
            "Epoch 3/10, Training Accuracy: 88.276\n",
            "Epoch 4/10, Training Accuracy: 90.175\n",
            "Epoch 5/10, Training Accuracy: 91.364\n",
            "Epoch 6/10, Training Accuracy: 92.311\n",
            "Epoch 7/10, Training Accuracy: 92.867\n",
            "Epoch 8/10, Training Accuracy: 93.514\n",
            "Epoch 9/10, Training Accuracy: 94.046\n",
            "Epoch 10/10, Training Accuracy: 94.341\n"
          ]
        }
      ]
    },
    {
      "cell_type": "markdown",
      "metadata": {
        "id": "R8R0CL5Gqvye"
      },
      "source": [
        "Now we are ready to train our model using the train() function. An epoch means one pass through the whole training data. After each epoch, we evaluate the model using eval():\n",
        "\n"
      ]
    },
    {
      "cell_type": "markdown",
      "metadata": {
        "id": "joWkArDlBXu9"
      },
      "source": [
        "In Testing Phase, we iterate over a batch of images in the test_loader without changing  weights. For each batch we perform the following steps:\n",
        "\n",
        "* We pass the images through the model (network) to get the outputs\n",
        "* Pick the class / label with the highest probability\n",
        "* Calculate the accuracy\n"
      ]
    },
    {
      "cell_type": "code",
      "metadata": {
        "id": "CYOqLolBz_X5",
        "colab": {
          "base_uri": "https://localhost:8080/"
        },
        "outputId": "d577f683-734e-4c94-87eb-b4871a1919a4"
      },
      "source": [
        "# Keeping the network in evaluation mode\n",
        "model.eval()\n",
        "\n",
        "Test_accuracy=0\n",
        "for images, labels in test_loader:\n",
        "\n",
        "\n",
        "      images = images.to(device)\n",
        "      # YOUR CODE HERE : Convert the images to gpu for faster execution\n",
        "      labels = labels.to(device)\n",
        "\n",
        "      # YOUR CODE HERE : Convert the labels to gpu for faster execution\n",
        "\n",
        "      # Passing images to the model, which return the probabilites as outputs\n",
        "      test_output = model(images)\n",
        "\n",
        "      # Picking the class/label with maximum probability\n",
        "      _, predicted = torch.max(test_output, 1)\n",
        "      Test_accuracy += (predicted == labels).sum().item()\n",
        "\n",
        "# Calculating the accuracy\n",
        "Accuracy = 100 * Test_accuracy/ len(test_dataset)\n",
        "print(\"Accuracy of Test Data is\", Accuracy)"
      ],
      "execution_count": 60,
      "outputs": [
        {
          "output_type": "stream",
          "name": "stdout",
          "text": [
            "Accuracy of Test Data is 90.1923076923077\n"
          ]
        }
      ]
    },
    {
      "cell_type": "markdown",
      "metadata": {
        "id": "VHfHdGCP_n6Y"
      },
      "source": [
        "### Please answer the questions below to complete the experiment:\n",
        "\n",
        "\n"
      ]
    },
    {
      "cell_type": "code",
      "metadata": {
        "id": "kmvdJ4aNmGjR"
      },
      "source": [
        "#@title State TRUE or FALSE: model.eval() in the testing phase also continues in updating the weights { run: \"auto\", form-width: \"500px\", display-mode: \"form\" }\n",
        "Answer = \"FALSE\" #@param [\"\",\"TRUE\", \"FALSE\"]\n"
      ],
      "execution_count": 61,
      "outputs": []
    },
    {
      "cell_type": "code",
      "metadata": {
        "id": "nmufjlR-rjv6"
      },
      "source": [
        "#@title How was the experiment? { run: \"auto\", form-width: \"500px\", display-mode: \"form\" }\n",
        "Complexity = \"Good and Challenging for me\" #@param [\"\",\"Too Simple, I am wasting time\", \"Good, But Not Challenging for me\", \"Good and Challenging for me\", \"Was Tough, but I did it\", \"Too Difficult for me\"]\n"
      ],
      "execution_count": 62,
      "outputs": []
    },
    {
      "cell_type": "code",
      "metadata": {
        "id": "MZ7vVuShrjv6"
      },
      "source": [
        "#@title If it was too easy, what more would you have liked to be added? If it was very difficult, what would you have liked to have been removed? { run: \"auto\", display-mode: \"form\" }\n",
        "Additional = \"na\" #@param {type:\"string\"}\n"
      ],
      "execution_count": 63,
      "outputs": []
    },
    {
      "cell_type": "code",
      "metadata": {
        "id": "4VBk_4VTAxCM"
      },
      "source": [
        "#@title Can you identify the concepts from the lecture which this experiment covered? { run: \"auto\", vertical-output: true, display-mode: \"form\" }\n",
        "Concepts = \"Yes\" #@param [\"\",\"Yes\", \"No\"]\n"
      ],
      "execution_count": 64,
      "outputs": []
    },
    {
      "cell_type": "code",
      "metadata": {
        "id": "r35isHfTVGKc"
      },
      "source": [
        "#@title  Experiment walkthrough video? { run: \"auto\", vertical-output: true, display-mode: \"form\" }\n",
        "Walkthrough = \"Didn't use\" #@param [\"\",\"Very Useful\", \"Somewhat Useful\", \"Not Useful\", \"Didn't use\"]\n"
      ],
      "execution_count": 65,
      "outputs": []
    },
    {
      "cell_type": "code",
      "metadata": {
        "id": "XH91cL1JWH7m"
      },
      "source": [
        "#@title  Text and image description/explanation and code comments within the experiment: { run: \"auto\", vertical-output: true, display-mode: \"form\" }\n",
        "Comments = \"Somewhat Useful\" #@param [\"\",\"Very Useful\", \"Somewhat Useful\", \"Not Useful\", \"Didn't use\"]\n"
      ],
      "execution_count": 66,
      "outputs": []
    },
    {
      "cell_type": "code",
      "metadata": {
        "id": "z8xLqj7VWIKW"
      },
      "source": [
        "#@title Mentor Support: { run: \"auto\", vertical-output: true, display-mode: \"form\" }\n",
        "Mentor_support = \"Didn't use\" #@param [\"\",\"Very Useful\", \"Somewhat Useful\", \"Not Useful\", \"Didn't use\"]\n"
      ],
      "execution_count": 67,
      "outputs": []
    },
    {
      "cell_type": "code",
      "metadata": {
        "id": "FzAZHt1zw-Y-",
        "cellView": "form",
        "colab": {
          "base_uri": "https://localhost:8080/"
        },
        "outputId": "d10542b5-fcc6-45d1-c949-6f35156081b2"
      },
      "source": [
        "#@title Run this cell to submit your notebook for grading { vertical-output: true }\n",
        "try:\n",
        "  if submission_id:\n",
        "      return_id = submit_notebook()\n",
        "      if return_id : submission_id = return_id\n",
        "  else:\n",
        "      print(\"Please complete the setup first.\")\n",
        "except NameError:\n",
        "  print (\"Please complete the setup first.\")"
      ],
      "execution_count": 68,
      "outputs": [
        {
          "output_type": "stream",
          "name": "stdout",
          "text": [
            "Your submission is successful.\n",
            "Ref Id: 5569\n",
            "Date of submission:  16 Aug 2024\n",
            "Time of submission:  01:00:53\n",
            "View your submissions: https://aiml-iiith.talentsprint.com/notebook_submissions\n"
          ]
        }
      ]
    }
  ]
}