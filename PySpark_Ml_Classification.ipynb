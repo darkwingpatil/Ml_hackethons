{
  "nbformat": 4,
  "nbformat_minor": 0,
  "metadata": {
    "colab": {
      "provenance": [],
      "include_colab_link": true
    },
    "kernelspec": {
      "name": "python3",
      "display_name": "Python 3"
    },
    "language_info": {
      "name": "python"
    }
  },
  "cells": [
    {
      "cell_type": "markdown",
      "metadata": {
        "id": "view-in-github",
        "colab_type": "text"
      },
      "source": [
        "<a href=\"https://colab.research.google.com/github/darkwingpatil/Ml_hackethons/blob/main/PySpark_Ml_Classification.ipynb\" target=\"_parent\"><img src=\"https://colab.research.google.com/assets/colab-badge.svg\" alt=\"Open In Colab\"/></a>"
      ]
    },
    {
      "cell_type": "markdown",
      "source": [
        "## **Pyspark 🦜🔗:  ML classification**"
      ],
      "metadata": {
        "id": "MjhfGDRHt_in"
      }
    },
    {
      "cell_type": "markdown",
      "source": [
        "\n",
        "### **[Reference](https://python.langchain.com/docs/how_to/routing/)**"
      ],
      "metadata": {
        "id": "3VTu12UyxkhN"
      }
    },
    {
      "cell_type": "code",
      "source": [
        "!pip install pyspark"
      ],
      "metadata": {
        "id": "GAK-b_colyhF",
        "outputId": "268757e2-a464-413e-8c41-40f9eea02c10",
        "colab": {
          "base_uri": "https://localhost:8080/"
        }
      },
      "execution_count": null,
      "outputs": [
        {
          "output_type": "stream",
          "name": "stdout",
          "text": [
            "Requirement already satisfied: pyspark in /usr/local/lib/python3.10/dist-packages (3.5.3)\n",
            "Requirement already satisfied: py4j==0.10.9.7 in /usr/local/lib/python3.10/dist-packages (from pyspark) (0.10.9.7)\n"
          ]
        }
      ]
    },
    {
      "cell_type": "code",
      "source": [
        "from pyspark.sql import SparkSession"
      ],
      "metadata": {
        "id": "KrJ6GhlDl2DA"
      },
      "execution_count": null,
      "outputs": []
    },
    {
      "cell_type": "code",
      "source": [
        "spark= SparkSession.builder.appName('IrisAlgo').getOrCreate();"
      ],
      "metadata": {
        "id": "whoC1n-Zl6ek"
      },
      "execution_count": null,
      "outputs": []
    },
    {
      "cell_type": "code",
      "source": [
        "import pandas as pd\n",
        "from sklearn import datasets\n",
        "import numpy as np\n",
        "\n",
        "iris = datasets.load_iris()\n",
        "pdf = pd.DataFrame(data=np.c_[iris['data'], iris['target']],\n",
        "                  columns= iris['feature_names'] + ['target']).astype({'target': int}) \\\n",
        "       .assign(species=lambda x: x['target'].map(dict(enumerate(iris['target_names']))))\n",
        "pdf.head()\n",
        "pdf.to_csv('iris.csv')\n",
        "df= spark.read.csv('iris.csv', header=True, inferSchema=True)"
      ],
      "metadata": {
        "id": "3ngQlndkmFjS"
      },
      "execution_count": null,
      "outputs": []
    },
    {
      "cell_type": "code",
      "source": [
        "df.show()"
      ],
      "metadata": {
        "colab": {
          "base_uri": "https://localhost:8080/"
        },
        "id": "GE9sOZlHvPGX",
        "outputId": "5f3fd9ea-682d-4254-e4c6-8b471d6d690d"
      },
      "execution_count": null,
      "outputs": [
        {
          "output_type": "stream",
          "name": "stdout",
          "text": [
            "+---+-----------------+----------------+-----------------+----------------+------+-------+\n",
            "|_c0|sepal length (cm)|sepal width (cm)|petal length (cm)|petal width (cm)|target|species|\n",
            "+---+-----------------+----------------+-----------------+----------------+------+-------+\n",
            "|  0|              5.1|             3.5|              1.4|             0.2|     0| setosa|\n",
            "|  1|              4.9|             3.0|              1.4|             0.2|     0| setosa|\n",
            "|  2|              4.7|             3.2|              1.3|             0.2|     0| setosa|\n",
            "|  3|              4.6|             3.1|              1.5|             0.2|     0| setosa|\n",
            "|  4|              5.0|             3.6|              1.4|             0.2|     0| setosa|\n",
            "|  5|              5.4|             3.9|              1.7|             0.4|     0| setosa|\n",
            "|  6|              4.6|             3.4|              1.4|             0.3|     0| setosa|\n",
            "|  7|              5.0|             3.4|              1.5|             0.2|     0| setosa|\n",
            "|  8|              4.4|             2.9|              1.4|             0.2|     0| setosa|\n",
            "|  9|              4.9|             3.1|              1.5|             0.1|     0| setosa|\n",
            "| 10|              5.4|             3.7|              1.5|             0.2|     0| setosa|\n",
            "| 11|              4.8|             3.4|              1.6|             0.2|     0| setosa|\n",
            "| 12|              4.8|             3.0|              1.4|             0.1|     0| setosa|\n",
            "| 13|              4.3|             3.0|              1.1|             0.1|     0| setosa|\n",
            "| 14|              5.8|             4.0|              1.2|             0.2|     0| setosa|\n",
            "| 15|              5.7|             4.4|              1.5|             0.4|     0| setosa|\n",
            "| 16|              5.4|             3.9|              1.3|             0.4|     0| setosa|\n",
            "| 17|              5.1|             3.5|              1.4|             0.3|     0| setosa|\n",
            "| 18|              5.7|             3.8|              1.7|             0.3|     0| setosa|\n",
            "| 19|              5.1|             3.8|              1.5|             0.3|     0| setosa|\n",
            "+---+-----------------+----------------+-----------------+----------------+------+-------+\n",
            "only showing top 20 rows\n",
            "\n"
          ]
        }
      ]
    },
    {
      "cell_type": "code",
      "source": [
        "# Pre processing, basically making features index and label encoder for string"
      ],
      "metadata": {
        "id": "HTK5BELQobFe"
      },
      "execution_count": null,
      "outputs": []
    },
    {
      "cell_type": "code",
      "source": [
        "from pyspark.ml.feature import VectorAssembler\n",
        "numericColumns = ['sepal length (cm)','sepal width (cm)','petal length (cm)','petal width (cm)']\n",
        "assembler = VectorAssembler(inputCols=numericColumns, outputCol=\"features\")\n",
        "df = assembler.transform(df)\n",
        "\n",
        "df.show()\n"
      ],
      "metadata": {
        "id": "GbChwdR5mwGg",
        "outputId": "acecde89-f0b9-42c8-bf72-bbc923dd395f",
        "colab": {
          "base_uri": "https://localhost:8080/"
        }
      },
      "execution_count": null,
      "outputs": [
        {
          "output_type": "stream",
          "name": "stdout",
          "text": [
            "+---+-----------------+----------------+-----------------+----------------+------+-------+-----------------+\n",
            "|_c0|sepal length (cm)|sepal width (cm)|petal length (cm)|petal width (cm)|target|species|         features|\n",
            "+---+-----------------+----------------+-----------------+----------------+------+-------+-----------------+\n",
            "|  0|              5.1|             3.5|              1.4|             0.2|     0| setosa|[5.1,3.5,1.4,0.2]|\n",
            "|  1|              4.9|             3.0|              1.4|             0.2|     0| setosa|[4.9,3.0,1.4,0.2]|\n",
            "|  2|              4.7|             3.2|              1.3|             0.2|     0| setosa|[4.7,3.2,1.3,0.2]|\n",
            "|  3|              4.6|             3.1|              1.5|             0.2|     0| setosa|[4.6,3.1,1.5,0.2]|\n",
            "|  4|              5.0|             3.6|              1.4|             0.2|     0| setosa|[5.0,3.6,1.4,0.2]|\n",
            "|  5|              5.4|             3.9|              1.7|             0.4|     0| setosa|[5.4,3.9,1.7,0.4]|\n",
            "|  6|              4.6|             3.4|              1.4|             0.3|     0| setosa|[4.6,3.4,1.4,0.3]|\n",
            "|  7|              5.0|             3.4|              1.5|             0.2|     0| setosa|[5.0,3.4,1.5,0.2]|\n",
            "|  8|              4.4|             2.9|              1.4|             0.2|     0| setosa|[4.4,2.9,1.4,0.2]|\n",
            "|  9|              4.9|             3.1|              1.5|             0.1|     0| setosa|[4.9,3.1,1.5,0.1]|\n",
            "| 10|              5.4|             3.7|              1.5|             0.2|     0| setosa|[5.4,3.7,1.5,0.2]|\n",
            "| 11|              4.8|             3.4|              1.6|             0.2|     0| setosa|[4.8,3.4,1.6,0.2]|\n",
            "| 12|              4.8|             3.0|              1.4|             0.1|     0| setosa|[4.8,3.0,1.4,0.1]|\n",
            "| 13|              4.3|             3.0|              1.1|             0.1|     0| setosa|[4.3,3.0,1.1,0.1]|\n",
            "| 14|              5.8|             4.0|              1.2|             0.2|     0| setosa|[5.8,4.0,1.2,0.2]|\n",
            "| 15|              5.7|             4.4|              1.5|             0.4|     0| setosa|[5.7,4.4,1.5,0.4]|\n",
            "| 16|              5.4|             3.9|              1.3|             0.4|     0| setosa|[5.4,3.9,1.3,0.4]|\n",
            "| 17|              5.1|             3.5|              1.4|             0.3|     0| setosa|[5.1,3.5,1.4,0.3]|\n",
            "| 18|              5.7|             3.8|              1.7|             0.3|     0| setosa|[5.7,3.8,1.7,0.3]|\n",
            "| 19|              5.1|             3.8|              1.5|             0.3|     0| setosa|[5.1,3.8,1.5,0.3]|\n",
            "+---+-----------------+----------------+-----------------+----------------+------+-------+-----------------+\n",
            "only showing top 20 rows\n",
            "\n"
          ]
        }
      ]
    },
    {
      "cell_type": "code",
      "source": [
        "from pyspark.ml.feature import StringIndexer\n",
        "label_string = StringIndexer(inputCol=\"species\", outputCol=\"label\")\n",
        "df = label_string.fit(df).transform(df)\n",
        "df.show()"
      ],
      "metadata": {
        "id": "cx37b45Unomh",
        "outputId": "27a31dc6-af83-4855-b40e-2b6f1c545f6b",
        "colab": {
          "base_uri": "https://localhost:8080/"
        }
      },
      "execution_count": null,
      "outputs": [
        {
          "output_type": "stream",
          "name": "stdout",
          "text": [
            "+---+-----------------+----------------+-----------------+----------------+------+-------+-----------------+-----+\n",
            "|_c0|sepal length (cm)|sepal width (cm)|petal length (cm)|petal width (cm)|target|species|         features|label|\n",
            "+---+-----------------+----------------+-----------------+----------------+------+-------+-----------------+-----+\n",
            "|  0|              5.1|             3.5|              1.4|             0.2|     0| setosa|[5.1,3.5,1.4,0.2]|  0.0|\n",
            "|  1|              4.9|             3.0|              1.4|             0.2|     0| setosa|[4.9,3.0,1.4,0.2]|  0.0|\n",
            "|  2|              4.7|             3.2|              1.3|             0.2|     0| setosa|[4.7,3.2,1.3,0.2]|  0.0|\n",
            "|  3|              4.6|             3.1|              1.5|             0.2|     0| setosa|[4.6,3.1,1.5,0.2]|  0.0|\n",
            "|  4|              5.0|             3.6|              1.4|             0.2|     0| setosa|[5.0,3.6,1.4,0.2]|  0.0|\n",
            "|  5|              5.4|             3.9|              1.7|             0.4|     0| setosa|[5.4,3.9,1.7,0.4]|  0.0|\n",
            "|  6|              4.6|             3.4|              1.4|             0.3|     0| setosa|[4.6,3.4,1.4,0.3]|  0.0|\n",
            "|  7|              5.0|             3.4|              1.5|             0.2|     0| setosa|[5.0,3.4,1.5,0.2]|  0.0|\n",
            "|  8|              4.4|             2.9|              1.4|             0.2|     0| setosa|[4.4,2.9,1.4,0.2]|  0.0|\n",
            "|  9|              4.9|             3.1|              1.5|             0.1|     0| setosa|[4.9,3.1,1.5,0.1]|  0.0|\n",
            "| 10|              5.4|             3.7|              1.5|             0.2|     0| setosa|[5.4,3.7,1.5,0.2]|  0.0|\n",
            "| 11|              4.8|             3.4|              1.6|             0.2|     0| setosa|[4.8,3.4,1.6,0.2]|  0.0|\n",
            "| 12|              4.8|             3.0|              1.4|             0.1|     0| setosa|[4.8,3.0,1.4,0.1]|  0.0|\n",
            "| 13|              4.3|             3.0|              1.1|             0.1|     0| setosa|[4.3,3.0,1.1,0.1]|  0.0|\n",
            "| 14|              5.8|             4.0|              1.2|             0.2|     0| setosa|[5.8,4.0,1.2,0.2]|  0.0|\n",
            "| 15|              5.7|             4.4|              1.5|             0.4|     0| setosa|[5.7,4.4,1.5,0.4]|  0.0|\n",
            "| 16|              5.4|             3.9|              1.3|             0.4|     0| setosa|[5.4,3.9,1.3,0.4]|  0.0|\n",
            "| 17|              5.1|             3.5|              1.4|             0.3|     0| setosa|[5.1,3.5,1.4,0.3]|  0.0|\n",
            "| 18|              5.7|             3.8|              1.7|             0.3|     0| setosa|[5.7,3.8,1.7,0.3]|  0.0|\n",
            "| 19|              5.1|             3.8|              1.5|             0.3|     0| setosa|[5.1,3.8,1.5,0.3]|  0.0|\n",
            "+---+-----------------+----------------+-----------------+----------------+------+-------+-----------------+-----+\n",
            "only showing top 20 rows\n",
            "\n"
          ]
        }
      ]
    },
    {
      "cell_type": "code",
      "source": [
        "df.tail(5)"
      ],
      "metadata": {
        "id": "ziFhHykf0m6d",
        "outputId": "7b6c4075-78d0-49e2-a365-0a8231302f1f",
        "colab": {
          "base_uri": "https://localhost:8080/"
        }
      },
      "execution_count": null,
      "outputs": [
        {
          "output_type": "execute_result",
          "data": {
            "text/plain": [
              "[Row(_c0=145, sepal length (cm)=6.7, sepal width (cm)=3.0, petal length (cm)=5.2, petal width (cm)=2.3, target=2, species='virginica', features=DenseVector([6.7, 3.0, 5.2, 2.3]), label=2.0),\n",
              " Row(_c0=146, sepal length (cm)=6.3, sepal width (cm)=2.5, petal length (cm)=5.0, petal width (cm)=1.9, target=2, species='virginica', features=DenseVector([6.3, 2.5, 5.0, 1.9]), label=2.0),\n",
              " Row(_c0=147, sepal length (cm)=6.5, sepal width (cm)=3.0, petal length (cm)=5.2, petal width (cm)=2.0, target=2, species='virginica', features=DenseVector([6.5, 3.0, 5.2, 2.0]), label=2.0),\n",
              " Row(_c0=148, sepal length (cm)=6.2, sepal width (cm)=3.4, petal length (cm)=5.4, petal width (cm)=2.3, target=2, species='virginica', features=DenseVector([6.2, 3.4, 5.4, 2.3]), label=2.0),\n",
              " Row(_c0=149, sepal length (cm)=5.9, sepal width (cm)=3.0, petal length (cm)=5.1, petal width (cm)=1.8, target=2, species='virginica', features=DenseVector([5.9, 3.0, 5.1, 1.8]), label=2.0)]"
            ]
          },
          "metadata": {},
          "execution_count": 29
        }
      ]
    },
    {
      "cell_type": "code",
      "source": [
        "#ml"
      ],
      "metadata": {
        "id": "kKBHkNP2onpd"
      },
      "execution_count": null,
      "outputs": []
    },
    {
      "cell_type": "code",
      "source": [
        "train,test = df.randomSplit([0.7,0.3], seed=42)\n",
        "# seed is similar to random, baically a random"
      ],
      "metadata": {
        "id": "AD4Go6HeopeM"
      },
      "execution_count": null,
      "outputs": []
    },
    {
      "cell_type": "code",
      "source": [
        "from pyspark.ml.classification import LogisticRegression\n",
        "lr = LogisticRegression(featuresCol=\"features\", labelCol=\"label\")\n",
        "lr_model = lr.fit(train)"
      ],
      "metadata": {
        "id": "G6W_oX2Yo1C_"
      },
      "execution_count": null,
      "outputs": []
    },
    {
      "cell_type": "code",
      "source": [
        "predictions = lr_model.transform(test)"
      ],
      "metadata": {
        "id": "geWVGrzhpbDi"
      },
      "execution_count": null,
      "outputs": []
    },
    {
      "cell_type": "code",
      "source": [
        "predictions.select(\"label\", \"prediction\").show()"
      ],
      "metadata": {
        "id": "NwvD8CX1phwI",
        "outputId": "14c048bb-659d-46ee-c2c6-776504e79353",
        "colab": {
          "base_uri": "https://localhost:8080/"
        }
      },
      "execution_count": null,
      "outputs": [
        {
          "output_type": "stream",
          "name": "stdout",
          "text": [
            "+-----+----------+\n",
            "|label|prediction|\n",
            "+-----+----------+\n",
            "|  0.0|       0.0|\n",
            "|  0.0|       0.0|\n",
            "|  0.0|       0.0|\n",
            "|  0.0|       0.0|\n",
            "|  0.0|       0.0|\n",
            "|  0.0|       0.0|\n",
            "|  0.0|       0.0|\n",
            "|  0.0|       0.0|\n",
            "|  0.0|       0.0|\n",
            "|  0.0|       0.0|\n",
            "|  0.0|       0.0|\n",
            "|  0.0|       0.0|\n",
            "|  0.0|       0.0|\n",
            "|  0.0|       0.0|\n",
            "|  0.0|       0.0|\n",
            "|  0.0|       0.0|\n",
            "|  0.0|       0.0|\n",
            "|  0.0|       0.0|\n",
            "|  0.0|       0.0|\n",
            "|  0.0|       0.0|\n",
            "+-----+----------+\n",
            "only showing top 20 rows\n",
            "\n"
          ]
        }
      ]
    },
    {
      "cell_type": "code",
      "source": [
        "# evalutaion"
      ],
      "metadata": {
        "id": "Tec_9yTYpyEI"
      },
      "execution_count": null,
      "outputs": []
    },
    {
      "cell_type": "code",
      "source": [
        "from pyspark.ml.evaluation import MulticlassClassificationEvaluator\n",
        "eval = MulticlassClassificationEvaluator(labelCol=\"label\", predictionCol=\"prediction\", metricName=\"accuracy\")\n",
        "accuracy = eval.evaluate(predictions)\n",
        "print(\"Accuracy:\", accuracy)"
      ],
      "metadata": {
        "id": "1yo3wkXbp1ZR",
        "outputId": "3f9d2e0f-7d55-408b-bc98-294d70558f24",
        "colab": {
          "base_uri": "https://localhost:8080/"
        }
      },
      "execution_count": null,
      "outputs": [
        {
          "output_type": "stream",
          "name": "stdout",
          "text": [
            "Accuracy: 0.9347826086956522\n"
          ]
        }
      ]
    }
  ]
}