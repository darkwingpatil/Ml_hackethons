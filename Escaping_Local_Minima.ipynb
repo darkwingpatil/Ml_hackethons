{
  "nbformat": 4,
  "nbformat_minor": 0,
  "metadata": {
    "colab": {
      "provenance": [],
      "include_colab_link": true
    },
    "kernelspec": {
      "display_name": "Python 3",
      "language": "python",
      "name": "python3"
    }
  },
  "cells": [
    {
      "cell_type": "markdown",
      "metadata": {
        "id": "view-in-github",
        "colab_type": "text"
      },
      "source": [
        "<a href=\"https://colab.research.google.com/github/darkwingpatil/Ml_hackethons/blob/main/Escaping_Local_Minima.ipynb\" target=\"_parent\"><img src=\"https://colab.research.google.com/assets/colab-badge.svg\" alt=\"Open In Colab\"/></a>"
      ]
    },
    {
      "cell_type": "markdown",
      "metadata": {
        "id": "1W_oGBGKRkjw"
      },
      "source": [
        "# Advanced Certification in AIML\n",
        "## A Program by IIIT-H and TalentSprint\n",
        "\n"
      ]
    },
    {
      "cell_type": "markdown",
      "metadata": {
        "id": "7kdKQFW6RufE"
      },
      "source": [
        "### Not for Grading"
      ]
    },
    {
      "cell_type": "markdown",
      "metadata": {
        "id": "ilcngYvuhXQ8"
      },
      "source": [
        "## Escaping Local Minima"
      ]
    },
    {
      "cell_type": "code",
      "metadata": {
        "id": "6HOzJ5uuhaf3",
        "cellView": "form"
      },
      "source": [
        "#@title Case Study Walkthrough\n",
        "#@markdown  Escaping Local Minima\n",
        "from IPython.display import HTML\n",
        "\n",
        "HTML(\"\"\"<video width=\"320\" height=\"240\" controls>\n",
        "  <source src=\"https://cdn.talentsprint.com/talentsprint/archives/sc/aiml/aiml_2018_b7_hyd/preview_videos/escaping_local_minima.mp4\">\n",
        "</video>\n",
        "\"\"\")"
      ],
      "execution_count": null,
      "outputs": []
    },
    {
      "cell_type": "markdown",
      "metadata": {
        "id": "mjvMuBRDRvud"
      },
      "source": [
        "This experiment is to visualize how momentum parameter in stochastic gradient descent helps in escaping from local minima"
      ]
    },
    {
      "cell_type": "markdown",
      "metadata": {
        "id": "v04APg6ZfNtd"
      },
      "source": [
        "## Setup Steps"
      ]
    },
    {
      "cell_type": "code",
      "metadata": {
        "id": "RJNz2sDLoZ47"
      },
      "source": [
        "#@title Please enter your registration id to start: { run: \"auto\", display-mode: \"form\" }\n",
        "Id = \"\" #@param {type:\"string\"}"
      ],
      "execution_count": null,
      "outputs": []
    },
    {
      "cell_type": "code",
      "metadata": {
        "id": "maYkps60oZ48"
      },
      "source": [
        "#@title Please enter your password (normally your phone number) to continue: { run: \"auto\", display-mode: \"form\" }\n",
        "password = \"\" #@param {type:\"string\"}"
      ],
      "execution_count": null,
      "outputs": []
    },
    {
      "cell_type": "code",
      "metadata": {
        "cellView": "form",
        "id": "9wKhlWDsoZ48"
      },
      "source": [
        "#@title Run this cell to complete the setup for this Notebook\n",
        "from IPython import get_ipython\n",
        "import re\n",
        "ipython = get_ipython()\n",
        "\n",
        "notebook= \"U4W18_CS_Escaping_Local_Minima\" #name of the notebook\n",
        "\n",
        "def setup():\n",
        "#  ipython.magic(\"sx pip3 install torch\")\n",
        "    from IPython.display import HTML, display\n",
        "    ipython.magic(\"sx pip3 install gensim\")\n",
        "    ipython.magic(\"sx wget https://cdn.talentsprint.com/aiml/Experiment_related_data/week9/Exp2/AIML_DS_GOOGLENEWS-VECTORS-NEGATIVE-300_STD.bin&sa=D&source=hangouts&ust=1550651743825000&usg=AFQjCNHh2LSwNi9czsqAAuBLvx_vDeUE_Q\")\n",
        "    display(HTML('<script src=\"https://dashboard.talentsprint.com/aiml/record_ip.html?traineeId={0}&recordId={1}\"></script>'.format(getId(),submission_id)))\n",
        "    print(\"Setup completed successfully\")\n",
        "    return\n",
        "\n",
        "def submit_notebook():\n",
        "    ipython.magic(\"notebook -e \"+ notebook + \".ipynb\")\n",
        "\n",
        "    import requests, json, base64, datetime\n",
        "\n",
        "    url = \"https://dashboard.talentsprint.com/xp/app/save_notebook_attempts\"\n",
        "    if not submission_id:\n",
        "      data = {\"id\" : getId(), \"notebook\" : notebook, \"mobile\" : getPassword()}\n",
        "      r = requests.post(url, data = data)\n",
        "      r = json.loads(r.text)\n",
        "\n",
        "      if r[\"status\"] == \"Success\":\n",
        "          return r[\"record_id\"]\n",
        "      elif \"err\" in r:\n",
        "        print(r[\"err\"])\n",
        "        return None\n",
        "      else:\n",
        "        print (\"Something is wrong, the notebook will not be submitted for grading\")\n",
        "        return None\n",
        "\n",
        "    elif getComplexity() and getAdditional() and getConcepts() and getWalkthrough() and getComments() and getMentorSupport():\n",
        "      f = open(notebook + \".ipynb\", \"rb\")\n",
        "      file_hash = base64.b64encode(f.read())\n",
        "\n",
        "      data = {\"complexity\" : Complexity, \"additional\" :Additional,\n",
        "              \"concepts\" : Concepts, \"record_id\" : submission_id,\n",
        "               \"id\" : Id, \"file_hash\" : file_hash,\n",
        "              \"notebook\" : notebook, \"feedback_walkthrough\":Walkthrough ,\n",
        "              \"feedback_experiments_input\" : Comments,\n",
        "              \"feedback_inclass_mentor\": Mentor_support}\n",
        "\n",
        "      r = requests.post(url, data = data)\n",
        "      r = json.loads(r.text)\n",
        "      if \"err\" in r:\n",
        "        print(r[\"err\"])\n",
        "        return None\n",
        "      else:\n",
        "        print(\"Your submission is successful.\")\n",
        "        print(\"Ref Id:\", submission_id)\n",
        "        print(\"Date of submission: \", r[\"date\"])\n",
        "        print(\"Time of submission: \", r[\"time\"])\n",
        "        print(\"View your submissions: https://aiml-iiith.talentsprint.com/notebook_submissions\")\n",
        "        #print(\"For any queries/discrepancies, please connect with mentors through the chat icon in LMS dashboard.\")\n",
        "        return submission_id\n",
        "    else: submission_id\n",
        "\n",
        "\n",
        "def getAdditional():\n",
        "  try:\n",
        "    if not Additional:\n",
        "      raise NameError\n",
        "    else:\n",
        "      return Additional\n",
        "  except NameError:\n",
        "    print (\"Please answer Additional Question\")\n",
        "    return None\n",
        "\n",
        "def getComplexity():\n",
        "  try:\n",
        "    if not Complexity:\n",
        "      raise NameError\n",
        "    else:\n",
        "      return Complexity\n",
        "  except NameError:\n",
        "    print (\"Please answer Complexity Question\")\n",
        "    return None\n",
        "\n",
        "def getConcepts():\n",
        "  try:\n",
        "    if not Concepts:\n",
        "      raise NameError\n",
        "    else:\n",
        "      return Concepts\n",
        "  except NameError:\n",
        "    print (\"Please answer Concepts Question\")\n",
        "    return None\n",
        "\n",
        "\n",
        "def getWalkthrough():\n",
        "  try:\n",
        "    if not Walkthrough:\n",
        "      raise NameError\n",
        "    else:\n",
        "      return Walkthrough\n",
        "  except NameError:\n",
        "    print (\"Please answer Walkthrough Question\")\n",
        "    return None\n",
        "\n",
        "def getComments():\n",
        "  try:\n",
        "    if not Comments:\n",
        "      raise NameError\n",
        "    else:\n",
        "      return Comments\n",
        "  except NameError:\n",
        "    print (\"Please answer Comments Question\")\n",
        "    return None\n",
        "\n",
        "\n",
        "def getMentorSupport():\n",
        "  try:\n",
        "    if not Mentor_support:\n",
        "      raise NameError\n",
        "    else:\n",
        "      return Mentor_support\n",
        "  except NameError:\n",
        "    print (\"Please answer Mentor support Question\")\n",
        "    return None\n",
        "\n",
        "\n",
        "def getId():\n",
        "  try:\n",
        "    return Id if Id else None\n",
        "  except NameError:\n",
        "    return None\n",
        "\n",
        "def getPassword():\n",
        "  try:\n",
        "    return password if password else None\n",
        "  except NameError:\n",
        "    return None\n",
        "\n",
        "submission_id = None\n",
        "### Setup\n",
        "if getPassword() and getId():\n",
        "  submission_id = submit_notebook()\n",
        "  if submission_id:\n",
        "    setup()\n",
        "else:\n",
        "  print (\"Please complete Id and Password cells before running setup\")\n",
        "\n"
      ],
      "execution_count": null,
      "outputs": []
    },
    {
      "cell_type": "markdown",
      "metadata": {
        "id": "tOht0Y4dTbjg"
      },
      "source": [
        "##Importing required packages\n"
      ]
    },
    {
      "cell_type": "code",
      "source": [
        "!sudo pip3 install imageio==2.4.1"
      ],
      "metadata": {
        "id": "XCDySPKKsQXc"
      },
      "execution_count": null,
      "outputs": []
    },
    {
      "cell_type": "code",
      "metadata": {
        "id": "ZcyPz1kDZYUn"
      },
      "source": [
        "import numpy as np\n",
        "import matplotlib.pyplot as plt\n",
        "from moviepy.editor import VideoClip\n",
        "from moviepy.video.io.bindings import mplfig_to_npimage\n",
        "from mpl_toolkits.mplot3d import Axes3D\n",
        "import matplotlib.pyplot as plt\n",
        "from IPython.display import Image\n",
        "from IPython.display import display"
      ],
      "execution_count": null,
      "outputs": []
    },
    {
      "cell_type": "markdown",
      "metadata": {
        "id": "AJcoTRgBo2IA"
      },
      "source": [
        "###Define and plot the  wave function $f(x) = Sin(x^{2})+Sin(x)$"
      ]
    },
    {
      "cell_type": "code",
      "metadata": {
        "id": "9uZW9PVDpWJ7"
      },
      "source": [
        "x = np.linspace(-4, 4, 100)\n",
        "y = x**2"
      ],
      "execution_count": null,
      "outputs": []
    },
    {
      "cell_type": "code",
      "metadata": {
        "id": "lStqsvepo3WW"
      },
      "source": [
        "fig = plt.figure()\n",
        "def plot_surface(ax,t):\n",
        "    x = np.linspace(-4, 4, 100)\n",
        "    y = np.sin(x**2) + np.sin(x)\n",
        "    ax.plot(x,y)\n",
        "    ax.set_title(t)\n",
        "    plt.show()\n",
        "#plt.axis(\"off\")\n",
        "plt.plot(x,y)\n",
        "plt.show()"
      ],
      "execution_count": null,
      "outputs": []
    },
    {
      "cell_type": "markdown",
      "metadata": {
        "id": "64zQsmeMThiS"
      },
      "source": [
        "\n",
        "\n",
        "\n",
        "\n",
        "### Defining a function to get the gradients of the wave function"
      ]
    },
    {
      "cell_type": "code",
      "metadata": {
        "id": "4EfkZXsmZYUx"
      },
      "source": [
        "def gradients(x):\n",
        "    dx = 2*x*np.cos(x**2)+np.cos(x)\n",
        "    return dx"
      ],
      "execution_count": null,
      "outputs": []
    },
    {
      "cell_type": "markdown",
      "metadata": {
        "id": "wdxE30nQWEVR"
      },
      "source": [
        "### Defining the Stochastic Gradient Descent (SGD) and Momentum"
      ]
    },
    {
      "cell_type": "code",
      "metadata": {
        "id": "QHIE3ETDZYVD"
      },
      "source": [
        "def SGD(eta):\n",
        "    xs_grad = []\n",
        "    ys_grad = []\n",
        "\n",
        "    x_grad,y_grad = 1.11, 1.8\n",
        "    for i in range(200):\n",
        "        xs_grad.append(x_grad)\n",
        "        ys_grad.append(y_grad)\n",
        "        dx = gradients(x_grad)\n",
        "        #print(x_grad, y_grad, z_grad)\n",
        "        x_grad=x_grad-eta*dx\n",
        "        y_grad=np.sin(x_grad**2) + np.sin(x_grad)\n",
        "    return xs_grad, ys_grad\n",
        "\n",
        "def momentum(beta, eta):\n",
        "    x_mm,y_mm = 1.11, 1.8\n",
        "    vx =  0\n",
        "    xs_mm = []\n",
        "    ys_mm = []\n",
        "    for i in range(200):\n",
        "        xs_mm.append(x_mm)\n",
        "        ys_mm.append(y_mm)\n",
        "        dx = gradients(x_mm)\n",
        "        vx = beta*vx+dx\n",
        "        x_mm=x_mm-eta*vx\n",
        "        y_mm=np.sin(x_mm**2) + np.sin(x_mm)\n",
        "    return xs_mm, ys_mm"
      ],
      "execution_count": null,
      "outputs": []
    },
    {
      "cell_type": "code",
      "metadata": {
        "scrolled": true,
        "id": "CVSreKtqZYVI"
      },
      "source": [
        "def make_frame(t):\n",
        "    if t==0:\n",
        "        plot_surface(ax, 'SGD ($eta$=0.05)')\n",
        "    if t<9.95:\n",
        "        #break\n",
        "        t= int(t*2)\n",
        "        if t%2 == 0:\n",
        "            ax.plot([xs_grad[t], xs_grad[t+1]], [ys_grad[t], ys_grad[t+1]], c='b')\n",
        "        else:\n",
        "            ax.plot([xs_grad[t], xs_grad[t+1]], [ys_grad[t], ys_grad[t+1]], c='r')\n",
        "    return mplfig_to_npimage(fig)"
      ],
      "execution_count": null,
      "outputs": []
    },
    {
      "cell_type": "code",
      "metadata": {
        "scrolled": true,
        "id": "VCZydTn8ZYVN"
      },
      "source": [
        "xs_grad, ys_grad = SGD(0.05)\n",
        "duration=10\n",
        "fig = plt.figure()\n",
        "ax = fig.add_subplot(1, 1, 1)\n",
        "ax.set_xticks([])\n",
        "ax.set_yticks([])\n",
        "animation = VideoClip(make_frame, duration=duration)\n",
        "animation.write_gif(\"SGD_Nonconvex_2D.gif\",fps=20, opt=\"OptimizePlus\", fuzz=10)"
      ],
      "execution_count": null,
      "outputs": []
    },
    {
      "cell_type": "code",
      "metadata": {
        "id": "PFAajP2SZYVT"
      },
      "source": [
        "with open('SGD_Nonconvex_2D.gif','rb') as f:\n",
        "    display(Image(data=f.read(), format='png'))"
      ],
      "execution_count": null,
      "outputs": []
    },
    {
      "cell_type": "code",
      "metadata": {
        "id": "8w5Q86lHsD7n"
      },
      "source": [
        "def make_frame1(t):\n",
        "    if t==0:\n",
        "        plot_surface(ax, 'Momentum ($beta$=0.9 $eta$=0.05)')\n",
        "    if t<9.95:\n",
        "        #break\n",
        "        t= int(t*2)\n",
        "        if t%2 == 0:\n",
        "            ax.plot([xs_grad[t], xs_grad[t+1]], [ys_grad[t], ys_grad[t+1]], c='b')\n",
        "        else:\n",
        "            ax.plot([xs_grad[t], xs_grad[t+1]], [ys_grad[t], ys_grad[t+1]], c='r')\n",
        "    return mplfig_to_npimage(fig)"
      ],
      "execution_count": null,
      "outputs": []
    },
    {
      "cell_type": "code",
      "metadata": {
        "id": "1pxl1VnQZYVa"
      },
      "source": [
        "xs_grad, ys_grad = momentum(0.9, 0.05)\n",
        "duration=10\n",
        "fig = plt.figure()\n",
        "ax = fig.add_subplot(1, 1, 1)\n",
        "ax.set_xticks([])\n",
        "ax.set_yticks([])\n",
        "animation = VideoClip(make_frame1, duration=duration)\n",
        "animation.write_gif(\"MM_Nonconvex_2D.gif\",fps=20, opt=\"OptimizePlus\", fuzz=10)"
      ],
      "execution_count": null,
      "outputs": []
    },
    {
      "cell_type": "code",
      "metadata": {
        "id": "5w5ctepyZYVh"
      },
      "source": [
        "with open('MM_Nonconvex_2D.gif','rb') as f:\n",
        "    display(Image(data=f.read(), format='png'))"
      ],
      "execution_count": null,
      "outputs": []
    },
    {
      "cell_type": "markdown",
      "metadata": {
        "id": "VHfHdGCP_n6Y"
      },
      "source": [
        "### Please answer the questions below to complete the experiment:\n",
        "\n",
        "\n"
      ]
    },
    {
      "cell_type": "code",
      "metadata": {
        "id": "NMzKSbLIgFzQ"
      },
      "source": [
        "#@title How was the experiment? { run: \"auto\", form-width: \"500px\", display-mode: \"form\" }\n",
        "Complexity = \"\" #@param [\"\",\"Too Simple, I am wasting time\", \"Good, But Not Challenging for me\", \"Good and Challenging for me\", \"Was Tough, but I did it\", \"Too Difficult for me\"]\n"
      ],
      "execution_count": null,
      "outputs": []
    },
    {
      "cell_type": "code",
      "metadata": {
        "id": "DjcH1VWSFI2l"
      },
      "source": [
        "#@title If it was too easy, what more would you have liked to be added? If it was very difficult, what would you have liked to have been removed? { run: \"auto\", display-mode: \"form\" }\n",
        "Additional = \"\" #@param {type:\"string\"}\n"
      ],
      "execution_count": null,
      "outputs": []
    },
    {
      "cell_type": "code",
      "metadata": {
        "id": "4VBk_4VTAxCM"
      },
      "source": [
        "#@title Can you identify the concepts from the lecture which this experiment covered? { run: \"auto\", vertical-output: true, display-mode: \"form\" }\n",
        "Concepts = \"\" #@param [\"\",\"Yes\", \"No\"]\n"
      ],
      "execution_count": null,
      "outputs": []
    },
    {
      "cell_type": "code",
      "metadata": {
        "id": "r35isHfTVGKc"
      },
      "source": [
        "#@title  Experiment walkthrough video? { run: \"auto\", vertical-output: true, display-mode: \"form\" }\n",
        "Walkthrough = \"\" #@param [\"\",\"Very Useful\", \"Somewhat Useful\", \"Not Useful\", \"Didn't use\"]\n"
      ],
      "execution_count": null,
      "outputs": []
    },
    {
      "cell_type": "code",
      "metadata": {
        "id": "XH91cL1JWH7m"
      },
      "source": [
        "#@title  Text and image description/explanation and code comments within the experiment: { run: \"auto\", vertical-output: true, display-mode: \"form\" }\n",
        "Comments = \"\" #@param [\"\",\"Very Useful\", \"Somewhat Useful\", \"Not Useful\", \"Didn't use\"]\n"
      ],
      "execution_count": null,
      "outputs": []
    },
    {
      "cell_type": "code",
      "metadata": {
        "id": "z8xLqj7VWIKW"
      },
      "source": [
        "#@title Mentor Support: { run: \"auto\", vertical-output: true, display-mode: \"form\" }\n",
        "Mentor_support = \"\" #@param [\"\",\"Very Useful\", \"Somewhat Useful\", \"Not Useful\", \"Didn't use\"]\n"
      ],
      "execution_count": null,
      "outputs": []
    },
    {
      "cell_type": "code",
      "metadata": {
        "id": "FzAZHt1zw-Y-",
        "cellView": "form"
      },
      "source": [
        "#@title Run this cell to submit your notebook for Ungrading { vertical-output: true }\n",
        "try:\n",
        "  if submission_id:\n",
        "      return_id = submit_notebook()\n",
        "      if return_id : submission_id = return_id\n",
        "  else:\n",
        "      print(\"Please complete the setup first.\")\n",
        "except NameError:\n",
        "  print (\"Please complete the setup first.\")"
      ],
      "execution_count": null,
      "outputs": []
    }
  ]
}