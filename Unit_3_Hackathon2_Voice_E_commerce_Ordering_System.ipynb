{
  "cells": [
    {
      "cell_type": "markdown",
      "metadata": {
        "id": "view-in-github",
        "colab_type": "text"
      },
      "source": [
        "<a href=\"https://colab.research.google.com/github/darkwingpatil/Ml_hackethons/blob/main/Unit_3_Hackathon2_Voice_E_commerce_Ordering_System.ipynb\" target=\"_parent\"><img src=\"https://colab.research.google.com/assets/colab-badge.svg\" alt=\"Open In Colab\"/></a>"
      ]
    },
    {
      "cell_type": "markdown",
      "metadata": {
        "id": "SZIubkln0AI2"
      },
      "source": [
        "# Advanced Certification in AIML\n",
        "## A Program by IIIT-H and TalentSprint"
      ]
    },
    {
      "cell_type": "code",
      "execution_count": null,
      "metadata": {
        "cellView": "form",
        "colab": {
          "base_uri": "https://localhost:8080/",
          "height": 501
        },
        "id": "Alui-GbzEBtW",
        "outputId": "c296bc45-9059-4581-c11d-50d3c26f1eb2"
      },
      "outputs": [
        {
          "data": {
            "text/html": [
              "<video width=\"854\" and height=\"480\" controls>\n",
              "  <source src=\"https://cdn.iiith.talentsprint.com/aiml/Experiment_related_data/Walkthrough/Hackathon_Voice_based.mp4\" type=\"video/mp4\">\n",
              "</video>\n"
            ],
            "text/plain": [
              "<IPython.core.display.HTML object>"
            ]
          },
          "execution_count": 1,
          "metadata": {},
          "output_type": "execute_result"
        }
      ],
      "source": [
        "#@title Explanation Video\n",
        "from IPython.display import HTML\n",
        "\n",
        "HTML(\"\"\"<video width=\"854\" and height=\"480\" controls>\n",
        "  <source src=\"https://cdn.iiith.talentsprint.com/aiml/Experiment_related_data/Walkthrough/Hackathon_Voice_based.mp4\" type=\"video/mp4\">\n",
        "</video>\n",
        "\"\"\")"
      ]
    },
    {
      "cell_type": "markdown",
      "metadata": {
        "id": "4LNbxek40AI4"
      },
      "source": [
        "# Hackathon: Voice commands based E-commerce ordering system\n",
        "The goal of the hackathon is to train your model on different types of voice data (such as studio data and your own team data) and able to place order based on user preferences."
      ]
    },
    {
      "cell_type": "markdown",
      "metadata": {
        "id": "Fms7Yt7byCuQ"
      },
      "source": [
        "## Grading = 40 Marks"
      ]
    },
    {
      "cell_type": "markdown",
      "metadata": {
        "id": "zUtVl7cBHlIh"
      },
      "source": [
        "### **Objectives:**\n",
        "\n",
        "Stage 0 - Obtain Features from Audio samples\n",
        "\n",
        "Stage 1 (22 Marks) - Define and train a CNN model on Studio data and deploy the model in the server\n",
        "\n",
        "Stage 2 (18 Marks) - Collect your voice samples (team data) and refine the classifier trained on Studio_data. Deploy the model in the server."
      ]
    },
    {
      "cell_type": "markdown",
      "metadata": {
        "id": "BYm_60PiPSsq"
      },
      "source": [
        "## Dataset Description"
      ]
    },
    {
      "cell_type": "markdown",
      "metadata": {
        "id": "qiAu1XJx3lCJ"
      },
      "source": [
        "The data contains voice samples of classes - Zero, One, Two, Three, Four, Five. Each class is denoted by a numerical label from 0 to 5.\n",
        "\n",
        "The audio files collected in a Studio dataset contain very few noise samples and all the files are in wav format.\n",
        "\n",
        "The audio files recorded for the studio are saved with the following naming convention:\n",
        "\n",
        "● Class Representation + user_id + sample_ID (or noise + sample_ID)\n",
        "\n",
        "> For example: The voice sample by the user b2 recorded “Zero”, it is saved as 0_b2_35.wav. Here 35 is sample ID, 2 is the user id and ‘0’ is the label of that sample.\n",
        "\n",
        "\n"
      ]
    },
    {
      "cell_type": "code",
      "execution_count": 1,
      "metadata": {
        "cellView": "form",
        "colab": {
          "base_uri": "https://localhost:8080/"
        },
        "id": "Kv0xxq_d0Qb_",
        "outputId": "12425bc4-51a3-40ee-d277-9c9ebfd9706b"
      },
      "outputs": [
        {
          "output_type": "stream",
          "name": "stdout",
          "text": [
            "Setup completed successfully\n"
          ]
        }
      ],
      "source": [
        "#@title Please run the setup to download the dataset\n",
        "\n",
        "from IPython import get_ipython\n",
        "ipython = get_ipython()\n",
        "\n",
        "notebook= \"Hackathon2 - Voice E-commerce Ordering System\" #name of the notebook\n",
        "\n",
        "def setup():\n",
        "    ipython.magic(\"sx wget https://cdn.iiith.talentsprint.com/aiml/Hackathon_data/B17_studio_rev_data.zip\")\n",
        "    ipython.magic(\"sx unzip B17_studio_rev_data.zip \")\n",
        "    print (\"Setup completed successfully\")\n",
        "\n",
        "setup()"
      ]
    },
    {
      "cell_type": "code",
      "execution_count": 2,
      "metadata": {
        "id": "DqNBNvC25WNV"
      },
      "outputs": [],
      "source": [
        "import os\n",
        "import sys\n",
        "import glob\n",
        "import torch\n",
        "import librosa\n",
        "import warnings\n",
        "import numpy as np\n",
        "import torch.nn as nn\n",
        "from time import sleep\n",
        "from torch import optim\n",
        "import torch.nn.functional as F\n",
        "from torch.autograd import Variable\n",
        "warnings.filterwarnings('ignore')"
      ]
    },
    {
      "cell_type": "markdown",
      "metadata": {
        "id": "lEg2PYXrOjnZ"
      },
      "source": [
        "## **Stage 0:** Obtain Features from Audio samples\n",
        "---\n",
        "\n",
        "### Generate features from an audio sample of '.wav' format\n",
        "- Code is available to extract the features"
      ]
    },
    {
      "cell_type": "code",
      "execution_count": 74,
      "metadata": {
        "id": "eTtb2zAj5k0-"
      },
      "outputs": [],
      "source": [
        "# Caution: Do not change the default parameters\n",
        "def get_features(filepath, sr=8000, n_mfcc=30, n_mels=128, frames = 15):\n",
        "    # The following function contains code to produce features of the audio sample.\n",
        "    y, sr = librosa.load(filepath, sr=sr)\n",
        "    D = np.abs(librosa.stft(y))**2\n",
        "    S = librosa.feature.melspectrogram(S=D)\n",
        "    S = librosa.feature.melspectrogram(y=y, sr=sr, n_mels=n_mels)\n",
        "    log_S = librosa.power_to_db(S,ref=np.max)\n",
        "    features = librosa.feature.mfcc(S=log_S, n_mfcc=n_mfcc)\n",
        "    if features.shape[1] < frames :\n",
        "        features = np.hstack((features, np.zeros((n_mfcc, frames - features.shape[1]))))\n",
        "    elif features.shape[1] > frames:\n",
        "        features = features[:, :frames]\n",
        "\n",
        "    # Find 1st order delta_mfcc\n",
        "    delta1_mfcc = librosa.feature.delta(features, order=1)\n",
        "\n",
        "    # Find 2nd order delta_mfcc\n",
        "    delta2_mfcc = librosa.feature.delta(features, order=2)\n",
        "\n",
        "    # Stacking delta_mfcc features in sequence horizontally (column wise)\n",
        "    features = np.hstack((delta1_mfcc.flatten(), delta2_mfcc.flatten()))\n",
        "\n",
        "    # Increase the dimension by inserting an axis along second dimension\n",
        "    features = features.flatten()[:,np.newaxis]\n",
        "\n",
        "    # Convert the numpy.ndarray to a Tensor object\n",
        "    features = Variable(torch.from_numpy(features)).float()\n",
        "    return features"
      ]
    },
    {
      "cell_type": "markdown",
      "metadata": {
        "id": "NhLFY4n6BwIj"
      },
      "source": [
        "All the voice samples needed for training are present in the folder `\"studio_data\"`"
      ]
    },
    {
      "cell_type": "code",
      "execution_count": 4,
      "metadata": {
        "colab": {
          "base_uri": "https://localhost:8080/"
        },
        "id": "lMF1AqHZhl1h",
        "outputId": "1762d027-97da-41ca-eb45-0d96c6a473bf"
      },
      "outputs": [
        {
          "output_type": "stream",
          "name": "stdout",
          "text": [
            "B17_studio_rev_data.zip  \u001b[0m\u001b[01;34msample_data\u001b[0m/  \u001b[01;34mstudio_data\u001b[0m/\n"
          ]
        }
      ],
      "source": [
        "%ls"
      ]
    },
    {
      "cell_type": "markdown",
      "metadata": {
        "id": "a2AAbFp5KORl"
      },
      "source": [
        "##**Stage 1**:  Define and train a CNN model on Studio data and deploy the model in the server\n",
        "\n",
        "---\n"
      ]
    },
    {
      "cell_type": "markdown",
      "metadata": {
        "id": "SB-LowDuCMUL"
      },
      "source": [
        "### a) Extract features of Studio data (4 Marks)\n",
        "\n",
        " Load 'Studio data' and extract mfcc features\n",
        "\n",
        " **Evaluation Criteria:**\n",
        "\n",
        " * Complete the code in the load_data function\n",
        " * The function should take path of the folder containing audio samples as input\n",
        " * It should return features of all the audio samples present in the specified folder into single array (list of lists or 2-d numpy array) and their respective labels should be returned too"
      ]
    },
    {
      "cell_type": "code",
      "execution_count": 75,
      "metadata": {
        "id": "qDzCa-532EUj"
      },
      "outputs": [],
      "source": [
        "def load_data(folder_path):\n",
        "    features = []\n",
        "    labels = []\n",
        "    for filename in os.listdir(folder_path):\n",
        "        if filename.endswith(\".wav\"):\n",
        "            filepath = os.path.join(folder_path, filename)\n",
        "            label = int(filename.split(\"_\")[0])\n",
        "            feature = get_features(filepath)\n",
        "            features.append(feature)\n",
        "            labels.append(label)\n",
        "    return features, labels\n"
      ]
    },
    {
      "cell_type": "markdown",
      "metadata": {
        "id": "7673ezpxFEfM"
      },
      "source": [
        "Load data from studio_data folder for extracting all features and labels"
      ]
    },
    {
      "cell_type": "code",
      "execution_count": 77,
      "metadata": {
        "id": "u5CjrlPVPjNs"
      },
      "outputs": [],
      "source": [
        "# load_data('./studio_data/')\n",
        "studio_recorded_features, studio_recorded_labels = load_data('./studio_data/')\n"
      ]
    },
    {
      "cell_type": "code",
      "execution_count": 64,
      "metadata": {
        "colab": {
          "base_uri": "https://localhost:8080/",
          "height": 200
        },
        "id": "AOHEfqbhmcY5",
        "collapsed": true,
        "outputId": "544cc597-6509-45c7-cea3-4320ea18f2e7"
      },
      "outputs": [
        {
          "output_type": "stream",
          "name": "stdout",
          "text": [
            "3979 3979\n"
          ]
        },
        {
          "output_type": "error",
          "ename": "AttributeError",
          "evalue": "'list' object has no attribute 'shape'",
          "traceback": [
            "\u001b[0;31m---------------------------------------------------------------------------\u001b[0m",
            "\u001b[0;31mAttributeError\u001b[0m                            Traceback (most recent call last)",
            "\u001b[0;32m<ipython-input-64-b905c95dab1c>\u001b[0m in \u001b[0;36m<cell line: 2>\u001b[0;34m()\u001b[0m\n\u001b[1;32m      1\u001b[0m \u001b[0mprint\u001b[0m\u001b[0;34m(\u001b[0m\u001b[0mlen\u001b[0m\u001b[0;34m(\u001b[0m\u001b[0mstudio_recorded_features\u001b[0m\u001b[0;34m)\u001b[0m\u001b[0;34m,\u001b[0m\u001b[0mlen\u001b[0m\u001b[0;34m(\u001b[0m\u001b[0mstudio_recorded_labels\u001b[0m\u001b[0;34m)\u001b[0m\u001b[0;34m)\u001b[0m\u001b[0;34m\u001b[0m\u001b[0;34m\u001b[0m\u001b[0m\n\u001b[0;32m----> 2\u001b[0;31m \u001b[0mprint\u001b[0m\u001b[0;34m(\u001b[0m\u001b[0mstudio_recorded_features\u001b[0m\u001b[0;34m.\u001b[0m\u001b[0mshape\u001b[0m\u001b[0;34m)\u001b[0m\u001b[0;34m\u001b[0m\u001b[0;34m\u001b[0m\u001b[0m\n\u001b[0m\u001b[1;32m      3\u001b[0m \u001b[0mprint\u001b[0m\u001b[0;34m(\u001b[0m\u001b[0mstudio_recorded_labels\u001b[0m\u001b[0;34m.\u001b[0m\u001b[0mshape\u001b[0m\u001b[0;34m)\u001b[0m\u001b[0;34m\u001b[0m\u001b[0;34m\u001b[0m\u001b[0m\n",
            "\u001b[0;31mAttributeError\u001b[0m: 'list' object has no attribute 'shape'"
          ]
        }
      ],
      "source": []
    },
    {
      "cell_type": "markdown",
      "metadata": {
        "id": "krshAu69Hy8-"
      },
      "source": [
        "Use train_test_split for splitting the train and test data"
      ]
    },
    {
      "cell_type": "code",
      "execution_count": 78,
      "metadata": {
        "id": "0LV83ruiHvfO"
      },
      "outputs": [],
      "source": [
        "from sklearn.model_selection import train_test_split\n",
        "\n",
        "X_train, X_test, y_train, y_test = train_test_split(studio_recorded_features, studio_recorded_labels, test_size=0.2, random_state=42)"
      ]
    },
    {
      "cell_type": "code",
      "source": [],
      "metadata": {
        "colab": {
          "base_uri": "https://localhost:8080/",
          "height": 164
        },
        "id": "qgRwNujvDFWD",
        "outputId": "922efa75-6c24-4376-d961-d7599eeeba9e"
      },
      "execution_count": 66,
      "outputs": [
        {
          "output_type": "error",
          "ename": "AttributeError",
          "evalue": "'list' object has no attribute 'shape'",
          "traceback": [
            "\u001b[0;31m---------------------------------------------------------------------------\u001b[0m",
            "\u001b[0;31mAttributeError\u001b[0m                            Traceback (most recent call last)",
            "\u001b[0;32m<ipython-input-66-b22f69f3f0f7>\u001b[0m in \u001b[0;36m<cell line: 1>\u001b[0;34m()\u001b[0m\n\u001b[0;32m----> 1\u001b[0;31m \u001b[0mprint\u001b[0m\u001b[0;34m(\u001b[0m\u001b[0mx_train\u001b[0m\u001b[0;34m.\u001b[0m\u001b[0mshape\u001b[0m\u001b[0;34m)\u001b[0m\u001b[0;34m\u001b[0m\u001b[0;34m\u001b[0m\u001b[0m\n\u001b[0m\u001b[1;32m      2\u001b[0m \u001b[0mprint\u001b[0m\u001b[0;34m(\u001b[0m\u001b[0my_train\u001b[0m\u001b[0;34m.\u001b[0m\u001b[0mshape\u001b[0m\u001b[0;34m)\u001b[0m\u001b[0;34m\u001b[0m\u001b[0;34m\u001b[0m\u001b[0m\n",
            "\u001b[0;31mAttributeError\u001b[0m: 'list' object has no attribute 'shape'"
          ]
        }
      ]
    },
    {
      "cell_type": "markdown",
      "metadata": {
        "id": "43M0H5Z23rnh"
      },
      "source": [
        "Load the dataset with DataLoader\n",
        "- Refer to [torch.utils.data.TensorDataset](https://pytorch.org/docs/stable/data.html#torch.utils.data.TensorDataset)\n",
        "- Refer to [torch.utils.data.DataLoader](https://pytorch.org/docs/stable/data.html#torch.utils.data.DataLoader)"
      ]
    },
    {
      "cell_type": "code",
      "execution_count": 79,
      "metadata": {
        "id": "ls6gI08XH2ak"
      },
      "outputs": [],
      "source": [
        "# prompt: Load the dataset with DataLoader\n",
        "\n",
        "from torch.utils.data import TensorDataset, DataLoader\n",
        "\n",
        "train_data = TensorDataset(torch.stack(X_train), torch.tensor(y_train))\n",
        "test_data = TensorDataset(torch.stack(X_test), torch.tensor(y_test))\n",
        "\n",
        "train_loader = DataLoader(train_data, batch_size=32, shuffle=True)\n",
        "test_loader = DataLoader(test_data, batch_size=32, shuffle=False)\n"
      ]
    },
    {
      "cell_type": "code",
      "source": [
        "for data in train_loader:\n",
        "  feat, lab=data\n",
        "  print(feat.shape)\n",
        "  break;"
      ],
      "metadata": {
        "colab": {
          "base_uri": "https://localhost:8080/"
        },
        "id": "5F19VusvC2g2",
        "outputId": "58ec6d29-94da-497f-be15-117b91039ca8"
      },
      "execution_count": 81,
      "outputs": [
        {
          "output_type": "stream",
          "name": "stdout",
          "text": [
            "torch.Size([32, 900, 1])\n"
          ]
        }
      ]
    },
    {
      "cell_type": "markdown",
      "metadata": {
        "id": "BGq6XpvhFynP"
      },
      "source": [
        "### b) Define your CNN architecture (4 Marks)\n",
        "\n",
        "[Hint](https://pytorch.org/docs/stable/generated/torch.nn.Conv1d.html)"
      ]
    },
    {
      "cell_type": "code",
      "execution_count": 99,
      "metadata": {
        "id": "VU5hdERsFw5o"
      },
      "outputs": [],
      "source": [
        "## Define your CNN Architecture\n",
        "class Net(nn.Module):\n",
        "    def __init__(self):\n",
        "        super(Net, self).__init__()\n",
        "\n",
        "        # Sample Convolution Layer 1\n",
        "        self.conv1 = nn.Conv1d(in_channels=900, out_channels=400, kernel_size=1)\n",
        "        self.bn1 = nn.BatchNorm1d(400)\n",
        "        self.relu = nn.ReLU()\n",
        "\n",
        "        # Sample Maxpool for the Convolutional Layer 1\n",
        "        self.maxpool = nn.MaxPool1d(1)\n",
        "\n",
        "        # Sample Dropout Layer\n",
        "        self.dropout = nn.Dropout(p=0.25)\n",
        "\n",
        "        # YOUR CODE HERE for defining more number of Convolutional layers with Maxpool as required (Hint: Use at least 2 more convolutional layers for better performance)\n",
        "\n",
        "        self.conv2 = nn.Conv1d(in_channels=400, out_channels=200, kernel_size=1)  # Kernel size 3 with padding to keep sequence length same\n",
        "\n",
        "        self.conv3 = nn.Conv1d(in_channels=200, out_channels=100, kernel_size=1)  # Kernel size 3 with padding to keep sequence length same\n",
        "\n",
        "        self.fc1 = nn.Linear(100, 256)  # seq_len is downsampled by factor of 8 (2x2x2 from MaxPool)\n",
        "        self.fc2 = nn.Linear(256, 6)  # Assuming 10 output classes\n",
        "\n",
        "\n",
        "\n",
        "        # YOUR CODE HERE for defining the Fully Connected Layer and also define LogSoftmax\n",
        "\n",
        "    def forward(self, x):\n",
        "        # Convolution Layer 1, Maxpool and Dropout\n",
        "        out = self.conv1(x)\n",
        "        out = self.bn1(out)\n",
        "        out = self.relu(out)\n",
        "        out = self.maxpool(out)\n",
        "        out = self.dropout(out)\n",
        "        # YOUR CODE HERE for the Convolutional Layers and Maxpool based on the defined Convolutional layers\n",
        "        out = self.conv2(out)\n",
        "        out = self.relu(out)\n",
        "        out =self.maxpool(out)\n",
        "\n",
        "        out = self.conv3(out)\n",
        "        out = self.relu(out)\n",
        "        out =self.maxpool(out)\n",
        "\n",
        "        # YOUR CODE HERE for flattening the output of the final pooling layer to a vector. Flattening is simply arranging the 3D volume of numbers into a 1D vector\n",
        "        # print(out.shape)\n",
        "        out = out.view(out.size(0), -1)\n",
        "        # print(out.shape)\n",
        "\n",
        "        # YOUR CODE HERE for returning the output of LogSoftmax after applying Fully Connected Layer\n",
        "\n",
        "        out= self.fc1(out)\n",
        "        out = self.relu(out)\n",
        "        out = self.fc2(out)\n",
        "\n",
        "        return F.log_softmax(out, dim = -1)\n",
        "\n"
      ]
    },
    {
      "cell_type": "code",
      "source": [
        "!pip install torchviz\n",
        "\n"
      ],
      "metadata": {
        "colab": {
          "base_uri": "https://localhost:8080/"
        },
        "id": "U54wjymmKL-C",
        "outputId": "924e07e4-8308-4810-b5a8-75898616caa1"
      },
      "execution_count": 17,
      "outputs": [
        {
          "output_type": "stream",
          "name": "stdout",
          "text": [
            "Collecting torchviz\n",
            "  Downloading torchviz-0.0.2.tar.gz (4.9 kB)\n",
            "  Preparing metadata (setup.py) ... \u001b[?25l\u001b[?25hdone\n",
            "Requirement already satisfied: torch in /usr/local/lib/python3.10/dist-packages (from torchviz) (2.4.1+cu121)\n",
            "Requirement already satisfied: graphviz in /usr/local/lib/python3.10/dist-packages (from torchviz) (0.20.3)\n",
            "Requirement already satisfied: filelock in /usr/local/lib/python3.10/dist-packages (from torch->torchviz) (3.16.1)\n",
            "Requirement already satisfied: typing-extensions>=4.8.0 in /usr/local/lib/python3.10/dist-packages (from torch->torchviz) (4.12.2)\n",
            "Requirement already satisfied: sympy in /usr/local/lib/python3.10/dist-packages (from torch->torchviz) (1.13.2)\n",
            "Requirement already satisfied: networkx in /usr/local/lib/python3.10/dist-packages (from torch->torchviz) (3.3)\n",
            "Requirement already satisfied: jinja2 in /usr/local/lib/python3.10/dist-packages (from torch->torchviz) (3.1.4)\n",
            "Requirement already satisfied: fsspec in /usr/local/lib/python3.10/dist-packages (from torch->torchviz) (2024.6.1)\n",
            "Requirement already satisfied: MarkupSafe>=2.0 in /usr/local/lib/python3.10/dist-packages (from jinja2->torch->torchviz) (2.1.5)\n",
            "Requirement already satisfied: mpmath<1.4,>=1.1.0 in /usr/local/lib/python3.10/dist-packages (from sympy->torch->torchviz) (1.3.0)\n",
            "Building wheels for collected packages: torchviz\n",
            "  Building wheel for torchviz (setup.py) ... \u001b[?25l\u001b[?25hdone\n",
            "  Created wheel for torchviz: filename=torchviz-0.0.2-py3-none-any.whl size=4132 sha256=a5aa7aa2667eb634d2acd8d9be2f93745eb330f22fd6a7b6d3f73dfc3090ebf3\n",
            "  Stored in directory: /root/.cache/pip/wheels/4c/97/88/a02973217949e0db0c9f4346d154085f4725f99c4f15a87094\n",
            "Successfully built torchviz\n",
            "Installing collected packages: torchviz\n",
            "Successfully installed torchviz-0.0.2\n"
          ]
        }
      ]
    },
    {
      "cell_type": "code",
      "execution_count": 31,
      "metadata": {
        "id": "1OFWuGmq05ZK",
        "colab": {
          "base_uri": "https://localhost:8080/"
        },
        "outputId": "63aa542c-cf54-404e-d953-a1f42f34c67b"
      },
      "outputs": [
        {
          "output_type": "stream",
          "name": "stdout",
          "text": [
            "cpu\n"
          ]
        }
      ],
      "source": [
        "# To run the training on GPU\n",
        "device = torch.device(\"cuda\" if torch.cuda.is_available() else \"cpu\")\n",
        "print(device)"
      ]
    },
    {
      "cell_type": "code",
      "execution_count": 100,
      "metadata": {
        "id": "Wkt8lKQtCIWD",
        "colab": {
          "base_uri": "https://localhost:8080/"
        },
        "outputId": "8bef7a97-2e2b-4a31-b39e-c96b41f7f5fe"
      },
      "outputs": [
        {
          "output_type": "stream",
          "name": "stdout",
          "text": [
            "Net(\n",
            "  (conv1): Conv1d(900, 400, kernel_size=(1,), stride=(1,))\n",
            "  (bn1): BatchNorm1d(400, eps=1e-05, momentum=0.1, affine=True, track_running_stats=True)\n",
            "  (relu): ReLU()\n",
            "  (maxpool): MaxPool1d(kernel_size=1, stride=1, padding=0, dilation=1, ceil_mode=False)\n",
            "  (dropout): Dropout(p=0.25, inplace=False)\n",
            "  (conv2): Conv1d(400, 200, kernel_size=(1,), stride=(1,))\n",
            "  (conv3): Conv1d(200, 100, kernel_size=(1,), stride=(1,))\n",
            "  (fc1): Linear(in_features=100, out_features=256, bias=True)\n",
            "  (fc2): Linear(in_features=256, out_features=6, bias=True)\n",
            ")\n"
          ]
        }
      ],
      "source": [
        "model = Net()\n",
        "model = model.to(device)\n",
        "print(model)\n",
        "\n",
        "#criterion = # YOUR CODE HERE : Explore and declare loss function\n",
        "criterion = nn.CrossEntropyLoss()\n",
        "\n",
        "#optimizer = # YOUR CODE HERE : Explore on the optimizer and define with the learning rate\n",
        "optimizer = optim.Adam(model.parameters(), lr=0.01)"
      ]
    },
    {
      "cell_type": "code",
      "source": [
        "from torchviz import make_dot\n",
        "\n",
        "dataiter= iter(train_loader)\n",
        "images, labels = next(dataiter)\n",
        "\n",
        "images = images.to(device)\n",
        "# images=images.unsqueeze(-1)\n",
        "# images = torch.nn.functional.pad(images, (0, 1))\n",
        "# torch.Size([1, 900])\n",
        "print(images.shape)\n",
        "make_dot(model(images),params = dict(model.named_parameters()))"
      ],
      "metadata": {
        "colab": {
          "base_uri": "https://localhost:8080/",
          "height": 1000
        },
        "collapsed": true,
        "id": "S40hikpeKshr",
        "outputId": "4a0cc0dd-95d9-42c0-d972-e76f2e901374"
      },
      "execution_count": 101,
      "outputs": [
        {
          "output_type": "stream",
          "name": "stdout",
          "text": [
            "torch.Size([32, 900, 1])\n"
          ]
        },
        {
          "output_type": "execute_result",
          "data": {
            "image/svg+xml": "<?xml version=\"1.0\" encoding=\"UTF-8\" standalone=\"no\"?>\n<!DOCTYPE svg PUBLIC \"-//W3C//DTD SVG 1.1//EN\"\n \"http://www.w3.org/Graphics/SVG/1.1/DTD/svg11.dtd\">\n<!-- Generated by graphviz version 2.43.0 (0)\n -->\n<!-- Title: %3 Pages: 1 -->\n<svg width=\"599pt\" height=\"1048pt\"\n viewBox=\"0.00 0.00 598.96 1048.00\" xmlns=\"http://www.w3.org/2000/svg\" xmlns:xlink=\"http://www.w3.org/1999/xlink\">\n<g id=\"graph0\" class=\"graph\" transform=\"scale(0.72 0.72) rotate(0) translate(4 1443)\">\n<title>%3</title>\n<polygon fill=\"white\" stroke=\"transparent\" points=\"-4,4 -4,-1443 823,-1443 823,4 -4,4\"/>\n<!-- 136031547891504 -->\n<g id=\"node1\" class=\"node\">\n<title>136031547891504</title>\n<polygon fill=\"#caff70\" stroke=\"black\" points=\"642,-31 577,-31 577,0 642,0 642,-31\"/>\n<text text-anchor=\"middle\" x=\"609.5\" y=\"-7\" font-family=\"monospace\" font-size=\"10.00\"> (32, 6)</text>\n</g>\n<!-- 136031697459552 -->\n<g id=\"node2\" class=\"node\">\n<title>136031697459552</title>\n<polygon fill=\"lightgrey\" stroke=\"black\" points=\"675,-86 544,-86 544,-67 675,-67 675,-86\"/>\n<text text-anchor=\"middle\" x=\"609.5\" y=\"-74\" font-family=\"monospace\" font-size=\"10.00\">LogSoftmaxBackward0</text>\n</g>\n<!-- 136031697459552&#45;&gt;136031547891504 -->\n<g id=\"edge48\" class=\"edge\">\n<title>136031697459552&#45;&gt;136031547891504</title>\n<path fill=\"none\" stroke=\"black\" d=\"M609.5,-66.79C609.5,-60.07 609.5,-50.4 609.5,-41.34\"/>\n<polygon fill=\"black\" stroke=\"black\" points=\"613,-41.19 609.5,-31.19 606,-41.19 613,-41.19\"/>\n</g>\n<!-- 136031697459984 -->\n<g id=\"node3\" class=\"node\">\n<title>136031697459984</title>\n<polygon fill=\"lightgrey\" stroke=\"black\" points=\"660,-141 559,-141 559,-122 660,-122 660,-141\"/>\n<text text-anchor=\"middle\" x=\"609.5\" y=\"-129\" font-family=\"monospace\" font-size=\"10.00\">AddmmBackward0</text>\n</g>\n<!-- 136031697459984&#45;&gt;136031697459552 -->\n<g id=\"edge1\" class=\"edge\">\n<title>136031697459984&#45;&gt;136031697459552</title>\n<path fill=\"none\" stroke=\"black\" d=\"M609.5,-121.75C609.5,-114.8 609.5,-104.85 609.5,-96.13\"/>\n<polygon fill=\"black\" stroke=\"black\" points=\"613,-96.09 609.5,-86.09 606,-96.09 613,-96.09\"/>\n</g>\n<!-- 136031697457152 -->\n<g id=\"node4\" class=\"node\">\n<title>136031697457152</title>\n<polygon fill=\"lightgrey\" stroke=\"black\" points=\"544,-196 443,-196 443,-177 544,-177 544,-196\"/>\n<text text-anchor=\"middle\" x=\"493.5\" y=\"-184\" font-family=\"monospace\" font-size=\"10.00\">AccumulateGrad</text>\n</g>\n<!-- 136031697457152&#45;&gt;136031697459984 -->\n<g id=\"edge2\" class=\"edge\">\n<title>136031697457152&#45;&gt;136031697459984</title>\n<path fill=\"none\" stroke=\"black\" d=\"M512.14,-176.98C530.8,-168.46 559.75,-155.23 581.24,-145.41\"/>\n<polygon fill=\"black\" stroke=\"black\" points=\"582.88,-148.51 590.52,-141.17 579.97,-142.14 582.88,-148.51\"/>\n</g>\n<!-- 136031547894704 -->\n<g id=\"node5\" class=\"node\">\n<title>136031547894704</title>\n<polygon fill=\"lightblue\" stroke=\"black\" points=\"526,-262 461,-262 461,-232 526,-232 526,-262\"/>\n<text text-anchor=\"middle\" x=\"493.5\" y=\"-250\" font-family=\"monospace\" font-size=\"10.00\">fc2.bias</text>\n<text text-anchor=\"middle\" x=\"493.5\" y=\"-239\" font-family=\"monospace\" font-size=\"10.00\"> (6)</text>\n</g>\n<!-- 136031547894704&#45;&gt;136031697457152 -->\n<g id=\"edge3\" class=\"edge\">\n<title>136031547894704&#45;&gt;136031697457152</title>\n<path fill=\"none\" stroke=\"black\" d=\"M493.5,-231.84C493.5,-224.21 493.5,-214.7 493.5,-206.45\"/>\n<polygon fill=\"black\" stroke=\"black\" points=\"497,-206.27 493.5,-196.27 490,-206.27 497,-206.27\"/>\n</g>\n<!-- 136031697457296 -->\n<g id=\"node6\" class=\"node\">\n<title>136031697457296</title>\n<polygon fill=\"lightgrey\" stroke=\"black\" points=\"657,-196 562,-196 562,-177 657,-177 657,-196\"/>\n<text text-anchor=\"middle\" x=\"609.5\" y=\"-184\" font-family=\"monospace\" font-size=\"10.00\">ReluBackward0</text>\n</g>\n<!-- 136031697457296&#45;&gt;136031697459984 -->\n<g id=\"edge4\" class=\"edge\">\n<title>136031697457296&#45;&gt;136031697459984</title>\n<path fill=\"none\" stroke=\"black\" d=\"M609.5,-176.75C609.5,-169.8 609.5,-159.85 609.5,-151.13\"/>\n<polygon fill=\"black\" stroke=\"black\" points=\"613,-151.09 609.5,-141.09 606,-151.09 613,-151.09\"/>\n</g>\n<!-- 136031697463104 -->\n<g id=\"node7\" class=\"node\">\n<title>136031697463104</title>\n<polygon fill=\"lightgrey\" stroke=\"black\" points=\"652,-256.5 551,-256.5 551,-237.5 652,-237.5 652,-256.5\"/>\n<text text-anchor=\"middle\" x=\"601.5\" y=\"-244.5\" font-family=\"monospace\" font-size=\"10.00\">AddmmBackward0</text>\n</g>\n<!-- 136031697463104&#45;&gt;136031697457296 -->\n<g id=\"edge5\" class=\"edge\">\n<title>136031697463104&#45;&gt;136031697457296</title>\n<path fill=\"none\" stroke=\"black\" d=\"M602.68,-237.37C603.79,-229.25 605.49,-216.81 606.92,-206.39\"/>\n<polygon fill=\"black\" stroke=\"black\" points=\"610.43,-206.55 608.31,-196.17 603.49,-205.6 610.43,-206.55\"/>\n</g>\n<!-- 136031697460464 -->\n<g id=\"node8\" class=\"node\">\n<title>136031697460464</title>\n<polygon fill=\"lightgrey\" stroke=\"black\" points=\"516,-322.5 415,-322.5 415,-303.5 516,-303.5 516,-322.5\"/>\n<text text-anchor=\"middle\" x=\"465.5\" y=\"-310.5\" font-family=\"monospace\" font-size=\"10.00\">AccumulateGrad</text>\n</g>\n<!-- 136031697460464&#45;&gt;136031697463104 -->\n<g id=\"edge6\" class=\"edge\">\n<title>136031697460464&#45;&gt;136031697463104</title>\n<path fill=\"none\" stroke=\"black\" d=\"M483.84,-303.37C506.96,-292.49 546.91,-273.69 573.77,-261.05\"/>\n<polygon fill=\"black\" stroke=\"black\" points=\"575.46,-264.12 583.01,-256.7 572.48,-257.79 575.46,-264.12\"/>\n</g>\n<!-- 136031547893984 -->\n<g id=\"node9\" class=\"node\">\n<title>136031547893984</title>\n<polygon fill=\"lightblue\" stroke=\"black\" points=\"498,-394 433,-394 433,-364 498,-364 498,-394\"/>\n<text text-anchor=\"middle\" x=\"465.5\" y=\"-382\" font-family=\"monospace\" font-size=\"10.00\">fc1.bias</text>\n<text text-anchor=\"middle\" x=\"465.5\" y=\"-371\" font-family=\"monospace\" font-size=\"10.00\"> (256)</text>\n</g>\n<!-- 136031547893984&#45;&gt;136031697460464 -->\n<g id=\"edge7\" class=\"edge\">\n<title>136031547893984&#45;&gt;136031697460464</title>\n<path fill=\"none\" stroke=\"black\" d=\"M465.5,-363.8C465.5,-354.7 465.5,-342.79 465.5,-332.9\"/>\n<polygon fill=\"black\" stroke=\"black\" points=\"469,-332.84 465.5,-322.84 462,-332.84 469,-332.84\"/>\n</g>\n<!-- 136031697468000 -->\n<g id=\"node10\" class=\"node\">\n<title>136031697468000</title>\n<polygon fill=\"lightgrey\" stroke=\"black\" points=\"629,-322.5 534,-322.5 534,-303.5 629,-303.5 629,-322.5\"/>\n<text text-anchor=\"middle\" x=\"581.5\" y=\"-310.5\" font-family=\"monospace\" font-size=\"10.00\">ViewBackward0</text>\n</g>\n<!-- 136031697468000&#45;&gt;136031697463104 -->\n<g id=\"edge8\" class=\"edge\">\n<title>136031697468000&#45;&gt;136031697463104</title>\n<path fill=\"none\" stroke=\"black\" d=\"M584.2,-303.37C587.13,-293.97 591.92,-278.67 595.71,-266.53\"/>\n<polygon fill=\"black\" stroke=\"black\" points=\"599.07,-267.49 598.72,-256.91 592.39,-265.41 599.07,-267.49\"/>\n</g>\n<!-- 136031697454464 -->\n<g id=\"node11\" class=\"node\">\n<title>136031697454464</title>\n<polygon fill=\"lightgrey\" stroke=\"black\" points=\"633,-388.5 520,-388.5 520,-369.5 633,-369.5 633,-388.5\"/>\n<text text-anchor=\"middle\" x=\"576.5\" y=\"-376.5\" font-family=\"monospace\" font-size=\"10.00\">SqueezeBackward1</text>\n</g>\n<!-- 136031697454464&#45;&gt;136031697468000 -->\n<g id=\"edge9\" class=\"edge\">\n<title>136031697454464&#45;&gt;136031697468000</title>\n<path fill=\"none\" stroke=\"black\" d=\"M577.17,-369.37C577.9,-360.07 579.08,-344.98 580.02,-332.9\"/>\n<polygon fill=\"black\" stroke=\"black\" points=\"583.51,-333.15 580.8,-322.91 576.54,-332.6 583.51,-333.15\"/>\n</g>\n<!-- 136031697465552 -->\n<g id=\"node12\" class=\"node\">\n<title>136031697465552</title>\n<polygon fill=\"lightgrey\" stroke=\"black\" points=\"664,-454.5 473,-454.5 473,-435.5 664,-435.5 664,-454.5\"/>\n<text text-anchor=\"middle\" x=\"568.5\" y=\"-442.5\" font-family=\"monospace\" font-size=\"10.00\">MaxPool2DWithIndicesBackward0</text>\n</g>\n<!-- 136031697465552&#45;&gt;136031697454464 -->\n<g id=\"edge10\" class=\"edge\">\n<title>136031697465552&#45;&gt;136031697454464</title>\n<path fill=\"none\" stroke=\"black\" d=\"M569.58,-435.37C570.74,-426.07 572.63,-410.98 574.14,-398.9\"/>\n<polygon fill=\"black\" stroke=\"black\" points=\"577.62,-399.26 575.39,-388.91 570.67,-398.39 577.62,-399.26\"/>\n</g>\n<!-- 136031697465888 -->\n<g id=\"node13\" class=\"node\">\n<title>136031697465888</title>\n<polygon fill=\"lightgrey\" stroke=\"black\" points=\"631,-515 506,-515 506,-496 631,-496 631,-515\"/>\n<text text-anchor=\"middle\" x=\"568.5\" y=\"-503\" font-family=\"monospace\" font-size=\"10.00\">UnsqueezeBackward0</text>\n</g>\n<!-- 136031697465888&#45;&gt;136031697465552 -->\n<g id=\"edge11\" class=\"edge\">\n<title>136031697465888&#45;&gt;136031697465552</title>\n<path fill=\"none\" stroke=\"black\" d=\"M568.5,-495.87C568.5,-487.75 568.5,-475.31 568.5,-464.89\"/>\n<polygon fill=\"black\" stroke=\"black\" points=\"572,-464.67 568.5,-454.67 565,-464.67 572,-464.67\"/>\n</g>\n<!-- 136031697458592 -->\n<g id=\"node14\" class=\"node\">\n<title>136031697458592</title>\n<polygon fill=\"lightgrey\" stroke=\"black\" points=\"616,-570 521,-570 521,-551 616,-551 616,-570\"/>\n<text text-anchor=\"middle\" x=\"568.5\" y=\"-558\" font-family=\"monospace\" font-size=\"10.00\">ReluBackward0</text>\n</g>\n<!-- 136031697458592&#45;&gt;136031697465888 -->\n<g id=\"edge12\" class=\"edge\">\n<title>136031697458592&#45;&gt;136031697465888</title>\n<path fill=\"none\" stroke=\"black\" d=\"M568.5,-550.75C568.5,-543.8 568.5,-533.85 568.5,-525.13\"/>\n<polygon fill=\"black\" stroke=\"black\" points=\"572,-525.09 568.5,-515.09 565,-525.09 572,-525.09\"/>\n</g>\n<!-- 136031697465648 -->\n<g id=\"node15\" class=\"node\">\n<title>136031697465648</title>\n<polygon fill=\"lightgrey\" stroke=\"black\" points=\"637,-625 500,-625 500,-606 637,-606 637,-625\"/>\n<text text-anchor=\"middle\" x=\"568.5\" y=\"-613\" font-family=\"monospace\" font-size=\"10.00\">ConvolutionBackward0</text>\n</g>\n<!-- 136031697465648&#45;&gt;136031697458592 -->\n<g id=\"edge13\" class=\"edge\">\n<title>136031697465648&#45;&gt;136031697458592</title>\n<path fill=\"none\" stroke=\"black\" d=\"M568.5,-605.75C568.5,-598.8 568.5,-588.85 568.5,-580.13\"/>\n<polygon fill=\"black\" stroke=\"black\" points=\"572,-580.09 568.5,-570.09 565,-580.09 572,-580.09\"/>\n</g>\n<!-- 136031697461136 -->\n<g id=\"node16\" class=\"node\">\n<title>136031697461136</title>\n<polygon fill=\"lightgrey\" stroke=\"black\" points=\"484,-680 371,-680 371,-661 484,-661 484,-680\"/>\n<text text-anchor=\"middle\" x=\"427.5\" y=\"-668\" font-family=\"monospace\" font-size=\"10.00\">SqueezeBackward1</text>\n</g>\n<!-- 136031697461136&#45;&gt;136031697465648 -->\n<g id=\"edge14\" class=\"edge\">\n<title>136031697461136&#45;&gt;136031697465648</title>\n<path fill=\"none\" stroke=\"black\" d=\"M450.15,-660.98C473.35,-652.27 509.62,-638.63 535.9,-628.75\"/>\n<polygon fill=\"black\" stroke=\"black\" points=\"537.3,-631.97 545.43,-625.17 534.84,-625.41 537.3,-631.97\"/>\n</g>\n<!-- 136031697453888 -->\n<g id=\"node17\" class=\"node\">\n<title>136031697453888</title>\n<polygon fill=\"lightgrey\" stroke=\"black\" points=\"506,-740.5 315,-740.5 315,-721.5 506,-721.5 506,-740.5\"/>\n<text text-anchor=\"middle\" x=\"410.5\" y=\"-728.5\" font-family=\"monospace\" font-size=\"10.00\">MaxPool2DWithIndicesBackward0</text>\n</g>\n<!-- 136031697453888&#45;&gt;136031697461136 -->\n<g id=\"edge15\" class=\"edge\">\n<title>136031697453888&#45;&gt;136031697461136</title>\n<path fill=\"none\" stroke=\"black\" d=\"M413.01,-721.37C415.39,-713.16 419.06,-700.54 422.11,-690.05\"/>\n<polygon fill=\"black\" stroke=\"black\" points=\"425.55,-690.75 424.98,-680.17 418.83,-688.79 425.55,-690.75\"/>\n</g>\n<!-- 136031697468336 -->\n<g id=\"node18\" class=\"node\">\n<title>136031697468336</title>\n<polygon fill=\"lightgrey\" stroke=\"black\" points=\"473,-801 348,-801 348,-782 473,-782 473,-801\"/>\n<text text-anchor=\"middle\" x=\"410.5\" y=\"-789\" font-family=\"monospace\" font-size=\"10.00\">UnsqueezeBackward0</text>\n</g>\n<!-- 136031697468336&#45;&gt;136031697453888 -->\n<g id=\"edge16\" class=\"edge\">\n<title>136031697468336&#45;&gt;136031697453888</title>\n<path fill=\"none\" stroke=\"black\" d=\"M410.5,-781.87C410.5,-773.75 410.5,-761.31 410.5,-750.89\"/>\n<polygon fill=\"black\" stroke=\"black\" points=\"414,-750.67 410.5,-740.67 407,-750.67 414,-750.67\"/>\n</g>\n<!-- 136031697454560 -->\n<g id=\"node19\" class=\"node\">\n<title>136031697454560</title>\n<polygon fill=\"lightgrey\" stroke=\"black\" points=\"458,-856 363,-856 363,-837 458,-837 458,-856\"/>\n<text text-anchor=\"middle\" x=\"410.5\" y=\"-844\" font-family=\"monospace\" font-size=\"10.00\">ReluBackward0</text>\n</g>\n<!-- 136031697454560&#45;&gt;136031697468336 -->\n<g id=\"edge17\" class=\"edge\">\n<title>136031697454560&#45;&gt;136031697468336</title>\n<path fill=\"none\" stroke=\"black\" d=\"M410.5,-836.75C410.5,-829.8 410.5,-819.85 410.5,-811.13\"/>\n<polygon fill=\"black\" stroke=\"black\" points=\"414,-811.09 410.5,-801.09 407,-811.09 414,-811.09\"/>\n</g>\n<!-- 136031697457968 -->\n<g id=\"node20\" class=\"node\">\n<title>136031697457968</title>\n<polygon fill=\"lightgrey\" stroke=\"black\" points=\"479,-911 342,-911 342,-892 479,-892 479,-911\"/>\n<text text-anchor=\"middle\" x=\"410.5\" y=\"-899\" font-family=\"monospace\" font-size=\"10.00\">ConvolutionBackward0</text>\n</g>\n<!-- 136031697457968&#45;&gt;136031697454560 -->\n<g id=\"edge18\" class=\"edge\">\n<title>136031697457968&#45;&gt;136031697454560</title>\n<path fill=\"none\" stroke=\"black\" d=\"M410.5,-891.75C410.5,-884.8 410.5,-874.85 410.5,-866.13\"/>\n<polygon fill=\"black\" stroke=\"black\" points=\"414,-866.09 410.5,-856.09 407,-866.09 414,-866.09\"/>\n</g>\n<!-- 136031697463776 -->\n<g id=\"node21\" class=\"node\">\n<title>136031697463776</title>\n<polygon fill=\"lightgrey\" stroke=\"black\" points=\"336,-966 247,-966 247,-947 336,-947 336,-966\"/>\n<text text-anchor=\"middle\" x=\"291.5\" y=\"-954\" font-family=\"monospace\" font-size=\"10.00\">MulBackward0</text>\n</g>\n<!-- 136031697463776&#45;&gt;136031697457968 -->\n<g id=\"edge19\" class=\"edge\">\n<title>136031697463776&#45;&gt;136031697457968</title>\n<path fill=\"none\" stroke=\"black\" d=\"M310.62,-946.98C329.85,-938.42 359.73,-925.11 381.81,-915.28\"/>\n<polygon fill=\"black\" stroke=\"black\" points=\"383.32,-918.44 391.03,-911.17 380.47,-912.04 383.32,-918.44\"/>\n</g>\n<!-- 136031697461376 -->\n<g id=\"node22\" class=\"node\">\n<title>136031697461376</title>\n<polygon fill=\"lightgrey\" stroke=\"black\" points=\"348,-1026.5 235,-1026.5 235,-1007.5 348,-1007.5 348,-1026.5\"/>\n<text text-anchor=\"middle\" x=\"291.5\" y=\"-1014.5\" font-family=\"monospace\" font-size=\"10.00\">SqueezeBackward1</text>\n</g>\n<!-- 136031697461376&#45;&gt;136031697463776 -->\n<g id=\"edge20\" class=\"edge\">\n<title>136031697461376&#45;&gt;136031697463776</title>\n<path fill=\"none\" stroke=\"black\" d=\"M291.5,-1007.37C291.5,-999.25 291.5,-986.81 291.5,-976.39\"/>\n<polygon fill=\"black\" stroke=\"black\" points=\"295,-976.17 291.5,-966.17 288,-976.17 295,-976.17\"/>\n</g>\n<!-- 136031697458064 -->\n<g id=\"node23\" class=\"node\">\n<title>136031697458064</title>\n<polygon fill=\"lightgrey\" stroke=\"black\" points=\"387,-1087 196,-1087 196,-1068 387,-1068 387,-1087\"/>\n<text text-anchor=\"middle\" x=\"291.5\" y=\"-1075\" font-family=\"monospace\" font-size=\"10.00\">MaxPool2DWithIndicesBackward0</text>\n</g>\n<!-- 136031697458064&#45;&gt;136031697461376 -->\n<g id=\"edge21\" class=\"edge\">\n<title>136031697458064&#45;&gt;136031697461376</title>\n<path fill=\"none\" stroke=\"black\" d=\"M291.5,-1067.87C291.5,-1059.75 291.5,-1047.31 291.5,-1036.89\"/>\n<polygon fill=\"black\" stroke=\"black\" points=\"295,-1036.67 291.5,-1026.67 288,-1036.67 295,-1036.67\"/>\n</g>\n<!-- 136031697467760 -->\n<g id=\"node24\" class=\"node\">\n<title>136031697467760</title>\n<polygon fill=\"lightgrey\" stroke=\"black\" points=\"354,-1142 229,-1142 229,-1123 354,-1123 354,-1142\"/>\n<text text-anchor=\"middle\" x=\"291.5\" y=\"-1130\" font-family=\"monospace\" font-size=\"10.00\">UnsqueezeBackward0</text>\n</g>\n<!-- 136031697467760&#45;&gt;136031697458064 -->\n<g id=\"edge22\" class=\"edge\">\n<title>136031697467760&#45;&gt;136031697458064</title>\n<path fill=\"none\" stroke=\"black\" d=\"M291.5,-1122.75C291.5,-1115.8 291.5,-1105.85 291.5,-1097.13\"/>\n<polygon fill=\"black\" stroke=\"black\" points=\"295,-1097.09 291.5,-1087.09 288,-1097.09 295,-1097.09\"/>\n</g>\n<!-- 136031697466992 -->\n<g id=\"node25\" class=\"node\">\n<title>136031697466992</title>\n<polygon fill=\"lightgrey\" stroke=\"black\" points=\"339,-1197 244,-1197 244,-1178 339,-1178 339,-1197\"/>\n<text text-anchor=\"middle\" x=\"291.5\" y=\"-1185\" font-family=\"monospace\" font-size=\"10.00\">ReluBackward0</text>\n</g>\n<!-- 136031697466992&#45;&gt;136031697467760 -->\n<g id=\"edge23\" class=\"edge\">\n<title>136031697466992&#45;&gt;136031697467760</title>\n<path fill=\"none\" stroke=\"black\" d=\"M291.5,-1177.75C291.5,-1170.8 291.5,-1160.85 291.5,-1152.13\"/>\n<polygon fill=\"black\" stroke=\"black\" points=\"295,-1152.09 291.5,-1142.09 288,-1152.09 295,-1152.09\"/>\n</g>\n<!-- 136031697460800 -->\n<g id=\"node26\" class=\"node\">\n<title>136031697460800</title>\n<polygon fill=\"lightgrey\" stroke=\"black\" points=\"372,-1252 211,-1252 211,-1233 372,-1233 372,-1252\"/>\n<text text-anchor=\"middle\" x=\"291.5\" y=\"-1240\" font-family=\"monospace\" font-size=\"10.00\">NativeBatchNormBackward0</text>\n</g>\n<!-- 136031697460800&#45;&gt;136031697466992 -->\n<g id=\"edge24\" class=\"edge\">\n<title>136031697460800&#45;&gt;136031697466992</title>\n<path fill=\"none\" stroke=\"black\" d=\"M291.5,-1232.75C291.5,-1225.8 291.5,-1215.85 291.5,-1207.13\"/>\n<polygon fill=\"black\" stroke=\"black\" points=\"295,-1207.09 291.5,-1197.09 288,-1207.09 295,-1207.09\"/>\n</g>\n<!-- 136031697466800 -->\n<g id=\"node27\" class=\"node\">\n<title>136031697466800</title>\n<polygon fill=\"lightgrey\" stroke=\"black\" points=\"223,-1307 86,-1307 86,-1288 223,-1288 223,-1307\"/>\n<text text-anchor=\"middle\" x=\"154.5\" y=\"-1295\" font-family=\"monospace\" font-size=\"10.00\">ConvolutionBackward0</text>\n</g>\n<!-- 136031697466800&#45;&gt;136031697460800 -->\n<g id=\"edge25\" class=\"edge\">\n<title>136031697466800&#45;&gt;136031697460800</title>\n<path fill=\"none\" stroke=\"black\" d=\"M176.51,-1287.98C198.95,-1279.3 233.98,-1265.75 259.49,-1255.88\"/>\n<polygon fill=\"black\" stroke=\"black\" points=\"261.02,-1259.04 269.09,-1252.17 258.5,-1252.51 261.02,-1259.04\"/>\n</g>\n<!-- 136031697460080 -->\n<g id=\"node28\" class=\"node\">\n<title>136031697460080</title>\n<polygon fill=\"lightgrey\" stroke=\"black\" points=\"101,-1367.5 0,-1367.5 0,-1348.5 101,-1348.5 101,-1367.5\"/>\n<text text-anchor=\"middle\" x=\"50.5\" y=\"-1355.5\" font-family=\"monospace\" font-size=\"10.00\">AccumulateGrad</text>\n</g>\n<!-- 136031697460080&#45;&gt;136031697466800 -->\n<g id=\"edge26\" class=\"edge\">\n<title>136031697460080&#45;&gt;136031697466800</title>\n<path fill=\"none\" stroke=\"black\" d=\"M65.85,-1348.37C82.82,-1338.82 110.4,-1323.31 130.29,-1312.12\"/>\n<polygon fill=\"black\" stroke=\"black\" points=\"132.09,-1315.12 139.09,-1307.17 128.66,-1309.02 132.09,-1315.12\"/>\n</g>\n<!-- 136031562803744 -->\n<g id=\"node29\" class=\"node\">\n<title>136031562803744</title>\n<polygon fill=\"lightblue\" stroke=\"black\" points=\"101,-1439 0,-1439 0,-1409 101,-1409 101,-1439\"/>\n<text text-anchor=\"middle\" x=\"50.5\" y=\"-1427\" font-family=\"monospace\" font-size=\"10.00\">conv1.weight</text>\n<text text-anchor=\"middle\" x=\"50.5\" y=\"-1416\" font-family=\"monospace\" font-size=\"10.00\"> (400, 900, 1)</text>\n</g>\n<!-- 136031562803744&#45;&gt;136031697460080 -->\n<g id=\"edge27\" class=\"edge\">\n<title>136031562803744&#45;&gt;136031697460080</title>\n<path fill=\"none\" stroke=\"black\" d=\"M50.5,-1408.8C50.5,-1399.7 50.5,-1387.79 50.5,-1377.9\"/>\n<polygon fill=\"black\" stroke=\"black\" points=\"54,-1377.84 50.5,-1367.84 47,-1377.84 54,-1377.84\"/>\n</g>\n<!-- 136031697469104 -->\n<g id=\"node30\" class=\"node\">\n<title>136031697469104</title>\n<polygon fill=\"lightgrey\" stroke=\"black\" points=\"220,-1367.5 119,-1367.5 119,-1348.5 220,-1348.5 220,-1367.5\"/>\n<text text-anchor=\"middle\" x=\"169.5\" y=\"-1355.5\" font-family=\"monospace\" font-size=\"10.00\">AccumulateGrad</text>\n</g>\n<!-- 136031697469104&#45;&gt;136031697466800 -->\n<g id=\"edge28\" class=\"edge\">\n<title>136031697469104&#45;&gt;136031697466800</title>\n<path fill=\"none\" stroke=\"black\" d=\"M167.29,-1348.37C165.18,-1340.16 161.95,-1327.54 159.26,-1317.05\"/>\n<polygon fill=\"black\" stroke=\"black\" points=\"162.6,-1315.98 156.72,-1307.17 155.82,-1317.72 162.6,-1315.98\"/>\n</g>\n<!-- 136031548064528 -->\n<g id=\"node31\" class=\"node\">\n<title>136031548064528</title>\n<polygon fill=\"lightblue\" stroke=\"black\" points=\"208,-1439 131,-1439 131,-1409 208,-1409 208,-1439\"/>\n<text text-anchor=\"middle\" x=\"169.5\" y=\"-1427\" font-family=\"monospace\" font-size=\"10.00\">conv1.bias</text>\n<text text-anchor=\"middle\" x=\"169.5\" y=\"-1416\" font-family=\"monospace\" font-size=\"10.00\"> (400)</text>\n</g>\n<!-- 136031548064528&#45;&gt;136031697469104 -->\n<g id=\"edge29\" class=\"edge\">\n<title>136031548064528&#45;&gt;136031697469104</title>\n<path fill=\"none\" stroke=\"black\" d=\"M169.5,-1408.8C169.5,-1399.7 169.5,-1387.79 169.5,-1377.9\"/>\n<polygon fill=\"black\" stroke=\"black\" points=\"173,-1377.84 169.5,-1367.84 166,-1377.84 173,-1377.84\"/>\n</g>\n<!-- 136031697453264 -->\n<g id=\"node32\" class=\"node\">\n<title>136031697453264</title>\n<polygon fill=\"lightgrey\" stroke=\"black\" points=\"342,-1307 241,-1307 241,-1288 342,-1288 342,-1307\"/>\n<text text-anchor=\"middle\" x=\"291.5\" y=\"-1295\" font-family=\"monospace\" font-size=\"10.00\">AccumulateGrad</text>\n</g>\n<!-- 136031697453264&#45;&gt;136031697460800 -->\n<g id=\"edge30\" class=\"edge\">\n<title>136031697453264&#45;&gt;136031697460800</title>\n<path fill=\"none\" stroke=\"black\" d=\"M291.5,-1287.75C291.5,-1280.8 291.5,-1270.85 291.5,-1262.13\"/>\n<polygon fill=\"black\" stroke=\"black\" points=\"295,-1262.09 291.5,-1252.09 288,-1262.09 295,-1262.09\"/>\n</g>\n<!-- 136031548356656 -->\n<g id=\"node33\" class=\"node\">\n<title>136031548356656</title>\n<polygon fill=\"lightblue\" stroke=\"black\" points=\"330,-1373 253,-1373 253,-1343 330,-1343 330,-1373\"/>\n<text text-anchor=\"middle\" x=\"291.5\" y=\"-1361\" font-family=\"monospace\" font-size=\"10.00\">bn1.weight</text>\n<text text-anchor=\"middle\" x=\"291.5\" y=\"-1350\" font-family=\"monospace\" font-size=\"10.00\"> (400)</text>\n</g>\n<!-- 136031548356656&#45;&gt;136031697453264 -->\n<g id=\"edge31\" class=\"edge\">\n<title>136031548356656&#45;&gt;136031697453264</title>\n<path fill=\"none\" stroke=\"black\" d=\"M291.5,-1342.84C291.5,-1335.21 291.5,-1325.7 291.5,-1317.45\"/>\n<polygon fill=\"black\" stroke=\"black\" points=\"295,-1317.27 291.5,-1307.27 288,-1317.27 295,-1317.27\"/>\n</g>\n<!-- 136031697455568 -->\n<g id=\"node34\" class=\"node\">\n<title>136031697455568</title>\n<polygon fill=\"lightgrey\" stroke=\"black\" points=\"461,-1307 360,-1307 360,-1288 461,-1288 461,-1307\"/>\n<text text-anchor=\"middle\" x=\"410.5\" y=\"-1295\" font-family=\"monospace\" font-size=\"10.00\">AccumulateGrad</text>\n</g>\n<!-- 136031697455568&#45;&gt;136031697460800 -->\n<g id=\"edge32\" class=\"edge\">\n<title>136031697455568&#45;&gt;136031697460800</title>\n<path fill=\"none\" stroke=\"black\" d=\"M391.38,-1287.98C372.15,-1279.42 342.27,-1266.11 320.19,-1256.28\"/>\n<polygon fill=\"black\" stroke=\"black\" points=\"321.53,-1253.04 310.97,-1252.17 318.68,-1259.44 321.53,-1253.04\"/>\n</g>\n<!-- 136031547887664 -->\n<g id=\"node35\" class=\"node\">\n<title>136031547887664</title>\n<polygon fill=\"lightblue\" stroke=\"black\" points=\"443,-1373 378,-1373 378,-1343 443,-1343 443,-1373\"/>\n<text text-anchor=\"middle\" x=\"410.5\" y=\"-1361\" font-family=\"monospace\" font-size=\"10.00\">bn1.bias</text>\n<text text-anchor=\"middle\" x=\"410.5\" y=\"-1350\" font-family=\"monospace\" font-size=\"10.00\"> (400)</text>\n</g>\n<!-- 136031547887664&#45;&gt;136031697455568 -->\n<g id=\"edge33\" class=\"edge\">\n<title>136031547887664&#45;&gt;136031697455568</title>\n<path fill=\"none\" stroke=\"black\" d=\"M410.5,-1342.84C410.5,-1335.21 410.5,-1325.7 410.5,-1317.45\"/>\n<polygon fill=\"black\" stroke=\"black\" points=\"414,-1317.27 410.5,-1307.27 407,-1317.27 414,-1317.27\"/>\n</g>\n<!-- 136031697453168 -->\n<g id=\"node36\" class=\"node\">\n<title>136031697453168</title>\n<polygon fill=\"lightgrey\" stroke=\"black\" points=\"461,-966 360,-966 360,-947 461,-947 461,-966\"/>\n<text text-anchor=\"middle\" x=\"410.5\" y=\"-954\" font-family=\"monospace\" font-size=\"10.00\">AccumulateGrad</text>\n</g>\n<!-- 136031697453168&#45;&gt;136031697457968 -->\n<g id=\"edge34\" class=\"edge\">\n<title>136031697453168&#45;&gt;136031697457968</title>\n<path fill=\"none\" stroke=\"black\" d=\"M410.5,-946.75C410.5,-939.8 410.5,-929.85 410.5,-921.13\"/>\n<polygon fill=\"black\" stroke=\"black\" points=\"414,-921.09 410.5,-911.09 407,-921.09 414,-921.09\"/>\n</g>\n<!-- 136031547896064 -->\n<g id=\"node37\" class=\"node\">\n<title>136031547896064</title>\n<polygon fill=\"lightblue\" stroke=\"black\" points=\"467,-1032 366,-1032 366,-1002 467,-1002 467,-1032\"/>\n<text text-anchor=\"middle\" x=\"416.5\" y=\"-1020\" font-family=\"monospace\" font-size=\"10.00\">conv2.weight</text>\n<text text-anchor=\"middle\" x=\"416.5\" y=\"-1009\" font-family=\"monospace\" font-size=\"10.00\"> (200, 400, 1)</text>\n</g>\n<!-- 136031547896064&#45;&gt;136031697453168 -->\n<g id=\"edge35\" class=\"edge\">\n<title>136031547896064&#45;&gt;136031697453168</title>\n<path fill=\"none\" stroke=\"black\" d=\"M415.05,-1001.84C414.27,-994.21 413.29,-984.7 412.44,-976.45\"/>\n<polygon fill=\"black\" stroke=\"black\" points=\"415.9,-975.86 411.4,-966.27 408.94,-976.57 415.9,-975.86\"/>\n</g>\n<!-- 136031697459120 -->\n<g id=\"node38\" class=\"node\">\n<title>136031697459120</title>\n<polygon fill=\"lightgrey\" stroke=\"black\" points=\"580,-966 479,-966 479,-947 580,-947 580,-966\"/>\n<text text-anchor=\"middle\" x=\"529.5\" y=\"-954\" font-family=\"monospace\" font-size=\"10.00\">AccumulateGrad</text>\n</g>\n<!-- 136031697459120&#45;&gt;136031697457968 -->\n<g id=\"edge36\" class=\"edge\">\n<title>136031697459120&#45;&gt;136031697457968</title>\n<path fill=\"none\" stroke=\"black\" d=\"M510.38,-946.98C491.15,-938.42 461.27,-925.11 439.19,-915.28\"/>\n<polygon fill=\"black\" stroke=\"black\" points=\"440.53,-912.04 429.97,-911.17 437.68,-918.44 440.53,-912.04\"/>\n</g>\n<!-- 136031547886784 -->\n<g id=\"node39\" class=\"node\">\n<title>136031547886784</title>\n<polygon fill=\"lightblue\" stroke=\"black\" points=\"568,-1032 491,-1032 491,-1002 568,-1002 568,-1032\"/>\n<text text-anchor=\"middle\" x=\"529.5\" y=\"-1020\" font-family=\"monospace\" font-size=\"10.00\">conv2.bias</text>\n<text text-anchor=\"middle\" x=\"529.5\" y=\"-1009\" font-family=\"monospace\" font-size=\"10.00\"> (200)</text>\n</g>\n<!-- 136031547886784&#45;&gt;136031697459120 -->\n<g id=\"edge37\" class=\"edge\">\n<title>136031547886784&#45;&gt;136031697459120</title>\n<path fill=\"none\" stroke=\"black\" d=\"M529.5,-1001.84C529.5,-994.21 529.5,-984.7 529.5,-976.45\"/>\n<polygon fill=\"black\" stroke=\"black\" points=\"533,-976.27 529.5,-966.27 526,-976.27 533,-976.27\"/>\n</g>\n<!-- 136031697458496 -->\n<g id=\"node40\" class=\"node\">\n<title>136031697458496</title>\n<polygon fill=\"lightgrey\" stroke=\"black\" points=\"619,-680 518,-680 518,-661 619,-661 619,-680\"/>\n<text text-anchor=\"middle\" x=\"568.5\" y=\"-668\" font-family=\"monospace\" font-size=\"10.00\">AccumulateGrad</text>\n</g>\n<!-- 136031697458496&#45;&gt;136031697465648 -->\n<g id=\"edge38\" class=\"edge\">\n<title>136031697458496&#45;&gt;136031697465648</title>\n<path fill=\"none\" stroke=\"black\" d=\"M568.5,-660.75C568.5,-653.8 568.5,-643.85 568.5,-635.13\"/>\n<polygon fill=\"black\" stroke=\"black\" points=\"572,-635.09 568.5,-625.09 565,-635.09 572,-635.09\"/>\n</g>\n<!-- 136031547895904 -->\n<g id=\"node41\" class=\"node\">\n<title>136031547895904</title>\n<polygon fill=\"lightblue\" stroke=\"black\" points=\"625,-746 524,-746 524,-716 625,-716 625,-746\"/>\n<text text-anchor=\"middle\" x=\"574.5\" y=\"-734\" font-family=\"monospace\" font-size=\"10.00\">conv3.weight</text>\n<text text-anchor=\"middle\" x=\"574.5\" y=\"-723\" font-family=\"monospace\" font-size=\"10.00\"> (100, 200, 1)</text>\n</g>\n<!-- 136031547895904&#45;&gt;136031697458496 -->\n<g id=\"edge39\" class=\"edge\">\n<title>136031547895904&#45;&gt;136031697458496</title>\n<path fill=\"none\" stroke=\"black\" d=\"M573.05,-715.84C572.27,-708.21 571.29,-698.7 570.44,-690.45\"/>\n<polygon fill=\"black\" stroke=\"black\" points=\"573.9,-689.86 569.4,-680.27 566.94,-690.57 573.9,-689.86\"/>\n</g>\n<!-- 136031697464736 -->\n<g id=\"node42\" class=\"node\">\n<title>136031697464736</title>\n<polygon fill=\"lightgrey\" stroke=\"black\" points=\"738,-680 637,-680 637,-661 738,-661 738,-680\"/>\n<text text-anchor=\"middle\" x=\"687.5\" y=\"-668\" font-family=\"monospace\" font-size=\"10.00\">AccumulateGrad</text>\n</g>\n<!-- 136031697464736&#45;&gt;136031697465648 -->\n<g id=\"edge40\" class=\"edge\">\n<title>136031697464736&#45;&gt;136031697465648</title>\n<path fill=\"none\" stroke=\"black\" d=\"M668.38,-660.98C649.15,-652.42 619.27,-639.11 597.19,-629.28\"/>\n<polygon fill=\"black\" stroke=\"black\" points=\"598.53,-626.04 587.97,-625.17 595.68,-632.44 598.53,-626.04\"/>\n</g>\n<!-- 136031547892544 -->\n<g id=\"node43\" class=\"node\">\n<title>136031547892544</title>\n<polygon fill=\"lightblue\" stroke=\"black\" points=\"726,-746 649,-746 649,-716 726,-716 726,-746\"/>\n<text text-anchor=\"middle\" x=\"687.5\" y=\"-734\" font-family=\"monospace\" font-size=\"10.00\">conv3.bias</text>\n<text text-anchor=\"middle\" x=\"687.5\" y=\"-723\" font-family=\"monospace\" font-size=\"10.00\"> (100)</text>\n</g>\n<!-- 136031547892544&#45;&gt;136031697464736 -->\n<g id=\"edge41\" class=\"edge\">\n<title>136031547892544&#45;&gt;136031697464736</title>\n<path fill=\"none\" stroke=\"black\" d=\"M687.5,-715.84C687.5,-708.21 687.5,-698.7 687.5,-690.45\"/>\n<polygon fill=\"black\" stroke=\"black\" points=\"691,-690.27 687.5,-680.27 684,-690.27 691,-690.27\"/>\n</g>\n<!-- 136031697464016 -->\n<g id=\"node44\" class=\"node\">\n<title>136031697464016</title>\n<polygon fill=\"lightgrey\" stroke=\"black\" points=\"724,-322.5 647,-322.5 647,-303.5 724,-303.5 724,-322.5\"/>\n<text text-anchor=\"middle\" x=\"685.5\" y=\"-310.5\" font-family=\"monospace\" font-size=\"10.00\">TBackward0</text>\n</g>\n<!-- 136031697464016&#45;&gt;136031697463104 -->\n<g id=\"edge42\" class=\"edge\">\n<title>136031697464016&#45;&gt;136031697463104</title>\n<path fill=\"none\" stroke=\"black\" d=\"M674.17,-303.37C660.64,-293.06 637.78,-275.65 621.31,-263.09\"/>\n<polygon fill=\"black\" stroke=\"black\" points=\"622.99,-259.98 612.92,-256.7 618.75,-265.54 622.99,-259.98\"/>\n</g>\n<!-- 136031697461856 -->\n<g id=\"node45\" class=\"node\">\n<title>136031697461856</title>\n<polygon fill=\"lightgrey\" stroke=\"black\" points=\"759,-388.5 658,-388.5 658,-369.5 759,-369.5 759,-388.5\"/>\n<text text-anchor=\"middle\" x=\"708.5\" y=\"-376.5\" font-family=\"monospace\" font-size=\"10.00\">AccumulateGrad</text>\n</g>\n<!-- 136031697461856&#45;&gt;136031697464016 -->\n<g id=\"edge43\" class=\"edge\">\n<title>136031697461856&#45;&gt;136031697464016</title>\n<path fill=\"none\" stroke=\"black\" d=\"M705.4,-369.37C702.02,-359.97 696.52,-344.67 692.16,-332.53\"/>\n<polygon fill=\"black\" stroke=\"black\" points=\"695.38,-331.13 688.7,-322.91 688.79,-333.5 695.38,-331.13\"/>\n</g>\n<!-- 136031547888864 -->\n<g id=\"node46\" class=\"node\">\n<title>136031547888864</title>\n<polygon fill=\"lightblue\" stroke=\"black\" points=\"765,-460 682,-460 682,-430 765,-430 765,-460\"/>\n<text text-anchor=\"middle\" x=\"723.5\" y=\"-448\" font-family=\"monospace\" font-size=\"10.00\">fc1.weight</text>\n<text text-anchor=\"middle\" x=\"723.5\" y=\"-437\" font-family=\"monospace\" font-size=\"10.00\"> (256, 100)</text>\n</g>\n<!-- 136031547888864&#45;&gt;136031697461856 -->\n<g id=\"edge44\" class=\"edge\">\n<title>136031547888864&#45;&gt;136031697461856</title>\n<path fill=\"none\" stroke=\"black\" d=\"M720.17,-429.8C718.04,-420.7 715.25,-408.79 712.93,-398.9\"/>\n<polygon fill=\"black\" stroke=\"black\" points=\"716.26,-397.78 710.57,-388.84 709.45,-399.38 716.26,-397.78\"/>\n</g>\n<!-- 136031697460272 -->\n<g id=\"node47\" class=\"node\">\n<title>136031697460272</title>\n<polygon fill=\"lightgrey\" stroke=\"black\" points=\"775,-196 698,-196 698,-177 775,-177 775,-196\"/>\n<text text-anchor=\"middle\" x=\"736.5\" y=\"-184\" font-family=\"monospace\" font-size=\"10.00\">TBackward0</text>\n</g>\n<!-- 136031697460272&#45;&gt;136031697459984 -->\n<g id=\"edge45\" class=\"edge\">\n<title>136031697460272&#45;&gt;136031697459984</title>\n<path fill=\"none\" stroke=\"black\" d=\"M716.1,-176.98C695.48,-168.38 663.39,-154.99 639.81,-145.15\"/>\n<polygon fill=\"black\" stroke=\"black\" points=\"640.85,-141.79 630.28,-141.17 638.16,-148.25 640.85,-141.79\"/>\n</g>\n<!-- 136031697457920 -->\n<g id=\"node48\" class=\"node\">\n<title>136031697457920</title>\n<polygon fill=\"lightgrey\" stroke=\"black\" points=\"811,-256.5 710,-256.5 710,-237.5 811,-237.5 811,-256.5\"/>\n<text text-anchor=\"middle\" x=\"760.5\" y=\"-244.5\" font-family=\"monospace\" font-size=\"10.00\">AccumulateGrad</text>\n</g>\n<!-- 136031697457920&#45;&gt;136031697460272 -->\n<g id=\"edge46\" class=\"edge\">\n<title>136031697457920&#45;&gt;136031697460272</title>\n<path fill=\"none\" stroke=\"black\" d=\"M756.96,-237.37C753.56,-229.07 748.31,-216.28 743.98,-205.72\"/>\n<polygon fill=\"black\" stroke=\"black\" points=\"747.09,-204.09 740.06,-196.17 740.61,-206.75 747.09,-204.09\"/>\n</g>\n<!-- 136031547889584 -->\n<g id=\"node49\" class=\"node\">\n<title>136031547889584</title>\n<polygon fill=\"lightblue\" stroke=\"black\" points=\"819,-328 742,-328 742,-298 819,-298 819,-328\"/>\n<text text-anchor=\"middle\" x=\"780.5\" y=\"-316\" font-family=\"monospace\" font-size=\"10.00\">fc2.weight</text>\n<text text-anchor=\"middle\" x=\"780.5\" y=\"-305\" font-family=\"monospace\" font-size=\"10.00\"> (6, 256)</text>\n</g>\n<!-- 136031547889584&#45;&gt;136031697457920 -->\n<g id=\"edge47\" class=\"edge\">\n<title>136031547889584&#45;&gt;136031697457920</title>\n<path fill=\"none\" stroke=\"black\" d=\"M776.06,-297.8C773.19,-288.6 769.42,-276.53 766.31,-266.58\"/>\n<polygon fill=\"black\" stroke=\"black\" points=\"769.59,-265.35 763.26,-256.84 762.91,-267.43 769.59,-265.35\"/>\n</g>\n</g>\n</svg>\n",
            "text/plain": [
              "<graphviz.graphs.Digraph at 0x7bb859015990>"
            ]
          },
          "metadata": {},
          "execution_count": 101
        }
      ]
    },
    {
      "cell_type": "markdown",
      "metadata": {
        "id": "T5nF5pwKQ2t1"
      },
      "source": [
        "### c) Train and classify on the studio_data (3 Marks)\n",
        "\n",
        "The goal here is to train the Model on voice samples collected in studio data and validate it continuously to calculate the loss and accuracy for the train dataset across each epoch.\n",
        "\n",
        "Iterate over images in the train_loader and perform the following steps.\n",
        "\n",
        "1. First, zero out the gradients using zero_grad()\n",
        "\n",
        "2. Pass the data to the model. Convert the data to GPU before passing data  to the model\n",
        "\n",
        "3. Calculate the loss using a Loss function\n",
        "\n",
        "4. Perform Backward pass using backward() to update the weights\n",
        "\n",
        "5. Optimize and predict by using the torch.max()\n",
        "\n",
        "6. Calculate the accuracy of the train dataset\n"
      ]
    },
    {
      "cell_type": "code",
      "execution_count": 124,
      "metadata": {
        "id": "2Ot89MxKavVy"
      },
      "outputs": [],
      "source": [
        "# YOUR CODE HERE. This will take time\n",
        "\n",
        "# Record loss and accuracy of the train dataset\n",
        "def trainModel(train_loader):\n",
        "  num_epochs  = 10\n",
        "  train_loss, train_accuracy = [], []\n",
        "  for epoch  in range(num_epochs):\n",
        "    correct=0\n",
        "    iter_loss=0.0\n",
        "    total=0\n",
        "\n",
        "    model.train()\n",
        "\n",
        "\n",
        "    for data in train_loader:\n",
        "\n",
        "      features, labels = data\n",
        "      model.zero_grad()\n",
        "\n",
        "      features = features.to(device)\n",
        "\n",
        "      # features=features.unsqueeze(-1)\n",
        "      # features = torch.nn.functional.pad(features, (0, 1))\n",
        "      labels = labels.to(device)\n",
        "      output = model(features)\n",
        "      loss = criterion(output, labels)\n",
        "      iter_loss += loss.item()\n",
        "\n",
        "      loss.backward()\n",
        "\n",
        "      optimizer.step()\n",
        "\n",
        "      _, predicted = torch.max(output,1)\n",
        "      total += labels.size(0)\n",
        "\n",
        "      correct += (predicted == labels).sum().item()\n",
        "\n",
        "    epoch_loss = iter_loss / len(train_loader)\n",
        "    epoch_accuracy = (correct / total) * 100\n",
        "    train_loss.append(epoch_loss)\n",
        "    train_accuracy.append(epoch_accuracy)\n",
        "\n",
        "    print(f\"Epoch [{epoch + 1}/{10}], Loss: {epoch_loss:.4f}, Accuracy: {epoch_accuracy:.2f}%\")\n",
        "\n",
        "\n",
        "\n",
        "\n"
      ]
    },
    {
      "cell_type": "markdown",
      "metadata": {
        "id": "K5BJIQzgHa0k"
      },
      "source": [
        "### d) Testing Evaluation for CNN model (3 Marks)\n",
        "\n",
        "Evaluate model with the given test data\n",
        "\n",
        "1. Transform and load the test images.\n",
        "\n",
        "2. Pass the test data through the model (network) to get the outputs\n",
        "\n",
        "3. Get the predictions from a maximum value using torch.max\n",
        "\n",
        "4. Compare with the actual labels and get the count of the correct labels\n",
        "\n",
        "5. Calculate the accuracy based on the count of correct labels\n",
        "\n",
        "### **Expected testing accuracy is above 80%**"
      ]
    },
    {
      "cell_type": "code",
      "execution_count": 126,
      "metadata": {
        "id": "RnKZ-gP-30xR"
      },
      "outputs": [],
      "source": [
        "# YOUR CODE HERE to test the model\n",
        "def testModel(test_loader):\n",
        "  model.eval()\n",
        "  correct_predictions = 0\n",
        "  total_predictions = 0\n",
        "\n",
        "  with torch.no_grad():\n",
        "      for data in test_loader:\n",
        "          inputs, labels = data\n",
        "          inputs, labels = inputs.to(device), labels.to(device)\n",
        "          outputs = model(inputs)\n",
        "          _, predicted = torch.max(outputs.data, 1)\n",
        "          total_predictions += labels.size(0)\n",
        "          correct_predictions += (predicted == labels).sum().item()\n",
        "\n",
        "  test_accuracy = (correct_predictions / total_predictions) * 100\n",
        "  print(f\"Test Accuracy: {test_accuracy:.2f}%\")\n"
      ]
    },
    {
      "cell_type": "markdown",
      "metadata": {
        "id": "qqIP3Y17byDq"
      },
      "source": [
        "### e) Save and download your model (2 Marks)\n",
        "\n",
        "**Save your model trained on studio data**\n",
        "\n",
        "* Save the state dictionary of the classifier (use pytorch only), It will be useful in\n",
        "integrating model to the web application\n",
        "\n",
        " [Hint](https://pytorch.org/tutorials/beginner/saving_loading_models.html)"
      ]
    },
    {
      "cell_type": "code",
      "execution_count": 113,
      "metadata": {
        "id": "A7KAIpLsI4Uj"
      },
      "outputs": [],
      "source": [
        "### YOUR CODE HERE for saving the CNN model\n",
        "\n",
        "torch.save(model.state_dict(), \"dark_wing_model\")"
      ]
    },
    {
      "cell_type": "markdown",
      "metadata": {
        "id": "jsCHKXubHAJB"
      },
      "source": [
        "Download your trained model using the code below\n",
        "* Give the path of model file to download through the browser"
      ]
    },
    {
      "cell_type": "code",
      "execution_count": 114,
      "metadata": {
        "id": "BDmWXfPaHJZG",
        "colab": {
          "base_uri": "https://localhost:8080/",
          "height": 17
        },
        "outputId": "b8890f2e-52a6-4597-8459-5898d6a26bc7"
      },
      "outputs": [
        {
          "output_type": "display_data",
          "data": {
            "text/plain": [
              "<IPython.core.display.Javascript object>"
            ],
            "application/javascript": [
              "\n",
              "    async function download(id, filename, size) {\n",
              "      if (!google.colab.kernel.accessAllowed) {\n",
              "        return;\n",
              "      }\n",
              "      const div = document.createElement('div');\n",
              "      const label = document.createElement('label');\n",
              "      label.textContent = `Downloading \"${filename}\": `;\n",
              "      div.appendChild(label);\n",
              "      const progress = document.createElement('progress');\n",
              "      progress.max = size;\n",
              "      div.appendChild(progress);\n",
              "      document.body.appendChild(div);\n",
              "\n",
              "      const buffers = [];\n",
              "      let downloaded = 0;\n",
              "\n",
              "      const channel = await google.colab.kernel.comms.open(id);\n",
              "      // Send a message to notify the kernel that we're ready.\n",
              "      channel.send({})\n",
              "\n",
              "      for await (const message of channel.messages) {\n",
              "        // Send a message to notify the kernel that we're ready.\n",
              "        channel.send({})\n",
              "        if (message.buffers) {\n",
              "          for (const buffer of message.buffers) {\n",
              "            buffers.push(buffer);\n",
              "            downloaded += buffer.byteLength;\n",
              "            progress.value = downloaded;\n",
              "          }\n",
              "        }\n",
              "      }\n",
              "      const blob = new Blob(buffers, {type: 'application/binary'});\n",
              "      const a = document.createElement('a');\n",
              "      a.href = window.URL.createObjectURL(blob);\n",
              "      a.download = filename;\n",
              "      div.appendChild(a);\n",
              "      a.click();\n",
              "      div.remove();\n",
              "    }\n",
              "  "
            ]
          },
          "metadata": {}
        },
        {
          "output_type": "display_data",
          "data": {
            "text/plain": [
              "<IPython.core.display.Javascript object>"
            ],
            "application/javascript": [
              "download(\"download_cd87491f-1756-4c19-acfe-2c625fbd4de6\", \"dark_wing_model\", 1963969)"
            ]
          },
          "metadata": {}
        }
      ],
      "source": [
        "from google.colab import files\n",
        "files.download('./dark_wing_model')"
      ]
    },
    {
      "cell_type": "markdown",
      "metadata": {
        "id": "Hl3Ins3vSTQx"
      },
      "source": [
        "### f) Deploy and evaluate your model trained on Studio Data in the server (6 Marks).\n",
        "\n",
        "(This can be done on the day of the Hackathon once the login username and password provided by the mentors in the lab)\n",
        "\n",
        "Deploy your model on the server, check the hackathon document (2-Server Access and File transfer For Voice based e-commerce ordering.pdf) for details.\n",
        "\n",
        "To order product in user interface, go through the document (3-Hackathon_II Application Interface Documentation.pdf) for details.\n",
        "\n",
        "\n",
        "**Evaluation Criteria: Four consecutive utterances should be predicted correctly by the model**\n",
        "\n",
        "- There are two stages in the e-commerce ordering application    \n",
        "    - Ordering Product\n",
        "    - Selecting the e-commerce platform\n",
        "- If both the stages are cleared as per the evaluation criteria you will get\n",
        "complete marks Otherwise, you will see a reduction in the marks"
      ]
    },
    {
      "cell_type": "markdown",
      "metadata": {
        "id": "GIXBC0aYKhKX"
      },
      "source": [
        "## **Stage 2:** Collect your voice samples and refine the classifier trained on studio_data and Team_data\n",
        "---"
      ]
    },
    {
      "cell_type": "markdown",
      "metadata": {
        "id": "pmSoJN11_kMR"
      },
      "source": [
        "### a) Collect your Team Voice Samples and extract features (6 Marks)\n",
        "\n",
        "(This can be done on the day of the Hackathon once the login username and password is given by mentors in the lab)\n",
        "\n",
        "* In order to collect the team data, ensure the server is active (2-Server Access and File transfer For Voice based e-commerce ordering.pdf)\n",
        "\n",
        "* Refer document \"3-Hackathon_II Application Interface Documentation.pdf\" for collecting your team voice samples. These will get stored in your server\n",
        "\n",
        "**Evaluation Criteria:**\n",
        "* Load 'Team_data' and extract features\n",
        "* Combine features of team data with the extracted features of studio data\n",
        "* Split the combined features into train and test data\n",
        "* Load the dataset with DataLoader"
      ]
    },
    {
      "cell_type": "code",
      "execution_count": 115,
      "metadata": {
        "id": "nv3I24flWlLq"
      },
      "outputs": [],
      "source": [
        "!mkdir team_data"
      ]
    },
    {
      "cell_type": "code",
      "execution_count": 116,
      "metadata": {
        "id": "gB_bSllKWJ5U",
        "colab": {
          "base_uri": "https://localhost:8080/"
        },
        "outputId": "f852c7d6-7dfa-4179-ac59-0b5166c0d65c"
      },
      "outputs": [
        {
          "output_type": "stream",
          "name": "stdout",
          "text": [
            "--2024-09-20 20:36:37--  https://aiml-sandbox1.talentsprint.com/audio_recorder/b23h3g08/team_data/\n",
            "Resolving aiml-sandbox1.talentsprint.com (aiml-sandbox1.talentsprint.com)... 139.162.203.12\n",
            "Connecting to aiml-sandbox1.talentsprint.com (aiml-sandbox1.talentsprint.com)|139.162.203.12|:443... connected.\n",
            "HTTP request sent, awaiting response... 200 OK\n",
            "Length: unspecified [text/html]\n",
            "Saving to: ‘./team_data/index.html.tmp’\n",
            "\n",
            "index.html.tmp          [ <=>                ]   1.72K  --.-KB/s    in 0s      \n",
            "\n",
            "2024-09-20 20:36:39 (230 MB/s) - ‘./team_data/index.html.tmp’ saved [1765]\n",
            "\n",
            "Loading robots.txt; please ignore errors.\n",
            "--2024-09-20 20:36:39--  https://aiml-sandbox1.talentsprint.com/robots.txt\n",
            "Reusing existing connection to aiml-sandbox1.talentsprint.com:443.\n",
            "HTTP request sent, awaiting response... 404 Not Found\n",
            "2024-09-20 20:36:39 ERROR 404: Not Found.\n",
            "\n",
            "Removing ./team_data/index.html.tmp since it should be rejected.\n",
            "\n",
            "--2024-09-20 20:36:39--  https://aiml-sandbox1.talentsprint.com/audio_recorder/b23h3g08/\n",
            "Reusing existing connection to aiml-sandbox1.talentsprint.com:443.\n",
            "HTTP request sent, awaiting response... 502 Bad Gateway\n",
            "2024-09-20 20:36:39 ERROR 502: Bad Gateway.\n",
            "\n",
            "--2024-09-20 20:36:39--  https://aiml-sandbox1.talentsprint.com/audio_recorder/b23h3g08/team_data/0_b23h3g08_1726782734.wav\n",
            "Reusing existing connection to aiml-sandbox1.talentsprint.com:443.\n",
            "HTTP request sent, awaiting response... 200 OK\n",
            "Length: 90200 (88K) [application/octet-stream]\n",
            "Saving to: ‘./team_data/0_b23h3g08_1726782734.wav’\n",
            "\n",
            "0_b23h3g08_17267827 100%[===================>]  88.09K   206KB/s    in 0.4s    \n",
            "\n",
            "2024-09-20 20:36:40 (206 KB/s) - ‘./team_data/0_b23h3g08_1726782734.wav’ saved [90200/90200]\n",
            "\n",
            "--2024-09-20 20:36:40--  https://aiml-sandbox1.talentsprint.com/audio_recorder/b23h3g08/team_data/0_b23h3g08_1726833099.wav\n",
            "Reusing existing connection to aiml-sandbox1.talentsprint.com:443.\n",
            "HTTP request sent, awaiting response... 200 OK\n",
            "Length: 90200 (88K) [application/octet-stream]\n",
            "Saving to: ‘./team_data/0_b23h3g08_1726833099.wav’\n",
            "\n",
            "0_b23h3g08_17268330 100%[===================>]  88.09K   411KB/s    in 0.2s    \n",
            "\n",
            "2024-09-20 20:36:40 (411 KB/s) - ‘./team_data/0_b23h3g08_1726833099.wav’ saved [90200/90200]\n",
            "\n",
            "--2024-09-20 20:36:40--  https://aiml-sandbox1.talentsprint.com/audio_recorder/b23h3g08/team_data/1_b23h3g08_1726782779.wav\n",
            "Reusing existing connection to aiml-sandbox1.talentsprint.com:443.\n",
            "HTTP request sent, awaiting response... 200 OK\n",
            "Length: 90200 (88K) [application/octet-stream]\n",
            "Saving to: ‘./team_data/1_b23h3g08_1726782779.wav’\n",
            "\n",
            "1_b23h3g08_17267827 100%[===================>]  88.09K  --.-KB/s    in 0s      \n",
            "\n",
            "2024-09-20 20:36:41 (289 MB/s) - ‘./team_data/1_b23h3g08_1726782779.wav’ saved [90200/90200]\n",
            "\n",
            "--2024-09-20 20:36:41--  https://aiml-sandbox1.talentsprint.com/audio_recorder/b23h3g08/team_data/1_b23h3g08_1726833105.wav\n",
            "Reusing existing connection to aiml-sandbox1.talentsprint.com:443.\n",
            "HTTP request sent, awaiting response... 200 OK\n",
            "Length: 90200 (88K) [application/octet-stream]\n",
            "Saving to: ‘./team_data/1_b23h3g08_1726833105.wav’\n",
            "\n",
            "1_b23h3g08_17268331 100%[===================>]  88.09K  --.-KB/s    in 0s      \n",
            "\n",
            "2024-09-20 20:36:41 (222 MB/s) - ‘./team_data/1_b23h3g08_1726833105.wav’ saved [90200/90200]\n",
            "\n",
            "--2024-09-20 20:36:41--  https://aiml-sandbox1.talentsprint.com/audio_recorder/b23h3g08/team_data/2_b23h3g08_1726782788.wav\n",
            "Reusing existing connection to aiml-sandbox1.talentsprint.com:443.\n",
            "HTTP request sent, awaiting response... 200 OK\n",
            "Length: 90200 (88K) [application/octet-stream]\n",
            "Saving to: ‘./team_data/2_b23h3g08_1726782788.wav’\n",
            "\n",
            "2_b23h3g08_17267827 100%[===================>]  88.09K  --.-KB/s    in 0s      \n",
            "\n",
            "2024-09-20 20:36:41 (225 MB/s) - ‘./team_data/2_b23h3g08_1726782788.wav’ saved [90200/90200]\n",
            "\n",
            "--2024-09-20 20:36:41--  https://aiml-sandbox1.talentsprint.com/audio_recorder/b23h3g08/team_data/2_b23h3g08_1726833107.wav\n",
            "Reusing existing connection to aiml-sandbox1.talentsprint.com:443.\n",
            "HTTP request sent, awaiting response... 200 OK\n",
            "Length: 82008 (80K) [application/octet-stream]\n",
            "Saving to: ‘./team_data/2_b23h3g08_1726833107.wav’\n",
            "\n",
            "2_b23h3g08_17268331 100%[===================>]  80.09K  --.-KB/s    in 0s      \n",
            "\n",
            "2024-09-20 20:36:41 (299 MB/s) - ‘./team_data/2_b23h3g08_1726833107.wav’ saved [82008/82008]\n",
            "\n",
            "--2024-09-20 20:36:41--  https://aiml-sandbox1.talentsprint.com/audio_recorder/b23h3g08/team_data/3_b23h3g08_1726782797.wav\n",
            "Reusing existing connection to aiml-sandbox1.talentsprint.com:443.\n",
            "HTTP request sent, awaiting response... 200 OK\n",
            "Length: 90200 (88K) [application/octet-stream]\n",
            "Saving to: ‘./team_data/3_b23h3g08_1726782797.wav’\n",
            "\n",
            "3_b23h3g08_17267827 100%[===================>]  88.09K  --.-KB/s    in 0.001s  \n",
            "\n",
            "2024-09-20 20:36:41 (140 MB/s) - ‘./team_data/3_b23h3g08_1726782797.wav’ saved [90200/90200]\n",
            "\n",
            "--2024-09-20 20:36:41--  https://aiml-sandbox1.talentsprint.com/audio_recorder/b23h3g08/team_data/3_b23h3g08_1726833109.wav\n",
            "Reusing existing connection to aiml-sandbox1.talentsprint.com:443.\n",
            "HTTP request sent, awaiting response... 200 OK\n",
            "Length: 90200 (88K) [application/octet-stream]\n",
            "Saving to: ‘./team_data/3_b23h3g08_1726833109.wav’\n",
            "\n",
            "3_b23h3g08_17268331 100%[===================>]  88.09K  --.-KB/s    in 0s      \n",
            "\n",
            "2024-09-20 20:36:42 (196 MB/s) - ‘./team_data/3_b23h3g08_1726833109.wav’ saved [90200/90200]\n",
            "\n",
            "--2024-09-20 20:36:42--  https://aiml-sandbox1.talentsprint.com/audio_recorder/b23h3g08/team_data/4_b23h3g08_1726782814.wav\n",
            "Reusing existing connection to aiml-sandbox1.talentsprint.com:443.\n",
            "HTTP request sent, awaiting response... 200 OK\n",
            "Length: 90200 (88K) [application/octet-stream]\n",
            "Saving to: ‘./team_data/4_b23h3g08_1726782814.wav’\n",
            "\n",
            "4_b23h3g08_17267828 100%[===================>]  88.09K  --.-KB/s    in 0.001s  \n",
            "\n",
            "2024-09-20 20:36:42 (169 MB/s) - ‘./team_data/4_b23h3g08_1726782814.wav’ saved [90200/90200]\n",
            "\n",
            "--2024-09-20 20:36:42--  https://aiml-sandbox1.talentsprint.com/audio_recorder/b23h3g08/team_data/4_b23h3g08_1726833112.wav\n",
            "Reusing existing connection to aiml-sandbox1.talentsprint.com:443.\n",
            "HTTP request sent, awaiting response... 200 OK\n",
            "Length: 90200 (88K) [application/octet-stream]\n",
            "Saving to: ‘./team_data/4_b23h3g08_1726833112.wav’\n",
            "\n",
            "4_b23h3g08_17268331 100%[===================>]  88.09K  --.-KB/s    in 0s      \n",
            "\n",
            "2024-09-20 20:36:42 (225 MB/s) - ‘./team_data/4_b23h3g08_1726833112.wav’ saved [90200/90200]\n",
            "\n",
            "--2024-09-20 20:36:42--  https://aiml-sandbox1.talentsprint.com/audio_recorder/b23h3g08/team_data/5_b23h3g08_1726782826.wav\n",
            "Reusing existing connection to aiml-sandbox1.talentsprint.com:443.\n",
            "HTTP request sent, awaiting response... 200 OK\n",
            "Length: 90200 (88K) [application/octet-stream]\n",
            "Saving to: ‘./team_data/5_b23h3g08_1726782826.wav’\n",
            "\n",
            "5_b23h3g08_17267828 100%[===================>]  88.09K  --.-KB/s    in 0s      \n",
            "\n",
            "2024-09-20 20:36:42 (254 MB/s) - ‘./team_data/5_b23h3g08_1726782826.wav’ saved [90200/90200]\n",
            "\n",
            "--2024-09-20 20:36:42--  https://aiml-sandbox1.talentsprint.com/audio_recorder/b23h3g08/team_data/5_b23h3g08_1726833114.wav\n",
            "Reusing existing connection to aiml-sandbox1.talentsprint.com:443.\n",
            "HTTP request sent, awaiting response... 200 OK\n",
            "Length: 82008 (80K) [application/octet-stream]\n",
            "Saving to: ‘./team_data/5_b23h3g08_1726833114.wav’\n",
            "\n",
            "5_b23h3g08_17268331 100%[===================>]  80.09K  --.-KB/s    in 0s      \n",
            "\n",
            "2024-09-20 20:36:43 (312 MB/s) - ‘./team_data/5_b23h3g08_1726833114.wav’ saved [82008/82008]\n",
            "\n",
            "FINISHED --2024-09-20 20:36:43--\n",
            "Total wall clock time: 5.1s\n",
            "Downloaded: 13 files, 1.0M in 0.6s (1.57 MB/s)\n"
          ]
        }
      ],
      "source": [
        "# Replace <YOUR_GROUP_ID> with your Username given in the lab\n",
        "!wget -r -A .wav https://aiml-sandbox1.talentsprint.com/audio_recorder/b23h3g08/team_data/ -nH --cut-dirs=100  -P ./team_data"
      ]
    },
    {
      "cell_type": "code",
      "execution_count": 118,
      "metadata": {
        "id": "2G17PFkgI02J"
      },
      "outputs": [],
      "source": [
        "# YOUR CODE HERE to Load data from teamdata folder for extracting all features and labels\n",
        "team_recorded_features, team_recorded_labels = load_data('./team_data/')"
      ]
    },
    {
      "cell_type": "code",
      "execution_count": 120,
      "metadata": {
        "id": "G_sh6DCbJKhg"
      },
      "outputs": [],
      "source": [
        "# Combine the features of all voice samples (studio_data and teamdata)\n",
        "# YOUR CODE HERE\n",
        "features = [*team_recorded_features,*studio_recorded_features]\n",
        "labels = [*team_recorded_labels, *studio_recorded_labels]"
      ]
    },
    {
      "cell_type": "code",
      "execution_count": 121,
      "metadata": {
        "id": "UcSfoU9hyst4"
      },
      "outputs": [],
      "source": [
        "# YOUR CODE HERE to split the combined features into train and test data (Hint: Use train_test_split)\n",
        "X_train, X_test, y_train, y_test = train_test_split(features, labels, test_size=0.2, random_state=42)"
      ]
    },
    {
      "cell_type": "code",
      "execution_count": 123,
      "metadata": {
        "id": "SQ8gSTYg1dSp"
      },
      "outputs": [],
      "source": [
        "# YOUR CODE HERE to load the dataset with DataLoader\n",
        "\n",
        "train_set = torch.utils.data.TensorDataset(torch.stack(X_train),torch.tensor(y_train))\n",
        "\n",
        "test_set = torch.utils.data.TensorDataset(torch.stack(X_test),torch.tensor(y_test))\n",
        "\n",
        "train_loader = DataLoader(train_set,batch_size=100,shuffle=True)\n",
        "test_loader = DataLoader(test_set,batch_size=100,shuffle=True)"
      ]
    },
    {
      "cell_type": "markdown",
      "metadata": {
        "id": "pSE9E9mDF7Az"
      },
      "source": [
        "### b) Classify and download the model (6 Marks)\n",
        "\n",
        "The goal here is to train and test your model on all voice samples collected in studio and team data\n",
        "\n",
        "**Evaluation Criteria:**\n",
        "* Refine your classifier (if needed)\n",
        "* Train your model on the extracted train data\n",
        "* Test your model on the extracted test data\n",
        "* Save and download the trained model\n",
        "\n",
        "### **Expected testing accuracy is above 80%**"
      ]
    },
    {
      "cell_type": "code",
      "execution_count": null,
      "metadata": {
        "id": "D1EtSEwDG-q4"
      },
      "outputs": [],
      "source": [
        "# YOUR CODE HERE for refining your classifier (if needed)"
      ]
    },
    {
      "cell_type": "code",
      "execution_count": 125,
      "metadata": {
        "id": "Nz0UbGJrz59Z",
        "colab": {
          "base_uri": "https://localhost:8080/"
        },
        "outputId": "1fddb341-ec9f-48e2-fb00-900fa434111d"
      },
      "outputs": [
        {
          "output_type": "stream",
          "name": "stdout",
          "text": [
            "Epoch [1/10], Loss: 0.2777, Accuracy: 92.17%\n",
            "Epoch [2/10], Loss: 0.1942, Accuracy: 93.86%\n",
            "Epoch [3/10], Loss: 0.1638, Accuracy: 95.02%\n",
            "Epoch [4/10], Loss: 0.1444, Accuracy: 95.77%\n",
            "Epoch [5/10], Loss: 0.1238, Accuracy: 96.43%\n",
            "Epoch [6/10], Loss: 0.1270, Accuracy: 95.83%\n",
            "Epoch [7/10], Loss: 0.1239, Accuracy: 96.40%\n",
            "Epoch [8/10], Loss: 0.1098, Accuracy: 96.65%\n",
            "Epoch [9/10], Loss: 0.0901, Accuracy: 97.24%\n",
            "Epoch [10/10], Loss: 0.0787, Accuracy: 97.37%\n"
          ]
        }
      ],
      "source": [
        "# YOUR CODE HERE to train your model\n",
        "trainModel(train_loader)\n",
        "# Record loss and accuracy of the train dataset"
      ]
    },
    {
      "cell_type": "code",
      "source": [
        "testModel(test_loader)"
      ],
      "metadata": {
        "colab": {
          "base_uri": "https://localhost:8080/"
        },
        "id": "3gWn3ab8NGYV",
        "outputId": "d9d3f5d4-0de6-4548-f742-3f025ca22ed8"
      },
      "execution_count": 127,
      "outputs": [
        {
          "output_type": "stream",
          "name": "stdout",
          "text": [
            "Test Accuracy: 96.37%\n"
          ]
        }
      ]
    },
    {
      "cell_type": "code",
      "execution_count": null,
      "metadata": {
        "id": "8CkqFppJ0Fha"
      },
      "outputs": [],
      "source": [
        "# YOUR CODE HERE to test your model"
      ]
    },
    {
      "cell_type": "markdown",
      "metadata": {
        "id": "snSilDehQcKv"
      },
      "source": [
        "**Save your trained model**\n",
        "\n",
        "* Save the state dictionary of the classifier (use pytorch only), It will be useful in\n",
        "integrating model to the web application\n",
        "\n",
        " [Hint](https://pytorch.org/tutorials/beginner/saving_loading_models.html)"
      ]
    },
    {
      "cell_type": "code",
      "execution_count": 128,
      "metadata": {
        "id": "HGiaYmCnQcKz"
      },
      "outputs": [],
      "source": [
        "### YOUR CODE HERE for saving the CNN model\n",
        "\n",
        "torch.save(model.state_dict(), \"dark_wing__team_model\")"
      ]
    },
    {
      "cell_type": "markdown",
      "metadata": {
        "id": "7TSFyHRFQcK1"
      },
      "source": [
        "Download your trained model using the code below\n",
        "* Give the path of model file to download through the browser"
      ]
    },
    {
      "cell_type": "code",
      "execution_count": 129,
      "metadata": {
        "id": "dF2kGMjAQcK2",
        "colab": {
          "base_uri": "https://localhost:8080/",
          "height": 17
        },
        "outputId": "d420c7d6-8357-4ba1-e324-e6b83e2758ee"
      },
      "outputs": [
        {
          "output_type": "display_data",
          "data": {
            "text/plain": [
              "<IPython.core.display.Javascript object>"
            ],
            "application/javascript": [
              "\n",
              "    async function download(id, filename, size) {\n",
              "      if (!google.colab.kernel.accessAllowed) {\n",
              "        return;\n",
              "      }\n",
              "      const div = document.createElement('div');\n",
              "      const label = document.createElement('label');\n",
              "      label.textContent = `Downloading \"${filename}\": `;\n",
              "      div.appendChild(label);\n",
              "      const progress = document.createElement('progress');\n",
              "      progress.max = size;\n",
              "      div.appendChild(progress);\n",
              "      document.body.appendChild(div);\n",
              "\n",
              "      const buffers = [];\n",
              "      let downloaded = 0;\n",
              "\n",
              "      const channel = await google.colab.kernel.comms.open(id);\n",
              "      // Send a message to notify the kernel that we're ready.\n",
              "      channel.send({})\n",
              "\n",
              "      for await (const message of channel.messages) {\n",
              "        // Send a message to notify the kernel that we're ready.\n",
              "        channel.send({})\n",
              "        if (message.buffers) {\n",
              "          for (const buffer of message.buffers) {\n",
              "            buffers.push(buffer);\n",
              "            downloaded += buffer.byteLength;\n",
              "            progress.value = downloaded;\n",
              "          }\n",
              "        }\n",
              "      }\n",
              "      const blob = new Blob(buffers, {type: 'application/binary'});\n",
              "      const a = document.createElement('a');\n",
              "      a.href = window.URL.createObjectURL(blob);\n",
              "      a.download = filename;\n",
              "      div.appendChild(a);\n",
              "      a.click();\n",
              "      div.remove();\n",
              "    }\n",
              "  "
            ]
          },
          "metadata": {}
        },
        {
          "output_type": "display_data",
          "data": {
            "text/plain": [
              "<IPython.core.display.Javascript object>"
            ],
            "application/javascript": [
              "download(\"download_bae0ed84-c7c3-4c26-97af-10a1b51ab6bb\", \"dark_wing__team_model\", 1964083)"
            ]
          },
          "metadata": {}
        }
      ],
      "source": [
        "from google.colab import files\n",
        "files.download('./dark_wing__team_model')"
      ]
    },
    {
      "cell_type": "markdown",
      "metadata": {
        "id": "AfhmbXkFx6is"
      },
      "source": [
        "### c) Deploy and evaluate your model trained on Studio Data + Team Data in the server (6 Marks).\n",
        "\n",
        "(This can be done on the day of the Hackathon once the login username and password provided by the mentors in the lab)\n",
        "\n",
        "Deploy your model on the server, check the hackathon document (2-Server Access and File transfer For Voice based e-commerce ordering.pdf) for details.\n",
        "\n",
        "To order product in user interface, go through the document (3-Hackathon_II Application Interface Documentation.pdf) for details.\n",
        "\n",
        "\n",
        "**Evaluation Criteria: Four consecutive utterances should be predicted correctly by the model**\n",
        "\n",
        "- There are two stages in the e-commerce ordering application    \n",
        "    - Ordering Product\n",
        "    - Selecting the e-commerce platform\n",
        "- If both the stages are cleared as per the evaluation criteria you will get\n",
        "complete marks Otherwise, you will see a reduction in the marks"
      ]
    },
    {
      "cell_type": "code",
      "execution_count": null,
      "metadata": {
        "id": "4kIo3R5hQnrh"
      },
      "outputs": [],
      "source": []
    }
  ],
  "metadata": {
    "colab": {
      "provenance": [],
      "include_colab_link": true
    },
    "kernelspec": {
      "display_name": "Python 3",
      "language": "python",
      "name": "python3"
    },
    "language_info": {
      "codemirror_mode": {
        "name": "ipython",
        "version": 3
      },
      "file_extension": ".py",
      "mimetype": "text/x-python",
      "name": "python",
      "nbconvert_exporter": "python",
      "pygments_lexer": "ipython3",
      "version": "3.5.0"
    }
  },
  "nbformat": 4,
  "nbformat_minor": 0
}